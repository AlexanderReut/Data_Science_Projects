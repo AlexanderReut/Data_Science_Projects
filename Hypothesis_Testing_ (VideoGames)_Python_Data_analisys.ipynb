{
 "cells": [
  {
   "cell_type": "markdown",
   "metadata": {},
   "source": [
    "### Содержание\n",
    "\n",
    "* [Вступление](#chapter0)\n",
    "* [1. Изучение общей информации из файлов данных](#chapter1)\n",
    "* [2. Подготовим данные](#chapter2)\n",
    "    * [2.1 Обработаем пропуски](#section_2_1)\n",
    "    * [2.2 Посчитаем суммарные продажи во всех регионах](#section_2_2)\n",
    "* [3. Исследовательский анализ данных](#chapter3)    \n",
    "    * [3.1 Проанализиуем распределение количества выпускаемых игр по годам](#section_3_1)\n",
    "    * [3.2 Проанализируем изменение продаж по платформам.](#section_3_2)    \n",
    "    * [3.3 Найдем какие платформы лидируют по продажам, растут или падают c 2014 по 2016](#section_3_3)\n",
    "    * [3.4 График «ящик с усами» по глобальным продажам игр в разбивке по платформам](#section_3_4)\n",
    "    * [3.5 Диграмма рессеивания и матрица корреляции.Влияние отзывов пользователей и критиков на продажи внутри одной популярной платформы(PS3)](#section_3_5)    \n",
    "    * [3.6 Влияние отзывов пользователей и критиков на продажи для всех платформ](#section_3_6)  \n",
    "    * [3.7 Общее распределение игр по жанрам, продажи](#section_3_7)    \n",
    "* [4. Составим портрет пользователя каждого региона](#chapter4)\n",
    "* [5. Проверка гипотез](#chapter5)\n",
    "    * [Гипотеза №1: Средние пользовательские рейтинги платформ Xbox One и PC одинаковые](#section_5_1)\n",
    "    * [Гипотеза №2: Средние пользовательские рейтинги жанров Action и Sports разные](#section_5_2)\n",
    "* [Общий вывод](#chapter6)    "
   ]
  },
  {
   "cell_type": "markdown",
   "metadata": {},
   "source": [
    "# Вступление <a class=\"anchor\" id=\"chapter0\"></a>"
   ]
  },
  {
   "cell_type": "markdown",
   "metadata": {},
   "source": [
    "   Проект выполняется для интернет-магазина «...», который продаёт по всему миру компьютерные игры. Из открытых источников доступны исторические данные о продажах игр, оценки пользователей и экспертов, жанры и платформы (например, Xbox или PlayStation). <br>\n",
    "   <br>\n",
    "   Нужно выявить определяющие успешность игры закономерности. Это позволит сделать ставку на потенциально популярный продукт и спланировать рекламные кампании. <br>\n",
    "   <br>\n",
    "   Имеются данные до 2016 года. Представим, что сейчас декабрь 2016 г., и планируется кампания на 2017-й. Нужно отработать принцип работы с данными. "
   ]
  },
  {
   "cell_type": "code",
   "execution_count": 1,
   "metadata": {},
   "outputs": [],
   "source": [
    "import pandas as pd\n",
    "import matplotlib.pyplot as plt\n",
    "%matplotlib inline\n",
    "import seaborn as sns\n",
    "from scipy import stats as st"
   ]
  },
  {
   "cell_type": "markdown",
   "metadata": {},
   "source": [
    "## 1. Изучение общей информации из файлов данных <a class=\"anchor\" id=\"chapter1\"></a>"
   ]
  },
  {
   "cell_type": "code",
   "execution_count": 2,
   "metadata": {
    "scrolled": false
   },
   "outputs": [
    {
     "name": "stdout",
     "output_type": "stream",
     "text": [
      "<class 'pandas.core.frame.DataFrame'>\n",
      "RangeIndex: 16715 entries, 0 to 16714\n",
      "Data columns (total 11 columns):\n",
      " #   Column           Non-Null Count  Dtype  \n",
      "---  ------           --------------  -----  \n",
      " 0   Name             16713 non-null  object \n",
      " 1   Platform         16715 non-null  object \n",
      " 2   Year_of_Release  16446 non-null  float64\n",
      " 3   Genre            16713 non-null  object \n",
      " 4   NA_sales         16715 non-null  float64\n",
      " 5   EU_sales         16715 non-null  float64\n",
      " 6   JP_sales         16715 non-null  float64\n",
      " 7   Other_sales      16715 non-null  float64\n",
      " 8   Critic_Score     8137 non-null   float64\n",
      " 9   User_Score       10014 non-null  object \n",
      " 10  Rating           9949 non-null   object \n",
      "dtypes: float64(6), object(5)\n",
      "memory usage: 1.4+ MB\n"
     ]
    },
    {
     "data": {
      "text/html": [
       "<div>\n",
       "<style scoped>\n",
       "    .dataframe tbody tr th:only-of-type {\n",
       "        vertical-align: middle;\n",
       "    }\n",
       "\n",
       "    .dataframe tbody tr th {\n",
       "        vertical-align: top;\n",
       "    }\n",
       "\n",
       "    .dataframe thead th {\n",
       "        text-align: right;\n",
       "    }\n",
       "</style>\n",
       "<table border=\"1\" class=\"dataframe\">\n",
       "  <thead>\n",
       "    <tr style=\"text-align: right;\">\n",
       "      <th></th>\n",
       "      <th>Name</th>\n",
       "      <th>Platform</th>\n",
       "      <th>Year_of_Release</th>\n",
       "      <th>Genre</th>\n",
       "      <th>NA_sales</th>\n",
       "      <th>EU_sales</th>\n",
       "      <th>JP_sales</th>\n",
       "      <th>Other_sales</th>\n",
       "      <th>Critic_Score</th>\n",
       "      <th>User_Score</th>\n",
       "      <th>Rating</th>\n",
       "    </tr>\n",
       "  </thead>\n",
       "  <tbody>\n",
       "    <tr>\n",
       "      <th>0</th>\n",
       "      <td>Wii Sports</td>\n",
       "      <td>Wii</td>\n",
       "      <td>2006.0</td>\n",
       "      <td>Sports</td>\n",
       "      <td>41.36</td>\n",
       "      <td>28.96</td>\n",
       "      <td>3.77</td>\n",
       "      <td>8.45</td>\n",
       "      <td>76.0</td>\n",
       "      <td>8</td>\n",
       "      <td>E</td>\n",
       "    </tr>\n",
       "    <tr>\n",
       "      <th>1</th>\n",
       "      <td>Super Mario Bros.</td>\n",
       "      <td>NES</td>\n",
       "      <td>1985.0</td>\n",
       "      <td>Platform</td>\n",
       "      <td>29.08</td>\n",
       "      <td>3.58</td>\n",
       "      <td>6.81</td>\n",
       "      <td>0.77</td>\n",
       "      <td>NaN</td>\n",
       "      <td>NaN</td>\n",
       "      <td>NaN</td>\n",
       "    </tr>\n",
       "    <tr>\n",
       "      <th>2</th>\n",
       "      <td>Mario Kart Wii</td>\n",
       "      <td>Wii</td>\n",
       "      <td>2008.0</td>\n",
       "      <td>Racing</td>\n",
       "      <td>15.68</td>\n",
       "      <td>12.76</td>\n",
       "      <td>3.79</td>\n",
       "      <td>3.29</td>\n",
       "      <td>82.0</td>\n",
       "      <td>8.3</td>\n",
       "      <td>E</td>\n",
       "    </tr>\n",
       "    <tr>\n",
       "      <th>3</th>\n",
       "      <td>Wii Sports Resort</td>\n",
       "      <td>Wii</td>\n",
       "      <td>2009.0</td>\n",
       "      <td>Sports</td>\n",
       "      <td>15.61</td>\n",
       "      <td>10.93</td>\n",
       "      <td>3.28</td>\n",
       "      <td>2.95</td>\n",
       "      <td>80.0</td>\n",
       "      <td>8</td>\n",
       "      <td>E</td>\n",
       "    </tr>\n",
       "    <tr>\n",
       "      <th>4</th>\n",
       "      <td>Pokemon Red/Pokemon Blue</td>\n",
       "      <td>GB</td>\n",
       "      <td>1996.0</td>\n",
       "      <td>Role-Playing</td>\n",
       "      <td>11.27</td>\n",
       "      <td>8.89</td>\n",
       "      <td>10.22</td>\n",
       "      <td>1.00</td>\n",
       "      <td>NaN</td>\n",
       "      <td>NaN</td>\n",
       "      <td>NaN</td>\n",
       "    </tr>\n",
       "  </tbody>\n",
       "</table>\n",
       "</div>"
      ],
      "text/plain": [
       "                       Name Platform  Year_of_Release         Genre  NA_sales  \\\n",
       "0                Wii Sports      Wii           2006.0        Sports     41.36   \n",
       "1         Super Mario Bros.      NES           1985.0      Platform     29.08   \n",
       "2            Mario Kart Wii      Wii           2008.0        Racing     15.68   \n",
       "3         Wii Sports Resort      Wii           2009.0        Sports     15.61   \n",
       "4  Pokemon Red/Pokemon Blue       GB           1996.0  Role-Playing     11.27   \n",
       "\n",
       "   EU_sales  JP_sales  Other_sales  Critic_Score User_Score Rating  \n",
       "0     28.96      3.77         8.45          76.0          8      E  \n",
       "1      3.58      6.81         0.77           NaN        NaN    NaN  \n",
       "2     12.76      3.79         3.29          82.0        8.3      E  \n",
       "3     10.93      3.28         2.95          80.0          8      E  \n",
       "4      8.89     10.22         1.00           NaN        NaN    NaN  "
      ]
     },
     "execution_count": 2,
     "metadata": {},
     "output_type": "execute_result"
    }
   ],
   "source": [
    "data = pd.read_csv('/datasets/games.csv')\n",
    "data.info()\n",
    "data.head()"
   ]
  },
  {
   "cell_type": "markdown",
   "metadata": {},
   "source": [
    "Вывод: <br> \n",
    "Данные содержат информацию по продажам игр с указанием названий игр, годом их выпуска, платформой, жанром и тд. <br>\n",
    "Необходимо поработать с типами данных, так как многие типы не соответствуют содержанию. <br>\n",
    "Кроме того, данные содержат много пропусков. <br>\n"
   ]
  },
  {
   "cell_type": "markdown",
   "metadata": {},
   "source": [
    "##  2. Подготовим данные <a class=\"anchor\" id=\"chapter2\"></a>"
   ]
  },
  {
   "cell_type": "code",
   "execution_count": null,
   "metadata": {},
   "outputs": [],
   "source": [
    "# Заменим названия столбцов (приведем к нижнему регистру)\n",
    "data.columns = data.columns.str.lower()\n",
    "\n",
    "# Преобразуем данные в нужные типы.\n",
    "# Преобразуем year_of_release в integer так как содержит информацию только о годе выпуска, а не полную дату\n",
    "data['year_of_release'] = data['year_of_release'].astype('Int64')\n",
    "# Изменим для столбца user_score тип данных на float64\n",
    "# так как столбец содержит tbd ячейки, заменим их на NaN, так как рейтинг пока не известен\n",
    "data['user_score'] = data['user_score'].replace('tbd', None) \n",
    "# теперь можем изменить тип данных столбца\n",
    "data['user_score'] = pd.to_numeric(data['user_score'], errors='raise')\n",
    "\n"
   ]
  },
  {
   "cell_type": "markdown",
   "metadata": {},
   "source": [
    "### 2.1 Обработаем пропуски <a class=\"anchor\" id=\"section_2_1\"></a>"
   ]
  },
  {
   "cell_type": "code",
   "execution_count": 6,
   "metadata": {},
   "outputs": [
    {
     "data": {
      "text/plain": [
       "name                  2\n",
       "platform              0\n",
       "year_of_release     269\n",
       "genre                 2\n",
       "na_sales              0\n",
       "eu_sales              0\n",
       "jp_sales              0\n",
       "other_sales           0\n",
       "critic_score       8578\n",
       "user_score         7955\n",
       "rating             6766\n",
       "dtype: int64"
      ]
     },
     "execution_count": 6,
     "metadata": {},
     "output_type": "execute_result"
    }
   ],
   "source": [
    "# Найдем пропуски\n",
    "data.isna().sum()"
   ]
  },
  {
   "cell_type": "markdown",
   "metadata": {},
   "source": [
    "- Пропусков в именах всего два, возможно удалились по техническим причинам. Поработаем с ними ниже(пункт 2.3.1)\n",
    "- Пропуски в оценках оставим NaN как есть, так как их нельзя взять у аналогичных игр. Пропуски в оценках возможно появились из-за малоизвестности игр и соответственно отсутствия оценок на официальных ресурсах.\n",
    "- Аббревиатуру 'tbd' в столбце с оценкой пользователей уже изменили на NaN в предыдущем вычислении(см. пункт 2.2.2)\n",
    "- Пропуски в year_of_release возможно появились из-за переноса выпуска игр, ниже поработаем с ними(пункт 2.3.2)"
   ]
  },
  {
   "cell_type": "markdown",
   "metadata": {},
   "source": [
    "#### 2.1.1 Работа со строками без наименования игр"
   ]
  },
  {
   "cell_type": "code",
   "execution_count": 7,
   "metadata": {
    "scrolled": true
   },
   "outputs": [
    {
     "data": {
      "text/html": [
       "<div>\n",
       "<style scoped>\n",
       "    .dataframe tbody tr th:only-of-type {\n",
       "        vertical-align: middle;\n",
       "    }\n",
       "\n",
       "    .dataframe tbody tr th {\n",
       "        vertical-align: top;\n",
       "    }\n",
       "\n",
       "    .dataframe thead th {\n",
       "        text-align: right;\n",
       "    }\n",
       "</style>\n",
       "<table border=\"1\" class=\"dataframe\">\n",
       "  <thead>\n",
       "    <tr style=\"text-align: right;\">\n",
       "      <th></th>\n",
       "      <th>name</th>\n",
       "      <th>platform</th>\n",
       "      <th>year_of_release</th>\n",
       "      <th>genre</th>\n",
       "      <th>na_sales</th>\n",
       "      <th>eu_sales</th>\n",
       "      <th>jp_sales</th>\n",
       "      <th>other_sales</th>\n",
       "      <th>critic_score</th>\n",
       "      <th>user_score</th>\n",
       "      <th>rating</th>\n",
       "    </tr>\n",
       "  </thead>\n",
       "  <tbody>\n",
       "    <tr>\n",
       "      <th>659</th>\n",
       "      <td>NaN</td>\n",
       "      <td>GEN</td>\n",
       "      <td>1993</td>\n",
       "      <td>NaN</td>\n",
       "      <td>1.78</td>\n",
       "      <td>0.53</td>\n",
       "      <td>0.00</td>\n",
       "      <td>0.08</td>\n",
       "      <td>NaN</td>\n",
       "      <td>NaN</td>\n",
       "      <td>NaN</td>\n",
       "    </tr>\n",
       "    <tr>\n",
       "      <th>14244</th>\n",
       "      <td>NaN</td>\n",
       "      <td>GEN</td>\n",
       "      <td>1993</td>\n",
       "      <td>NaN</td>\n",
       "      <td>0.00</td>\n",
       "      <td>0.00</td>\n",
       "      <td>0.03</td>\n",
       "      <td>0.00</td>\n",
       "      <td>NaN</td>\n",
       "      <td>NaN</td>\n",
       "      <td>NaN</td>\n",
       "    </tr>\n",
       "  </tbody>\n",
       "</table>\n",
       "</div>"
      ],
      "text/plain": [
       "      name platform  year_of_release genre  na_sales  eu_sales  jp_sales  \\\n",
       "659    NaN      GEN             1993   NaN      1.78      0.53      0.00   \n",
       "14244  NaN      GEN             1993   NaN      0.00      0.00      0.03   \n",
       "\n",
       "       other_sales  critic_score  user_score rating  \n",
       "659           0.08           NaN         NaN    NaN  \n",
       "14244         0.00           NaN         NaN    NaN  "
      ]
     },
     "metadata": {},
     "output_type": "display_data"
    },
    {
     "data": {
      "text/plain": [
       "name                  0\n",
       "platform              0\n",
       "year_of_release     269\n",
       "genre                 0\n",
       "na_sales              0\n",
       "eu_sales              0\n",
       "jp_sales              0\n",
       "other_sales           0\n",
       "critic_score       8576\n",
       "user_score         7953\n",
       "rating             6764\n",
       "dtype: int64"
      ]
     },
     "execution_count": 7,
     "metadata": {},
     "output_type": "execute_result"
    }
   ],
   "source": [
    "# Посмотрим внимательно на строки без наименования игр\n",
    "display(data.query('name != name')) # выведем строки без имени игр, используя свойство NaN, что NaN != NaN\n",
    "# эти строки практически не содержат информации, удалим их\n",
    "data = data.dropna(subset = ['name']).reset_index(drop=True)\n",
    "# проверим, что удалили все верно:\n",
    "data.isna().sum()"
   ]
  },
  {
   "cell_type": "markdown",
   "metadata": {},
   "source": [
    "#### 2.1.2 Работа со строками без года выпуска"
   ]
  },
  {
   "cell_type": "code",
   "execution_count": 8,
   "metadata": {},
   "outputs": [
    {
     "data": {
      "text/html": [
       "<div>\n",
       "<style scoped>\n",
       "    .dataframe tbody tr th:only-of-type {\n",
       "        vertical-align: middle;\n",
       "    }\n",
       "\n",
       "    .dataframe tbody tr th {\n",
       "        vertical-align: top;\n",
       "    }\n",
       "\n",
       "    .dataframe thead th {\n",
       "        text-align: right;\n",
       "    }\n",
       "</style>\n",
       "<table border=\"1\" class=\"dataframe\">\n",
       "  <thead>\n",
       "    <tr style=\"text-align: right;\">\n",
       "      <th></th>\n",
       "      <th>name</th>\n",
       "      <th>platform</th>\n",
       "      <th>year_of_release</th>\n",
       "      <th>genre</th>\n",
       "      <th>na_sales</th>\n",
       "      <th>eu_sales</th>\n",
       "      <th>jp_sales</th>\n",
       "      <th>other_sales</th>\n",
       "      <th>critic_score</th>\n",
       "      <th>user_score</th>\n",
       "      <th>rating</th>\n",
       "    </tr>\n",
       "  </thead>\n",
       "  <tbody>\n",
       "    <tr>\n",
       "      <th>183</th>\n",
       "      <td>Madden NFL 2004</td>\n",
       "      <td>PS2</td>\n",
       "      <td>&lt;NA&gt;</td>\n",
       "      <td>Sports</td>\n",
       "      <td>4.26</td>\n",
       "      <td>0.26</td>\n",
       "      <td>0.01</td>\n",
       "      <td>0.71</td>\n",
       "      <td>94.0</td>\n",
       "      <td>8.5</td>\n",
       "      <td>E</td>\n",
       "    </tr>\n",
       "    <tr>\n",
       "      <th>377</th>\n",
       "      <td>FIFA Soccer 2004</td>\n",
       "      <td>PS2</td>\n",
       "      <td>&lt;NA&gt;</td>\n",
       "      <td>Sports</td>\n",
       "      <td>0.59</td>\n",
       "      <td>2.36</td>\n",
       "      <td>0.04</td>\n",
       "      <td>0.51</td>\n",
       "      <td>84.0</td>\n",
       "      <td>6.4</td>\n",
       "      <td>E</td>\n",
       "    </tr>\n",
       "    <tr>\n",
       "      <th>475</th>\n",
       "      <td>wwe Smackdown vs. Raw 2006</td>\n",
       "      <td>PS2</td>\n",
       "      <td>&lt;NA&gt;</td>\n",
       "      <td>Fighting</td>\n",
       "      <td>1.57</td>\n",
       "      <td>1.02</td>\n",
       "      <td>0.00</td>\n",
       "      <td>0.41</td>\n",
       "      <td>NaN</td>\n",
       "      <td>NaN</td>\n",
       "      <td>NaN</td>\n",
       "    </tr>\n",
       "    <tr>\n",
       "      <th>1649</th>\n",
       "      <td>NASCAR Thunder 2003</td>\n",
       "      <td>PS2</td>\n",
       "      <td>&lt;NA&gt;</td>\n",
       "      <td>Racing</td>\n",
       "      <td>0.60</td>\n",
       "      <td>0.46</td>\n",
       "      <td>0.00</td>\n",
       "      <td>0.16</td>\n",
       "      <td>84.0</td>\n",
       "      <td>8.7</td>\n",
       "      <td>E</td>\n",
       "    </tr>\n",
       "    <tr>\n",
       "      <th>2491</th>\n",
       "      <td>MLB SlugFest 20-03</td>\n",
       "      <td>PS2</td>\n",
       "      <td>&lt;NA&gt;</td>\n",
       "      <td>Sports</td>\n",
       "      <td>0.41</td>\n",
       "      <td>0.32</td>\n",
       "      <td>0.00</td>\n",
       "      <td>0.11</td>\n",
       "      <td>77.0</td>\n",
       "      <td>8.2</td>\n",
       "      <td>E</td>\n",
       "    </tr>\n",
       "    <tr>\n",
       "      <th>2571</th>\n",
       "      <td>PES 2009: Pro Evolution Soccer</td>\n",
       "      <td>PSP</td>\n",
       "      <td>&lt;NA&gt;</td>\n",
       "      <td>Sports</td>\n",
       "      <td>0.04</td>\n",
       "      <td>0.33</td>\n",
       "      <td>0.26</td>\n",
       "      <td>0.17</td>\n",
       "      <td>NaN</td>\n",
       "      <td>NaN</td>\n",
       "      <td>NaN</td>\n",
       "    </tr>\n",
       "    <tr>\n",
       "      <th>3485</th>\n",
       "      <td>Madden NFL 2002</td>\n",
       "      <td>XB</td>\n",
       "      <td>&lt;NA&gt;</td>\n",
       "      <td>Sports</td>\n",
       "      <td>0.53</td>\n",
       "      <td>0.02</td>\n",
       "      <td>0.00</td>\n",
       "      <td>0.03</td>\n",
       "      <td>90.0</td>\n",
       "      <td>8.1</td>\n",
       "      <td>E</td>\n",
       "    </tr>\n",
       "    <tr>\n",
       "      <th>4774</th>\n",
       "      <td>NFL GameDay 2003</td>\n",
       "      <td>PS2</td>\n",
       "      <td>&lt;NA&gt;</td>\n",
       "      <td>Sports</td>\n",
       "      <td>0.20</td>\n",
       "      <td>0.15</td>\n",
       "      <td>0.00</td>\n",
       "      <td>0.05</td>\n",
       "      <td>60.0</td>\n",
       "      <td>7.8</td>\n",
       "      <td>E</td>\n",
       "    </tr>\n",
       "    <tr>\n",
       "      <th>5155</th>\n",
       "      <td>NBA Live 2003</td>\n",
       "      <td>XB</td>\n",
       "      <td>&lt;NA&gt;</td>\n",
       "      <td>Sports</td>\n",
       "      <td>0.31</td>\n",
       "      <td>0.04</td>\n",
       "      <td>0.00</td>\n",
       "      <td>0.01</td>\n",
       "      <td>82.0</td>\n",
       "      <td>8.8</td>\n",
       "      <td>E</td>\n",
       "    </tr>\n",
       "    <tr>\n",
       "      <th>5335</th>\n",
       "      <td>Tomb Raider (2013)</td>\n",
       "      <td>PC</td>\n",
       "      <td>&lt;NA&gt;</td>\n",
       "      <td>Action</td>\n",
       "      <td>0.06</td>\n",
       "      <td>0.25</td>\n",
       "      <td>0.00</td>\n",
       "      <td>0.04</td>\n",
       "      <td>86.0</td>\n",
       "      <td>8.5</td>\n",
       "      <td>M</td>\n",
       "    </tr>\n",
       "    <tr>\n",
       "      <th>5654</th>\n",
       "      <td>All-Star Baseball 2005</td>\n",
       "      <td>PS2</td>\n",
       "      <td>&lt;NA&gt;</td>\n",
       "      <td>Sports</td>\n",
       "      <td>0.16</td>\n",
       "      <td>0.12</td>\n",
       "      <td>0.00</td>\n",
       "      <td>0.04</td>\n",
       "      <td>72.0</td>\n",
       "      <td>8.6</td>\n",
       "      <td>E</td>\n",
       "    </tr>\n",
       "    <tr>\n",
       "      <th>5888</th>\n",
       "      <td>NBA Live 2003</td>\n",
       "      <td>GC</td>\n",
       "      <td>&lt;NA&gt;</td>\n",
       "      <td>Sports</td>\n",
       "      <td>0.23</td>\n",
       "      <td>0.06</td>\n",
       "      <td>0.00</td>\n",
       "      <td>0.01</td>\n",
       "      <td>82.0</td>\n",
       "      <td>8.2</td>\n",
       "      <td>E</td>\n",
       "    </tr>\n",
       "    <tr>\n",
       "      <th>6953</th>\n",
       "      <td>Jet X20</td>\n",
       "      <td>PS2</td>\n",
       "      <td>&lt;NA&gt;</td>\n",
       "      <td>Racing</td>\n",
       "      <td>0.11</td>\n",
       "      <td>0.09</td>\n",
       "      <td>0.00</td>\n",
       "      <td>0.03</td>\n",
       "      <td>NaN</td>\n",
       "      <td>NaN</td>\n",
       "      <td>NaN</td>\n",
       "    </tr>\n",
       "    <tr>\n",
       "      <th>8917</th>\n",
       "      <td>All-Star Baseball 2005</td>\n",
       "      <td>XB</td>\n",
       "      <td>&lt;NA&gt;</td>\n",
       "      <td>Sports</td>\n",
       "      <td>0.11</td>\n",
       "      <td>0.03</td>\n",
       "      <td>0.00</td>\n",
       "      <td>0.01</td>\n",
       "      <td>75.0</td>\n",
       "      <td>8.8</td>\n",
       "      <td>E</td>\n",
       "    </tr>\n",
       "    <tr>\n",
       "      <th>13194</th>\n",
       "      <td>Tour de France 2011</td>\n",
       "      <td>X360</td>\n",
       "      <td>&lt;NA&gt;</td>\n",
       "      <td>Racing</td>\n",
       "      <td>0.00</td>\n",
       "      <td>0.04</td>\n",
       "      <td>0.00</td>\n",
       "      <td>0.01</td>\n",
       "      <td>46.0</td>\n",
       "      <td>7.6</td>\n",
       "      <td>NaN</td>\n",
       "    </tr>\n",
       "    <tr>\n",
       "      <th>13928</th>\n",
       "      <td>Sega Rally 2006</td>\n",
       "      <td>PS2</td>\n",
       "      <td>&lt;NA&gt;</td>\n",
       "      <td>Racing</td>\n",
       "      <td>0.00</td>\n",
       "      <td>0.00</td>\n",
       "      <td>0.04</td>\n",
       "      <td>0.00</td>\n",
       "      <td>NaN</td>\n",
       "      <td>NaN</td>\n",
       "      <td>NaN</td>\n",
       "    </tr>\n",
       "    <tr>\n",
       "      <th>15951</th>\n",
       "      <td>PDC World Championship Darts 2008</td>\n",
       "      <td>DS</td>\n",
       "      <td>&lt;NA&gt;</td>\n",
       "      <td>Sports</td>\n",
       "      <td>0.01</td>\n",
       "      <td>0.00</td>\n",
       "      <td>0.00</td>\n",
       "      <td>0.00</td>\n",
       "      <td>NaN</td>\n",
       "      <td>NaN</td>\n",
       "      <td>NaN</td>\n",
       "    </tr>\n",
       "    <tr>\n",
       "      <th>16077</th>\n",
       "      <td>Football Manager 2007</td>\n",
       "      <td>X360</td>\n",
       "      <td>&lt;NA&gt;</td>\n",
       "      <td>Sports</td>\n",
       "      <td>0.00</td>\n",
       "      <td>0.01</td>\n",
       "      <td>0.00</td>\n",
       "      <td>0.00</td>\n",
       "      <td>NaN</td>\n",
       "      <td>NaN</td>\n",
       "      <td>NaN</td>\n",
       "    </tr>\n",
       "    <tr>\n",
       "      <th>16371</th>\n",
       "      <td>PDC World Championship Darts 2008</td>\n",
       "      <td>PSP</td>\n",
       "      <td>&lt;NA&gt;</td>\n",
       "      <td>Sports</td>\n",
       "      <td>0.01</td>\n",
       "      <td>0.00</td>\n",
       "      <td>0.00</td>\n",
       "      <td>0.00</td>\n",
       "      <td>43.0</td>\n",
       "      <td>NaN</td>\n",
       "      <td>E10+</td>\n",
       "    </tr>\n",
       "  </tbody>\n",
       "</table>\n",
       "</div>"
      ],
      "text/plain": [
       "                                    name platform  year_of_release     genre  \\\n",
       "183                      Madden NFL 2004      PS2             <NA>    Sports   \n",
       "377                     FIFA Soccer 2004      PS2             <NA>    Sports   \n",
       "475           wwe Smackdown vs. Raw 2006      PS2             <NA>  Fighting   \n",
       "1649                 NASCAR Thunder 2003      PS2             <NA>    Racing   \n",
       "2491                  MLB SlugFest 20-03      PS2             <NA>    Sports   \n",
       "2571      PES 2009: Pro Evolution Soccer      PSP             <NA>    Sports   \n",
       "3485                     Madden NFL 2002       XB             <NA>    Sports   \n",
       "4774                    NFL GameDay 2003      PS2             <NA>    Sports   \n",
       "5155                       NBA Live 2003       XB             <NA>    Sports   \n",
       "5335                  Tomb Raider (2013)       PC             <NA>    Action   \n",
       "5654              All-Star Baseball 2005      PS2             <NA>    Sports   \n",
       "5888                       NBA Live 2003       GC             <NA>    Sports   \n",
       "6953                             Jet X20      PS2             <NA>    Racing   \n",
       "8917              All-Star Baseball 2005       XB             <NA>    Sports   \n",
       "13194                Tour de France 2011     X360             <NA>    Racing   \n",
       "13928                    Sega Rally 2006      PS2             <NA>    Racing   \n",
       "15951  PDC World Championship Darts 2008       DS             <NA>    Sports   \n",
       "16077              Football Manager 2007     X360             <NA>    Sports   \n",
       "16371  PDC World Championship Darts 2008      PSP             <NA>    Sports   \n",
       "\n",
       "       na_sales  eu_sales  jp_sales  other_sales  critic_score  user_score  \\\n",
       "183        4.26      0.26      0.01         0.71          94.0         8.5   \n",
       "377        0.59      2.36      0.04         0.51          84.0         6.4   \n",
       "475        1.57      1.02      0.00         0.41           NaN         NaN   \n",
       "1649       0.60      0.46      0.00         0.16          84.0         8.7   \n",
       "2491       0.41      0.32      0.00         0.11          77.0         8.2   \n",
       "2571       0.04      0.33      0.26         0.17           NaN         NaN   \n",
       "3485       0.53      0.02      0.00         0.03          90.0         8.1   \n",
       "4774       0.20      0.15      0.00         0.05          60.0         7.8   \n",
       "5155       0.31      0.04      0.00         0.01          82.0         8.8   \n",
       "5335       0.06      0.25      0.00         0.04          86.0         8.5   \n",
       "5654       0.16      0.12      0.00         0.04          72.0         8.6   \n",
       "5888       0.23      0.06      0.00         0.01          82.0         8.2   \n",
       "6953       0.11      0.09      0.00         0.03           NaN         NaN   \n",
       "8917       0.11      0.03      0.00         0.01          75.0         8.8   \n",
       "13194      0.00      0.04      0.00         0.01          46.0         7.6   \n",
       "13928      0.00      0.00      0.04         0.00           NaN         NaN   \n",
       "15951      0.01      0.00      0.00         0.00           NaN         NaN   \n",
       "16077      0.00      0.01      0.00         0.00           NaN         NaN   \n",
       "16371      0.01      0.00      0.00         0.00          43.0         NaN   \n",
       "\n",
       "      rating  \n",
       "183        E  \n",
       "377        E  \n",
       "475      NaN  \n",
       "1649       E  \n",
       "2491       E  \n",
       "2571     NaN  \n",
       "3485       E  \n",
       "4774       E  \n",
       "5155       E  \n",
       "5335       M  \n",
       "5654       E  \n",
       "5888       E  \n",
       "6953     NaN  \n",
       "8917       E  \n",
       "13194    NaN  \n",
       "13928    NaN  \n",
       "15951    NaN  \n",
       "16077    NaN  \n",
       "16371   E10+  "
      ]
     },
     "execution_count": 8,
     "metadata": {},
     "output_type": "execute_result"
    }
   ],
   "source": [
    "# Заполним пропуски, где возможно в year_of_release следующим образом:\n",
    "# Заметим, что некоторые игры содержат год в названии \n",
    "data[\n",
    "    (data['year_of_release'].isnull() == True) & #выбираем те игры, где пропуск в year_of_release\n",
    "    (data['name'].str.contains('20')) # и которые содержат '20', что подразумевает с большой вероятностью двухтысячный год\n",
    "]"
   ]
  },
  {
   "cell_type": "code",
   "execution_count": 9,
   "metadata": {},
   "outputs": [
    {
     "data": {
      "text/html": [
       "<div>\n",
       "<style scoped>\n",
       "    .dataframe tbody tr th:only-of-type {\n",
       "        vertical-align: middle;\n",
       "    }\n",
       "\n",
       "    .dataframe tbody tr th {\n",
       "        vertical-align: top;\n",
       "    }\n",
       "\n",
       "    .dataframe thead th {\n",
       "        text-align: right;\n",
       "    }\n",
       "</style>\n",
       "<table border=\"1\" class=\"dataframe\">\n",
       "  <thead>\n",
       "    <tr style=\"text-align: right;\">\n",
       "      <th></th>\n",
       "      <th>name</th>\n",
       "      <th>year_of_release</th>\n",
       "    </tr>\n",
       "  </thead>\n",
       "  <tbody>\n",
       "    <tr>\n",
       "      <th>183</th>\n",
       "      <td>Madden NFL 2004</td>\n",
       "      <td>&lt;NA&gt;</td>\n",
       "    </tr>\n",
       "    <tr>\n",
       "      <th>377</th>\n",
       "      <td>FIFA Soccer 2004</td>\n",
       "      <td>&lt;NA&gt;</td>\n",
       "    </tr>\n",
       "    <tr>\n",
       "      <th>475</th>\n",
       "      <td>wwe Smackdown vs. Raw 2006</td>\n",
       "      <td>&lt;NA&gt;</td>\n",
       "    </tr>\n",
       "    <tr>\n",
       "      <th>1649</th>\n",
       "      <td>NASCAR Thunder 2003</td>\n",
       "      <td>&lt;NA&gt;</td>\n",
       "    </tr>\n",
       "    <tr>\n",
       "      <th>2491</th>\n",
       "      <td>MLB SlugFest 20-03</td>\n",
       "      <td>&lt;NA&gt;</td>\n",
       "    </tr>\n",
       "    <tr>\n",
       "      <th>2571</th>\n",
       "      <td>PES 2009: Pro Evolution Soccer</td>\n",
       "      <td>&lt;NA&gt;</td>\n",
       "    </tr>\n",
       "    <tr>\n",
       "      <th>3485</th>\n",
       "      <td>Madden NFL 2002</td>\n",
       "      <td>&lt;NA&gt;</td>\n",
       "    </tr>\n",
       "    <tr>\n",
       "      <th>4774</th>\n",
       "      <td>NFL GameDay 2003</td>\n",
       "      <td>&lt;NA&gt;</td>\n",
       "    </tr>\n",
       "    <tr>\n",
       "      <th>5155</th>\n",
       "      <td>NBA Live 2003</td>\n",
       "      <td>&lt;NA&gt;</td>\n",
       "    </tr>\n",
       "    <tr>\n",
       "      <th>5335</th>\n",
       "      <td>Tomb Raider (2013)</td>\n",
       "      <td>&lt;NA&gt;</td>\n",
       "    </tr>\n",
       "    <tr>\n",
       "      <th>5654</th>\n",
       "      <td>All-Star Baseball 2005</td>\n",
       "      <td>&lt;NA&gt;</td>\n",
       "    </tr>\n",
       "    <tr>\n",
       "      <th>5888</th>\n",
       "      <td>NBA Live 2003</td>\n",
       "      <td>&lt;NA&gt;</td>\n",
       "    </tr>\n",
       "    <tr>\n",
       "      <th>6953</th>\n",
       "      <td>Jet X20</td>\n",
       "      <td>&lt;NA&gt;</td>\n",
       "    </tr>\n",
       "    <tr>\n",
       "      <th>8917</th>\n",
       "      <td>All-Star Baseball 2005</td>\n",
       "      <td>&lt;NA&gt;</td>\n",
       "    </tr>\n",
       "    <tr>\n",
       "      <th>13194</th>\n",
       "      <td>Tour de France 2011</td>\n",
       "      <td>&lt;NA&gt;</td>\n",
       "    </tr>\n",
       "    <tr>\n",
       "      <th>13928</th>\n",
       "      <td>Sega Rally 2006</td>\n",
       "      <td>&lt;NA&gt;</td>\n",
       "    </tr>\n",
       "    <tr>\n",
       "      <th>15951</th>\n",
       "      <td>PDC World Championship Darts 2008</td>\n",
       "      <td>&lt;NA&gt;</td>\n",
       "    </tr>\n",
       "    <tr>\n",
       "      <th>16077</th>\n",
       "      <td>Football Manager 2007</td>\n",
       "      <td>&lt;NA&gt;</td>\n",
       "    </tr>\n",
       "    <tr>\n",
       "      <th>16371</th>\n",
       "      <td>PDC World Championship Darts 2008</td>\n",
       "      <td>&lt;NA&gt;</td>\n",
       "    </tr>\n",
       "  </tbody>\n",
       "</table>\n",
       "</div>"
      ],
      "text/plain": [
       "                                    name  year_of_release\n",
       "183                      Madden NFL 2004             <NA>\n",
       "377                     FIFA Soccer 2004             <NA>\n",
       "475           wwe Smackdown vs. Raw 2006             <NA>\n",
       "1649                 NASCAR Thunder 2003             <NA>\n",
       "2491                  MLB SlugFest 20-03             <NA>\n",
       "2571      PES 2009: Pro Evolution Soccer             <NA>\n",
       "3485                     Madden NFL 2002             <NA>\n",
       "4774                    NFL GameDay 2003             <NA>\n",
       "5155                       NBA Live 2003             <NA>\n",
       "5335                  Tomb Raider (2013)             <NA>\n",
       "5654              All-Star Baseball 2005             <NA>\n",
       "5888                       NBA Live 2003             <NA>\n",
       "6953                             Jet X20             <NA>\n",
       "8917              All-Star Baseball 2005             <NA>\n",
       "13194                Tour de France 2011             <NA>\n",
       "13928                    Sega Rally 2006             <NA>\n",
       "15951  PDC World Championship Darts 2008             <NA>\n",
       "16077              Football Manager 2007             <NA>\n",
       "16371  PDC World Championship Darts 2008             <NA>"
      ]
     },
     "execution_count": 9,
     "metadata": {},
     "output_type": "execute_result"
    }
   ],
   "source": [
    "# Возьмем год выпуска игр, где возможно из названия игр\n",
    "# Для этого создадим таблицу с такими играми\n",
    "game_names_with_year_in_names = data[\n",
    "    (data['year_of_release'].isnull() == True) & \n",
    "    (data['name'].str.contains('20')) \n",
    "][['name', 'year_of_release']] \n",
    "\n",
    "game_names_with_year_in_names"
   ]
  },
  {
   "cell_type": "code",
   "execution_count": 10,
   "metadata": {
    "scrolled": false
   },
   "outputs": [
    {
     "data": {
      "text/html": [
       "<div>\n",
       "<style scoped>\n",
       "    .dataframe tbody tr th:only-of-type {\n",
       "        vertical-align: middle;\n",
       "    }\n",
       "\n",
       "    .dataframe tbody tr th {\n",
       "        vertical-align: top;\n",
       "    }\n",
       "\n",
       "    .dataframe thead th {\n",
       "        text-align: right;\n",
       "    }\n",
       "</style>\n",
       "<table border=\"1\" class=\"dataframe\">\n",
       "  <thead>\n",
       "    <tr style=\"text-align: right;\">\n",
       "      <th></th>\n",
       "      <th>name</th>\n",
       "      <th>year_of_release</th>\n",
       "      <th>year_of_release_exp</th>\n",
       "    </tr>\n",
       "  </thead>\n",
       "  <tbody>\n",
       "    <tr>\n",
       "      <th>183</th>\n",
       "      <td>Madden NFL 2004</td>\n",
       "      <td>&lt;NA&gt;</td>\n",
       "      <td>2004.0</td>\n",
       "    </tr>\n",
       "    <tr>\n",
       "      <th>377</th>\n",
       "      <td>FIFA Soccer 2004</td>\n",
       "      <td>&lt;NA&gt;</td>\n",
       "      <td>2004.0</td>\n",
       "    </tr>\n",
       "    <tr>\n",
       "      <th>475</th>\n",
       "      <td>wwe Smackdown vs. Raw 2006</td>\n",
       "      <td>&lt;NA&gt;</td>\n",
       "      <td>2006.0</td>\n",
       "    </tr>\n",
       "    <tr>\n",
       "      <th>1649</th>\n",
       "      <td>NASCAR Thunder 2003</td>\n",
       "      <td>&lt;NA&gt;</td>\n",
       "      <td>2003.0</td>\n",
       "    </tr>\n",
       "    <tr>\n",
       "      <th>2491</th>\n",
       "      <td>MLB SlugFest 20-03</td>\n",
       "      <td>&lt;NA&gt;</td>\n",
       "      <td>NaN</td>\n",
       "    </tr>\n",
       "    <tr>\n",
       "      <th>2571</th>\n",
       "      <td>PES 2009: Pro Evolution Soccer</td>\n",
       "      <td>&lt;NA&gt;</td>\n",
       "      <td>2009.0</td>\n",
       "    </tr>\n",
       "    <tr>\n",
       "      <th>3485</th>\n",
       "      <td>Madden NFL 2002</td>\n",
       "      <td>&lt;NA&gt;</td>\n",
       "      <td>2002.0</td>\n",
       "    </tr>\n",
       "    <tr>\n",
       "      <th>4774</th>\n",
       "      <td>NFL GameDay 2003</td>\n",
       "      <td>&lt;NA&gt;</td>\n",
       "      <td>2003.0</td>\n",
       "    </tr>\n",
       "    <tr>\n",
       "      <th>5155</th>\n",
       "      <td>NBA Live 2003</td>\n",
       "      <td>&lt;NA&gt;</td>\n",
       "      <td>2003.0</td>\n",
       "    </tr>\n",
       "    <tr>\n",
       "      <th>5335</th>\n",
       "      <td>Tomb Raider (2013)</td>\n",
       "      <td>&lt;NA&gt;</td>\n",
       "      <td>2013.0</td>\n",
       "    </tr>\n",
       "    <tr>\n",
       "      <th>5654</th>\n",
       "      <td>All-Star Baseball 2005</td>\n",
       "      <td>&lt;NA&gt;</td>\n",
       "      <td>2005.0</td>\n",
       "    </tr>\n",
       "    <tr>\n",
       "      <th>5888</th>\n",
       "      <td>NBA Live 2003</td>\n",
       "      <td>&lt;NA&gt;</td>\n",
       "      <td>2003.0</td>\n",
       "    </tr>\n",
       "    <tr>\n",
       "      <th>6953</th>\n",
       "      <td>Jet X20</td>\n",
       "      <td>&lt;NA&gt;</td>\n",
       "      <td>NaN</td>\n",
       "    </tr>\n",
       "    <tr>\n",
       "      <th>8917</th>\n",
       "      <td>All-Star Baseball 2005</td>\n",
       "      <td>&lt;NA&gt;</td>\n",
       "      <td>2005.0</td>\n",
       "    </tr>\n",
       "    <tr>\n",
       "      <th>13194</th>\n",
       "      <td>Tour de France 2011</td>\n",
       "      <td>&lt;NA&gt;</td>\n",
       "      <td>2011.0</td>\n",
       "    </tr>\n",
       "    <tr>\n",
       "      <th>13928</th>\n",
       "      <td>Sega Rally 2006</td>\n",
       "      <td>&lt;NA&gt;</td>\n",
       "      <td>2006.0</td>\n",
       "    </tr>\n",
       "    <tr>\n",
       "      <th>15951</th>\n",
       "      <td>PDC World Championship Darts 2008</td>\n",
       "      <td>&lt;NA&gt;</td>\n",
       "      <td>2008.0</td>\n",
       "    </tr>\n",
       "    <tr>\n",
       "      <th>16077</th>\n",
       "      <td>Football Manager 2007</td>\n",
       "      <td>&lt;NA&gt;</td>\n",
       "      <td>2007.0</td>\n",
       "    </tr>\n",
       "    <tr>\n",
       "      <th>16371</th>\n",
       "      <td>PDC World Championship Darts 2008</td>\n",
       "      <td>&lt;NA&gt;</td>\n",
       "      <td>2008.0</td>\n",
       "    </tr>\n",
       "  </tbody>\n",
       "</table>\n",
       "</div>"
      ],
      "text/plain": [
       "                                    name  year_of_release  year_of_release_exp\n",
       "183                      Madden NFL 2004             <NA>               2004.0\n",
       "377                     FIFA Soccer 2004             <NA>               2004.0\n",
       "475           wwe Smackdown vs. Raw 2006             <NA>               2006.0\n",
       "1649                 NASCAR Thunder 2003             <NA>               2003.0\n",
       "2491                  MLB SlugFest 20-03             <NA>                  NaN\n",
       "2571      PES 2009: Pro Evolution Soccer             <NA>               2009.0\n",
       "3485                     Madden NFL 2002             <NA>               2002.0\n",
       "4774                    NFL GameDay 2003             <NA>               2003.0\n",
       "5155                       NBA Live 2003             <NA>               2003.0\n",
       "5335                  Tomb Raider (2013)             <NA>               2013.0\n",
       "5654              All-Star Baseball 2005             <NA>               2005.0\n",
       "5888                       NBA Live 2003             <NA>               2003.0\n",
       "6953                             Jet X20             <NA>                  NaN\n",
       "8917              All-Star Baseball 2005             <NA>               2005.0\n",
       "13194                Tour de France 2011             <NA>               2011.0\n",
       "13928                    Sega Rally 2006             <NA>               2006.0\n",
       "15951  PDC World Championship Darts 2008             <NA>               2008.0\n",
       "16077              Football Manager 2007             <NA>               2007.0\n",
       "16371  PDC World Championship Darts 2008             <NA>               2008.0"
      ]
     },
     "execution_count": 10,
     "metadata": {},
     "output_type": "execute_result"
    }
   ],
   "source": [
    "# Добавим столбец с предполагаемым годом выпуска 'year_of_release_exp' в эту таблицу.\n",
    "\n",
    "# Для этого сначала создадим функцию поиска и 'вычленения' года 20хх в наименовании игры\n",
    "def year_in_name(name):\n",
    "    if '20' in name:\n",
    "        year_exp = name[\n",
    "            name.find('20'):\n",
    "            name.find('20') + 4]\n",
    "        try:\n",
    "            year_exp = int(year_exp)   # проверка, что все 4 знака являются цифрами, и нет букв/символов среди них\n",
    "            if 2000 < year_exp < 2017:  # проверка, что год в заданном промежутке\n",
    "                return year_exp\n",
    "        except:\n",
    "            pass\n",
    "\n",
    "\n",
    "#Добавим столбец с предполагаемым годом выпуска 'year_of_release_exp' используя созданную функцию в созданную таблицу  \n",
    "game_names_with_year_in_names['year_of_release_exp'] = game_names_with_year_in_names['name'].apply(year_in_name)\n",
    "#game_names_with_year_in_names = game_names_with_year_in_names.reset_index()\n",
    "game_names_with_year_in_names\n"
   ]
  },
  {
   "cell_type": "code",
   "execution_count": 11,
   "metadata": {},
   "outputs": [],
   "source": [
    "# Добавим столбец 'year_of_release_exp' в общую таблицу data.\n",
    "data = data.join(game_names_with_year_in_names['year_of_release_exp'])\n",
    "# и наконец скопируем из соданного нами столбца в столбец year_of_release значения из созданного столбца 'year_of_release_exp'\n",
    "data['year_of_release'] = data['year_of_release_exp'].where(\n",
    "    data['year_of_release_exp'].isnull() == False, # заменяем теми значениями, что не NaN\n",
    "    data['year_of_release']) # иначе оставляем как есть\n",
    "\n",
    "\n",
    "# удалим столбец 'year_of_release_exp', больше он нам не понадобится\n",
    "data = data.drop(columns='year_of_release_exp')"
   ]
  },
  {
   "cell_type": "markdown",
   "metadata": {},
   "source": [
    "#### 2.1.3 Работа со строками без рейтинга"
   ]
  },
  {
   "cell_type": "code",
   "execution_count": 12,
   "metadata": {},
   "outputs": [],
   "source": [
    "# Заменим пропуски в Rating на unknown\n",
    "data['rating'] = data['rating'].fillna('unknown')"
   ]
  },
  {
   "cell_type": "markdown",
   "metadata": {},
   "source": [
    "### 2.2 Посчитаем суммарные продажи во всех регионах и запишите их в отдельный столбец. <a class=\"anchor\" id=\"section_2_2\"></a>"
   ]
  },
  {
   "cell_type": "code",
   "execution_count": 13,
   "metadata": {
    "scrolled": true
   },
   "outputs": [
    {
     "data": {
      "text/html": [
       "<div>\n",
       "<style scoped>\n",
       "    .dataframe tbody tr th:only-of-type {\n",
       "        vertical-align: middle;\n",
       "    }\n",
       "\n",
       "    .dataframe tbody tr th {\n",
       "        vertical-align: top;\n",
       "    }\n",
       "\n",
       "    .dataframe thead th {\n",
       "        text-align: right;\n",
       "    }\n",
       "</style>\n",
       "<table border=\"1\" class=\"dataframe\">\n",
       "  <thead>\n",
       "    <tr style=\"text-align: right;\">\n",
       "      <th></th>\n",
       "      <th>region</th>\n",
       "      <th>total_region_sales</th>\n",
       "    </tr>\n",
       "  </thead>\n",
       "  <tbody>\n",
       "    <tr>\n",
       "      <th>0</th>\n",
       "      <td>na_sales</td>\n",
       "      <td>4400.57</td>\n",
       "    </tr>\n",
       "    <tr>\n",
       "      <th>1</th>\n",
       "      <td>eu_sales</td>\n",
       "      <td>2424.14</td>\n",
       "    </tr>\n",
       "    <tr>\n",
       "      <th>2</th>\n",
       "      <td>jp_sales</td>\n",
       "      <td>1297.34</td>\n",
       "    </tr>\n",
       "    <tr>\n",
       "      <th>3</th>\n",
       "      <td>other_sales</td>\n",
       "      <td>791.24</td>\n",
       "    </tr>\n",
       "  </tbody>\n",
       "</table>\n",
       "</div>"
      ],
      "text/plain": [
       "        region  total_region_sales\n",
       "0     na_sales             4400.57\n",
       "1     eu_sales             2424.14\n",
       "2     jp_sales             1297.34\n",
       "3  other_sales              791.24"
      ]
     },
     "execution_count": 13,
     "metadata": {},
     "output_type": "execute_result"
    }
   ],
   "source": [
    "# Посчитаем суммарные продажи по регионам\n",
    "total_region_sales = data[['na_sales', 'eu_sales', 'jp_sales', 'other_sales']].sum().reset_index()\n",
    "total_region_sales.columns = ['region','total_region_sales']\n",
    "total_region_sales"
   ]
  },
  {
   "cell_type": "code",
   "execution_count": 14,
   "metadata": {
    "scrolled": false
   },
   "outputs": [
    {
     "data": {
      "text/html": [
       "<div>\n",
       "<style scoped>\n",
       "    .dataframe tbody tr th:only-of-type {\n",
       "        vertical-align: middle;\n",
       "    }\n",
       "\n",
       "    .dataframe tbody tr th {\n",
       "        vertical-align: top;\n",
       "    }\n",
       "\n",
       "    .dataframe thead th {\n",
       "        text-align: right;\n",
       "    }\n",
       "</style>\n",
       "<table border=\"1\" class=\"dataframe\">\n",
       "  <thead>\n",
       "    <tr style=\"text-align: right;\">\n",
       "      <th></th>\n",
       "      <th>name</th>\n",
       "      <th>platform</th>\n",
       "      <th>year_of_release</th>\n",
       "      <th>genre</th>\n",
       "      <th>na_sales</th>\n",
       "      <th>eu_sales</th>\n",
       "      <th>jp_sales</th>\n",
       "      <th>other_sales</th>\n",
       "      <th>critic_score</th>\n",
       "      <th>user_score</th>\n",
       "      <th>rating</th>\n",
       "      <th>total_sales</th>\n",
       "    </tr>\n",
       "  </thead>\n",
       "  <tbody>\n",
       "    <tr>\n",
       "      <th>0</th>\n",
       "      <td>Wii Sports</td>\n",
       "      <td>Wii</td>\n",
       "      <td>2006</td>\n",
       "      <td>Sports</td>\n",
       "      <td>41.36</td>\n",
       "      <td>28.96</td>\n",
       "      <td>3.77</td>\n",
       "      <td>8.45</td>\n",
       "      <td>76.0</td>\n",
       "      <td>8.0</td>\n",
       "      <td>E</td>\n",
       "      <td>82.54</td>\n",
       "    </tr>\n",
       "    <tr>\n",
       "      <th>1</th>\n",
       "      <td>Super Mario Bros.</td>\n",
       "      <td>NES</td>\n",
       "      <td>1985</td>\n",
       "      <td>Platform</td>\n",
       "      <td>29.08</td>\n",
       "      <td>3.58</td>\n",
       "      <td>6.81</td>\n",
       "      <td>0.77</td>\n",
       "      <td>NaN</td>\n",
       "      <td>NaN</td>\n",
       "      <td>unknown</td>\n",
       "      <td>40.24</td>\n",
       "    </tr>\n",
       "    <tr>\n",
       "      <th>2</th>\n",
       "      <td>Mario Kart Wii</td>\n",
       "      <td>Wii</td>\n",
       "      <td>2008</td>\n",
       "      <td>Racing</td>\n",
       "      <td>15.68</td>\n",
       "      <td>12.76</td>\n",
       "      <td>3.79</td>\n",
       "      <td>3.29</td>\n",
       "      <td>82.0</td>\n",
       "      <td>8.3</td>\n",
       "      <td>E</td>\n",
       "      <td>35.52</td>\n",
       "    </tr>\n",
       "    <tr>\n",
       "      <th>3</th>\n",
       "      <td>Wii Sports Resort</td>\n",
       "      <td>Wii</td>\n",
       "      <td>2009</td>\n",
       "      <td>Sports</td>\n",
       "      <td>15.61</td>\n",
       "      <td>10.93</td>\n",
       "      <td>3.28</td>\n",
       "      <td>2.95</td>\n",
       "      <td>80.0</td>\n",
       "      <td>8.0</td>\n",
       "      <td>E</td>\n",
       "      <td>32.77</td>\n",
       "    </tr>\n",
       "    <tr>\n",
       "      <th>4</th>\n",
       "      <td>Pokemon Red/Pokemon Blue</td>\n",
       "      <td>GB</td>\n",
       "      <td>1996</td>\n",
       "      <td>Role-Playing</td>\n",
       "      <td>11.27</td>\n",
       "      <td>8.89</td>\n",
       "      <td>10.22</td>\n",
       "      <td>1.00</td>\n",
       "      <td>NaN</td>\n",
       "      <td>NaN</td>\n",
       "      <td>unknown</td>\n",
       "      <td>31.38</td>\n",
       "    </tr>\n",
       "    <tr>\n",
       "      <th>...</th>\n",
       "      <td>...</td>\n",
       "      <td>...</td>\n",
       "      <td>...</td>\n",
       "      <td>...</td>\n",
       "      <td>...</td>\n",
       "      <td>...</td>\n",
       "      <td>...</td>\n",
       "      <td>...</td>\n",
       "      <td>...</td>\n",
       "      <td>...</td>\n",
       "      <td>...</td>\n",
       "      <td>...</td>\n",
       "    </tr>\n",
       "    <tr>\n",
       "      <th>16708</th>\n",
       "      <td>Samurai Warriors: Sanada Maru</td>\n",
       "      <td>PS3</td>\n",
       "      <td>2016</td>\n",
       "      <td>Action</td>\n",
       "      <td>0.00</td>\n",
       "      <td>0.00</td>\n",
       "      <td>0.01</td>\n",
       "      <td>0.00</td>\n",
       "      <td>NaN</td>\n",
       "      <td>NaN</td>\n",
       "      <td>unknown</td>\n",
       "      <td>0.01</td>\n",
       "    </tr>\n",
       "    <tr>\n",
       "      <th>16709</th>\n",
       "      <td>LMA Manager 2007</td>\n",
       "      <td>X360</td>\n",
       "      <td>2006</td>\n",
       "      <td>Sports</td>\n",
       "      <td>0.00</td>\n",
       "      <td>0.01</td>\n",
       "      <td>0.00</td>\n",
       "      <td>0.00</td>\n",
       "      <td>NaN</td>\n",
       "      <td>NaN</td>\n",
       "      <td>unknown</td>\n",
       "      <td>0.01</td>\n",
       "    </tr>\n",
       "    <tr>\n",
       "      <th>16710</th>\n",
       "      <td>Haitaka no Psychedelica</td>\n",
       "      <td>PSV</td>\n",
       "      <td>2016</td>\n",
       "      <td>Adventure</td>\n",
       "      <td>0.00</td>\n",
       "      <td>0.00</td>\n",
       "      <td>0.01</td>\n",
       "      <td>0.00</td>\n",
       "      <td>NaN</td>\n",
       "      <td>NaN</td>\n",
       "      <td>unknown</td>\n",
       "      <td>0.01</td>\n",
       "    </tr>\n",
       "    <tr>\n",
       "      <th>16711</th>\n",
       "      <td>Spirits &amp; Spells</td>\n",
       "      <td>GBA</td>\n",
       "      <td>2003</td>\n",
       "      <td>Platform</td>\n",
       "      <td>0.01</td>\n",
       "      <td>0.00</td>\n",
       "      <td>0.00</td>\n",
       "      <td>0.00</td>\n",
       "      <td>NaN</td>\n",
       "      <td>NaN</td>\n",
       "      <td>unknown</td>\n",
       "      <td>0.01</td>\n",
       "    </tr>\n",
       "    <tr>\n",
       "      <th>16712</th>\n",
       "      <td>Winning Post 8 2016</td>\n",
       "      <td>PSV</td>\n",
       "      <td>2016</td>\n",
       "      <td>Simulation</td>\n",
       "      <td>0.00</td>\n",
       "      <td>0.00</td>\n",
       "      <td>0.01</td>\n",
       "      <td>0.00</td>\n",
       "      <td>NaN</td>\n",
       "      <td>NaN</td>\n",
       "      <td>unknown</td>\n",
       "      <td>0.01</td>\n",
       "    </tr>\n",
       "  </tbody>\n",
       "</table>\n",
       "<p>16713 rows × 12 columns</p>\n",
       "</div>"
      ],
      "text/plain": [
       "                                name platform year_of_release         genre  \\\n",
       "0                         Wii Sports      Wii            2006        Sports   \n",
       "1                  Super Mario Bros.      NES            1985      Platform   \n",
       "2                     Mario Kart Wii      Wii            2008        Racing   \n",
       "3                  Wii Sports Resort      Wii            2009        Sports   \n",
       "4           Pokemon Red/Pokemon Blue       GB            1996  Role-Playing   \n",
       "...                              ...      ...             ...           ...   \n",
       "16708  Samurai Warriors: Sanada Maru      PS3            2016        Action   \n",
       "16709               LMA Manager 2007     X360            2006        Sports   \n",
       "16710        Haitaka no Psychedelica      PSV            2016     Adventure   \n",
       "16711               Spirits & Spells      GBA            2003      Platform   \n",
       "16712            Winning Post 8 2016      PSV            2016    Simulation   \n",
       "\n",
       "       na_sales  eu_sales  jp_sales  other_sales  critic_score  user_score  \\\n",
       "0         41.36     28.96      3.77         8.45          76.0         8.0   \n",
       "1         29.08      3.58      6.81         0.77           NaN         NaN   \n",
       "2         15.68     12.76      3.79         3.29          82.0         8.3   \n",
       "3         15.61     10.93      3.28         2.95          80.0         8.0   \n",
       "4         11.27      8.89     10.22         1.00           NaN         NaN   \n",
       "...         ...       ...       ...          ...           ...         ...   \n",
       "16708      0.00      0.00      0.01         0.00           NaN         NaN   \n",
       "16709      0.00      0.01      0.00         0.00           NaN         NaN   \n",
       "16710      0.00      0.00      0.01         0.00           NaN         NaN   \n",
       "16711      0.01      0.00      0.00         0.00           NaN         NaN   \n",
       "16712      0.00      0.00      0.01         0.00           NaN         NaN   \n",
       "\n",
       "        rating  total_sales  \n",
       "0            E        82.54  \n",
       "1      unknown        40.24  \n",
       "2            E        35.52  \n",
       "3            E        32.77  \n",
       "4      unknown        31.38  \n",
       "...        ...          ...  \n",
       "16708  unknown         0.01  \n",
       "16709  unknown         0.01  \n",
       "16710  unknown         0.01  \n",
       "16711  unknown         0.01  \n",
       "16712  unknown         0.01  \n",
       "\n",
       "[16713 rows x 12 columns]"
      ]
     },
     "execution_count": 14,
     "metadata": {},
     "output_type": "execute_result"
    }
   ],
   "source": [
    "# Добавим столбец с суммарными продажами по регионам для каждой игры\n",
    "data['total_sales'] = data['na_sales'] + data['eu_sales'] + data['jp_sales'] + data['other_sales']\n",
    "data"
   ]
  },
  {
   "cell_type": "markdown",
   "metadata": {},
   "source": [
    "## 3. Исследовательский анализ данных <a class=\"anchor\" id=\"chapter3\"></a>"
   ]
  },
  {
   "cell_type": "markdown",
   "metadata": {},
   "source": [
    "### 3.1 Проанализиуем распределение количества выпускаемых игр по годам. <a class=\"anchor\" id=\"section_3_1\"></a>"
   ]
  },
  {
   "cell_type": "code",
   "execution_count": 15,
   "metadata": {},
   "outputs": [
    {
     "data": {
      "text/plain": [
       "<AxesSubplot:title={'center':'Выпуск игр по годам'}, xlabel='year_of_release'>"
      ]
     },
     "execution_count": 15,
     "metadata": {},
     "output_type": "execute_result"
    },
    {
     "data": {
      "image/png": "[encoded data removed]",
      "text/plain": [
       "<Figure size 1080x288 with 1 Axes>"
      ]
     },
     "metadata": {
      "needs_background": "light"
     },
     "output_type": "display_data"
    }
   ],
   "source": [
    "number_per_year = data.pivot_table(index='year_of_release', aggfunc='count')['name']\n",
    "number_per_year.columns = ['year_of_release','number_of_games']\n",
    "number_per_year.plot(grid=True, \n",
    "                     figsize=(15,4),\n",
    "                     title='Выпуск игр по годам')"
   ]
  },
  {
   "cell_type": "markdown",
   "metadata": {},
   "source": [
    "По графику выше видно, что рост количества выпущенных игр шел до 2008 года, затем пошел на спад. Вспоминаем пока кризис 2008 года... <br> \n",
    "Для наглядности возьмем данные начиная с 2000 года, так как до этого индустрия игр только развивалась,график ниже"
   ]
  },
  {
   "cell_type": "code",
   "execution_count": 16,
   "metadata": {},
   "outputs": [
    {
     "data": {
      "text/plain": [
       "<AxesSubplot:title={'center':'Выпуск игр по годам за 2000-2016 годы'}, xlabel='year_of_release'>"
      ]
     },
     "execution_count": 16,
     "metadata": {},
     "output_type": "execute_result"
    },
    {
     "data": {
      "image/png": "[encoded data removed]",
      "text/plain": [
       "<Figure size 1080x288 with 1 Axes>"
      ]
     },
     "metadata": {
      "needs_background": "light"
     },
     "output_type": "display_data"
    }
   ],
   "source": [
    "number_per_year.plot(grid=True, \n",
    "                     figsize=(15,4), \n",
    "                     xlim=(2000,2016),\n",
    "                     title='Выпуск игр по годам за 2000-2016 годы')"
   ]
  },
  {
   "cell_type": "markdown",
   "metadata": {},
   "source": [
    "### 3.2 Проанализируем изменение продаж по платформам. <a class=\"anchor\" id=\"section_3_2\"></a>"
   ]
  },
  {
   "cell_type": "markdown",
   "metadata": {},
   "source": [
    "#### Платформы с наибольшими суммарными продажами: PS2, X360, PS3, Wii, DS и PS"
   ]
  },
  {
   "cell_type": "code",
   "execution_count": 17,
   "metadata": {},
   "outputs": [
    {
     "data": {
      "text/html": [
       "<div>\n",
       "<style scoped>\n",
       "    .dataframe tbody tr th:only-of-type {\n",
       "        vertical-align: middle;\n",
       "    }\n",
       "\n",
       "    .dataframe tbody tr th {\n",
       "        vertical-align: top;\n",
       "    }\n",
       "\n",
       "    .dataframe thead th {\n",
       "        text-align: right;\n",
       "    }\n",
       "</style>\n",
       "<table border=\"1\" class=\"dataframe\">\n",
       "  <thead>\n",
       "    <tr style=\"text-align: right;\">\n",
       "      <th></th>\n",
       "      <th>total_sales</th>\n",
       "    </tr>\n",
       "    <tr>\n",
       "      <th>platform</th>\n",
       "      <th></th>\n",
       "    </tr>\n",
       "  </thead>\n",
       "  <tbody>\n",
       "    <tr>\n",
       "      <th>PS2</th>\n",
       "      <td>1255.77</td>\n",
       "    </tr>\n",
       "    <tr>\n",
       "      <th>X360</th>\n",
       "      <td>971.42</td>\n",
       "    </tr>\n",
       "    <tr>\n",
       "      <th>PS3</th>\n",
       "      <td>939.65</td>\n",
       "    </tr>\n",
       "    <tr>\n",
       "      <th>Wii</th>\n",
       "      <td>907.51</td>\n",
       "    </tr>\n",
       "    <tr>\n",
       "      <th>DS</th>\n",
       "      <td>806.12</td>\n",
       "    </tr>\n",
       "    <tr>\n",
       "      <th>PS</th>\n",
       "      <td>730.86</td>\n",
       "    </tr>\n",
       "    <tr>\n",
       "      <th>GBA</th>\n",
       "      <td>317.85</td>\n",
       "    </tr>\n",
       "    <tr>\n",
       "      <th>PS4</th>\n",
       "      <td>314.14</td>\n",
       "    </tr>\n",
       "    <tr>\n",
       "      <th>PSP</th>\n",
       "      <td>294.05</td>\n",
       "    </tr>\n",
       "    <tr>\n",
       "      <th>PC</th>\n",
       "      <td>259.52</td>\n",
       "    </tr>\n",
       "  </tbody>\n",
       "</table>\n",
       "</div>"
      ],
      "text/plain": [
       "          total_sales\n",
       "platform             \n",
       "PS2           1255.77\n",
       "X360           971.42\n",
       "PS3            939.65\n",
       "Wii            907.51\n",
       "DS             806.12\n",
       "PS             730.86\n",
       "GBA            317.85\n",
       "PS4            314.14\n",
       "PSP            294.05\n",
       "PC             259.52"
      ]
     },
     "execution_count": 17,
     "metadata": {},
     "output_type": "execute_result"
    }
   ],
   "source": [
    "sales_per_platform = data.pivot_table(\n",
    "    index=['platform'], \n",
    "    values='total_sales', \n",
    "    aggfunc='sum').sort_values(\n",
    "                        by='total_sales', \n",
    "                        ascending=False)\n",
    "sales_per_platform.head(10)"
   ]
  },
  {
   "cell_type": "markdown",
   "metadata": {},
   "source": [
    "#### Распределение продаж по годам для этих платформ:"
   ]
  },
  {
   "cell_type": "code",
   "execution_count": 18,
   "metadata": {},
   "outputs": [
    {
     "data": {
      "image/png": "[encoded data removed]",
      "text/plain": [
       "<Figure size 1080x288 with 1 Axes>"
      ]
     },
     "metadata": {
      "needs_background": "light"
     },
     "output_type": "display_data"
    }
   ],
   "source": [
    "sales_per_platform_per_year = data.pivot_table(\n",
    "                                          index=['platform', 'year_of_release'],    \n",
    "                                          values='total_sales', \n",
    "                                          aggfunc='sum')\n",
    "sales_per_platform_per_year\n",
    "\n",
    "# Построим графики продаж по годам для 6 самых популярных платформ\n",
    "plt.figure(figsize=(15, 4))\n",
    "\n",
    "for platform in ['PS2', 'X360','PS3', 'Wii', 'DS' , 'PS']:\n",
    "    x = sales_per_platform_per_year.loc[platform].index\n",
    "    y = sales_per_platform_per_year.query('platform == @platform')['total_sales']\n",
    "    plt.plot(x,y, label=platform)\n",
    "    plt.legend()\n",
    "    \n",
    "    \n",
    "plt.title('Распределение продаж по годам для платформ PS2, X360,PS3, Wii, DS и PS')    \n",
    "plt.xlabel('year_of_release') \n",
    "plt.ylabel('Total_sales') \n",
    "plt.grid() \n",
    "\n",
    "\n",
    "    "
   ]
  },
  {
   "cell_type": "markdown",
   "metadata": {},
   "source": [
    "Видим, что каждые 11лет появляются новые и исчезают старые платформы Актуальным периодом будем считать года: период в 2-3 года с сохранением данных за 2016, т.е. 2014-2016 гг., чтобы не захватить уже отживший тренд."
   ]
  },
  {
   "cell_type": "markdown",
   "metadata": {},
   "source": [
    "### 3.3 Найдем какие платформы лидируют по продажам, растут или падают c 2014 по 2016 <a class=\"anchor\" id=\"section_3_3\"></a>"
   ]
  },
  {
   "cell_type": "code",
   "execution_count": 19,
   "metadata": {},
   "outputs": [
    {
     "data": {
      "text/html": [
       "<div>\n",
       "<style scoped>\n",
       "    .dataframe tbody tr th:only-of-type {\n",
       "        vertical-align: middle;\n",
       "    }\n",
       "\n",
       "    .dataframe tbody tr th {\n",
       "        vertical-align: top;\n",
       "    }\n",
       "\n",
       "    .dataframe thead th {\n",
       "        text-align: right;\n",
       "    }\n",
       "</style>\n",
       "<table border=\"1\" class=\"dataframe\">\n",
       "  <thead>\n",
       "    <tr style=\"text-align: right;\">\n",
       "      <th></th>\n",
       "      <th>total_sales</th>\n",
       "    </tr>\n",
       "    <tr>\n",
       "      <th>platform</th>\n",
       "      <th></th>\n",
       "    </tr>\n",
       "  </thead>\n",
       "  <tbody>\n",
       "    <tr>\n",
       "      <th>PS4</th>\n",
       "      <td>288.15</td>\n",
       "    </tr>\n",
       "    <tr>\n",
       "      <th>XOne</th>\n",
       "      <td>140.36</td>\n",
       "    </tr>\n",
       "    <tr>\n",
       "      <th>3DS</th>\n",
       "      <td>86.68</td>\n",
       "    </tr>\n",
       "    <tr>\n",
       "      <th>PS3</th>\n",
       "      <td>68.18</td>\n",
       "    </tr>\n",
       "    <tr>\n",
       "      <th>X360</th>\n",
       "      <td>48.22</td>\n",
       "    </tr>\n",
       "  </tbody>\n",
       "</table>\n",
       "</div>"
      ],
      "text/plain": [
       "          total_sales\n",
       "platform             \n",
       "PS4            288.15\n",
       "XOne           140.36\n",
       "3DS             86.68\n",
       "PS3             68.18\n",
       "X360            48.22"
      ]
     },
     "execution_count": 19,
     "metadata": {},
     "output_type": "execute_result"
    }
   ],
   "source": [
    "sales_per_platform_3years = data.query(\n",
    "    'year_of_release >= 2014 and year_of_release <= 2016'\n",
    "                                ).pivot_table(\n",
    "                                index=['platform'], \n",
    "                                values='total_sales', \n",
    "                                aggfunc='sum').sort_values(\n",
    "                                                by='total_sales', \n",
    "                                                ascending=False)\n",
    "sales_per_platform_3years.head()"
   ]
  },
  {
   "cell_type": "markdown",
   "metadata": {},
   "source": [
    "**Вывод:** <br>\n",
    "За последние 3 года лидируют по продажам: PS4, XOne и 3DS"
   ]
  },
  {
   "cell_type": "code",
   "execution_count": 20,
   "metadata": {},
   "outputs": [
    {
     "data": {
      "image/png": "[encoded data removed]",
      "text/plain": [
       "<Figure size 1080x288 with 1 Axes>"
      ]
     },
     "metadata": {
      "needs_background": "light"
     },
     "output_type": "display_data"
    }
   ],
   "source": [
    "# Посмотрим на тренд продаж по годам для этих платформ\n",
    "sales_per_platform_11years_per_year = data.query(\n",
    "    'year_of_release >= 2014 and year_of_release <= 2016 and platform in [\"PS4\", \"XOne\", \"3DS\"]'\n",
    "                                ).pivot_table(\n",
    "                                index=['platform', 'year_of_release'], \n",
    "                                values='total_sales', \n",
    "                                aggfunc='sum')\n",
    "# Построим графики продаж по годам для 3-х самых популярных платформ\n",
    "plt.figure(figsize=(15, 4))\n",
    "\n",
    "for platform in [\"PS4\", \"XOne\", \"3DS\"]:\n",
    "    x = sales_per_platform_11years_per_year.loc[platform].index\n",
    "    y = sales_per_platform_11years_per_year.query('platform == @platform')['total_sales']\n",
    "    plt.plot(x,y, label=platform)\n",
    "    plt.legend()\n",
    "    \n",
    "    \n",
    "plt.title('Распределение продаж по годам для платформ PS4, XOne и 3DS за 2014-2016г')    \n",
    "plt.xlabel('year_of_release') \n",
    "plt.ylabel('Total_sales') \n",
    "plt.grid() "
   ]
  },
  {
   "cell_type": "markdown",
   "metadata": {},
   "source": [
    "Из графика выше видим, что продажи игр для PS4 и XOne начиная с 2010 года падают.\n",
    "Для 3DS падение идет все последние 3 года\n",
    "Посмотрим, а не появляется ли платформа, для которой характерен рост за последние 4 года"
   ]
  },
  {
   "cell_type": "code",
   "execution_count": 21,
   "metadata": {},
   "outputs": [
    {
     "data": {
      "text/html": [
       "<div>\n",
       "<style scoped>\n",
       "    .dataframe tbody tr th:only-of-type {\n",
       "        vertical-align: middle;\n",
       "    }\n",
       "\n",
       "    .dataframe tbody tr th {\n",
       "        vertical-align: top;\n",
       "    }\n",
       "\n",
       "    .dataframe thead th {\n",
       "        text-align: right;\n",
       "    }\n",
       "</style>\n",
       "<table border=\"1\" class=\"dataframe\">\n",
       "  <thead>\n",
       "    <tr style=\"text-align: right;\">\n",
       "      <th></th>\n",
       "      <th>platform</th>\n",
       "      <th>year_of_release</th>\n",
       "      <th>total_sales</th>\n",
       "    </tr>\n",
       "  </thead>\n",
       "  <tbody>\n",
       "    <tr>\n",
       "      <th>16</th>\n",
       "      <td>PS4</td>\n",
       "      <td>2016</td>\n",
       "      <td>69.25</td>\n",
       "    </tr>\n",
       "    <tr>\n",
       "      <th>39</th>\n",
       "      <td>XOne</td>\n",
       "      <td>2016</td>\n",
       "      <td>26.15</td>\n",
       "    </tr>\n",
       "    <tr>\n",
       "      <th>3</th>\n",
       "      <td>3DS</td>\n",
       "      <td>2016</td>\n",
       "      <td>15.14</td>\n",
       "    </tr>\n",
       "    <tr>\n",
       "      <th>8</th>\n",
       "      <td>PC</td>\n",
       "      <td>2016</td>\n",
       "      <td>5.25</td>\n",
       "    </tr>\n",
       "    <tr>\n",
       "      <th>31</th>\n",
       "      <td>WiiU</td>\n",
       "      <td>2016</td>\n",
       "      <td>4.60</td>\n",
       "    </tr>\n",
       "    <tr>\n",
       "      <th>23</th>\n",
       "      <td>PSV</td>\n",
       "      <td>2016</td>\n",
       "      <td>4.25</td>\n",
       "    </tr>\n",
       "    <tr>\n",
       "      <th>12</th>\n",
       "      <td>PS3</td>\n",
       "      <td>2016</td>\n",
       "      <td>3.60</td>\n",
       "    </tr>\n",
       "    <tr>\n",
       "      <th>35</th>\n",
       "      <td>X360</td>\n",
       "      <td>2016</td>\n",
       "      <td>1.52</td>\n",
       "    </tr>\n",
       "    <tr>\n",
       "      <th>27</th>\n",
       "      <td>Wii</td>\n",
       "      <td>2016</td>\n",
       "      <td>0.18</td>\n",
       "    </tr>\n",
       "  </tbody>\n",
       "</table>\n",
       "</div>"
      ],
      "text/plain": [
       "   platform  year_of_release  total_sales\n",
       "16      PS4             2016        69.25\n",
       "39     XOne             2016        26.15\n",
       "3       3DS             2016        15.14\n",
       "8        PC             2016         5.25\n",
       "31     WiiU             2016         4.60\n",
       "23      PSV             2016         4.25\n",
       "12      PS3             2016         3.60\n",
       "35     X360             2016         1.52\n",
       "27      Wii             2016         0.18"
      ]
     },
     "execution_count": 21,
     "metadata": {},
     "output_type": "execute_result"
    },
    {
     "data": {
      "image/png": "[encoded data removed]",
      "text/plain": [
       "<Figure size 1080x288 with 1 Axes>"
      ]
     },
     "metadata": {
      "needs_background": "light"
     },
     "output_type": "display_data"
    }
   ],
   "source": [
    "# ПРоделаем аналогичную операцию, только поменяем год на 2013 и 2016, и возьмем выборку для всех платформ.\n",
    "sales_per_platform_4years_per_year = data.query(\n",
    "                                        'year_of_release >= 2013 and year_of_release <= 2016'\n",
    "                                                                        ).pivot_table(\n",
    "                                                                          index=['platform', 'year_of_release'], \n",
    "                                                                          values='total_sales', \n",
    "                                                                          aggfunc='sum')\n",
    "# построим графики\n",
    "plt.figure(figsize=(15, 4))\n",
    "\n",
    "for platform in sales_per_platform_4years_per_year.index.levels[0].unique():\n",
    "    x = sales_per_platform_4years_per_year.loc[platform].index\n",
    "    y = sales_per_platform_4years_per_year.query('platform == @platform')['total_sales']\n",
    "    plt.plot(x,y, label=platform)\n",
    "    plt.legend()\n",
    "    \n",
    "    \n",
    "plt.title('Распределение продаж по годам для платформ за 2013-2016г')    \n",
    "plt.xlabel('year_of_release') \n",
    "plt.ylabel('Total_sales') \n",
    "plt.grid() \n",
    "\n",
    "sales_per_platform_4years_per_year.reset_index().query(\n",
    "                                                'year_of_release == 2016').sort_values(\n",
    "                                                                            by='total_sales', ascending=False)\n"
   ]
  },
  {
   "cell_type": "markdown",
   "metadata": {},
   "source": [
    "Можно сделать вывод, что приставки PS4, XOne, 3DS стали замещать приставки предыдущего поколения и являются прибыльным вложением"
   ]
  },
  {
   "cell_type": "markdown",
   "metadata": {},
   "source": [
    "### 3.4. График «ящик с усами» по глобальным продажам игр в разбивке по платформам <a class=\"anchor\" id=\"section_3_4\"></a>"
   ]
  },
  {
   "cell_type": "code",
   "execution_count": 22,
   "metadata": {},
   "outputs": [
    {
     "name": "stdout",
     "output_type": "stream",
     "text": [
      "[array([23.5625,  0.36  ]), array([ 82.055, 140.36 ])]\n"
     ]
    },
    {
     "data": {
      "text/html": [
       "<div>\n",
       "<style scoped>\n",
       "    .dataframe tbody tr th:only-of-type {\n",
       "        vertical-align: middle;\n",
       "    }\n",
       "\n",
       "    .dataframe tbody tr th {\n",
       "        vertical-align: top;\n",
       "    }\n",
       "\n",
       "    .dataframe thead th {\n",
       "        text-align: right;\n",
       "    }\n",
       "</style>\n",
       "<table border=\"1\" class=\"dataframe\">\n",
       "  <thead>\n",
       "    <tr style=\"text-align: right;\">\n",
       "      <th></th>\n",
       "      <th>total_sales</th>\n",
       "    </tr>\n",
       "    <tr>\n",
       "      <th>platform</th>\n",
       "      <th></th>\n",
       "    </tr>\n",
       "  </thead>\n",
       "  <tbody>\n",
       "    <tr>\n",
       "      <th>PS4</th>\n",
       "      <td>288.15</td>\n",
       "    </tr>\n",
       "    <tr>\n",
       "      <th>XOne</th>\n",
       "      <td>140.36</td>\n",
       "    </tr>\n",
       "    <tr>\n",
       "      <th>3DS</th>\n",
       "      <td>86.68</td>\n",
       "    </tr>\n",
       "    <tr>\n",
       "      <th>PS3</th>\n",
       "      <td>68.18</td>\n",
       "    </tr>\n",
       "    <tr>\n",
       "      <th>X360</th>\n",
       "      <td>48.22</td>\n",
       "    </tr>\n",
       "    <tr>\n",
       "      <th>WiiU</th>\n",
       "      <td>42.98</td>\n",
       "    </tr>\n",
       "    <tr>\n",
       "      <th>PC</th>\n",
       "      <td>27.05</td>\n",
       "    </tr>\n",
       "    <tr>\n",
       "      <th>PSV</th>\n",
       "      <td>22.40</td>\n",
       "    </tr>\n",
       "    <tr>\n",
       "      <th>Wii</th>\n",
       "      <td>5.07</td>\n",
       "    </tr>\n",
       "    <tr>\n",
       "      <th>PSP</th>\n",
       "      <td>0.36</td>\n",
       "    </tr>\n",
       "  </tbody>\n",
       "</table>\n",
       "</div>"
      ],
      "text/plain": [
       "          total_sales\n",
       "platform             \n",
       "PS4            288.15\n",
       "XOne           140.36\n",
       "3DS             86.68\n",
       "PS3             68.18\n",
       "X360            48.22\n",
       "WiiU            42.98\n",
       "PC              27.05\n",
       "PSV             22.40\n",
       "Wii              5.07\n",
       "PSP              0.36"
      ]
     },
     "execution_count": 22,
     "metadata": {},
     "output_type": "execute_result"
    },
    {
     "data": {
      "image/png": "[encoded data removed]",
      "text/plain": [
       "<Figure size 1296x288 with 1 Axes>"
      ]
     },
     "metadata": {
      "needs_background": "light"
     },
     "output_type": "display_data"
    }
   ],
   "source": [
    "# Постройте график «ящик с усами» по глобальным продажам игр в разбивке по платформам. Опишите результат.\n",
    "\n",
    "plt.figure(figsize=(18, 4))\n",
    "sales_boxplot = plt.boxplot(sales_per_platform_3years, vert=False)\n",
    "print([item.get_xdata() for item in sales_boxplot['whiskers']]) # выводим лимиты графика для информации\n",
    "\n",
    "plt.title('График «ящик с усами» по глобальным продажам игр ')    \n",
    "plt.xlabel('Total_sales') \n",
    "plt.grid()\n",
    "#plt.xticks([0,43,400,931]) # добавляем значения для оси x в соответствии с лимитами гафика\n",
    "sales_per_platform_3years"
   ]
  },
  {
   "cell_type": "code",
   "execution_count": 23,
   "metadata": {},
   "outputs": [
    {
     "data": {
      "text/plain": [
       "(0.0, 1.6)"
      ]
     },
     "execution_count": 23,
     "metadata": {},
     "output_type": "execute_result"
    },
    {
     "data": {
      "image/png": "[encoded data removed]",
      "text/plain": [
       "<Figure size 1080x576 with 1 Axes>"
      ]
     },
     "metadata": {
      "needs_background": "light"
     },
     "output_type": "display_data"
    }
   ],
   "source": [
    "# построим boxplot в разбивке по платформам\n",
    "plt.figure(figsize=(15, 8))\n",
    "sns.boxplot(data = data[(data['year_of_release'] >= 2014) &\n",
    "                        (data['year_of_release'] <= 2016) &\n",
    "                        (data['platform'].isin(['PS4', 'XOne','3DS', 'PS3', 'X360' , 'WiiU']))], x='platform', y='total_sales')\n",
    "plt.title('График «ящик с усами» по глобальным продажам игр в разбивке по платформам')\n",
    "plt.grid()\n",
    "plt.ylim(0,1.6)"
   ]
  },
  {
   "cell_type": "markdown",
   "metadata": {},
   "source": [
    "**Вывод:** <br>\n",
    "Из графика видим, что медианы лежат в предлеах 0.1 - 0.2, выше всех у XOne и WiiU (0.2), ниже - у 3DS (0.1).\n"
   ]
  },
  {
   "cell_type": "markdown",
   "metadata": {},
   "source": [
    "### 3.5. Влияние отзывов пользователей и критиков на продажи внутри одной популярной платформы(PS3)  <a class=\"anchor\" id=\"section_3_5\"></a>"
   ]
  },
  {
   "cell_type": "code",
   "execution_count": 24,
   "metadata": {},
   "outputs": [
    {
     "data": {
      "text/html": [
       "<div>\n",
       "<style scoped>\n",
       "    .dataframe tbody tr th:only-of-type {\n",
       "        vertical-align: middle;\n",
       "    }\n",
       "\n",
       "    .dataframe tbody tr th {\n",
       "        vertical-align: top;\n",
       "    }\n",
       "\n",
       "    .dataframe thead th {\n",
       "        text-align: right;\n",
       "    }\n",
       "</style>\n",
       "<table border=\"1\" class=\"dataframe\">\n",
       "  <thead>\n",
       "    <tr style=\"text-align: right;\">\n",
       "      <th></th>\n",
       "      <th>critic_score</th>\n",
       "      <th>user_score</th>\n",
       "      <th>total_sales</th>\n",
       "    </tr>\n",
       "  </thead>\n",
       "  <tbody>\n",
       "    <tr>\n",
       "      <th>critic_score</th>\n",
       "      <td>1.000000</td>\n",
       "      <td>0.616543</td>\n",
       "      <td>0.432432</td>\n",
       "    </tr>\n",
       "    <tr>\n",
       "      <th>user_score</th>\n",
       "      <td>0.616543</td>\n",
       "      <td>1.000000</td>\n",
       "      <td>0.121364</td>\n",
       "    </tr>\n",
       "    <tr>\n",
       "      <th>total_sales</th>\n",
       "      <td>0.432432</td>\n",
       "      <td>0.121364</td>\n",
       "      <td>1.000000</td>\n",
       "    </tr>\n",
       "  </tbody>\n",
       "</table>\n",
       "</div>"
      ],
      "text/plain": [
       "              critic_score  user_score  total_sales\n",
       "critic_score      1.000000    0.616543     0.432432\n",
       "user_score        0.616543    1.000000     0.121364\n",
       "total_sales       0.432432    0.121364     1.000000"
      ]
     },
     "execution_count": 24,
     "metadata": {},
     "output_type": "execute_result"
    },
    {
     "data": {
      "image/png": "[encoded data removed]",
      "text/plain": [
       "<Figure size 1008x360 with 9 Axes>"
      ]
     },
     "metadata": {
      "needs_background": "light"
     },
     "output_type": "display_data"
    }
   ],
   "source": [
    "# Сделаем необходимую для исследования выборку\n",
    "sales_vs_scores = data.query(\n",
    "        'platform == \"PS3\"')[  # возьмем данные для PS3 \n",
    "        ['critic_score', 'user_score', \"total_sales\"]] \n",
    " \n",
    "\n",
    "# посторим диаграмму рассеяния\n",
    "pd.plotting.scatter_matrix(sales_vs_scores, figsize=(14,5))\n",
    "\n",
    "# Построим матрицу корреляции\n",
    "sales_vs_scores.corr()\n"
   ]
  },
  {
   "cell_type": "markdown",
   "metadata": {},
   "source": [
    "Вывод: Прослеживается прямая зависимость и слабая корреляция между продажами и оценками пользователей/критиков.\n",
    "Причем корреляция с отзывами критиков более значимая."
   ]
  },
  {
   "cell_type": "markdown",
   "metadata": {},
   "source": [
    "### 3.6 Влияние отзывов пользователей и критиков на продажи для всех платформ <a class=\"anchor\" id=\"section_3_6\"></a>"
   ]
  },
  {
   "cell_type": "code",
   "execution_count": 25,
   "metadata": {},
   "outputs": [
    {
     "data": {
      "image/png": "[encoded data removed]",
      "text/plain": [
       "<Figure size 1080x288 with 1 Axes>"
      ]
     },
     "metadata": {
      "needs_background": "light"
     },
     "output_type": "display_data"
    },
    {
     "data": {
      "text/plain": [
       "Text(0.5, 1.0, 'Корреляции между отзывами пользователей и продажами игр по консолям')"
      ]
     },
     "execution_count": 25,
     "metadata": {},
     "output_type": "execute_result"
    },
    {
     "data": {
      "image/png": "[encoded data removed]",
      "text/plain": [
       "<Figure size 1080x576 with 1 Axes>"
      ]
     },
     "metadata": {
      "needs_background": "light"
     },
     "output_type": "display_data"
    }
   ],
   "source": [
    "# Проверим корреляции между отзывами и продажами\n",
    "\n",
    "# 1) Построим столбчатые диаграммы для коррелиций critic_score\n",
    "plt.figure(figsize=(15, 4))\n",
    "for platform in data['platform'].unique():\n",
    "    cr_corr = data.query(   # создадим таблицу с корреляциями\n",
    "        'platform == @platform')[   \n",
    "        ['critic_score', 'user_score', \"total_sales\"]].corr()\n",
    "    plt.bar(platform, cr_corr.loc['total_sales', 'critic_score']) # critic_score поставили\n",
    "plt.title('Корреляции между отзывами критиков и продажами игр по консолям') \n",
    "plt.show()\n",
    "\n",
    "# 2) Построим столбчатые диаграммы для коррелиций user_score\n",
    "plt.figure(figsize=(15, 8))\n",
    "for platform in data['platform'].unique():\n",
    "    cr_corr = data.query(   # создадим таблицу с корреляциями\n",
    "        'platform == @platform')[   \n",
    "        ['critic_score', 'user_score', \"total_sales\"]].corr()\n",
    "    plt.bar(platform, cr_corr.loc['total_sales', 'user_score']) # user_score поставили\n",
    "plt.title('Корреляции между отзывами пользователей и продажами игр по консолям') \n",
    "    \n",
    "    "
   ]
  },
  {
   "cell_type": "code",
   "execution_count": 26,
   "metadata": {},
   "outputs": [
    {
     "data": {
      "image/png": "[encoded data removed]",
      "text/plain": [
       "<Figure size 1080x288 with 1 Axes>"
      ]
     },
     "metadata": {
      "needs_background": "light"
     },
     "output_type": "display_data"
    },
    {
     "data": {
      "text/plain": [
       "Text(0.5, 1.0, 'Корреляции между отзывами пользователей и продажами игр по консолям за 3 года')"
      ]
     },
     "execution_count": 26,
     "metadata": {},
     "output_type": "execute_result"
    },
    {
     "data": {
      "image/png": "[encoded data removed]",
      "text/plain": [
       "<Figure size 1080x576 with 1 Axes>"
      ]
     },
     "metadata": {
      "needs_background": "light"
     },
     "output_type": "display_data"
    }
   ],
   "source": [
    "# Проверим корреляции между отзывами и продажами\n",
    "\n",
    "# 1) Построим столбчатые диаграммы для коррелиций critic_score\n",
    "plt.figure(figsize=(15, 4))\n",
    "for platform in data['platform'].unique():\n",
    "    cr_corr = data.query(   # создадим таблицу с корреляциями\n",
    "        'platform == @platform and year_of_release >= 2014 and year_of_release <= 2016')[   \n",
    "        ['critic_score', 'user_score', \"total_sales\"]].corr()\n",
    "    plt.bar(platform, cr_corr.loc['total_sales', 'critic_score']) # critic_score поставили\n",
    "plt.title('Корреляции между отзывами критиков и продажами игр по консолям за 3 года') \n",
    "plt.show()\n",
    "\n",
    "# 2) Построим столбчатые диаграммы для коррелиций user_score\n",
    "plt.figure(figsize=(15, 8))\n",
    "for platform in data['platform'].unique():\n",
    "    cr_corr = data.query(   # создадим таблицу с корреляциями\n",
    "        'platform == @platform and year_of_release >= 2014 and year_of_release <= 2016')[   \n",
    "        ['critic_score', 'user_score', \"total_sales\"]].corr()\n",
    "    plt.bar(platform, cr_corr.loc['total_sales', 'user_score']) # user_score поставили\n",
    "plt.title('Корреляции между отзывами пользователей и продажами игр по консолям за 3 года') "
   ]
  },
  {
   "cell_type": "markdown",
   "metadata": {},
   "source": [
    "Вывод: Корелляция между отзывами критиков и продажами за 3 года положительная, но не сильная, с максимальными значаниями на уровне 0.4. Выделяется только X360, для нее корреляция средняя, на уровне 0,55.\n",
    "\n",
    "Корелляция между отзывами пользователей и продажами положительная для WIIU(0,4), Wii(0,05) и 3DS(0.25) и отрицательная для \n",
    "остальных, но нигде ни сильная.\n"
   ]
  },
  {
   "cell_type": "markdown",
   "metadata": {},
   "source": [
    "### 3.7 Общее распределение игр по жанрам,  продажи <a class=\"anchor\" id=\"section_3_7\"></a>"
   ]
  },
  {
   "cell_type": "code",
   "execution_count": 27,
   "metadata": {},
   "outputs": [
    {
     "data": {
      "text/html": [
       "<div>\n",
       "<style scoped>\n",
       "    .dataframe tbody tr th:only-of-type {\n",
       "        vertical-align: middle;\n",
       "    }\n",
       "\n",
       "    .dataframe tbody tr th {\n",
       "        vertical-align: top;\n",
       "    }\n",
       "\n",
       "    .dataframe thead th {\n",
       "        text-align: right;\n",
       "    }\n",
       "</style>\n",
       "<table border=\"1\" class=\"dataframe\">\n",
       "  <thead>\n",
       "    <tr style=\"text-align: right;\">\n",
       "      <th></th>\n",
       "      <th>total_sales</th>\n",
       "    </tr>\n",
       "    <tr>\n",
       "      <th>genre</th>\n",
       "      <th></th>\n",
       "    </tr>\n",
       "  </thead>\n",
       "  <tbody>\n",
       "    <tr>\n",
       "      <th>Action</th>\n",
       "      <td>199.36</td>\n",
       "    </tr>\n",
       "    <tr>\n",
       "      <th>Shooter</th>\n",
       "      <td>170.94</td>\n",
       "    </tr>\n",
       "    <tr>\n",
       "      <th>Sports</th>\n",
       "      <td>109.48</td>\n",
       "    </tr>\n",
       "    <tr>\n",
       "      <th>Role-Playing</th>\n",
       "      <td>101.44</td>\n",
       "    </tr>\n",
       "    <tr>\n",
       "      <th>Misc</th>\n",
       "      <td>37.55</td>\n",
       "    </tr>\n",
       "    <tr>\n",
       "      <th>Fighting</th>\n",
       "      <td>28.22</td>\n",
       "    </tr>\n",
       "    <tr>\n",
       "      <th>Racing</th>\n",
       "      <td>27.52</td>\n",
       "    </tr>\n",
       "    <tr>\n",
       "      <th>Platform</th>\n",
       "      <td>18.09</td>\n",
       "    </tr>\n",
       "    <tr>\n",
       "      <th>Adventure</th>\n",
       "      <td>17.55</td>\n",
       "    </tr>\n",
       "    <tr>\n",
       "      <th>Simulation</th>\n",
       "      <td>13.13</td>\n",
       "    </tr>\n",
       "    <tr>\n",
       "      <th>Strategy</th>\n",
       "      <td>3.96</td>\n",
       "    </tr>\n",
       "    <tr>\n",
       "      <th>Puzzle</th>\n",
       "      <td>2.21</td>\n",
       "    </tr>\n",
       "  </tbody>\n",
       "</table>\n",
       "</div>"
      ],
      "text/plain": [
       "              total_sales\n",
       "genre                    \n",
       "Action             199.36\n",
       "Shooter            170.94\n",
       "Sports             109.48\n",
       "Role-Playing       101.44\n",
       "Misc                37.55\n",
       "Fighting            28.22\n",
       "Racing              27.52\n",
       "Platform            18.09\n",
       "Adventure           17.55\n",
       "Simulation          13.13\n",
       "Strategy             3.96\n",
       "Puzzle               2.21"
      ]
     },
     "execution_count": 27,
     "metadata": {},
     "output_type": "execute_result"
    }
   ],
   "source": [
    "data.query('year_of_release >= 2014 and year_of_release <= 2016').pivot_table(index='genre', values='total_sales', aggfunc='sum').sort_values(by='total_sales', ascending=False)"
   ]
  },
  {
   "cell_type": "markdown",
   "metadata": {},
   "source": [
    "Игры с самыми высокими продажами - это Action, Shooter и Sports  <br>\n",
    "Игры с самыми низкими продажами - это Puzzle, Strategy и Simulation <br>\n",
    "Больше всего выделяются Actions и Puzzle, их продажи значительно выше/ниже соответственно"
   ]
  },
  {
   "cell_type": "code",
   "execution_count": 28,
   "metadata": {},
   "outputs": [
    {
     "data": {
      "text/html": [
       "<div>\n",
       "<style scoped>\n",
       "    .dataframe tbody tr th:only-of-type {\n",
       "        vertical-align: middle;\n",
       "    }\n",
       "\n",
       "    .dataframe tbody tr th {\n",
       "        vertical-align: top;\n",
       "    }\n",
       "\n",
       "    .dataframe thead th {\n",
       "        text-align: right;\n",
       "    }\n",
       "</style>\n",
       "<table border=\"1\" class=\"dataframe\">\n",
       "  <thead>\n",
       "    <tr style=\"text-align: right;\">\n",
       "      <th></th>\n",
       "      <th>total_sales</th>\n",
       "    </tr>\n",
       "    <tr>\n",
       "      <th>genre</th>\n",
       "      <th></th>\n",
       "    </tr>\n",
       "  </thead>\n",
       "  <tbody>\n",
       "    <tr>\n",
       "      <th>Shooter</th>\n",
       "      <td>0.515</td>\n",
       "    </tr>\n",
       "    <tr>\n",
       "      <th>Sports</th>\n",
       "      <td>0.180</td>\n",
       "    </tr>\n",
       "    <tr>\n",
       "      <th>Platform</th>\n",
       "      <td>0.140</td>\n",
       "    </tr>\n",
       "    <tr>\n",
       "      <th>Fighting</th>\n",
       "      <td>0.125</td>\n",
       "    </tr>\n",
       "    <tr>\n",
       "      <th>Role-Playing</th>\n",
       "      <td>0.110</td>\n",
       "    </tr>\n",
       "    <tr>\n",
       "      <th>Simulation</th>\n",
       "      <td>0.100</td>\n",
       "    </tr>\n",
       "    <tr>\n",
       "      <th>Action</th>\n",
       "      <td>0.090</td>\n",
       "    </tr>\n",
       "    <tr>\n",
       "      <th>Misc</th>\n",
       "      <td>0.090</td>\n",
       "    </tr>\n",
       "    <tr>\n",
       "      <th>Racing</th>\n",
       "      <td>0.090</td>\n",
       "    </tr>\n",
       "    <tr>\n",
       "      <th>Strategy</th>\n",
       "      <td>0.060</td>\n",
       "    </tr>\n",
       "    <tr>\n",
       "      <th>Puzzle</th>\n",
       "      <td>0.045</td>\n",
       "    </tr>\n",
       "    <tr>\n",
       "      <th>Adventure</th>\n",
       "      <td>0.030</td>\n",
       "    </tr>\n",
       "  </tbody>\n",
       "</table>\n",
       "</div>"
      ],
      "text/plain": [
       "              total_sales\n",
       "genre                    \n",
       "Shooter             0.515\n",
       "Sports              0.180\n",
       "Platform            0.140\n",
       "Fighting            0.125\n",
       "Role-Playing        0.110\n",
       "Simulation          0.100\n",
       "Action              0.090\n",
       "Misc                0.090\n",
       "Racing              0.090\n",
       "Strategy            0.060\n",
       "Puzzle              0.045\n",
       "Adventure           0.030"
      ]
     },
     "execution_count": 28,
     "metadata": {},
     "output_type": "execute_result"
    }
   ],
   "source": [
    "# сравним с медианными продажами, найдем по ним макс и мин\n",
    "data.query('year_of_release >= 2014 and year_of_release <= 2016').pivot_table(index='genre', values='total_sales', aggfunc='median').sort_values(by='total_sales', ascending=False)"
   ]
  },
  {
   "cell_type": "markdown",
   "metadata": {},
   "source": [
    "**Вывод:** <br>\n",
    "Игры с самыми высокими медианными продажами - это Shooter, Sports и Platform\n",
    "Игры с самыми низкими продажами - это Puzzle, Strategy и Adventrue\n",
    "Больше всего выделяются Shooters и Adventure, их продажи значительно выше/ниже соответственно"
   ]
  },
  {
   "cell_type": "markdown",
   "metadata": {},
   "source": [
    "## 4. Составим портрет пользователя каждого региона <a class=\"anchor\" id=\"chapter4\"></a>"
   ]
  },
  {
   "cell_type": "markdown",
   "metadata": {},
   "source": [
    "### Рассмотри Самые популярные платформы (топ-5). Опишем различия в долях продаж."
   ]
  },
  {
   "cell_type": "code",
   "execution_count": 29,
   "metadata": {},
   "outputs": [
    {
     "data": {
      "text/html": [
       "<div>\n",
       "<style scoped>\n",
       "    .dataframe tbody tr th:only-of-type {\n",
       "        vertical-align: middle;\n",
       "    }\n",
       "\n",
       "    .dataframe tbody tr th {\n",
       "        vertical-align: top;\n",
       "    }\n",
       "\n",
       "    .dataframe thead th {\n",
       "        text-align: right;\n",
       "    }\n",
       "</style>\n",
       "<table border=\"1\" class=\"dataframe\">\n",
       "  <thead>\n",
       "    <tr style=\"text-align: right;\">\n",
       "      <th></th>\n",
       "      <th>platform</th>\n",
       "      <th>na_sales</th>\n",
       "    </tr>\n",
       "  </thead>\n",
       "  <tbody>\n",
       "    <tr>\n",
       "      <th>0</th>\n",
       "      <td>PS4</td>\n",
       "      <td>98.61</td>\n",
       "    </tr>\n",
       "    <tr>\n",
       "      <th>1</th>\n",
       "      <td>XOne</td>\n",
       "      <td>81.27</td>\n",
       "    </tr>\n",
       "    <tr>\n",
       "      <th>2</th>\n",
       "      <td>X360</td>\n",
       "      <td>28.30</td>\n",
       "    </tr>\n",
       "    <tr>\n",
       "      <th>3</th>\n",
       "      <td>3DS</td>\n",
       "      <td>22.64</td>\n",
       "    </tr>\n",
       "    <tr>\n",
       "      <th>4</th>\n",
       "      <td>PS3</td>\n",
       "      <td>22.05</td>\n",
       "    </tr>\n",
       "  </tbody>\n",
       "</table>\n",
       "</div>"
      ],
      "text/plain": [
       "  platform  na_sales\n",
       "0      PS4     98.61\n",
       "1     XOne     81.27\n",
       "2     X360     28.30\n",
       "3      3DS     22.64\n",
       "4      PS3     22.05"
      ]
     },
     "metadata": {},
     "output_type": "display_data"
    },
    {
     "data": {
      "image/png": "[encoded data removed]",
      "text/plain": [
       "<Figure size 432x432 with 1 Axes>"
      ]
     },
     "metadata": {},
     "output_type": "display_data"
    },
    {
     "data": {
      "text/html": [
       "<div>\n",
       "<style scoped>\n",
       "    .dataframe tbody tr th:only-of-type {\n",
       "        vertical-align: middle;\n",
       "    }\n",
       "\n",
       "    .dataframe tbody tr th {\n",
       "        vertical-align: top;\n",
       "    }\n",
       "\n",
       "    .dataframe thead th {\n",
       "        text-align: right;\n",
       "    }\n",
       "</style>\n",
       "<table border=\"1\" class=\"dataframe\">\n",
       "  <thead>\n",
       "    <tr style=\"text-align: right;\">\n",
       "      <th></th>\n",
       "      <th>platform</th>\n",
       "      <th>eu_sales</th>\n",
       "    </tr>\n",
       "  </thead>\n",
       "  <tbody>\n",
       "    <tr>\n",
       "      <th>0</th>\n",
       "      <td>PS4</td>\n",
       "      <td>130.04</td>\n",
       "    </tr>\n",
       "    <tr>\n",
       "      <th>1</th>\n",
       "      <td>XOne</td>\n",
       "      <td>46.25</td>\n",
       "    </tr>\n",
       "    <tr>\n",
       "      <th>2</th>\n",
       "      <td>PS3</td>\n",
       "      <td>25.54</td>\n",
       "    </tr>\n",
       "    <tr>\n",
       "      <th>3</th>\n",
       "      <td>PC</td>\n",
       "      <td>17.97</td>\n",
       "    </tr>\n",
       "    <tr>\n",
       "      <th>4</th>\n",
       "      <td>3DS</td>\n",
       "      <td>16.12</td>\n",
       "    </tr>\n",
       "  </tbody>\n",
       "</table>\n",
       "</div>"
      ],
      "text/plain": [
       "  platform  eu_sales\n",
       "0      PS4    130.04\n",
       "1     XOne     46.25\n",
       "2      PS3     25.54\n",
       "3       PC     17.97\n",
       "4      3DS     16.12"
      ]
     },
     "metadata": {},
     "output_type": "display_data"
    },
    {
     "data": {
      "image/png": "[encoded data removed]",
      "text/plain": [
       "<Figure size 432x432 with 1 Axes>"
      ]
     },
     "metadata": {},
     "output_type": "display_data"
    },
    {
     "data": {
      "text/html": [
       "<div>\n",
       "<style scoped>\n",
       "    .dataframe tbody tr th:only-of-type {\n",
       "        vertical-align: middle;\n",
       "    }\n",
       "\n",
       "    .dataframe tbody tr th {\n",
       "        vertical-align: top;\n",
       "    }\n",
       "\n",
       "    .dataframe thead th {\n",
       "        text-align: right;\n",
       "    }\n",
       "</style>\n",
       "<table border=\"1\" class=\"dataframe\">\n",
       "  <thead>\n",
       "    <tr style=\"text-align: right;\">\n",
       "      <th></th>\n",
       "      <th>platform</th>\n",
       "      <th>jp_sales</th>\n",
       "    </tr>\n",
       "  </thead>\n",
       "  <tbody>\n",
       "    <tr>\n",
       "      <th>0</th>\n",
       "      <td>3DS</td>\n",
       "      <td>44.24</td>\n",
       "    </tr>\n",
       "    <tr>\n",
       "      <th>1</th>\n",
       "      <td>PS4</td>\n",
       "      <td>15.02</td>\n",
       "    </tr>\n",
       "    <tr>\n",
       "      <th>2</th>\n",
       "      <td>PSV</td>\n",
       "      <td>14.54</td>\n",
       "    </tr>\n",
       "    <tr>\n",
       "      <th>3</th>\n",
       "      <td>PS3</td>\n",
       "      <td>11.22</td>\n",
       "    </tr>\n",
       "    <tr>\n",
       "      <th>4</th>\n",
       "      <td>WiiU</td>\n",
       "      <td>7.31</td>\n",
       "    </tr>\n",
       "  </tbody>\n",
       "</table>\n",
       "</div>"
      ],
      "text/plain": [
       "  platform  jp_sales\n",
       "0      3DS     44.24\n",
       "1      PS4     15.02\n",
       "2      PSV     14.54\n",
       "3      PS3     11.22\n",
       "4     WiiU      7.31"
      ]
     },
     "metadata": {},
     "output_type": "display_data"
    },
    {
     "data": {
      "image/png": "[encoded data removed]",
      "text/plain": [
       "<Figure size 432x432 with 1 Axes>"
      ]
     },
     "metadata": {},
     "output_type": "display_data"
    }
   ],
   "source": [
    "# Построим круговые диаграммы для продаж игр сгруппировав по платформам и по регионам\n",
    "for region_sales in ['na_sales', 'eu_sales', 'jp_sales']: \n",
    "    plt.figure(figsize=(6, 6))\n",
    "    \n",
    "    region_platform_sales = data.query('year_of_release >= 2014 and year_of_release <= 2016').pivot_table( # изменил на 3 года\n",
    "        index='platform', \n",
    "        values=region_sales, \n",
    "        aggfunc='sum'\n",
    "                ).sort_values(\n",
    "                        by=region_sales, \n",
    "                        ascending=False).reset_index()\n",
    "    \n",
    "    # создадим категорию 'others' и поместим туда все продажи игр по платформам менее 10\n",
    "    region_platform_sales_with_others =  region_platform_sales[region_platform_sales[region_sales] >= 10\n",
    "         ].merge(  # объединим таблицу со значениями более 80 с таблицей где 'others' соответствует сумма продаж всех оставшихся\n",
    "          pd.DataFrame({'platform': ['others'], \n",
    "          region_sales : region_platform_sales[region_platform_sales[region_sales] < 10\n",
    "          ].sum(numeric_only=True)}), #сумируем только цифровые значения(не названия платформ)\n",
    "          how='outer')\n",
    "        \n",
    "    display(region_platform_sales.head())\n",
    "    \n",
    "    plt.pie(region_platform_sales_with_others[region_sales], \n",
    "            labels=region_platform_sales_with_others['platform'], # добавляем названия платформ на диаграмму\n",
    "            autopct='%1.1f%%') # добавляем проценты на диаграмму\n",
    "     \n",
    "    plt.title(f'Доли продаж по платформам для {region_sales}')\n",
    "    plt.show()\n"
   ]
  },
  {
   "cell_type": "markdown",
   "metadata": {},
   "source": [
    "**Вывод:** <br>\n",
    "-из диаграмм видно, что в Европе и Америке платформа PS4 и XOne на пике популярности. В то время как в Японии XOne совершенно не популярна, но большой популярностью пользуется 3DS с продажами игр, которые составляют почти половину всего рынка. Кроме того, японцы любят играть в портативную PSV c 15% продаж игр. <br>\n",
    "-во всех регионах в пятерки лидеров PS3, консоль предыдущего поколения <br>"
   ]
  },
  {
   "cell_type": "markdown",
   "metadata": {},
   "source": [
    "### Самые популярные жанры (топ-5). "
   ]
  },
  {
   "cell_type": "code",
   "execution_count": 30,
   "metadata": {},
   "outputs": [
    {
     "data": {
      "text/html": [
       "<div>\n",
       "<style scoped>\n",
       "    .dataframe tbody tr th:only-of-type {\n",
       "        vertical-align: middle;\n",
       "    }\n",
       "\n",
       "    .dataframe tbody tr th {\n",
       "        vertical-align: top;\n",
       "    }\n",
       "\n",
       "    .dataframe thead th {\n",
       "        text-align: right;\n",
       "    }\n",
       "</style>\n",
       "<table border=\"1\" class=\"dataframe\">\n",
       "  <thead>\n",
       "    <tr style=\"text-align: right;\">\n",
       "      <th></th>\n",
       "      <th>genre</th>\n",
       "      <th>na_sales</th>\n",
       "    </tr>\n",
       "  </thead>\n",
       "  <tbody>\n",
       "    <tr>\n",
       "      <th>0</th>\n",
       "      <td>Shooter</td>\n",
       "      <td>79.02</td>\n",
       "    </tr>\n",
       "    <tr>\n",
       "      <th>1</th>\n",
       "      <td>Action</td>\n",
       "      <td>72.53</td>\n",
       "    </tr>\n",
       "    <tr>\n",
       "      <th>2</th>\n",
       "      <td>Sports</td>\n",
       "      <td>46.13</td>\n",
       "    </tr>\n",
       "    <tr>\n",
       "      <th>3</th>\n",
       "      <td>Role-Playing</td>\n",
       "      <td>33.47</td>\n",
       "    </tr>\n",
       "    <tr>\n",
       "      <th>4</th>\n",
       "      <td>Misc</td>\n",
       "      <td>15.05</td>\n",
       "    </tr>\n",
       "  </tbody>\n",
       "</table>\n",
       "</div>"
      ],
      "text/plain": [
       "          genre  na_sales\n",
       "0       Shooter     79.02\n",
       "1        Action     72.53\n",
       "2        Sports     46.13\n",
       "3  Role-Playing     33.47\n",
       "4          Misc     15.05"
      ]
     },
     "metadata": {},
     "output_type": "display_data"
    },
    {
     "data": {
      "image/png": "[encoded data removed]",
      "text/plain": [
       "<Figure size 432x432 with 1 Axes>"
      ]
     },
     "metadata": {},
     "output_type": "display_data"
    },
    {
     "data": {
      "text/html": [
       "<div>\n",
       "<style scoped>\n",
       "    .dataframe tbody tr th:only-of-type {\n",
       "        vertical-align: middle;\n",
       "    }\n",
       "\n",
       "    .dataframe tbody tr th {\n",
       "        vertical-align: top;\n",
       "    }\n",
       "\n",
       "    .dataframe thead th {\n",
       "        text-align: right;\n",
       "    }\n",
       "</style>\n",
       "<table border=\"1\" class=\"dataframe\">\n",
       "  <thead>\n",
       "    <tr style=\"text-align: right;\">\n",
       "      <th></th>\n",
       "      <th>genre</th>\n",
       "      <th>eu_sales</th>\n",
       "    </tr>\n",
       "  </thead>\n",
       "  <tbody>\n",
       "    <tr>\n",
       "      <th>0</th>\n",
       "      <td>Action</td>\n",
       "      <td>74.68</td>\n",
       "    </tr>\n",
       "    <tr>\n",
       "      <th>1</th>\n",
       "      <td>Shooter</td>\n",
       "      <td>65.52</td>\n",
       "    </tr>\n",
       "    <tr>\n",
       "      <th>2</th>\n",
       "      <td>Sports</td>\n",
       "      <td>45.73</td>\n",
       "    </tr>\n",
       "    <tr>\n",
       "      <th>3</th>\n",
       "      <td>Role-Playing</td>\n",
       "      <td>28.17</td>\n",
       "    </tr>\n",
       "    <tr>\n",
       "      <th>4</th>\n",
       "      <td>Racing</td>\n",
       "      <td>14.13</td>\n",
       "    </tr>\n",
       "  </tbody>\n",
       "</table>\n",
       "</div>"
      ],
      "text/plain": [
       "          genre  eu_sales\n",
       "0        Action     74.68\n",
       "1       Shooter     65.52\n",
       "2        Sports     45.73\n",
       "3  Role-Playing     28.17\n",
       "4        Racing     14.13"
      ]
     },
     "metadata": {},
     "output_type": "display_data"
    },
    {
     "data": {
      "image/png": "[encoded data removed]",
      "text/plain": [
       "<Figure size 432x432 with 1 Axes>"
      ]
     },
     "metadata": {},
     "output_type": "display_data"
    },
    {
     "data": {
      "text/html": [
       "<div>\n",
       "<style scoped>\n",
       "    .dataframe tbody tr th:only-of-type {\n",
       "        vertical-align: middle;\n",
       "    }\n",
       "\n",
       "    .dataframe tbody tr th {\n",
       "        vertical-align: top;\n",
       "    }\n",
       "\n",
       "    .dataframe thead th {\n",
       "        text-align: right;\n",
       "    }\n",
       "</style>\n",
       "<table border=\"1\" class=\"dataframe\">\n",
       "  <thead>\n",
       "    <tr style=\"text-align: right;\">\n",
       "      <th></th>\n",
       "      <th>genre</th>\n",
       "      <th>jp_sales</th>\n",
       "    </tr>\n",
       "  </thead>\n",
       "  <tbody>\n",
       "    <tr>\n",
       "      <th>0</th>\n",
       "      <td>Role-Playing</td>\n",
       "      <td>31.16</td>\n",
       "    </tr>\n",
       "    <tr>\n",
       "      <th>1</th>\n",
       "      <td>Action</td>\n",
       "      <td>29.58</td>\n",
       "    </tr>\n",
       "    <tr>\n",
       "      <th>2</th>\n",
       "      <td>Fighting</td>\n",
       "      <td>6.37</td>\n",
       "    </tr>\n",
       "    <tr>\n",
       "      <th>3</th>\n",
       "      <td>Misc</td>\n",
       "      <td>5.61</td>\n",
       "    </tr>\n",
       "    <tr>\n",
       "      <th>4</th>\n",
       "      <td>Shooter</td>\n",
       "      <td>4.87</td>\n",
       "    </tr>\n",
       "  </tbody>\n",
       "</table>\n",
       "</div>"
      ],
      "text/plain": [
       "          genre  jp_sales\n",
       "0  Role-Playing     31.16\n",
       "1        Action     29.58\n",
       "2      Fighting      6.37\n",
       "3          Misc      5.61\n",
       "4       Shooter      4.87"
      ]
     },
     "metadata": {},
     "output_type": "display_data"
    },
    {
     "data": {
      "image/png": "[encoded data removed]",
      "text/plain": [
       "<Figure size 432x432 with 1 Axes>"
      ]
     },
     "metadata": {},
     "output_type": "display_data"
    }
   ],
   "source": [
    "# Построим круговые диаграммы для продаж игр сгруппировав по жанрам и по регионам\n",
    "# Используем как шаблон предыдущий код, удалив категорию others, так как жанров не так много \n",
    "for region_sales in ['na_sales', 'eu_sales', 'jp_sales']: \n",
    "    plt.figure(figsize=(6, 6))\n",
    "    \n",
    "    region_genre_sales = data.query('year_of_release >= 2014 and year_of_release <= 2016').pivot_table( # изменим на genre_sales\n",
    "        index='genre',   # изменим на genre\n",
    "        values=region_sales, \n",
    "        aggfunc='sum'\n",
    "                ).sort_values(\n",
    "                        by=region_sales, \n",
    "                        ascending=False).reset_index()\n",
    "        # создадим категорию 'others' и поместим туда все продажи игр по жанрам менее 5\n",
    "    region_genre_sales_with_others =  region_genre_sales[region_genre_sales[region_sales] >= 5\n",
    "         ].merge(  # объединим таблицу со значениями более 80 с таблицей где 'others' соответствует сумма продаж всех оставшихся\n",
    "          pd.DataFrame({'genre': ['others'], \n",
    "          region_sales : region_genre_sales[region_genre_sales[region_sales] < 5\n",
    "          ].sum(numeric_only=True)}), #сумируем только цифровые значения(не названия платформ)\n",
    "          how='outer')\n",
    "    \n",
    "    \n",
    "        \n",
    "    display(region_genre_sales.head())  # изменим на genre\n",
    "    \n",
    "    plt.pie(region_genre_sales_with_others[region_sales],  # изменим на genre\n",
    "            labels=region_genre_sales_with_others['genre'], # добавляем названия genre на диаграмму   # изменим на genre\n",
    "            autopct='%1.1f%%') # добавляем проценты на диаграмму\n",
    "     \n",
    "    plt.title(f'Доли продаж по жанрам для {region_sales}')\n",
    "    plt.show()"
   ]
  },
  {
   "cell_type": "markdown",
   "metadata": {},
   "source": [
    "**Вывод:** <br>\n",
    "популярные жанры в Америке и в Европе похожи, лидерами являются Action, Sports и Shooters. В то время как в Японии, жанр ролевых игр на первом месте, а 2 и 3 место разделили Action и Fighting. Cпорт в Японии не популярен.\n"
   ]
  },
  {
   "cell_type": "markdown",
   "metadata": {},
   "source": [
    "### Проанализируем влияет ли рейтинг ESRB на продажи в отдельном регионе"
   ]
  },
  {
   "cell_type": "code",
   "execution_count": 31,
   "metadata": {},
   "outputs": [
    {
     "data": {
      "text/plain": [
       "array(['E', 'unknown', 'M', 'T', 'E10+', 'K-A', 'AO', 'EC', 'RP'],\n",
       "      dtype=object)"
      ]
     },
     "execution_count": 31,
     "metadata": {},
     "output_type": "execute_result"
    }
   ],
   "source": [
    "data['rating'].unique()"
   ]
  },
  {
   "cell_type": "code",
   "execution_count": 32,
   "metadata": {},
   "outputs": [
    {
     "data": {
      "text/html": [
       "<div>\n",
       "<style scoped>\n",
       "    .dataframe tbody tr th:only-of-type {\n",
       "        vertical-align: middle;\n",
       "    }\n",
       "\n",
       "    .dataframe tbody tr th {\n",
       "        vertical-align: top;\n",
       "    }\n",
       "\n",
       "    .dataframe thead th {\n",
       "        text-align: right;\n",
       "    }\n",
       "</style>\n",
       "<table border=\"1\" class=\"dataframe\">\n",
       "  <thead>\n",
       "    <tr style=\"text-align: right;\">\n",
       "      <th></th>\n",
       "      <th>rating</th>\n",
       "      <th>na_sales</th>\n",
       "    </tr>\n",
       "  </thead>\n",
       "  <tbody>\n",
       "    <tr>\n",
       "      <th>0</th>\n",
       "      <td>M</td>\n",
       "      <td>96.42</td>\n",
       "    </tr>\n",
       "    <tr>\n",
       "      <th>1</th>\n",
       "      <td>unknown</td>\n",
       "      <td>64.72</td>\n",
       "    </tr>\n",
       "    <tr>\n",
       "      <th>2</th>\n",
       "      <td>E</td>\n",
       "      <td>50.74</td>\n",
       "    </tr>\n",
       "    <tr>\n",
       "      <th>3</th>\n",
       "      <td>T</td>\n",
       "      <td>38.95</td>\n",
       "    </tr>\n",
       "    <tr>\n",
       "      <th>4</th>\n",
       "      <td>E10+</td>\n",
       "      <td>33.23</td>\n",
       "    </tr>\n",
       "  </tbody>\n",
       "</table>\n",
       "</div>"
      ],
      "text/plain": [
       "    rating  na_sales\n",
       "0        M     96.42\n",
       "1  unknown     64.72\n",
       "2        E     50.74\n",
       "3        T     38.95\n",
       "4     E10+     33.23"
      ]
     },
     "metadata": {},
     "output_type": "display_data"
    },
    {
     "data": {
      "image/png": "[encoded data removed]",
      "text/plain": [
       "<Figure size 432x432 with 1 Axes>"
      ]
     },
     "metadata": {},
     "output_type": "display_data"
    },
    {
     "data": {
      "text/html": [
       "<div>\n",
       "<style scoped>\n",
       "    .dataframe tbody tr th:only-of-type {\n",
       "        vertical-align: middle;\n",
       "    }\n",
       "\n",
       "    .dataframe tbody tr th {\n",
       "        vertical-align: top;\n",
       "    }\n",
       "\n",
       "    .dataframe thead th {\n",
       "        text-align: right;\n",
       "    }\n",
       "</style>\n",
       "<table border=\"1\" class=\"dataframe\">\n",
       "  <thead>\n",
       "    <tr style=\"text-align: right;\">\n",
       "      <th></th>\n",
       "      <th>rating</th>\n",
       "      <th>eu_sales</th>\n",
       "    </tr>\n",
       "  </thead>\n",
       "  <tbody>\n",
       "    <tr>\n",
       "      <th>0</th>\n",
       "      <td>M</td>\n",
       "      <td>93.44</td>\n",
       "    </tr>\n",
       "    <tr>\n",
       "      <th>1</th>\n",
       "      <td>unknown</td>\n",
       "      <td>58.95</td>\n",
       "    </tr>\n",
       "    <tr>\n",
       "      <th>2</th>\n",
       "      <td>E</td>\n",
       "      <td>58.06</td>\n",
       "    </tr>\n",
       "    <tr>\n",
       "      <th>3</th>\n",
       "      <td>T</td>\n",
       "      <td>34.07</td>\n",
       "    </tr>\n",
       "    <tr>\n",
       "      <th>4</th>\n",
       "      <td>E10+</td>\n",
       "      <td>26.16</td>\n",
       "    </tr>\n",
       "  </tbody>\n",
       "</table>\n",
       "</div>"
      ],
      "text/plain": [
       "    rating  eu_sales\n",
       "0        M     93.44\n",
       "1  unknown     58.95\n",
       "2        E     58.06\n",
       "3        T     34.07\n",
       "4     E10+     26.16"
      ]
     },
     "metadata": {},
     "output_type": "display_data"
    },
    {
     "data": {
      "image/png": "[encoded data removed]",
      "text/plain": [
       "<Figure size 432x432 with 1 Axes>"
      ]
     },
     "metadata": {},
     "output_type": "display_data"
    },
    {
     "data": {
      "text/html": [
       "<div>\n",
       "<style scoped>\n",
       "    .dataframe tbody tr th:only-of-type {\n",
       "        vertical-align: middle;\n",
       "    }\n",
       "\n",
       "    .dataframe tbody tr th {\n",
       "        vertical-align: top;\n",
       "    }\n",
       "\n",
       "    .dataframe thead th {\n",
       "        text-align: right;\n",
       "    }\n",
       "</style>\n",
       "<table border=\"1\" class=\"dataframe\">\n",
       "  <thead>\n",
       "    <tr style=\"text-align: right;\">\n",
       "      <th></th>\n",
       "      <th>rating</th>\n",
       "      <th>jp_sales</th>\n",
       "    </tr>\n",
       "  </thead>\n",
       "  <tbody>\n",
       "    <tr>\n",
       "      <th>0</th>\n",
       "      <td>unknown</td>\n",
       "      <td>56.90</td>\n",
       "    </tr>\n",
       "    <tr>\n",
       "      <th>1</th>\n",
       "      <td>T</td>\n",
       "      <td>14.78</td>\n",
       "    </tr>\n",
       "    <tr>\n",
       "      <th>2</th>\n",
       "      <td>E</td>\n",
       "      <td>8.94</td>\n",
       "    </tr>\n",
       "    <tr>\n",
       "      <th>3</th>\n",
       "      <td>M</td>\n",
       "      <td>8.01</td>\n",
       "    </tr>\n",
       "    <tr>\n",
       "      <th>4</th>\n",
       "      <td>E10+</td>\n",
       "      <td>4.46</td>\n",
       "    </tr>\n",
       "  </tbody>\n",
       "</table>\n",
       "</div>"
      ],
      "text/plain": [
       "    rating  jp_sales\n",
       "0  unknown     56.90\n",
       "1        T     14.78\n",
       "2        E      8.94\n",
       "3        M      8.01\n",
       "4     E10+      4.46"
      ]
     },
     "metadata": {},
     "output_type": "display_data"
    },
    {
     "data": {
      "image/png": "[encoded data removed]",
      "text/plain": [
       "<Figure size 432x432 with 1 Axes>"
      ]
     },
     "metadata": {},
     "output_type": "display_data"
    }
   ],
   "source": [
    "# Построим круговые диаграммы для продаж игр сгруппировав по рейтингу и по регионам\n",
    "# Используем как шаблон предыдущий код, удалив категорию others, так как жанров не так много \n",
    "for region_sales in ['na_sales', 'eu_sales', 'jp_sales']: \n",
    "    plt.figure(figsize=(6, 6))\n",
    "    \n",
    "    region_rating_sales = data.query('year_of_release >= 2014 and year_of_release <= 2016').pivot_table( # изменим на rating_sales\n",
    "        index='rating',   # изменим на rating\n",
    "        values=region_sales, \n",
    "        aggfunc='sum'\n",
    "                ).sort_values(\n",
    "                        by=region_sales, \n",
    "                        ascending=False).reset_index()\n",
    "    \n",
    "  \n",
    "        \n",
    "    display(region_rating_sales.head())  # изменим на rating\n",
    "    \n",
    "    plt.pie(region_rating_sales[region_sales],  # изменим на rating\n",
    "            labels=region_rating_sales['rating'], # добавляем названия rating на диаграмму   # изменим на rating\n",
    "            autopct='%1.1f%%') # добавляем проценты на диаграмму\n",
    "     \n",
    "    plt.title(f'Доли продаж по рейтингу ESRB для {region_sales}')\n",
    "    plt.show()"
   ]
  },
  {
   "cell_type": "markdown",
   "metadata": {},
   "source": [
    "Вывод: игры без рейтинга -  самые продаваемые в Японии и на втором месте в Америке и Европе. Возможно это игры, выпущенные не в Америке, где работает рейтинговое агенство. Для рейтинга T для подростков занчение на уровне 13-15% во всех регионах.\n",
    "В Японии игры категории M(более 17 лет) составляют всего около 9%, тогда как в Америке и Европе эта категория в лидерах и составляют треть всех продаж. Видимо производители игр часто ориентируются именно на эту группу.\n"
   ]
  },
  {
   "cell_type": "markdown",
   "metadata": {},
   "source": [
    "## 5 Проверка гипотез <a class=\"anchor\" id=\"chapter5\"></a>"
   ]
  },
  {
   "cell_type": "markdown",
   "metadata": {},
   "source": [
    "### Гипотеза №1: Средние пользовательские рейтинги платформ Xbox One и PC одинаковые <a class=\"anchor\" id=\"section_5_1\"></a>"
   ]
  },
  {
   "cell_type": "markdown",
   "metadata": {},
   "source": [
    "Примем <br>\n",
    "H_0: Пользовательские рейтинги платформы Xbox One =  пользовательские рейтинги платформы PC  <br>\n",
    "H_a: Пользовательские рейтинги платформы Xbox One !=  пользовательские рейтинги платформы PC  <br>\n",
    "alpha = 0.05\n",
    "\n",
    "Проверка гипотез начинается с формулировки нулевой гипотезы H₀, то что рейтинги равны.\n",
    "Исходя из H₀ формулируется альтернативная гипотеза H₁. Это утверждение, которое принимается верным, если отбрасывается H₀. В нашем случае такая альтернативная гипотеза называется двусторонней, потому что есть возможное отклонение и в большую, и в меньшую стороны. <br>\n",
    "\n",
    "Теперь остается только на основе данных сделать выбор: отклонить нулевую гипотезу в пользу альтернативной или нет.\n",
    "Для этого нужно посчитать вероятность получить наблюдаемое на выборке значение при условии, что нулевая гипотеза верна. Если вероятность большая — отвергать нулевую гипотезу вряд ли стоит. "
   ]
  },
  {
   "cell_type": "code",
   "execution_count": 34,
   "metadata": {},
   "outputs": [
    {
     "name": "stdout",
     "output_type": "stream",
     "text": [
      "0.13130164268727834\n",
      "Не получилось отвергнуть нулевую гипотезу\n"
     ]
    }
   ],
   "source": [
    "data_3_year = data[(data['year_of_release'] >= 2014) & (data['year_of_release'] <= 2016)]\n",
    "\n",
    "results = st.ttest_ind(\n",
    "    data_3_year[(data_3_year['platform'] == 'XOne') & (data_3_year['user_score'].isnull() == False)]['user_score'],\n",
    "    data_3_year[(data_3_year['platform'] == 'PC') & (data_3_year['user_score'].isnull() == False)]['user_score'],\n",
    "    equal_var = False)\n",
    "\n",
    "alpha = 0.05 # значение уровня значимости\n",
    "\n",
    "# вывод значения p-value на экран \n",
    "print(results.pvalue)\n",
    "# условный оператор с выводом строки с ответом\n",
    "if results.pvalue < alpha:\n",
    "    print('Отвергаем нулевую гипотезу')\n",
    "else:\n",
    "    print('Не получилось отвергнуть нулевую гипотезу')"
   ]
  },
  {
   "cell_type": "markdown",
   "metadata": {},
   "source": [
    "Так как расчитанное pvalue больше, чем заданное alpha, то нулевую гипотезу не можем отклонить; что значит, что вероятность, что рейтинги платформ равны выше пороговое значения alpha. <br>"
   ]
  },
  {
   "cell_type": "markdown",
   "metadata": {},
   "source": [
    "### Гипотеза №2: Средние пользовательские рейтинги жанров Action и Sports разные. <a class=\"anchor\" id=\"section_5_2\"></a>"
   ]
  },
  {
   "cell_type": "markdown",
   "metadata": {},
   "source": [
    "Примем <br>\n",
    "H_0: Пользовательские рейтинги жанров Action =  пользовательские рейтинги жанров Sports  <br>\n",
    "H_a: Пользовательские рейтинги жанров Action !=  пользовательские рейтинги жанров Sports  <br>\n",
    "alpha = 0.05\n",
    "\n",
    "Проверка гипотез начинается с формулировки нулевой гипотезы H₀, то что рейтинги равны.\n",
    "Исходя из H₀ формулируется альтернативная гипотеза H₁. Это утверждение, которое принимается верным, если отбрасывается H₀. В нашем случае такая альтернативная гипотеза называется двусторонней, потому что есть возможное отклонение и в большую, и в меньшую стороны. <br>\n",
    "\n",
    "Теперь остается только на основе данных сделать выбор: отклонить нулевую гипотезу в пользу альтернативной или нет.\n",
    "Для этого нужно посчитать вероятность получить наблюдаемое на выборке значение при условии, что нулевая гипотеза верна. Если вероятность большая — отвергать нулевую гипотезу вряд ли стоит. "
   ]
  },
  {
   "cell_type": "code",
   "execution_count": 35,
   "metadata": {},
   "outputs": [
    {
     "name": "stdout",
     "output_type": "stream",
     "text": [
      "1.3080710852425688e-13\n",
      "Отвергаем нулевую гипотезу\n"
     ]
    }
   ],
   "source": [
    "data_3_year = data[(data['year_of_release'] >= 2014) & (data['year_of_release'] <= 2016)]\n",
    "\n",
    "results = st.ttest_ind(\n",
    "    data_3_year[(data_3_year['genre'] == 'Action') & (data_3_year['user_score'].isnull() == False)]['user_score'],\n",
    "    data_3_year[(data_3_year['genre'] == 'Sports') & (data_3_year['user_score'].isnull() == False)]['user_score'],\n",
    "    equal_var = False)\n",
    "\n",
    "alpha = 0.05 # значение уровня значимости\n",
    "\n",
    "# вывод значения p-value на экран \n",
    "print(results.pvalue)\n",
    "# условный оператор с выводом строки с ответом\n",
    "if results.pvalue < alpha:\n",
    "    print('Отвергаем нулевую гипотезу')\n",
    "else:\n",
    "    print('Не получилось отвергнуть нулевую гипотезу')"
   ]
  },
  {
   "cell_type": "markdown",
   "metadata": {},
   "source": [
    "Так как расчитанное pvalue меньше, чем заданное alpha, то гипотезу можем отклонить, то есть вероятность, что рейтинги жанров равны ниже, чем наше пороговое значение alpha. <br>\n",
    "Но! <br>\n",
    "Гипотеза изначально звучит как рейтинги 'не равны', и соответственно эту гипотезу мы не отвергаем, так как она противоположная взятой нами в исследовании. "
   ]
  },
  {
   "cell_type": "markdown",
   "metadata": {},
   "source": [
    "## Общий вывод <a class=\"anchor\" id=\"chapter6\"></a>"
   ]
  },
  {
   "cell_type": "markdown",
   "metadata": {},
   "source": [
    "В проекте мы выявили определяющие успешность игры закономерности. Это позволит сделать ставку на потенциально популярный продукт и спланировать рекламные кампании.\n",
    "\n",
    "- рост количества выпущенных игр шел до 2008 года, затем пошел на спад\n",
    "- каждые 11лет появляются новые и исчезают старые платформы\n",
    "- Платформы с наибольшими суммарными продажами: PS2, X360, PS3, Wii, DS и PS\n",
    "- За последние 3 года лидируют по продажам: PS4, XOne и 3DS\n",
    "- приставки PS4, XOne, 3DS стали замещать приставки предыдущего поколения и являются прибыльным вложением\n",
    "- Прослеживается прямая зависимость и слабая корреляция между продажами и оценками пользователей/критиков. Причем корреляция с отзывами критиков более значимая.\n",
    "- Корелляция между отзывами критиков и продажами за 3 года положительная, но не сильная, с максимальными значаниями на уровне 0.4. Выделяется только X360, для нее корреляция средняя, на уровне 0,55.\n",
    "- Корелляция между отзывами пользователей и продажами положительная для WIIU(0,4), Wii(0,05) и 3DS(0.25) и отрицательная для остальных, но нигде ни сильная.\n",
    "\n",
    "- Игры с самыми высокими продажами - это Action, Shooter и Sports \n",
    "- Игры с самыми низкими продажами - это Puzzle, Strategy и Simulation \n",
    "- Больше всего выделяются Actions и Puzzle, их продажи значительно выше/ниже соответственно\n",
    "\n",
    "- Игры с самыми высокими медианными продажами - это Shooter, Sports и Platform Игры с самыми низкими продажами - это Puzzle, Strategy и Adventrue Больше всего выделяются Shooters и Adventure, их продажи значительно выше/ниже соответственно\n",
    "\n",
    "- в Европе и Америке платформа PS4 и XOne на пике популярности. В то время как в Японии XOne совершенно не популярна, но большой популярностью пользуется 3DS с продажами игр, которые составляют почти половину всего рынка. Кроме того, японцы любят играть в портативную PSV c 15% продаж игр. \n",
    "- во всех регионах в пятерки лидеров PS3, консоль предыдущего поколения\n",
    "- популярные жанры в Америке и в Европе похожи, лидерами являются Action, Sports и Shooters. В то время как в Японии, жанр ролевых игр на первом месте, а 2 и 3 место разделили Action и Fighting. Cпорт в Японии не популярен.\n",
    "\n",
    "- игры без рейтинга - самые продаваемые в Японии и на втором месте в Америке и Европе. Возможно это игры, выпущенные не в Америке, где работает рейтинговое агенство. Для рейтинга T для подростков занчение на уровне 13-15% во всех регионах. В Японии игры категории M(более 17 лет) составляют всего около 9%, тогда как в Америке и Европе эта категория в лидерах и составляют треть всех продаж. Видимо производители игр часто ориентируются именно на эту группу.\n",
    "- Не получилось отвергнуть гипотезу, что Средние пользовательские рейтинги платформ Xbox One и PC одинаковые\n",
    "- Не получилось отвергнуть гипотезу , что  Средние пользовательские рейтинги жанров Action и Sports  разные\n",
    "\n",
    "\n",
    "\n",
    "\n"
   ]
  }
 ],
 "metadata": {
  "ExecuteTimeLog": [
   {
    "duration": 58,
    "start_time": "2022-08-08T08:30:44.623Z"
   },
   {
    "duration": 5,
    "start_time": "2022-08-08T08:30:55.041Z"
   },
   {
    "duration": 355,
    "start_time": "2022-08-08T08:31:02.725Z"
   },
   {
    "duration": 213,
    "start_time": "2022-08-08T08:31:04.797Z"
   },
   {
    "duration": 69,
    "start_time": "2022-08-08T08:31:29.722Z"
   },
   {
    "duration": 1898,
    "start_time": "2022-08-08T08:37:38.081Z"
   },
   {
    "duration": 1482,
    "start_time": "2022-08-08T08:37:43.637Z"
   },
   {
    "duration": 47,
    "start_time": "2022-08-08T08:37:53.892Z"
   },
   {
    "duration": 65,
    "start_time": "2022-08-08T08:38:01.122Z"
   },
   {
    "duration": 58,
    "start_time": "2022-08-08T08:39:31.351Z"
   },
   {
    "duration": 66,
    "start_time": "2022-08-08T08:39:36.913Z"
   },
   {
    "duration": 78,
    "start_time": "2022-08-08T08:39:47.296Z"
   },
   {
    "duration": 78,
    "start_time": "2022-08-08T08:40:34.662Z"
   },
   {
    "duration": 91,
    "start_time": "2022-08-08T08:40:45.275Z"
   },
   {
    "duration": 22,
    "start_time": "2022-08-08T08:41:23.768Z"
   },
   {
    "duration": 1642,
    "start_time": "2022-08-08T08:43:04.553Z"
   },
   {
    "duration": 25,
    "start_time": "2022-08-08T08:43:34.679Z"
   },
   {
    "duration": 81,
    "start_time": "2022-08-08T08:44:07.713Z"
   },
   {
    "duration": 25,
    "start_time": "2022-08-08T08:45:12.129Z"
   },
   {
    "duration": 35,
    "start_time": "2022-08-08T08:45:24.852Z"
   },
   {
    "duration": 21,
    "start_time": "2022-08-08T08:45:54.483Z"
   },
   {
    "duration": 30,
    "start_time": "2022-08-08T08:46:03.213Z"
   },
   {
    "duration": 53,
    "start_time": "2022-08-08T13:29:31.796Z"
   },
   {
    "duration": 9,
    "start_time": "2022-08-08T13:29:34.491Z"
   },
   {
    "duration": 425,
    "start_time": "2022-08-08T13:29:43.757Z"
   },
   {
    "duration": 220,
    "start_time": "2022-08-08T13:29:44.185Z"
   },
   {
    "duration": 1467,
    "start_time": "2022-08-08T13:29:48.119Z"
   },
   {
    "duration": 2,
    "start_time": "2022-08-08T13:30:03.489Z"
   },
   {
    "duration": 80,
    "start_time": "2022-08-08T13:30:04.887Z"
   },
   {
    "duration": 22,
    "start_time": "2022-08-08T13:30:08.556Z"
   },
   {
    "duration": 12,
    "start_time": "2022-08-08T13:30:18.837Z"
   },
   {
    "duration": 9,
    "start_time": "2022-08-08T13:30:30.403Z"
   },
   {
    "duration": 9,
    "start_time": "2022-08-08T13:30:33.359Z"
   },
   {
    "duration": 11,
    "start_time": "2022-08-08T13:30:41.510Z"
   },
   {
    "duration": 18,
    "start_time": "2022-08-08T13:33:07.796Z"
   },
   {
    "duration": 12,
    "start_time": "2022-08-08T13:33:14.893Z"
   },
   {
    "duration": 1075,
    "start_time": "2022-08-08T13:33:23.350Z"
   },
   {
    "duration": 11,
    "start_time": "2022-08-08T13:35:05.858Z"
   },
   {
    "duration": 4,
    "start_time": "2022-08-08T13:36:08.157Z"
   },
   {
    "duration": 9,
    "start_time": "2022-08-08T13:36:20.378Z"
   },
   {
    "duration": 6,
    "start_time": "2022-08-08T13:36:35.447Z"
   },
   {
    "duration": 14,
    "start_time": "2022-08-08T13:36:56.156Z"
   },
   {
    "duration": 13,
    "start_time": "2022-08-08T13:38:35.205Z"
   },
   {
    "duration": 14,
    "start_time": "2022-08-08T13:38:54.936Z"
   },
   {
    "duration": 392,
    "start_time": "2022-08-08T20:13:18.238Z"
   },
   {
    "duration": 149,
    "start_time": "2022-08-08T20:13:18.632Z"
   },
   {
    "duration": 14,
    "start_time": "2022-08-08T20:13:18.782Z"
   },
   {
    "duration": 27,
    "start_time": "2022-08-08T20:13:18.798Z"
   },
   {
    "duration": 14,
    "start_time": "2022-08-08T20:13:18.826Z"
   },
   {
    "duration": 858,
    "start_time": "2022-08-08T20:13:25.619Z"
   },
   {
    "duration": 6,
    "start_time": "2022-08-08T20:13:37.782Z"
   },
   {
    "duration": 8,
    "start_time": "2022-08-08T20:13:50.367Z"
   },
   {
    "duration": 5,
    "start_time": "2022-08-08T20:14:10.416Z"
   },
   {
    "duration": 5,
    "start_time": "2022-08-08T20:14:52.317Z"
   },
   {
    "duration": 9,
    "start_time": "2022-08-08T20:15:01.898Z"
   },
   {
    "duration": 69,
    "start_time": "2022-08-08T20:17:22.964Z"
   },
   {
    "duration": 91,
    "start_time": "2022-08-08T20:17:36.320Z"
   },
   {
    "duration": 7,
    "start_time": "2022-08-08T20:17:40.218Z"
   },
   {
    "duration": 30,
    "start_time": "2022-08-08T20:19:10.883Z"
   },
   {
    "duration": 2,
    "start_time": "2022-08-08T20:22:52.813Z"
   },
   {
    "duration": 3,
    "start_time": "2022-08-08T20:23:00.328Z"
   },
   {
    "duration": 11,
    "start_time": "2022-08-08T20:23:34.940Z"
   },
   {
    "duration": 14,
    "start_time": "2022-08-08T20:24:44.501Z"
   },
   {
    "duration": 27,
    "start_time": "2022-08-08T20:25:03.077Z"
   },
   {
    "duration": 25,
    "start_time": "2022-08-08T20:25:14.518Z"
   },
   {
    "duration": 30,
    "start_time": "2022-08-08T20:25:21.081Z"
   },
   {
    "duration": 10,
    "start_time": "2022-08-08T20:25:25.349Z"
   },
   {
    "duration": 11,
    "start_time": "2022-08-08T20:26:19.834Z"
   },
   {
    "duration": 9,
    "start_time": "2022-08-08T20:26:24.713Z"
   },
   {
    "duration": 23,
    "start_time": "2022-08-08T20:26:41.706Z"
   },
   {
    "duration": 6,
    "start_time": "2022-08-08T20:27:08.932Z"
   },
   {
    "duration": 32,
    "start_time": "2022-08-08T20:27:28.000Z"
   },
   {
    "duration": 6,
    "start_time": "2022-08-08T20:28:54.071Z"
   },
   {
    "duration": 17,
    "start_time": "2022-08-08T20:29:03.222Z"
   },
   {
    "duration": 18,
    "start_time": "2022-08-08T20:29:19.872Z"
   },
   {
    "duration": 26,
    "start_time": "2022-08-08T20:36:53.523Z"
   },
   {
    "duration": 7,
    "start_time": "2022-08-08T20:37:22.559Z"
   },
   {
    "duration": 8,
    "start_time": "2022-08-08T20:37:28.775Z"
   },
   {
    "duration": 12,
    "start_time": "2022-08-08T20:37:40.715Z"
   },
   {
    "duration": 15,
    "start_time": "2022-08-08T20:38:03.660Z"
   },
   {
    "duration": 69,
    "start_time": "2022-08-08T20:38:50.997Z"
   },
   {
    "duration": 370,
    "start_time": "2022-08-08T20:39:14.198Z"
   },
   {
    "duration": 2,
    "start_time": "2022-08-08T20:39:33.262Z"
   },
   {
    "duration": 78,
    "start_time": "2022-08-08T20:39:33.269Z"
   },
   {
    "duration": 13,
    "start_time": "2022-08-08T20:39:33.349Z"
   },
   {
    "duration": 8,
    "start_time": "2022-08-08T20:39:33.364Z"
   },
   {
    "duration": 4,
    "start_time": "2022-08-08T20:39:33.374Z"
   },
   {
    "duration": 20,
    "start_time": "2022-08-08T20:39:33.379Z"
   },
   {
    "duration": 383,
    "start_time": "2022-08-08T20:39:40.999Z"
   },
   {
    "duration": 506,
    "start_time": "2022-08-08T20:40:00.554Z"
   },
   {
    "duration": 395,
    "start_time": "2022-08-08T20:40:35.337Z"
   },
   {
    "duration": 442,
    "start_time": "2022-08-08T20:40:49.993Z"
   },
   {
    "duration": 426,
    "start_time": "2022-08-08T20:41:15.998Z"
   },
   {
    "duration": 781,
    "start_time": "2022-08-08T20:41:37.790Z"
   },
   {
    "duration": 8,
    "start_time": "2022-08-08T20:41:53.986Z"
   },
   {
    "duration": 11,
    "start_time": "2022-08-08T20:42:09.998Z"
   },
   {
    "duration": 8,
    "start_time": "2022-08-08T20:42:18.056Z"
   },
   {
    "duration": 6,
    "start_time": "2022-08-08T20:42:22.549Z"
   },
   {
    "duration": 422,
    "start_time": "2022-08-09T06:17:59.994Z"
   },
   {
    "duration": 119,
    "start_time": "2022-08-09T06:18:00.418Z"
   },
   {
    "duration": 13,
    "start_time": "2022-08-09T06:18:00.539Z"
   },
   {
    "duration": 48,
    "start_time": "2022-08-09T06:18:00.555Z"
   },
   {
    "duration": 20,
    "start_time": "2022-08-09T06:18:00.605Z"
   },
   {
    "duration": 16,
    "start_time": "2022-08-09T06:18:09.019Z"
   },
   {
    "duration": 13,
    "start_time": "2022-08-09T06:18:14.784Z"
   },
   {
    "duration": 16,
    "start_time": "2022-08-09T06:18:18.382Z"
   },
   {
    "duration": 20,
    "start_time": "2022-08-09T06:18:46.133Z"
   },
   {
    "duration": 65,
    "start_time": "2022-08-09T06:18:57.389Z"
   },
   {
    "duration": 5,
    "start_time": "2022-08-09T06:19:13.981Z"
   },
   {
    "duration": 9,
    "start_time": "2022-08-09T06:19:22.371Z"
   },
   {
    "duration": 9,
    "start_time": "2022-08-09T06:19:25.328Z"
   },
   {
    "duration": 6,
    "start_time": "2022-08-09T06:19:29.465Z"
   },
   {
    "duration": 6,
    "start_time": "2022-08-09T06:19:37.666Z"
   },
   {
    "duration": 5,
    "start_time": "2022-08-09T06:19:55.487Z"
   },
   {
    "duration": 6,
    "start_time": "2022-08-09T06:20:08.370Z"
   },
   {
    "duration": 15,
    "start_time": "2022-08-09T06:20:13.009Z"
   },
   {
    "duration": 17,
    "start_time": "2022-08-09T06:20:34.924Z"
   },
   {
    "duration": 16,
    "start_time": "2022-08-09T06:20:42.240Z"
   },
   {
    "duration": 7,
    "start_time": "2022-08-09T06:20:57.847Z"
   },
   {
    "duration": 6,
    "start_time": "2022-08-09T06:21:02.462Z"
   },
   {
    "duration": 5,
    "start_time": "2022-08-09T06:21:21.428Z"
   },
   {
    "duration": 13,
    "start_time": "2022-08-09T06:22:06.112Z"
   },
   {
    "duration": 21,
    "start_time": "2022-08-09T06:22:48.964Z"
   },
   {
    "duration": 23,
    "start_time": "2022-08-09T06:26:59.935Z"
   },
   {
    "duration": 15,
    "start_time": "2022-08-09T06:27:17.855Z"
   },
   {
    "duration": 32,
    "start_time": "2022-08-09T06:29:05.892Z"
   },
   {
    "duration": 17,
    "start_time": "2022-08-09T06:29:34.681Z"
   },
   {
    "duration": 909,
    "start_time": "2022-08-09T06:29:50.482Z"
   },
   {
    "duration": 14,
    "start_time": "2022-08-09T06:30:13.737Z"
   },
   {
    "duration": 26,
    "start_time": "2022-08-09T06:30:38.330Z"
   },
   {
    "duration": 25,
    "start_time": "2022-08-09T06:32:12.822Z"
   },
   {
    "duration": 15,
    "start_time": "2022-08-09T06:36:43.696Z"
   },
   {
    "duration": 22,
    "start_time": "2022-08-09T06:40:03.745Z"
   },
   {
    "duration": 26,
    "start_time": "2022-08-09T06:40:18.113Z"
   },
   {
    "duration": 27,
    "start_time": "2022-08-09T06:40:28.357Z"
   },
   {
    "duration": 21,
    "start_time": "2022-08-09T06:49:39.918Z"
   },
   {
    "duration": 36,
    "start_time": "2022-08-09T06:58:03.751Z"
   },
   {
    "duration": 21,
    "start_time": "2022-08-09T06:59:20.734Z"
   },
   {
    "duration": 7,
    "start_time": "2022-08-09T08:09:22.124Z"
   },
   {
    "duration": 4,
    "start_time": "2022-08-09T08:09:39.246Z"
   },
   {
    "duration": 5,
    "start_time": "2022-08-09T08:10:01.648Z"
   },
   {
    "duration": 4,
    "start_time": "2022-08-09T08:10:08.912Z"
   },
   {
    "duration": 27,
    "start_time": "2022-08-09T08:11:03.659Z"
   },
   {
    "duration": 28,
    "start_time": "2022-08-09T08:11:38.694Z"
   },
   {
    "duration": 25,
    "start_time": "2022-08-09T08:11:51.080Z"
   },
   {
    "duration": 8,
    "start_time": "2022-08-09T08:13:18.348Z"
   },
   {
    "duration": 219,
    "start_time": "2022-08-09T08:13:31.869Z"
   },
   {
    "duration": 21,
    "start_time": "2022-08-09T08:14:12.786Z"
   },
   {
    "duration": 8,
    "start_time": "2022-08-09T08:14:23.017Z"
   },
   {
    "duration": 15,
    "start_time": "2022-08-09T08:15:59.900Z"
   },
   {
    "duration": 15,
    "start_time": "2022-08-09T08:16:37.676Z"
   },
   {
    "duration": 11,
    "start_time": "2022-08-09T08:16:44.054Z"
   },
   {
    "duration": 10,
    "start_time": "2022-08-09T08:22:15.525Z"
   },
   {
    "duration": 14,
    "start_time": "2022-08-09T08:22:27.298Z"
   },
   {
    "duration": 10,
    "start_time": "2022-08-09T08:22:32.463Z"
   },
   {
    "duration": 16,
    "start_time": "2022-08-09T08:23:05.142Z"
   },
   {
    "duration": 15,
    "start_time": "2022-08-09T08:23:18.297Z"
   },
   {
    "duration": 13,
    "start_time": "2022-08-09T08:23:32.969Z"
   },
   {
    "duration": 11,
    "start_time": "2022-08-09T08:23:43.250Z"
   },
   {
    "duration": 12,
    "start_time": "2022-08-09T08:24:18.031Z"
   },
   {
    "duration": 20,
    "start_time": "2022-08-09T08:24:26.293Z"
   },
   {
    "duration": 24,
    "start_time": "2022-08-09T08:25:15.575Z"
   },
   {
    "duration": 26,
    "start_time": "2022-08-09T08:25:21.637Z"
   },
   {
    "duration": 26,
    "start_time": "2022-08-09T08:25:31.693Z"
   },
   {
    "duration": 26,
    "start_time": "2022-08-09T08:25:38.555Z"
   },
   {
    "duration": 32,
    "start_time": "2022-08-09T08:27:57.283Z"
   },
   {
    "duration": 19,
    "start_time": "2022-08-09T08:28:06.382Z"
   },
   {
    "duration": 24,
    "start_time": "2022-08-09T08:28:13.165Z"
   },
   {
    "duration": 25,
    "start_time": "2022-08-09T08:31:48.801Z"
   },
   {
    "duration": 375,
    "start_time": "2022-08-09T11:55:17.427Z"
   },
   {
    "duration": 126,
    "start_time": "2022-08-09T11:55:17.803Z"
   },
   {
    "duration": 14,
    "start_time": "2022-08-09T11:55:17.931Z"
   },
   {
    "duration": 5,
    "start_time": "2022-08-09T11:55:17.947Z"
   },
   {
    "duration": 6,
    "start_time": "2022-08-09T11:55:17.953Z"
   },
   {
    "duration": 10,
    "start_time": "2022-08-09T11:55:17.961Z"
   },
   {
    "duration": 30,
    "start_time": "2022-08-09T11:55:17.973Z"
   },
   {
    "duration": 26,
    "start_time": "2022-08-09T11:59:51.248Z"
   },
   {
    "duration": 67,
    "start_time": "2022-08-09T12:00:45.676Z"
   },
   {
    "duration": 14,
    "start_time": "2022-08-09T12:00:54.390Z"
   },
   {
    "duration": 15,
    "start_time": "2022-08-09T12:01:04.870Z"
   },
   {
    "duration": 4,
    "start_time": "2022-08-09T12:09:07.976Z"
   },
   {
    "duration": 4,
    "start_time": "2022-08-09T12:09:18.577Z"
   },
   {
    "duration": 4,
    "start_time": "2022-08-09T12:09:23.162Z"
   },
   {
    "duration": 4,
    "start_time": "2022-08-09T12:09:27.819Z"
   },
   {
    "duration": 4,
    "start_time": "2022-08-09T12:09:31.777Z"
   },
   {
    "duration": 4,
    "start_time": "2022-08-09T12:09:39.962Z"
   },
   {
    "duration": 3,
    "start_time": "2022-08-09T12:11:11.409Z"
   },
   {
    "duration": 120,
    "start_time": "2022-08-09T12:11:18.570Z"
   },
   {
    "duration": 6,
    "start_time": "2022-08-09T12:11:34.199Z"
   },
   {
    "duration": 4,
    "start_time": "2022-08-09T12:11:38.646Z"
   },
   {
    "duration": 7,
    "start_time": "2022-08-09T12:11:57.608Z"
   },
   {
    "duration": 4,
    "start_time": "2022-08-09T12:12:04.797Z"
   },
   {
    "duration": 5,
    "start_time": "2022-08-09T12:12:14.012Z"
   },
   {
    "duration": 4,
    "start_time": "2022-08-09T12:12:17.527Z"
   },
   {
    "duration": 5,
    "start_time": "2022-08-09T12:12:22.769Z"
   },
   {
    "duration": 7,
    "start_time": "2022-08-09T12:14:12.047Z"
   },
   {
    "duration": 11,
    "start_time": "2022-08-09T12:14:15.976Z"
   },
   {
    "duration": 5,
    "start_time": "2022-08-09T12:16:24.950Z"
   },
   {
    "duration": 11,
    "start_time": "2022-08-09T12:16:38.125Z"
   },
   {
    "duration": 5,
    "start_time": "2022-08-09T12:19:05.508Z"
   },
   {
    "duration": 4,
    "start_time": "2022-08-09T12:19:26.247Z"
   },
   {
    "duration": 5,
    "start_time": "2022-08-09T12:19:30.498Z"
   },
   {
    "duration": 5,
    "start_time": "2022-08-09T12:19:36.911Z"
   },
   {
    "duration": 5,
    "start_time": "2022-08-09T12:19:46.025Z"
   },
   {
    "duration": 5,
    "start_time": "2022-08-09T12:19:54.612Z"
   },
   {
    "duration": 4,
    "start_time": "2022-08-09T12:22:15.755Z"
   },
   {
    "duration": 6,
    "start_time": "2022-08-09T12:22:20.185Z"
   },
   {
    "duration": 5,
    "start_time": "2022-08-09T12:22:25.210Z"
   },
   {
    "duration": 5,
    "start_time": "2022-08-09T12:22:28.699Z"
   },
   {
    "duration": 5,
    "start_time": "2022-08-09T12:22:51.530Z"
   },
   {
    "duration": 4,
    "start_time": "2022-08-09T12:22:55.490Z"
   },
   {
    "duration": 3,
    "start_time": "2022-08-09T12:23:20.726Z"
   },
   {
    "duration": 5,
    "start_time": "2022-08-09T12:23:23.813Z"
   },
   {
    "duration": 5,
    "start_time": "2022-08-09T12:23:29.913Z"
   },
   {
    "duration": 5,
    "start_time": "2022-08-09T12:23:33.908Z"
   },
   {
    "duration": 6,
    "start_time": "2022-08-09T12:23:39.066Z"
   },
   {
    "duration": 3,
    "start_time": "2022-08-09T12:26:08.367Z"
   },
   {
    "duration": 4,
    "start_time": "2022-08-09T12:26:12.253Z"
   },
   {
    "duration": 5,
    "start_time": "2022-08-09T12:26:15.071Z"
   },
   {
    "duration": 9,
    "start_time": "2022-08-09T12:29:29.620Z"
   },
   {
    "duration": 13,
    "start_time": "2022-08-09T12:29:40.727Z"
   },
   {
    "duration": 11,
    "start_time": "2022-08-09T12:33:33.080Z"
   },
   {
    "duration": 11,
    "start_time": "2022-08-09T12:34:02.224Z"
   },
   {
    "duration": 11,
    "start_time": "2022-08-09T12:34:21.064Z"
   },
   {
    "duration": 57,
    "start_time": "2022-08-09T12:34:59.024Z"
   },
   {
    "duration": 11,
    "start_time": "2022-08-09T12:35:22.187Z"
   },
   {
    "duration": 54,
    "start_time": "2022-08-09T12:35:31.786Z"
   },
   {
    "duration": 11,
    "start_time": "2022-08-09T12:35:39.522Z"
   },
   {
    "duration": 11,
    "start_time": "2022-08-09T12:36:34.831Z"
   },
   {
    "duration": 35,
    "start_time": "2022-08-09T12:42:33.079Z"
   },
   {
    "duration": 5,
    "start_time": "2022-08-09T12:43:28.445Z"
   },
   {
    "duration": 3,
    "start_time": "2022-08-09T12:44:05.735Z"
   },
   {
    "duration": 86,
    "start_time": "2022-08-09T12:44:05.745Z"
   },
   {
    "duration": 13,
    "start_time": "2022-08-09T12:44:05.833Z"
   },
   {
    "duration": 13,
    "start_time": "2022-08-09T12:44:05.847Z"
   },
   {
    "duration": 20,
    "start_time": "2022-08-09T12:44:05.862Z"
   },
   {
    "duration": 35,
    "start_time": "2022-08-09T12:44:05.884Z"
   },
   {
    "duration": 29,
    "start_time": "2022-08-09T12:44:05.921Z"
   },
   {
    "duration": 24,
    "start_time": "2022-08-09T12:44:05.952Z"
   },
   {
    "duration": 19,
    "start_time": "2022-08-09T12:44:05.978Z"
   },
   {
    "duration": 11,
    "start_time": "2022-08-09T12:44:24.007Z"
   },
   {
    "duration": 32,
    "start_time": "2022-08-09T12:44:28.144Z"
   },
   {
    "duration": 3,
    "start_time": "2022-08-09T12:44:32.647Z"
   },
   {
    "duration": 7,
    "start_time": "2022-08-09T12:44:49.887Z"
   },
   {
    "duration": 7,
    "start_time": "2022-08-09T12:45:12.639Z"
   },
   {
    "duration": 6,
    "start_time": "2022-08-09T12:47:05.840Z"
   },
   {
    "duration": 25,
    "start_time": "2022-08-09T12:47:33.860Z"
   },
   {
    "duration": 12,
    "start_time": "2022-08-09T12:51:05.700Z"
   },
   {
    "duration": 13,
    "start_time": "2022-08-09T12:51:52.766Z"
   },
   {
    "duration": 11,
    "start_time": "2022-08-09T13:03:51.206Z"
   },
   {
    "duration": 3,
    "start_time": "2022-08-09T13:04:01.544Z"
   },
   {
    "duration": 109,
    "start_time": "2022-08-09T13:04:01.549Z"
   },
   {
    "duration": 13,
    "start_time": "2022-08-09T13:04:01.660Z"
   },
   {
    "duration": 14,
    "start_time": "2022-08-09T13:04:01.675Z"
   },
   {
    "duration": 8,
    "start_time": "2022-08-09T13:04:01.691Z"
   },
   {
    "duration": 28,
    "start_time": "2022-08-09T13:04:01.700Z"
   },
   {
    "duration": 50,
    "start_time": "2022-08-09T13:04:01.730Z"
   },
   {
    "duration": 25,
    "start_time": "2022-08-09T13:04:01.781Z"
   },
   {
    "duration": 17,
    "start_time": "2022-08-09T13:04:01.807Z"
   },
   {
    "duration": 14,
    "start_time": "2022-08-09T13:04:06.257Z"
   },
   {
    "duration": 11,
    "start_time": "2022-08-09T13:05:53.304Z"
   },
   {
    "duration": 24,
    "start_time": "2022-08-09T13:06:29.809Z"
   },
   {
    "duration": 21,
    "start_time": "2022-08-09T13:06:38.079Z"
   },
   {
    "duration": 389,
    "start_time": "2022-08-09T21:09:22.785Z"
   },
   {
    "duration": 115,
    "start_time": "2022-08-09T21:09:23.175Z"
   },
   {
    "duration": 13,
    "start_time": "2022-08-09T21:09:23.291Z"
   },
   {
    "duration": 4,
    "start_time": "2022-08-09T21:09:23.306Z"
   },
   {
    "duration": 6,
    "start_time": "2022-08-09T21:09:23.311Z"
   },
   {
    "duration": 14,
    "start_time": "2022-08-09T21:09:23.318Z"
   },
   {
    "duration": 31,
    "start_time": "2022-08-09T21:09:23.333Z"
   },
   {
    "duration": 23,
    "start_time": "2022-08-09T21:09:23.365Z"
   },
   {
    "duration": 16,
    "start_time": "2022-08-09T21:09:23.389Z"
   },
   {
    "duration": 10,
    "start_time": "2022-08-09T21:09:23.407Z"
   },
   {
    "duration": 9,
    "start_time": "2022-08-09T21:09:33.021Z"
   },
   {
    "duration": 76,
    "start_time": "2022-08-09T21:10:07.975Z"
   },
   {
    "duration": 3,
    "start_time": "2022-08-09T21:10:22.754Z"
   },
   {
    "duration": 68,
    "start_time": "2022-08-09T21:10:22.760Z"
   },
   {
    "duration": 20,
    "start_time": "2022-08-09T21:10:22.830Z"
   },
   {
    "duration": 8,
    "start_time": "2022-08-09T21:10:22.852Z"
   },
   {
    "duration": 4,
    "start_time": "2022-08-09T21:10:22.862Z"
   },
   {
    "duration": 10,
    "start_time": "2022-08-09T21:10:22.867Z"
   },
   {
    "duration": 23,
    "start_time": "2022-08-09T21:10:22.879Z"
   },
   {
    "duration": 21,
    "start_time": "2022-08-09T21:10:22.903Z"
   },
   {
    "duration": 29,
    "start_time": "2022-08-09T21:10:22.925Z"
   },
   {
    "duration": 11,
    "start_time": "2022-08-09T21:10:22.956Z"
   },
   {
    "duration": 18,
    "start_time": "2022-08-09T21:10:25.573Z"
   },
   {
    "duration": 2,
    "start_time": "2022-08-09T21:10:53.069Z"
   },
   {
    "duration": 78,
    "start_time": "2022-08-09T21:10:53.072Z"
   },
   {
    "duration": 14,
    "start_time": "2022-08-09T21:10:53.152Z"
   },
   {
    "duration": 6,
    "start_time": "2022-08-09T21:10:53.167Z"
   },
   {
    "duration": 4,
    "start_time": "2022-08-09T21:10:53.175Z"
   },
   {
    "duration": 12,
    "start_time": "2022-08-09T21:10:53.180Z"
   },
   {
    "duration": 26,
    "start_time": "2022-08-09T21:10:53.194Z"
   },
   {
    "duration": 36,
    "start_time": "2022-08-09T21:10:53.222Z"
   },
   {
    "duration": 13,
    "start_time": "2022-08-09T21:10:53.260Z"
   },
   {
    "duration": 10,
    "start_time": "2022-08-09T21:10:53.274Z"
   },
   {
    "duration": 14,
    "start_time": "2022-08-09T21:10:55.064Z"
   },
   {
    "duration": 2,
    "start_time": "2022-08-09T21:15:32.814Z"
   },
   {
    "duration": 83,
    "start_time": "2022-08-09T21:15:32.820Z"
   },
   {
    "duration": 13,
    "start_time": "2022-08-09T21:15:32.904Z"
   },
   {
    "duration": 8,
    "start_time": "2022-08-09T21:15:32.918Z"
   },
   {
    "duration": 27,
    "start_time": "2022-08-09T21:15:32.928Z"
   },
   {
    "duration": 25,
    "start_time": "2022-08-09T21:15:32.956Z"
   },
   {
    "duration": 25,
    "start_time": "2022-08-09T21:15:32.982Z"
   },
   {
    "duration": 22,
    "start_time": "2022-08-09T21:15:33.009Z"
   },
   {
    "duration": 14,
    "start_time": "2022-08-09T21:15:37.269Z"
   },
   {
    "duration": 3,
    "start_time": "2022-08-09T21:15:50.849Z"
   },
   {
    "duration": 70,
    "start_time": "2022-08-09T21:15:50.853Z"
   },
   {
    "duration": 12,
    "start_time": "2022-08-09T21:15:50.925Z"
   },
   {
    "duration": 23,
    "start_time": "2022-08-09T21:15:50.944Z"
   },
   {
    "duration": 4,
    "start_time": "2022-08-09T21:15:50.969Z"
   },
   {
    "duration": 13,
    "start_time": "2022-08-09T21:15:50.974Z"
   },
   {
    "duration": 22,
    "start_time": "2022-08-09T21:15:50.988Z"
   },
   {
    "duration": 21,
    "start_time": "2022-08-09T21:15:51.011Z"
   },
   {
    "duration": 21,
    "start_time": "2022-08-09T21:15:51.033Z"
   },
   {
    "duration": 16,
    "start_time": "2022-08-09T21:15:51.055Z"
   },
   {
    "duration": 15,
    "start_time": "2022-08-09T21:15:53.179Z"
   },
   {
    "duration": 21,
    "start_time": "2022-08-09T21:16:22.652Z"
   },
   {
    "duration": 12,
    "start_time": "2022-08-09T21:17:34.776Z"
   },
   {
    "duration": 3,
    "start_time": "2022-08-09T21:17:39.198Z"
   },
   {
    "duration": 76,
    "start_time": "2022-08-09T21:17:39.204Z"
   },
   {
    "duration": 12,
    "start_time": "2022-08-09T21:17:39.282Z"
   },
   {
    "duration": 15,
    "start_time": "2022-08-09T21:17:39.296Z"
   },
   {
    "duration": 15,
    "start_time": "2022-08-09T21:17:39.313Z"
   },
   {
    "duration": 35,
    "start_time": "2022-08-09T21:17:39.330Z"
   },
   {
    "duration": 41,
    "start_time": "2022-08-09T21:17:39.367Z"
   },
   {
    "duration": 21,
    "start_time": "2022-08-09T21:17:39.409Z"
   },
   {
    "duration": 19,
    "start_time": "2022-08-09T21:17:39.432Z"
   },
   {
    "duration": 19,
    "start_time": "2022-08-09T21:17:39.453Z"
   },
   {
    "duration": 19,
    "start_time": "2022-08-09T21:17:41.237Z"
   },
   {
    "duration": 20,
    "start_time": "2022-08-09T21:17:55.048Z"
   },
   {
    "duration": 13,
    "start_time": "2022-08-09T21:18:41.750Z"
   },
   {
    "duration": 3,
    "start_time": "2022-08-09T21:28:29.449Z"
   },
   {
    "duration": 68,
    "start_time": "2022-08-09T21:28:29.455Z"
   },
   {
    "duration": 12,
    "start_time": "2022-08-09T21:28:29.524Z"
   },
   {
    "duration": 7,
    "start_time": "2022-08-09T21:29:01.890Z"
   },
   {
    "duration": 7,
    "start_time": "2022-08-09T21:29:20.160Z"
   },
   {
    "duration": 7,
    "start_time": "2022-08-09T21:29:24.826Z"
   },
   {
    "duration": 8,
    "start_time": "2022-08-09T21:30:37.566Z"
   },
   {
    "duration": 6,
    "start_time": "2022-08-09T21:30:57.057Z"
   },
   {
    "duration": 18,
    "start_time": "2022-08-09T21:31:09.057Z"
   },
   {
    "duration": 18,
    "start_time": "2022-08-09T21:32:38.659Z"
   },
   {
    "duration": 17,
    "start_time": "2022-08-09T21:33:22.902Z"
   },
   {
    "duration": 16,
    "start_time": "2022-08-09T21:33:34.595Z"
   },
   {
    "duration": 19,
    "start_time": "2022-08-09T21:33:45.949Z"
   },
   {
    "duration": 6,
    "start_time": "2022-08-09T21:35:58.868Z"
   },
   {
    "duration": 9,
    "start_time": "2022-08-09T21:36:03.681Z"
   },
   {
    "duration": 10,
    "start_time": "2022-08-09T21:37:38.670Z"
   },
   {
    "duration": 20,
    "start_time": "2022-08-09T21:51:42.668Z"
   },
   {
    "duration": 15,
    "start_time": "2022-08-09T21:55:17.951Z"
   },
   {
    "duration": 13,
    "start_time": "2022-08-09T21:55:51.495Z"
   },
   {
    "duration": 13,
    "start_time": "2022-08-09T21:58:35.690Z"
   },
   {
    "duration": 13,
    "start_time": "2022-08-09T22:00:03.463Z"
   },
   {
    "duration": 17,
    "start_time": "2022-08-09T22:00:29.704Z"
   },
   {
    "duration": 4,
    "start_time": "2022-08-09T22:01:26.665Z"
   },
   {
    "duration": 909,
    "start_time": "2022-08-09T22:01:41.550Z"
   },
   {
    "duration": 7,
    "start_time": "2022-08-09T22:01:52.805Z"
   },
   {
    "duration": 4,
    "start_time": "2022-08-09T22:02:35.596Z"
   },
   {
    "duration": 9,
    "start_time": "2022-08-09T22:02:59.144Z"
   },
   {
    "duration": 7,
    "start_time": "2022-08-09T22:03:22.570Z"
   },
   {
    "duration": 7,
    "start_time": "2022-08-09T22:03:25.763Z"
   },
   {
    "duration": 2,
    "start_time": "2022-08-09T22:03:42.370Z"
   },
   {
    "duration": 70,
    "start_time": "2022-08-09T22:03:42.385Z"
   },
   {
    "duration": 13,
    "start_time": "2022-08-09T22:03:42.457Z"
   },
   {
    "duration": 11,
    "start_time": "2022-08-09T22:03:42.471Z"
   },
   {
    "duration": 10,
    "start_time": "2022-08-09T22:03:42.484Z"
   },
   {
    "duration": 57,
    "start_time": "2022-08-09T22:03:42.496Z"
   },
   {
    "duration": 27,
    "start_time": "2022-08-09T22:03:42.555Z"
   },
   {
    "duration": 14,
    "start_time": "2022-08-09T22:03:42.584Z"
   },
   {
    "duration": 12,
    "start_time": "2022-08-09T22:03:42.600Z"
   },
   {
    "duration": 38,
    "start_time": "2022-08-09T22:03:42.613Z"
   },
   {
    "duration": 24,
    "start_time": "2022-08-09T22:03:42.653Z"
   },
   {
    "duration": 8,
    "start_time": "2022-08-09T22:03:50.440Z"
   },
   {
    "duration": 6,
    "start_time": "2022-08-09T22:04:05.811Z"
   },
   {
    "duration": 11,
    "start_time": "2022-08-09T22:04:39.130Z"
   },
   {
    "duration": 8,
    "start_time": "2022-08-09T22:05:02.535Z"
   },
   {
    "duration": 12,
    "start_time": "2022-08-09T22:05:08.151Z"
   },
   {
    "duration": 11,
    "start_time": "2022-08-09T22:05:13.167Z"
   },
   {
    "duration": 7,
    "start_time": "2022-08-09T22:05:30.502Z"
   },
   {
    "duration": 9,
    "start_time": "2022-08-09T22:05:43.817Z"
   },
   {
    "duration": 8,
    "start_time": "2022-08-09T22:06:01.295Z"
   },
   {
    "duration": 12,
    "start_time": "2022-08-09T22:06:15.856Z"
   },
   {
    "duration": 316,
    "start_time": "2022-08-09T22:06:28.398Z"
   },
   {
    "duration": 15,
    "start_time": "2022-08-09T22:06:52.960Z"
   },
   {
    "duration": 9,
    "start_time": "2022-08-09T22:07:06.283Z"
   },
   {
    "duration": 10,
    "start_time": "2022-08-09T22:07:48.523Z"
   },
   {
    "duration": 19,
    "start_time": "2022-08-09T22:08:14.626Z"
   },
   {
    "duration": 46,
    "start_time": "2022-08-10T07:41:43.942Z"
   },
   {
    "duration": 381,
    "start_time": "2022-08-10T07:41:49.191Z"
   },
   {
    "duration": 118,
    "start_time": "2022-08-10T07:41:49.574Z"
   },
   {
    "duration": 15,
    "start_time": "2022-08-10T07:41:49.694Z"
   },
   {
    "duration": 9,
    "start_time": "2022-08-10T07:41:49.711Z"
   },
   {
    "duration": 9,
    "start_time": "2022-08-10T07:41:49.722Z"
   },
   {
    "duration": 43,
    "start_time": "2022-08-10T07:41:49.734Z"
   },
   {
    "duration": 27,
    "start_time": "2022-08-10T07:41:49.778Z"
   },
   {
    "duration": 18,
    "start_time": "2022-08-10T07:41:49.807Z"
   },
   {
    "duration": 34,
    "start_time": "2022-08-10T07:41:49.827Z"
   },
   {
    "duration": 22,
    "start_time": "2022-08-10T07:41:49.863Z"
   },
   {
    "duration": 16,
    "start_time": "2022-08-10T07:41:49.887Z"
   },
   {
    "duration": 22,
    "start_time": "2022-08-10T07:41:53.526Z"
   },
   {
    "duration": 22,
    "start_time": "2022-08-10T07:46:23.810Z"
   },
   {
    "duration": 27,
    "start_time": "2022-08-10T07:46:58.567Z"
   },
   {
    "duration": 15,
    "start_time": "2022-08-10T07:47:12.435Z"
   },
   {
    "duration": 318,
    "start_time": "2022-08-10T07:48:33.418Z"
   },
   {
    "duration": 16,
    "start_time": "2022-08-10T07:48:42.743Z"
   },
   {
    "duration": 19,
    "start_time": "2022-08-10T07:49:26.719Z"
   },
   {
    "duration": 15,
    "start_time": "2022-08-10T07:51:52.834Z"
   },
   {
    "duration": 19,
    "start_time": "2022-08-10T07:51:58.159Z"
   },
   {
    "duration": 623,
    "start_time": "2022-08-10T07:52:11.542Z"
   },
   {
    "duration": 153,
    "start_time": "2022-08-10T07:52:21.831Z"
   },
   {
    "duration": 141,
    "start_time": "2022-08-10T07:52:31.940Z"
   },
   {
    "duration": 222,
    "start_time": "2022-08-10T07:53:33.851Z"
   },
   {
    "duration": 193,
    "start_time": "2022-08-10T07:53:57.803Z"
   },
   {
    "duration": 192,
    "start_time": "2022-08-10T07:54:05.311Z"
   },
   {
    "duration": 152,
    "start_time": "2022-08-10T07:54:11.733Z"
   },
   {
    "duration": 172,
    "start_time": "2022-08-10T07:54:23.808Z"
   },
   {
    "duration": 163,
    "start_time": "2022-08-10T08:01:30.260Z"
   },
   {
    "duration": 150,
    "start_time": "2022-08-10T08:01:42.289Z"
   },
   {
    "duration": 21,
    "start_time": "2022-08-10T08:03:49.341Z"
   },
   {
    "duration": 15,
    "start_time": "2022-08-10T08:12:19.505Z"
   },
   {
    "duration": 13,
    "start_time": "2022-08-10T08:12:34.797Z"
   },
   {
    "duration": 16,
    "start_time": "2022-08-10T08:13:21.845Z"
   },
   {
    "duration": 15,
    "start_time": "2022-08-10T08:14:05.697Z"
   },
   {
    "duration": 28,
    "start_time": "2022-08-10T08:14:41.252Z"
   },
   {
    "duration": 26,
    "start_time": "2022-08-10T08:16:16.110Z"
   },
   {
    "duration": 21,
    "start_time": "2022-08-10T08:18:25.096Z"
   },
   {
    "duration": 15,
    "start_time": "2022-08-10T08:18:43.592Z"
   },
   {
    "duration": 15,
    "start_time": "2022-08-10T08:20:37.096Z"
   },
   {
    "duration": 16,
    "start_time": "2022-08-10T08:20:51.030Z"
   },
   {
    "duration": 16,
    "start_time": "2022-08-10T08:22:26.619Z"
   },
   {
    "duration": 16,
    "start_time": "2022-08-10T08:22:33.747Z"
   },
   {
    "duration": 26,
    "start_time": "2022-08-10T08:27:48.927Z"
   },
   {
    "duration": 413,
    "start_time": "2022-08-10T12:53:24.849Z"
   },
   {
    "duration": 237,
    "start_time": "2022-08-10T12:53:25.265Z"
   },
   {
    "duration": 15,
    "start_time": "2022-08-10T12:53:25.504Z"
   },
   {
    "duration": 10,
    "start_time": "2022-08-10T12:53:25.522Z"
   },
   {
    "duration": 17,
    "start_time": "2022-08-10T12:53:25.533Z"
   },
   {
    "duration": 55,
    "start_time": "2022-08-10T12:53:25.552Z"
   },
   {
    "duration": 30,
    "start_time": "2022-08-10T12:53:25.609Z"
   },
   {
    "duration": 17,
    "start_time": "2022-08-10T12:53:25.641Z"
   },
   {
    "duration": 34,
    "start_time": "2022-08-10T12:53:25.660Z"
   },
   {
    "duration": 27,
    "start_time": "2022-08-10T12:53:25.698Z"
   },
   {
    "duration": 26,
    "start_time": "2022-08-10T12:53:25.727Z"
   },
   {
    "duration": 43,
    "start_time": "2022-08-10T12:53:25.755Z"
   },
   {
    "duration": 643,
    "start_time": "2022-08-10T12:53:25.799Z"
   },
   {
    "duration": 197,
    "start_time": "2022-08-10T12:53:26.444Z"
   },
   {
    "duration": 24,
    "start_time": "2022-08-10T12:53:26.643Z"
   },
   {
    "duration": 10,
    "start_time": "2022-08-10T12:53:41.852Z"
   },
   {
    "duration": 24,
    "start_time": "2022-08-10T12:58:10.478Z"
   },
   {
    "duration": 1308,
    "start_time": "2022-08-10T12:59:01.652Z"
   },
   {
    "duration": 18,
    "start_time": "2022-08-10T12:59:13.191Z"
   },
   {
    "duration": 20,
    "start_time": "2022-08-10T12:59:27.278Z"
   },
   {
    "duration": 18,
    "start_time": "2022-08-10T12:59:51.616Z"
   },
   {
    "duration": 27,
    "start_time": "2022-08-10T13:00:06.789Z"
   },
   {
    "duration": 17,
    "start_time": "2022-08-10T13:01:18.517Z"
   },
   {
    "duration": 18,
    "start_time": "2022-08-10T13:02:19.408Z"
   },
   {
    "duration": 21,
    "start_time": "2022-08-10T13:05:09.341Z"
   },
   {
    "duration": 26,
    "start_time": "2022-08-10T13:05:40.561Z"
   },
   {
    "duration": 78,
    "start_time": "2022-08-10T13:07:02.817Z"
   },
   {
    "duration": 1477,
    "start_time": "2022-08-10T13:07:13.385Z"
   },
   {
    "duration": 1434,
    "start_time": "2022-08-10T13:07:44.129Z"
   },
   {
    "duration": 1274,
    "start_time": "2022-08-10T13:08:38.584Z"
   },
   {
    "duration": 1528,
    "start_time": "2022-08-10T13:08:54.493Z"
   },
   {
    "duration": 21,
    "start_time": "2022-08-10T13:09:31.457Z"
   },
   {
    "duration": 144,
    "start_time": "2022-08-10T13:10:01.518Z"
   },
   {
    "duration": 16,
    "start_time": "2022-08-10T13:10:07.969Z"
   },
   {
    "duration": 75,
    "start_time": "2022-08-10T13:10:19.853Z"
   },
   {
    "duration": 13,
    "start_time": "2022-08-10T13:10:24.194Z"
   },
   {
    "duration": 10,
    "start_time": "2022-08-10T13:10:58.944Z"
   },
   {
    "duration": 24,
    "start_time": "2022-08-10T13:11:32.183Z"
   },
   {
    "duration": 21,
    "start_time": "2022-08-10T13:11:54.274Z"
   },
   {
    "duration": 23,
    "start_time": "2022-08-10T13:12:13.472Z"
   },
   {
    "duration": 36,
    "start_time": "2022-08-10T13:13:40.212Z"
   },
   {
    "duration": 23,
    "start_time": "2022-08-10T13:14:32.540Z"
   },
   {
    "duration": 161,
    "start_time": "2022-08-10T13:15:17.677Z"
   },
   {
    "duration": 1716,
    "start_time": "2022-08-10T13:15:44.726Z"
   },
   {
    "duration": 24,
    "start_time": "2022-08-10T13:16:29.584Z"
   },
   {
    "duration": 22,
    "start_time": "2022-08-10T13:17:00.042Z"
   },
   {
    "duration": 23,
    "start_time": "2022-08-10T13:17:29.648Z"
   },
   {
    "duration": 25,
    "start_time": "2022-08-10T13:17:36.750Z"
   },
   {
    "duration": 22,
    "start_time": "2022-08-10T13:17:44.373Z"
   },
   {
    "duration": 23,
    "start_time": "2022-08-10T13:18:37.753Z"
   },
   {
    "duration": 0,
    "start_time": "2022-08-10T13:20:13.061Z"
   },
   {
    "duration": 351,
    "start_time": "2022-08-10T19:55:49.945Z"
   },
   {
    "duration": 122,
    "start_time": "2022-08-10T19:55:50.298Z"
   },
   {
    "duration": 12,
    "start_time": "2022-08-10T19:55:50.421Z"
   },
   {
    "duration": 17,
    "start_time": "2022-08-10T19:55:50.435Z"
   },
   {
    "duration": 11,
    "start_time": "2022-08-10T19:55:50.454Z"
   },
   {
    "duration": 40,
    "start_time": "2022-08-10T19:55:50.466Z"
   },
   {
    "duration": 24,
    "start_time": "2022-08-10T19:55:50.507Z"
   },
   {
    "duration": 28,
    "start_time": "2022-08-10T19:55:50.533Z"
   },
   {
    "duration": 11,
    "start_time": "2022-08-10T19:55:50.562Z"
   },
   {
    "duration": 22,
    "start_time": "2022-08-10T19:55:50.575Z"
   },
   {
    "duration": 10,
    "start_time": "2022-08-10T19:55:50.598Z"
   },
   {
    "duration": 26,
    "start_time": "2022-08-10T19:55:50.610Z"
   },
   {
    "duration": 630,
    "start_time": "2022-08-10T19:55:50.638Z"
   },
   {
    "duration": 162,
    "start_time": "2022-08-10T19:55:51.271Z"
   },
   {
    "duration": 6,
    "start_time": "2022-08-10T19:55:51.435Z"
   },
   {
    "duration": 38,
    "start_time": "2022-08-10T19:55:51.442Z"
   },
   {
    "duration": 22,
    "start_time": "2022-08-10T19:55:51.482Z"
   },
   {
    "duration": 856,
    "start_time": "2022-08-10T19:55:57.025Z"
   },
   {
    "duration": 875,
    "start_time": "2022-08-10T19:56:30.782Z"
   },
   {
    "duration": 19,
    "start_time": "2022-08-10T19:56:52.322Z"
   },
   {
    "duration": 25,
    "start_time": "2022-08-10T19:58:45.286Z"
   },
   {
    "duration": 958,
    "start_time": "2022-08-10T19:59:18.664Z"
   },
   {
    "duration": 837,
    "start_time": "2022-08-10T19:59:22.351Z"
   },
   {
    "duration": 14,
    "start_time": "2022-08-10T19:59:35.330Z"
   },
   {
    "duration": 932,
    "start_time": "2022-08-10T19:59:44.818Z"
   },
   {
    "duration": 20,
    "start_time": "2022-08-10T20:00:18.935Z"
   },
   {
    "duration": 133,
    "start_time": "2022-08-10T20:00:26.739Z"
   },
   {
    "duration": 968,
    "start_time": "2022-08-10T20:00:56.513Z"
   },
   {
    "duration": 22,
    "start_time": "2022-08-10T20:01:19.383Z"
   },
   {
    "duration": 188,
    "start_time": "2022-08-10T20:01:27.869Z"
   },
   {
    "duration": 157,
    "start_time": "2022-08-10T20:02:46.236Z"
   },
   {
    "duration": 150,
    "start_time": "2022-08-10T20:03:03.929Z"
   },
   {
    "duration": 305,
    "start_time": "2022-08-10T20:03:16.356Z"
   },
   {
    "duration": 283,
    "start_time": "2022-08-10T20:03:29.918Z"
   },
   {
    "duration": 261,
    "start_time": "2022-08-10T20:03:36.919Z"
   },
   {
    "duration": 17,
    "start_time": "2022-08-10T20:06:43.109Z"
   },
   {
    "duration": 25,
    "start_time": "2022-08-10T20:07:01.991Z"
   },
   {
    "duration": 22,
    "start_time": "2022-08-10T20:07:18.064Z"
   },
   {
    "duration": 21,
    "start_time": "2022-08-10T20:07:32.461Z"
   },
   {
    "duration": 26,
    "start_time": "2022-08-10T20:07:40.880Z"
   },
   {
    "duration": 1767,
    "start_time": "2022-08-10T20:08:02.814Z"
   },
   {
    "duration": 21,
    "start_time": "2022-08-10T20:08:10.147Z"
   },
   {
    "duration": 1863,
    "start_time": "2022-08-10T20:08:15.801Z"
   },
   {
    "duration": 123,
    "start_time": "2022-08-10T20:08:39.693Z"
   },
   {
    "duration": 151,
    "start_time": "2022-08-10T20:16:23.990Z"
   },
   {
    "duration": 151,
    "start_time": "2022-08-10T20:16:56.902Z"
   },
   {
    "duration": 172,
    "start_time": "2022-08-10T20:17:14.476Z"
   },
   {
    "duration": 212,
    "start_time": "2022-08-10T20:18:28.933Z"
   },
   {
    "duration": 153,
    "start_time": "2022-08-10T20:18:40.114Z"
   },
   {
    "duration": 169,
    "start_time": "2022-08-10T20:20:30.088Z"
   },
   {
    "duration": 168,
    "start_time": "2022-08-10T20:21:51.996Z"
   },
   {
    "duration": 159,
    "start_time": "2022-08-10T20:21:57.545Z"
   },
   {
    "duration": 150,
    "start_time": "2022-08-10T20:22:19.330Z"
   },
   {
    "duration": 164,
    "start_time": "2022-08-10T20:22:24.973Z"
   },
   {
    "duration": 190,
    "start_time": "2022-08-10T20:25:01.537Z"
   },
   {
    "duration": 165,
    "start_time": "2022-08-10T20:25:45.915Z"
   },
   {
    "duration": 152,
    "start_time": "2022-08-10T20:25:53.674Z"
   },
   {
    "duration": 186,
    "start_time": "2022-08-10T20:28:55.243Z"
   },
   {
    "duration": 309,
    "start_time": "2022-08-10T20:29:10.123Z"
   },
   {
    "duration": 154,
    "start_time": "2022-08-10T20:29:28.117Z"
   },
   {
    "duration": 179,
    "start_time": "2022-08-10T20:29:48.934Z"
   },
   {
    "duration": 1858,
    "start_time": "2022-08-10T20:30:11.335Z"
   },
   {
    "duration": 77,
    "start_time": "2022-08-10T20:30:40.442Z"
   },
   {
    "duration": 51,
    "start_time": "2022-08-10T20:30:49.818Z"
   },
   {
    "duration": 175,
    "start_time": "2022-08-10T20:30:57.473Z"
   },
   {
    "duration": 58,
    "start_time": "2022-08-10T20:31:03.071Z"
   },
   {
    "duration": 165,
    "start_time": "2022-08-10T20:31:08.132Z"
   },
   {
    "duration": 3,
    "start_time": "2022-08-10T21:31:23.243Z"
   },
   {
    "duration": 89,
    "start_time": "2022-08-10T21:31:23.250Z"
   },
   {
    "duration": 13,
    "start_time": "2022-08-10T21:31:23.341Z"
   },
   {
    "duration": 11,
    "start_time": "2022-08-10T21:31:23.355Z"
   },
   {
    "duration": 23,
    "start_time": "2022-08-10T21:31:23.367Z"
   },
   {
    "duration": 31,
    "start_time": "2022-08-10T21:31:23.392Z"
   },
   {
    "duration": 25,
    "start_time": "2022-08-10T21:31:23.424Z"
   },
   {
    "duration": 14,
    "start_time": "2022-08-10T21:31:23.451Z"
   },
   {
    "duration": 12,
    "start_time": "2022-08-10T21:31:23.487Z"
   },
   {
    "duration": 19,
    "start_time": "2022-08-10T21:31:23.500Z"
   },
   {
    "duration": 9,
    "start_time": "2022-08-10T21:31:23.522Z"
   },
   {
    "duration": 23,
    "start_time": "2022-08-10T21:31:23.533Z"
   },
   {
    "duration": 172,
    "start_time": "2022-08-10T21:31:23.558Z"
   },
   {
    "duration": 158,
    "start_time": "2022-08-10T21:31:23.732Z"
   },
   {
    "duration": 7,
    "start_time": "2022-08-10T21:31:23.892Z"
   },
   {
    "duration": 25,
    "start_time": "2022-08-10T21:31:23.901Z"
   },
   {
    "duration": 18,
    "start_time": "2022-08-10T21:31:23.928Z"
   },
   {
    "duration": 147,
    "start_time": "2022-08-10T21:31:33.414Z"
   },
   {
    "duration": 320,
    "start_time": "2022-08-10T21:32:21.082Z"
   },
   {
    "duration": 279,
    "start_time": "2022-08-10T21:32:33.377Z"
   },
   {
    "duration": 400,
    "start_time": "2022-08-11T07:39:29.715Z"
   },
   {
    "duration": 129,
    "start_time": "2022-08-11T07:39:30.117Z"
   },
   {
    "duration": 12,
    "start_time": "2022-08-11T07:39:30.247Z"
   },
   {
    "duration": 17,
    "start_time": "2022-08-11T07:39:30.260Z"
   },
   {
    "duration": 13,
    "start_time": "2022-08-11T07:39:30.279Z"
   },
   {
    "duration": 39,
    "start_time": "2022-08-11T07:39:30.293Z"
   },
   {
    "duration": 25,
    "start_time": "2022-08-11T07:39:30.333Z"
   },
   {
    "duration": 14,
    "start_time": "2022-08-11T07:39:30.359Z"
   },
   {
    "duration": 14,
    "start_time": "2022-08-11T07:39:30.375Z"
   },
   {
    "duration": 35,
    "start_time": "2022-08-11T07:39:30.390Z"
   },
   {
    "duration": 33,
    "start_time": "2022-08-11T07:39:30.426Z"
   },
   {
    "duration": 58,
    "start_time": "2022-08-11T07:39:30.461Z"
   },
   {
    "duration": 496,
    "start_time": "2022-08-11T07:39:30.521Z"
   },
   {
    "duration": 146,
    "start_time": "2022-08-11T07:39:31.019Z"
   },
   {
    "duration": 6,
    "start_time": "2022-08-11T07:39:31.166Z"
   },
   {
    "duration": 31,
    "start_time": "2022-08-11T07:39:31.173Z"
   },
   {
    "duration": 22,
    "start_time": "2022-08-11T07:39:31.205Z"
   },
   {
    "duration": 252,
    "start_time": "2022-08-11T07:39:37.046Z"
   },
   {
    "duration": 341,
    "start_time": "2022-08-11T07:39:59.215Z"
   },
   {
    "duration": 263,
    "start_time": "2022-08-11T07:41:54.271Z"
   },
   {
    "duration": 294,
    "start_time": "2022-08-11T07:42:35.983Z"
   },
   {
    "duration": 288,
    "start_time": "2022-08-11T07:42:55.491Z"
   },
   {
    "duration": 18,
    "start_time": "2022-08-11T07:47:22.246Z"
   },
   {
    "duration": 13,
    "start_time": "2022-08-11T07:47:52.897Z"
   },
   {
    "duration": 14,
    "start_time": "2022-08-11T07:48:20.565Z"
   },
   {
    "duration": 14,
    "start_time": "2022-08-11T07:48:29.922Z"
   },
   {
    "duration": 13,
    "start_time": "2022-08-11T07:48:44.922Z"
   },
   {
    "duration": 153,
    "start_time": "2022-08-11T07:51:51.130Z"
   },
   {
    "duration": 183,
    "start_time": "2022-08-11T07:52:12.489Z"
   },
   {
    "duration": 149,
    "start_time": "2022-08-11T07:52:25.615Z"
   },
   {
    "duration": 159,
    "start_time": "2022-08-11T07:52:46.861Z"
   },
   {
    "duration": 174,
    "start_time": "2022-08-11T07:52:57.797Z"
   },
   {
    "duration": 120,
    "start_time": "2022-08-11T07:53:29.394Z"
   },
   {
    "duration": 124,
    "start_time": "2022-08-11T07:53:47.860Z"
   },
   {
    "duration": 123,
    "start_time": "2022-08-11T07:53:51.725Z"
   },
   {
    "duration": 65,
    "start_time": "2022-08-11T07:57:59.773Z"
   },
   {
    "duration": 71,
    "start_time": "2022-08-11T07:58:09.655Z"
   },
   {
    "duration": 16,
    "start_time": "2022-08-11T07:58:24.075Z"
   },
   {
    "duration": 14,
    "start_time": "2022-08-11T07:58:51.050Z"
   },
   {
    "duration": 9,
    "start_time": "2022-08-11T07:59:25.413Z"
   },
   {
    "duration": 15,
    "start_time": "2022-08-11T07:59:36.211Z"
   },
   {
    "duration": 16,
    "start_time": "2022-08-11T08:00:54.225Z"
   },
   {
    "duration": 15,
    "start_time": "2022-08-11T08:01:25.475Z"
   },
   {
    "duration": 23,
    "start_time": "2022-08-11T08:02:14.197Z"
   },
   {
    "duration": 25,
    "start_time": "2022-08-11T08:04:08.949Z"
   },
   {
    "duration": 13,
    "start_time": "2022-08-11T08:05:38.089Z"
   },
   {
    "duration": 15,
    "start_time": "2022-08-11T08:08:34.651Z"
   },
   {
    "duration": 32,
    "start_time": "2022-08-11T08:09:29.147Z"
   },
   {
    "duration": 1377,
    "start_time": "2022-08-11T08:10:04.585Z"
   },
   {
    "duration": 1088,
    "start_time": "2022-08-11T08:10:20.697Z"
   },
   {
    "duration": 1153,
    "start_time": "2022-08-11T08:10:30.714Z"
   },
   {
    "duration": 22,
    "start_time": "2022-08-11T08:10:37.768Z"
   },
   {
    "duration": 14,
    "start_time": "2022-08-11T08:10:52.028Z"
   },
   {
    "duration": 8,
    "start_time": "2022-08-11T08:11:07.485Z"
   },
   {
    "duration": 8,
    "start_time": "2022-08-11T08:11:14.753Z"
   },
   {
    "duration": 8,
    "start_time": "2022-08-11T08:11:21.183Z"
   },
   {
    "duration": 23,
    "start_time": "2022-08-11T08:11:30.414Z"
   },
   {
    "duration": 6,
    "start_time": "2022-08-11T08:11:46.251Z"
   },
   {
    "duration": 7,
    "start_time": "2022-08-11T08:11:50.940Z"
   },
   {
    "duration": 9,
    "start_time": "2022-08-11T08:11:57.861Z"
   },
   {
    "duration": 8,
    "start_time": "2022-08-11T08:12:33.449Z"
   },
   {
    "duration": 8,
    "start_time": "2022-08-11T08:12:38.779Z"
   },
   {
    "duration": 23,
    "start_time": "2022-08-11T08:12:53.087Z"
   },
   {
    "duration": 22,
    "start_time": "2022-08-11T08:13:02.348Z"
   },
   {
    "duration": 17,
    "start_time": "2022-08-11T08:14:22.659Z"
   },
   {
    "duration": 23,
    "start_time": "2022-08-11T08:14:35.459Z"
   },
   {
    "duration": 30,
    "start_time": "2022-08-11T08:15:54.409Z"
   },
   {
    "duration": 28,
    "start_time": "2022-08-11T08:16:22.873Z"
   },
   {
    "duration": 41,
    "start_time": "2022-08-11T08:16:44.096Z"
   },
   {
    "duration": 34,
    "start_time": "2022-08-11T08:16:55.176Z"
   },
   {
    "duration": 26,
    "start_time": "2022-08-11T08:17:12.751Z"
   },
   {
    "duration": 11,
    "start_time": "2022-08-11T08:17:51.610Z"
   },
   {
    "duration": 23,
    "start_time": "2022-08-11T08:19:10.149Z"
   },
   {
    "duration": 117,
    "start_time": "2022-08-11T08:19:29.461Z"
   },
   {
    "duration": 20,
    "start_time": "2022-08-11T08:19:56.271Z"
   },
   {
    "duration": 23,
    "start_time": "2022-08-11T08:20:11.834Z"
   },
   {
    "duration": 15,
    "start_time": "2022-08-11T08:21:16.906Z"
   },
   {
    "duration": 49,
    "start_time": "2022-08-11T08:23:36.514Z"
   },
   {
    "duration": 15,
    "start_time": "2022-08-11T08:24:09.956Z"
   },
   {
    "duration": 17,
    "start_time": "2022-08-11T08:24:29.479Z"
   },
   {
    "duration": 16,
    "start_time": "2022-08-11T08:24:45.199Z"
   },
   {
    "duration": 22,
    "start_time": "2022-08-11T08:26:29.278Z"
   },
   {
    "duration": 22,
    "start_time": "2022-08-11T08:27:04.876Z"
   },
   {
    "duration": 15,
    "start_time": "2022-08-11T08:27:29.141Z"
   },
   {
    "duration": 21,
    "start_time": "2022-08-11T08:27:52.919Z"
   },
   {
    "duration": 369,
    "start_time": "2022-08-11T09:33:59.039Z"
   },
   {
    "duration": 242,
    "start_time": "2022-08-11T09:33:59.410Z"
   },
   {
    "duration": 12,
    "start_time": "2022-08-11T09:33:59.653Z"
   },
   {
    "duration": 20,
    "start_time": "2022-08-11T09:33:59.667Z"
   },
   {
    "duration": 13,
    "start_time": "2022-08-11T09:33:59.689Z"
   },
   {
    "duration": 33,
    "start_time": "2022-08-11T09:33:59.703Z"
   },
   {
    "duration": 31,
    "start_time": "2022-08-11T09:33:59.737Z"
   },
   {
    "duration": 17,
    "start_time": "2022-08-11T09:33:59.770Z"
   },
   {
    "duration": 13,
    "start_time": "2022-08-11T09:33:59.806Z"
   },
   {
    "duration": 17,
    "start_time": "2022-08-11T09:33:59.822Z"
   },
   {
    "duration": 12,
    "start_time": "2022-08-11T09:33:59.840Z"
   },
   {
    "duration": 29,
    "start_time": "2022-08-11T09:33:59.854Z"
   },
   {
    "duration": 568,
    "start_time": "2022-08-11T09:33:59.906Z"
   },
   {
    "duration": 159,
    "start_time": "2022-08-11T09:34:00.476Z"
   },
   {
    "duration": 7,
    "start_time": "2022-08-11T09:34:00.637Z"
   },
   {
    "duration": 39,
    "start_time": "2022-08-11T09:34:00.645Z"
   },
   {
    "duration": 28,
    "start_time": "2022-08-11T09:34:00.686Z"
   },
   {
    "duration": 341,
    "start_time": "2022-08-11T09:34:00.716Z"
   },
   {
    "duration": 3,
    "start_time": "2022-08-11T09:34:01.059Z"
   },
   {
    "duration": 10,
    "start_time": "2022-08-11T09:34:01.063Z"
   },
   {
    "duration": 34,
    "start_time": "2022-08-11T09:34:01.075Z"
   },
   {
    "duration": 22,
    "start_time": "2022-08-11T09:34:03.367Z"
   },
   {
    "duration": 1597,
    "start_time": "2022-08-11T09:37:42.619Z"
   },
   {
    "duration": 229,
    "start_time": "2022-08-11T09:37:57.690Z"
   },
   {
    "duration": 267,
    "start_time": "2022-08-11T09:38:15.172Z"
   },
   {
    "duration": 7,
    "start_time": "2022-08-11T09:41:38.809Z"
   },
   {
    "duration": 105,
    "start_time": "2022-08-11T09:41:55.092Z"
   },
   {
    "duration": 92,
    "start_time": "2022-08-11T09:42:16.979Z"
   },
   {
    "duration": 87,
    "start_time": "2022-08-11T10:02:16.918Z"
   },
   {
    "duration": 109,
    "start_time": "2022-08-11T10:02:38.783Z"
   },
   {
    "duration": 121,
    "start_time": "2022-08-11T10:02:46.309Z"
   },
   {
    "duration": 8,
    "start_time": "2022-08-11T10:02:53.408Z"
   },
   {
    "duration": 8,
    "start_time": "2022-08-11T10:03:04.333Z"
   },
   {
    "duration": 132,
    "start_time": "2022-08-11T10:03:08.800Z"
   },
   {
    "duration": 116,
    "start_time": "2022-08-11T10:03:43.082Z"
   },
   {
    "duration": 100,
    "start_time": "2022-08-11T10:03:48.574Z"
   },
   {
    "duration": 158,
    "start_time": "2022-08-11T10:03:52.999Z"
   },
   {
    "duration": 97,
    "start_time": "2022-08-11T10:04:16.892Z"
   },
   {
    "duration": 104,
    "start_time": "2022-08-11T10:05:41.607Z"
   },
   {
    "duration": 105,
    "start_time": "2022-08-11T10:05:48.002Z"
   },
   {
    "duration": 7,
    "start_time": "2022-08-11T10:41:41.890Z"
   },
   {
    "duration": 11,
    "start_time": "2022-08-11T10:41:53.691Z"
   },
   {
    "duration": 99,
    "start_time": "2022-08-11T10:42:13.617Z"
   },
   {
    "duration": 10,
    "start_time": "2022-08-11T10:44:56.181Z"
   },
   {
    "duration": 1312,
    "start_time": "2022-08-11T10:54:48.560Z"
   },
   {
    "duration": 31,
    "start_time": "2022-08-11T10:54:56.447Z"
   },
   {
    "duration": 270,
    "start_time": "2022-08-11T10:55:25.427Z"
   },
   {
    "duration": 24,
    "start_time": "2022-08-11T10:55:42.223Z"
   },
   {
    "duration": 26,
    "start_time": "2022-08-11T10:55:48.505Z"
   },
   {
    "duration": 45,
    "start_time": "2022-08-11T10:56:26.113Z"
   },
   {
    "duration": 47,
    "start_time": "2022-08-11T10:56:54.123Z"
   },
   {
    "duration": 44,
    "start_time": "2022-08-11T10:57:12.874Z"
   },
   {
    "duration": 290,
    "start_time": "2022-08-11T10:57:54.422Z"
   },
   {
    "duration": 107,
    "start_time": "2022-08-11T10:59:15.611Z"
   },
   {
    "duration": 3,
    "start_time": "2022-08-11T11:06:46.322Z"
   },
   {
    "duration": 78,
    "start_time": "2022-08-11T11:06:46.330Z"
   },
   {
    "duration": 12,
    "start_time": "2022-08-11T11:06:46.411Z"
   },
   {
    "duration": 10,
    "start_time": "2022-08-11T11:06:46.424Z"
   },
   {
    "duration": 10,
    "start_time": "2022-08-11T11:06:46.436Z"
   },
   {
    "duration": 36,
    "start_time": "2022-08-11T11:06:46.447Z"
   },
   {
    "duration": 37,
    "start_time": "2022-08-11T11:06:46.507Z"
   },
   {
    "duration": 21,
    "start_time": "2022-08-11T11:06:46.546Z"
   },
   {
    "duration": 13,
    "start_time": "2022-08-11T11:06:46.569Z"
   },
   {
    "duration": 13,
    "start_time": "2022-08-11T11:06:46.606Z"
   },
   {
    "duration": 10,
    "start_time": "2022-08-11T11:06:46.622Z"
   },
   {
    "duration": 21,
    "start_time": "2022-08-11T11:06:46.633Z"
   },
   {
    "duration": 171,
    "start_time": "2022-08-11T11:06:46.655Z"
   },
   {
    "duration": 145,
    "start_time": "2022-08-11T11:06:46.828Z"
   },
   {
    "duration": 6,
    "start_time": "2022-08-11T11:06:46.975Z"
   },
   {
    "duration": 31,
    "start_time": "2022-08-11T11:06:46.982Z"
   },
   {
    "duration": 13,
    "start_time": "2022-08-11T11:06:47.014Z"
   },
   {
    "duration": 303,
    "start_time": "2022-08-11T11:06:47.029Z"
   },
   {
    "duration": 3,
    "start_time": "2022-08-11T11:06:47.333Z"
   },
   {
    "duration": 6,
    "start_time": "2022-08-11T11:06:47.337Z"
   },
   {
    "duration": 18,
    "start_time": "2022-08-11T11:06:47.344Z"
   },
   {
    "duration": 21,
    "start_time": "2022-08-11T11:06:47.363Z"
   },
   {
    "duration": 313,
    "start_time": "2022-08-11T11:06:47.385Z"
   },
   {
    "duration": 116,
    "start_time": "2022-08-11T11:06:47.706Z"
   },
   {
    "duration": 10,
    "start_time": "2022-08-11T11:06:47.824Z"
   },
   {
    "duration": 299,
    "start_time": "2022-08-11T11:07:14.457Z"
   },
   {
    "duration": 142,
    "start_time": "2022-08-11T11:07:35.652Z"
   },
   {
    "duration": 275,
    "start_time": "2022-08-11T11:07:44.212Z"
   },
   {
    "duration": 246,
    "start_time": "2022-08-11T11:08:05.763Z"
   },
   {
    "duration": 191,
    "start_time": "2022-08-11T11:09:20.943Z"
   },
   {
    "duration": 411,
    "start_time": "2022-08-11T12:42:30.846Z"
   },
   {
    "duration": 152,
    "start_time": "2022-08-11T12:42:31.259Z"
   },
   {
    "duration": 14,
    "start_time": "2022-08-11T12:42:31.412Z"
   },
   {
    "duration": 37,
    "start_time": "2022-08-11T12:42:31.428Z"
   },
   {
    "duration": 19,
    "start_time": "2022-08-11T12:42:31.467Z"
   },
   {
    "duration": 42,
    "start_time": "2022-08-11T12:42:31.487Z"
   },
   {
    "duration": 31,
    "start_time": "2022-08-11T12:42:31.531Z"
   },
   {
    "duration": 17,
    "start_time": "2022-08-11T12:42:31.564Z"
   },
   {
    "duration": 11,
    "start_time": "2022-08-11T12:42:31.582Z"
   },
   {
    "duration": 25,
    "start_time": "2022-08-11T12:42:31.595Z"
   },
   {
    "duration": 15,
    "start_time": "2022-08-11T12:42:31.621Z"
   },
   {
    "duration": 48,
    "start_time": "2022-08-11T12:42:31.638Z"
   },
   {
    "duration": 570,
    "start_time": "2022-08-11T12:42:31.688Z"
   },
   {
    "duration": 150,
    "start_time": "2022-08-11T12:42:32.260Z"
   },
   {
    "duration": 6,
    "start_time": "2022-08-11T12:42:32.412Z"
   },
   {
    "duration": 31,
    "start_time": "2022-08-11T12:42:32.420Z"
   },
   {
    "duration": 24,
    "start_time": "2022-08-11T12:42:32.452Z"
   },
   {
    "duration": 192,
    "start_time": "2022-08-11T12:42:32.478Z"
   },
   {
    "duration": 2,
    "start_time": "2022-08-11T12:42:32.672Z"
   },
   {
    "duration": 17,
    "start_time": "2022-08-11T12:42:32.676Z"
   },
   {
    "duration": 41,
    "start_time": "2022-08-11T12:42:32.695Z"
   },
   {
    "duration": 32,
    "start_time": "2022-08-11T12:42:32.738Z"
   },
   {
    "duration": 306,
    "start_time": "2022-08-11T12:42:32.771Z"
   },
   {
    "duration": 174,
    "start_time": "2022-08-11T12:42:33.079Z"
   },
   {
    "duration": 11,
    "start_time": "2022-08-11T12:42:33.255Z"
   },
   {
    "duration": 41,
    "start_time": "2022-08-11T12:42:33.267Z"
   },
   {
    "duration": 207,
    "start_time": "2022-08-11T12:42:34.190Z"
   },
   {
    "duration": 9,
    "start_time": "2022-08-11T12:44:47.147Z"
   },
   {
    "duration": 6,
    "start_time": "2022-08-11T12:44:53.997Z"
   },
   {
    "duration": 6,
    "start_time": "2022-08-11T12:44:57.191Z"
   },
   {
    "duration": 7,
    "start_time": "2022-08-11T12:45:03.888Z"
   },
   {
    "duration": 8,
    "start_time": "2022-08-11T12:45:11.555Z"
   },
   {
    "duration": 6,
    "start_time": "2022-08-11T12:45:14.552Z"
   },
   {
    "duration": 198,
    "start_time": "2022-08-11T12:47:15.236Z"
   },
   {
    "duration": 197,
    "start_time": "2022-08-11T12:47:50.170Z"
   },
   {
    "duration": 205,
    "start_time": "2022-08-11T12:48:36.391Z"
   },
   {
    "duration": 228,
    "start_time": "2022-08-11T12:49:02.136Z"
   },
   {
    "duration": 17,
    "start_time": "2022-08-11T12:53:50.144Z"
   },
   {
    "duration": 161,
    "start_time": "2022-08-11T12:55:50.113Z"
   },
   {
    "duration": 173,
    "start_time": "2022-08-11T12:56:34.853Z"
   },
   {
    "duration": 197,
    "start_time": "2022-08-11T12:57:30.414Z"
   },
   {
    "duration": 29,
    "start_time": "2022-08-11T13:07:57.537Z"
   },
   {
    "duration": 1507,
    "start_time": "2022-08-11T13:09:09.017Z"
   },
   {
    "duration": 1321,
    "start_time": "2022-08-11T13:09:31.250Z"
   },
   {
    "duration": 2267,
    "start_time": "2022-08-11T13:09:39.414Z"
   },
   {
    "duration": 2638,
    "start_time": "2022-08-11T13:10:01.098Z"
   },
   {
    "duration": 17,
    "start_time": "2022-08-11T13:10:27.702Z"
   },
   {
    "duration": 14,
    "start_time": "2022-08-11T13:10:33.498Z"
   },
   {
    "duration": 13,
    "start_time": "2022-08-11T13:10:36.906Z"
   },
   {
    "duration": 14,
    "start_time": "2022-08-11T13:11:10.614Z"
   },
   {
    "duration": 773,
    "start_time": "2022-08-11T20:07:44.314Z"
   },
   {
    "duration": 3,
    "start_time": "2022-08-11T20:07:58.524Z"
   },
   {
    "duration": 122,
    "start_time": "2022-08-11T20:07:58.529Z"
   },
   {
    "duration": 12,
    "start_time": "2022-08-11T20:07:58.652Z"
   },
   {
    "duration": 8,
    "start_time": "2022-08-11T20:07:58.666Z"
   },
   {
    "duration": 7,
    "start_time": "2022-08-11T20:07:58.676Z"
   },
   {
    "duration": 34,
    "start_time": "2022-08-11T20:07:58.685Z"
   },
   {
    "duration": 25,
    "start_time": "2022-08-11T20:07:58.720Z"
   },
   {
    "duration": 14,
    "start_time": "2022-08-11T20:07:58.746Z"
   },
   {
    "duration": 11,
    "start_time": "2022-08-11T20:07:58.761Z"
   },
   {
    "duration": 37,
    "start_time": "2022-08-11T20:07:58.774Z"
   },
   {
    "duration": 9,
    "start_time": "2022-08-11T20:07:58.813Z"
   },
   {
    "duration": 20,
    "start_time": "2022-08-11T20:07:58.823Z"
   },
   {
    "duration": 171,
    "start_time": "2022-08-11T20:07:58.844Z"
   },
   {
    "duration": 155,
    "start_time": "2022-08-11T20:07:59.017Z"
   },
   {
    "duration": 14,
    "start_time": "2022-08-11T20:07:59.173Z"
   },
   {
    "duration": 254,
    "start_time": "2022-08-11T20:07:59.188Z"
   },
   {
    "duration": 17,
    "start_time": "2022-08-11T20:07:59.444Z"
   },
   {
    "duration": 206,
    "start_time": "2022-08-11T20:07:59.462Z"
   },
   {
    "duration": 203,
    "start_time": "2022-08-11T20:07:59.670Z"
   },
   {
    "duration": 50,
    "start_time": "2022-08-11T20:07:59.875Z"
   },
   {
    "duration": 0,
    "start_time": "2022-08-11T20:07:59.927Z"
   },
   {
    "duration": 0,
    "start_time": "2022-08-11T20:07:59.928Z"
   },
   {
    "duration": 0,
    "start_time": "2022-08-11T20:07:59.929Z"
   },
   {
    "duration": 155,
    "start_time": "2022-08-11T20:09:46.871Z"
   },
   {
    "duration": 150,
    "start_time": "2022-08-11T20:10:44.203Z"
   },
   {
    "duration": 20,
    "start_time": "2022-08-11T20:14:34.750Z"
   },
   {
    "duration": 891,
    "start_time": "2022-08-11T20:18:40.023Z"
   },
   {
    "duration": 13,
    "start_time": "2022-08-11T20:19:40.013Z"
   },
   {
    "duration": 16,
    "start_time": "2022-08-11T20:20:22.877Z"
   },
   {
    "duration": 7,
    "start_time": "2022-08-11T20:20:52.487Z"
   },
   {
    "duration": 766,
    "start_time": "2022-08-11T20:21:26.956Z"
   },
   {
    "duration": 8,
    "start_time": "2022-08-11T20:21:36.312Z"
   },
   {
    "duration": 857,
    "start_time": "2022-08-11T20:21:47.099Z"
   },
   {
    "duration": 8,
    "start_time": "2022-08-11T20:22:05.398Z"
   },
   {
    "duration": 8,
    "start_time": "2022-08-11T20:22:32.473Z"
   },
   {
    "duration": 1004,
    "start_time": "2022-08-11T20:22:40.471Z"
   },
   {
    "duration": 8,
    "start_time": "2022-08-11T20:23:13.892Z"
   },
   {
    "duration": 8,
    "start_time": "2022-08-11T20:27:51.006Z"
   },
   {
    "duration": 7,
    "start_time": "2022-08-11T20:28:04.423Z"
   },
   {
    "duration": 8,
    "start_time": "2022-08-11T20:28:24.150Z"
   },
   {
    "duration": 13,
    "start_time": "2022-08-11T20:28:32.884Z"
   },
   {
    "duration": 6,
    "start_time": "2022-08-11T20:28:43.006Z"
   },
   {
    "duration": 6,
    "start_time": "2022-08-11T20:42:24.074Z"
   },
   {
    "duration": 3,
    "start_time": "2022-08-11T20:43:10.847Z"
   },
   {
    "duration": 4,
    "start_time": "2022-08-11T20:43:20.481Z"
   },
   {
    "duration": 9,
    "start_time": "2022-08-11T20:44:03.183Z"
   },
   {
    "duration": 8,
    "start_time": "2022-08-11T20:44:14.001Z"
   },
   {
    "duration": 10,
    "start_time": "2022-08-11T20:44:25.429Z"
   },
   {
    "duration": 8,
    "start_time": "2022-08-11T20:44:38.027Z"
   },
   {
    "duration": 7,
    "start_time": "2022-08-11T20:46:55.743Z"
   },
   {
    "duration": 8,
    "start_time": "2022-08-11T20:47:02.472Z"
   },
   {
    "duration": 4,
    "start_time": "2022-08-11T20:47:10.587Z"
   },
   {
    "duration": 17,
    "start_time": "2022-08-11T20:48:07.626Z"
   },
   {
    "duration": 6,
    "start_time": "2022-08-11T20:48:21.412Z"
   },
   {
    "duration": 7,
    "start_time": "2022-08-11T20:48:32.147Z"
   },
   {
    "duration": 7,
    "start_time": "2022-08-11T20:48:39.312Z"
   },
   {
    "duration": 16,
    "start_time": "2022-08-11T20:49:01.939Z"
   },
   {
    "duration": 14,
    "start_time": "2022-08-11T20:49:19.794Z"
   },
   {
    "duration": 12,
    "start_time": "2022-08-11T20:49:27.042Z"
   },
   {
    "duration": 8,
    "start_time": "2022-08-11T20:49:47.313Z"
   },
   {
    "duration": 6,
    "start_time": "2022-08-11T20:50:15.951Z"
   },
   {
    "duration": 10,
    "start_time": "2022-08-11T20:50:22.525Z"
   },
   {
    "duration": 11,
    "start_time": "2022-08-11T20:50:32.984Z"
   },
   {
    "duration": 9,
    "start_time": "2022-08-11T20:50:38.057Z"
   },
   {
    "duration": 4,
    "start_time": "2022-08-11T20:51:33.672Z"
   },
   {
    "duration": 10,
    "start_time": "2022-08-11T20:51:46.735Z"
   },
   {
    "duration": 7,
    "start_time": "2022-08-11T20:52:19.303Z"
   },
   {
    "duration": 7,
    "start_time": "2022-08-11T20:52:28.457Z"
   },
   {
    "duration": 1052,
    "start_time": "2022-08-11T20:52:39.777Z"
   },
   {
    "duration": 8,
    "start_time": "2022-08-11T20:52:45.760Z"
   },
   {
    "duration": 12,
    "start_time": "2022-08-11T20:53:09.224Z"
   },
   {
    "duration": 9,
    "start_time": "2022-08-11T20:53:20.167Z"
   },
   {
    "duration": 22,
    "start_time": "2022-08-11T20:53:52.767Z"
   },
   {
    "duration": 147,
    "start_time": "2022-08-11T20:54:22.432Z"
   },
   {
    "duration": 133,
    "start_time": "2022-08-11T20:54:56.518Z"
   },
   {
    "duration": 125,
    "start_time": "2022-08-11T20:57:01.670Z"
   },
   {
    "duration": 116,
    "start_time": "2022-08-11T20:57:18.026Z"
   },
   {
    "duration": 137,
    "start_time": "2022-08-11T20:58:31.634Z"
   },
   {
    "duration": 143,
    "start_time": "2022-08-11T20:59:29.761Z"
   },
   {
    "duration": 198,
    "start_time": "2022-08-11T21:00:57.292Z"
   },
   {
    "duration": 142,
    "start_time": "2022-08-11T21:01:07.073Z"
   },
   {
    "duration": 142,
    "start_time": "2022-08-11T21:01:18.527Z"
   },
   {
    "duration": 139,
    "start_time": "2022-08-11T21:01:28.287Z"
   },
   {
    "duration": 151,
    "start_time": "2022-08-11T21:01:43.465Z"
   },
   {
    "duration": 166,
    "start_time": "2022-08-11T21:02:29.937Z"
   },
   {
    "duration": 108,
    "start_time": "2022-08-11T21:03:36.595Z"
   },
   {
    "duration": 172,
    "start_time": "2022-08-11T21:03:43.256Z"
   },
   {
    "duration": 170,
    "start_time": "2022-08-11T21:04:18.760Z"
   },
   {
    "duration": 169,
    "start_time": "2022-08-11T21:04:24.383Z"
   },
   {
    "duration": 168,
    "start_time": "2022-08-11T21:04:31.834Z"
   },
   {
    "duration": 181,
    "start_time": "2022-08-11T21:05:30.572Z"
   },
   {
    "duration": 1156,
    "start_time": "2022-08-11T21:07:46.627Z"
   },
   {
    "duration": 195,
    "start_time": "2022-08-11T21:07:57.938Z"
   },
   {
    "duration": 262,
    "start_time": "2022-08-11T21:08:09.667Z"
   },
   {
    "duration": 190,
    "start_time": "2022-08-11T21:08:14.744Z"
   },
   {
    "duration": 211,
    "start_time": "2022-08-11T21:09:10.212Z"
   },
   {
    "duration": 163,
    "start_time": "2022-08-11T21:11:26.224Z"
   },
   {
    "duration": 185,
    "start_time": "2022-08-11T21:11:37.237Z"
   },
   {
    "duration": 182,
    "start_time": "2022-08-11T21:12:07.542Z"
   },
   {
    "duration": 194,
    "start_time": "2022-08-11T21:14:22.740Z"
   },
   {
    "duration": 161,
    "start_time": "2022-08-11T21:19:05.919Z"
   },
   {
    "duration": 179,
    "start_time": "2022-08-11T21:20:05.371Z"
   },
   {
    "duration": 52,
    "start_time": "2022-08-11T21:23:42.252Z"
   },
   {
    "duration": 174,
    "start_time": "2022-08-11T21:24:12.985Z"
   },
   {
    "duration": 972,
    "start_time": "2022-08-11T21:26:00.169Z"
   },
   {
    "duration": 1034,
    "start_time": "2022-08-11T21:26:24.155Z"
   },
   {
    "duration": 12,
    "start_time": "2022-08-11T21:26:43.516Z"
   },
   {
    "duration": 768,
    "start_time": "2022-08-11T21:27:18.959Z"
   },
   {
    "duration": 1482,
    "start_time": "2022-08-11T21:27:22.413Z"
   },
   {
    "duration": 917,
    "start_time": "2022-08-11T21:27:27.134Z"
   },
   {
    "duration": 5,
    "start_time": "2022-08-11T21:27:43.031Z"
   },
   {
    "duration": 6,
    "start_time": "2022-08-11T21:27:49.590Z"
   },
   {
    "duration": 7,
    "start_time": "2022-08-11T21:27:55.767Z"
   },
   {
    "duration": 7,
    "start_time": "2022-08-11T21:28:00.372Z"
   },
   {
    "duration": 4,
    "start_time": "2022-08-11T21:28:30.178Z"
   },
   {
    "duration": 4,
    "start_time": "2022-08-11T21:28:39.292Z"
   },
   {
    "duration": 834,
    "start_time": "2022-08-11T21:29:44.410Z"
   },
   {
    "duration": 18,
    "start_time": "2022-08-11T21:30:33.070Z"
   },
   {
    "duration": 5,
    "start_time": "2022-08-11T21:31:14.648Z"
   },
   {
    "duration": 4,
    "start_time": "2022-08-11T21:31:27.532Z"
   },
   {
    "duration": 5,
    "start_time": "2022-08-11T21:32:03.310Z"
   },
   {
    "duration": 9,
    "start_time": "2022-08-11T21:32:35.423Z"
   },
   {
    "duration": 15,
    "start_time": "2022-08-11T21:32:41.485Z"
   },
   {
    "duration": 26,
    "start_time": "2022-08-11T21:32:52.648Z"
   },
   {
    "duration": 11,
    "start_time": "2022-08-11T21:33:01.470Z"
   },
   {
    "duration": 154,
    "start_time": "2022-08-11T21:33:59.542Z"
   },
   {
    "duration": 17,
    "start_time": "2022-08-11T21:34:23.252Z"
   },
   {
    "duration": 15,
    "start_time": "2022-08-11T21:34:50.175Z"
   },
   {
    "duration": 1036,
    "start_time": "2022-08-11T21:34:58.230Z"
   },
   {
    "duration": 15,
    "start_time": "2022-08-11T21:35:05.223Z"
   },
   {
    "duration": 291,
    "start_time": "2022-08-11T21:37:08.049Z"
   },
   {
    "duration": 743,
    "start_time": "2022-08-11T21:38:46.578Z"
   },
   {
    "duration": 14,
    "start_time": "2022-08-11T21:38:57.063Z"
   },
   {
    "duration": 1852,
    "start_time": "2022-08-11T21:39:17.859Z"
   },
   {
    "duration": 8,
    "start_time": "2022-08-11T21:39:29.150Z"
   },
   {
    "duration": 5,
    "start_time": "2022-08-11T21:39:34.732Z"
   },
   {
    "duration": 10,
    "start_time": "2022-08-11T21:40:03.642Z"
   },
   {
    "duration": 9,
    "start_time": "2022-08-11T21:40:16.572Z"
   },
   {
    "duration": 8,
    "start_time": "2022-08-11T21:41:17.609Z"
   },
   {
    "duration": 8,
    "start_time": "2022-08-11T21:42:03.656Z"
   },
   {
    "duration": 17,
    "start_time": "2022-08-11T21:42:55.309Z"
   },
   {
    "duration": 10,
    "start_time": "2022-08-11T21:43:14.684Z"
   },
   {
    "duration": 303,
    "start_time": "2022-08-11T21:43:44.111Z"
   },
   {
    "duration": 308,
    "start_time": "2022-08-11T21:44:32.675Z"
   },
   {
    "duration": 298,
    "start_time": "2022-08-11T21:44:41.292Z"
   },
   {
    "duration": 362,
    "start_time": "2022-08-11T21:44:53.876Z"
   },
   {
    "duration": 288,
    "start_time": "2022-08-11T21:45:05.144Z"
   },
   {
    "duration": 1178,
    "start_time": "2022-08-11T21:48:25.010Z"
   },
   {
    "duration": 873,
    "start_time": "2022-08-11T21:48:53.068Z"
   },
   {
    "duration": 12,
    "start_time": "2022-08-11T21:56:15.028Z"
   },
   {
    "duration": 13,
    "start_time": "2022-08-11T21:56:24.225Z"
   },
   {
    "duration": 9,
    "start_time": "2022-08-11T21:57:25.210Z"
   },
   {
    "duration": 12,
    "start_time": "2022-08-11T21:57:31.631Z"
   },
   {
    "duration": 12,
    "start_time": "2022-08-11T21:58:08.979Z"
   },
   {
    "duration": 12,
    "start_time": "2022-08-11T21:58:21.987Z"
   },
   {
    "duration": 180,
    "start_time": "2022-08-11T21:59:07.650Z"
   },
   {
    "duration": 291,
    "start_time": "2022-08-11T21:59:12.097Z"
   },
   {
    "duration": 118,
    "start_time": "2022-08-11T21:59:23.844Z"
   },
   {
    "duration": 286,
    "start_time": "2022-08-11T21:59:30.137Z"
   },
   {
    "duration": 396,
    "start_time": "2022-08-11T22:01:04.910Z"
   },
   {
    "duration": 296,
    "start_time": "2022-08-11T22:01:17.157Z"
   },
   {
    "duration": 15,
    "start_time": "2022-08-11T22:05:21.151Z"
   },
   {
    "duration": 13,
    "start_time": "2022-08-11T22:05:45.969Z"
   },
   {
    "duration": 13,
    "start_time": "2022-08-11T22:06:05.582Z"
   },
   {
    "duration": 7,
    "start_time": "2022-08-11T22:07:49.085Z"
   },
   {
    "duration": 7,
    "start_time": "2022-08-11T22:07:57.627Z"
   },
   {
    "duration": 8,
    "start_time": "2022-08-11T22:08:02.761Z"
   },
   {
    "duration": 8,
    "start_time": "2022-08-11T22:08:28.524Z"
   },
   {
    "duration": 8,
    "start_time": "2022-08-11T22:08:35.434Z"
   },
   {
    "duration": 3,
    "start_time": "2022-08-11T22:08:57.031Z"
   },
   {
    "duration": 79,
    "start_time": "2022-08-11T22:08:57.037Z"
   },
   {
    "duration": 13,
    "start_time": "2022-08-11T22:08:57.117Z"
   },
   {
    "duration": 13,
    "start_time": "2022-08-11T22:08:57.131Z"
   },
   {
    "duration": 9,
    "start_time": "2022-08-11T22:08:57.146Z"
   },
   {
    "duration": 23,
    "start_time": "2022-08-11T22:08:57.156Z"
   },
   {
    "duration": 45,
    "start_time": "2022-08-11T22:08:57.181Z"
   },
   {
    "duration": 16,
    "start_time": "2022-08-11T22:08:57.228Z"
   },
   {
    "duration": 10,
    "start_time": "2022-08-11T22:08:57.245Z"
   },
   {
    "duration": 10,
    "start_time": "2022-08-11T22:08:57.257Z"
   },
   {
    "duration": 8,
    "start_time": "2022-08-11T22:08:57.269Z"
   },
   {
    "duration": 52,
    "start_time": "2022-08-11T22:08:57.278Z"
   },
   {
    "duration": 161,
    "start_time": "2022-08-11T22:08:57.331Z"
   },
   {
    "duration": 158,
    "start_time": "2022-08-11T22:08:57.494Z"
   },
   {
    "duration": 12,
    "start_time": "2022-08-11T22:08:57.654Z"
   },
   {
    "duration": 191,
    "start_time": "2022-08-11T22:08:57.668Z"
   },
   {
    "duration": 15,
    "start_time": "2022-08-11T22:08:57.861Z"
   },
   {
    "duration": 186,
    "start_time": "2022-08-11T22:08:57.878Z"
   },
   {
    "duration": 182,
    "start_time": "2022-08-11T22:08:58.065Z"
   },
   {
    "duration": 306,
    "start_time": "2022-08-11T22:08:58.248Z"
   },
   {
    "duration": 8,
    "start_time": "2022-08-11T22:09:03.414Z"
   },
   {
    "duration": 6,
    "start_time": "2022-08-11T22:09:13.191Z"
   },
   {
    "duration": 4,
    "start_time": "2022-08-11T22:09:15.556Z"
   },
   {
    "duration": 4,
    "start_time": "2022-08-11T22:09:38.523Z"
   },
   {
    "duration": 6,
    "start_time": "2022-08-11T22:09:44.178Z"
   },
   {
    "duration": 6,
    "start_time": "2022-08-11T22:09:53.748Z"
   },
   {
    "duration": 4,
    "start_time": "2022-08-11T22:10:19.597Z"
   },
   {
    "duration": 5,
    "start_time": "2022-08-11T22:10:27.567Z"
   },
   {
    "duration": 4,
    "start_time": "2022-08-11T22:10:34.438Z"
   },
   {
    "duration": 10,
    "start_time": "2022-08-11T22:11:12.297Z"
   },
   {
    "duration": 11,
    "start_time": "2022-08-11T22:11:28.220Z"
   },
   {
    "duration": 8,
    "start_time": "2022-08-11T22:11:56.610Z"
   },
   {
    "duration": 6,
    "start_time": "2022-08-11T22:15:41.552Z"
   },
   {
    "duration": 12,
    "start_time": "2022-08-11T22:15:48.509Z"
   },
   {
    "duration": 12,
    "start_time": "2022-08-11T22:16:21.368Z"
   },
   {
    "duration": 25,
    "start_time": "2022-08-11T22:16:29.310Z"
   },
   {
    "duration": 12,
    "start_time": "2022-08-11T22:18:05.088Z"
   },
   {
    "duration": 12,
    "start_time": "2022-08-11T22:18:19.342Z"
   },
   {
    "duration": 378,
    "start_time": "2022-08-11T22:18:51.155Z"
   },
   {
    "duration": 110,
    "start_time": "2022-08-11T22:21:06.512Z"
   },
   {
    "duration": 314,
    "start_time": "2022-08-11T22:23:13.109Z"
   },
   {
    "duration": 885,
    "start_time": "2022-08-12T07:06:42.652Z"
   },
   {
    "duration": 157,
    "start_time": "2022-08-12T07:06:43.539Z"
   },
   {
    "duration": 29,
    "start_time": "2022-08-12T07:06:43.697Z"
   },
   {
    "duration": 11,
    "start_time": "2022-08-12T07:06:43.729Z"
   },
   {
    "duration": 25,
    "start_time": "2022-08-12T07:06:43.741Z"
   },
   {
    "duration": 56,
    "start_time": "2022-08-12T07:06:43.770Z"
   },
   {
    "duration": 28,
    "start_time": "2022-08-12T07:06:43.828Z"
   },
   {
    "duration": 15,
    "start_time": "2022-08-12T07:06:43.858Z"
   },
   {
    "duration": 13,
    "start_time": "2022-08-12T07:06:43.876Z"
   },
   {
    "duration": 33,
    "start_time": "2022-08-12T07:06:43.900Z"
   },
   {
    "duration": 15,
    "start_time": "2022-08-12T07:06:43.935Z"
   },
   {
    "duration": 29,
    "start_time": "2022-08-12T07:06:43.952Z"
   },
   {
    "duration": 242,
    "start_time": "2022-08-12T07:06:43.983Z"
   },
   {
    "duration": 194,
    "start_time": "2022-08-12T07:06:44.227Z"
   },
   {
    "duration": 20,
    "start_time": "2022-08-12T07:06:44.424Z"
   },
   {
    "duration": 275,
    "start_time": "2022-08-12T07:06:44.445Z"
   },
   {
    "duration": 20,
    "start_time": "2022-08-12T07:06:44.725Z"
   },
   {
    "duration": 283,
    "start_time": "2022-08-12T07:06:44.746Z"
   },
   {
    "duration": 460,
    "start_time": "2022-08-12T07:06:45.031Z"
   },
   {
    "duration": 131,
    "start_time": "2022-08-12T07:06:45.493Z"
   },
   {
    "duration": 10,
    "start_time": "2022-08-12T07:06:45.625Z"
   },
   {
    "duration": 103,
    "start_time": "2022-08-12T07:06:45.637Z"
   },
   {
    "duration": 122,
    "start_time": "2022-08-12T07:07:37.466Z"
   },
   {
    "duration": 139,
    "start_time": "2022-08-12T07:07:48.824Z"
   },
   {
    "duration": 122,
    "start_time": "2022-08-12T07:08:38.317Z"
   },
   {
    "duration": 128,
    "start_time": "2022-08-12T07:09:31.448Z"
   },
   {
    "duration": 133,
    "start_time": "2022-08-12T07:09:58.088Z"
   },
   {
    "duration": 125,
    "start_time": "2022-08-12T07:10:28.448Z"
   },
   {
    "duration": 9,
    "start_time": "2022-08-12T07:11:39.563Z"
   },
   {
    "duration": 87,
    "start_time": "2022-08-12T07:15:41.014Z"
   },
   {
    "duration": 182,
    "start_time": "2022-08-12T07:16:20.290Z"
   },
   {
    "duration": 126,
    "start_time": "2022-08-12T07:16:37.099Z"
   },
   {
    "duration": 93,
    "start_time": "2022-08-12T07:17:23.807Z"
   },
   {
    "duration": 10,
    "start_time": "2022-08-12T07:17:33.382Z"
   },
   {
    "duration": 93,
    "start_time": "2022-08-12T07:17:39.076Z"
   },
   {
    "duration": 113,
    "start_time": "2022-08-12T07:18:01.768Z"
   },
   {
    "duration": 11,
    "start_time": "2022-08-12T07:18:17.198Z"
   },
   {
    "duration": 116,
    "start_time": "2022-08-12T07:18:21.195Z"
   },
   {
    "duration": 149,
    "start_time": "2022-08-12T07:19:38.239Z"
   },
   {
    "duration": 119,
    "start_time": "2022-08-12T07:19:49.788Z"
   },
   {
    "duration": 130,
    "start_time": "2022-08-12T07:20:08.921Z"
   },
   {
    "duration": 108,
    "start_time": "2022-08-12T07:20:24.750Z"
   },
   {
    "duration": 122,
    "start_time": "2022-08-12T07:21:29.357Z"
   },
   {
    "duration": 201,
    "start_time": "2022-08-12T07:21:47.916Z"
   },
   {
    "duration": 131,
    "start_time": "2022-08-12T07:22:53.823Z"
   },
   {
    "duration": 146,
    "start_time": "2022-08-12T07:23:06.322Z"
   },
   {
    "duration": 123,
    "start_time": "2022-08-12T07:23:14.165Z"
   },
   {
    "duration": 132,
    "start_time": "2022-08-12T07:23:31.093Z"
   },
   {
    "duration": 132,
    "start_time": "2022-08-12T07:23:54.999Z"
   },
   {
    "duration": 134,
    "start_time": "2022-08-12T07:24:12.666Z"
   },
   {
    "duration": 131,
    "start_time": "2022-08-12T07:27:55.613Z"
   },
   {
    "duration": 144,
    "start_time": "2022-08-12T07:28:03.052Z"
   },
   {
    "duration": 135,
    "start_time": "2022-08-12T07:28:22.091Z"
   },
   {
    "duration": 194,
    "start_time": "2022-08-12T07:28:42.963Z"
   },
   {
    "duration": 203,
    "start_time": "2022-08-12T07:28:52.213Z"
   },
   {
    "duration": 148,
    "start_time": "2022-08-12T07:29:22.798Z"
   },
   {
    "duration": 133,
    "start_time": "2022-08-12T07:29:29.682Z"
   },
   {
    "duration": 140,
    "start_time": "2022-08-12T07:31:23.028Z"
   },
   {
    "duration": 1111,
    "start_time": "2022-08-12T07:31:30.195Z"
   },
   {
    "duration": 150,
    "start_time": "2022-08-12T07:31:41.664Z"
   },
   {
    "duration": 10596,
    "start_time": "2022-08-12T07:31:50.888Z"
   },
   {
    "duration": 215,
    "start_time": "2022-08-12T07:32:34.483Z"
   },
   {
    "duration": 159,
    "start_time": "2022-08-12T07:32:55.757Z"
   },
   {
    "duration": 148,
    "start_time": "2022-08-12T07:33:12.355Z"
   },
   {
    "duration": 108,
    "start_time": "2022-08-12T07:34:09.477Z"
   },
   {
    "duration": 195,
    "start_time": "2022-08-12T07:34:23.935Z"
   },
   {
    "duration": 5,
    "start_time": "2022-08-12T07:34:43.692Z"
   },
   {
    "duration": 146,
    "start_time": "2022-08-12T07:34:50.119Z"
   },
   {
    "duration": 1079,
    "start_time": "2022-08-12T07:35:15.982Z"
   },
   {
    "duration": 2161,
    "start_time": "2022-08-12T07:35:25.381Z"
   },
   {
    "duration": 114,
    "start_time": "2022-08-12T07:37:25.070Z"
   },
   {
    "duration": 125,
    "start_time": "2022-08-12T07:37:44.972Z"
   },
   {
    "duration": 110,
    "start_time": "2022-08-12T07:39:23.821Z"
   },
   {
    "duration": 117,
    "start_time": "2022-08-12T07:39:37.773Z"
   },
   {
    "duration": 25,
    "start_time": "2022-08-12T07:57:31.618Z"
   },
   {
    "duration": 1284,
    "start_time": "2022-08-12T07:58:33.076Z"
   },
   {
    "duration": 19,
    "start_time": "2022-08-12T07:58:45.545Z"
   },
   {
    "duration": 18,
    "start_time": "2022-08-12T07:59:39.422Z"
   },
   {
    "duration": 333,
    "start_time": "2022-08-12T08:01:12.549Z"
   },
   {
    "duration": 27,
    "start_time": "2022-08-12T08:04:43.977Z"
   },
   {
    "duration": 16,
    "start_time": "2022-08-12T08:04:54.759Z"
   },
   {
    "duration": 566,
    "start_time": "2022-08-12T08:04:59.411Z"
   },
   {
    "duration": 4,
    "start_time": "2022-08-12T08:09:00.778Z"
   },
   {
    "duration": 466,
    "start_time": "2022-08-12T08:09:19.411Z"
   },
   {
    "duration": 503,
    "start_time": "2022-08-12T08:09:45.111Z"
   },
   {
    "duration": 594,
    "start_time": "2022-08-12T08:10:06.959Z"
   },
   {
    "duration": 649,
    "start_time": "2022-08-12T08:11:16.590Z"
   },
   {
    "duration": 13,
    "start_time": "2022-08-12T08:16:03.837Z"
   },
   {
    "duration": 18,
    "start_time": "2022-08-12T08:16:32.542Z"
   },
   {
    "duration": 25,
    "start_time": "2022-08-12T08:17:03.132Z"
   },
   {
    "duration": 19,
    "start_time": "2022-08-12T08:18:37.692Z"
   },
   {
    "duration": 1132,
    "start_time": "2022-08-12T08:19:31.959Z"
   },
   {
    "duration": 26,
    "start_time": "2022-08-12T08:19:46.554Z"
   },
   {
    "duration": 38,
    "start_time": "2022-08-12T08:24:04.397Z"
   },
   {
    "duration": 617,
    "start_time": "2022-08-12T08:27:32.517Z"
   },
   {
    "duration": 24,
    "start_time": "2022-08-12T08:28:19.541Z"
   },
   {
    "duration": 28,
    "start_time": "2022-08-12T08:28:35.538Z"
   },
   {
    "duration": 17,
    "start_time": "2022-08-12T08:30:49.750Z"
   },
   {
    "duration": 17,
    "start_time": "2022-08-12T08:31:23.729Z"
   },
   {
    "duration": 124,
    "start_time": "2022-08-12T08:31:42.170Z"
   },
   {
    "duration": 123,
    "start_time": "2022-08-12T08:31:48.711Z"
   },
   {
    "duration": 141,
    "start_time": "2022-08-12T08:32:24.850Z"
   },
   {
    "duration": 151,
    "start_time": "2022-08-12T08:32:44.195Z"
   },
   {
    "duration": 134,
    "start_time": "2022-08-12T08:32:50.032Z"
   },
   {
    "duration": 661,
    "start_time": "2022-08-12T10:59:53.804Z"
   },
   {
    "duration": 232,
    "start_time": "2022-08-12T10:59:54.467Z"
   },
   {
    "duration": 12,
    "start_time": "2022-08-12T10:59:54.700Z"
   },
   {
    "duration": 12,
    "start_time": "2022-08-12T10:59:54.713Z"
   },
   {
    "duration": 13,
    "start_time": "2022-08-12T10:59:54.727Z"
   },
   {
    "duration": 27,
    "start_time": "2022-08-12T10:59:54.741Z"
   },
   {
    "duration": 24,
    "start_time": "2022-08-12T10:59:54.769Z"
   },
   {
    "duration": 13,
    "start_time": "2022-08-12T10:59:54.794Z"
   },
   {
    "duration": 16,
    "start_time": "2022-08-12T10:59:54.808Z"
   },
   {
    "duration": 30,
    "start_time": "2022-08-12T10:59:54.826Z"
   },
   {
    "duration": 8,
    "start_time": "2022-08-12T10:59:54.858Z"
   },
   {
    "duration": 37,
    "start_time": "2022-08-12T10:59:54.867Z"
   },
   {
    "duration": 167,
    "start_time": "2022-08-12T10:59:54.905Z"
   },
   {
    "duration": 147,
    "start_time": "2022-08-12T10:59:55.074Z"
   },
   {
    "duration": 14,
    "start_time": "2022-08-12T10:59:55.223Z"
   },
   {
    "duration": 185,
    "start_time": "2022-08-12T10:59:55.238Z"
   },
   {
    "duration": 17,
    "start_time": "2022-08-12T10:59:55.425Z"
   },
   {
    "duration": 214,
    "start_time": "2022-08-12T10:59:55.443Z"
   },
   {
    "duration": 314,
    "start_time": "2022-08-12T10:59:55.659Z"
   },
   {
    "duration": 95,
    "start_time": "2022-08-12T10:59:55.975Z"
   },
   {
    "duration": 464,
    "start_time": "2022-08-12T10:59:56.072Z"
   },
   {
    "duration": 98,
    "start_time": "2022-08-12T11:00:21.451Z"
   },
   {
    "duration": 63,
    "start_time": "2022-08-12T11:00:30.488Z"
   },
   {
    "duration": 565,
    "start_time": "2022-08-12T11:12:39.164Z"
   },
   {
    "duration": 81,
    "start_time": "2022-08-12T11:13:08.591Z"
   },
   {
    "duration": 82,
    "start_time": "2022-08-12T11:16:49.740Z"
   },
   {
    "duration": 12,
    "start_time": "2022-08-12T11:16:54.564Z"
   },
   {
    "duration": 7,
    "start_time": "2022-08-12T11:19:06.656Z"
   },
   {
    "duration": 9,
    "start_time": "2022-08-12T11:21:05.232Z"
   },
   {
    "duration": 10,
    "start_time": "2022-08-12T11:21:23.942Z"
   },
   {
    "duration": 20,
    "start_time": "2022-08-12T11:22:02.131Z"
   },
   {
    "duration": 19,
    "start_time": "2022-08-12T11:23:03.928Z"
   },
   {
    "duration": 14,
    "start_time": "2022-08-12T11:23:18.633Z"
   },
   {
    "duration": 110,
    "start_time": "2022-08-12T11:32:27.125Z"
   },
   {
    "duration": 100,
    "start_time": "2022-08-12T11:32:45.417Z"
   },
   {
    "duration": 15,
    "start_time": "2022-08-12T11:33:21.355Z"
   },
   {
    "duration": 15,
    "start_time": "2022-08-12T11:33:28.743Z"
   },
   {
    "duration": 129,
    "start_time": "2022-08-12T11:35:00.627Z"
   },
   {
    "duration": 163,
    "start_time": "2022-08-12T11:36:25.512Z"
   },
   {
    "duration": 19,
    "start_time": "2022-08-12T11:36:30.970Z"
   },
   {
    "duration": 75,
    "start_time": "2022-08-12T11:37:08.804Z"
   },
   {
    "duration": 81,
    "start_time": "2022-08-12T11:37:23.473Z"
   },
   {
    "duration": 300,
    "start_time": "2022-08-12T11:48:56.058Z"
   },
   {
    "duration": 277,
    "start_time": "2022-08-12T11:57:48.041Z"
   },
   {
    "duration": 277,
    "start_time": "2022-08-12T11:58:43.474Z"
   },
   {
    "duration": 343,
    "start_time": "2022-08-12T11:58:55.057Z"
   },
   {
    "duration": 284,
    "start_time": "2022-08-12T11:59:28.814Z"
   },
   {
    "duration": 284,
    "start_time": "2022-08-12T11:59:34.215Z"
   },
   {
    "duration": 2,
    "start_time": "2022-08-12T12:03:03.349Z"
   },
   {
    "duration": 2,
    "start_time": "2022-08-12T12:03:06.174Z"
   },
   {
    "duration": 285,
    "start_time": "2022-08-12T12:08:55.400Z"
   },
   {
    "duration": 287,
    "start_time": "2022-08-12T12:09:12.347Z"
   },
   {
    "duration": 420,
    "start_time": "2022-08-12T12:10:02.750Z"
   },
   {
    "duration": 647,
    "start_time": "2022-08-12T12:10:16.465Z"
   },
   {
    "duration": 570,
    "start_time": "2022-08-12T12:11:10.600Z"
   },
   {
    "duration": 587,
    "start_time": "2022-08-12T12:11:32.424Z"
   },
   {
    "duration": 663,
    "start_time": "2022-08-12T12:14:22.293Z"
   },
   {
    "duration": 739,
    "start_time": "2022-08-12T21:49:45.559Z"
   },
   {
    "duration": 139,
    "start_time": "2022-08-12T21:49:46.301Z"
   },
   {
    "duration": 14,
    "start_time": "2022-08-12T21:49:46.442Z"
   },
   {
    "duration": 9,
    "start_time": "2022-08-12T21:49:46.459Z"
   },
   {
    "duration": 11,
    "start_time": "2022-08-12T21:49:46.470Z"
   },
   {
    "duration": 50,
    "start_time": "2022-08-12T21:49:46.482Z"
   },
   {
    "duration": 24,
    "start_time": "2022-08-12T21:49:46.533Z"
   },
   {
    "duration": 15,
    "start_time": "2022-08-12T21:49:46.559Z"
   },
   {
    "duration": 11,
    "start_time": "2022-08-12T21:49:46.575Z"
   },
   {
    "duration": 14,
    "start_time": "2022-08-12T21:49:46.609Z"
   },
   {
    "duration": 13,
    "start_time": "2022-08-12T21:49:46.625Z"
   },
   {
    "duration": 34,
    "start_time": "2022-08-12T21:49:46.639Z"
   },
   {
    "duration": 185,
    "start_time": "2022-08-12T21:49:46.674Z"
   },
   {
    "duration": 165,
    "start_time": "2022-08-12T21:49:46.861Z"
   },
   {
    "duration": 14,
    "start_time": "2022-08-12T21:49:47.028Z"
   },
   {
    "duration": 240,
    "start_time": "2022-08-12T21:49:47.045Z"
   },
   {
    "duration": 29,
    "start_time": "2022-08-12T21:49:47.287Z"
   },
   {
    "duration": 247,
    "start_time": "2022-08-12T21:49:47.317Z"
   },
   {
    "duration": 340,
    "start_time": "2022-08-12T21:49:47.566Z"
   },
   {
    "duration": 114,
    "start_time": "2022-08-12T21:49:47.907Z"
   },
   {
    "duration": 508,
    "start_time": "2022-08-12T21:49:48.023Z"
   },
   {
    "duration": 649,
    "start_time": "2022-08-12T21:49:48.533Z"
   },
   {
    "duration": 21,
    "start_time": "2022-08-12T21:51:28.374Z"
   },
   {
    "duration": 73,
    "start_time": "2022-08-12T21:52:36.906Z"
   },
   {
    "duration": 6,
    "start_time": "2022-08-12T21:52:43.305Z"
   },
   {
    "duration": 25,
    "start_time": "2022-08-12T21:52:47.305Z"
   },
   {
    "duration": 6,
    "start_time": "2022-08-12T21:52:57.160Z"
   },
   {
    "duration": 23,
    "start_time": "2022-08-12T21:53:04.178Z"
   },
   {
    "duration": 13,
    "start_time": "2022-08-12T21:55:54.635Z"
   },
   {
    "duration": 12,
    "start_time": "2022-08-12T21:56:09.421Z"
   },
   {
    "duration": 14,
    "start_time": "2022-08-12T21:56:45.667Z"
   },
   {
    "duration": 21,
    "start_time": "2022-08-12T22:04:39.725Z"
   },
   {
    "duration": 71,
    "start_time": "2022-08-12T22:09:50.853Z"
   },
   {
    "duration": 18,
    "start_time": "2022-08-12T22:10:19.866Z"
   },
   {
    "duration": 26,
    "start_time": "2022-08-12T22:10:36.965Z"
   },
   {
    "duration": 44,
    "start_time": "2022-08-12T22:10:47.635Z"
   },
   {
    "duration": 31,
    "start_time": "2022-08-12T22:12:39.355Z"
   },
   {
    "duration": 120,
    "start_time": "2022-08-12T22:16:55.836Z"
   },
   {
    "duration": 898,
    "start_time": "2022-08-12T22:19:20.171Z"
   },
   {
    "duration": 931,
    "start_time": "2022-08-12T22:20:34.247Z"
   },
   {
    "duration": 24,
    "start_time": "2022-08-12T22:21:22.812Z"
   },
   {
    "duration": 23,
    "start_time": "2022-08-12T22:21:46.413Z"
   },
   {
    "duration": 27,
    "start_time": "2022-08-12T22:21:53.965Z"
   },
   {
    "duration": 386,
    "start_time": "2022-08-12T22:22:53.738Z"
   },
   {
    "duration": 442,
    "start_time": "2022-08-12T22:23:06.444Z"
   },
   {
    "duration": 742,
    "start_time": "2022-08-12T22:23:39.670Z"
   },
   {
    "duration": 20,
    "start_time": "2022-08-12T22:23:59.643Z"
   },
   {
    "duration": 106,
    "start_time": "2022-08-12T22:25:38.639Z"
   },
   {
    "duration": 822,
    "start_time": "2022-08-12T22:25:50.814Z"
   },
   {
    "duration": 117,
    "start_time": "2022-08-12T22:26:35.114Z"
   },
   {
    "duration": 517,
    "start_time": "2022-08-12T22:26:49.088Z"
   },
   {
    "duration": 678,
    "start_time": "2022-08-12T22:27:06.989Z"
   },
   {
    "duration": 1171,
    "start_time": "2022-08-12T22:29:30.825Z"
   },
   {
    "duration": 1234,
    "start_time": "2022-08-12T22:30:02.056Z"
   },
   {
    "duration": 1138,
    "start_time": "2022-08-12T22:30:12.859Z"
   },
   {
    "duration": 1334,
    "start_time": "2022-08-12T22:30:50.648Z"
   },
   {
    "duration": 1199,
    "start_time": "2022-08-12T22:31:00.373Z"
   },
   {
    "duration": 1235,
    "start_time": "2022-08-12T22:31:13.959Z"
   },
   {
    "duration": 399,
    "start_time": "2022-08-12T22:33:49.394Z"
   },
   {
    "duration": 1286,
    "start_time": "2022-08-12T22:34:16.978Z"
   },
   {
    "duration": 1321,
    "start_time": "2022-08-12T22:34:27.384Z"
   },
   {
    "duration": 789,
    "start_time": "2022-08-13T10:55:20.613Z"
   },
   {
    "duration": 231,
    "start_time": "2022-08-13T10:55:21.404Z"
   },
   {
    "duration": 15,
    "start_time": "2022-08-13T10:55:21.636Z"
   },
   {
    "duration": 11,
    "start_time": "2022-08-13T10:55:21.653Z"
   },
   {
    "duration": 25,
    "start_time": "2022-08-13T10:55:21.665Z"
   },
   {
    "duration": 32,
    "start_time": "2022-08-13T10:55:21.692Z"
   },
   {
    "duration": 27,
    "start_time": "2022-08-13T10:55:21.725Z"
   },
   {
    "duration": 39,
    "start_time": "2022-08-13T10:55:21.754Z"
   },
   {
    "duration": 15,
    "start_time": "2022-08-13T10:55:21.796Z"
   },
   {
    "duration": 45,
    "start_time": "2022-08-13T10:55:21.815Z"
   },
   {
    "duration": 14,
    "start_time": "2022-08-13T10:55:21.863Z"
   },
   {
    "duration": 43,
    "start_time": "2022-08-13T10:55:21.879Z"
   },
   {
    "duration": 236,
    "start_time": "2022-08-13T10:55:21.924Z"
   },
   {
    "duration": 175,
    "start_time": "2022-08-13T10:55:22.162Z"
   },
   {
    "duration": 16,
    "start_time": "2022-08-13T10:55:22.339Z"
   },
   {
    "duration": 229,
    "start_time": "2022-08-13T10:55:22.356Z"
   },
   {
    "duration": 19,
    "start_time": "2022-08-13T10:55:22.591Z"
   },
   {
    "duration": 261,
    "start_time": "2022-08-13T10:55:22.611Z"
   },
   {
    "duration": 382,
    "start_time": "2022-08-13T10:55:22.873Z"
   },
   {
    "duration": 113,
    "start_time": "2022-08-13T10:55:23.257Z"
   },
   {
    "duration": 576,
    "start_time": "2022-08-13T10:55:23.371Z"
   },
   {
    "duration": 747,
    "start_time": "2022-08-13T10:55:23.949Z"
   },
   {
    "duration": 16,
    "start_time": "2022-08-13T10:55:24.698Z"
   },
   {
    "duration": 313,
    "start_time": "2022-08-13T11:00:50.385Z"
   },
   {
    "duration": 173,
    "start_time": "2022-08-13T11:01:28.514Z"
   },
   {
    "duration": 75,
    "start_time": "2022-08-13T11:05:46.235Z"
   },
   {
    "duration": 76,
    "start_time": "2022-08-13T11:06:09.006Z"
   },
   {
    "duration": 80,
    "start_time": "2022-08-13T11:06:39.256Z"
   },
   {
    "duration": 80,
    "start_time": "2022-08-13T11:07:00.825Z"
   },
   {
    "duration": 82,
    "start_time": "2022-08-13T11:07:08.437Z"
   },
   {
    "duration": 90,
    "start_time": "2022-08-13T11:07:37.460Z"
   },
   {
    "duration": 75,
    "start_time": "2022-08-13T11:07:53.733Z"
   },
   {
    "duration": 127,
    "start_time": "2022-08-13T11:08:13.356Z"
   },
   {
    "duration": 75,
    "start_time": "2022-08-13T11:08:24.944Z"
   },
   {
    "duration": 83,
    "start_time": "2022-08-13T11:09:14.859Z"
   },
   {
    "duration": 77,
    "start_time": "2022-08-13T11:09:34.478Z"
   },
   {
    "duration": 131,
    "start_time": "2022-08-13T11:09:45.173Z"
   },
   {
    "duration": 105,
    "start_time": "2022-08-13T11:10:08.581Z"
   },
   {
    "duration": 1311,
    "start_time": "2022-08-13T11:10:20.133Z"
   },
   {
    "duration": 115,
    "start_time": "2022-08-13T11:11:28.670Z"
   },
   {
    "duration": 229,
    "start_time": "2022-08-13T11:11:42.927Z"
   },
   {
    "duration": 138,
    "start_time": "2022-08-13T11:11:55.409Z"
   },
   {
    "duration": 142,
    "start_time": "2022-08-13T11:15:01.044Z"
   },
   {
    "duration": 1088,
    "start_time": "2022-08-13T11:17:51.953Z"
   },
   {
    "duration": 133,
    "start_time": "2022-08-13T11:26:05.764Z"
   },
   {
    "duration": 1025,
    "start_time": "2022-08-13T11:26:15.340Z"
   },
   {
    "duration": 144,
    "start_time": "2022-08-13T11:26:22.142Z"
   },
   {
    "duration": 142,
    "start_time": "2022-08-13T11:26:29.876Z"
   },
   {
    "duration": 967,
    "start_time": "2022-08-13T11:27:25.531Z"
   },
   {
    "duration": 161,
    "start_time": "2022-08-13T11:27:36.874Z"
   },
   {
    "duration": 1127,
    "start_time": "2022-08-13T11:30:11.292Z"
   },
   {
    "duration": 147,
    "start_time": "2022-08-13T11:30:25.752Z"
   },
   {
    "duration": 148,
    "start_time": "2022-08-13T11:30:36.883Z"
   },
   {
    "duration": 1035,
    "start_time": "2022-08-13T11:30:41.533Z"
   },
   {
    "duration": 224,
    "start_time": "2022-08-13T11:32:09.409Z"
   },
   {
    "duration": 949,
    "start_time": "2022-08-13T11:33:19.696Z"
   },
   {
    "duration": 132,
    "start_time": "2022-08-13T11:33:53.621Z"
   },
   {
    "duration": 998,
    "start_time": "2022-08-13T11:33:58.802Z"
   },
   {
    "duration": 1329,
    "start_time": "2022-08-13T11:36:25.909Z"
   },
   {
    "duration": 220,
    "start_time": "2022-08-13T11:37:02.330Z"
   },
   {
    "duration": 265,
    "start_time": "2022-08-13T11:37:36.402Z"
   },
   {
    "duration": 6,
    "start_time": "2022-08-13T11:38:05.906Z"
   },
   {
    "duration": 27,
    "start_time": "2022-08-13T11:38:56.962Z"
   },
   {
    "duration": 32,
    "start_time": "2022-08-13T11:39:31.781Z"
   },
   {
    "duration": 507,
    "start_time": "2022-08-13T11:40:27.548Z"
   },
   {
    "duration": 267,
    "start_time": "2022-08-13T11:40:33.887Z"
   },
   {
    "duration": 1377,
    "start_time": "2022-08-13T11:40:55.473Z"
   },
   {
    "duration": 25,
    "start_time": "2022-08-13T11:42:30.384Z"
   },
   {
    "duration": 1328,
    "start_time": "2022-08-13T11:42:59.103Z"
   },
   {
    "duration": 6,
    "start_time": "2022-08-13T11:44:32.082Z"
   },
   {
    "duration": 9,
    "start_time": "2022-08-13T11:44:53.701Z"
   },
   {
    "duration": 8,
    "start_time": "2022-08-13T11:45:42.939Z"
   },
   {
    "duration": 7,
    "start_time": "2022-08-13T11:45:59.782Z"
   },
   {
    "duration": 8,
    "start_time": "2022-08-13T11:46:49.678Z"
   },
   {
    "duration": 6,
    "start_time": "2022-08-13T11:47:01.978Z"
   },
   {
    "duration": 7,
    "start_time": "2022-08-13T11:47:10.720Z"
   },
   {
    "duration": 4,
    "start_time": "2022-08-13T11:47:34.678Z"
   },
   {
    "duration": 7,
    "start_time": "2022-08-13T11:47:37.276Z"
   },
   {
    "duration": 9,
    "start_time": "2022-08-13T11:47:55.880Z"
   },
   {
    "duration": 8,
    "start_time": "2022-08-13T11:55:24.216Z"
   },
   {
    "duration": 7,
    "start_time": "2022-08-13T11:55:27.599Z"
   },
   {
    "duration": 11,
    "start_time": "2022-08-13T11:55:44.056Z"
   },
   {
    "duration": 11,
    "start_time": "2022-08-13T11:55:51.481Z"
   },
   {
    "duration": 8,
    "start_time": "2022-08-13T11:56:04.790Z"
   },
   {
    "duration": 11,
    "start_time": "2022-08-13T11:56:08.678Z"
   },
   {
    "duration": 73,
    "start_time": "2022-08-13T11:56:24.080Z"
   },
   {
    "duration": 12,
    "start_time": "2022-08-13T11:56:40.287Z"
   },
   {
    "duration": 8,
    "start_time": "2022-08-13T11:57:29.047Z"
   },
   {
    "duration": 8,
    "start_time": "2022-08-13T11:57:45.335Z"
   },
   {
    "duration": 19,
    "start_time": "2022-08-13T11:57:55.988Z"
   },
   {
    "duration": 9,
    "start_time": "2022-08-13T11:58:12.220Z"
   },
   {
    "duration": 8,
    "start_time": "2022-08-13T11:58:23.066Z"
   },
   {
    "duration": 7,
    "start_time": "2022-08-13T11:58:30.264Z"
   },
   {
    "duration": 6,
    "start_time": "2022-08-13T11:58:39.400Z"
   },
   {
    "duration": 761,
    "start_time": "2022-08-13T21:01:54.746Z"
   },
   {
    "duration": 148,
    "start_time": "2022-08-13T21:01:55.509Z"
   },
   {
    "duration": 12,
    "start_time": "2022-08-13T21:01:55.659Z"
   },
   {
    "duration": 10,
    "start_time": "2022-08-13T21:01:55.673Z"
   },
   {
    "duration": 10,
    "start_time": "2022-08-13T21:01:55.684Z"
   },
   {
    "duration": 37,
    "start_time": "2022-08-13T21:01:55.696Z"
   },
   {
    "duration": 26,
    "start_time": "2022-08-13T21:01:55.734Z"
   },
   {
    "duration": 15,
    "start_time": "2022-08-13T21:01:55.761Z"
   },
   {
    "duration": 17,
    "start_time": "2022-08-13T21:01:55.777Z"
   },
   {
    "duration": 25,
    "start_time": "2022-08-13T21:01:55.797Z"
   },
   {
    "duration": 19,
    "start_time": "2022-08-13T21:01:55.824Z"
   },
   {
    "duration": 29,
    "start_time": "2022-08-13T21:01:55.844Z"
   },
   {
    "duration": 170,
    "start_time": "2022-08-13T21:01:55.874Z"
   },
   {
    "duration": 153,
    "start_time": "2022-08-13T21:01:56.046Z"
   },
   {
    "duration": 25,
    "start_time": "2022-08-13T21:01:56.200Z"
   },
   {
    "duration": 201,
    "start_time": "2022-08-13T21:01:56.227Z"
   },
   {
    "duration": 15,
    "start_time": "2022-08-13T21:01:56.430Z"
   },
   {
    "duration": 234,
    "start_time": "2022-08-13T21:01:56.446Z"
   },
   {
    "duration": 346,
    "start_time": "2022-08-13T21:01:56.681Z"
   },
   {
    "duration": 111,
    "start_time": "2022-08-13T21:01:57.029Z"
   },
   {
    "duration": 506,
    "start_time": "2022-08-13T21:01:57.141Z"
   },
   {
    "duration": 645,
    "start_time": "2022-08-13T21:01:57.649Z"
   },
   {
    "duration": 28,
    "start_time": "2022-08-13T21:01:58.296Z"
   },
   {
    "duration": 1214,
    "start_time": "2022-08-13T21:01:58.326Z"
   },
   {
    "duration": 97,
    "start_time": "2022-08-13T21:01:59.542Z"
   },
   {
    "duration": 0,
    "start_time": "2022-08-13T21:01:59.640Z"
   },
   {
    "duration": 0,
    "start_time": "2022-08-13T21:01:59.641Z"
   },
   {
    "duration": 0,
    "start_time": "2022-08-13T21:01:59.643Z"
   },
   {
    "duration": 1179,
    "start_time": "2022-08-13T21:02:26.193Z"
   },
   {
    "duration": 6,
    "start_time": "2022-08-13T21:02:52.244Z"
   },
   {
    "duration": 8,
    "start_time": "2022-08-13T21:03:17.130Z"
   },
   {
    "duration": 30,
    "start_time": "2022-08-13T21:06:35.599Z"
   },
   {
    "duration": 23,
    "start_time": "2022-08-13T21:06:55.030Z"
   },
   {
    "duration": 221,
    "start_time": "2022-08-13T21:07:21.404Z"
   },
   {
    "duration": 21,
    "start_time": "2022-08-13T21:08:39.665Z"
   },
   {
    "duration": 7,
    "start_time": "2022-08-13T21:08:57.576Z"
   },
   {
    "duration": 7,
    "start_time": "2022-08-13T21:09:01.853Z"
   },
   {
    "duration": 9,
    "start_time": "2022-08-13T21:09:16.165Z"
   },
   {
    "duration": 18,
    "start_time": "2022-08-13T21:09:21.405Z"
   },
   {
    "duration": 7,
    "start_time": "2022-08-13T21:09:30.854Z"
   },
   {
    "duration": 8,
    "start_time": "2022-08-13T21:09:37.439Z"
   },
   {
    "duration": 22,
    "start_time": "2022-08-13T21:10:07.763Z"
   },
   {
    "duration": 6,
    "start_time": "2022-08-13T21:10:34.188Z"
   },
   {
    "duration": 4,
    "start_time": "2022-08-13T21:10:45.361Z"
   },
   {
    "duration": 6,
    "start_time": "2022-08-13T21:10:51.695Z"
   },
   {
    "duration": 9,
    "start_time": "2022-08-13T21:10:55.788Z"
   },
   {
    "duration": 6,
    "start_time": "2022-08-13T21:11:34.924Z"
   },
   {
    "duration": 40,
    "start_time": "2022-08-13T21:11:59.384Z"
   },
   {
    "duration": 43,
    "start_time": "2022-08-13T21:12:24.524Z"
   },
   {
    "duration": 26,
    "start_time": "2022-08-13T21:13:07.724Z"
   },
   {
    "duration": 94,
    "start_time": "2022-08-13T21:13:35.885Z"
   },
   {
    "duration": 58,
    "start_time": "2022-08-13T21:13:39.990Z"
   },
   {
    "duration": 13,
    "start_time": "2022-08-13T21:13:51.974Z"
   },
   {
    "duration": 26,
    "start_time": "2022-08-13T21:14:07.172Z"
   },
   {
    "duration": 112,
    "start_time": "2022-08-13T21:15:01.225Z"
   },
   {
    "duration": 22,
    "start_time": "2022-08-13T21:15:10.609Z"
   },
   {
    "duration": 12,
    "start_time": "2022-08-13T21:15:24.287Z"
   },
   {
    "duration": 17,
    "start_time": "2022-08-13T21:15:32.159Z"
   },
   {
    "duration": 7,
    "start_time": "2022-08-13T21:16:34.331Z"
   },
   {
    "duration": 5,
    "start_time": "2022-08-13T21:16:47.896Z"
   },
   {
    "duration": 5,
    "start_time": "2022-08-13T21:16:52.244Z"
   },
   {
    "duration": 118,
    "start_time": "2022-08-13T21:17:52.162Z"
   },
   {
    "duration": 120,
    "start_time": "2022-08-13T21:18:36.174Z"
   },
   {
    "duration": 238,
    "start_time": "2022-08-13T21:19:22.915Z"
   },
   {
    "duration": 244,
    "start_time": "2022-08-13T21:19:43.377Z"
   },
   {
    "duration": 728,
    "start_time": "2022-08-13T21:20:29.708Z"
   },
   {
    "duration": 5,
    "start_time": "2022-08-13T21:21:04.102Z"
   },
   {
    "duration": 8,
    "start_time": "2022-08-13T21:21:10.961Z"
   },
   {
    "duration": 9,
    "start_time": "2022-08-13T21:21:35.672Z"
   },
   {
    "duration": 626,
    "start_time": "2022-08-13T21:22:22.574Z"
   },
   {
    "duration": 559,
    "start_time": "2022-08-13T21:22:39.495Z"
   },
   {
    "duration": 219,
    "start_time": "2022-08-13T21:22:58.407Z"
   },
   {
    "duration": 200,
    "start_time": "2022-08-13T21:23:58.258Z"
   },
   {
    "duration": 99,
    "start_time": "2022-08-13T21:24:57.808Z"
   },
   {
    "duration": 112,
    "start_time": "2022-08-13T21:25:20.060Z"
   },
   {
    "duration": 50,
    "start_time": "2022-08-13T21:25:33.380Z"
   },
   {
    "duration": 95,
    "start_time": "2022-08-13T21:25:43.435Z"
   },
   {
    "duration": 97,
    "start_time": "2022-08-13T21:26:16.494Z"
   },
   {
    "duration": 55,
    "start_time": "2022-08-13T21:26:41.032Z"
   },
   {
    "duration": 51,
    "start_time": "2022-08-13T21:26:56.544Z"
   },
   {
    "duration": 49,
    "start_time": "2022-08-13T21:27:02.353Z"
   },
   {
    "duration": 209,
    "start_time": "2022-08-13T21:27:16.347Z"
   },
   {
    "duration": 549,
    "start_time": "2022-08-13T21:27:33.990Z"
   },
   {
    "duration": 90,
    "start_time": "2022-08-13T21:28:22.776Z"
   },
   {
    "duration": 58,
    "start_time": "2022-08-13T21:28:48.196Z"
   },
   {
    "duration": 169,
    "start_time": "2022-08-13T21:28:57.030Z"
   },
   {
    "duration": 82,
    "start_time": "2022-08-13T21:30:01.442Z"
   },
   {
    "duration": 57,
    "start_time": "2022-08-13T21:43:04.090Z"
   },
   {
    "duration": 65,
    "start_time": "2022-08-13T21:43:10.807Z"
   },
   {
    "duration": 8,
    "start_time": "2022-08-13T21:43:23.057Z"
   },
   {
    "duration": 6,
    "start_time": "2022-08-13T21:43:27.450Z"
   },
   {
    "duration": 10,
    "start_time": "2022-08-13T21:44:03.493Z"
   },
   {
    "duration": 14,
    "start_time": "2022-08-13T21:45:06.192Z"
   },
   {
    "duration": 10,
    "start_time": "2022-08-13T21:45:15.655Z"
   },
   {
    "duration": 8,
    "start_time": "2022-08-13T21:46:07.969Z"
   },
   {
    "duration": 9,
    "start_time": "2022-08-13T21:46:25.923Z"
   },
   {
    "duration": 6,
    "start_time": "2022-08-13T21:46:52.196Z"
   },
   {
    "duration": 8,
    "start_time": "2022-08-13T21:47:04.639Z"
   },
   {
    "duration": 7,
    "start_time": "2022-08-13T21:47:12.982Z"
   },
   {
    "duration": 6,
    "start_time": "2022-08-13T21:48:50.931Z"
   },
   {
    "duration": 6,
    "start_time": "2022-08-13T21:48:56.134Z"
   },
   {
    "duration": 7,
    "start_time": "2022-08-13T21:49:38.773Z"
   },
   {
    "duration": 9,
    "start_time": "2022-08-13T21:49:43.289Z"
   },
   {
    "duration": 8,
    "start_time": "2022-08-13T21:49:46.840Z"
   },
   {
    "duration": 6,
    "start_time": "2022-08-13T21:49:51.138Z"
   },
   {
    "duration": 7,
    "start_time": "2022-08-13T21:50:02.831Z"
   },
   {
    "duration": 7,
    "start_time": "2022-08-13T21:50:39.750Z"
   },
   {
    "duration": 7,
    "start_time": "2022-08-13T21:50:47.256Z"
   },
   {
    "duration": 19,
    "start_time": "2022-08-13T21:50:53.905Z"
   },
   {
    "duration": 7,
    "start_time": "2022-08-13T21:52:11.233Z"
   },
   {
    "duration": 8,
    "start_time": "2022-08-13T21:52:18.395Z"
   },
   {
    "duration": 8,
    "start_time": "2022-08-13T21:53:30.129Z"
   },
   {
    "duration": 8,
    "start_time": "2022-08-13T21:53:47.779Z"
   },
   {
    "duration": 17,
    "start_time": "2022-08-13T21:54:19.506Z"
   },
   {
    "duration": 6,
    "start_time": "2022-08-13T21:54:35.279Z"
   },
   {
    "duration": 10,
    "start_time": "2022-08-13T21:54:54.166Z"
   },
   {
    "duration": 6,
    "start_time": "2022-08-13T21:55:31.274Z"
   },
   {
    "duration": 7,
    "start_time": "2022-08-13T21:55:43.840Z"
   },
   {
    "duration": 9,
    "start_time": "2022-08-13T21:56:42.327Z"
   },
   {
    "duration": 13,
    "start_time": "2022-08-13T21:57:11.556Z"
   },
   {
    "duration": 10,
    "start_time": "2022-08-13T21:57:22.440Z"
   },
   {
    "duration": 16,
    "start_time": "2022-08-13T21:57:47.639Z"
   },
   {
    "duration": 10,
    "start_time": "2022-08-13T21:57:56.632Z"
   },
   {
    "duration": 15,
    "start_time": "2022-08-13T21:58:15.512Z"
   },
   {
    "duration": 3,
    "start_time": "2022-08-13T21:58:39.632Z"
   },
   {
    "duration": 4,
    "start_time": "2022-08-13T21:58:42.782Z"
   },
   {
    "duration": 6,
    "start_time": "2022-08-13T21:58:46.881Z"
   },
   {
    "duration": 6,
    "start_time": "2022-08-13T21:58:59.598Z"
   },
   {
    "duration": 1136,
    "start_time": "2022-08-13T21:59:07.970Z"
   },
   {
    "duration": 11,
    "start_time": "2022-08-13T21:59:16.229Z"
   },
   {
    "duration": 16,
    "start_time": "2022-08-13T21:59:25.108Z"
   },
   {
    "duration": 668,
    "start_time": "2022-08-13T22:03:47.407Z"
   },
   {
    "duration": 7,
    "start_time": "2022-08-13T22:04:27.527Z"
   },
   {
    "duration": 4,
    "start_time": "2022-08-13T22:05:47.296Z"
   },
   {
    "duration": 9,
    "start_time": "2022-08-13T22:05:58.445Z"
   },
   {
    "duration": 13,
    "start_time": "2022-08-13T22:08:23.524Z"
   },
   {
    "duration": 671,
    "start_time": "2022-08-13T22:08:30.131Z"
   },
   {
    "duration": 16,
    "start_time": "2022-08-13T22:08:38.974Z"
   },
   {
    "duration": 9,
    "start_time": "2022-08-13T22:08:58.768Z"
   },
   {
    "duration": 10,
    "start_time": "2022-08-13T22:09:52.588Z"
   },
   {
    "duration": 9,
    "start_time": "2022-08-13T22:10:14.238Z"
   },
   {
    "duration": 9,
    "start_time": "2022-08-13T22:11:15.724Z"
   },
   {
    "duration": 9,
    "start_time": "2022-08-13T22:11:56.178Z"
   },
   {
    "duration": 622,
    "start_time": "2022-08-13T22:12:11.209Z"
   },
   {
    "duration": 20,
    "start_time": "2022-08-13T22:12:16.501Z"
   },
   {
    "duration": 3,
    "start_time": "2022-08-13T22:12:35.276Z"
   },
   {
    "duration": 9,
    "start_time": "2022-08-13T22:12:51.563Z"
   },
   {
    "duration": 8,
    "start_time": "2022-08-13T22:13:44.067Z"
   },
   {
    "duration": 9,
    "start_time": "2022-08-13T22:14:02.800Z"
   },
   {
    "duration": 7,
    "start_time": "2022-08-13T22:16:17.566Z"
   },
   {
    "duration": 9,
    "start_time": "2022-08-13T22:16:29.082Z"
   },
   {
    "duration": 8,
    "start_time": "2022-08-13T22:17:27.485Z"
   },
   {
    "duration": 22,
    "start_time": "2022-08-13T22:21:23.681Z"
   },
   {
    "duration": 12,
    "start_time": "2022-08-13T22:21:39.423Z"
   },
   {
    "duration": 8,
    "start_time": "2022-08-13T22:21:49.772Z"
   },
   {
    "duration": 7,
    "start_time": "2022-08-13T22:21:57.973Z"
   },
   {
    "duration": 8,
    "start_time": "2022-08-13T22:22:19.748Z"
   },
   {
    "duration": 7,
    "start_time": "2022-08-13T22:22:36.249Z"
   },
   {
    "duration": 61,
    "start_time": "2022-08-13T22:23:13.763Z"
   },
   {
    "duration": 59,
    "start_time": "2022-08-13T22:23:26.885Z"
   },
   {
    "duration": 8,
    "start_time": "2022-08-13T22:23:36.245Z"
   },
   {
    "duration": 8,
    "start_time": "2022-08-13T22:24:15.924Z"
   },
   {
    "duration": 8,
    "start_time": "2022-08-13T22:24:26.624Z"
   },
   {
    "duration": 8,
    "start_time": "2022-08-13T22:24:37.844Z"
   },
   {
    "duration": 17,
    "start_time": "2022-08-13T22:24:55.910Z"
   },
   {
    "duration": 10,
    "start_time": "2022-08-13T22:25:58.148Z"
   },
   {
    "duration": 9,
    "start_time": "2022-08-13T22:26:34.079Z"
   },
   {
    "duration": 5,
    "start_time": "2022-08-13T22:27:18.579Z"
   },
   {
    "duration": 6,
    "start_time": "2022-08-13T22:27:46.689Z"
   },
   {
    "duration": 3,
    "start_time": "2022-08-13T22:28:05.865Z"
   },
   {
    "duration": 6,
    "start_time": "2022-08-13T22:28:08.664Z"
   },
   {
    "duration": 6,
    "start_time": "2022-08-13T22:28:20.980Z"
   },
   {
    "duration": 6,
    "start_time": "2022-08-13T22:28:27.400Z"
   },
   {
    "duration": 9,
    "start_time": "2022-08-13T22:28:45.944Z"
   },
   {
    "duration": 5,
    "start_time": "2022-08-13T22:29:28.039Z"
   },
   {
    "duration": 545,
    "start_time": "2022-08-13T22:30:00.423Z"
   },
   {
    "duration": 588,
    "start_time": "2022-08-13T22:30:24.640Z"
   },
   {
    "duration": 532,
    "start_time": "2022-08-13T22:30:47.903Z"
   },
   {
    "duration": 519,
    "start_time": "2022-08-13T22:30:59.824Z"
   },
   {
    "duration": 477,
    "start_time": "2022-08-13T22:32:25.295Z"
   },
   {
    "duration": 539,
    "start_time": "2022-08-13T22:35:29.432Z"
   },
   {
    "duration": 491,
    "start_time": "2022-08-13T22:38:09.961Z"
   },
   {
    "duration": 496,
    "start_time": "2022-08-13T22:41:29.773Z"
   },
   {
    "duration": 14,
    "start_time": "2022-08-13T22:45:30.832Z"
   },
   {
    "duration": 585,
    "start_time": "2022-08-13T22:45:42.377Z"
   },
   {
    "duration": 8,
    "start_time": "2022-08-13T22:46:02.477Z"
   },
   {
    "duration": 20,
    "start_time": "2022-08-13T22:55:16.376Z"
   },
   {
    "duration": 743,
    "start_time": "2022-08-14T07:36:47.127Z"
   },
   {
    "duration": 219,
    "start_time": "2022-08-14T07:36:47.872Z"
   },
   {
    "duration": 13,
    "start_time": "2022-08-14T07:36:48.093Z"
   },
   {
    "duration": 10,
    "start_time": "2022-08-14T07:36:48.108Z"
   },
   {
    "duration": 12,
    "start_time": "2022-08-14T07:36:48.119Z"
   },
   {
    "duration": 26,
    "start_time": "2022-08-14T07:36:48.133Z"
   },
   {
    "duration": 47,
    "start_time": "2022-08-14T07:36:48.160Z"
   },
   {
    "duration": 14,
    "start_time": "2022-08-14T07:36:48.208Z"
   },
   {
    "duration": 27,
    "start_time": "2022-08-14T07:36:48.223Z"
   },
   {
    "duration": 22,
    "start_time": "2022-08-14T07:36:48.252Z"
   },
   {
    "duration": 21,
    "start_time": "2022-08-14T07:36:48.275Z"
   },
   {
    "duration": 25,
    "start_time": "2022-08-14T07:36:48.297Z"
   },
   {
    "duration": 175,
    "start_time": "2022-08-14T07:36:48.324Z"
   },
   {
    "duration": 155,
    "start_time": "2022-08-14T07:36:48.505Z"
   },
   {
    "duration": 14,
    "start_time": "2022-08-14T07:36:48.661Z"
   },
   {
    "duration": 191,
    "start_time": "2022-08-14T07:36:48.676Z"
   },
   {
    "duration": 16,
    "start_time": "2022-08-14T07:36:48.869Z"
   },
   {
    "duration": 239,
    "start_time": "2022-08-14T07:36:48.886Z"
   },
   {
    "duration": 335,
    "start_time": "2022-08-14T07:36:49.126Z"
   },
   {
    "duration": 99,
    "start_time": "2022-08-14T07:36:49.463Z"
   },
   {
    "duration": 512,
    "start_time": "2022-08-14T07:36:49.564Z"
   },
   {
    "duration": 622,
    "start_time": "2022-08-14T07:36:50.077Z"
   },
   {
    "duration": 18,
    "start_time": "2022-08-14T07:36:50.706Z"
   },
   {
    "duration": 573,
    "start_time": "2022-08-14T07:36:50.727Z"
   },
   {
    "duration": 26,
    "start_time": "2022-08-14T07:36:51.302Z"
   },
   {
    "duration": 1835,
    "start_time": "2022-08-14T07:40:53.886Z"
   },
   {
    "duration": 25,
    "start_time": "2022-08-14T07:44:36.087Z"
   },
   {
    "duration": 454,
    "start_time": "2022-08-14T07:44:52.911Z"
   },
   {
    "duration": 20,
    "start_time": "2022-08-14T07:51:57.131Z"
   },
   {
    "duration": 5,
    "start_time": "2022-08-14T07:53:08.133Z"
   },
   {
    "duration": 6,
    "start_time": "2022-08-14T07:53:16.267Z"
   },
   {
    "duration": 5,
    "start_time": "2022-08-14T07:53:23.361Z"
   },
   {
    "duration": 1139,
    "start_time": "2022-08-14T07:58:43.615Z"
   },
   {
    "duration": 455,
    "start_time": "2022-08-14T07:58:58.551Z"
   },
   {
    "duration": 308,
    "start_time": "2022-08-14T08:03:13.639Z"
   },
   {
    "duration": 303,
    "start_time": "2022-08-14T08:03:28.171Z"
   },
   {
    "duration": 482,
    "start_time": "2022-08-14T08:03:58.490Z"
   },
   {
    "duration": 453,
    "start_time": "2022-08-14T08:04:25.626Z"
   },
   {
    "duration": 334,
    "start_time": "2022-08-14T08:06:05.350Z"
   },
   {
    "duration": 426,
    "start_time": "2022-08-14T08:27:55.951Z"
   },
   {
    "duration": 21,
    "start_time": "2022-08-14T08:30:37.932Z"
   },
   {
    "duration": 5,
    "start_time": "2022-08-14T08:31:42.759Z"
   },
   {
    "duration": 22,
    "start_time": "2022-08-14T08:32:23.081Z"
   },
   {
    "duration": 7,
    "start_time": "2022-08-14T08:32:32.418Z"
   },
   {
    "duration": 8,
    "start_time": "2022-08-14T08:33:14.325Z"
   },
   {
    "duration": 7,
    "start_time": "2022-08-14T08:33:29.662Z"
   },
   {
    "duration": 11,
    "start_time": "2022-08-14T08:33:37.575Z"
   },
   {
    "duration": 9,
    "start_time": "2022-08-14T08:35:34.441Z"
   },
   {
    "duration": 422,
    "start_time": "2022-08-14T08:37:43.821Z"
   },
   {
    "duration": 8,
    "start_time": "2022-08-14T08:38:55.331Z"
   },
   {
    "duration": 11,
    "start_time": "2022-08-14T08:39:38.917Z"
   },
   {
    "duration": 8,
    "start_time": "2022-08-14T08:45:15.009Z"
   },
   {
    "duration": 6,
    "start_time": "2022-08-14T08:45:20.485Z"
   },
   {
    "duration": 8,
    "start_time": "2022-08-14T08:45:31.572Z"
   },
   {
    "duration": 7,
    "start_time": "2022-08-14T08:45:36.343Z"
   },
   {
    "duration": 9,
    "start_time": "2022-08-14T08:46:32.357Z"
   },
   {
    "duration": 10,
    "start_time": "2022-08-14T08:46:56.072Z"
   },
   {
    "duration": 8,
    "start_time": "2022-08-14T08:47:00.382Z"
   },
   {
    "duration": 8,
    "start_time": "2022-08-14T08:47:09.137Z"
   },
   {
    "duration": 7,
    "start_time": "2022-08-14T08:47:14.372Z"
   },
   {
    "duration": 856,
    "start_time": "2022-08-14T14:08:31.304Z"
   },
   {
    "duration": 527,
    "start_time": "2022-08-14T14:08:32.163Z"
   },
   {
    "duration": 27,
    "start_time": "2022-08-14T14:08:32.692Z"
   },
   {
    "duration": 16,
    "start_time": "2022-08-14T14:08:32.721Z"
   },
   {
    "duration": 9,
    "start_time": "2022-08-14T14:08:32.740Z"
   },
   {
    "duration": 30,
    "start_time": "2022-08-14T14:08:32.751Z"
   },
   {
    "duration": 44,
    "start_time": "2022-08-14T14:08:32.782Z"
   },
   {
    "duration": 32,
    "start_time": "2022-08-14T14:08:32.828Z"
   },
   {
    "duration": 14,
    "start_time": "2022-08-14T14:08:32.861Z"
   },
   {
    "duration": 37,
    "start_time": "2022-08-14T14:08:32.877Z"
   },
   {
    "duration": 12,
    "start_time": "2022-08-14T14:08:32.920Z"
   },
   {
    "duration": 26,
    "start_time": "2022-08-14T14:08:32.934Z"
   },
   {
    "duration": 203,
    "start_time": "2022-08-14T14:08:32.962Z"
   },
   {
    "duration": 173,
    "start_time": "2022-08-14T14:08:33.169Z"
   },
   {
    "duration": 14,
    "start_time": "2022-08-14T14:08:33.344Z"
   },
   {
    "duration": 213,
    "start_time": "2022-08-14T14:08:33.359Z"
   },
   {
    "duration": 33,
    "start_time": "2022-08-14T14:08:33.574Z"
   },
   {
    "duration": 263,
    "start_time": "2022-08-14T14:08:33.610Z"
   },
   {
    "duration": 397,
    "start_time": "2022-08-14T14:08:33.875Z"
   },
   {
    "duration": 121,
    "start_time": "2022-08-14T14:08:34.275Z"
   },
   {
    "duration": 583,
    "start_time": "2022-08-14T14:08:34.398Z"
   },
   {
    "duration": 747,
    "start_time": "2022-08-14T14:08:34.983Z"
   },
   {
    "duration": 16,
    "start_time": "2022-08-14T14:08:35.732Z"
   },
   {
    "duration": 764,
    "start_time": "2022-08-14T14:08:35.749Z"
   },
   {
    "duration": 527,
    "start_time": "2022-08-14T14:08:36.515Z"
   },
   {
    "duration": 7,
    "start_time": "2022-08-14T14:08:37.044Z"
   },
   {
    "duration": 353,
    "start_time": "2022-08-14T14:08:37.053Z"
   },
   {
    "duration": 439,
    "start_time": "2022-08-14T14:08:37.414Z"
   },
   {
    "duration": 12,
    "start_time": "2022-08-14T14:08:37.855Z"
   },
   {
    "duration": 13,
    "start_time": "2022-08-14T14:08:37.869Z"
   },
   {
    "duration": 128,
    "start_time": "2022-08-14T14:44:10.424Z"
   },
   {
    "duration": 113,
    "start_time": "2022-08-14T14:44:15.941Z"
   },
   {
    "duration": 735,
    "start_time": "2022-08-14T14:58:25.976Z"
   },
   {
    "duration": 76,
    "start_time": "2022-08-14T14:58:26.713Z"
   },
   {
    "duration": 14,
    "start_time": "2022-08-14T14:58:26.790Z"
   },
   {
    "duration": 14,
    "start_time": "2022-08-14T14:58:26.805Z"
   },
   {
    "duration": 11,
    "start_time": "2022-08-14T14:58:26.822Z"
   },
   {
    "duration": 33,
    "start_time": "2022-08-14T14:58:26.835Z"
   },
   {
    "duration": 50,
    "start_time": "2022-08-14T14:58:26.869Z"
   },
   {
    "duration": 16,
    "start_time": "2022-08-14T14:58:26.921Z"
   },
   {
    "duration": 11,
    "start_time": "2022-08-14T14:58:26.939Z"
   },
   {
    "duration": 14,
    "start_time": "2022-08-14T14:58:26.952Z"
   },
   {
    "duration": 39,
    "start_time": "2022-08-14T14:58:26.967Z"
   },
   {
    "duration": 27,
    "start_time": "2022-08-14T14:58:27.007Z"
   },
   {
    "duration": 193,
    "start_time": "2022-08-14T14:58:27.036Z"
   },
   {
    "duration": 198,
    "start_time": "2022-08-14T14:58:27.232Z"
   },
   {
    "duration": 14,
    "start_time": "2022-08-14T14:58:27.431Z"
   },
   {
    "duration": 200,
    "start_time": "2022-08-14T14:58:27.447Z"
   },
   {
    "duration": 17,
    "start_time": "2022-08-14T14:58:27.649Z"
   },
   {
    "duration": 249,
    "start_time": "2022-08-14T14:58:27.668Z"
   },
   {
    "duration": 326,
    "start_time": "2022-08-14T14:58:27.918Z"
   },
   {
    "duration": 104,
    "start_time": "2022-08-14T14:58:28.246Z"
   },
   {
    "duration": 487,
    "start_time": "2022-08-14T14:58:28.351Z"
   },
   {
    "duration": 657,
    "start_time": "2022-08-14T14:58:28.840Z"
   },
   {
    "duration": 17,
    "start_time": "2022-08-14T14:58:29.499Z"
   },
   {
    "duration": 558,
    "start_time": "2022-08-14T14:58:29.517Z"
   },
   {
    "duration": 794,
    "start_time": "2022-08-14T20:52:50.050Z"
   },
   {
    "duration": 126,
    "start_time": "2022-08-14T20:52:50.847Z"
   },
   {
    "duration": 19,
    "start_time": "2022-08-14T20:52:50.974Z"
   },
   {
    "duration": 90,
    "start_time": "2022-08-14T20:52:52.954Z"
   },
   {
    "duration": 17,
    "start_time": "2022-08-14T20:56:07.890Z"
   },
   {
    "duration": 22,
    "start_time": "2022-08-14T21:17:47.574Z"
   },
   {
    "duration": 6,
    "start_time": "2022-08-14T21:18:10.410Z"
   },
   {
    "duration": 6,
    "start_time": "2022-08-14T21:18:19.256Z"
   },
   {
    "duration": 6,
    "start_time": "2022-08-14T21:18:33.454Z"
   },
   {
    "duration": 6,
    "start_time": "2022-08-14T21:18:52.475Z"
   },
   {
    "duration": 5,
    "start_time": "2022-08-14T21:19:36.792Z"
   },
   {
    "duration": 6,
    "start_time": "2022-08-14T21:19:45.802Z"
   },
   {
    "duration": 6,
    "start_time": "2022-08-14T21:20:18.038Z"
   },
   {
    "duration": 31,
    "start_time": "2022-08-14T21:21:09.965Z"
   },
   {
    "duration": 4,
    "start_time": "2022-08-14T21:51:13.760Z"
   },
   {
    "duration": 76,
    "start_time": "2022-08-14T21:51:13.769Z"
   },
   {
    "duration": 15,
    "start_time": "2022-08-14T21:51:13.847Z"
   },
   {
    "duration": 37,
    "start_time": "2022-08-14T21:51:13.864Z"
   },
   {
    "duration": 0,
    "start_time": "2022-08-14T21:51:13.904Z"
   },
   {
    "duration": 0,
    "start_time": "2022-08-14T21:51:13.905Z"
   },
   {
    "duration": 0,
    "start_time": "2022-08-14T21:51:13.907Z"
   },
   {
    "duration": 0,
    "start_time": "2022-08-14T21:51:13.908Z"
   },
   {
    "duration": 0,
    "start_time": "2022-08-14T21:51:13.909Z"
   },
   {
    "duration": 0,
    "start_time": "2022-08-14T21:51:13.911Z"
   },
   {
    "duration": 0,
    "start_time": "2022-08-14T21:51:13.912Z"
   },
   {
    "duration": 28,
    "start_time": "2022-08-14T21:51:28.169Z"
   },
   {
    "duration": 8,
    "start_time": "2022-08-14T21:51:31.353Z"
   },
   {
    "duration": 833,
    "start_time": "2022-08-14T21:51:38.122Z"
   },
   {
    "duration": 7,
    "start_time": "2022-08-14T21:51:46.147Z"
   },
   {
    "duration": 23,
    "start_time": "2022-08-14T21:51:55.613Z"
   },
   {
    "duration": 5,
    "start_time": "2022-08-14T21:52:05.777Z"
   },
   {
    "duration": 13,
    "start_time": "2022-08-14T21:52:09.393Z"
   },
   {
    "duration": 4,
    "start_time": "2022-08-14T21:54:15.356Z"
   },
   {
    "duration": 73,
    "start_time": "2022-08-14T21:54:15.365Z"
   },
   {
    "duration": 13,
    "start_time": "2022-08-14T21:54:15.440Z"
   },
   {
    "duration": 17,
    "start_time": "2022-08-14T21:54:15.454Z"
   },
   {
    "duration": 0,
    "start_time": "2022-08-14T21:54:15.473Z"
   },
   {
    "duration": 0,
    "start_time": "2022-08-14T21:54:15.474Z"
   },
   {
    "duration": 0,
    "start_time": "2022-08-14T21:54:15.475Z"
   },
   {
    "duration": 0,
    "start_time": "2022-08-14T21:54:15.476Z"
   },
   {
    "duration": 0,
    "start_time": "2022-08-14T21:54:15.476Z"
   },
   {
    "duration": 0,
    "start_time": "2022-08-14T21:54:15.477Z"
   },
   {
    "duration": 0,
    "start_time": "2022-08-14T21:54:15.499Z"
   },
   {
    "duration": 6,
    "start_time": "2022-08-14T21:54:15.502Z"
   },
   {
    "duration": 12,
    "start_time": "2022-08-14T21:54:15.510Z"
   },
   {
    "duration": 29,
    "start_time": "2022-08-14T21:54:15.524Z"
   },
   {
    "duration": 209,
    "start_time": "2022-08-14T21:54:15.555Z"
   },
   {
    "duration": 209,
    "start_time": "2022-08-14T21:54:15.766Z"
   },
   {
    "duration": 16,
    "start_time": "2022-08-14T21:54:17.760Z"
   },
   {
    "duration": 85,
    "start_time": "2022-08-14T21:57:04.950Z"
   },
   {
    "duration": 49,
    "start_time": "2022-08-14T21:57:13.043Z"
   },
   {
    "duration": 209,
    "start_time": "2022-08-14T21:57:36.324Z"
   },
   {
    "duration": 3,
    "start_time": "2022-08-14T22:03:22.333Z"
   },
   {
    "duration": 71,
    "start_time": "2022-08-14T22:03:22.343Z"
   },
   {
    "duration": 13,
    "start_time": "2022-08-14T22:03:22.416Z"
   },
   {
    "duration": 13,
    "start_time": "2022-08-14T22:03:22.431Z"
   },
   {
    "duration": 0,
    "start_time": "2022-08-14T22:03:22.445Z"
   },
   {
    "duration": 0,
    "start_time": "2022-08-14T22:03:22.446Z"
   },
   {
    "duration": 0,
    "start_time": "2022-08-14T22:03:22.447Z"
   },
   {
    "duration": 0,
    "start_time": "2022-08-14T22:03:22.448Z"
   },
   {
    "duration": 0,
    "start_time": "2022-08-14T22:03:22.449Z"
   },
   {
    "duration": 0,
    "start_time": "2022-08-14T22:03:22.450Z"
   },
   {
    "duration": 7,
    "start_time": "2022-08-14T22:03:22.455Z"
   },
   {
    "duration": 0,
    "start_time": "2022-08-14T22:03:22.501Z"
   },
   {
    "duration": 15,
    "start_time": "2022-08-14T22:03:22.502Z"
   },
   {
    "duration": 24,
    "start_time": "2022-08-14T22:03:22.518Z"
   },
   {
    "duration": 181,
    "start_time": "2022-08-14T22:03:22.544Z"
   },
   {
    "duration": 164,
    "start_time": "2022-08-14T22:03:22.727Z"
   },
   {
    "duration": 24,
    "start_time": "2022-08-14T22:03:22.893Z"
   },
   {
    "duration": 220,
    "start_time": "2022-08-14T22:03:22.922Z"
   },
   {
    "duration": 23,
    "start_time": "2022-08-14T22:03:25.384Z"
   },
   {
    "duration": 217,
    "start_time": "2022-08-14T22:05:53.792Z"
   },
   {
    "duration": 6,
    "start_time": "2022-08-14T22:06:24.593Z"
   },
   {
    "duration": 6,
    "start_time": "2022-08-14T22:06:37.605Z"
   },
   {
    "duration": 108,
    "start_time": "2022-08-14T22:06:37.615Z"
   },
   {
    "duration": 17,
    "start_time": "2022-08-14T22:06:37.726Z"
   },
   {
    "duration": 30,
    "start_time": "2022-08-14T22:06:37.745Z"
   },
   {
    "duration": 29,
    "start_time": "2022-08-14T22:06:37.777Z"
   },
   {
    "duration": 47,
    "start_time": "2022-08-14T22:06:37.807Z"
   },
   {
    "duration": 38,
    "start_time": "2022-08-14T22:06:37.856Z"
   },
   {
    "duration": 37,
    "start_time": "2022-08-14T22:06:37.895Z"
   },
   {
    "duration": 16,
    "start_time": "2022-08-14T22:06:37.934Z"
   },
   {
    "duration": 42,
    "start_time": "2022-08-14T22:06:37.951Z"
   },
   {
    "duration": 39,
    "start_time": "2022-08-14T22:06:37.996Z"
   },
   {
    "duration": 5,
    "start_time": "2022-08-14T22:06:38.037Z"
   },
   {
    "duration": 16,
    "start_time": "2022-08-14T22:06:38.043Z"
   },
   {
    "duration": 20,
    "start_time": "2022-08-14T22:06:38.061Z"
   },
   {
    "duration": 161,
    "start_time": "2022-08-14T22:06:38.082Z"
   },
   {
    "duration": 159,
    "start_time": "2022-08-14T22:06:38.244Z"
   },
   {
    "duration": 18,
    "start_time": "2022-08-14T22:06:38.405Z"
   },
   {
    "duration": 220,
    "start_time": "2022-08-14T22:06:38.425Z"
   },
   {
    "duration": 16,
    "start_time": "2022-08-14T22:06:38.646Z"
   },
   {
    "duration": 274,
    "start_time": "2022-08-14T22:06:40.098Z"
   },
   {
    "duration": 337,
    "start_time": "2022-08-14T22:09:33.357Z"
   },
   {
    "duration": 317,
    "start_time": "2022-08-14T22:10:18.426Z"
   },
   {
    "duration": 71,
    "start_time": "2022-08-14T22:11:56.887Z"
   },
   {
    "duration": 117,
    "start_time": "2022-08-14T22:12:50.046Z"
   },
   {
    "duration": 836,
    "start_time": "2022-08-15T07:35:20.053Z"
   },
   {
    "duration": 175,
    "start_time": "2022-08-15T07:35:20.891Z"
   },
   {
    "duration": 14,
    "start_time": "2022-08-15T07:35:21.068Z"
   },
   {
    "duration": 9,
    "start_time": "2022-08-15T07:35:21.084Z"
   },
   {
    "duration": 9,
    "start_time": "2022-08-15T07:35:21.094Z"
   },
   {
    "duration": 38,
    "start_time": "2022-08-15T07:35:21.104Z"
   },
   {
    "duration": 33,
    "start_time": "2022-08-15T07:35:21.144Z"
   },
   {
    "duration": 26,
    "start_time": "2022-08-15T07:35:21.179Z"
   },
   {
    "duration": 41,
    "start_time": "2022-08-15T07:35:21.206Z"
   },
   {
    "duration": 15,
    "start_time": "2022-08-15T07:35:21.250Z"
   },
   {
    "duration": 16,
    "start_time": "2022-08-15T07:35:21.267Z"
   },
   {
    "duration": 12,
    "start_time": "2022-08-15T07:35:21.284Z"
   },
   {
    "duration": 30,
    "start_time": "2022-08-15T07:35:21.298Z"
   },
   {
    "duration": 37,
    "start_time": "2022-08-15T07:35:21.338Z"
   },
   {
    "duration": 209,
    "start_time": "2022-08-15T07:35:21.377Z"
   },
   {
    "duration": 182,
    "start_time": "2022-08-15T07:35:21.587Z"
   },
   {
    "duration": 17,
    "start_time": "2022-08-15T07:35:21.771Z"
   },
   {
    "duration": 274,
    "start_time": "2022-08-15T07:35:21.790Z"
   },
   {
    "duration": 16,
    "start_time": "2022-08-15T07:35:22.066Z"
   },
   {
    "duration": 274,
    "start_time": "2022-08-15T07:35:22.083Z"
   },
   {
    "duration": 453,
    "start_time": "2022-08-15T07:35:22.359Z"
   },
   {
    "duration": 142,
    "start_time": "2022-08-15T07:35:26.232Z"
   },
   {
    "duration": 11,
    "start_time": "2022-08-15T07:36:32.438Z"
   },
   {
    "duration": 20,
    "start_time": "2022-08-15T07:36:51.979Z"
   },
   {
    "duration": 97,
    "start_time": "2022-08-15T07:39:53.907Z"
   },
   {
    "duration": 3265,
    "start_time": "2022-08-15T07:40:07.606Z"
   },
   {
    "duration": 3441,
    "start_time": "2022-08-15T07:40:25.136Z"
   },
   {
    "duration": 3338,
    "start_time": "2022-08-15T07:42:16.367Z"
   },
   {
    "duration": 558,
    "start_time": "2022-08-15T07:48:39.333Z"
   },
   {
    "duration": 567,
    "start_time": "2022-08-15T07:49:00.560Z"
   },
   {
    "duration": 616,
    "start_time": "2022-08-15T07:49:17.445Z"
   },
   {
    "duration": 700,
    "start_time": "2022-08-15T07:55:55.963Z"
   },
   {
    "duration": 697,
    "start_time": "2022-08-15T07:57:18.970Z"
   },
   {
    "duration": 201,
    "start_time": "2022-08-15T07:57:25.278Z"
   },
   {
    "duration": 174,
    "start_time": "2022-08-15T07:57:37.472Z"
   },
   {
    "duration": 113,
    "start_time": "2022-08-15T08:00:13.890Z"
   },
   {
    "duration": 10,
    "start_time": "2022-08-15T08:00:27.633Z"
   },
   {
    "duration": 84,
    "start_time": "2022-08-15T08:00:35.140Z"
   },
   {
    "duration": 10,
    "start_time": "2022-08-15T08:00:56.753Z"
   },
   {
    "duration": 63,
    "start_time": "2022-08-15T08:01:06.424Z"
   },
   {
    "duration": 14,
    "start_time": "2022-08-15T08:01:12.263Z"
   },
   {
    "duration": 12,
    "start_time": "2022-08-15T08:01:18.788Z"
   },
   {
    "duration": 26,
    "start_time": "2022-08-15T08:01:32.499Z"
   },
   {
    "duration": 9,
    "start_time": "2022-08-15T08:01:37.267Z"
   },
   {
    "duration": 109,
    "start_time": "2022-08-15T08:01:43.233Z"
   },
   {
    "duration": 6,
    "start_time": "2022-08-15T08:01:48.602Z"
   },
   {
    "duration": 21,
    "start_time": "2022-08-15T08:02:08.124Z"
   },
   {
    "duration": 4,
    "start_time": "2022-08-15T08:02:59.924Z"
   },
   {
    "duration": 107,
    "start_time": "2022-08-15T08:03:16.898Z"
   },
   {
    "duration": 1455,
    "start_time": "2022-08-15T08:07:41.900Z"
   },
   {
    "duration": 185,
    "start_time": "2022-08-15T08:08:01.486Z"
   },
   {
    "duration": 46,
    "start_time": "2022-08-15T08:08:28.644Z"
   },
   {
    "duration": 76,
    "start_time": "2022-08-15T08:08:36.208Z"
   },
   {
    "duration": 10,
    "start_time": "2022-08-15T08:08:47.839Z"
   },
   {
    "duration": 904,
    "start_time": "2022-08-15T08:09:06.734Z"
   },
   {
    "duration": 15,
    "start_time": "2022-08-15T08:09:15.875Z"
   },
   {
    "duration": 273,
    "start_time": "2022-08-15T08:09:32.074Z"
   },
   {
    "duration": 7,
    "start_time": "2022-08-15T08:11:26.246Z"
   },
   {
    "duration": 1791,
    "start_time": "2022-08-15T08:14:56.370Z"
   },
   {
    "duration": 18,
    "start_time": "2022-08-15T08:15:07.031Z"
   },
   {
    "duration": 30,
    "start_time": "2022-08-15T08:15:22.528Z"
   },
   {
    "duration": 171,
    "start_time": "2022-08-15T08:15:54.485Z"
   },
   {
    "duration": 106,
    "start_time": "2022-08-15T08:16:03.545Z"
   },
   {
    "duration": 577,
    "start_time": "2022-08-15T08:28:56.510Z"
   },
   {
    "duration": 252,
    "start_time": "2022-08-15T08:30:21.190Z"
   },
   {
    "duration": 188,
    "start_time": "2022-08-15T08:30:54.344Z"
   },
   {
    "duration": 237,
    "start_time": "2022-08-15T08:31:11.205Z"
   },
   {
    "duration": 243,
    "start_time": "2022-08-15T08:31:34.642Z"
   },
   {
    "duration": 283,
    "start_time": "2022-08-15T08:31:42.485Z"
   },
   {
    "duration": 210,
    "start_time": "2022-08-15T08:31:46.326Z"
   },
   {
    "duration": 211,
    "start_time": "2022-08-15T08:31:51.880Z"
   },
   {
    "duration": 311,
    "start_time": "2022-08-15T08:32:04.576Z"
   },
   {
    "duration": 245,
    "start_time": "2022-08-15T08:32:10.836Z"
   },
   {
    "duration": 231,
    "start_time": "2022-08-15T08:32:24.447Z"
   },
   {
    "duration": 233,
    "start_time": "2022-08-15T08:32:39.546Z"
   },
   {
    "duration": 342,
    "start_time": "2022-08-15T08:34:49.161Z"
   },
   {
    "duration": 128,
    "start_time": "2022-08-15T08:35:41.559Z"
   },
   {
    "duration": 86,
    "start_time": "2022-08-15T08:43:14.754Z"
   },
   {
    "duration": 984,
    "start_time": "2022-08-15T08:43:38.036Z"
   },
   {
    "duration": 820,
    "start_time": "2022-08-15T08:44:00.764Z"
   },
   {
    "duration": 47,
    "start_time": "2022-08-15T19:31:06.190Z"
   },
   {
    "duration": 1214,
    "start_time": "2022-08-15T19:31:12.638Z"
   },
   {
    "duration": 123,
    "start_time": "2022-08-15T19:31:13.854Z"
   },
   {
    "duration": 12,
    "start_time": "2022-08-15T19:31:13.978Z"
   },
   {
    "duration": 13,
    "start_time": "2022-08-15T19:31:13.991Z"
   },
   {
    "duration": 8,
    "start_time": "2022-08-15T19:31:14.005Z"
   },
   {
    "duration": 7,
    "start_time": "2022-08-15T19:31:14.015Z"
   },
   {
    "duration": 28,
    "start_time": "2022-08-15T19:31:14.023Z"
   },
   {
    "duration": 23,
    "start_time": "2022-08-15T19:31:14.052Z"
   },
   {
    "duration": 14,
    "start_time": "2022-08-15T19:31:14.098Z"
   },
   {
    "duration": 10,
    "start_time": "2022-08-15T19:31:14.115Z"
   },
   {
    "duration": 12,
    "start_time": "2022-08-15T19:31:14.127Z"
   },
   {
    "duration": 4,
    "start_time": "2022-08-15T19:31:14.140Z"
   },
   {
    "duration": 12,
    "start_time": "2022-08-15T19:31:14.146Z"
   },
   {
    "duration": 40,
    "start_time": "2022-08-15T19:31:14.160Z"
   },
   {
    "duration": 172,
    "start_time": "2022-08-15T19:31:14.202Z"
   },
   {
    "duration": 192,
    "start_time": "2022-08-15T19:31:14.376Z"
   },
   {
    "duration": 13,
    "start_time": "2022-08-15T19:31:14.570Z"
   },
   {
    "duration": 224,
    "start_time": "2022-08-15T19:31:14.585Z"
   },
   {
    "duration": 16,
    "start_time": "2022-08-15T19:31:14.810Z"
   },
   {
    "duration": 214,
    "start_time": "2022-08-15T19:31:14.827Z"
   },
   {
    "duration": 350,
    "start_time": "2022-08-15T19:31:15.043Z"
   },
   {
    "duration": 125,
    "start_time": "2022-08-15T19:31:15.395Z"
   },
   {
    "duration": 272,
    "start_time": "2022-08-15T19:31:15.522Z"
   },
   {
    "duration": 511,
    "start_time": "2022-08-15T19:31:15.796Z"
   },
   {
    "duration": 616,
    "start_time": "2022-08-15T19:31:16.309Z"
   },
   {
    "duration": 743,
    "start_time": "2022-08-15T19:31:16.927Z"
   },
   {
    "duration": 82,
    "start_time": "2022-08-15T19:31:17.672Z"
   },
   {
    "duration": 16,
    "start_time": "2022-08-15T19:31:39.718Z"
   },
   {
    "duration": 18,
    "start_time": "2022-08-15T19:34:10.917Z"
   },
   {
    "duration": 14,
    "start_time": "2022-08-15T19:34:17.925Z"
   },
   {
    "duration": 15,
    "start_time": "2022-08-15T19:34:22.576Z"
   },
   {
    "duration": 17,
    "start_time": "2022-08-15T19:45:38.039Z"
   },
   {
    "duration": 14,
    "start_time": "2022-08-15T19:45:46.073Z"
   },
   {
    "duration": 51,
    "start_time": "2022-08-15T19:47:22.215Z"
   },
   {
    "duration": 258,
    "start_time": "2022-08-15T19:51:56.385Z"
   },
   {
    "duration": 288,
    "start_time": "2022-08-15T19:52:28.100Z"
   },
   {
    "duration": 362,
    "start_time": "2022-08-15T19:52:59.697Z"
   },
   {
    "duration": 560,
    "start_time": "2022-08-15T19:58:36.776Z"
   },
   {
    "duration": 442,
    "start_time": "2022-08-15T19:59:03.722Z"
   },
   {
    "duration": 482,
    "start_time": "2022-08-15T19:59:17.150Z"
   },
   {
    "duration": 1213,
    "start_time": "2022-08-15T20:02:34.062Z"
   },
   {
    "duration": 122,
    "start_time": "2022-08-15T20:03:28.013Z"
   },
   {
    "duration": 141,
    "start_time": "2022-08-15T20:04:04.416Z"
   },
   {
    "duration": 165,
    "start_time": "2022-08-15T20:04:08.091Z"
   },
   {
    "duration": 401,
    "start_time": "2022-08-15T20:04:51.972Z"
   },
   {
    "duration": 325,
    "start_time": "2022-08-15T20:06:01.277Z"
   },
   {
    "duration": 7,
    "start_time": "2022-08-15T20:06:21.208Z"
   },
   {
    "duration": 4,
    "start_time": "2022-08-15T20:06:51.459Z"
   },
   {
    "duration": 68,
    "start_time": "2022-08-15T20:06:51.467Z"
   },
   {
    "duration": 11,
    "start_time": "2022-08-15T20:06:51.537Z"
   },
   {
    "duration": 10,
    "start_time": "2022-08-15T20:06:51.549Z"
   },
   {
    "duration": 8,
    "start_time": "2022-08-15T20:06:51.561Z"
   },
   {
    "duration": 11,
    "start_time": "2022-08-15T20:06:51.570Z"
   },
   {
    "duration": 33,
    "start_time": "2022-08-15T20:06:51.582Z"
   },
   {
    "duration": 21,
    "start_time": "2022-08-15T20:06:51.617Z"
   },
   {
    "duration": 14,
    "start_time": "2022-08-15T20:06:51.639Z"
   },
   {
    "duration": 10,
    "start_time": "2022-08-15T20:06:51.655Z"
   },
   {
    "duration": 34,
    "start_time": "2022-08-15T20:06:51.667Z"
   },
   {
    "duration": 3,
    "start_time": "2022-08-15T20:06:51.703Z"
   },
   {
    "duration": 17,
    "start_time": "2022-08-15T20:06:51.708Z"
   },
   {
    "duration": 18,
    "start_time": "2022-08-15T20:06:51.727Z"
   },
   {
    "duration": 161,
    "start_time": "2022-08-15T20:06:51.746Z"
   },
   {
    "duration": 157,
    "start_time": "2022-08-15T20:06:51.908Z"
   },
   {
    "duration": 13,
    "start_time": "2022-08-15T20:06:52.067Z"
   },
   {
    "duration": 211,
    "start_time": "2022-08-15T20:06:52.081Z"
   },
   {
    "duration": 17,
    "start_time": "2022-08-15T20:06:52.294Z"
   },
   {
    "duration": 200,
    "start_time": "2022-08-15T20:06:52.313Z"
   },
   {
    "duration": 303,
    "start_time": "2022-08-15T20:06:52.516Z"
   },
   {
    "duration": 120,
    "start_time": "2022-08-15T20:06:52.820Z"
   },
   {
    "duration": 278,
    "start_time": "2022-08-15T20:06:52.941Z"
   },
   {
    "duration": 476,
    "start_time": "2022-08-15T20:06:53.220Z"
   },
   {
    "duration": 595,
    "start_time": "2022-08-15T20:06:53.698Z"
   },
   {
    "duration": 808,
    "start_time": "2022-08-15T20:06:54.298Z"
   },
   {
    "duration": 15,
    "start_time": "2022-08-15T20:06:55.107Z"
   },
   {
    "duration": 14,
    "start_time": "2022-08-15T20:06:55.124Z"
   },
   {
    "duration": 374,
    "start_time": "2022-08-15T20:06:55.140Z"
   },
   {
    "duration": 336,
    "start_time": "2022-08-15T20:06:55.516Z"
   },
   {
    "duration": 7,
    "start_time": "2022-08-15T20:07:03.377Z"
   },
   {
    "duration": 337,
    "start_time": "2022-08-15T20:07:39.598Z"
   },
   {
    "duration": 4,
    "start_time": "2022-08-15T20:07:49.991Z"
   },
   {
    "duration": 68,
    "start_time": "2022-08-15T20:07:50.000Z"
   },
   {
    "duration": 11,
    "start_time": "2022-08-15T20:07:50.070Z"
   },
   {
    "duration": 6,
    "start_time": "2022-08-15T20:07:50.082Z"
   },
   {
    "duration": 7,
    "start_time": "2022-08-15T20:07:50.090Z"
   },
   {
    "duration": 7,
    "start_time": "2022-08-15T20:07:50.099Z"
   },
   {
    "duration": 23,
    "start_time": "2022-08-15T20:07:50.107Z"
   },
   {
    "duration": 23,
    "start_time": "2022-08-15T20:07:50.132Z"
   },
   {
    "duration": 14,
    "start_time": "2022-08-15T20:07:50.157Z"
   },
   {
    "duration": 11,
    "start_time": "2022-08-15T20:07:50.199Z"
   },
   {
    "duration": 15,
    "start_time": "2022-08-15T20:07:50.211Z"
   },
   {
    "duration": 4,
    "start_time": "2022-08-15T20:07:50.228Z"
   },
   {
    "duration": 21,
    "start_time": "2022-08-15T20:07:50.233Z"
   },
   {
    "duration": 22,
    "start_time": "2022-08-15T20:07:50.255Z"
   },
   {
    "duration": 160,
    "start_time": "2022-08-15T20:07:50.278Z"
   },
   {
    "duration": 150,
    "start_time": "2022-08-15T20:07:50.439Z"
   },
   {
    "duration": 17,
    "start_time": "2022-08-15T20:07:50.590Z"
   },
   {
    "duration": 205,
    "start_time": "2022-08-15T20:07:50.608Z"
   },
   {
    "duration": 14,
    "start_time": "2022-08-15T20:07:50.815Z"
   },
   {
    "duration": 260,
    "start_time": "2022-08-15T20:07:50.830Z"
   },
   {
    "duration": 296,
    "start_time": "2022-08-15T20:07:51.092Z"
   },
   {
    "duration": 123,
    "start_time": "2022-08-15T20:07:51.389Z"
   },
   {
    "duration": 206,
    "start_time": "2022-08-15T20:07:51.514Z"
   },
   {
    "duration": 510,
    "start_time": "2022-08-15T20:07:51.722Z"
   },
   {
    "duration": 677,
    "start_time": "2022-08-15T20:07:52.234Z"
   },
   {
    "duration": 687,
    "start_time": "2022-08-15T20:07:52.912Z"
   },
   {
    "duration": 14,
    "start_time": "2022-08-15T20:07:53.601Z"
   },
   {
    "duration": 15,
    "start_time": "2022-08-15T20:07:53.616Z"
   },
   {
    "duration": 350,
    "start_time": "2022-08-15T20:07:53.632Z"
   },
   {
    "duration": 4,
    "start_time": "2022-08-15T20:08:07.697Z"
   },
   {
    "duration": 74,
    "start_time": "2022-08-15T20:08:07.707Z"
   },
   {
    "duration": 10,
    "start_time": "2022-08-15T20:08:07.783Z"
   },
   {
    "duration": 8,
    "start_time": "2022-08-15T20:08:07.795Z"
   },
   {
    "duration": 10,
    "start_time": "2022-08-15T20:08:07.805Z"
   },
   {
    "duration": 11,
    "start_time": "2022-08-15T20:08:07.816Z"
   },
   {
    "duration": 22,
    "start_time": "2022-08-15T20:08:07.828Z"
   },
   {
    "duration": 23,
    "start_time": "2022-08-15T20:08:07.851Z"
   },
   {
    "duration": 29,
    "start_time": "2022-08-15T20:08:07.875Z"
   },
   {
    "duration": 11,
    "start_time": "2022-08-15T20:08:07.905Z"
   },
   {
    "duration": 12,
    "start_time": "2022-08-15T20:08:07.918Z"
   },
   {
    "duration": 4,
    "start_time": "2022-08-15T20:08:07.932Z"
   },
   {
    "duration": 14,
    "start_time": "2022-08-15T20:08:07.937Z"
   },
   {
    "duration": 46,
    "start_time": "2022-08-15T20:08:07.952Z"
   },
   {
    "duration": 154,
    "start_time": "2022-08-15T20:08:08.000Z"
   },
   {
    "duration": 145,
    "start_time": "2022-08-15T20:08:08.156Z"
   },
   {
    "duration": 14,
    "start_time": "2022-08-15T20:08:08.303Z"
   },
   {
    "duration": 209,
    "start_time": "2022-08-15T20:08:08.318Z"
   },
   {
    "duration": 15,
    "start_time": "2022-08-15T20:08:08.530Z"
   },
   {
    "duration": 187,
    "start_time": "2022-08-15T20:08:08.547Z"
   },
   {
    "duration": 382,
    "start_time": "2022-08-15T20:08:08.736Z"
   },
   {
    "duration": 120,
    "start_time": "2022-08-15T20:08:09.120Z"
   },
   {
    "duration": 212,
    "start_time": "2022-08-15T20:08:09.241Z"
   },
   {
    "duration": 471,
    "start_time": "2022-08-15T20:08:09.455Z"
   },
   {
    "duration": 657,
    "start_time": "2022-08-15T20:08:09.927Z"
   },
   {
    "duration": 764,
    "start_time": "2022-08-15T20:08:10.586Z"
   },
   {
    "duration": 16,
    "start_time": "2022-08-15T20:08:11.352Z"
   },
   {
    "duration": 15,
    "start_time": "2022-08-15T20:08:11.369Z"
   },
   {
    "duration": 343,
    "start_time": "2022-08-15T20:08:11.398Z"
   },
   {
    "duration": 328,
    "start_time": "2022-08-15T20:08:28.392Z"
   },
   {
    "duration": 397,
    "start_time": "2022-08-15T20:08:55.125Z"
   },
   {
    "duration": 7,
    "start_time": "2022-08-15T20:09:06.965Z"
   },
   {
    "duration": 60,
    "start_time": "2022-08-15T20:11:37.372Z"
   },
   {
    "duration": 4,
    "start_time": "2022-08-15T20:15:59.930Z"
   },
   {
    "duration": 67,
    "start_time": "2022-08-15T20:15:59.942Z"
   },
   {
    "duration": 11,
    "start_time": "2022-08-15T20:16:00.011Z"
   },
   {
    "duration": 10,
    "start_time": "2022-08-15T20:16:00.024Z"
   },
   {
    "duration": 8,
    "start_time": "2022-08-15T20:16:00.037Z"
   },
   {
    "duration": 13,
    "start_time": "2022-08-15T20:16:00.046Z"
   },
   {
    "duration": 43,
    "start_time": "2022-08-15T20:16:00.061Z"
   },
   {
    "duration": 25,
    "start_time": "2022-08-15T20:16:00.105Z"
   },
   {
    "duration": 34,
    "start_time": "2022-08-15T20:16:00.132Z"
   },
   {
    "duration": 23,
    "start_time": "2022-08-15T20:16:00.168Z"
   },
   {
    "duration": 50,
    "start_time": "2022-08-15T20:16:00.192Z"
   },
   {
    "duration": 18,
    "start_time": "2022-08-15T20:16:00.244Z"
   },
   {
    "duration": 54,
    "start_time": "2022-08-15T20:16:00.263Z"
   },
   {
    "duration": 33,
    "start_time": "2022-08-15T20:16:00.319Z"
   },
   {
    "duration": 168,
    "start_time": "2022-08-15T20:16:00.354Z"
   },
   {
    "duration": 145,
    "start_time": "2022-08-15T20:16:00.524Z"
   },
   {
    "duration": 12,
    "start_time": "2022-08-15T20:16:00.671Z"
   },
   {
    "duration": 222,
    "start_time": "2022-08-15T20:16:00.684Z"
   },
   {
    "duration": 15,
    "start_time": "2022-08-15T20:16:00.908Z"
   },
   {
    "duration": 287,
    "start_time": "2022-08-15T20:16:00.925Z"
   },
   {
    "duration": 305,
    "start_time": "2022-08-15T20:16:01.214Z"
   },
   {
    "duration": 118,
    "start_time": "2022-08-15T20:16:01.521Z"
   },
   {
    "duration": 212,
    "start_time": "2022-08-15T20:16:01.641Z"
   },
   {
    "duration": 486,
    "start_time": "2022-08-15T20:16:01.854Z"
   },
   {
    "duration": 603,
    "start_time": "2022-08-15T20:16:02.341Z"
   },
   {
    "duration": 818,
    "start_time": "2022-08-15T20:16:02.945Z"
   },
   {
    "duration": 17,
    "start_time": "2022-08-15T20:16:03.764Z"
   },
   {
    "duration": 22,
    "start_time": "2022-08-15T20:16:03.782Z"
   },
   {
    "duration": 501,
    "start_time": "2022-08-15T20:16:03.805Z"
   },
   {
    "duration": 449,
    "start_time": "2022-08-15T20:16:04.307Z"
   },
   {
    "duration": 5,
    "start_time": "2022-08-15T20:16:04.758Z"
   },
   {
    "duration": 323,
    "start_time": "2022-08-15T20:16:19.922Z"
   },
   {
    "duration": 316,
    "start_time": "2022-08-15T20:17:15.443Z"
   },
   {
    "duration": 6,
    "start_time": "2022-08-15T20:17:37.700Z"
   },
   {
    "duration": 429,
    "start_time": "2022-08-15T20:18:26.587Z"
   },
   {
    "duration": 6,
    "start_time": "2022-08-15T20:18:56.436Z"
   },
   {
    "duration": 290,
    "start_time": "2022-08-15T20:19:25.114Z"
   },
   {
    "duration": 9,
    "start_time": "2022-08-15T20:29:47.249Z"
   },
   {
    "duration": 11,
    "start_time": "2022-08-15T20:29:56.697Z"
   },
   {
    "duration": 3,
    "start_time": "2022-08-15T20:30:07.534Z"
   },
   {
    "duration": 90,
    "start_time": "2022-08-15T20:30:07.547Z"
   },
   {
    "duration": 11,
    "start_time": "2022-08-15T20:30:07.638Z"
   },
   {
    "duration": 17,
    "start_time": "2022-08-15T20:30:07.650Z"
   },
   {
    "duration": 21,
    "start_time": "2022-08-15T20:30:07.668Z"
   },
   {
    "duration": 24,
    "start_time": "2022-08-15T20:30:07.690Z"
   },
   {
    "duration": 34,
    "start_time": "2022-08-15T20:30:07.715Z"
   },
   {
    "duration": 27,
    "start_time": "2022-08-15T20:30:07.750Z"
   },
   {
    "duration": 13,
    "start_time": "2022-08-15T20:30:07.778Z"
   },
   {
    "duration": 11,
    "start_time": "2022-08-15T20:30:07.793Z"
   },
   {
    "duration": 37,
    "start_time": "2022-08-15T20:30:07.806Z"
   },
   {
    "duration": 13,
    "start_time": "2022-08-15T20:30:07.845Z"
   },
   {
    "duration": 38,
    "start_time": "2022-08-15T20:30:07.859Z"
   },
   {
    "duration": 27,
    "start_time": "2022-08-15T20:30:07.898Z"
   },
   {
    "duration": 148,
    "start_time": "2022-08-15T20:30:07.926Z"
   },
   {
    "duration": 146,
    "start_time": "2022-08-15T20:30:08.076Z"
   },
   {
    "duration": 12,
    "start_time": "2022-08-15T20:30:08.223Z"
   },
   {
    "duration": 202,
    "start_time": "2022-08-15T20:30:08.236Z"
   },
   {
    "duration": 15,
    "start_time": "2022-08-15T20:30:08.439Z"
   },
   {
    "duration": 185,
    "start_time": "2022-08-15T20:30:08.456Z"
   },
   {
    "duration": 293,
    "start_time": "2022-08-15T20:30:08.643Z"
   },
   {
    "duration": 120,
    "start_time": "2022-08-15T20:30:08.938Z"
   },
   {
    "duration": 211,
    "start_time": "2022-08-15T20:30:09.060Z"
   },
   {
    "duration": 574,
    "start_time": "2022-08-15T20:30:09.273Z"
   },
   {
    "duration": 602,
    "start_time": "2022-08-15T20:30:09.849Z"
   },
   {
    "duration": 677,
    "start_time": "2022-08-15T20:30:10.452Z"
   },
   {
    "duration": 14,
    "start_time": "2022-08-15T20:30:11.131Z"
   },
   {
    "duration": 13,
    "start_time": "2022-08-15T20:30:11.146Z"
   },
   {
    "duration": 331,
    "start_time": "2022-08-15T20:30:11.160Z"
   },
   {
    "duration": 373,
    "start_time": "2022-08-15T20:30:11.498Z"
   },
   {
    "duration": 4,
    "start_time": "2022-08-15T20:30:11.873Z"
   },
   {
    "duration": 404,
    "start_time": "2022-08-15T20:30:11.878Z"
   },
   {
    "duration": 2,
    "start_time": "2022-08-15T20:30:12.283Z"
   },
   {
    "duration": 9,
    "start_time": "2022-08-15T20:30:18.981Z"
   },
   {
    "duration": 15,
    "start_time": "2022-08-15T20:32:52.709Z"
   },
   {
    "duration": 9,
    "start_time": "2022-08-15T20:36:17.271Z"
   },
   {
    "duration": 53,
    "start_time": "2022-08-15T20:36:43.610Z"
   },
   {
    "duration": 1263,
    "start_time": "2022-08-16T13:24:17.408Z"
   },
   {
    "duration": 96,
    "start_time": "2022-08-16T13:24:18.674Z"
   },
   {
    "duration": 16,
    "start_time": "2022-08-16T13:24:18.771Z"
   },
   {
    "duration": 22,
    "start_time": "2022-08-16T13:24:18.789Z"
   },
   {
    "duration": 25,
    "start_time": "2022-08-16T13:24:18.813Z"
   },
   {
    "duration": 28,
    "start_time": "2022-08-16T13:24:18.840Z"
   },
   {
    "duration": 53,
    "start_time": "2022-08-16T13:24:18.872Z"
   },
   {
    "duration": 34,
    "start_time": "2022-08-16T13:24:18.927Z"
   },
   {
    "duration": 41,
    "start_time": "2022-08-16T13:24:18.964Z"
   },
   {
    "duration": 37,
    "start_time": "2022-08-16T13:24:19.008Z"
   },
   {
    "duration": 25,
    "start_time": "2022-08-16T13:24:19.047Z"
   },
   {
    "duration": 6,
    "start_time": "2022-08-16T13:24:19.074Z"
   },
   {
    "duration": 20,
    "start_time": "2022-08-16T13:24:19.082Z"
   },
   {
    "duration": 67,
    "start_time": "2022-08-16T13:24:19.105Z"
   },
   {
    "duration": 205,
    "start_time": "2022-08-16T13:24:19.174Z"
   },
   {
    "duration": 186,
    "start_time": "2022-08-16T13:24:19.381Z"
   },
   {
    "duration": 40,
    "start_time": "2022-08-16T13:24:19.568Z"
   },
   {
    "duration": 276,
    "start_time": "2022-08-16T13:24:19.610Z"
   },
   {
    "duration": 34,
    "start_time": "2022-08-16T13:24:19.888Z"
   },
   {
    "duration": 251,
    "start_time": "2022-08-16T13:24:19.924Z"
   },
   {
    "duration": 484,
    "start_time": "2022-08-16T13:24:20.177Z"
   },
   {
    "duration": 147,
    "start_time": "2022-08-16T13:24:20.663Z"
   },
   {
    "duration": 345,
    "start_time": "2022-08-16T13:24:20.812Z"
   },
   {
    "duration": 634,
    "start_time": "2022-08-16T13:24:21.159Z"
   },
   {
    "duration": 811,
    "start_time": "2022-08-16T13:24:21.795Z"
   },
   {
    "duration": 989,
    "start_time": "2022-08-16T13:24:22.611Z"
   },
   {
    "duration": 25,
    "start_time": "2022-08-16T13:24:23.603Z"
   },
   {
    "duration": 17,
    "start_time": "2022-08-16T13:24:23.631Z"
   },
   {
    "duration": 469,
    "start_time": "2022-08-16T13:24:23.650Z"
   },
   {
    "duration": 565,
    "start_time": "2022-08-16T13:24:24.121Z"
   },
   {
    "duration": 6,
    "start_time": "2022-08-16T13:24:24.688Z"
   },
   {
    "duration": 403,
    "start_time": "2022-08-16T13:24:24.696Z"
   },
   {
    "duration": 3,
    "start_time": "2022-08-16T13:24:25.104Z"
   },
   {
    "duration": 19,
    "start_time": "2022-08-16T13:24:25.109Z"
   },
   {
    "duration": 17,
    "start_time": "2022-08-16T13:24:25.130Z"
   },
   {
    "duration": 34,
    "start_time": "2022-08-16T13:46:34.772Z"
   },
   {
    "duration": 1259,
    "start_time": "2022-08-17T05:34:38.518Z"
   },
   {
    "duration": 205,
    "start_time": "2022-08-17T05:34:39.779Z"
   },
   {
    "duration": 12,
    "start_time": "2022-08-17T05:34:39.986Z"
   },
   {
    "duration": 7,
    "start_time": "2022-08-17T05:34:39.999Z"
   },
   {
    "duration": 11,
    "start_time": "2022-08-17T05:34:40.007Z"
   },
   {
    "duration": 15,
    "start_time": "2022-08-17T05:34:40.019Z"
   },
   {
    "duration": 34,
    "start_time": "2022-08-17T05:34:40.035Z"
   },
   {
    "duration": 35,
    "start_time": "2022-08-17T05:34:40.071Z"
   },
   {
    "duration": 14,
    "start_time": "2022-08-17T05:34:40.109Z"
   },
   {
    "duration": 14,
    "start_time": "2022-08-17T05:34:40.125Z"
   },
   {
    "duration": 16,
    "start_time": "2022-08-17T05:34:40.141Z"
   },
   {
    "duration": 11,
    "start_time": "2022-08-17T05:34:40.159Z"
   },
   {
    "duration": 13,
    "start_time": "2022-08-17T05:34:40.171Z"
   },
   {
    "duration": 34,
    "start_time": "2022-08-17T05:34:40.186Z"
   },
   {
    "duration": 186,
    "start_time": "2022-08-17T05:34:40.222Z"
   },
   {
    "duration": 159,
    "start_time": "2022-08-17T05:34:40.409Z"
   },
   {
    "duration": 13,
    "start_time": "2022-08-17T05:34:40.570Z"
   },
   {
    "duration": 217,
    "start_time": "2022-08-17T05:34:40.585Z"
   },
   {
    "duration": 19,
    "start_time": "2022-08-17T05:34:40.806Z"
   },
   {
    "duration": 214,
    "start_time": "2022-08-17T05:34:40.827Z"
   },
   {
    "duration": 346,
    "start_time": "2022-08-17T05:34:41.042Z"
   },
   {
    "duration": 125,
    "start_time": "2022-08-17T05:34:41.390Z"
   },
   {
    "duration": 230,
    "start_time": "2022-08-17T05:34:44.521Z"
   },
   {
    "duration": 229,
    "start_time": "2022-08-17T05:36:59.367Z"
   },
   {
    "duration": 193,
    "start_time": "2022-08-17T05:37:28.573Z"
   },
   {
    "duration": 88,
    "start_time": "2022-08-17T05:38:29.939Z"
   },
   {
    "duration": 1404,
    "start_time": "2022-08-17T10:40:50.512Z"
   },
   {
    "duration": 135,
    "start_time": "2022-08-17T10:40:51.918Z"
   },
   {
    "duration": 16,
    "start_time": "2022-08-17T10:40:52.055Z"
   },
   {
    "duration": 21,
    "start_time": "2022-08-17T10:40:52.073Z"
   },
   {
    "duration": 33,
    "start_time": "2022-08-17T10:40:52.097Z"
   },
   {
    "duration": 59,
    "start_time": "2022-08-17T10:40:52.132Z"
   },
   {
    "duration": 32,
    "start_time": "2022-08-17T10:40:52.193Z"
   },
   {
    "duration": 28,
    "start_time": "2022-08-17T10:40:52.227Z"
   },
   {
    "duration": 17,
    "start_time": "2022-08-17T10:40:52.256Z"
   },
   {
    "duration": 34,
    "start_time": "2022-08-17T10:40:52.274Z"
   },
   {
    "duration": 19,
    "start_time": "2022-08-17T10:40:52.310Z"
   },
   {
    "duration": 5,
    "start_time": "2022-08-17T10:40:52.330Z"
   },
   {
    "duration": 16,
    "start_time": "2022-08-17T10:40:52.337Z"
   },
   {
    "duration": 47,
    "start_time": "2022-08-17T10:40:52.357Z"
   },
   {
    "duration": 214,
    "start_time": "2022-08-17T10:40:52.407Z"
   },
   {
    "duration": 199,
    "start_time": "2022-08-17T10:40:52.623Z"
   },
   {
    "duration": 16,
    "start_time": "2022-08-17T10:40:52.824Z"
   },
   {
    "duration": 275,
    "start_time": "2022-08-17T10:40:52.842Z"
   },
   {
    "duration": 22,
    "start_time": "2022-08-17T10:40:53.119Z"
   },
   {
    "duration": 264,
    "start_time": "2022-08-17T10:40:53.143Z"
   },
   {
    "duration": 440,
    "start_time": "2022-08-17T10:40:53.409Z"
   },
   {
    "duration": 135,
    "start_time": "2022-08-17T10:40:53.851Z"
   },
   {
    "duration": 306,
    "start_time": "2022-08-17T10:40:53.988Z"
   },
   {
    "duration": 654,
    "start_time": "2022-08-17T10:40:54.296Z"
   },
   {
    "duration": 861,
    "start_time": "2022-08-17T10:40:54.952Z"
   },
   {
    "duration": 1026,
    "start_time": "2022-08-17T10:40:55.815Z"
   },
   {
    "duration": 29,
    "start_time": "2022-08-17T10:40:56.843Z"
   },
   {
    "duration": 32,
    "start_time": "2022-08-17T10:40:56.874Z"
   },
   {
    "duration": 453,
    "start_time": "2022-08-17T10:40:56.908Z"
   },
   {
    "duration": 528,
    "start_time": "2022-08-17T10:40:57.363Z"
   },
   {
    "duration": 14,
    "start_time": "2022-08-17T10:40:57.893Z"
   },
   {
    "duration": 421,
    "start_time": "2022-08-17T10:40:57.909Z"
   },
   {
    "duration": 2,
    "start_time": "2022-08-17T10:40:58.333Z"
   },
   {
    "duration": 23,
    "start_time": "2022-08-17T10:40:58.337Z"
   },
   {
    "duration": 18,
    "start_time": "2022-08-17T10:40:58.361Z"
   },
   {
    "duration": 1390,
    "start_time": "2022-08-17T22:39:52.159Z"
   },
   {
    "duration": 159,
    "start_time": "2022-08-17T22:39:53.551Z"
   },
   {
    "duration": 22,
    "start_time": "2022-08-17T22:39:53.716Z"
   },
   {
    "duration": 5,
    "start_time": "2022-08-17T22:39:53.739Z"
   },
   {
    "duration": 9,
    "start_time": "2022-08-17T22:39:53.746Z"
   },
   {
    "duration": 14,
    "start_time": "2022-08-17T22:39:53.757Z"
   }
  ],
  "kernelspec": {
   "display_name": "Python 3 (ipykernel)",
   "language": "python",
   "name": "python3"
  },
  "language_info": {
   "codemirror_mode": {
    "name": "ipython",
    "version": 3
   },
   "file_extension": ".py",
   "mimetype": "text/x-python",
   "name": "python",
   "nbconvert_exporter": "python",
   "pygments_lexer": "ipython3",
   "version": "3.9.12"
  },
  "toc": {
   "base_numbering": 1,
   "nav_menu": {
    "height": "106px",
    "width": "160px"
   },
   "number_sections": true,
   "sideBar": true,
   "skip_h1_title": true,
   "title_cell": "Table of Contents",
   "title_sidebar": "Contents",
   "toc_cell": false,
   "toc_position": {
    "height": "calc(100% - 180px)",
    "left": "10px",
    "top": "150px",
    "width": "289.6px"
   },
   "toc_section_display": true,
   "toc_window_display": true
  }
 },
 "nbformat": 4,
 "nbformat_minor": 2
}
