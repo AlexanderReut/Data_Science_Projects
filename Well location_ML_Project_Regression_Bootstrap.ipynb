{
 "cells": [
  {
   "cell_type": "markdown",
   "metadata": {},
   "source": [
    "# Выбор локации для скважины"
   ]
  },
  {
   "cell_type": "markdown",
   "metadata": {},
   "source": [
    "Добывающей компании «...Нефть» нужно решить, где бурить новую скважину.\n",
    "\n",
    "Вам предоставлены пробы нефти в трёх регионах: в каждом 10 000 месторождений, где измерили качество нефти и объём её запасов. Постройте модель машинного обучения, которая поможет определить регион, где добыча принесёт наибольшую прибыль. Проанализируйте возможную прибыль и риски техникой *Bootstrap.*\n",
    "\n",
    "Шаги для выбора локации:\n",
    "\n",
    "- В избранном регионе ищут месторождения, для каждого определяют значения признаков;\n",
    "- Строят модель и оценивают объём запасов;\n",
    "- Выбирают месторождения с самым высокими оценками значений. Количество месторождений зависит от бюджета компании и стоимости разработки одной скважины;\n",
    "- Прибыль равна суммарной прибыли отобранных месторождений."
   ]
  },
  {
   "cell_type": "markdown",
   "metadata": {},
   "source": [
    "### Содержание\n",
    "\n",
    "* [Введение](#chapter0)\n",
    "* [1. Загрузка и подготовка данных](#chapter1)\n",
    "* [2. Обучение и проверка модели ML](#chapter2)\n",
    "* [3. Подготовка к расчёту прибыли](#chapter3)\n",
    "* [4. Расчёт прибыли и рисков техникой Bootstrap](#chapter4)"
   ]
  },
  {
   "cell_type": "markdown",
   "metadata": {},
   "source": [
    "# Введение <a class=\"anchor\" id=\"chapter0\"></a>\n",
    "Нам предоставлены пробы нефти в трёх регионах. Характеристики для каждой скважины в регионе уже известны. Мы построим модель для определения региона, где добыча принесёт наибольшую прибыль. Кроме того, проанализируем возможную прибыль и риски техникой Bootstrap."
   ]
  },
  {
   "cell_type": "markdown",
   "metadata": {},
   "source": [
    "## 1. Загрузка и подготовка данных <a class=\"anchor\" id=\"chapter1\"></a>"
   ]
  },
  {
   "cell_type": "code",
   "execution_count": 1,
   "metadata": {},
   "outputs": [],
   "source": [
    "import pandas as pd\n",
    "import numpy as np\n",
    "import matplotlib.pyplot as plt\n",
    "\n",
    "from sklearn.linear_model import LinearRegression\n",
    "from sklearn.model_selection import train_test_split\n",
    "from sklearn.metrics import mean_squared_error\n",
    "from sklearn.preprocessing import StandardScaler\n",
    "from numpy.random import RandomState"
   ]
  },
  {
   "cell_type": "code",
   "execution_count": 2,
   "metadata": {},
   "outputs": [],
   "source": [
    "# Загрузим и подготовим данные согласно регионов\n",
    "data0 = pd.read_csv('/datasets/geo_data_0.csv')\n",
    "data1 = pd.read_csv('/datasets/geo_data_1.csv')\n",
    "data2 = pd.read_csv('/datasets/geo_data_2.csv')"
   ]
  },
  {
   "cell_type": "code",
   "execution_count": 3,
   "metadata": {},
   "outputs": [
    {
     "name": "stdout",
     "output_type": "stream",
     "text": [
      "<class 'pandas.core.frame.DataFrame'>\n",
      "RangeIndex: 100000 entries, 0 to 99999\n",
      "Data columns (total 5 columns):\n",
      " #   Column   Non-Null Count   Dtype  \n",
      "---  ------   --------------   -----  \n",
      " 0   id       100000 non-null  object \n",
      " 1   f0       100000 non-null  float64\n",
      " 2   f1       100000 non-null  float64\n",
      " 3   f2       100000 non-null  float64\n",
      " 4   product  100000 non-null  float64\n",
      "dtypes: float64(4), object(1)\n",
      "memory usage: 3.8+ MB\n"
     ]
    },
    {
     "data": {
      "text/plain": [
       "None"
      ]
     },
     "metadata": {},
     "output_type": "display_data"
    },
    {
     "name": "stdout",
     "output_type": "stream",
     "text": [
      "<class 'pandas.core.frame.DataFrame'>\n",
      "RangeIndex: 100000 entries, 0 to 99999\n",
      "Data columns (total 5 columns):\n",
      " #   Column   Non-Null Count   Dtype  \n",
      "---  ------   --------------   -----  \n",
      " 0   id       100000 non-null  object \n",
      " 1   f0       100000 non-null  float64\n",
      " 2   f1       100000 non-null  float64\n",
      " 3   f2       100000 non-null  float64\n",
      " 4   product  100000 non-null  float64\n",
      "dtypes: float64(4), object(1)\n",
      "memory usage: 3.8+ MB\n"
     ]
    },
    {
     "data": {
      "text/plain": [
       "None"
      ]
     },
     "metadata": {},
     "output_type": "display_data"
    },
    {
     "name": "stdout",
     "output_type": "stream",
     "text": [
      "<class 'pandas.core.frame.DataFrame'>\n",
      "RangeIndex: 100000 entries, 0 to 99999\n",
      "Data columns (total 5 columns):\n",
      " #   Column   Non-Null Count   Dtype  \n",
      "---  ------   --------------   -----  \n",
      " 0   id       100000 non-null  object \n",
      " 1   f0       100000 non-null  float64\n",
      " 2   f1       100000 non-null  float64\n",
      " 3   f2       100000 non-null  float64\n",
      " 4   product  100000 non-null  float64\n",
      "dtypes: float64(4), object(1)\n",
      "memory usage: 3.8+ MB\n"
     ]
    },
    {
     "data": {
      "text/plain": [
       "None"
      ]
     },
     "metadata": {},
     "output_type": "display_data"
    },
    {
     "data": {
      "text/html": [
       "<div>\n",
       "<style scoped>\n",
       "    .dataframe tbody tr th:only-of-type {\n",
       "        vertical-align: middle;\n",
       "    }\n",
       "\n",
       "    .dataframe tbody tr th {\n",
       "        vertical-align: top;\n",
       "    }\n",
       "\n",
       "    .dataframe thead th {\n",
       "        text-align: right;\n",
       "    }\n",
       "</style>\n",
       "<table border=\"1\" class=\"dataframe\">\n",
       "  <thead>\n",
       "    <tr style=\"text-align: right;\">\n",
       "      <th></th>\n",
       "      <th>id</th>\n",
       "      <th>f0</th>\n",
       "      <th>f1</th>\n",
       "      <th>f2</th>\n",
       "      <th>product</th>\n",
       "    </tr>\n",
       "  </thead>\n",
       "  <tbody>\n",
       "    <tr>\n",
       "      <th>0</th>\n",
       "      <td>kBEdx</td>\n",
       "      <td>-15.001348</td>\n",
       "      <td>-8.276000</td>\n",
       "      <td>-0.005876</td>\n",
       "      <td>3.179103</td>\n",
       "    </tr>\n",
       "    <tr>\n",
       "      <th>1</th>\n",
       "      <td>62mP7</td>\n",
       "      <td>14.272088</td>\n",
       "      <td>-3.475083</td>\n",
       "      <td>0.999183</td>\n",
       "      <td>26.953261</td>\n",
       "    </tr>\n",
       "    <tr>\n",
       "      <th>2</th>\n",
       "      <td>vyE1P</td>\n",
       "      <td>6.263187</td>\n",
       "      <td>-5.948386</td>\n",
       "      <td>5.001160</td>\n",
       "      <td>134.766305</td>\n",
       "    </tr>\n",
       "    <tr>\n",
       "      <th>3</th>\n",
       "      <td>KcrkZ</td>\n",
       "      <td>-13.081196</td>\n",
       "      <td>-11.506057</td>\n",
       "      <td>4.999415</td>\n",
       "      <td>137.945408</td>\n",
       "    </tr>\n",
       "    <tr>\n",
       "      <th>4</th>\n",
       "      <td>AHL4O</td>\n",
       "      <td>12.702195</td>\n",
       "      <td>-8.147433</td>\n",
       "      <td>5.004363</td>\n",
       "      <td>134.766305</td>\n",
       "    </tr>\n",
       "  </tbody>\n",
       "</table>\n",
       "</div>"
      ],
      "text/plain": [
       "      id         f0         f1        f2     product\n",
       "0  kBEdx -15.001348  -8.276000 -0.005876    3.179103\n",
       "1  62mP7  14.272088  -3.475083  0.999183   26.953261\n",
       "2  vyE1P   6.263187  -5.948386  5.001160  134.766305\n",
       "3  KcrkZ -13.081196 -11.506057  4.999415  137.945408\n",
       "4  AHL4O  12.702195  -8.147433  5.004363  134.766305"
      ]
     },
     "metadata": {},
     "output_type": "display_data"
    }
   ],
   "source": [
    "# проанализируем данные\n",
    "display(data0.info())\n",
    "display(data1.info())\n",
    "display(data2.info())\n",
    "display(data1.head())"
   ]
  },
  {
   "cell_type": "markdown",
   "metadata": {},
   "source": [
    "Вывод: <br>\n",
    "1) пропусков нет,  <br>\n",
    "2) столбцы id не несут полезной для нас информации, их можно удалить <br>\n",
    "3) тип данных float в остальных столбцах устроит нас для проеведения анализа и расчетов <br>\n",
    "4) количество строк по каждому региону одинаковое, что позволяет нам сравнивать их"
   ]
  },
  {
   "cell_type": "code",
   "execution_count": 3,
   "metadata": {},
   "outputs": [],
   "source": [
    "# так как столбцы id не несут полезной для нас информации, удалим их\n",
    "data0 = data0.drop(['id'], axis=1)\n",
    "data1 = data1.drop(['id'], axis=1)\n",
    "data2 = data2.drop(['id'], axis=1)"
   ]
  },
  {
   "cell_type": "code",
   "execution_count": 14,
   "metadata": {},
   "outputs": [
    {
     "data": {
      "text/html": [
       "<div>\n",
       "<style scoped>\n",
       "    .dataframe tbody tr th:only-of-type {\n",
       "        vertical-align: middle;\n",
       "    }\n",
       "\n",
       "    .dataframe tbody tr th {\n",
       "        vertical-align: top;\n",
       "    }\n",
       "\n",
       "    .dataframe thead th {\n",
       "        text-align: right;\n",
       "    }\n",
       "</style>\n",
       "<table border=\"1\" class=\"dataframe\">\n",
       "  <thead>\n",
       "    <tr style=\"text-align: right;\">\n",
       "      <th></th>\n",
       "      <th>product_min</th>\n",
       "      <th>product_mean</th>\n",
       "      <th>product_median</th>\n",
       "      <th>product_max</th>\n",
       "      <th>product_sum</th>\n",
       "    </tr>\n",
       "  </thead>\n",
       "  <tbody>\n",
       "    <tr>\n",
       "      <th>0</th>\n",
       "      <td>0.0</td>\n",
       "      <td>92.500</td>\n",
       "      <td>91.849972</td>\n",
       "      <td>185.364347</td>\n",
       "      <td>9250000.0</td>\n",
       "    </tr>\n",
       "    <tr>\n",
       "      <th>1</th>\n",
       "      <td>0.0</td>\n",
       "      <td>68.825</td>\n",
       "      <td>57.085625</td>\n",
       "      <td>137.945408</td>\n",
       "      <td>6882500.0</td>\n",
       "    </tr>\n",
       "    <tr>\n",
       "      <th>2</th>\n",
       "      <td>0.0</td>\n",
       "      <td>95.000</td>\n",
       "      <td>94.925613</td>\n",
       "      <td>190.029838</td>\n",
       "      <td>9500000.0</td>\n",
       "    </tr>\n",
       "  </tbody>\n",
       "</table>\n",
       "</div>"
      ],
      "text/plain": [
       "   product_min  product_mean  product_median  product_max  product_sum\n",
       "0          0.0        92.500       91.849972   185.364347    9250000.0\n",
       "1          0.0        68.825       57.085625   137.945408    6882500.0\n",
       "2          0.0        95.000       94.925613   190.029838    9500000.0"
      ]
     },
     "metadata": {},
     "output_type": "display_data"
    },
    {
     "data": {
      "text/plain": [
       "<function matplotlib.pyplot.show(close=None, block=None)>"
      ]
     },
     "execution_count": 14,
     "metadata": {},
     "output_type": "execute_result"
    },
    {
     "data": {
      "image/png": "[encoded data removed]",
      "text/plain": [
       "<Figure size 1008x360 with 1 Axes>"
      ]
     },
     "metadata": {
      "needs_background": "light"
     },
     "output_type": "display_data"
    },
    {
     "data": {
      "image/png": "[encoded data removed]",
      "text/plain": [
       "<Figure size 648x360 with 1 Axes>"
      ]
     },
     "metadata": {
      "needs_background": "light"
     },
     "output_type": "display_data"
    }
   ],
   "source": [
    "# для наглядности построим свобную таблицу по объемам запасов\n",
    "product_table = pd.concat([\n",
    "    pd.Series(\n",
    "    [data0['product'].min(), \n",
    "     data1['product'].min(), \n",
    "     data2['product'].min()], name='product_min'),\n",
    "    \n",
    "    pd.Series(\n",
    "    [data0['product'].mean(), \n",
    "     data1['product'].mean(), \n",
    "     data2['product'].mean()], name='product_mean'),\n",
    "    \n",
    "    pd.Series(\n",
    "    [data0['product'].median(), \n",
    "     data1['product'].median(), \n",
    "     data2['product'].median()], name='product_median'),\n",
    "    \n",
    "    pd.Series(\n",
    "    [data0['product'].max(), \n",
    "     data1['product'].max(), \n",
    "     data2['product'].max()], name='product_max'),\n",
    "    \n",
    "    pd.Series(\n",
    "    [data0['product'].sum(), \n",
    "     data1['product'].sum(), \n",
    "     data2['product'].sum()], name='product_sum')],\n",
    "                axis=1\n",
    ")\n",
    "       \n",
    "display(product_table)\n",
    "\n",
    "# построим график для наглядности\n",
    "product_table.drop('product_sum', axis=1).T.plot(figsize=(14,5))\n",
    "plt.legend([1,2,3], title='Regions')\n",
    "plt.grid()\n",
    "plt.show\n",
    "\n",
    "# построим график для product_sum отдельно, так как большие значения\n",
    "plt.figure(figsize=(9,5))\n",
    "plt.ylabel('regions')\n",
    "plt.xlabel('product_sum')\n",
    "plt.barh([1,2,3],product_table['product_sum'])\n",
    "plt.yticks([1,2,3])\n",
    "plt.show\n",
    "\n"
   ]
  },
  {
   "cell_type": "markdown",
   "metadata": {},
   "source": [
    "Вывод: максимальные значения средних, медианных, максимальных и суммарных значений в 3-м регионе. Далее проверим какой регион все же самый прибыльный."
   ]
  },
  {
   "cell_type": "markdown",
   "metadata": {},
   "source": [
    "## 2. Обучение и проверка модели ML  <a class=\"anchor\" id=\"chapter2\"></a>"
   ]
  },
  {
   "cell_type": "code",
   "execution_count": 14,
   "metadata": {},
   "outputs": [
    {
     "name": "stdout",
     "output_type": "stream",
     "text": [
      "Проверка разбиения данных:\n",
      "data0 (100000, 4)\n",
      "features_train0 (75000, 3)\n",
      "features_valid0 (25000, 3)\n",
      "\n",
      "Проверка разбиения данных:\n",
      "data1 (100000, 4)\n",
      "features_train1 (75000, 3)\n",
      "features_valid1 (25000, 3)\n",
      "\n",
      "Проверка разбиения данных:\n",
      "data2 (100000, 4)\n",
      "features_train2 (75000, 3)\n",
      "features_valid2 (25000, 3)\n",
      "\n"
     ]
    }
   ],
   "source": [
    "# для построения моделей\n",
    "# разделим на обучающую и валидационную выборки data0 (данные по первому региону)\n",
    "target0 = data0['product']\n",
    "features0 = data0.drop('product', axis=1)\n",
    "\n",
    "features_train0, features_valid0, target_train0, target_valid0 = train_test_split(\n",
    "    features0, \n",
    "    target0, \n",
    "    test_size=0.25, # Разбейте данные на обучающую и валидационную выборки в соотношении 75:25.\n",
    "    random_state=12345) \n",
    "\n",
    "print('Проверка разбиения данных:')\n",
    "print('data0' , data0.shape)\n",
    "print('features_train0' , features_train0.shape)\n",
    "print('features_valid0' , features_valid0.shape)\n",
    "print()\n",
    "\n",
    "# разделим на обучающую и валидационную выборки data1 (данные по второму региону)\n",
    "target1 = data1['product']\n",
    "features1 = data1.drop('product', axis=1)\n",
    "\n",
    "features_train1, features_valid1, target_train1, target_valid1 = train_test_split(\n",
    "    features1, \n",
    "    target1, \n",
    "    test_size=0.25,\n",
    "    random_state=12345) \n",
    "\n",
    "print('Проверка разбиения данных:')\n",
    "print('data1' , data1.shape)\n",
    "print('features_train1' , features_train1.shape)\n",
    "print('features_valid1' , features_valid1.shape)\n",
    "print()\n",
    "\n",
    "# разделим на обучающую и валидационную выборки data2 (данные по третьему региону)\n",
    "target2 = data2['product']\n",
    "features2 = data2.drop('product', axis=1)\n",
    "\n",
    "features_train2, features_valid2, target_train2, target_valid2 = train_test_split(\n",
    "    features2, \n",
    "    target2, \n",
    "    test_size=0.25,\n",
    "    random_state=12345) \n",
    "\n",
    "print('Проверка разбиения данных:')\n",
    "print('data2' , data2.shape)\n",
    "print('features_train2' , features_train2.shape)\n",
    "print('features_valid2' , features_valid2.shape)\n",
    "print()\n"
   ]
  },
  {
   "cell_type": "code",
   "execution_count": 20,
   "metadata": {},
   "outputs": [],
   "source": [
    "# отмасштабируем признаки, так как будем применять линейную регрессию\n",
    "scaler0 = StandardScaler()\n",
    "scaler0.fit(features_train0)\n",
    "features_train_scaled0 = scaler0.transform(features_train0)\n",
    "features_valid_scaled0 = scaler0.transform(features_valid0)\n",
    "\n",
    "scaler1 = StandardScaler()\n",
    "scaler1.fit(features_train1)\n",
    "features_train_scaled1 = scaler1.transform(features_train1)\n",
    "features_valid_scaled1 = scaler1.transform(features_valid1)\n",
    "\n",
    "scaler2 = StandardScaler()\n",
    "scaler2.fit(features_train2)\n",
    "features_train_scaled2 = scaler2.transform(features_train2)\n",
    "features_valid_scaled2 = scaler2.transform(features_valid2)\n"
   ]
  },
  {
   "cell_type": "code",
   "execution_count": 21,
   "metadata": {},
   "outputs": [
    {
     "name": "stdout",
     "output_type": "stream",
     "text": [
      "RMSE 0 модели =  706.1064682199622\n",
      "Средний запас сырья =  92.59256778438035\n",
      "RMSE 1 модели 1061.419600768847\n",
      "Средний запас сырья =  71.28359507581449\n",
      "RMSE 2 модели 801.1887906618098\n",
      "Средний запас сырья =  94.96504596800489\n"
     ]
    }
   ],
   "source": [
    "model0 = LinearRegression()\n",
    "model0.fit(features_train0, target_train0)\n",
    "predictions0 = model0.predict(features_valid0)\n",
    "result0 = mean_squared_error(target_valid0, predictions0)**1/2\n",
    "print('RMSE 0 модели = ', result0)\n",
    "print('Средний запас сырья = ', predictions0.mean())\n",
    "\n",
    "model1 = LinearRegression()\n",
    "model1.fit(features_train0, target_train1)\n",
    "predictions1 = model1.predict(features_valid1)\n",
    "result1 = mean_squared_error(target_valid1, predictions1)**1/2\n",
    "print('RMSE 1 модели', result1)\n",
    "print('Средний запас сырья = ', predictions1.mean())\n",
    "\n",
    "model2 = LinearRegression()\n",
    "model2.fit(features_train2, target_train2)\n",
    "predictions2 = model2.predict(features_valid2)\n",
    "result2 = mean_squared_error(target_valid2, predictions2)**1/2\n",
    "print('RMSE 2 модели', result2)\n",
    "print('Средний запас сырья = ', predictions2.mean())\n",
    "\n"
   ]
  },
  {
   "cell_type": "markdown",
   "metadata": {},
   "source": [
    "Вывод: Точность предсказания моделей(RMSE) сопоставима, хорошие показатели для 1 и 3 регионов(706 и 801) и немного хуже для 2 региона(1061). Средний запас больше всего для 3 региона и меньше всего для 2."
   ]
  },
  {
   "cell_type": "markdown",
   "metadata": {},
   "source": [
    "## 3. Подготовка к расчёту прибыли <a class=\"anchor\" id=\"chapter3\"></a>"
   ]
  },
  {
   "cell_type": "markdown",
   "metadata": {},
   "source": [
    "### Рассчитаем достаточный объём сырья для безубыточной разработки новой скважины\n"
   ]
  },
  {
   "cell_type": "markdown",
   "metadata": {},
   "source": [
    "Бюджет на разработку скважин в регионе — 10 млрд рублей.\n",
    "При нынешних ценах один баррель сырья приносит 450 рублей дохода. \n",
    "Доход с каждой единицы продукта составляет 450 тыс. рублей, поскольку объём указан в тысячах баррелей."
   ]
  },
  {
   "cell_type": "code",
   "execution_count": 23,
   "metadata": {},
   "outputs": [
    {
     "name": "stdout",
     "output_type": "stream",
     "text": [
      "Точка безубыточности =  0.111  тыс. баррелей\n"
     ]
    }
   ],
   "source": [
    "budget = 10 * (10**6) # Бюджет на разработку скважин в регионе, рублей\n",
    "product_profit = 450000 # Доход с каждой единицы продукта\n",
    "breakeven_point = budget / product_profit / 200  # делим также на 200, так как для точки считаем\n",
    "print('Точка безубыточности = ', round(breakeven_point,3), ' тыс. баррелей')"
   ]
  },
  {
   "cell_type": "markdown",
   "metadata": {},
   "source": [
    "Вывод:средний запас всех трех регионов(92, 71, 94) намного превосходит точку безубыточности(0,111)"
   ]
  },
  {
   "cell_type": "markdown",
   "metadata": {},
   "source": [
    "## 4. Расчёт прибыли и рисков техникой Bootstrap  <a class=\"anchor\" id=\"chapter4\"></a>"
   ]
  },
  {
   "cell_type": "markdown",
   "metadata": {},
   "source": [
    "### Напишем функцию для расчёта прибыли по выбранным скважинам и предсказаниям модели"
   ]
  },
  {
   "cell_type": "code",
   "execution_count": 33,
   "metadata": {},
   "outputs": [],
   "source": [
    "#функция суммирует запасы 200 скважин с наилучшими показателями и переводит в прибыль \n",
    "# из расчета, что при нынешних ценах один баррель сырья приносит 450 рублей дохода\n",
    "# прибыль  будем считать в миллиардах\n",
    "def profit(wells):\n",
    "    return pd.Series(wells).sort_values(ascending=False)[:200].sum() * 450000 / (10**9)\n",
    "\n",
    "# функция расчета риска убытков\n",
    "# риск считаем как долю убыточных скважин от общего количества скважин. \n",
    "# Долю убыточных скважин считаем как операционная прибыль, посчитанная фуекцией profit, минус инвестиции 10\n",
    "def loss_risk(profit_values):\n",
    "    values = pd.Series(profit_values) - 10\n",
    "    return values[values<0].count() / values.count()\n",
    "\n"
   ]
  },
  {
   "cell_type": "markdown",
   "metadata": {},
   "source": [
    "### Посчитаем риски и прибыль для каждого региона"
   ]
  },
  {
   "cell_type": "code",
   "execution_count": 35,
   "metadata": {},
   "outputs": [
    {
     "name": "stdout",
     "output_type": "stream",
     "text": [
      "для  1 региона: \n",
      "доверительный интервал между  10.1  и  10.6 , среднее значение прибыли:  10.4 млрд руб, риск убытков: 0.001\n",
      "для  2 региона: \n",
      "доверительный интервал между  6.6  и  10.6 , среднее значение прибыли:  8.5 млрд руб, риск убытков: 0.5005\n",
      "для  3 региона: \n",
      "доверительный интервал между  6.6  и  10.5 , среднее значение прибыли:  9.1 млрд руб, риск убытков: 0.334\n"
     ]
    }
   ],
   "source": [
    "state=np.random.RandomState(12345)\n",
    "values = [] # создадим список для прибылей\n",
    "region = 1 # Будем перебирать номер региона с 1 по 3\n",
    "for features_valid in [features_valid0, features_valid1, features_valid2]:\n",
    "    if region == 1: # для каждого региона своя модель, созданная ранее\n",
    "        model = model0\n",
    "    if region == 2:\n",
    "        model = model1\n",
    "    if region == 3:\n",
    "        model = model2    \n",
    "        \n",
    "    for i in range(1000): # Применим технику Bootstrap с 1000 выборок\n",
    "        # создадим подвыборку, при разведке региона исследуют 500 точек\n",
    "        subsample = features_valid.sample(n=500, replace=True, random_state=state) \n",
    "        predictions = model.predict(subsample) #предсказываем для созданной подвыборки прибыль при помощи модели\n",
    "        values.append(profit(predictions))\n",
    "    lower = pd.Series(values).quantile(q=0.025) # нижний предел доверительного интервала\n",
    "    upper = pd.Series(values).quantile(q=0.975) # верхний предел доверительного интервала\n",
    "    mean = pd.Series(values).mean() # среднее значение прибыли\n",
    "    loss_risk_value = loss_risk(values)\n",
    "    print('для ', region, 'региона: ') \n",
    "    print('доверительный интервал между ', round(lower,1), ' и ', round(upper,1), \n",
    "          ', среднее значение прибыли: ', round(mean,1), 'млрд руб,', 'риск убытков:', loss_risk_value)\n",
    "    region += 1\n",
    "    "
   ]
  },
  {
   "cell_type": "markdown",
   "metadata": {},
   "source": [
    "**Вывод:** <br> \n",
    "Максимальную прибыль показывает 1-й регион, с 95% вероятности прибыль будет в пределах от 10,1 до 10,6 млрд рублей со средним значение 10,4 млрд рублей. Риска получить убыток практически нет, так как инвестиции 10 млрд рублей ниже потенциальной прибыли практически на всех точках."
   ]
  }
 ],
 "metadata": {
  "ExecuteTimeLog": [
   {
    "duration": 395,
    "start_time": "2022-09-29T04:32:52.819Z"
   },
   {
    "duration": 1890,
    "start_time": "2022-09-29T04:32:55.488Z"
   },
   {
    "duration": 20,
    "start_time": "2022-09-29T04:32:59.419Z"
   },
   {
    "duration": 18,
    "start_time": "2022-09-29T04:34:58.719Z"
   },
   {
    "duration": 55,
    "start_time": "2022-09-29T04:36:18.260Z"
   },
   {
    "duration": 1261,
    "start_time": "2022-09-29T04:56:15.675Z"
   },
   {
    "duration": 5,
    "start_time": "2022-09-29T04:56:30.414Z"
   },
   {
    "duration": 67,
    "start_time": "2022-09-29T04:57:05.345Z"
   },
   {
    "duration": 11,
    "start_time": "2022-09-29T04:57:21.464Z"
   },
   {
    "duration": 14,
    "start_time": "2022-09-29T04:57:40.325Z"
   },
   {
    "duration": 12,
    "start_time": "2022-09-29T04:58:27.945Z"
   },
   {
    "duration": 3,
    "start_time": "2022-09-29T04:58:49.125Z"
   },
   {
    "duration": 86,
    "start_time": "2022-09-29T04:59:18.025Z"
   },
   {
    "duration": 9,
    "start_time": "2022-09-29T04:59:26.865Z"
   },
   {
    "duration": 16,
    "start_time": "2022-09-29T05:00:06.464Z"
   },
   {
    "duration": 15,
    "start_time": "2022-09-29T05:00:18.676Z"
   },
   {
    "duration": 11,
    "start_time": "2022-09-29T05:01:01.945Z"
   },
   {
    "duration": 11,
    "start_time": "2022-09-29T05:01:24.356Z"
   },
   {
    "duration": 10,
    "start_time": "2022-09-29T05:02:11.544Z"
   },
   {
    "duration": 40,
    "start_time": "2022-09-29T05:02:22.725Z"
   },
   {
    "duration": 30,
    "start_time": "2022-09-29T05:14:21.251Z"
   },
   {
    "duration": 21,
    "start_time": "2022-09-29T05:15:14.430Z"
   },
   {
    "duration": 13,
    "start_time": "2022-09-29T05:17:25.362Z"
   },
   {
    "duration": 16,
    "start_time": "2022-09-29T05:28:11.936Z"
   },
   {
    "duration": 24,
    "start_time": "2022-09-29T05:29:01.186Z"
   },
   {
    "duration": 20,
    "start_time": "2022-09-29T05:32:09.904Z"
   },
   {
    "duration": 33,
    "start_time": "2022-09-29T05:33:33.475Z"
   },
   {
    "duration": 8,
    "start_time": "2022-09-29T05:37:42.936Z"
   },
   {
    "duration": 12,
    "start_time": "2022-09-29T05:39:18.456Z"
   },
   {
    "duration": 1204,
    "start_time": "2022-09-29T05:39:28.705Z"
   },
   {
    "duration": 61,
    "start_time": "2022-09-29T05:39:39.604Z"
   },
   {
    "duration": 41,
    "start_time": "2022-09-29T05:40:24.186Z"
   },
   {
    "duration": 26,
    "start_time": "2022-09-29T05:41:07.447Z"
   },
   {
    "duration": 81,
    "start_time": "2022-09-29T05:42:55.843Z"
   },
   {
    "duration": 66,
    "start_time": "2022-09-29T05:43:23.484Z"
   },
   {
    "duration": 3,
    "start_time": "2022-09-29T05:46:10.348Z"
   },
   {
    "duration": 34,
    "start_time": "2022-09-29T06:43:35.694Z"
   },
   {
    "duration": 21,
    "start_time": "2022-09-29T06:45:00.405Z"
   },
   {
    "duration": 12,
    "start_time": "2022-09-29T06:47:56.854Z"
   },
   {
    "duration": 47,
    "start_time": "2022-09-29T06:48:14.741Z"
   },
   {
    "duration": 87,
    "start_time": "2022-09-29T06:48:22.205Z"
   },
   {
    "duration": 16,
    "start_time": "2022-09-29T06:48:30.574Z"
   },
   {
    "duration": 201,
    "start_time": "2022-09-29T06:51:27.593Z"
   },
   {
    "duration": 259,
    "start_time": "2022-09-29T06:55:23.230Z"
   },
   {
    "duration": 50,
    "start_time": "2022-09-29T10:15:12.176Z"
   },
   {
    "duration": 1738,
    "start_time": "2022-09-29T10:15:24.777Z"
   },
   {
    "duration": 1911,
    "start_time": "2022-09-29T10:15:27.108Z"
   },
   {
    "duration": 18,
    "start_time": "2022-09-29T10:15:35.097Z"
   },
   {
    "duration": 51,
    "start_time": "2022-09-29T10:15:44.417Z"
   },
   {
    "duration": 253,
    "start_time": "2022-09-29T10:15:53.937Z"
   },
   {
    "duration": 93,
    "start_time": "2022-09-29T10:25:01.799Z"
   },
   {
    "duration": 4,
    "start_time": "2022-09-29T10:25:21.899Z"
   },
   {
    "duration": 3,
    "start_time": "2022-09-29T10:26:20.717Z"
   },
   {
    "duration": 4,
    "start_time": "2022-09-29T10:44:18.494Z"
   },
   {
    "duration": 10,
    "start_time": "2022-09-29T10:45:52.871Z"
   },
   {
    "duration": 6,
    "start_time": "2022-09-29T10:46:04.064Z"
   },
   {
    "duration": 13,
    "start_time": "2022-09-29T10:46:26.721Z"
   },
   {
    "duration": 3,
    "start_time": "2022-09-29T10:46:59.320Z"
   },
   {
    "duration": 14,
    "start_time": "2022-09-29T10:47:03.171Z"
   },
   {
    "duration": 3,
    "start_time": "2022-09-29T10:48:26.572Z"
   },
   {
    "duration": 11,
    "start_time": "2022-09-29T10:48:30.210Z"
   },
   {
    "duration": 10,
    "start_time": "2022-09-29T10:53:13.032Z"
   },
   {
    "duration": 3,
    "start_time": "2022-09-29T10:53:22.252Z"
   },
   {
    "duration": 8,
    "start_time": "2022-09-29T11:47:35.025Z"
   },
   {
    "duration": 7,
    "start_time": "2022-09-29T11:47:37.837Z"
   },
   {
    "duration": 10,
    "start_time": "2022-09-29T11:53:36.504Z"
   },
   {
    "duration": 6,
    "start_time": "2022-09-29T11:53:59.999Z"
   },
   {
    "duration": 13,
    "start_time": "2022-09-29T11:54:09.656Z"
   },
   {
    "duration": 77,
    "start_time": "2022-09-29T11:59:43.603Z"
   },
   {
    "duration": 14,
    "start_time": "2022-09-29T11:59:55.233Z"
   },
   {
    "duration": 1851,
    "start_time": "2022-09-29T12:00:26.207Z"
   },
   {
    "duration": 1860,
    "start_time": "2022-09-29T12:00:56.664Z"
   },
   {
    "duration": 5462,
    "start_time": "2022-09-29T12:01:14.731Z"
   },
   {
    "duration": 5438,
    "start_time": "2022-09-29T12:01:48.976Z"
   },
   {
    "duration": 5347,
    "start_time": "2022-09-29T12:02:25.757Z"
   },
   {
    "duration": 5350,
    "start_time": "2022-09-29T12:06:56.845Z"
   },
   {
    "duration": 3,
    "start_time": "2022-09-29T12:33:13.757Z"
   },
   {
    "duration": 7,
    "start_time": "2022-09-29T12:33:16.414Z"
   },
   {
    "duration": 5173,
    "start_time": "2022-09-29T12:33:38.004Z"
   },
   {
    "duration": 3,
    "start_time": "2022-09-29T12:37:00.683Z"
   },
   {
    "duration": 7,
    "start_time": "2022-09-29T12:37:06.614Z"
   },
   {
    "duration": 5057,
    "start_time": "2022-09-29T12:37:12.750Z"
   },
   {
    "duration": 143,
    "start_time": "2022-09-29T12:37:32.924Z"
   },
   {
    "duration": 5298,
    "start_time": "2022-09-29T12:37:47.002Z"
   },
   {
    "duration": 4,
    "start_time": "2022-09-29T13:01:17.622Z"
   },
   {
    "duration": 5162,
    "start_time": "2022-09-29T13:07:06.041Z"
   },
   {
    "duration": 5144,
    "start_time": "2022-09-29T13:07:39.262Z"
   },
   {
    "duration": 1431,
    "start_time": "2022-09-30T19:30:24.683Z"
   },
   {
    "duration": 1832,
    "start_time": "2022-09-30T19:30:29.883Z"
   },
   {
    "duration": 95,
    "start_time": "2022-09-30T19:31:27.782Z"
   },
   {
    "duration": 7,
    "start_time": "2022-09-30T19:31:35.875Z"
   },
   {
    "duration": 4,
    "start_time": "2022-09-30T19:31:43.723Z"
   },
   {
    "duration": 4,
    "start_time": "2022-09-30T19:31:47.763Z"
   },
   {
    "duration": 4,
    "start_time": "2022-09-30T19:32:00.163Z"
   },
   {
    "duration": 4,
    "start_time": "2022-09-30T19:32:07.144Z"
   },
   {
    "duration": 1139,
    "start_time": "2022-09-30T19:32:12.643Z"
   },
   {
    "duration": 7,
    "start_time": "2022-09-30T19:32:21.063Z"
   },
   {
    "duration": 6,
    "start_time": "2022-09-30T19:32:25.355Z"
   },
   {
    "duration": 4,
    "start_time": "2022-09-30T19:32:29.943Z"
   },
   {
    "duration": 4,
    "start_time": "2022-09-30T19:32:34.507Z"
   },
   {
    "duration": 4,
    "start_time": "2022-09-30T19:32:41.123Z"
   },
   {
    "duration": 3,
    "start_time": "2022-09-30T19:32:48.944Z"
   },
   {
    "duration": 1562,
    "start_time": "2022-10-01T05:17:09.751Z"
   },
   {
    "duration": 879,
    "start_time": "2022-10-01T05:17:11.316Z"
   },
   {
    "duration": 55,
    "start_time": "2022-10-01T05:17:12.197Z"
   },
   {
    "duration": 21,
    "start_time": "2022-10-01T05:17:12.254Z"
   },
   {
    "duration": 32,
    "start_time": "2022-10-01T05:17:12.277Z"
   },
   {
    "duration": 146,
    "start_time": "2022-10-01T05:17:18.550Z"
   },
   {
    "duration": 41,
    "start_time": "2022-10-01T05:17:50.423Z"
   },
   {
    "duration": 250,
    "start_time": "2022-10-01T05:18:01.650Z"
   },
   {
    "duration": 450,
    "start_time": "2022-10-01T05:18:12.883Z"
   },
   {
    "duration": 979,
    "start_time": "2022-10-01T05:19:45.311Z"
   },
   {
    "duration": 849,
    "start_time": "2022-10-01T05:21:57.207Z"
   },
   {
    "duration": 840,
    "start_time": "2022-10-01T05:22:18.451Z"
   },
   {
    "duration": 33,
    "start_time": "2022-10-01T05:24:01.111Z"
   },
   {
    "duration": 231,
    "start_time": "2022-10-01T05:33:12.512Z"
   },
   {
    "duration": 207,
    "start_time": "2022-10-01T05:33:39.231Z"
   },
   {
    "duration": 35,
    "start_time": "2022-10-01T05:35:56.820Z"
   },
   {
    "duration": 32,
    "start_time": "2022-10-01T05:36:23.051Z"
   },
   {
    "duration": 57,
    "start_time": "2022-10-01T05:40:32.132Z"
   },
   {
    "duration": 35,
    "start_time": "2022-10-01T05:40:49.571Z"
   },
   {
    "duration": 37,
    "start_time": "2022-10-01T05:41:32.272Z"
   },
   {
    "duration": 200,
    "start_time": "2022-10-01T05:42:04.190Z"
   },
   {
    "duration": 224,
    "start_time": "2022-10-01T05:42:15.782Z"
   },
   {
    "duration": 169,
    "start_time": "2022-10-01T05:43:02.470Z"
   },
   {
    "duration": 185,
    "start_time": "2022-10-01T05:43:21.660Z"
   },
   {
    "duration": 183,
    "start_time": "2022-10-01T05:43:59.830Z"
   },
   {
    "duration": 258,
    "start_time": "2022-10-01T05:45:56.238Z"
   },
   {
    "duration": 257,
    "start_time": "2022-10-01T05:46:17.461Z"
   },
   {
    "duration": 268,
    "start_time": "2022-10-01T05:50:29.336Z"
   },
   {
    "duration": 166,
    "start_time": "2022-10-01T05:50:44.729Z"
   },
   {
    "duration": 290,
    "start_time": "2022-10-01T05:55:27.879Z"
   },
   {
    "duration": 388,
    "start_time": "2022-10-01T05:56:31.456Z"
   },
   {
    "duration": 303,
    "start_time": "2022-10-01T05:56:50.116Z"
   },
   {
    "duration": 193,
    "start_time": "2022-10-01T05:57:08.615Z"
   },
   {
    "duration": 300,
    "start_time": "2022-10-01T05:57:30.015Z"
   },
   {
    "duration": 428,
    "start_time": "2022-10-01T06:05:13.707Z"
   },
   {
    "duration": 184,
    "start_time": "2022-10-01T06:05:49.126Z"
   },
   {
    "duration": 176,
    "start_time": "2022-10-01T06:05:52.395Z"
   },
   {
    "duration": 328,
    "start_time": "2022-10-01T06:05:55.356Z"
   },
   {
    "duration": 192,
    "start_time": "2022-10-01T06:06:55.546Z"
   },
   {
    "duration": 143,
    "start_time": "2022-10-01T06:10:08.807Z"
   },
   {
    "duration": 48,
    "start_time": "2022-10-01T06:11:34.027Z"
   },
   {
    "duration": 185,
    "start_time": "2022-10-01T06:11:40.588Z"
   },
   {
    "duration": 198,
    "start_time": "2022-10-01T06:12:16.600Z"
   },
   {
    "duration": 200,
    "start_time": "2022-10-01T06:12:57.546Z"
   },
   {
    "duration": 171,
    "start_time": "2022-10-01T06:13:16.499Z"
   },
   {
    "duration": 180,
    "start_time": "2022-10-01T06:14:48.327Z"
   },
   {
    "duration": 335,
    "start_time": "2022-10-01T06:15:11.207Z"
   },
   {
    "duration": 198,
    "start_time": "2022-10-01T06:21:19.288Z"
   },
   {
    "duration": 186,
    "start_time": "2022-10-01T06:21:33.327Z"
   },
   {
    "duration": 186,
    "start_time": "2022-10-01T06:21:39.455Z"
   },
   {
    "duration": 178,
    "start_time": "2022-10-01T06:21:58.476Z"
   },
   {
    "duration": 178,
    "start_time": "2022-10-01T06:26:32.067Z"
   },
   {
    "duration": 367,
    "start_time": "2022-10-01T06:28:05.167Z"
   },
   {
    "duration": 327,
    "start_time": "2022-10-01T06:28:25.595Z"
   },
   {
    "duration": 434,
    "start_time": "2022-10-01T06:28:55.028Z"
   },
   {
    "duration": 181,
    "start_time": "2022-10-01T06:28:59.368Z"
   },
   {
    "duration": 190,
    "start_time": "2022-10-01T06:29:04.716Z"
   },
   {
    "duration": 325,
    "start_time": "2022-10-01T06:29:09.296Z"
   },
   {
    "duration": 346,
    "start_time": "2022-10-01T06:30:42.337Z"
   },
   {
    "duration": 331,
    "start_time": "2022-10-01T06:30:52.088Z"
   },
   {
    "duration": 307,
    "start_time": "2022-10-01T06:31:23.036Z"
   },
   {
    "duration": 299,
    "start_time": "2022-10-01T06:32:59.498Z"
   },
   {
    "duration": 426,
    "start_time": "2022-10-01T06:33:56.732Z"
   },
   {
    "duration": 307,
    "start_time": "2022-10-01T06:34:20.275Z"
   },
   {
    "duration": 202,
    "start_time": "2022-10-01T06:36:06.855Z"
   },
   {
    "duration": 293,
    "start_time": "2022-10-01T06:37:48.688Z"
   },
   {
    "duration": 295,
    "start_time": "2022-10-01T06:41:04.559Z"
   },
   {
    "duration": 247,
    "start_time": "2022-10-01T06:41:19.576Z"
   },
   {
    "duration": 284,
    "start_time": "2022-10-01T06:46:37.027Z"
   },
   {
    "duration": 304,
    "start_time": "2022-10-01T06:47:00.156Z"
   },
   {
    "duration": 211,
    "start_time": "2022-10-01T06:48:05.401Z"
   },
   {
    "duration": 281,
    "start_time": "2022-10-01T06:49:39.160Z"
   },
   {
    "duration": 302,
    "start_time": "2022-10-01T06:49:50.355Z"
   },
   {
    "duration": 37,
    "start_time": "2022-10-01T06:50:02.768Z"
   },
   {
    "duration": 282,
    "start_time": "2022-10-01T06:50:23.416Z"
   },
   {
    "duration": 308,
    "start_time": "2022-10-01T06:50:32.536Z"
   },
   {
    "duration": 278,
    "start_time": "2022-10-01T06:50:54.776Z"
   },
   {
    "duration": 400,
    "start_time": "2022-10-01T06:51:04.995Z"
   },
   {
    "duration": 301,
    "start_time": "2022-10-01T06:51:32.596Z"
   },
   {
    "duration": 280,
    "start_time": "2022-10-01T06:51:46.968Z"
   },
   {
    "duration": 13,
    "start_time": "2022-10-01T17:33:55.439Z"
   },
   {
    "duration": 4,
    "start_time": "2022-10-01T17:33:59.590Z"
   },
   {
    "duration": 4,
    "start_time": "2022-10-01T17:34:12.139Z"
   },
   {
    "duration": 1734,
    "start_time": "2022-10-01T17:35:01.005Z"
   },
   {
    "duration": 1630,
    "start_time": "2022-10-01T17:35:02.741Z"
   },
   {
    "duration": 56,
    "start_time": "2022-10-01T17:35:04.373Z"
   },
   {
    "duration": 18,
    "start_time": "2022-10-01T17:35:04.431Z"
   },
   {
    "duration": 44,
    "start_time": "2022-10-01T17:35:04.451Z"
   },
   {
    "duration": 307,
    "start_time": "2022-10-01T17:35:04.496Z"
   },
   {
    "duration": 5,
    "start_time": "2022-10-01T17:35:04.804Z"
   },
   {
    "duration": 48,
    "start_time": "2022-10-01T17:35:04.810Z"
   },
   {
    "duration": 282,
    "start_time": "2022-10-01T17:35:36.108Z"
   },
   {
    "duration": 3,
    "start_time": "2022-10-01T17:38:26.601Z"
   },
   {
    "duration": 35,
    "start_time": "2022-10-01T17:53:54.295Z"
   },
   {
    "duration": 121,
    "start_time": "2022-10-01T17:54:00.447Z"
   },
   {
    "duration": 10,
    "start_time": "2022-10-01T17:56:14.207Z"
   },
   {
    "duration": 10,
    "start_time": "2022-10-01T17:56:23.138Z"
   },
   {
    "duration": 12,
    "start_time": "2022-10-01T17:57:07.947Z"
   },
   {
    "duration": 14,
    "start_time": "2022-10-01T17:59:32.108Z"
   },
   {
    "duration": 28,
    "start_time": "2022-10-01T17:59:52.488Z"
   },
   {
    "duration": 138,
    "start_time": "2022-10-01T18:00:32.955Z"
   },
   {
    "duration": 4,
    "start_time": "2022-10-01T18:03:36.292Z"
   },
   {
    "duration": 4,
    "start_time": "2022-10-01T18:03:54.959Z"
   },
   {
    "duration": 3,
    "start_time": "2022-10-01T18:06:17.767Z"
   },
   {
    "duration": 5062,
    "start_time": "2022-10-01T18:06:24.635Z"
   },
   {
    "duration": 4,
    "start_time": "2022-10-01T18:17:04.546Z"
   },
   {
    "duration": 4,
    "start_time": "2022-10-01T18:19:34.985Z"
   },
   {
    "duration": 5538,
    "start_time": "2022-10-01T18:22:42.505Z"
   },
   {
    "duration": 5331,
    "start_time": "2022-10-01T18:23:45.638Z"
   },
   {
    "duration": 84,
    "start_time": "2022-10-01T18:25:12.366Z"
   },
   {
    "duration": 4,
    "start_time": "2022-10-01T18:25:23.866Z"
   },
   {
    "duration": 5466,
    "start_time": "2022-10-01T18:25:30.387Z"
   },
   {
    "duration": 4,
    "start_time": "2022-10-01T18:27:48.894Z"
   },
   {
    "duration": 5116,
    "start_time": "2022-10-01T18:27:53.715Z"
   },
   {
    "duration": 5176,
    "start_time": "2022-10-01T18:28:39.234Z"
   },
   {
    "duration": 2409,
    "start_time": "2022-10-02T17:33:34.081Z"
   },
   {
    "duration": 752,
    "start_time": "2022-10-02T17:33:36.492Z"
   },
   {
    "duration": 49,
    "start_time": "2022-10-02T17:33:37.245Z"
   },
   {
    "duration": 18,
    "start_time": "2022-10-02T17:33:37.295Z"
   },
   {
    "duration": 25,
    "start_time": "2022-10-02T17:33:37.316Z"
   },
   {
    "duration": 313,
    "start_time": "2022-10-02T17:33:37.343Z"
   },
   {
    "duration": 262,
    "start_time": "2022-10-02T17:40:42.985Z"
   },
   {
    "duration": 301,
    "start_time": "2022-10-02T17:40:58.076Z"
   },
   {
    "duration": 331,
    "start_time": "2022-10-02T17:41:16.384Z"
   },
   {
    "duration": 190,
    "start_time": "2022-10-02T17:41:24.848Z"
   },
   {
    "duration": 281,
    "start_time": "2022-10-02T17:44:46.502Z"
   },
   {
    "duration": 311,
    "start_time": "2022-10-02T17:46:04.016Z"
   },
   {
    "duration": 394,
    "start_time": "2022-10-02T17:46:12.429Z"
   },
   {
    "duration": 2114,
    "start_time": "2022-10-09T05:01:27.814Z"
   },
   {
    "duration": 3486,
    "start_time": "2022-10-09T05:01:30.138Z"
   },
   {
    "duration": 25,
    "start_time": "2022-10-09T05:01:42.629Z"
   },
   {
    "duration": 569,
    "start_time": "2022-10-09T05:02:02.128Z"
   },
   {
    "duration": 497,
    "start_time": "2022-10-09T05:02:20.457Z"
   },
   {
    "duration": 480,
    "start_time": "2022-10-09T05:02:37.824Z"
   },
   {
    "duration": 507,
    "start_time": "2022-10-09T05:03:20.317Z"
   },
   {
    "duration": 560,
    "start_time": "2022-10-09T05:04:39.637Z"
   },
   {
    "duration": 473,
    "start_time": "2022-10-09T05:05:29.545Z"
   },
   {
    "duration": 467,
    "start_time": "2022-10-09T05:07:39.485Z"
   },
   {
    "duration": 485,
    "start_time": "2022-10-09T05:08:06.924Z"
   },
   {
    "duration": 471,
    "start_time": "2022-10-09T05:08:38.658Z"
   },
   {
    "duration": 527,
    "start_time": "2022-10-09T05:09:01.277Z"
   },
   {
    "duration": 533,
    "start_time": "2022-10-09T05:09:21.445Z"
   }
  ],
  "kernelspec": {
   "display_name": "Python 3 (ipykernel)",
   "language": "python",
   "name": "python3"
  },
  "language_info": {
   "codemirror_mode": {
    "name": "ipython",
    "version": 3
   },
   "file_extension": ".py",
   "mimetype": "text/x-python",
   "name": "python",
   "nbconvert_exporter": "python",
   "pygments_lexer": "ipython3",
   "version": "3.9.12"
  },
  "toc": {
   "base_numbering": 1,
   "nav_menu": {},
   "number_sections": true,
   "sideBar": true,
   "skip_h1_title": true,
   "title_cell": "Table of Contents",
   "title_sidebar": "Contents",
   "toc_cell": false,
   "toc_position": {},
   "toc_section_display": true,
   "toc_window_display": false
  }
 },
 "nbformat": 4,
 "nbformat_minor": 2
}
