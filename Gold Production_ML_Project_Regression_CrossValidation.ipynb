{
 "cells": [
  {
   "cell_type": "markdown",
   "metadata": {},
   "source": [
    "# Восстановление золота из руды (ML_project_regression)"
   ]
  },
  {
   "cell_type": "markdown",
   "metadata": {},
   "source": [
    "**Задание:**  <br>\n",
    "Подготовить прототип модели машинного обучения для «...». Компания разрабатывает решения для эффективной работы промышленных предприятий.\n",
    "\n",
    "Модель должна предсказать коэффициент восстановления золота из золотосодержащей руды. Необходимо использовать данные с параметрами добычи и очистки. \n",
    "\n",
    "Модель поможет оптимизировать производство, чтобы не запускать предприятие с убыточными характеристиками.\n",
    "\n",
    "**Технологический процесс получения золота из руды** <br>\n",
    "Когда добытая руда проходит первичную обработку, получается дроблёная смесь. Её отправляют на флотацию (обогащение) и двухэтапную очистку.\n",
    "\n",
    "**Наименование признаков** <br>\n",
    "[этап].[тип_параметра].[название_параметра] <br>\n",
    "Пример: rougher.input.feed_ag <br>\n",
    "\n",
    "*Возможные значения для блока [этап]:*\n",
    "\n",
    "    rougher — флотация\n",
    "    primary_cleaner — первичная очистка\n",
    "    secondary_cleaner — вторичная очистка\n",
    "    final — финальные характеристики\n",
    "    \n",
    "*Возможные значения для блока [тип_параметра]:*\n",
    "\n",
    "    input — параметры сырья\n",
    "    output — параметры продукта\n",
    "    state — параметры, характеризующие текущее состояние этапа\n",
    "    calculation — расчётные характеристики    \n",
    "\n",
    "**Метрика качества** <br>\n",
    "Для данного проекта используем метрику качества — sMAPE"
   ]
  },
  {
   "cell_type": "markdown",
   "metadata": {},
   "source": [
    "<h1>Содержание<span class=\"tocSkip\"></span></h1>\n",
    "<div class=\"toc\"><ul class=\"toc-item\"><li><span><a href=\"#Подготовка-данных\" data-toc-modified-id=\"Подготовка-данных-1\"><span class=\"toc-item-num\">1&nbsp;&nbsp;</span>Подготовка данных</a></span><ul class=\"toc-item\"><li><span><a href=\"#Откройте-файлы-и-изучите-их.\" data-toc-modified-id=\"Откройте-файлы-и-изучите-их.-1.1\"><span class=\"toc-item-num\">1.1&nbsp;&nbsp;</span>Откройте файлы и изучите их.</a></span></li><li><span><a href=\"#Проверим,-что-эффективность-обогащения-рассчитана-правильно\" data-toc-modified-id=\"Проверим,-что-эффективность-обогащения-рассчитана-правильно-1.2\"><span class=\"toc-item-num\">1.2&nbsp;&nbsp;</span>Проверим, что эффективность обогащения рассчитана правильно</a></span></li><li><span><a href=\"#Проанализируйте-признаки,-недоступные-в-тестовой-выборке\" data-toc-modified-id=\"Проанализируйте-признаки,-недоступные-в-тестовой-выборке-1.3\"><span class=\"toc-item-num\">1.3&nbsp;&nbsp;</span>Проанализируйте признаки, недоступные в тестовой выборке</a></span></li></ul></li><li><span><a href=\"#Анализ-данных\" data-toc-modified-id=\"Анализ-данных-2\"><span class=\"toc-item-num\">2&nbsp;&nbsp;</span>Анализ данных</a></span><ul class=\"toc-item\"><li><span><a href=\"#Посмотрим,-как-меняется-концентрация-металлов-(Au,-Ag,-Pb)-на-различных-этапах-очистки\" data-toc-modified-id=\"Посмотрим,-как-меняется-концентрация-металлов-(Au,-Ag,-Pb)-на-различных-этапах-очистки-2.1\"><span class=\"toc-item-num\">2.1&nbsp;&nbsp;</span>Посмотрим, как меняется концентрация металлов (Au, Ag, Pb) на различных этапах очистки</a></span></li><li><span><a href=\"#Сравните-распределения-размеров-гранул-сырья-на-обучающей-и-тестовой-выборках.\" data-toc-modified-id=\"Сравните-распределения-размеров-гранул-сырья-на-обучающей-и-тестовой-выборках.-2.2\"><span class=\"toc-item-num\">2.2&nbsp;&nbsp;</span>Сравните распределения размеров гранул сырья на обучающей и тестовой выборках.</a></span></li><li><span><a href=\"#Исследуйте-суммарную-концентрацию-всех-веществ-на-разных-стадиях\" data-toc-modified-id=\"Исследуйте-суммарную-концентрацию-всех-веществ-на-разных-стадиях-2.3\"><span class=\"toc-item-num\">2.3&nbsp;&nbsp;</span>Исследуйте суммарную концентрацию всех веществ на разных стадиях</a></span></li></ul></li><li><span><a href=\"#Модель\" data-toc-modified-id=\"Модель-3\"><span class=\"toc-item-num\">3&nbsp;&nbsp;</span>Модель</a></span><ul class=\"toc-item\"><li><span><a href=\"#Создание-функции-для-вычисления--sMAPE\" data-toc-modified-id=\"Создание-функции-для-вычисления--sMAPE-3.1\"><span class=\"toc-item-num\">3.1&nbsp;&nbsp;</span>Создание функции для вычисления  sMAPE</a></span></li><li><span><a href=\"#Удаление-выбросов-целевого-признака\" data-toc-modified-id=\"Удаление-выбросов-целевого-признака-3.2\"><span class=\"toc-item-num\">3.2&nbsp;&nbsp;</span>Удаление выбросов целевого признака</a></span></li><li><span><a href=\"#Выделение-целевого-признака\" data-toc-modified-id=\"Выделение-целевого-признака-3.3\"><span class=\"toc-item-num\">3.3&nbsp;&nbsp;</span>Выделение целевого признака</a></span></li><li><span><a href=\"#Обучение-разных-моделей-и-оценка-их-качества-кросс-валидацией\" data-toc-modified-id=\"Обучение-разных-моделей-и-оценка-их-качества-кросс-валидацией-3.4\"><span class=\"toc-item-num\">3.4&nbsp;&nbsp;</span>Обучение разных моделей и оценка их качества кросс-валидацией</a></span><ul class=\"toc-item\"><li><span><a href=\"#Линейная-регрессия\" data-toc-modified-id=\"Линейная-регрессия-3.4.1\"><span class=\"toc-item-num\">3.4.1&nbsp;&nbsp;</span>Линейная регрессия</a></span></li><li><span><a href=\"#RandomForestRegressor\" data-toc-modified-id=\"RandomForestRegressor-3.4.2\"><span class=\"toc-item-num\">3.4.2&nbsp;&nbsp;</span>RandomForestRegressor</a></span></li></ul></li><li><span><a href=\"#Проверка-лучшей-модели-на-тестовой-выборке\" data-toc-modified-id=\"Проверка-лучшей-модели-на-тестовой-выборке-3.5\"><span class=\"toc-item-num\">3.5&nbsp;&nbsp;</span>Проверка лучшей модели на тестовой выборке</a></span></li><li><span><a href=\"#Проверим-модель-на-адекватность\" data-toc-modified-id=\"Проверим-модель-на-адекватность-3.6\"><span class=\"toc-item-num\">3.6&nbsp;&nbsp;</span>Проверим модель на адекватность</a></span></li></ul></li><li><span><a href=\"#Вывод:\" data-toc-modified-id=\"Вывод:-4\"><span class=\"toc-item-num\">4&nbsp;&nbsp;</span>Вывод:</a></span></li><li><span><a href=\"#Чек-лист-готовности-проекта\" data-toc-modified-id=\"Чек-лист-готовности-проекта-5\"><span class=\"toc-item-num\">5&nbsp;&nbsp;</span>Чек-лист готовности проекта</a></span></li></ul></div>"
   ]
  },
  {
   "cell_type": "markdown",
   "metadata": {},
   "source": [
    "## Подготовка данных"
   ]
  },
  {
   "cell_type": "markdown",
   "metadata": {},
   "source": [
    "### Изучение исходных данных."
   ]
  },
  {
   "cell_type": "code",
   "execution_count": 1,
   "metadata": {},
   "outputs": [],
   "source": [
    "import pandas as pd\n",
    "import matplotlib.pyplot as plt\n",
    "import numpy as np\n",
    "from numpy.random import RandomState\n",
    "from sklearn.model_selection import train_test_split\n",
    "from sklearn.linear_model import LinearRegression\n",
    "from sklearn.tree import DecisionTreeRegressor\n",
    "from sklearn.ensemble import RandomForestRegressor\n",
    "from sklearn.dummy import DummyRegressor\n",
    "\n",
    "from sklearn.metrics import mean_absolute_error\n",
    "from sklearn.metrics import mean_squared_error\n",
    "from sklearn.metrics import make_scorer\n",
    "\n",
    "from sklearn.preprocessing import StandardScaler\n",
    "from sklearn.model_selection import cross_val_score\n",
    "from sklearn.model_selection import GridSearchCV\n"
   ]
  },
  {
   "cell_type": "code",
   "execution_count": 2,
   "metadata": {},
   "outputs": [],
   "source": [
    "# импортируем данные\n",
    "data_train = pd.read_csv('/datasets/gold_recovery_train_new.csv')\n",
    "data_test = pd.read_csv('/datasets/gold_recovery_test_new.csv')\n",
    "data_full = pd.read_csv('/datasets/gold_recovery_full_new.csv')"
   ]
  },
  {
   "cell_type": "code",
   "execution_count": 3,
   "metadata": {},
   "outputs": [],
   "source": [
    "# переведем формат столбцов даты в дату\n",
    "data_train['date'] =  pd.to_datetime(data_train['date'])\n",
    "data_test['date'] =  pd.to_datetime(data_test['date'])\n",
    "data_full['date'] =  pd.to_datetime(data_full['date'])"
   ]
  },
  {
   "cell_type": "code",
   "execution_count": 4,
   "metadata": {},
   "outputs": [
    {
     "data": {
      "text/plain": [
       "secondary_cleaner.output.tail_sol           1605\n",
       "rougher.state.floatbank10_e_air              436\n",
       "rougher.input.floatbank11_xanthate           428\n",
       "primary_cleaner.output.concentrate_sol       286\n",
       "secondary_cleaner.state.floatbank2_a_air     217\n",
       "                                            ... \n",
       "rougher.output.concentrate_pb                  0\n",
       "rougher.output.concentrate_au                  0\n",
       "rougher.output.recovery                        0\n",
       "rougher.output.tail_pb                         0\n",
       "date                                           0\n",
       "Length: 87, dtype: int64"
      ]
     },
     "execution_count": 4,
     "metadata": {},
     "output_type": "execute_result"
    }
   ],
   "source": [
    "#проверим есть ли пропуски\n",
    "data_train.isna().sum().sort_values(ascending=False)"
   ]
  },
  {
   "cell_type": "markdown",
   "metadata": {},
   "source": [
    "Вывод: пропуски есть, их можно заменить ближайшими значениями, так как согласно техзадания: соседние по времени параметры часто похожи."
   ]
  },
  {
   "cell_type": "code",
   "execution_count": 5,
   "metadata": {},
   "outputs": [
    {
     "data": {
      "text/html": [
       "<div>\n",
       "<style scoped>\n",
       "    .dataframe tbody tr th:only-of-type {\n",
       "        vertical-align: middle;\n",
       "    }\n",
       "\n",
       "    .dataframe tbody tr th {\n",
       "        vertical-align: top;\n",
       "    }\n",
       "\n",
       "    .dataframe thead th {\n",
       "        text-align: right;\n",
       "    }\n",
       "</style>\n",
       "<table border=\"1\" class=\"dataframe\">\n",
       "  <thead>\n",
       "    <tr style=\"text-align: right;\">\n",
       "      <th></th>\n",
       "      <th>date</th>\n",
       "      <th>final.output.concentrate_ag</th>\n",
       "      <th>final.output.concentrate_pb</th>\n",
       "      <th>final.output.concentrate_sol</th>\n",
       "      <th>final.output.concentrate_au</th>\n",
       "      <th>final.output.recovery</th>\n",
       "      <th>final.output.tail_ag</th>\n",
       "      <th>final.output.tail_pb</th>\n",
       "      <th>final.output.tail_sol</th>\n",
       "      <th>final.output.tail_au</th>\n",
       "      <th>...</th>\n",
       "      <th>secondary_cleaner.state.floatbank4_a_air</th>\n",
       "      <th>secondary_cleaner.state.floatbank4_a_level</th>\n",
       "      <th>secondary_cleaner.state.floatbank4_b_air</th>\n",
       "      <th>secondary_cleaner.state.floatbank4_b_level</th>\n",
       "      <th>secondary_cleaner.state.floatbank5_a_air</th>\n",
       "      <th>secondary_cleaner.state.floatbank5_a_level</th>\n",
       "      <th>secondary_cleaner.state.floatbank5_b_air</th>\n",
       "      <th>secondary_cleaner.state.floatbank5_b_level</th>\n",
       "      <th>secondary_cleaner.state.floatbank6_a_air</th>\n",
       "      <th>secondary_cleaner.state.floatbank6_a_level</th>\n",
       "    </tr>\n",
       "  </thead>\n",
       "  <tbody>\n",
       "  </tbody>\n",
       "</table>\n",
       "<p>0 rows × 87 columns</p>\n",
       "</div>"
      ],
      "text/plain": [
       "Empty DataFrame\n",
       "Columns: [date, final.output.concentrate_ag, final.output.concentrate_pb, final.output.concentrate_sol, final.output.concentrate_au, final.output.recovery, final.output.tail_ag, final.output.tail_pb, final.output.tail_sol, final.output.tail_au, primary_cleaner.input.sulfate, primary_cleaner.input.depressant, primary_cleaner.input.feed_size, primary_cleaner.input.xanthate, primary_cleaner.output.concentrate_ag, primary_cleaner.output.concentrate_pb, primary_cleaner.output.concentrate_sol, primary_cleaner.output.concentrate_au, primary_cleaner.output.tail_ag, primary_cleaner.output.tail_pb, primary_cleaner.output.tail_sol, primary_cleaner.output.tail_au, primary_cleaner.state.floatbank8_a_air, primary_cleaner.state.floatbank8_a_level, primary_cleaner.state.floatbank8_b_air, primary_cleaner.state.floatbank8_b_level, primary_cleaner.state.floatbank8_c_air, primary_cleaner.state.floatbank8_c_level, primary_cleaner.state.floatbank8_d_air, primary_cleaner.state.floatbank8_d_level, rougher.calculation.sulfate_to_au_concentrate, rougher.calculation.floatbank10_sulfate_to_au_feed, rougher.calculation.floatbank11_sulfate_to_au_feed, rougher.calculation.au_pb_ratio, rougher.input.feed_ag, rougher.input.feed_pb, rougher.input.feed_rate, rougher.input.feed_size, rougher.input.feed_sol, rougher.input.feed_au, rougher.input.floatbank10_sulfate, rougher.input.floatbank10_xanthate, rougher.input.floatbank11_sulfate, rougher.input.floatbank11_xanthate, rougher.output.concentrate_ag, rougher.output.concentrate_pb, rougher.output.concentrate_sol, rougher.output.concentrate_au, rougher.output.recovery, rougher.output.tail_ag, rougher.output.tail_pb, rougher.output.tail_sol, rougher.output.tail_au, rougher.state.floatbank10_a_air, rougher.state.floatbank10_a_level, rougher.state.floatbank10_b_air, rougher.state.floatbank10_b_level, rougher.state.floatbank10_c_air, rougher.state.floatbank10_c_level, rougher.state.floatbank10_d_air, rougher.state.floatbank10_d_level, rougher.state.floatbank10_e_air, rougher.state.floatbank10_e_level, rougher.state.floatbank10_f_air, rougher.state.floatbank10_f_level, secondary_cleaner.output.tail_ag, secondary_cleaner.output.tail_pb, secondary_cleaner.output.tail_sol, secondary_cleaner.output.tail_au, secondary_cleaner.state.floatbank2_a_air, secondary_cleaner.state.floatbank2_a_level, secondary_cleaner.state.floatbank2_b_air, secondary_cleaner.state.floatbank2_b_level, secondary_cleaner.state.floatbank3_a_air, secondary_cleaner.state.floatbank3_a_level, secondary_cleaner.state.floatbank3_b_air, secondary_cleaner.state.floatbank3_b_level, secondary_cleaner.state.floatbank4_a_air, secondary_cleaner.state.floatbank4_a_level, secondary_cleaner.state.floatbank4_b_air, secondary_cleaner.state.floatbank4_b_level, secondary_cleaner.state.floatbank5_a_air, secondary_cleaner.state.floatbank5_a_level, secondary_cleaner.state.floatbank5_b_air, secondary_cleaner.state.floatbank5_b_level, secondary_cleaner.state.floatbank6_a_air, secondary_cleaner.state.floatbank6_a_level]\n",
       "Index: []\n",
       "\n",
       "[0 rows x 87 columns]"
      ]
     },
     "metadata": {},
     "output_type": "display_data"
    },
    {
     "data": {
      "text/html": [
       "<div>\n",
       "<style scoped>\n",
       "    .dataframe tbody tr th:only-of-type {\n",
       "        vertical-align: middle;\n",
       "    }\n",
       "\n",
       "    .dataframe tbody tr th {\n",
       "        vertical-align: top;\n",
       "    }\n",
       "\n",
       "    .dataframe thead th {\n",
       "        text-align: right;\n",
       "    }\n",
       "</style>\n",
       "<table border=\"1\" class=\"dataframe\">\n",
       "  <thead>\n",
       "    <tr style=\"text-align: right;\">\n",
       "      <th></th>\n",
       "      <th>date</th>\n",
       "      <th>primary_cleaner.input.sulfate</th>\n",
       "      <th>primary_cleaner.input.depressant</th>\n",
       "      <th>primary_cleaner.input.feed_size</th>\n",
       "      <th>primary_cleaner.input.xanthate</th>\n",
       "      <th>primary_cleaner.state.floatbank8_a_air</th>\n",
       "      <th>primary_cleaner.state.floatbank8_a_level</th>\n",
       "      <th>primary_cleaner.state.floatbank8_b_air</th>\n",
       "      <th>primary_cleaner.state.floatbank8_b_level</th>\n",
       "      <th>primary_cleaner.state.floatbank8_c_air</th>\n",
       "      <th>...</th>\n",
       "      <th>secondary_cleaner.state.floatbank4_a_air</th>\n",
       "      <th>secondary_cleaner.state.floatbank4_a_level</th>\n",
       "      <th>secondary_cleaner.state.floatbank4_b_air</th>\n",
       "      <th>secondary_cleaner.state.floatbank4_b_level</th>\n",
       "      <th>secondary_cleaner.state.floatbank5_a_air</th>\n",
       "      <th>secondary_cleaner.state.floatbank5_a_level</th>\n",
       "      <th>secondary_cleaner.state.floatbank5_b_air</th>\n",
       "      <th>secondary_cleaner.state.floatbank5_b_level</th>\n",
       "      <th>secondary_cleaner.state.floatbank6_a_air</th>\n",
       "      <th>secondary_cleaner.state.floatbank6_a_level</th>\n",
       "    </tr>\n",
       "  </thead>\n",
       "  <tbody>\n",
       "  </tbody>\n",
       "</table>\n",
       "<p>0 rows × 53 columns</p>\n",
       "</div>"
      ],
      "text/plain": [
       "Empty DataFrame\n",
       "Columns: [date, primary_cleaner.input.sulfate, primary_cleaner.input.depressant, primary_cleaner.input.feed_size, primary_cleaner.input.xanthate, primary_cleaner.state.floatbank8_a_air, primary_cleaner.state.floatbank8_a_level, primary_cleaner.state.floatbank8_b_air, primary_cleaner.state.floatbank8_b_level, primary_cleaner.state.floatbank8_c_air, primary_cleaner.state.floatbank8_c_level, primary_cleaner.state.floatbank8_d_air, primary_cleaner.state.floatbank8_d_level, rougher.input.feed_ag, rougher.input.feed_pb, rougher.input.feed_rate, rougher.input.feed_size, rougher.input.feed_sol, rougher.input.feed_au, rougher.input.floatbank10_sulfate, rougher.input.floatbank10_xanthate, rougher.input.floatbank11_sulfate, rougher.input.floatbank11_xanthate, rougher.state.floatbank10_a_air, rougher.state.floatbank10_a_level, rougher.state.floatbank10_b_air, rougher.state.floatbank10_b_level, rougher.state.floatbank10_c_air, rougher.state.floatbank10_c_level, rougher.state.floatbank10_d_air, rougher.state.floatbank10_d_level, rougher.state.floatbank10_e_air, rougher.state.floatbank10_e_level, rougher.state.floatbank10_f_air, rougher.state.floatbank10_f_level, secondary_cleaner.state.floatbank2_a_air, secondary_cleaner.state.floatbank2_a_level, secondary_cleaner.state.floatbank2_b_air, secondary_cleaner.state.floatbank2_b_level, secondary_cleaner.state.floatbank3_a_air, secondary_cleaner.state.floatbank3_a_level, secondary_cleaner.state.floatbank3_b_air, secondary_cleaner.state.floatbank3_b_level, secondary_cleaner.state.floatbank4_a_air, secondary_cleaner.state.floatbank4_a_level, secondary_cleaner.state.floatbank4_b_air, secondary_cleaner.state.floatbank4_b_level, secondary_cleaner.state.floatbank5_a_air, secondary_cleaner.state.floatbank5_a_level, secondary_cleaner.state.floatbank5_b_air, secondary_cleaner.state.floatbank5_b_level, secondary_cleaner.state.floatbank6_a_air, secondary_cleaner.state.floatbank6_a_level]\n",
       "Index: []\n",
       "\n",
       "[0 rows x 53 columns]"
      ]
     },
     "metadata": {},
     "output_type": "display_data"
    },
    {
     "data": {
      "text/html": [
       "<div>\n",
       "<style scoped>\n",
       "    .dataframe tbody tr th:only-of-type {\n",
       "        vertical-align: middle;\n",
       "    }\n",
       "\n",
       "    .dataframe tbody tr th {\n",
       "        vertical-align: top;\n",
       "    }\n",
       "\n",
       "    .dataframe thead th {\n",
       "        text-align: right;\n",
       "    }\n",
       "</style>\n",
       "<table border=\"1\" class=\"dataframe\">\n",
       "  <thead>\n",
       "    <tr style=\"text-align: right;\">\n",
       "      <th></th>\n",
       "      <th>date</th>\n",
       "      <th>final.output.concentrate_ag</th>\n",
       "      <th>final.output.concentrate_pb</th>\n",
       "      <th>final.output.concentrate_sol</th>\n",
       "      <th>final.output.concentrate_au</th>\n",
       "      <th>final.output.recovery</th>\n",
       "      <th>final.output.tail_ag</th>\n",
       "      <th>final.output.tail_pb</th>\n",
       "      <th>final.output.tail_sol</th>\n",
       "      <th>final.output.tail_au</th>\n",
       "      <th>...</th>\n",
       "      <th>secondary_cleaner.state.floatbank4_a_air</th>\n",
       "      <th>secondary_cleaner.state.floatbank4_a_level</th>\n",
       "      <th>secondary_cleaner.state.floatbank4_b_air</th>\n",
       "      <th>secondary_cleaner.state.floatbank4_b_level</th>\n",
       "      <th>secondary_cleaner.state.floatbank5_a_air</th>\n",
       "      <th>secondary_cleaner.state.floatbank5_a_level</th>\n",
       "      <th>secondary_cleaner.state.floatbank5_b_air</th>\n",
       "      <th>secondary_cleaner.state.floatbank5_b_level</th>\n",
       "      <th>secondary_cleaner.state.floatbank6_a_air</th>\n",
       "      <th>secondary_cleaner.state.floatbank6_a_level</th>\n",
       "    </tr>\n",
       "  </thead>\n",
       "  <tbody>\n",
       "  </tbody>\n",
       "</table>\n",
       "<p>0 rows × 87 columns</p>\n",
       "</div>"
      ],
      "text/plain": [
       "Empty DataFrame\n",
       "Columns: [date, final.output.concentrate_ag, final.output.concentrate_pb, final.output.concentrate_sol, final.output.concentrate_au, final.output.recovery, final.output.tail_ag, final.output.tail_pb, final.output.tail_sol, final.output.tail_au, primary_cleaner.input.sulfate, primary_cleaner.input.depressant, primary_cleaner.input.feed_size, primary_cleaner.input.xanthate, primary_cleaner.output.concentrate_ag, primary_cleaner.output.concentrate_pb, primary_cleaner.output.concentrate_sol, primary_cleaner.output.concentrate_au, primary_cleaner.output.tail_ag, primary_cleaner.output.tail_pb, primary_cleaner.output.tail_sol, primary_cleaner.output.tail_au, primary_cleaner.state.floatbank8_a_air, primary_cleaner.state.floatbank8_a_level, primary_cleaner.state.floatbank8_b_air, primary_cleaner.state.floatbank8_b_level, primary_cleaner.state.floatbank8_c_air, primary_cleaner.state.floatbank8_c_level, primary_cleaner.state.floatbank8_d_air, primary_cleaner.state.floatbank8_d_level, rougher.calculation.sulfate_to_au_concentrate, rougher.calculation.floatbank10_sulfate_to_au_feed, rougher.calculation.floatbank11_sulfate_to_au_feed, rougher.calculation.au_pb_ratio, rougher.input.feed_ag, rougher.input.feed_pb, rougher.input.feed_rate, rougher.input.feed_size, rougher.input.feed_sol, rougher.input.feed_au, rougher.input.floatbank10_sulfate, rougher.input.floatbank10_xanthate, rougher.input.floatbank11_sulfate, rougher.input.floatbank11_xanthate, rougher.output.concentrate_ag, rougher.output.concentrate_pb, rougher.output.concentrate_sol, rougher.output.concentrate_au, rougher.output.recovery, rougher.output.tail_ag, rougher.output.tail_pb, rougher.output.tail_sol, rougher.output.tail_au, rougher.state.floatbank10_a_air, rougher.state.floatbank10_a_level, rougher.state.floatbank10_b_air, rougher.state.floatbank10_b_level, rougher.state.floatbank10_c_air, rougher.state.floatbank10_c_level, rougher.state.floatbank10_d_air, rougher.state.floatbank10_d_level, rougher.state.floatbank10_e_air, rougher.state.floatbank10_e_level, rougher.state.floatbank10_f_air, rougher.state.floatbank10_f_level, secondary_cleaner.output.tail_ag, secondary_cleaner.output.tail_pb, secondary_cleaner.output.tail_sol, secondary_cleaner.output.tail_au, secondary_cleaner.state.floatbank2_a_air, secondary_cleaner.state.floatbank2_a_level, secondary_cleaner.state.floatbank2_b_air, secondary_cleaner.state.floatbank2_b_level, secondary_cleaner.state.floatbank3_a_air, secondary_cleaner.state.floatbank3_a_level, secondary_cleaner.state.floatbank3_b_air, secondary_cleaner.state.floatbank3_b_level, secondary_cleaner.state.floatbank4_a_air, secondary_cleaner.state.floatbank4_a_level, secondary_cleaner.state.floatbank4_b_air, secondary_cleaner.state.floatbank4_b_level, secondary_cleaner.state.floatbank5_a_air, secondary_cleaner.state.floatbank5_a_level, secondary_cleaner.state.floatbank5_b_air, secondary_cleaner.state.floatbank5_b_level, secondary_cleaner.state.floatbank6_a_air, secondary_cleaner.state.floatbank6_a_level]\n",
       "Index: []\n",
       "\n",
       "[0 rows x 87 columns]"
      ]
     },
     "metadata": {},
     "output_type": "display_data"
    }
   ],
   "source": [
    "#метод ffill заполняет вместо пропуска предыдущее по времени значение \n",
    "data_train = data_train.fillna(method='ffill') \n",
    "data_test = data_test.fillna(method='ffill') \n",
    "data_full = data_full.fillna(method='ffill') \n",
    "# проверим, что пропусков не осталось. \n",
    "display(data_train[\n",
    "    data_train.isnull().any(1)]) # если есть пропуски, они выведутся\n",
    "display(data_test[\n",
    "    data_test.isnull().any(1)])\n",
    "display(data_full[\n",
    "    data_full.isnull().any(1)])"
   ]
  },
  {
   "cell_type": "markdown",
   "metadata": {},
   "source": [
    "### Проверим, что эффективность обогащения рассчитана правильно"
   ]
  },
  {
   "cell_type": "code",
   "execution_count": 6,
   "metadata": {},
   "outputs": [
    {
     "name": "stdout",
     "output_type": "stream",
     "text": [
      "MAE между расчетным и значением признака =  9.73512347450521e-15\n"
     ]
    }
   ],
   "source": [
    "# Эффективность обогащения рассчитывается по формуле из техзадания\n",
    "c = data_train['rougher.output.concentrate_au']\n",
    "f = data_train['rougher.input.feed_au']\n",
    "t = data_train['rougher.output.tail_au']\n",
    "\n",
    "data_train['rougher.output.recovery_calculated'] = c * (f - t) /(f * (c-t)) * 100\n",
    "\n",
    "# Найдем MAE между нашими расчётами и значением признака\n",
    "mae = mean_absolute_error(data_train['rougher.output.recovery'], \n",
    "                          data_train['rougher.output.recovery_calculated'])  \n",
    "print('MAE между расчетным и значением признака = ', mae)      \n",
    "\n",
    "# удалим соданный нами столбец, он больше нам не понадобится\n",
    "data_train = data_train.drop('rougher.output.recovery_calculated', axis = 1)"
   ]
  },
  {
   "cell_type": "markdown",
   "metadata": {},
   "source": [
    "Вывод: MAE имеет низкое значение, приближенное к нулю, что говорит о том, что эффективность обогащения рассчитана правильно"
   ]
  },
  {
   "cell_type": "markdown",
   "metadata": {},
   "source": [
    "### Проанализируем признаки, недоступные в тестовой выборке"
   ]
  },
  {
   "cell_type": "code",
   "execution_count": 7,
   "metadata": {},
   "outputs": [
    {
     "data": {
      "text/plain": [
       "Index(['final.output.concentrate_ag', 'final.output.concentrate_pb',\n",
       "       'final.output.concentrate_sol', 'final.output.concentrate_au',\n",
       "       'final.output.recovery', 'final.output.tail_ag', 'final.output.tail_pb',\n",
       "       'final.output.tail_sol', 'final.output.tail_au',\n",
       "       'primary_cleaner.output.concentrate_ag',\n",
       "       'primary_cleaner.output.concentrate_pb',\n",
       "       'primary_cleaner.output.concentrate_sol',\n",
       "       'primary_cleaner.output.concentrate_au',\n",
       "       'primary_cleaner.output.tail_ag', 'primary_cleaner.output.tail_pb',\n",
       "       'primary_cleaner.output.tail_sol', 'primary_cleaner.output.tail_au',\n",
       "       'rougher.calculation.sulfate_to_au_concentrate',\n",
       "       'rougher.calculation.floatbank10_sulfate_to_au_feed',\n",
       "       'rougher.calculation.floatbank11_sulfate_to_au_feed',\n",
       "       'rougher.calculation.au_pb_ratio', 'rougher.output.concentrate_ag',\n",
       "       'rougher.output.concentrate_pb', 'rougher.output.concentrate_sol',\n",
       "       'rougher.output.concentrate_au', 'rougher.output.recovery',\n",
       "       'rougher.output.tail_ag', 'rougher.output.tail_pb',\n",
       "       'rougher.output.tail_sol', 'rougher.output.tail_au',\n",
       "       'secondary_cleaner.output.tail_ag', 'secondary_cleaner.output.tail_pb',\n",
       "       'secondary_cleaner.output.tail_sol',\n",
       "       'secondary_cleaner.output.tail_au'],\n",
       "      dtype='object')"
      ]
     },
     "execution_count": 7,
     "metadata": {},
     "output_type": "execute_result"
    }
   ],
   "source": [
    "# надем признаки, недоступные в тестовой выборке, но имеющиеся в обучающей\n",
    "data_test_no_columns = data_train.drop(data_test.columns, axis=1).columns\n",
    "data_test_no_columns"
   ]
  },
  {
   "cell_type": "markdown",
   "metadata": {},
   "source": [
    "Вывод: отсутствуют outputs, параметры продукта на выходе. "
   ]
  },
  {
   "cell_type": "code",
   "execution_count": 8,
   "metadata": {},
   "outputs": [],
   "source": [
    "# удалим в тренировочной выборке столбцы, недоступные в тестовой выборке\n",
    "# целевые признаки удалять не будем\n",
    "#data_test[data_test_no_columns] = data_full[data_full['date'].isin(data_test['date'])][data_test_no_columns]\n",
    "data_train = data_train.drop(\n",
    "    data_test_no_columns.drop(['rougher.output.recovery', # целевые признаки оставим\n",
    "                               'final.output.recovery']),\n",
    "    axis = 1\n",
    ")"
   ]
  },
  {
   "cell_type": "markdown",
   "metadata": {},
   "source": [
    "Вывод: данные подготовлены для дальнейшего анализа."
   ]
  },
  {
   "cell_type": "markdown",
   "metadata": {},
   "source": [
    "## Анализ данных"
   ]
  },
  {
   "cell_type": "markdown",
   "metadata": {},
   "source": [
    "### Посмотрим, как меняется концентрация металлов (Au, Ag, Pb) на различных этапах очистки"
   ]
  },
  {
   "cell_type": "code",
   "execution_count": 9,
   "metadata": {},
   "outputs": [
    {
     "data": {
      "text/plain": [
       "<AxesSubplot:>"
      ]
     },
     "execution_count": 9,
     "metadata": {},
     "output_type": "execute_result"
    },
    {
     "data": {
      "image/png": "[encoded data removed]",
      "text/plain": [
       "<Figure size 1080x432 with 1 Axes>"
      ]
     },
     "metadata": {
      "needs_background": "light"
     },
     "output_type": "display_data"
    },
    {
     "data": {
      "image/png": "[encoded data removed]",
      "text/plain": [
       "<Figure size 1080x432 with 1 Axes>"
      ]
     },
     "metadata": {
      "needs_background": "light"
     },
     "output_type": "display_data"
    },
    {
     "data": {
      "image/png": "[encoded data removed]",
      "text/plain": [
       "<Figure size 1080x432 with 1 Axes>"
      ]
     },
     "metadata": {
      "needs_background": "light"
     },
     "output_type": "display_data"
    }
   ],
   "source": [
    "data_full[['rougher.input.feed_au', # перед флотацией\n",
    "          'rougher.output.concentrate_au', # после флотации\n",
    "           'primary_cleaner.output.concentrate_au', # перед очисткой\n",
    "           'final.output.concentrate_au'] # после очистки\n",
    "         ].agg(['min',\n",
    "              'mean',\n",
    "              'median',\n",
    "              'max']).plot(figsize=(15,6), marker='D', color=['red', 'yellow', 'blue', 'grey'])\n",
    "\n",
    "data_full[['rougher.input.feed_ag',\n",
    "          'rougher.output.concentrate_ag',\n",
    "           'primary_cleaner.output.concentrate_ag',\n",
    "           'final.output.concentrate_ag']\n",
    "         ].agg(['min',\n",
    "              'mean',\n",
    "              'median',\n",
    "              'max']).plot(figsize=(15,6), marker='D', color=['red', 'yellow', 'blue', 'grey'])\n",
    "\n",
    "data_full[['rougher.input.feed_pb',\n",
    "          'rougher.output.concentrate_pb',\n",
    "           'primary_cleaner.output.concentrate_pb',\n",
    "           'final.output.concentrate_pb']\n",
    "         ].agg(['min',\n",
    "              'mean',\n",
    "              'median',\n",
    "              'max']).plot(figsize=(15,6), marker='D', color=['red', 'yellow', 'blue', 'grey'])\n",
    "\n"
   ]
  },
  {
   "cell_type": "code",
   "execution_count": 10,
   "metadata": {},
   "outputs": [
    {
     "data": {
      "text/plain": [
       "<AxesSubplot:>"
      ]
     },
     "execution_count": 10,
     "metadata": {},
     "output_type": "execute_result"
    },
    {
     "data": {
      "image/png": "[encoded data removed]",
      "text/plain": [
       "<Figure size 1080x432 with 1 Axes>"
      ]
     },
     "metadata": {
      "needs_background": "light"
     },
     "output_type": "display_data"
    }
   ],
   "source": [
    "data_full[['rougher.input.feed_au',\n",
    "          'rougher.output.concentrate_au',\n",
    "           'primary_cleaner.output.concentrate_au',\n",
    "           'final.output.concentrate_au']\n",
    "         ].boxplot(figsize=(15,6))"
   ]
  },
  {
   "cell_type": "markdown",
   "metadata": {},
   "source": [
    "Вывод: концентрация золота(Au) растет на всех этапах очистки.  <br>\n",
    "Концентрация серебра(Ag) растет при флотации и падает при очистке.  <br>\n",
    "Конуентрация Pb растет при флотации и остается неизменной при очистке"
   ]
  },
  {
   "cell_type": "markdown",
   "metadata": {},
   "source": [
    "### Сравним распределения размеров гранул сырья на обучающей и тестовой выборках."
   ]
  },
  {
   "cell_type": "code",
   "execution_count": 11,
   "metadata": {},
   "outputs": [
    {
     "data": {
      "text/plain": [
       "<AxesSubplot:>"
      ]
     },
     "execution_count": 11,
     "metadata": {},
     "output_type": "execute_result"
    },
    {
     "data": {
      "image/png": "[encoded data removed]",
      "text/plain": [
       "<Figure size 1008x360 with 1 Axes>"
      ]
     },
     "metadata": {
      "needs_background": "light"
     },
     "output_type": "display_data"
    }
   ],
   "source": [
    "pd.concat([data_train['rougher.input.feed_size']] \n",
    "          + [data_test['rougher.input.feed_size']], axis=1, keys=['train_feed_size', 'test_feed_size']\n",
    "         ).boxplot(figsize=(14,5), vert=False)\n"
   ]
  },
  {
   "cell_type": "markdown",
   "metadata": {},
   "source": [
    "Вывод: распределение гранул сырья для тренировочной и тестовой выборки примерно одинаковое. Несмотря на то, что больше выбросов и их размах на тренировочной выборке, значения в перделах диаргаммы размаха идентичны."
   ]
  },
  {
   "cell_type": "markdown",
   "metadata": {},
   "source": [
    "### Исследуем суммарную концентрацию всех веществ на разных стадиях"
   ]
  },
  {
   "cell_type": "code",
   "execution_count": 12,
   "metadata": {},
   "outputs": [
    {
     "data": {
      "text/plain": [
       "(0.0, 700.0)"
      ]
     },
     "execution_count": 12,
     "metadata": {},
     "output_type": "execute_result"
    },
    {
     "data": {
      "image/png": "[encoded data removed]",
      "text/plain": [
       "<Figure size 1152x360 with 1 Axes>"
      ]
     },
     "metadata": {
      "needs_background": "light"
     },
     "output_type": "display_data"
    }
   ],
   "source": [
    "# посчитаем суммарную концентрацию всех веществ и построим их распредление на разных стадиях\n",
    "pd.concat(\n",
    "    [data_full.filter(regex='rougher.input.feed_').sum(axis=1)]\n",
    "    + [data_full.filter(regex='rougher.output.concentrate_').sum(axis=1)]\n",
    "    + [data_full.filter(regex='final.output.concentrate_').sum(axis=1)],\n",
    "    axis=1,\n",
    "    keys=['rougher_input_sum', 'rougher.output_sum', 'final.output_sum']\n",
    ").boxplot(figsize=(16,5), vert=False)\n",
    "plt.xlim([0,700])\n",
    "    "
   ]
  },
  {
   "cell_type": "markdown",
   "metadata": {},
   "source": [
    "Вывод: суммарная концентрация всех веществ уменьшается после флотации. После очистки в среднем эта концентрация остается такой же, но уменьшается разброс значений, то есть там где \"недоочистили\" при флотации, доочищаем при финальной очистке. <br>\n",
    "Кроме того, обратим внимание на нулевые и около нулевые значения концентраций. Это явная аномалия. Скорее всего это связано со сбоем измерительного оборудования. Такие наблюдения нужно удалить из данных.\n",
    "Модель планируется использовать для подбора параметров оборудования, поэтому примеры со сбоями не интересные для моделирования."
   ]
  },
  {
   "cell_type": "code",
   "execution_count": 13,
   "metadata": {},
   "outputs": [
    {
     "name": "stdout",
     "output_type": "stream",
     "text": [
      "До удаления выбросов размер data_train  (14149, 55)\n",
      "После удаления выбросов размер data_train  (14041, 55)\n"
     ]
    }
   ],
   "source": [
    "# удалим нулевые концентрации согласно вывода выше.\n",
    "print('До удаления выбросов размер data_train ', data_train.shape)\n",
    "\n",
    "# Сначала для rougher_output_concentrate_\n",
    "# создадим таблицу, где только необходимые нам столбцы rougher_output_concentrate_  и столбец с датой\n",
    "data_rougher_output_concentrate = data_full.filter(regex='rougher.output.concentrate_|date')\n",
    "# создадим таблицу где эти значения больше нуля и меньше 1, будем считать их выбросами\n",
    "data_rougher_output_concentrate0 = data_rougher_output_concentrate.loc[(\n",
    "    (data_rougher_output_concentrate.drop('date', axis=1) > 0) \n",
    "    & (data_rougher_output_concentrate.drop('date', axis=1) < 1)\n",
    "    ).any(axis=1)]\n",
    "\n",
    "# удалим выбросы из тренировочной выборки\n",
    "date_train = data_train[~data_train['date'].isin(data_rougher_output_concentrate0['date'])]\n",
    "\n",
    "\n",
    "\n",
    "# Теперь те же операции для final_output_concentrate_\n",
    "# создадим таблицу, где только необходимые нам столбцы final_output_concentrate_  и столбец с датой\n",
    "data_final_output_concentrate = data_full.filter(regex='final.output.concentrate_|date')\n",
    "# создадим таблицу где эти значения больше нуля и меньше 1, будем считать их выбросами\n",
    "data_final_output_concentrate0 = data_final_output_concentrate.loc[(\n",
    "    (data_final_output_concentrate.drop('date', axis=1) > 0) \n",
    "    & (data_final_output_concentrate.drop('date', axis=1) < 1)\n",
    "    ).any(axis=1)]\n",
    "# удалим выбросы из тренировочной выборки\n",
    "data_train = data_train[~data_train['date'].isin(data_final_output_concentrate0['date'])]\n",
    "\n",
    "print('После удаления выбросов размер data_train ', data_train.shape)"
   ]
  },
  {
   "cell_type": "markdown",
   "metadata": {},
   "source": [
    "## Модель ML"
   ]
  },
  {
   "cell_type": "markdown",
   "metadata": {},
   "source": [
    "### Создание функции для вычисления  sMAPE"
   ]
  },
  {
   "cell_type": "code",
   "execution_count": 15,
   "metadata": {},
   "outputs": [],
   "source": [
    "def smape(target, predictions):\n",
    "    smape = 1 / len(predictions) * sum(\n",
    "                                      abs(target - predictions) / (\n",
    "                                          (abs(target) + abs(predictions)\n",
    "                                          ) / 2)) * 100\n",
    "    return smape\n"
   ]
  },
  {
   "cell_type": "markdown",
   "metadata": {},
   "source": [
    "### Удаление выбросов целевого признака"
   ]
  },
  {
   "cell_type": "code",
   "execution_count": 16,
   "metadata": {
    "scrolled": true
   },
   "outputs": [
    {
     "data": {
      "image/png": "[encoded data removed]",
      "text/plain": [
       "<Figure size 1080x432 with 1 Axes>"
      ]
     },
     "metadata": {
      "needs_background": "light"
     },
     "output_type": "display_data"
    }
   ],
   "source": [
    "# Проверим есть ли выбросы целевого признака и удалим если есть до машинного обучения\n",
    "plt.figure(figsize=(15, 6))\n",
    "plt.title('График «ящик с усами» для целевых признаков до удаления выбросов')\n",
    "data_train.boxplot(['rougher.output.recovery', 'final.output.recovery'], vert=False, figsize=(12,6))\n",
    "plt.show()"
   ]
  },
  {
   "cell_type": "markdown",
   "metadata": {},
   "source": [
    "Вывод:boxplot показывает большой разброс значений целевого признака. Удалим значения со значаниями равные нулю, так как с большой верятностью это выбросы."
   ]
  },
  {
   "cell_type": "code",
   "execution_count": 17,
   "metadata": {},
   "outputs": [
    {
     "name": "stdout",
     "output_type": "stream",
     "text": [
      "Размер date_train до удаления выбросов: (14041, 55)\n",
      "Размер date_train после удаления выбросов: (13690, 55)\n"
     ]
    },
    {
     "data": {
      "image/png": "[encoded data removed]",
      "text/plain": [
       "<Figure size 1080x432 with 1 Axes>"
      ]
     },
     "metadata": {
      "needs_background": "light"
     },
     "output_type": "display_data"
    }
   ],
   "source": [
    "# удалим выбросы(значения равные нулю) в тренировочной выборке\n",
    "# 1 - для процесса rougher\n",
    "print('Размер date_train до удаления выбросов:', data_train.shape)\n",
    "data_train = data_train[\n",
    "    (data_train['rougher.output.recovery'] != 0)]\n",
    "\n",
    "# 2 - для процесса final\n",
    "data_train = data_train[\n",
    "    (data_train['final.output.recovery'] != 0)]\n",
    "\n",
    "print('Размер date_train после удаления выбросов:', data_train.shape)\n",
    "\n",
    "# Проверим правильно ли произошло удаление выбросов\n",
    "plt.figure(figsize=(15, 6))\n",
    "plt.title('График «ящик с усами» для целевых признаков после удаления выбросов')\n",
    "data_train.boxplot(['rougher.output.recovery', 'final.output.recovery'], vert=False, figsize=(12,6))\n",
    "plt.show()"
   ]
  },
  {
   "cell_type": "markdown",
   "metadata": {},
   "source": [
    "Вывод: удалили выбросы и подготовили выборки для машинного обучения на моделях регрессии"
   ]
  },
  {
   "cell_type": "markdown",
   "metadata": {},
   "source": [
    "### Выделение целевого признака"
   ]
  },
  {
   "cell_type": "code",
   "execution_count": 18,
   "metadata": {},
   "outputs": [],
   "source": [
    "# создадим target и features выборки сначала для тренировочной выборки\n",
    "# Так как нужно спрогнозировать сразу две величины, выборки выделим соответственно\n",
    "# для процессов Rougher и Final\n",
    "\n",
    "target_train_rougher = data_train['rougher.output.recovery']\n",
    "features_train_rougher = data_train[data_train.columns[\n",
    "    data_train.columns.str.contains('rougher') #возьмем столбцы для всех кроме rougher\n",
    "    ]].drop('rougher.output.recovery', axis=1) # удалим целевой признак\n",
    "            \n",
    "target_train_final = data_train['final.output.recovery']\n",
    "features_train_final = data_train[data_train.columns[\n",
    "    ~data_train.columns.str.contains('rougher') #возьмем столбцы для всех кроме rougher\n",
    "    ]].drop('final.output.recovery', axis=1 # удалим целевой признак\n",
    "            ).drop('date', axis=1) # удилим дату, так как она не несет информации для прогноза \n",
    "\n",
    "# выполним те же операции для тестовой выборки\n",
    "# целевой признак тестовой выборки возьмем из исходных данных\n",
    "\n",
    "target_test_rougher = data_full[\n",
    "    data_full['date'].isin(data_test['date']\n",
    "                          )]['rougher.output.recovery'\n",
    "                            ]\n",
    "features_test_rougher = data_test[data_test.columns[\n",
    "    data_test.columns.str.contains('rougher')] #возьмем столбцы для rougher\n",
    "    ]\n",
    "\n",
    "target_test_final = data_full[\n",
    "    data_full['date'].isin(data_test['date']\n",
    "                          )]['final.output.recovery'\n",
    "                            ]\n",
    "features_test_final = data_test[data_test.columns[\n",
    "    ~data_test.columns.str.contains('rougher')] #возьмем столбцы для final\n",
    "    ].drop('date', axis=1) \n"
   ]
  },
  {
   "cell_type": "markdown",
   "metadata": {},
   "source": [
    "### Обучение разных моделей и оценка их качества кросс-валидацией"
   ]
  },
  {
   "cell_type": "markdown",
   "metadata": {},
   "source": [
    "#### Линейная регрессия"
   ]
  },
  {
   "cell_type": "code",
   "execution_count": 19,
   "metadata": {},
   "outputs": [],
   "source": [
    "# отмасштабируем признаки, так как будем применять линейную регрессию\n",
    "scaler_rougher = StandardScaler()\n",
    "scaler_rougher.fit(features_train_rougher)\n",
    "features_train_rougher_scaled = scaler_rougher.transform(features_train_rougher)\n",
    "#features_valid_rougher_scaled = scaler_rougher.transform(features_valid_rougher)\n",
    "features_test_rougher_scaled = scaler_rougher.transform(features_test_rougher)\n",
    "\n",
    "scaler_final = StandardScaler()\n",
    "scaler_final.fit(features_train_final)\n",
    "features_train_final_scaled = scaler_final.transform(features_train_final)\n",
    "#features_valid_final_scaled = scaler_final.transform(features_valid_final)\n",
    "features_test_final_scaled = scaler_final.transform(features_test_final)"
   ]
  },
  {
   "cell_type": "code",
   "execution_count": 155,
   "metadata": {},
   "outputs": [
    {
     "name": "stdout",
     "output_type": "stream",
     "text": [
      "sMAPE_rougher: 6.7297694669898025\n",
      "sMAPE_final 9.907894886556804\n",
      "Итоговой sMAPE модели LinearRegression = 9.113363531665053\n"
     ]
    }
   ],
   "source": [
    "# построим модель LinearRegression для rougher и оценим с помощью sMAPE\n",
    "model_rougher = LinearRegression()\n",
    "scorer = make_scorer(smape)\n",
    "scores = cross_val_score(model_rougher,\n",
    "                         features_train_rougher_scaled, \n",
    "                         target_train_rougher, \n",
    "                         cv=5,\n",
    "                         scoring = scorer\n",
    "                        )\n",
    "smape_rougher = scores.mean()\n",
    "print('sMAPE_rougher:', smape_rougher)\n",
    "\n",
    "# построим модель LinearRegression для final и оценим с помощью sMAPE\n",
    "model_final = LinearRegression()\n",
    "#scorer = make_scorer(smape)\n",
    "scores = cross_val_score(model_final,\n",
    "                         features_train_final_scaled, \n",
    "                         target_train_final, \n",
    "                         cv=5,\n",
    "                         scoring = scorer\n",
    "                        )\n",
    "\n",
    "smape_final = scores.mean()\n",
    "print('sMAPE_final', smape_final)\n",
    "smape_total = 0.25 * smape_rougher + 0.75 * smape_final\n",
    "print('Итоговой sMAPE модели LinearRegression =', smape_total)"
   ]
  },
  {
   "cell_type": "markdown",
   "metadata": {},
   "source": [
    "#### RandomForestRegressor"
   ]
  },
  {
   "cell_type": "code",
   "execution_count": 163,
   "metadata": {
    "scrolled": true
   },
   "outputs": [
    {
     "name": "stdout",
     "output_type": "stream",
     "text": [
      "Наименьший sMAPE модели RandomForestRegressor для Rougher =  6.625679369272348 при max_depth =  28\n",
      "CPU times: user 2min 55s, sys: 332 ms, total: 2min 55s\n",
      "Wall time: 2min 55s\n"
     ]
    }
   ],
   "source": [
    "%%time\n",
    "# найдем оптимальную модель для Rougher сначала перебрав глубину\n",
    "scorer = make_scorer(smape)\n",
    "smape_rougher = 100\n",
    "best_depth = 0\n",
    "model = None\n",
    "for depth in range(25, 35):\n",
    "    model = RandomForestRegressor(n_estimators=20, max_depth=depth, random_state=12345)\n",
    "    scores = cross_val_score(model,\n",
    "                         features_train_rougher_scaled, \n",
    "                         target_train_rougher, \n",
    "                         cv=5,\n",
    "                         scoring = scorer\n",
    "                        )\n",
    "    score = scores.mean()\n",
    "    #model.fit(features_train_rougher_scaled, target_train_rougher)\n",
    "    #result = model.score(features_valid_rougher_scaled, target_valid_rougher)\n",
    "    if abs(score) < smape_rougher:\n",
    "        smape_rougher = score\n",
    "        best_depth = depth\n",
    "        model_rougher_RF = model\n",
    "print('Наименьший sMAPE модели RandomForestRegressor для Rougher = ', smape_rougher, 'при max_depth = ', best_depth)\n"
   ]
  },
  {
   "cell_type": "code",
   "execution_count": 171,
   "metadata": {},
   "outputs": [
    {
     "name": "stdout",
     "output_type": "stream",
     "text": [
      "Наименьший sMAPE модели RandomForestRegressor для Rougher =  6.548984265129285 при max_depth =  28\n",
      "CPU times: user 7min 19s, sys: 2.15 s, total: 7min 21s\n",
      "Wall time: 7min 22s\n"
     ]
    }
   ],
   "source": [
    "%%time\n",
    "# улучшим модель для Rougher увеличив количество деревьев до 500\n",
    "scorer = make_scorer(smape)\n",
    "smape_rougher = 100\n",
    "best_depth = 0\n",
    "model = None\n",
    "for depth in range(28, 29):\n",
    "    model = RandomForestRegressor(n_estimators=500, max_depth=depth, random_state=12345)\n",
    "    scores = cross_val_score(model,\n",
    "                         features_train_rougher_scaled, \n",
    "                         target_train_rougher, \n",
    "                         cv=5,\n",
    "                         scoring = scorer\n",
    "                        )\n",
    "    score = scores.mean()\n",
    "    #model.fit(features_train_rougher_scaled, target_train_rougher)\n",
    "    #result = model.score(features_valid_rougher_scaled, target_valid_rougher)\n",
    "    if abs(score) < smape_rougher:\n",
    "        smape_rougher = score\n",
    "        best_depth = depth\n",
    "        model_rougher_RF = model\n",
    "print('Наименьший sMAPE модели RandomForestRegressor для Rougher = ', smape_rougher, 'при max_depth = ', best_depth)\n"
   ]
  },
  {
   "cell_type": "code",
   "execution_count": 165,
   "metadata": {},
   "outputs": [
    {
     "name": "stdout",
     "output_type": "stream",
     "text": [
      "Наименьший sMAPE модели RandomForestRegressor для Final =  12.400959227546581 при max_depth =  16\n",
      "CPU times: user 3min 57s, sys: 348 ms, total: 3min 58s\n",
      "Wall time: 3min 58s\n"
     ]
    }
   ],
   "source": [
    "%%time\n",
    "# найдем оптимальную модель для Final сначала перебрав глубину\n",
    "scorer = make_scorer(smape)\n",
    "smape_final = 100\n",
    "best_depth = 0\n",
    "model = None\n",
    "for depth in range(15, 25):\n",
    "    model = RandomForestRegressor(n_estimators=20, max_depth=depth, random_state=12345)\n",
    "    scores = cross_val_score(model,\n",
    "                         features_train_final_scaled, \n",
    "                         target_train_final, \n",
    "                         cv=5,\n",
    "                         scoring = scorer\n",
    "                        )\n",
    "    score = scores.mean()\n",
    "    if abs(score) < smape_final:\n",
    "        smape_final = score \n",
    "        best_depth = depth\n",
    "        model_final_RF = model\n",
    "print('Наименьший sMAPE модели RandomForestRegressor для Final = ', smape_final, 'при max_depth = ', best_depth)"
   ]
  },
  {
   "cell_type": "code",
   "execution_count": 180,
   "metadata": {},
   "outputs": [
    {
     "name": "stdout",
     "output_type": "stream",
     "text": [
      "Наименьший sMAPE модели RandomForestRegressor для Final =  9.929453577948205 при best_features =  1 при best_samples_leaf =  5 при best_samples_split =  2\n",
      "CPU times: user 1min 15s, sys: 172 ms, total: 1min 15s\n",
      "Wall time: 1min 15s\n"
     ]
    }
   ],
   "source": [
    "%%time\n",
    "# улучшим модель для Final путем подбора samples_leaf, samples_split и features\n",
    "scorer = make_scorer(smape)\n",
    "smape_final = 100\n",
    "best_depth = 0\n",
    "model = None\n",
    "for samples_leaf in range(2, 7):\n",
    "    for samples_split in range(2, 5):\n",
    "        for features in range(1, 4):\n",
    "            model = RandomForestRegressor(n_estimators=20, max_depth=16, random_state=12345,\n",
    "                                 max_features = features,\n",
    "                                 min_samples_leaf = samples_leaf,\n",
    "                                 min_samples_split = samples_split\n",
    "                                 )\n",
    "            scores = cross_val_score(model,\n",
    "                         features_train_final_scaled, \n",
    "                         target_train_final, \n",
    "                         cv=5,\n",
    "                         scoring = scorer\n",
    "                        )\n",
    "            score = scores.mean()\n",
    "            if abs(score) < smape_final:\n",
    "                smape_final = score\n",
    "                best_features = features\n",
    "                best_samples_leaf = samples_leaf\n",
    "                best_samples_split = samples_split\n",
    "                model_final_RF = model\n",
    "print('Наименьший sMAPE модели RandomForestRegressor для Final = ', smape_final, \n",
    "      'при best_features = ', best_features,\n",
    "      'при best_samples_leaf = ', best_samples_leaf,\n",
    "      'при best_samples_split = ', best_samples_split)"
   ]
  },
  {
   "cell_type": "code",
   "execution_count": 181,
   "metadata": {},
   "outputs": [
    {
     "name": "stdout",
     "output_type": "stream",
     "text": [
      "Итоговый sMAPE модели RandomForestRegressor = 9.084336249743476\n"
     ]
    }
   ],
   "source": [
    "# Расчет итогового sMAPE\n",
    "smape_total = 0.25 * smape_rougher + 0.75 * smape_final\n",
    "print('Итоговый sMAPE модели RandomForestRegressor =', smape_total)"
   ]
  },
  {
   "cell_type": "markdown",
   "metadata": {},
   "source": [
    "Вывод: \n",
    "\n",
    "модель RandomForestRegressor показала результаты лучше, чем LinearRegression. Итоговый sMAPE модели RandomForestRegressor равен 9.08 и он ниже, чем для модели LinearRegression со значением этой метрики 9.11."
   ]
  },
  {
   "cell_type": "markdown",
   "metadata": {},
   "source": [
    "### Проверка лучшей модели на тестовой выборке"
   ]
  },
  {
   "cell_type": "code",
   "execution_count": 20,
   "metadata": {},
   "outputs": [
    {
     "name": "stdout",
     "output_type": "stream",
     "text": [
      "Итоговый sMAPE модели RandomForestRegressor на тестовой выборке = 9.738971419657021\n"
     ]
    }
   ],
   "source": [
    "# Расчет sMAPE модели RandomForestRegressor  для Rougher на тестовой выборке\n",
    "model_rougher = RandomForestRegressor(n_estimators=500, \n",
    "                                      max_depth=28, \n",
    "                                      random_state=12345,\n",
    "                                     )\n",
    "model_rougher.fit(features_train_rougher_scaled, target_train_rougher)\n",
    "predictions_rougher = model_rougher.predict(features_test_rougher)\n",
    "smape_rougher = smape(target_test_rougher.reset_index(drop=True), predictions_rougher)\n",
    "\n",
    "# Расчет sMAPE модели RandomForestRegressor для Final на тестовой выборке\n",
    "model_final = RandomForestRegressor(n_estimators=20, \n",
    "                                    max_depth=16, \n",
    "                                    random_state=12345,\n",
    "                                    max_features = 1,\n",
    "                                    min_samples_leaf = 5,\n",
    "                                    min_samples_split = 2)\n",
    "model_final.fit(features_train_final_scaled, target_train_final)\n",
    "predictions_final = model_final.predict(features_test_final)\n",
    "smape_final = smape(target_test_final.reset_index(drop=True), predictions_final)\n",
    "\n",
    "# Расчет итогового sMAPE\n",
    "smape_total = 0.25 * smape_rougher + 0.75 * smape_final\n",
    "print('Итоговый sMAPE модели RandomForestRegressor на тестовой выборке =', smape_total)"
   ]
  },
  {
   "cell_type": "markdown",
   "metadata": {},
   "source": [
    "### Проверим модель на адекватность"
   ]
  },
  {
   "cell_type": "code",
   "execution_count": null,
   "metadata": {},
   "outputs": [],
   "source": [
    "# Расчет sMAPE модели DummyRegressor для Rougher на тестовой выборке\n",
    "model = DummyRegressor()\n",
    "model.fit(features_train_rougher_scaled, target_train_rougher)\n",
    "predictions = model.predict(features_test_rougher)\n",
    "smape_rougher = smape(target_test_rougher.reset_index(drop=True), predictions)\n",
    "\n",
    "# Расчет sMAPE модели DummyRegressor для Final на тестовой выборке\n",
    "model = DummyRegressor()\n",
    "model.fit(features_train_final_scaled, target_train_final)\n",
    "predictions = model_final.predict(features_test_final)\n",
    "smape_final = smape(target_test_final.reset_index(drop=True), predictions)"
   ]
  },
  {
   "cell_type": "code",
   "execution_count": 3,
   "metadata": {},
   "outputs": [
    {
     "name": "stdout",
     "output_type": "stream",
     "text": [
      "Итоговый sMAPE модели DummyRegressor на тестовой выборке = 139.0\n"
     ]
    }
   ],
   "source": [
    "# Расчет итогового sMAPE\n",
    "smape_total = 0.25 * smape_rougher + 0.75 * smape_final\n",
    "print('Итоговый sMAPE модели DummyRegressor на тестовой выборке =', smape_total)"
   ]
  },
  {
   "cell_type": "markdown",
   "metadata": {},
   "source": [
    "Вывод: Для адекватности наша модель должна иметь значение sMAPE менее, чем 139 для DummyRegressor."
   ]
  },
  {
   "cell_type": "markdown",
   "metadata": {},
   "source": [
    "## Вывод: \n"
   ]
  },
  {
   "cell_type": "markdown",
   "metadata": {},
   "source": [
    "При подготовке данных были иучены, проверены и проанализированы данные. <br>\n",
    "<br>\n",
    "Анализ данных показал: <br>\n",
    "1) концентрация золота(Au) растет на всех этапах очистки. Концентрация серебра(Ag) растет при флотации и падает при очистке. Конуентрация Pb растет при флотации и остается неизменной при очистке <br>\n",
    "2) распределение гранул сырья для тренировочной и тестовой выборки примерно одинаковое. Несмотря на то, что больше выбросов и их размах на тренировочной выборке, значения в перделах диаргаммы размаха идентичны <br>\n",
    "3) суммарная концентрация всех веществ уменьшается после флотации и увеличивается после очистки.<br>\n",
    "<br>\n",
    "Были обучены две модели: LinearRegression и RandomForestRegressor. <br>\n",
    "Вторая модель показала лучшие результаты на валидационной выборке <br>\n",
    "Проверка лучшей модели показали хороший результат итогового sMAPE = 9.7, что значительно ниже, чем этот показатель качества модели для константной модели."
   ]
  }
 ],
 "metadata": {
  "ExecuteTimeLog": [
   {
    "duration": 1723,
    "start_time": "2022-10-03T16:48:21.537Z"
   },
   {
    "duration": 2061,
    "start_time": "2022-10-03T16:48:24.983Z"
   },
   {
    "duration": 815,
    "start_time": "2022-10-03T16:49:21.809Z"
   },
   {
    "duration": 48,
    "start_time": "2022-10-03T16:49:41.997Z"
   },
   {
    "duration": 18,
    "start_time": "2022-10-03T16:51:19.928Z"
   },
   {
    "duration": 13,
    "start_time": "2022-10-03T16:52:24.708Z"
   },
   {
    "duration": 125,
    "start_time": "2022-10-03T16:52:37.076Z"
   },
   {
    "duration": 19,
    "start_time": "2022-10-03T16:52:49.048Z"
   },
   {
    "duration": 1406,
    "start_time": "2022-10-04T03:59:49.651Z"
   },
   {
    "duration": 3033,
    "start_time": "2022-10-04T03:59:52.839Z"
   },
   {
    "duration": 20,
    "start_time": "2022-10-04T03:59:55.902Z"
   },
   {
    "duration": 17,
    "start_time": "2022-10-04T04:00:38.911Z"
   },
   {
    "duration": 106,
    "start_time": "2022-10-04T04:02:00.292Z"
   },
   {
    "duration": 7,
    "start_time": "2022-10-04T04:02:09.540Z"
   },
   {
    "duration": 5,
    "start_time": "2022-10-04T04:08:53.178Z"
   },
   {
    "duration": 6,
    "start_time": "2022-10-04T04:09:14.154Z"
   },
   {
    "duration": 5,
    "start_time": "2022-10-04T04:09:22.611Z"
   },
   {
    "duration": 4,
    "start_time": "2022-10-04T04:11:01.040Z"
   },
   {
    "duration": 4,
    "start_time": "2022-10-04T04:11:05.840Z"
   },
   {
    "duration": 3,
    "start_time": "2022-10-04T04:16:35.040Z"
   },
   {
    "duration": 7,
    "start_time": "2022-10-04T04:16:40.932Z"
   },
   {
    "duration": 4,
    "start_time": "2022-10-04T04:16:50.880Z"
   },
   {
    "duration": 10,
    "start_time": "2022-10-04T04:17:13.352Z"
   },
   {
    "duration": 9,
    "start_time": "2022-10-04T04:17:25.480Z"
   },
   {
    "duration": 4,
    "start_time": "2022-10-04T04:22:47.593Z"
   },
   {
    "duration": 8,
    "start_time": "2022-10-04T04:24:55.039Z"
   },
   {
    "duration": 45,
    "start_time": "2022-10-04T04:28:58.282Z"
   },
   {
    "duration": 13,
    "start_time": "2022-10-04T04:29:11.179Z"
   },
   {
    "duration": 58,
    "start_time": "2022-10-04T04:29:56.942Z"
   },
   {
    "duration": 6,
    "start_time": "2022-10-04T04:30:21.642Z"
   },
   {
    "duration": 15,
    "start_time": "2022-10-04T04:30:49.560Z"
   },
   {
    "duration": 7,
    "start_time": "2022-10-04T04:31:17.102Z"
   },
   {
    "duration": 7,
    "start_time": "2022-10-04T04:31:46.262Z"
   },
   {
    "duration": 9,
    "start_time": "2022-10-04T04:32:25.681Z"
   },
   {
    "duration": 12,
    "start_time": "2022-10-04T04:32:54.328Z"
   },
   {
    "duration": 910,
    "start_time": "2022-10-04T04:33:01.682Z"
   },
   {
    "duration": 207,
    "start_time": "2022-10-04T04:33:12.039Z"
   },
   {
    "duration": 880,
    "start_time": "2022-10-04T04:33:18.442Z"
   },
   {
    "duration": 943,
    "start_time": "2022-10-04T04:34:05.071Z"
   },
   {
    "duration": 1183,
    "start_time": "2022-10-04T04:34:24.701Z"
   },
   {
    "duration": 8,
    "start_time": "2022-10-04T04:34:41.541Z"
   },
   {
    "duration": 8,
    "start_time": "2022-10-04T04:34:53.829Z"
   },
   {
    "duration": 741,
    "start_time": "2022-10-04T04:35:06.462Z"
   },
   {
    "duration": 8,
    "start_time": "2022-10-04T04:35:17.122Z"
   },
   {
    "duration": 1482,
    "start_time": "2022-10-04T04:35:24.922Z"
   },
   {
    "duration": 18,
    "start_time": "2022-10-04T04:35:33.602Z"
   },
   {
    "duration": 13,
    "start_time": "2022-10-04T04:36:05.781Z"
   },
   {
    "duration": 13,
    "start_time": "2022-10-04T04:36:24.150Z"
   },
   {
    "duration": 7,
    "start_time": "2022-10-04T04:36:40.502Z"
   },
   {
    "duration": 29,
    "start_time": "2022-10-04T04:37:40.422Z"
   },
   {
    "duration": 8,
    "start_time": "2022-10-04T04:37:47.621Z"
   },
   {
    "duration": 6,
    "start_time": "2022-10-04T04:38:04.422Z"
   },
   {
    "duration": 4,
    "start_time": "2022-10-04T04:38:37.122Z"
   },
   {
    "duration": 1489,
    "start_time": "2022-10-04T06:40:55.846Z"
   },
   {
    "duration": 3052,
    "start_time": "2022-10-04T06:40:57.982Z"
   },
   {
    "duration": 19,
    "start_time": "2022-10-04T06:41:01.734Z"
   },
   {
    "duration": 7,
    "start_time": "2022-10-04T06:41:13.715Z"
   },
   {
    "duration": 98,
    "start_time": "2022-10-04T06:43:35.695Z"
   },
   {
    "duration": 7,
    "start_time": "2022-10-04T06:43:41.575Z"
   },
   {
    "duration": 5,
    "start_time": "2022-10-04T06:45:03.395Z"
   },
   {
    "duration": 6,
    "start_time": "2022-10-04T06:47:45.954Z"
   },
   {
    "duration": 163,
    "start_time": "2022-10-04T06:55:42.118Z"
   },
   {
    "duration": 102,
    "start_time": "2022-10-04T07:33:35.926Z"
   },
   {
    "duration": 100,
    "start_time": "2022-10-04T07:33:45.565Z"
   },
   {
    "duration": 102,
    "start_time": "2022-10-04T07:34:02.854Z"
   },
   {
    "duration": 10,
    "start_time": "2022-10-04T07:34:15.354Z"
   },
   {
    "duration": 125,
    "start_time": "2022-10-04T07:34:41.685Z"
   },
   {
    "duration": 13,
    "start_time": "2022-10-04T07:41:50.086Z"
   },
   {
    "duration": 12,
    "start_time": "2022-10-04T07:42:01.406Z"
   },
   {
    "duration": 19,
    "start_time": "2022-10-04T07:42:21.294Z"
   },
   {
    "duration": 184,
    "start_time": "2022-10-04T07:42:36.994Z"
   },
   {
    "duration": 252,
    "start_time": "2022-10-04T07:43:43.254Z"
   },
   {
    "duration": 202,
    "start_time": "2022-10-04T07:44:25.515Z"
   },
   {
    "duration": 206,
    "start_time": "2022-10-04T07:44:37.305Z"
   },
   {
    "duration": 320,
    "start_time": "2022-10-04T07:48:23.075Z"
   },
   {
    "duration": 525,
    "start_time": "2022-10-04T07:49:11.295Z"
   },
   {
    "duration": 529,
    "start_time": "2022-10-04T07:50:27.006Z"
   },
   {
    "duration": 513,
    "start_time": "2022-10-04T07:53:46.135Z"
   },
   {
    "duration": 453,
    "start_time": "2022-10-04T07:54:08.237Z"
   },
   {
    "duration": 571,
    "start_time": "2022-10-04T07:55:48.734Z"
   },
   {
    "duration": 534,
    "start_time": "2022-10-04T07:56:07.975Z"
   },
   {
    "duration": 1484,
    "start_time": "2022-10-04T10:34:42.483Z"
   },
   {
    "duration": 3929,
    "start_time": "2022-10-04T10:34:43.969Z"
   },
   {
    "duration": 18,
    "start_time": "2022-10-04T10:34:47.900Z"
   },
   {
    "duration": 6,
    "start_time": "2022-10-04T10:34:47.919Z"
   },
   {
    "duration": 26,
    "start_time": "2022-10-04T10:34:47.926Z"
   },
   {
    "duration": 6,
    "start_time": "2022-10-04T10:34:47.953Z"
   },
   {
    "duration": 9,
    "start_time": "2022-10-04T10:34:47.960Z"
   },
   {
    "duration": 31,
    "start_time": "2022-10-04T10:34:47.970Z"
   },
   {
    "duration": 8,
    "start_time": "2022-10-04T10:34:48.003Z"
   },
   {
    "duration": 9,
    "start_time": "2022-10-04T10:34:48.013Z"
   },
   {
    "duration": 7,
    "start_time": "2022-10-04T10:34:48.024Z"
   },
   {
    "duration": 151,
    "start_time": "2022-10-04T10:34:48.032Z"
   },
   {
    "duration": 544,
    "start_time": "2022-10-04T10:34:48.184Z"
   },
   {
    "duration": 6,
    "start_time": "2022-10-04T10:36:20.502Z"
   },
   {
    "duration": 140,
    "start_time": "2022-10-04T10:37:18.883Z"
   },
   {
    "duration": 226,
    "start_time": "2022-10-04T10:38:14.910Z"
   },
   {
    "duration": 0,
    "start_time": "2022-10-04T10:40:26.302Z"
   },
   {
    "duration": 11,
    "start_time": "2022-10-04T10:41:07.203Z"
   },
   {
    "duration": 13,
    "start_time": "2022-10-04T10:41:20.103Z"
   },
   {
    "duration": 11,
    "start_time": "2022-10-04T10:41:45.183Z"
   },
   {
    "duration": 11,
    "start_time": "2022-10-04T10:41:57.655Z"
   },
   {
    "duration": 114,
    "start_time": "2022-10-04T10:42:12.814Z"
   },
   {
    "duration": 142,
    "start_time": "2022-10-04T10:43:37.942Z"
   },
   {
    "duration": 127,
    "start_time": "2022-10-04T10:43:47.523Z"
   },
   {
    "duration": 11,
    "start_time": "2022-10-04T10:44:41.955Z"
   },
   {
    "duration": 144,
    "start_time": "2022-10-04T10:45:37.330Z"
   },
   {
    "duration": 52,
    "start_time": "2022-10-04T10:47:25.302Z"
   },
   {
    "duration": 61,
    "start_time": "2022-10-04T10:47:34.922Z"
   },
   {
    "duration": 127,
    "start_time": "2022-10-04T10:47:45.062Z"
   },
   {
    "duration": 123,
    "start_time": "2022-10-04T10:50:55.783Z"
   },
   {
    "duration": 130,
    "start_time": "2022-10-04T10:51:23.942Z"
   },
   {
    "duration": 127,
    "start_time": "2022-10-04T10:53:02.862Z"
   },
   {
    "duration": 135,
    "start_time": "2022-10-04T10:53:32.575Z"
   },
   {
    "duration": 119,
    "start_time": "2022-10-04T10:53:44.642Z"
   },
   {
    "duration": 130,
    "start_time": "2022-10-04T10:53:50.450Z"
   },
   {
    "duration": 124,
    "start_time": "2022-10-04T10:54:00.842Z"
   },
   {
    "duration": 966,
    "start_time": "2022-10-04T11:04:01.635Z"
   },
   {
    "duration": 12,
    "start_time": "2022-10-04T11:04:46.550Z"
   },
   {
    "duration": 8,
    "start_time": "2022-10-04T11:07:47.831Z"
   },
   {
    "duration": 7,
    "start_time": "2022-10-04T11:14:26.282Z"
   },
   {
    "duration": 12,
    "start_time": "2022-10-04T11:16:17.894Z"
   },
   {
    "duration": 19,
    "start_time": "2022-10-04T11:18:30.943Z"
   },
   {
    "duration": 134,
    "start_time": "2022-10-04T11:19:16.935Z"
   },
   {
    "duration": 17,
    "start_time": "2022-10-04T11:19:26.481Z"
   },
   {
    "duration": 138,
    "start_time": "2022-10-04T11:19:58.655Z"
   },
   {
    "duration": 152,
    "start_time": "2022-10-04T11:20:13.682Z"
   },
   {
    "duration": 164,
    "start_time": "2022-10-04T11:20:30.095Z"
   },
   {
    "duration": 166,
    "start_time": "2022-10-04T11:22:45.942Z"
   },
   {
    "duration": 1566,
    "start_time": "2022-10-04T16:28:02.441Z"
   },
   {
    "duration": 3147,
    "start_time": "2022-10-04T16:28:04.009Z"
   },
   {
    "duration": 21,
    "start_time": "2022-10-04T16:28:07.157Z"
   },
   {
    "duration": 15,
    "start_time": "2022-10-04T16:28:07.180Z"
   },
   {
    "duration": 28,
    "start_time": "2022-10-04T16:28:07.197Z"
   },
   {
    "duration": 6,
    "start_time": "2022-10-04T16:28:07.228Z"
   },
   {
    "duration": 7,
    "start_time": "2022-10-04T16:28:07.236Z"
   },
   {
    "duration": 18,
    "start_time": "2022-10-04T16:28:07.244Z"
   },
   {
    "duration": 16,
    "start_time": "2022-10-04T16:28:07.264Z"
   },
   {
    "duration": 8,
    "start_time": "2022-10-04T16:28:07.282Z"
   },
   {
    "duration": 7,
    "start_time": "2022-10-04T16:28:07.292Z"
   },
   {
    "duration": 163,
    "start_time": "2022-10-04T16:28:07.300Z"
   },
   {
    "duration": 579,
    "start_time": "2022-10-04T16:28:07.465Z"
   },
   {
    "duration": 226,
    "start_time": "2022-10-04T16:28:08.045Z"
   },
   {
    "duration": 141,
    "start_time": "2022-10-04T16:28:08.273Z"
   },
   {
    "duration": 4,
    "start_time": "2022-10-04T16:34:43.965Z"
   },
   {
    "duration": 5,
    "start_time": "2022-10-04T17:04:58.031Z"
   },
   {
    "duration": 4,
    "start_time": "2022-10-04T17:05:22.972Z"
   },
   {
    "duration": 4,
    "start_time": "2022-10-04T17:05:38.732Z"
   },
   {
    "duration": 4,
    "start_time": "2022-10-04T17:05:57.672Z"
   },
   {
    "duration": 112,
    "start_time": "2022-10-04T17:06:45.192Z"
   },
   {
    "duration": 6,
    "start_time": "2022-10-04T17:07:42.932Z"
   },
   {
    "duration": 10,
    "start_time": "2022-10-04T17:07:45.380Z"
   },
   {
    "duration": 7,
    "start_time": "2022-10-04T17:07:53.385Z"
   },
   {
    "duration": 6,
    "start_time": "2022-10-04T17:08:14.404Z"
   },
   {
    "duration": 7,
    "start_time": "2022-10-04T17:08:22.984Z"
   },
   {
    "duration": 5,
    "start_time": "2022-10-04T17:08:56.573Z"
   },
   {
    "duration": 8,
    "start_time": "2022-10-04T17:09:12.093Z"
   },
   {
    "duration": 6,
    "start_time": "2022-10-04T17:09:29.727Z"
   },
   {
    "duration": 8,
    "start_time": "2022-10-04T17:09:42.433Z"
   },
   {
    "duration": 7,
    "start_time": "2022-10-04T17:09:57.353Z"
   },
   {
    "duration": 6,
    "start_time": "2022-10-04T17:10:07.853Z"
   },
   {
    "duration": 6,
    "start_time": "2022-10-04T17:10:18.633Z"
   },
   {
    "duration": 6,
    "start_time": "2022-10-04T17:10:36.752Z"
   },
   {
    "duration": 6,
    "start_time": "2022-10-04T17:21:30.571Z"
   },
   {
    "duration": 7,
    "start_time": "2022-10-04T17:21:52.404Z"
   },
   {
    "duration": 6,
    "start_time": "2022-10-04T17:24:10.252Z"
   },
   {
    "duration": 6,
    "start_time": "2022-10-04T17:24:31.665Z"
   },
   {
    "duration": 6,
    "start_time": "2022-10-04T17:24:37.504Z"
   },
   {
    "duration": 6,
    "start_time": "2022-10-04T17:24:55.044Z"
   },
   {
    "duration": 6,
    "start_time": "2022-10-04T17:25:39.952Z"
   },
   {
    "duration": 10,
    "start_time": "2022-10-04T17:33:05.012Z"
   },
   {
    "duration": 80,
    "start_time": "2022-10-04T17:33:17.312Z"
   },
   {
    "duration": 6,
    "start_time": "2022-10-04T17:33:49.312Z"
   },
   {
    "duration": 5,
    "start_time": "2022-10-04T17:34:16.892Z"
   },
   {
    "duration": 43,
    "start_time": "2022-10-04T17:53:15.593Z"
   },
   {
    "duration": 3,
    "start_time": "2022-10-04T17:53:33.745Z"
   },
   {
    "duration": 1485,
    "start_time": "2022-10-05T05:08:05.598Z"
   },
   {
    "duration": 3158,
    "start_time": "2022-10-05T05:08:08.359Z"
   },
   {
    "duration": 4,
    "start_time": "2022-10-05T05:08:47.014Z"
   },
   {
    "duration": 11,
    "start_time": "2022-10-05T05:22:17.299Z"
   },
   {
    "duration": 5,
    "start_time": "2022-10-05T05:36:18.110Z"
   },
   {
    "duration": 4,
    "start_time": "2022-10-05T05:36:26.658Z"
   },
   {
    "duration": 5,
    "start_time": "2022-10-05T05:36:31.018Z"
   },
   {
    "duration": 140,
    "start_time": "2022-10-05T05:36:37.196Z"
   },
   {
    "duration": 100,
    "start_time": "2022-10-05T05:36:54.187Z"
   },
   {
    "duration": 107,
    "start_time": "2022-10-05T05:38:11.489Z"
   },
   {
    "duration": 8,
    "start_time": "2022-10-05T05:44:21.430Z"
   },
   {
    "duration": 8,
    "start_time": "2022-10-05T05:44:25.630Z"
   },
   {
    "duration": 16,
    "start_time": "2022-10-05T05:44:35.210Z"
   },
   {
    "duration": 8,
    "start_time": "2022-10-05T05:44:41.350Z"
   },
   {
    "duration": 11,
    "start_time": "2022-10-05T05:45:39.009Z"
   },
   {
    "duration": 11,
    "start_time": "2022-10-05T05:46:25.240Z"
   },
   {
    "duration": 12,
    "start_time": "2022-10-05T05:48:41.698Z"
   },
   {
    "duration": 11,
    "start_time": "2022-10-05T05:49:06.829Z"
   },
   {
    "duration": 10,
    "start_time": "2022-10-05T05:49:36.629Z"
   },
   {
    "duration": 16,
    "start_time": "2022-10-05T05:49:48.448Z"
   },
   {
    "duration": 24,
    "start_time": "2022-10-05T05:51:14.519Z"
   },
   {
    "duration": 14,
    "start_time": "2022-10-05T05:51:22.679Z"
   },
   {
    "duration": 11,
    "start_time": "2022-10-05T05:51:41.719Z"
   },
   {
    "duration": 10,
    "start_time": "2022-10-05T05:51:59.078Z"
   },
   {
    "duration": 61,
    "start_time": "2022-10-05T05:52:36.970Z"
   },
   {
    "duration": 16,
    "start_time": "2022-10-05T05:53:40.559Z"
   },
   {
    "duration": 15,
    "start_time": "2022-10-05T05:53:46.110Z"
   },
   {
    "duration": 6,
    "start_time": "2022-10-05T05:54:50.070Z"
   },
   {
    "duration": 4,
    "start_time": "2022-10-05T05:57:14.478Z"
   },
   {
    "duration": 13,
    "start_time": "2022-10-05T05:58:10.278Z"
   },
   {
    "duration": 17,
    "start_time": "2022-10-05T06:00:12.598Z"
   },
   {
    "duration": 1524,
    "start_time": "2022-10-05T11:35:02.065Z"
   },
   {
    "duration": 3159,
    "start_time": "2022-10-05T11:35:04.665Z"
   },
   {
    "duration": 5,
    "start_time": "2022-10-05T11:35:54.209Z"
   },
   {
    "duration": 12,
    "start_time": "2022-10-05T11:36:13.496Z"
   },
   {
    "duration": 26,
    "start_time": "2022-10-05T11:36:51.642Z"
   },
   {
    "duration": 22,
    "start_time": "2022-10-05T11:37:16.265Z"
   },
   {
    "duration": 10,
    "start_time": "2022-10-05T11:37:30.286Z"
   },
   {
    "duration": 10,
    "start_time": "2022-10-05T11:38:23.343Z"
   },
   {
    "duration": 23,
    "start_time": "2022-10-05T11:38:45.847Z"
   },
   {
    "duration": 12,
    "start_time": "2022-10-05T11:39:15.537Z"
   },
   {
    "duration": 15,
    "start_time": "2022-10-05T11:39:22.146Z"
   },
   {
    "duration": 26,
    "start_time": "2022-10-05T11:40:39.917Z"
   },
   {
    "duration": 224,
    "start_time": "2022-10-05T11:41:14.006Z"
   },
   {
    "duration": 214,
    "start_time": "2022-10-05T11:41:27.645Z"
   },
   {
    "duration": 197,
    "start_time": "2022-10-05T11:41:39.225Z"
   },
   {
    "duration": 173,
    "start_time": "2022-10-05T11:41:49.457Z"
   },
   {
    "duration": 27,
    "start_time": "2022-10-05T11:43:10.105Z"
   },
   {
    "duration": 50,
    "start_time": "2022-10-05T11:44:12.816Z"
   },
   {
    "duration": 28,
    "start_time": "2022-10-05T11:44:49.829Z"
   },
   {
    "duration": 8,
    "start_time": "2022-10-05T11:46:10.845Z"
   },
   {
    "duration": 137,
    "start_time": "2022-10-05T11:47:16.227Z"
   },
   {
    "duration": 49,
    "start_time": "2022-10-05T11:47:48.826Z"
   },
   {
    "duration": 38,
    "start_time": "2022-10-05T11:48:32.596Z"
   },
   {
    "duration": 32,
    "start_time": "2022-10-05T11:48:47.085Z"
   },
   {
    "duration": 9,
    "start_time": "2022-10-05T11:49:54.044Z"
   },
   {
    "duration": 7,
    "start_time": "2022-10-05T11:50:21.246Z"
   },
   {
    "duration": 5,
    "start_time": "2022-10-05T11:50:36.543Z"
   },
   {
    "duration": 4,
    "start_time": "2022-10-05T11:50:51.325Z"
   },
   {
    "duration": 9,
    "start_time": "2022-10-05T11:50:55.725Z"
   },
   {
    "duration": 6,
    "start_time": "2022-10-05T11:51:09.526Z"
   },
   {
    "duration": 6,
    "start_time": "2022-10-05T12:07:48.957Z"
   },
   {
    "duration": 17,
    "start_time": "2022-10-05T12:08:06.133Z"
   },
   {
    "duration": 11,
    "start_time": "2022-10-05T12:09:13.487Z"
   },
   {
    "duration": 5,
    "start_time": "2022-10-05T12:10:22.764Z"
   },
   {
    "duration": 6,
    "start_time": "2022-10-05T12:10:41.725Z"
   },
   {
    "duration": 8,
    "start_time": "2022-10-05T12:11:28.739Z"
   },
   {
    "duration": 65,
    "start_time": "2022-10-05T12:11:52.303Z"
   },
   {
    "duration": 5,
    "start_time": "2022-10-05T12:11:57.206Z"
   },
   {
    "duration": 5,
    "start_time": "2022-10-05T12:12:07.085Z"
   },
   {
    "duration": 11,
    "start_time": "2022-10-05T12:12:16.504Z"
   },
   {
    "duration": 7,
    "start_time": "2022-10-05T12:12:27.947Z"
   },
   {
    "duration": 10,
    "start_time": "2022-10-05T12:13:51.596Z"
   },
   {
    "duration": 7,
    "start_time": "2022-10-05T12:14:04.246Z"
   },
   {
    "duration": 5,
    "start_time": "2022-10-05T12:14:09.206Z"
   },
   {
    "duration": 7,
    "start_time": "2022-10-05T12:16:23.696Z"
   },
   {
    "duration": 18,
    "start_time": "2022-10-05T12:16:37.345Z"
   },
   {
    "duration": 18,
    "start_time": "2022-10-05T12:17:16.887Z"
   },
   {
    "duration": 7,
    "start_time": "2022-10-05T12:33:04.052Z"
   },
   {
    "duration": 6,
    "start_time": "2022-10-05T12:38:00.406Z"
   },
   {
    "duration": 16,
    "start_time": "2022-10-05T12:38:54.527Z"
   },
   {
    "duration": 26,
    "start_time": "2022-10-05T12:39:02.165Z"
   },
   {
    "duration": 6,
    "start_time": "2022-10-05T12:39:24.596Z"
   },
   {
    "duration": 5,
    "start_time": "2022-10-05T12:39:31.193Z"
   },
   {
    "duration": 3,
    "start_time": "2022-10-05T12:43:40.125Z"
   },
   {
    "duration": 10,
    "start_time": "2022-10-05T12:43:43.742Z"
   },
   {
    "duration": 8,
    "start_time": "2022-10-05T12:44:01.005Z"
   },
   {
    "duration": 9,
    "start_time": "2022-10-05T12:44:25.824Z"
   },
   {
    "duration": 10,
    "start_time": "2022-10-05T12:44:51.865Z"
   },
   {
    "duration": 10,
    "start_time": "2022-10-05T12:45:35.799Z"
   },
   {
    "duration": 11,
    "start_time": "2022-10-05T12:47:04.444Z"
   },
   {
    "duration": 9,
    "start_time": "2022-10-05T12:47:11.306Z"
   },
   {
    "duration": 1830,
    "start_time": "2022-10-05T12:47:59.045Z"
   },
   {
    "duration": 11,
    "start_time": "2022-10-05T12:51:43.945Z"
   },
   {
    "duration": 9,
    "start_time": "2022-10-05T12:52:32.866Z"
   },
   {
    "duration": 12,
    "start_time": "2022-10-05T12:53:16.116Z"
   },
   {
    "duration": 28,
    "start_time": "2022-10-05T12:53:26.669Z"
   },
   {
    "duration": 11,
    "start_time": "2022-10-05T12:53:38.870Z"
   },
   {
    "duration": 8,
    "start_time": "2022-10-05T12:54:46.205Z"
   },
   {
    "duration": 12,
    "start_time": "2022-10-05T12:55:05.604Z"
   },
   {
    "duration": 8,
    "start_time": "2022-10-05T12:55:10.065Z"
   },
   {
    "duration": 10,
    "start_time": "2022-10-05T12:59:12.754Z"
   },
   {
    "duration": 29,
    "start_time": "2022-10-05T12:59:32.526Z"
   },
   {
    "duration": 37,
    "start_time": "2022-10-05T13:00:37.227Z"
   },
   {
    "duration": 34,
    "start_time": "2022-10-05T13:00:46.846Z"
   },
   {
    "duration": 22,
    "start_time": "2022-10-05T13:01:43.685Z"
   },
   {
    "duration": 21,
    "start_time": "2022-10-05T13:01:54.585Z"
   },
   {
    "duration": 20,
    "start_time": "2022-10-05T13:03:43.366Z"
   },
   {
    "duration": 20,
    "start_time": "2022-10-05T13:03:48.496Z"
   },
   {
    "duration": 22,
    "start_time": "2022-10-05T13:04:36.684Z"
   },
   {
    "duration": 25,
    "start_time": "2022-10-05T13:04:48.307Z"
   },
   {
    "duration": 47,
    "start_time": "2022-10-05T13:05:47.286Z"
   },
   {
    "duration": 14,
    "start_time": "2022-10-05T13:07:05.011Z"
   },
   {
    "duration": 4,
    "start_time": "2022-10-05T13:07:57.565Z"
   },
   {
    "duration": 8,
    "start_time": "2022-10-05T13:08:01.983Z"
   },
   {
    "duration": 199,
    "start_time": "2022-10-05T13:09:55.645Z"
   },
   {
    "duration": 9,
    "start_time": "2022-10-05T13:13:53.405Z"
   },
   {
    "duration": 1571,
    "start_time": "2022-10-05T15:13:16.532Z"
   },
   {
    "duration": 3233,
    "start_time": "2022-10-05T15:13:21.232Z"
   },
   {
    "duration": 16,
    "start_time": "2022-10-05T15:13:34.103Z"
   },
   {
    "duration": 79,
    "start_time": "2022-10-05T15:13:58.513Z"
   },
   {
    "duration": 4,
    "start_time": "2022-10-05T15:14:23.452Z"
   },
   {
    "duration": 26,
    "start_time": "2022-10-05T15:14:40.832Z"
   },
   {
    "duration": 747,
    "start_time": "2022-10-05T15:15:37.553Z"
   },
   {
    "duration": 20,
    "start_time": "2022-10-05T15:16:01.532Z"
   },
   {
    "duration": 62,
    "start_time": "2022-10-05T15:16:47.232Z"
   },
   {
    "duration": 159,
    "start_time": "2022-10-05T15:18:09.552Z"
   },
   {
    "duration": 35,
    "start_time": "2022-10-05T15:21:05.023Z"
   },
   {
    "duration": 114,
    "start_time": "2022-10-05T15:23:59.761Z"
   },
   {
    "duration": 44,
    "start_time": "2022-10-05T15:24:45.471Z"
   },
   {
    "duration": 49,
    "start_time": "2022-10-05T15:25:06.472Z"
   },
   {
    "duration": 14,
    "start_time": "2022-10-05T15:25:37.682Z"
   },
   {
    "duration": 33,
    "start_time": "2022-10-05T15:26:11.751Z"
   },
   {
    "duration": 32,
    "start_time": "2022-10-05T15:26:30.975Z"
   },
   {
    "duration": 32,
    "start_time": "2022-10-05T15:26:54.412Z"
   },
   {
    "duration": 9,
    "start_time": "2022-10-05T15:50:00.273Z"
   },
   {
    "duration": 33,
    "start_time": "2022-10-05T15:50:07.514Z"
   },
   {
    "duration": 5,
    "start_time": "2022-10-05T15:50:18.293Z"
   },
   {
    "duration": 28,
    "start_time": "2022-10-05T15:50:59.270Z"
   },
   {
    "duration": 808,
    "start_time": "2022-10-05T15:52:00.941Z"
   },
   {
    "duration": 14,
    "start_time": "2022-10-05T15:52:12.393Z"
   },
   {
    "duration": 64,
    "start_time": "2022-10-05T15:52:20.132Z"
   },
   {
    "duration": 7,
    "start_time": "2022-10-05T15:52:29.604Z"
   },
   {
    "duration": 53,
    "start_time": "2022-10-05T15:52:45.933Z"
   },
   {
    "duration": 22,
    "start_time": "2022-10-05T15:54:40.092Z"
   },
   {
    "duration": 22,
    "start_time": "2022-10-05T15:55:36.324Z"
   },
   {
    "duration": 149,
    "start_time": "2022-10-05T15:56:13.323Z"
   },
   {
    "duration": 85,
    "start_time": "2022-10-05T16:24:05.581Z"
   },
   {
    "duration": 30,
    "start_time": "2022-10-05T16:24:35.683Z"
   },
   {
    "duration": 19,
    "start_time": "2022-10-05T16:24:43.852Z"
   },
   {
    "duration": 13,
    "start_time": "2022-10-05T16:25:21.073Z"
   },
   {
    "duration": 7,
    "start_time": "2022-10-05T16:25:33.812Z"
   },
   {
    "duration": 8,
    "start_time": "2022-10-05T16:27:30.870Z"
   },
   {
    "duration": 81,
    "start_time": "2022-10-05T16:27:33.593Z"
   },
   {
    "duration": 27,
    "start_time": "2022-10-05T16:28:11.873Z"
   },
   {
    "duration": 149,
    "start_time": "2022-10-05T16:28:14.174Z"
   },
   {
    "duration": 13,
    "start_time": "2022-10-05T16:28:40.373Z"
   },
   {
    "duration": 19,
    "start_time": "2022-10-05T16:29:03.152Z"
   },
   {
    "duration": 82,
    "start_time": "2022-10-05T16:29:07.093Z"
   },
   {
    "duration": 25,
    "start_time": "2022-10-05T16:29:39.532Z"
   },
   {
    "duration": 85,
    "start_time": "2022-10-05T16:29:41.645Z"
   },
   {
    "duration": 33,
    "start_time": "2022-10-05T16:30:29.132Z"
   },
   {
    "duration": 18,
    "start_time": "2022-10-05T17:21:50.062Z"
   },
   {
    "duration": 95,
    "start_time": "2022-10-05T17:21:53.202Z"
   },
   {
    "duration": 25,
    "start_time": "2022-10-05T17:23:17.082Z"
   },
   {
    "duration": 266,
    "start_time": "2022-10-05T17:23:22.701Z"
   },
   {
    "duration": 276,
    "start_time": "2022-10-05T17:26:22.881Z"
   },
   {
    "duration": 149,
    "start_time": "2022-10-05T17:31:55.415Z"
   },
   {
    "duration": 418,
    "start_time": "2022-10-05T17:32:13.342Z"
   },
   {
    "duration": 1062,
    "start_time": "2022-10-05T17:32:23.194Z"
   },
   {
    "duration": 31,
    "start_time": "2022-10-05T17:34:45.182Z"
   },
   {
    "duration": 32,
    "start_time": "2022-10-05T17:35:28.502Z"
   },
   {
    "duration": 314,
    "start_time": "2022-10-05T17:35:32.142Z"
   },
   {
    "duration": 141,
    "start_time": "2022-10-05T17:35:53.821Z"
   },
   {
    "duration": 1472,
    "start_time": "2022-10-06T04:38:28.530Z"
   },
   {
    "duration": 2135,
    "start_time": "2022-10-06T04:38:34.479Z"
   },
   {
    "duration": 6,
    "start_time": "2022-10-06T04:42:54.463Z"
   },
   {
    "duration": 109,
    "start_time": "2022-10-06T04:43:39.304Z"
   },
   {
    "duration": 5,
    "start_time": "2022-10-06T04:43:48.885Z"
   },
   {
    "duration": 47,
    "start_time": "2022-10-06T04:52:03.082Z"
   },
   {
    "duration": 35,
    "start_time": "2022-10-06T04:52:34.770Z"
   },
   {
    "duration": 20,
    "start_time": "2022-10-06T04:52:53.069Z"
   },
   {
    "duration": 38,
    "start_time": "2022-10-06T04:53:19.642Z"
   },
   {
    "duration": 4,
    "start_time": "2022-10-06T04:53:49.710Z"
   },
   {
    "duration": 5,
    "start_time": "2022-10-06T04:54:12.470Z"
   },
   {
    "duration": 5,
    "start_time": "2022-10-06T04:54:36.810Z"
   },
   {
    "duration": 40,
    "start_time": "2022-10-06T04:57:51.339Z"
   },
   {
    "duration": 5,
    "start_time": "2022-10-06T04:57:57.442Z"
   },
   {
    "duration": 14,
    "start_time": "2022-10-06T05:12:57.599Z"
   },
   {
    "duration": 12,
    "start_time": "2022-10-06T05:14:01.831Z"
   },
   {
    "duration": 11,
    "start_time": "2022-10-06T05:14:26.731Z"
   },
   {
    "duration": 3,
    "start_time": "2022-10-06T05:14:50.391Z"
   },
   {
    "duration": 5,
    "start_time": "2022-10-06T05:15:16.151Z"
   },
   {
    "duration": 6,
    "start_time": "2022-10-06T05:16:02.211Z"
   },
   {
    "duration": 14,
    "start_time": "2022-10-06T05:16:30.971Z"
   },
   {
    "duration": 10,
    "start_time": "2022-10-06T05:16:55.331Z"
   },
   {
    "duration": 15,
    "start_time": "2022-10-06T05:26:21.812Z"
   },
   {
    "duration": 14,
    "start_time": "2022-10-06T05:27:36.871Z"
   },
   {
    "duration": 14,
    "start_time": "2022-10-06T05:28:00.372Z"
   },
   {
    "duration": 78,
    "start_time": "2022-10-06T05:28:34.472Z"
   },
   {
    "duration": 13,
    "start_time": "2022-10-06T05:28:47.111Z"
   },
   {
    "duration": 6,
    "start_time": "2022-10-06T05:29:22.771Z"
   },
   {
    "duration": 29,
    "start_time": "2022-10-06T05:29:49.271Z"
   },
   {
    "duration": 14,
    "start_time": "2022-10-06T05:30:53.212Z"
   },
   {
    "duration": 30,
    "start_time": "2022-10-06T05:31:00.252Z"
   },
   {
    "duration": 785,
    "start_time": "2022-10-06T05:32:33.392Z"
   },
   {
    "duration": 30,
    "start_time": "2022-10-06T05:32:40.852Z"
   },
   {
    "duration": 14,
    "start_time": "2022-10-06T05:33:41.752Z"
   },
   {
    "duration": 28,
    "start_time": "2022-10-06T05:34:21.312Z"
   },
   {
    "duration": 27,
    "start_time": "2022-10-06T05:34:36.024Z"
   },
   {
    "duration": 713,
    "start_time": "2022-10-06T05:36:51.993Z"
   },
   {
    "duration": 60,
    "start_time": "2022-10-06T05:37:05.732Z"
   },
   {
    "duration": 14,
    "start_time": "2022-10-06T05:37:53.192Z"
   },
   {
    "duration": 5,
    "start_time": "2022-10-06T05:38:53.032Z"
   },
   {
    "duration": 15,
    "start_time": "2022-10-06T05:39:20.552Z"
   },
   {
    "duration": 8,
    "start_time": "2022-10-06T05:39:35.313Z"
   },
   {
    "duration": 6,
    "start_time": "2022-10-06T05:40:27.413Z"
   },
   {
    "duration": 33,
    "start_time": "2022-10-06T05:40:33.792Z"
   },
   {
    "duration": 29,
    "start_time": "2022-10-06T05:40:49.224Z"
   },
   {
    "duration": 1497,
    "start_time": "2022-10-06T09:27:59.482Z"
   },
   {
    "duration": 2508,
    "start_time": "2022-10-06T09:28:01.632Z"
   },
   {
    "duration": 13,
    "start_time": "2022-10-06T09:28:12.052Z"
   },
   {
    "duration": 67,
    "start_time": "2022-10-06T09:28:21.971Z"
   },
   {
    "duration": 4,
    "start_time": "2022-10-06T09:28:58.183Z"
   },
   {
    "duration": 7,
    "start_time": "2022-10-06T09:29:08.100Z"
   },
   {
    "duration": 100,
    "start_time": "2022-10-06T09:31:04.380Z"
   },
   {
    "duration": 12,
    "start_time": "2022-10-06T09:38:59.409Z"
   },
   {
    "duration": 12,
    "start_time": "2022-10-06T09:39:06.196Z"
   },
   {
    "duration": 18,
    "start_time": "2022-10-06T09:39:44.336Z"
   },
   {
    "duration": 619,
    "start_time": "2022-10-06T09:39:56.901Z"
   },
   {
    "duration": 59,
    "start_time": "2022-10-06T09:40:13.020Z"
   },
   {
    "duration": 14,
    "start_time": "2022-10-06T09:41:00.249Z"
   },
   {
    "duration": 14,
    "start_time": "2022-10-06T09:41:30.989Z"
   },
   {
    "duration": 7,
    "start_time": "2022-10-06T09:41:39.648Z"
   },
   {
    "duration": 32,
    "start_time": "2022-10-06T09:41:45.087Z"
   },
   {
    "duration": 19,
    "start_time": "2022-10-06T09:42:59.381Z"
   },
   {
    "duration": 20,
    "start_time": "2022-10-06T09:50:32.137Z"
   },
   {
    "duration": 734,
    "start_time": "2022-10-06T09:51:16.288Z"
   },
   {
    "duration": 61,
    "start_time": "2022-10-06T09:51:25.170Z"
   },
   {
    "duration": 6,
    "start_time": "2022-10-06T09:51:38.340Z"
   },
   {
    "duration": 36,
    "start_time": "2022-10-06T09:51:45.497Z"
   },
   {
    "duration": 21,
    "start_time": "2022-10-06T09:52:01.170Z"
   },
   {
    "duration": 5,
    "start_time": "2022-10-06T09:52:33.709Z"
   },
   {
    "duration": 23,
    "start_time": "2022-10-06T09:53:01.301Z"
   },
   {
    "duration": 39,
    "start_time": "2022-10-06T09:53:56.324Z"
   },
   {
    "duration": 10,
    "start_time": "2022-10-06T10:02:05.296Z"
   },
   {
    "duration": 36,
    "start_time": "2022-10-06T10:02:32.642Z"
   },
   {
    "duration": 12,
    "start_time": "2022-10-06T10:07:37.348Z"
   },
   {
    "duration": 12,
    "start_time": "2022-10-06T10:08:05.088Z"
   },
   {
    "duration": 12,
    "start_time": "2022-10-06T10:08:18.888Z"
   },
   {
    "duration": 11,
    "start_time": "2022-10-06T10:08:58.869Z"
   },
   {
    "duration": 12,
    "start_time": "2022-10-06T10:09:08.389Z"
   },
   {
    "duration": 12,
    "start_time": "2022-10-06T10:09:22.968Z"
   },
   {
    "duration": 1582,
    "start_time": "2022-10-06T11:42:44.467Z"
   },
   {
    "duration": 3321,
    "start_time": "2022-10-06T11:42:46.637Z"
   },
   {
    "duration": 64,
    "start_time": "2022-10-06T11:43:15.855Z"
   },
   {
    "duration": 8,
    "start_time": "2022-10-06T11:43:27.055Z"
   },
   {
    "duration": 47,
    "start_time": "2022-10-06T11:43:31.675Z"
   },
   {
    "duration": 5,
    "start_time": "2022-10-06T11:43:43.595Z"
   },
   {
    "duration": 37,
    "start_time": "2022-10-06T11:43:52.395Z"
   },
   {
    "duration": 16,
    "start_time": "2022-10-06T11:44:55.415Z"
   },
   {
    "duration": 4,
    "start_time": "2022-10-06T15:40:31.517Z"
   },
   {
    "duration": 676,
    "start_time": "2022-10-06T15:40:36.917Z"
   },
   {
    "duration": 61,
    "start_time": "2022-10-06T15:40:50.765Z"
   },
   {
    "duration": 6,
    "start_time": "2022-10-06T15:41:04.555Z"
   },
   {
    "duration": 33,
    "start_time": "2022-10-06T15:41:12.412Z"
   },
   {
    "duration": 22,
    "start_time": "2022-10-06T15:42:37.541Z"
   },
   {
    "duration": 4,
    "start_time": "2022-10-06T15:43:00.825Z"
   },
   {
    "duration": 32,
    "start_time": "2022-10-06T15:43:07.560Z"
   },
   {
    "duration": 100,
    "start_time": "2022-10-06T15:44:35.176Z"
   },
   {
    "duration": 25,
    "start_time": "2022-10-06T15:51:09.746Z"
   },
   {
    "duration": 21,
    "start_time": "2022-10-06T15:51:18.328Z"
   },
   {
    "duration": 11,
    "start_time": "2022-10-06T15:52:03.624Z"
   },
   {
    "duration": 16,
    "start_time": "2022-10-06T15:52:52.977Z"
   },
   {
    "duration": 14,
    "start_time": "2022-10-06T15:53:12.745Z"
   },
   {
    "duration": 21,
    "start_time": "2022-10-06T15:53:21.373Z"
   },
   {
    "duration": 22,
    "start_time": "2022-10-06T15:54:02.045Z"
   },
   {
    "duration": 33,
    "start_time": "2022-10-06T15:54:15.845Z"
   },
   {
    "duration": 42,
    "start_time": "2022-10-06T15:54:59.877Z"
   },
   {
    "duration": 30,
    "start_time": "2022-10-06T15:55:10.025Z"
   },
   {
    "duration": 31,
    "start_time": "2022-10-06T15:55:39.677Z"
   },
   {
    "duration": 31,
    "start_time": "2022-10-06T15:55:53.545Z"
   },
   {
    "duration": 29,
    "start_time": "2022-10-06T15:56:03.165Z"
   },
   {
    "duration": 30,
    "start_time": "2022-10-06T15:56:09.045Z"
   },
   {
    "duration": 33,
    "start_time": "2022-10-06T15:56:50.297Z"
   },
   {
    "duration": 30,
    "start_time": "2022-10-06T15:57:38.211Z"
   },
   {
    "duration": 138,
    "start_time": "2022-10-06T15:59:01.597Z"
   },
   {
    "duration": 392,
    "start_time": "2022-10-06T16:01:01.445Z"
   },
   {
    "duration": 459,
    "start_time": "2022-10-06T16:01:28.885Z"
   },
   {
    "duration": 350,
    "start_time": "2022-10-06T16:01:45.485Z"
   },
   {
    "duration": 353,
    "start_time": "2022-10-06T16:02:08.185Z"
   },
   {
    "duration": 756,
    "start_time": "2022-10-06T16:07:29.345Z"
   },
   {
    "duration": 1122,
    "start_time": "2022-10-06T16:08:35.257Z"
   },
   {
    "duration": 6,
    "start_time": "2022-10-06T16:09:24.816Z"
   },
   {
    "duration": 5,
    "start_time": "2022-10-06T16:09:30.026Z"
   },
   {
    "duration": 6,
    "start_time": "2022-10-06T16:09:35.853Z"
   },
   {
    "duration": 7,
    "start_time": "2022-10-06T16:09:46.216Z"
   },
   {
    "duration": 7,
    "start_time": "2022-10-06T16:09:56.930Z"
   },
   {
    "duration": 8,
    "start_time": "2022-10-06T16:10:00.425Z"
   },
   {
    "duration": 7,
    "start_time": "2022-10-06T16:10:03.918Z"
   },
   {
    "duration": 6,
    "start_time": "2022-10-06T16:10:09.397Z"
   },
   {
    "duration": 5,
    "start_time": "2022-10-06T16:10:17.166Z"
   },
   {
    "duration": 779,
    "start_time": "2022-10-06T16:11:12.666Z"
   },
   {
    "duration": 6,
    "start_time": "2022-10-06T16:12:08.545Z"
   },
   {
    "duration": 14,
    "start_time": "2022-10-06T16:12:14.825Z"
   },
   {
    "duration": 5,
    "start_time": "2022-10-06T16:12:20.365Z"
   },
   {
    "duration": 10,
    "start_time": "2022-10-06T16:12:35.105Z"
   },
   {
    "duration": 5,
    "start_time": "2022-10-06T16:12:43.426Z"
   },
   {
    "duration": 10,
    "start_time": "2022-10-06T16:12:56.724Z"
   },
   {
    "duration": 12,
    "start_time": "2022-10-06T16:13:06.058Z"
   },
   {
    "duration": 9,
    "start_time": "2022-10-06T16:14:18.233Z"
   },
   {
    "duration": 6,
    "start_time": "2022-10-06T16:14:27.465Z"
   },
   {
    "duration": 9,
    "start_time": "2022-10-06T16:15:10.265Z"
   },
   {
    "duration": 5,
    "start_time": "2022-10-06T16:15:34.153Z"
   },
   {
    "duration": 1030,
    "start_time": "2022-10-06T16:16:00.305Z"
   },
   {
    "duration": 7,
    "start_time": "2022-10-06T16:16:34.253Z"
   },
   {
    "duration": 8,
    "start_time": "2022-10-06T16:18:11.258Z"
   },
   {
    "duration": 13,
    "start_time": "2022-10-06T16:18:39.287Z"
   },
   {
    "duration": 6,
    "start_time": "2022-10-06T16:18:51.145Z"
   },
   {
    "duration": 751,
    "start_time": "2022-10-06T16:19:35.186Z"
   },
   {
    "duration": 1102,
    "start_time": "2022-10-06T16:20:31.145Z"
   },
   {
    "duration": 13,
    "start_time": "2022-10-06T16:21:10.517Z"
   },
   {
    "duration": 1101,
    "start_time": "2022-10-06T16:30:48.396Z"
   },
   {
    "duration": 5,
    "start_time": "2022-10-06T16:31:16.316Z"
   },
   {
    "duration": 5,
    "start_time": "2022-10-06T16:31:37.957Z"
   },
   {
    "duration": 9,
    "start_time": "2022-10-06T16:31:44.808Z"
   },
   {
    "duration": 18,
    "start_time": "2022-10-06T16:31:52.925Z"
   },
   {
    "duration": 12,
    "start_time": "2022-10-06T16:34:42.825Z"
   },
   {
    "duration": 593,
    "start_time": "2022-10-06T16:36:18.245Z"
   },
   {
    "duration": 938,
    "start_time": "2022-10-06T16:49:35.865Z"
   },
   {
    "duration": 11,
    "start_time": "2022-10-06T16:50:06.950Z"
   },
   {
    "duration": 10,
    "start_time": "2022-10-06T16:50:14.833Z"
   },
   {
    "duration": 20,
    "start_time": "2022-10-06T16:50:28.097Z"
   },
   {
    "duration": 23,
    "start_time": "2022-10-06T16:56:14.665Z"
   },
   {
    "duration": 43,
    "start_time": "2022-10-06T17:00:24.253Z"
   },
   {
    "duration": 3,
    "start_time": "2022-10-06T17:04:03.946Z"
   },
   {
    "duration": 690,
    "start_time": "2022-10-06T17:07:11.163Z"
   },
   {
    "duration": 69,
    "start_time": "2022-10-06T17:08:05.951Z"
   },
   {
    "duration": 24,
    "start_time": "2022-10-06T17:08:33.524Z"
   },
   {
    "duration": 478,
    "start_time": "2022-10-06T17:09:29.063Z"
   },
   {
    "duration": 2072,
    "start_time": "2022-10-06T17:11:43.363Z"
   },
   {
    "duration": 28,
    "start_time": "2022-10-06T17:24:03.995Z"
   },
   {
    "duration": 5212,
    "start_time": "2022-10-06T17:39:35.764Z"
   },
   {
    "duration": 11313,
    "start_time": "2022-10-06T17:40:21.984Z"
   },
   {
    "duration": 4619,
    "start_time": "2022-10-06T17:41:04.764Z"
   },
   {
    "duration": 46543,
    "start_time": "2022-10-06T17:41:30.224Z"
   },
   {
    "duration": 30373,
    "start_time": "2022-10-06T17:43:34.137Z"
   },
   {
    "duration": 1550,
    "start_time": "2022-10-06T17:50:05.585Z"
   },
   {
    "duration": 183985,
    "start_time": "2022-10-06T17:50:25.308Z"
   },
   {
    "duration": 87,
    "start_time": "2022-10-06T17:59:53.457Z"
   },
   {
    "duration": 4,
    "start_time": "2022-10-06T18:01:26.085Z"
   },
   {
    "duration": 87,
    "start_time": "2022-10-06T18:01:52.445Z"
   },
   {
    "duration": 95,
    "start_time": "2022-10-06T18:02:44.086Z"
   },
   {
    "duration": 182836,
    "start_time": "2022-10-06T18:05:29.417Z"
   },
   {
    "duration": 173236,
    "start_time": "2022-10-06T18:09:23.353Z"
   },
   {
    "duration": 80,
    "start_time": "2022-10-06T18:14:23.365Z"
   },
   {
    "duration": 49,
    "start_time": "2022-10-06T18:16:40.285Z"
   },
   {
    "duration": 3,
    "start_time": "2022-10-06T18:16:52.438Z"
   },
   {
    "duration": 89,
    "start_time": "2022-10-06T18:17:05.124Z"
   },
   {
    "duration": 72,
    "start_time": "2022-10-06T18:17:48.277Z"
   },
   {
    "duration": 44,
    "start_time": "2022-10-06T18:17:56.864Z"
   },
   {
    "duration": 51,
    "start_time": "2022-10-06T18:18:23.376Z"
   },
   {
    "duration": 43,
    "start_time": "2022-10-06T18:18:36.773Z"
   },
   {
    "duration": 46,
    "start_time": "2022-10-06T18:18:54.877Z"
   },
   {
    "duration": 1508,
    "start_time": "2022-10-07T04:18:34.528Z"
   },
   {
    "duration": 3082,
    "start_time": "2022-10-07T04:18:39.548Z"
   },
   {
    "duration": 73,
    "start_time": "2022-10-07T04:18:45.208Z"
   },
   {
    "duration": 4,
    "start_time": "2022-10-07T04:19:15.149Z"
   },
   {
    "duration": 1128,
    "start_time": "2022-10-07T04:19:23.318Z"
   },
   {
    "duration": 7,
    "start_time": "2022-10-07T04:19:46.948Z"
   },
   {
    "duration": 32,
    "start_time": "2022-10-07T04:19:52.200Z"
   },
   {
    "duration": 29,
    "start_time": "2022-10-07T04:20:03.456Z"
   },
   {
    "duration": 37,
    "start_time": "2022-10-07T04:20:08.328Z"
   },
   {
    "duration": 333,
    "start_time": "2022-10-07T04:20:24.207Z"
   },
   {
    "duration": 2429,
    "start_time": "2022-10-07T04:20:31.608Z"
   },
   {
    "duration": 17,
    "start_time": "2022-10-07T04:22:10.428Z"
   },
   {
    "duration": 166,
    "start_time": "2022-10-07T04:22:16.868Z"
   },
   {
    "duration": 337,
    "start_time": "2022-10-07T04:22:27.908Z"
   },
   {
    "duration": 408,
    "start_time": "2022-10-07T04:22:34.640Z"
   },
   {
    "duration": 376,
    "start_time": "2022-10-07T04:22:56.369Z"
   },
   {
    "duration": 147539,
    "start_time": "2022-10-07T04:23:04.896Z"
   },
   {
    "duration": 82584,
    "start_time": "2022-10-07T04:27:59.899Z"
   },
   {
    "duration": 14,
    "start_time": "2022-10-07T04:29:54.320Z"
   },
   {
    "duration": 23,
    "start_time": "2022-10-07T04:30:25.106Z"
   },
   {
    "duration": 6,
    "start_time": "2022-10-07T04:30:38.128Z"
   },
   {
    "duration": 7257,
    "start_time": "2022-10-07T04:31:19.988Z"
   },
   {
    "duration": 149251,
    "start_time": "2022-10-07T04:35:02.588Z"
   },
   {
    "duration": 35,
    "start_time": "2022-10-07T04:43:41.136Z"
   },
   {
    "duration": 7268,
    "start_time": "2022-10-07T04:43:58.719Z"
   },
   {
    "duration": 3076,
    "start_time": "2022-10-07T04:44:26.780Z"
   },
   {
    "duration": 7836,
    "start_time": "2022-10-07T04:44:40.704Z"
   },
   {
    "duration": 21896,
    "start_time": "2022-10-07T04:45:05.839Z"
   },
   {
    "duration": 36,
    "start_time": "2022-10-07T04:46:18.847Z"
   },
   {
    "duration": 3174,
    "start_time": "2022-10-07T04:47:02.660Z"
   },
   {
    "duration": 178366,
    "start_time": "2022-10-07T04:48:20.068Z"
   },
   {
    "duration": 58,
    "start_time": "2022-10-07T04:52:07.208Z"
   },
   {
    "duration": 18,
    "start_time": "2022-10-07T05:14:28.027Z"
   },
   {
    "duration": 96,
    "start_time": "2022-10-07T05:15:28.448Z"
   },
   {
    "duration": 3,
    "start_time": "2022-10-07T05:29:37.848Z"
   },
   {
    "duration": 46,
    "start_time": "2022-10-07T05:29:57.800Z"
   },
   {
    "duration": 7,
    "start_time": "2022-10-07T05:30:24.847Z"
   },
   {
    "duration": 4,
    "start_time": "2022-10-07T05:30:29.607Z"
   },
   {
    "duration": 8,
    "start_time": "2022-10-07T05:30:40.327Z"
   },
   {
    "duration": 42,
    "start_time": "2022-10-07T05:31:15.520Z"
   },
   {
    "duration": 38,
    "start_time": "2022-10-07T05:33:54.588Z"
   },
   {
    "duration": 7,
    "start_time": "2022-10-07T05:34:03.648Z"
   },
   {
    "duration": 5,
    "start_time": "2022-10-07T05:34:08.428Z"
   },
   {
    "duration": 6,
    "start_time": "2022-10-07T05:35:40.274Z"
   },
   {
    "duration": 40,
    "start_time": "2022-10-07T05:36:00.760Z"
   },
   {
    "duration": 30,
    "start_time": "2022-10-07T05:36:26.540Z"
   },
   {
    "duration": 28,
    "start_time": "2022-10-07T05:37:55.529Z"
   },
   {
    "duration": 9,
    "start_time": "2022-10-07T05:38:06.076Z"
   },
   {
    "duration": 1653,
    "start_time": "2022-10-07T18:12:40.486Z"
   },
   {
    "duration": 3029,
    "start_time": "2022-10-07T18:12:42.826Z"
   },
   {
    "duration": 64,
    "start_time": "2022-10-07T18:12:53.342Z"
   },
   {
    "duration": 7,
    "start_time": "2022-10-07T18:13:03.028Z"
   },
   {
    "duration": 33,
    "start_time": "2022-10-07T18:13:08.562Z"
   },
   {
    "duration": 3,
    "start_time": "2022-10-07T18:13:31.535Z"
   },
   {
    "duration": 118,
    "start_time": "2022-10-07T18:14:09.730Z"
   },
   {
    "duration": 122,
    "start_time": "2022-10-07T18:15:06.230Z"
   },
   {
    "duration": 120,
    "start_time": "2022-10-07T18:15:42.633Z"
   },
   {
    "duration": 237,
    "start_time": "2022-10-07T18:15:49.014Z"
   },
   {
    "duration": 51,
    "start_time": "2022-10-07T18:16:33.342Z"
   },
   {
    "duration": 119,
    "start_time": "2022-10-07T18:16:45.962Z"
   },
   {
    "duration": 219,
    "start_time": "2022-10-07T18:17:01.674Z"
   },
   {
    "duration": 130,
    "start_time": "2022-10-07T18:19:15.934Z"
   },
   {
    "duration": 267,
    "start_time": "2022-10-07T18:20:12.562Z"
   },
   {
    "duration": 236,
    "start_time": "2022-10-07T18:20:24.902Z"
   },
   {
    "duration": 245,
    "start_time": "2022-10-07T18:20:39.214Z"
   },
   {
    "duration": 240,
    "start_time": "2022-10-07T18:20:54.566Z"
   },
   {
    "duration": 130,
    "start_time": "2022-10-07T18:22:38.088Z"
   },
   {
    "duration": 127,
    "start_time": "2022-10-07T18:23:09.218Z"
   },
   {
    "duration": 125,
    "start_time": "2022-10-07T18:23:15.722Z"
   },
   {
    "duration": 128,
    "start_time": "2022-10-07T18:23:59.295Z"
   },
   {
    "duration": 749,
    "start_time": "2022-10-07T18:24:58.450Z"
   },
   {
    "duration": 197,
    "start_time": "2022-10-07T18:25:21.712Z"
   },
   {
    "duration": 109,
    "start_time": "2022-10-07T18:25:41.815Z"
   },
   {
    "duration": 226,
    "start_time": "2022-10-07T18:25:53.150Z"
   },
   {
    "duration": 839,
    "start_time": "2022-10-07T18:26:58.167Z"
   },
   {
    "duration": 154,
    "start_time": "2022-10-07T18:27:10.614Z"
   },
   {
    "duration": 156,
    "start_time": "2022-10-07T18:44:26.513Z"
   },
   {
    "duration": 172,
    "start_time": "2022-10-07T19:12:28.552Z"
   },
   {
    "duration": 1452,
    "start_time": "2022-10-08T04:25:49.153Z"
   },
   {
    "duration": 3066,
    "start_time": "2022-10-08T04:25:51.334Z"
   },
   {
    "duration": 56,
    "start_time": "2022-10-08T04:25:59.901Z"
   },
   {
    "duration": 6,
    "start_time": "2022-10-08T04:26:16.783Z"
   },
   {
    "duration": 30,
    "start_time": "2022-10-08T04:26:22.251Z"
   },
   {
    "duration": 4,
    "start_time": "2022-10-08T04:26:43.341Z"
   },
   {
    "duration": 265,
    "start_time": "2022-10-08T04:27:21.490Z"
   },
   {
    "duration": 541,
    "start_time": "2022-10-08T04:31:48.384Z"
   },
   {
    "duration": 180,
    "start_time": "2022-10-08T04:33:39.299Z"
   },
   {
    "duration": 177,
    "start_time": "2022-10-08T04:34:02.139Z"
   },
   {
    "duration": 709,
    "start_time": "2022-10-08T04:34:23.083Z"
   },
   {
    "duration": 14,
    "start_time": "2022-10-08T04:34:25.603Z"
   },
   {
    "duration": 52,
    "start_time": "2022-10-08T04:34:31.751Z"
   },
   {
    "duration": 7,
    "start_time": "2022-10-08T04:34:40.843Z"
   },
   {
    "duration": 41,
    "start_time": "2022-10-08T04:34:46.291Z"
   },
   {
    "duration": 4,
    "start_time": "2022-10-08T04:35:03.710Z"
   },
   {
    "duration": 164,
    "start_time": "2022-10-08T04:35:10.990Z"
   },
   {
    "duration": 669,
    "start_time": "2022-10-08T04:36:55.528Z"
   },
   {
    "duration": 14,
    "start_time": "2022-10-08T04:36:57.719Z"
   },
   {
    "duration": 48,
    "start_time": "2022-10-08T04:37:04.327Z"
   },
   {
    "duration": 6,
    "start_time": "2022-10-08T04:37:12.548Z"
   },
   {
    "duration": 107,
    "start_time": "2022-10-08T04:37:18.787Z"
   },
   {
    "duration": 4,
    "start_time": "2022-10-08T04:37:33.888Z"
   },
   {
    "duration": 333,
    "start_time": "2022-10-08T04:37:45.208Z"
   },
   {
    "duration": 27,
    "start_time": "2022-10-08T05:11:23.517Z"
   },
   {
    "duration": 28,
    "start_time": "2022-10-08T05:11:30.089Z"
   },
   {
    "duration": 356,
    "start_time": "2022-10-08T05:11:38.289Z"
   },
   {
    "duration": 3215,
    "start_time": "2022-10-08T05:11:45.821Z"
   },
   {
    "duration": 376,
    "start_time": "2022-10-08T05:11:58.062Z"
   },
   {
    "duration": 6,
    "start_time": "2022-10-08T05:13:17.969Z"
   },
   {
    "duration": 155791,
    "start_time": "2022-10-08T05:13:33.652Z"
   },
   {
    "duration": 53,
    "start_time": "2022-10-08T05:17:15.969Z"
   },
   {
    "duration": 18,
    "start_time": "2022-10-08T05:32:37.309Z"
   },
   {
    "duration": 466,
    "start_time": "2022-10-08T05:35:22.383Z"
   },
   {
    "duration": 16,
    "start_time": "2022-10-08T05:35:48.688Z"
   },
   {
    "duration": 18,
    "start_time": "2022-10-08T05:37:16.257Z"
   },
   {
    "duration": 3641,
    "start_time": "2022-10-08T05:39:00.620Z"
   },
   {
    "duration": 22,
    "start_time": "2022-10-08T05:49:29.734Z"
   },
   {
    "duration": 9,
    "start_time": "2022-10-08T05:50:10.394Z"
   },
   {
    "duration": 9,
    "start_time": "2022-10-08T05:50:13.294Z"
   },
   {
    "duration": 5,
    "start_time": "2022-10-08T05:50:17.155Z"
   },
   {
    "duration": 4,
    "start_time": "2022-10-08T05:50:28.634Z"
   },
   {
    "duration": 5,
    "start_time": "2022-10-08T05:51:19.614Z"
   },
   {
    "duration": 4,
    "start_time": "2022-10-08T05:51:44.507Z"
   },
   {
    "duration": 719,
    "start_time": "2022-10-08T05:52:18.034Z"
   },
   {
    "duration": 168,
    "start_time": "2022-10-08T05:52:29.967Z"
   },
   {
    "duration": 65,
    "start_time": "2022-10-08T05:53:19.373Z"
   },
   {
    "duration": 360,
    "start_time": "2022-10-08T05:54:12.375Z"
   },
   {
    "duration": 114354,
    "start_time": "2022-10-08T05:55:42.596Z"
   },
   {
    "duration": 80,
    "start_time": "2022-10-08T05:58:18.294Z"
   },
   {
    "duration": 61,
    "start_time": "2022-10-08T06:02:06.275Z"
   },
   {
    "duration": 27,
    "start_time": "2022-10-08T06:02:26.194Z"
   },
   {
    "duration": 61,
    "start_time": "2022-10-08T06:02:28.974Z"
   },
   {
    "duration": 57,
    "start_time": "2022-10-08T10:03:49.199Z"
   },
   {
    "duration": 1600,
    "start_time": "2022-10-08T10:03:59.511Z"
   },
   {
    "duration": 3058,
    "start_time": "2022-10-08T10:04:01.803Z"
   },
   {
    "duration": 663,
    "start_time": "2022-10-08T10:04:06.531Z"
   },
   {
    "duration": 67,
    "start_time": "2022-10-08T10:04:17.191Z"
   },
   {
    "duration": 26,
    "start_time": "2022-10-08T10:04:22.671Z"
   },
   {
    "duration": 7,
    "start_time": "2022-10-08T10:04:28.551Z"
   },
   {
    "duration": 47,
    "start_time": "2022-10-08T10:04:32.764Z"
   },
   {
    "duration": 588,
    "start_time": "2022-10-08T10:04:37.499Z"
   },
   {
    "duration": 4309,
    "start_time": "2022-10-08T12:11:32.521Z"
   },
   {
    "duration": 2891,
    "start_time": "2022-10-08T12:11:36.833Z"
   },
   {
    "duration": 25,
    "start_time": "2022-10-08T12:11:39.730Z"
   },
   {
    "duration": 27,
    "start_time": "2022-10-08T12:11:39.758Z"
   },
   {
    "duration": 87,
    "start_time": "2022-10-08T12:11:39.787Z"
   },
   {
    "duration": 42,
    "start_time": "2022-10-08T12:11:39.877Z"
   },
   {
    "duration": 25,
    "start_time": "2022-10-08T12:11:39.921Z"
   },
   {
    "duration": 51,
    "start_time": "2022-10-08T12:11:39.948Z"
   },
   {
    "duration": 934,
    "start_time": "2022-10-08T12:11:40.001Z"
   },
   {
    "duration": 364,
    "start_time": "2022-10-08T12:11:40.939Z"
   },
   {
    "duration": 233,
    "start_time": "2022-10-08T12:11:41.305Z"
   },
   {
    "duration": 435,
    "start_time": "2022-10-08T12:11:41.540Z"
   },
   {
    "duration": 5,
    "start_time": "2022-10-08T12:11:41.978Z"
   },
   {
    "duration": 594,
    "start_time": "2022-10-08T12:11:41.988Z"
   },
   {
    "duration": 43,
    "start_time": "2022-10-08T12:11:42.588Z"
   },
   {
    "duration": 42,
    "start_time": "2022-10-08T12:11:42.633Z"
   },
   {
    "duration": 16,
    "start_time": "2022-10-08T13:12:58.022Z"
   },
   {
    "duration": 1539,
    "start_time": "2022-10-10T06:41:56.820Z"
   },
   {
    "duration": 1976,
    "start_time": "2022-10-10T06:41:59.189Z"
   },
   {
    "duration": 16,
    "start_time": "2022-10-10T06:42:06.251Z"
   },
   {
    "duration": 83,
    "start_time": "2022-10-10T06:42:11.885Z"
   },
   {
    "duration": 7,
    "start_time": "2022-10-10T06:42:20.100Z"
   },
   {
    "duration": 32,
    "start_time": "2022-10-10T06:42:28.811Z"
   },
   {
    "duration": 5,
    "start_time": "2022-10-10T06:42:54.891Z"
   },
   {
    "duration": 114,
    "start_time": "2022-10-10T06:50:02.919Z"
   },
   {
    "duration": 5,
    "start_time": "2022-10-10T06:50:17.960Z"
   },
   {
    "duration": 10,
    "start_time": "2022-10-10T06:50:26.728Z"
   },
   {
    "duration": 5,
    "start_time": "2022-10-10T06:50:36.900Z"
   },
   {
    "duration": 11,
    "start_time": "2022-10-10T06:50:42.620Z"
   },
   {
    "duration": 5,
    "start_time": "2022-10-10T06:50:47.240Z"
   },
   {
    "duration": 33,
    "start_time": "2022-10-10T06:52:25.560Z"
   },
   {
    "duration": 10,
    "start_time": "2022-10-10T06:52:36.412Z"
   },
   {
    "duration": 10,
    "start_time": "2022-10-10T06:52:45.500Z"
   },
   {
    "duration": 5,
    "start_time": "2022-10-10T06:53:08.140Z"
   },
   {
    "duration": 10,
    "start_time": "2022-10-10T06:57:20.186Z"
   },
   {
    "duration": 204,
    "start_time": "2022-10-10T06:59:50.980Z"
   },
   {
    "duration": 198,
    "start_time": "2022-10-10T07:01:28.732Z"
   },
   {
    "duration": 159,
    "start_time": "2022-10-10T07:02:29.460Z"
   },
   {
    "duration": 190,
    "start_time": "2022-10-10T07:03:05.840Z"
   },
   {
    "duration": 258,
    "start_time": "2022-10-10T07:04:17.732Z"
   },
   {
    "duration": 224,
    "start_time": "2022-10-10T07:12:43.132Z"
   },
   {
    "duration": 203,
    "start_time": "2022-10-10T07:12:58.699Z"
   },
   {
    "duration": 209,
    "start_time": "2022-10-10T07:13:25.771Z"
   },
   {
    "duration": 232,
    "start_time": "2022-10-10T07:13:35.400Z"
   },
   {
    "duration": 242,
    "start_time": "2022-10-10T07:13:41.920Z"
   },
   {
    "duration": 183,
    "start_time": "2022-10-10T07:13:49.000Z"
   },
   {
    "duration": 209,
    "start_time": "2022-10-10T07:14:13.460Z"
   },
   {
    "duration": 239,
    "start_time": "2022-10-10T07:15:33.191Z"
   },
   {
    "duration": 230,
    "start_time": "2022-10-10T07:16:12.380Z"
   },
   {
    "duration": 190,
    "start_time": "2022-10-10T07:16:43.780Z"
   },
   {
    "duration": 312,
    "start_time": "2022-10-10T07:18:20.493Z"
   },
   {
    "duration": 249,
    "start_time": "2022-10-10T07:18:30.091Z"
   },
   {
    "duration": 201,
    "start_time": "2022-10-10T07:18:35.960Z"
   },
   {
    "duration": 205,
    "start_time": "2022-10-10T07:19:07.222Z"
   },
   {
    "duration": 176,
    "start_time": "2022-10-10T07:19:40.472Z"
   },
   {
    "duration": 169,
    "start_time": "2022-10-10T07:19:49.192Z"
   },
   {
    "duration": 193,
    "start_time": "2022-10-10T07:19:59.079Z"
   },
   {
    "duration": 204,
    "start_time": "2022-10-10T07:20:08.012Z"
   },
   {
    "duration": 205,
    "start_time": "2022-10-10T07:20:16.412Z"
   },
   {
    "duration": 204,
    "start_time": "2022-10-10T07:20:48.962Z"
   },
   {
    "duration": 214,
    "start_time": "2022-10-10T07:21:01.300Z"
   },
   {
    "duration": 305,
    "start_time": "2022-10-10T07:21:54.633Z"
   },
   {
    "duration": 10,
    "start_time": "2022-10-10T09:50:48.526Z"
   },
   {
    "duration": 8,
    "start_time": "2022-10-10T09:51:42.926Z"
   },
   {
    "duration": 4,
    "start_time": "2022-10-10T09:52:00.577Z"
   },
   {
    "duration": 3,
    "start_time": "2022-10-10T09:52:05.406Z"
   },
   {
    "duration": 4,
    "start_time": "2022-10-10T09:52:09.985Z"
   },
   {
    "duration": 3,
    "start_time": "2022-10-10T09:52:13.047Z"
   },
   {
    "duration": 4,
    "start_time": "2022-10-10T09:52:16.426Z"
   },
   {
    "duration": 6,
    "start_time": "2022-10-10T09:52:19.248Z"
   },
   {
    "duration": 3,
    "start_time": "2022-10-10T09:56:05.786Z"
   },
   {
    "duration": 46,
    "start_time": "2022-10-10T09:56:08.250Z"
   },
   {
    "duration": 4,
    "start_time": "2022-10-10T09:57:08.786Z"
   },
   {
    "duration": 4,
    "start_time": "2022-10-10T09:57:12.719Z"
   },
   {
    "duration": 5,
    "start_time": "2022-10-10T09:57:16.044Z"
   },
   {
    "duration": 3,
    "start_time": "2022-10-10T09:57:56.388Z"
   },
   {
    "duration": 8,
    "start_time": "2022-10-10T09:58:00.337Z"
   },
   {
    "duration": 4,
    "start_time": "2022-10-10T10:07:55.115Z"
   },
   {
    "duration": 9,
    "start_time": "2022-10-10T10:07:57.438Z"
   },
   {
    "duration": 429,
    "start_time": "2022-10-10T10:08:09.718Z"
   },
   {
    "duration": 4,
    "start_time": "2022-10-10T10:08:14.106Z"
   },
   {
    "duration": 8,
    "start_time": "2022-10-10T10:08:16.346Z"
   },
   {
    "duration": 7,
    "start_time": "2022-10-10T10:09:23.807Z"
   },
   {
    "duration": 8,
    "start_time": "2022-10-10T10:09:52.217Z"
   },
   {
    "duration": 3,
    "start_time": "2022-10-10T10:10:31.866Z"
   },
   {
    "duration": 5,
    "start_time": "2022-10-10T10:10:37.677Z"
   },
   {
    "duration": 3,
    "start_time": "2022-10-10T10:11:02.805Z"
   },
   {
    "duration": 6,
    "start_time": "2022-10-10T10:11:05.525Z"
   },
   {
    "duration": 62,
    "start_time": "2022-10-10T10:11:17.032Z"
   },
   {
    "duration": 5,
    "start_time": "2022-10-10T10:15:47.255Z"
   },
   {
    "duration": 6,
    "start_time": "2022-10-10T10:15:49.475Z"
   },
   {
    "duration": 4,
    "start_time": "2022-10-10T10:16:00.155Z"
   },
   {
    "duration": 5,
    "start_time": "2022-10-10T10:16:02.570Z"
   },
   {
    "duration": 3,
    "start_time": "2022-10-10T10:17:03.812Z"
   },
   {
    "duration": 6,
    "start_time": "2022-10-10T10:17:07.164Z"
   },
   {
    "duration": 3,
    "start_time": "2022-10-10T10:17:14.735Z"
   },
   {
    "duration": 6,
    "start_time": "2022-10-10T10:17:17.085Z"
   },
   {
    "duration": 6,
    "start_time": "2022-10-10T10:17:27.044Z"
   },
   {
    "duration": 5,
    "start_time": "2022-10-10T10:17:31.184Z"
   },
   {
    "duration": 3,
    "start_time": "2022-10-10T10:19:02.375Z"
   },
   {
    "duration": 6,
    "start_time": "2022-10-10T10:19:04.744Z"
   },
   {
    "duration": 1199,
    "start_time": "2022-10-10T10:27:36.673Z"
   },
   {
    "duration": 3135,
    "start_time": "2022-10-10T10:27:37.875Z"
   },
   {
    "duration": 15,
    "start_time": "2022-10-10T10:27:41.012Z"
   },
   {
    "duration": 27,
    "start_time": "2022-10-10T10:27:41.030Z"
   },
   {
    "duration": 62,
    "start_time": "2022-10-10T10:27:41.059Z"
   },
   {
    "duration": 29,
    "start_time": "2022-10-10T10:27:41.123Z"
   },
   {
    "duration": 10,
    "start_time": "2022-10-10T10:27:41.154Z"
   },
   {
    "duration": 45,
    "start_time": "2022-10-10T10:27:41.166Z"
   },
   {
    "duration": 609,
    "start_time": "2022-10-10T10:27:41.213Z"
   },
   {
    "duration": 220,
    "start_time": "2022-10-10T10:27:41.825Z"
   },
   {
    "duration": 219,
    "start_time": "2022-10-10T10:27:42.047Z"
   },
   {
    "duration": 202,
    "start_time": "2022-10-10T10:27:42.268Z"
   },
   {
    "duration": 3,
    "start_time": "2022-10-10T10:27:42.472Z"
   },
   {
    "duration": 358,
    "start_time": "2022-10-10T10:28:08.820Z"
   },
   {
    "duration": 4,
    "start_time": "2022-10-10T11:05:21.202Z"
   },
   {
    "duration": 704,
    "start_time": "2022-10-10T11:05:21.208Z"
   },
   {
    "duration": 29,
    "start_time": "2022-10-10T11:05:21.914Z"
   },
   {
    "duration": 15,
    "start_time": "2022-10-10T11:05:21.946Z"
   },
   {
    "duration": 54,
    "start_time": "2022-10-10T11:05:21.964Z"
   },
   {
    "duration": 16,
    "start_time": "2022-10-10T11:05:22.039Z"
   },
   {
    "duration": 9,
    "start_time": "2022-10-10T11:05:22.057Z"
   },
   {
    "duration": 5,
    "start_time": "2022-10-10T11:05:22.068Z"
   },
   {
    "duration": 656,
    "start_time": "2022-10-10T11:05:22.076Z"
   },
   {
    "duration": 231,
    "start_time": "2022-10-10T11:05:22.734Z"
   },
   {
    "duration": 157,
    "start_time": "2022-10-10T11:05:22.967Z"
   },
   {
    "duration": 212,
    "start_time": "2022-10-10T11:05:23.126Z"
   },
   {
    "duration": 3,
    "start_time": "2022-10-10T11:05:23.340Z"
   },
   {
    "duration": 349,
    "start_time": "2022-10-10T11:05:39.969Z"
   },
   {
    "duration": 5,
    "start_time": "2022-10-10T11:09:14.769Z"
   },
   {
    "duration": 677,
    "start_time": "2022-10-10T11:09:14.778Z"
   },
   {
    "duration": 14,
    "start_time": "2022-10-10T11:09:15.457Z"
   },
   {
    "duration": 11,
    "start_time": "2022-10-10T11:09:15.473Z"
   },
   {
    "duration": 69,
    "start_time": "2022-10-10T11:09:15.486Z"
   },
   {
    "duration": 14,
    "start_time": "2022-10-10T11:09:15.557Z"
   },
   {
    "duration": 6,
    "start_time": "2022-10-10T11:09:15.573Z"
   },
   {
    "duration": 4,
    "start_time": "2022-10-10T11:09:15.581Z"
   },
   {
    "duration": 713,
    "start_time": "2022-10-10T11:09:15.587Z"
   },
   {
    "duration": 241,
    "start_time": "2022-10-10T11:09:16.302Z"
   },
   {
    "duration": 144,
    "start_time": "2022-10-10T11:09:16.545Z"
   },
   {
    "duration": 209,
    "start_time": "2022-10-10T11:09:16.691Z"
   },
   {
    "duration": 3,
    "start_time": "2022-10-10T11:09:16.902Z"
   },
   {
    "duration": 343,
    "start_time": "2022-10-10T11:09:22.186Z"
   },
   {
    "duration": 4,
    "start_time": "2022-10-10T11:14:53.849Z"
   },
   {
    "duration": 725,
    "start_time": "2022-10-10T11:14:53.858Z"
   },
   {
    "duration": 14,
    "start_time": "2022-10-10T11:14:54.586Z"
   },
   {
    "duration": 9,
    "start_time": "2022-10-10T11:14:54.602Z"
   },
   {
    "duration": 68,
    "start_time": "2022-10-10T11:14:54.613Z"
   },
   {
    "duration": 19,
    "start_time": "2022-10-10T11:14:54.684Z"
   },
   {
    "duration": 36,
    "start_time": "2022-10-10T11:14:54.704Z"
   },
   {
    "duration": 5,
    "start_time": "2022-10-10T11:15:04.930Z"
   },
   {
    "duration": 5,
    "start_time": "2022-10-10T11:15:31.438Z"
   },
   {
    "duration": 6,
    "start_time": "2022-10-10T11:20:52.258Z"
   },
   {
    "duration": 5,
    "start_time": "2022-10-10T11:22:02.378Z"
   },
   {
    "duration": 5,
    "start_time": "2022-10-10T11:23:29.098Z"
   },
   {
    "duration": 4,
    "start_time": "2022-10-10T11:23:49.779Z"
   },
   {
    "duration": 4,
    "start_time": "2022-10-10T11:27:07.138Z"
   },
   {
    "duration": 747,
    "start_time": "2022-10-10T11:27:07.144Z"
   },
   {
    "duration": 16,
    "start_time": "2022-10-10T11:27:07.893Z"
   },
   {
    "duration": 12,
    "start_time": "2022-10-10T11:27:07.911Z"
   },
   {
    "duration": 55,
    "start_time": "2022-10-10T11:27:07.938Z"
   },
   {
    "duration": 15,
    "start_time": "2022-10-10T11:27:07.994Z"
   },
   {
    "duration": 30,
    "start_time": "2022-10-10T11:27:08.010Z"
   },
   {
    "duration": 5,
    "start_time": "2022-10-10T11:27:14.867Z"
   },
   {
    "duration": 3,
    "start_time": "2022-10-10T11:27:52.109Z"
   },
   {
    "duration": 343,
    "start_time": "2022-10-10T11:28:08.567Z"
   },
   {
    "duration": 20,
    "start_time": "2022-10-10T11:42:53.728Z"
   },
   {
    "duration": 88,
    "start_time": "2022-10-10T11:43:38.572Z"
   },
   {
    "duration": 5,
    "start_time": "2022-10-10T11:43:42.119Z"
   },
   {
    "duration": 4,
    "start_time": "2022-10-10T11:43:52.939Z"
   },
   {
    "duration": 4,
    "start_time": "2022-10-10T11:44:04.440Z"
   },
   {
    "duration": 4,
    "start_time": "2022-10-10T11:44:13.371Z"
   },
   {
    "duration": 5,
    "start_time": "2022-10-10T11:44:28.199Z"
   },
   {
    "duration": 4,
    "start_time": "2022-10-10T11:44:40.078Z"
   },
   {
    "duration": 5,
    "start_time": "2022-10-10T11:44:52.700Z"
   },
   {
    "duration": 4,
    "start_time": "2022-10-10T11:45:02.160Z"
   },
   {
    "duration": 42,
    "start_time": "2022-10-10T14:14:03.782Z"
   },
   {
    "duration": 1464,
    "start_time": "2022-10-10T14:14:11.211Z"
   },
   {
    "duration": 3048,
    "start_time": "2022-10-10T14:14:12.677Z"
   },
   {
    "duration": 14,
    "start_time": "2022-10-10T14:14:15.727Z"
   },
   {
    "duration": 18,
    "start_time": "2022-10-10T14:14:15.742Z"
   },
   {
    "duration": 54,
    "start_time": "2022-10-10T14:14:15.761Z"
   },
   {
    "duration": 18,
    "start_time": "2022-10-10T14:14:15.817Z"
   },
   {
    "duration": 6,
    "start_time": "2022-10-10T14:14:15.836Z"
   },
   {
    "duration": 25,
    "start_time": "2022-10-10T14:14:15.844Z"
   },
   {
    "duration": 547,
    "start_time": "2022-10-10T14:14:15.871Z"
   },
   {
    "duration": 190,
    "start_time": "2022-10-10T14:14:16.421Z"
   },
   {
    "duration": 183,
    "start_time": "2022-10-10T14:14:16.612Z"
   },
   {
    "duration": 163,
    "start_time": "2022-10-10T14:14:16.800Z"
   },
   {
    "duration": 2,
    "start_time": "2022-10-10T14:14:16.965Z"
   },
   {
    "duration": 298,
    "start_time": "2022-10-10T14:14:16.969Z"
   },
   {
    "duration": 32,
    "start_time": "2022-10-10T14:14:17.269Z"
   },
   {
    "duration": 192,
    "start_time": "2022-10-10T14:14:17.302Z"
   },
   {
    "duration": 0,
    "start_time": "2022-10-10T14:14:17.496Z"
   },
   {
    "duration": 7,
    "start_time": "2022-10-10T14:16:46.690Z"
   },
   {
    "duration": 5,
    "start_time": "2022-10-10T14:17:06.202Z"
   },
   {
    "duration": 26,
    "start_time": "2022-10-10T14:18:02.521Z"
   },
   {
    "duration": 21,
    "start_time": "2022-10-10T14:19:20.939Z"
   },
   {
    "duration": 24,
    "start_time": "2022-10-10T14:19:29.789Z"
   },
   {
    "duration": 22,
    "start_time": "2022-10-10T14:19:38.997Z"
   },
   {
    "duration": 17,
    "start_time": "2022-10-10T14:19:46.059Z"
   },
   {
    "duration": 16,
    "start_time": "2022-10-10T14:20:02.731Z"
   },
   {
    "duration": 10,
    "start_time": "2022-10-10T14:25:33.798Z"
   },
   {
    "duration": 3,
    "start_time": "2022-10-10T14:26:46.042Z"
   },
   {
    "duration": 913,
    "start_time": "2022-10-10T14:26:59.699Z"
   },
   {
    "duration": 1382,
    "start_time": "2022-10-10T14:28:52.027Z"
   },
   {
    "duration": 1811,
    "start_time": "2022-10-10T14:29:50.491Z"
   },
   {
    "duration": 887,
    "start_time": "2022-10-10T14:31:32.522Z"
   },
   {
    "duration": 1249,
    "start_time": "2022-10-10T14:45:17.560Z"
   },
   {
    "duration": 12,
    "start_time": "2022-10-10T14:46:39.769Z"
   },
   {
    "duration": 6,
    "start_time": "2022-10-10T14:47:07.628Z"
   },
   {
    "duration": 6,
    "start_time": "2022-10-10T14:47:18.986Z"
   },
   {
    "duration": 1764,
    "start_time": "2022-10-10T14:50:05.737Z"
   },
   {
    "duration": 910,
    "start_time": "2022-10-10T14:54:36.796Z"
   },
   {
    "duration": 1673,
    "start_time": "2022-10-10T14:55:05.426Z"
   },
   {
    "duration": 6,
    "start_time": "2022-10-10T14:57:10.908Z"
   },
   {
    "duration": 5,
    "start_time": "2022-10-10T14:57:15.129Z"
   },
   {
    "duration": 5,
    "start_time": "2022-10-10T14:57:18.468Z"
   },
   {
    "duration": 7,
    "start_time": "2022-10-10T14:57:24.208Z"
   },
   {
    "duration": 6,
    "start_time": "2022-10-10T14:57:26.619Z"
   },
   {
    "duration": 6,
    "start_time": "2022-10-10T14:57:29.248Z"
   },
   {
    "duration": 7,
    "start_time": "2022-10-10T14:57:39.000Z"
   },
   {
    "duration": 5,
    "start_time": "2022-10-10T14:57:44.906Z"
   },
   {
    "duration": 6,
    "start_time": "2022-10-10T14:57:48.608Z"
   },
   {
    "duration": 6,
    "start_time": "2022-10-10T14:57:56.879Z"
   },
   {
    "duration": 6,
    "start_time": "2022-10-10T14:58:01.219Z"
   },
   {
    "duration": 7,
    "start_time": "2022-10-10T14:58:04.799Z"
   },
   {
    "duration": 6,
    "start_time": "2022-10-10T14:58:09.849Z"
   },
   {
    "duration": 7,
    "start_time": "2022-10-10T14:58:13.388Z"
   },
   {
    "duration": 6,
    "start_time": "2022-10-10T14:58:18.939Z"
   },
   {
    "duration": 6,
    "start_time": "2022-10-10T14:58:39.178Z"
   },
   {
    "duration": 2013,
    "start_time": "2022-10-10T15:12:50.788Z"
   },
   {
    "duration": 560,
    "start_time": "2022-10-10T15:16:27.848Z"
   },
   {
    "duration": 213,
    "start_time": "2022-10-10T15:16:43.889Z"
   },
   {
    "duration": 187,
    "start_time": "2022-10-10T15:18:30.020Z"
   },
   {
    "duration": 204,
    "start_time": "2022-10-10T15:19:57.809Z"
   },
   {
    "duration": 297,
    "start_time": "2022-10-10T15:20:32.409Z"
   },
   {
    "duration": 401,
    "start_time": "2022-10-10T15:20:54.309Z"
   },
   {
    "duration": 6,
    "start_time": "2022-10-10T15:21:18.730Z"
   },
   {
    "duration": 6,
    "start_time": "2022-10-10T15:21:39.320Z"
   },
   {
    "duration": 5,
    "start_time": "2022-10-10T16:06:18.000Z"
   },
   {
    "duration": 1126,
    "start_time": "2022-10-10T16:07:39.075Z"
   },
   {
    "duration": 139542,
    "start_time": "2022-10-10T16:18:06.359Z"
   },
   {
    "duration": 215202,
    "start_time": "2022-10-10T16:26:21.848Z"
   },
   {
    "duration": 3,
    "start_time": "2022-10-10T16:33:33.389Z"
   },
   {
    "duration": 3,
    "start_time": "2022-10-10T16:36:37.820Z"
   },
   {
    "duration": 5,
    "start_time": "2022-10-10T16:36:39.889Z"
   },
   {
    "duration": 5,
    "start_time": "2022-10-10T16:36:59.309Z"
   },
   {
    "duration": 5,
    "start_time": "2022-10-10T16:37:10.988Z"
   },
   {
    "duration": 5,
    "start_time": "2022-10-10T16:37:16.128Z"
   },
   {
    "duration": 6,
    "start_time": "2022-10-10T16:37:21.016Z"
   },
   {
    "duration": 4,
    "start_time": "2022-10-10T16:37:46.569Z"
   },
   {
    "duration": 5,
    "start_time": "2022-10-10T16:37:48.689Z"
   },
   {
    "duration": 12,
    "start_time": "2022-10-10T16:39:35.569Z"
   },
   {
    "duration": 13,
    "start_time": "2022-10-10T16:43:14.868Z"
   },
   {
    "duration": 8749,
    "start_time": "2022-10-10T16:45:09.817Z"
   },
   {
    "duration": 8256,
    "start_time": "2022-10-10T16:46:07.268Z"
   },
   {
    "duration": 58,
    "start_time": "2022-10-10T16:53:40.729Z"
   },
   {
    "duration": 7,
    "start_time": "2022-10-10T16:53:51.029Z"
   },
   {
    "duration": 11,
    "start_time": "2022-10-10T16:54:21.601Z"
   },
   {
    "duration": 96,
    "start_time": "2022-10-10T16:54:40.429Z"
   },
   {
    "duration": 9,
    "start_time": "2022-10-10T16:54:57.721Z"
   },
   {
    "duration": 10,
    "start_time": "2022-10-10T16:57:19.821Z"
   },
   {
    "duration": 15,
    "start_time": "2022-10-10T16:57:38.209Z"
   },
   {
    "duration": 11,
    "start_time": "2022-10-10T17:02:05.648Z"
   },
   {
    "duration": 3,
    "start_time": "2022-10-10T17:02:51.821Z"
   },
   {
    "duration": 6,
    "start_time": "2022-10-10T17:03:11.281Z"
   },
   {
    "duration": 17,
    "start_time": "2022-10-10T17:04:21.281Z"
   },
   {
    "duration": 17,
    "start_time": "2022-10-10T17:05:06.349Z"
   },
   {
    "duration": 16,
    "start_time": "2022-10-10T17:05:18.941Z"
   },
   {
    "duration": 3,
    "start_time": "2022-10-10T17:07:21.249Z"
   },
   {
    "duration": 17,
    "start_time": "2022-10-10T17:08:09.081Z"
   },
   {
    "duration": 15,
    "start_time": "2022-10-10T17:09:17.937Z"
   },
   {
    "duration": 4,
    "start_time": "2022-10-10T17:22:47.869Z"
   },
   {
    "duration": 15,
    "start_time": "2022-10-10T17:22:55.989Z"
   },
   {
    "duration": 3,
    "start_time": "2022-10-10T17:25:31.461Z"
   },
   {
    "duration": 12985,
    "start_time": "2022-10-10T17:34:21.908Z"
   },
   {
    "duration": 4,
    "start_time": "2022-10-10T17:35:00.109Z"
   },
   {
    "duration": 5,
    "start_time": "2022-10-10T17:35:09.640Z"
   },
   {
    "duration": 5,
    "start_time": "2022-10-10T17:35:26.549Z"
   },
   {
    "duration": 5,
    "start_time": "2022-10-10T17:35:38.716Z"
   },
   {
    "duration": 139442,
    "start_time": "2022-10-10T17:43:38.228Z"
   },
   {
    "duration": 193645,
    "start_time": "2022-10-10T17:49:21.441Z"
   },
   {
    "duration": 3,
    "start_time": "2022-10-10T17:53:18.289Z"
   },
   {
    "duration": 1429,
    "start_time": "2022-10-11T15:22:38.498Z"
   },
   {
    "duration": 3188,
    "start_time": "2022-10-11T15:22:39.929Z"
   },
   {
    "duration": 14,
    "start_time": "2022-10-11T15:22:43.118Z"
   },
   {
    "duration": 13,
    "start_time": "2022-10-11T15:22:43.134Z"
   },
   {
    "duration": 53,
    "start_time": "2022-10-11T15:22:43.148Z"
   },
   {
    "duration": 19,
    "start_time": "2022-10-11T15:22:43.202Z"
   },
   {
    "duration": 5,
    "start_time": "2022-10-11T15:22:43.223Z"
   },
   {
    "duration": 6,
    "start_time": "2022-10-11T15:22:43.229Z"
   },
   {
    "duration": 582,
    "start_time": "2022-10-11T15:22:43.237Z"
   },
   {
    "duration": 195,
    "start_time": "2022-10-11T15:22:43.821Z"
   },
   {
    "duration": 140,
    "start_time": "2022-10-11T15:22:44.017Z"
   },
   {
    "duration": 244,
    "start_time": "2022-10-11T15:22:44.159Z"
   },
   {
    "duration": 4,
    "start_time": "2022-10-11T15:22:44.405Z"
   },
   {
    "duration": 171,
    "start_time": "2022-10-11T15:23:08.233Z"
   },
   {
    "duration": 3,
    "start_time": "2022-10-11T15:26:25.266Z"
   },
   {
    "duration": 8,
    "start_time": "2022-10-11T15:26:28.675Z"
   },
   {
    "duration": 7,
    "start_time": "2022-10-11T15:26:39.902Z"
   },
   {
    "duration": 15,
    "start_time": "2022-10-11T15:27:08.222Z"
   },
   {
    "duration": 12,
    "start_time": "2022-10-11T15:27:17.685Z"
   },
   {
    "duration": 13,
    "start_time": "2022-10-11T15:27:25.496Z"
   },
   {
    "duration": 26,
    "start_time": "2022-10-11T15:28:15.715Z"
   },
   {
    "duration": 10,
    "start_time": "2022-10-11T15:28:23.724Z"
   },
   {
    "duration": 10,
    "start_time": "2022-10-11T15:28:33.805Z"
   },
   {
    "duration": 5531,
    "start_time": "2022-10-11T15:28:55.545Z"
   },
   {
    "duration": 5377,
    "start_time": "2022-10-11T15:29:19.376Z"
   },
   {
    "duration": 10,
    "start_time": "2022-10-11T15:29:38.356Z"
   },
   {
    "duration": 107,
    "start_time": "2022-10-11T15:29:59.103Z"
   },
   {
    "duration": 16,
    "start_time": "2022-10-11T15:30:25.392Z"
   },
   {
    "duration": 36,
    "start_time": "2022-10-11T15:30:41.816Z"
   },
   {
    "duration": 39,
    "start_time": "2022-10-11T15:31:05.203Z"
   },
   {
    "duration": 34,
    "start_time": "2022-10-11T15:36:24.756Z"
   },
   {
    "duration": 96,
    "start_time": "2022-10-11T15:37:02.161Z"
   },
   {
    "duration": 43,
    "start_time": "2022-10-11T15:37:33.433Z"
   },
   {
    "duration": 26,
    "start_time": "2022-10-11T15:38:15.464Z"
   },
   {
    "duration": 5,
    "start_time": "2022-10-11T15:38:22.864Z"
   },
   {
    "duration": 9,
    "start_time": "2022-10-11T15:39:11.264Z"
   },
   {
    "duration": 9,
    "start_time": "2022-10-11T15:39:19.805Z"
   },
   {
    "duration": 5,
    "start_time": "2022-10-11T15:39:25.335Z"
   },
   {
    "duration": 6,
    "start_time": "2022-10-11T15:39:57.992Z"
   },
   {
    "duration": 4,
    "start_time": "2022-10-11T15:40:08.544Z"
   },
   {
    "duration": 1505,
    "start_time": "2022-10-12T03:53:42.396Z"
   },
   {
    "duration": 2789,
    "start_time": "2022-10-12T03:53:43.903Z"
   },
   {
    "duration": 14,
    "start_time": "2022-10-12T03:53:46.694Z"
   },
   {
    "duration": 14,
    "start_time": "2022-10-12T03:53:46.710Z"
   },
   {
    "duration": 48,
    "start_time": "2022-10-12T03:53:46.726Z"
   },
   {
    "duration": 35,
    "start_time": "2022-10-12T03:53:46.776Z"
   },
   {
    "duration": 6,
    "start_time": "2022-10-12T03:53:46.813Z"
   },
   {
    "duration": 6,
    "start_time": "2022-10-12T03:53:46.821Z"
   },
   {
    "duration": 562,
    "start_time": "2022-10-12T03:53:46.829Z"
   },
   {
    "duration": 200,
    "start_time": "2022-10-12T03:53:47.393Z"
   },
   {
    "duration": 129,
    "start_time": "2022-10-12T03:53:47.594Z"
   },
   {
    "duration": 4,
    "start_time": "2022-10-12T03:55:17.176Z"
   },
   {
    "duration": 11,
    "start_time": "2022-10-12T03:57:13.496Z"
   },
   {
    "duration": 12,
    "start_time": "2022-10-12T03:58:33.984Z"
   },
   {
    "duration": 3,
    "start_time": "2022-10-12T04:12:08.996Z"
   },
   {
    "duration": 143,
    "start_time": "2022-10-12T04:12:20.456Z"
   },
   {
    "duration": 14,
    "start_time": "2022-10-12T04:13:01.536Z"
   },
   {
    "duration": 23,
    "start_time": "2022-10-12T04:21:14.936Z"
   },
   {
    "duration": 71,
    "start_time": "2022-10-12T04:23:59.755Z"
   },
   {
    "duration": 16,
    "start_time": "2022-10-12T04:24:18.428Z"
   },
   {
    "duration": 14,
    "start_time": "2022-10-12T04:24:46.935Z"
   },
   {
    "duration": 14,
    "start_time": "2022-10-12T04:32:22.375Z"
   },
   {
    "duration": 11,
    "start_time": "2022-10-12T04:32:50.084Z"
   },
   {
    "duration": 10,
    "start_time": "2022-10-12T04:33:04.076Z"
   },
   {
    "duration": 13,
    "start_time": "2022-10-12T04:33:29.035Z"
   },
   {
    "duration": 41,
    "start_time": "2022-10-12T04:33:40.316Z"
   },
   {
    "duration": 14,
    "start_time": "2022-10-12T04:33:44.655Z"
   },
   {
    "duration": 12,
    "start_time": "2022-10-12T04:33:59.655Z"
   },
   {
    "duration": 10,
    "start_time": "2022-10-12T04:34:05.535Z"
   },
   {
    "duration": 10,
    "start_time": "2022-10-12T04:34:10.755Z"
   },
   {
    "duration": 50,
    "start_time": "2022-10-12T04:34:40.435Z"
   },
   {
    "duration": 55,
    "start_time": "2022-10-12T04:34:49.776Z"
   },
   {
    "duration": 121,
    "start_time": "2022-10-12T04:35:02.096Z"
   },
   {
    "duration": 13,
    "start_time": "2022-10-12T04:35:11.688Z"
   },
   {
    "duration": 12,
    "start_time": "2022-10-12T04:36:36.695Z"
   },
   {
    "duration": 12,
    "start_time": "2022-10-12T04:36:49.248Z"
   },
   {
    "duration": 16,
    "start_time": "2022-10-12T04:49:07.336Z"
   },
   {
    "duration": 69,
    "start_time": "2022-10-12T04:52:11.048Z"
   },
   {
    "duration": 63,
    "start_time": "2022-10-12T04:53:28.756Z"
   },
   {
    "duration": 59,
    "start_time": "2022-10-12T04:53:40.056Z"
   },
   {
    "duration": 80,
    "start_time": "2022-10-12T04:53:59.108Z"
   },
   {
    "duration": 132,
    "start_time": "2022-10-12T04:58:25.767Z"
   },
   {
    "duration": 4,
    "start_time": "2022-10-12T04:58:32.329Z"
   },
   {
    "duration": 624,
    "start_time": "2022-10-12T04:58:32.336Z"
   },
   {
    "duration": 16,
    "start_time": "2022-10-12T04:58:32.962Z"
   },
   {
    "duration": 7,
    "start_time": "2022-10-12T04:58:32.980Z"
   },
   {
    "duration": 59,
    "start_time": "2022-10-12T04:58:32.989Z"
   },
   {
    "duration": 15,
    "start_time": "2022-10-12T04:58:33.050Z"
   },
   {
    "duration": 6,
    "start_time": "2022-10-12T04:58:33.067Z"
   },
   {
    "duration": 35,
    "start_time": "2022-10-12T04:58:33.074Z"
   },
   {
    "duration": 541,
    "start_time": "2022-10-12T04:58:33.110Z"
   },
   {
    "duration": 220,
    "start_time": "2022-10-12T04:58:33.652Z"
   },
   {
    "duration": 147,
    "start_time": "2022-10-12T04:58:33.873Z"
   },
   {
    "duration": 179,
    "start_time": "2022-10-12T04:58:34.022Z"
   },
   {
    "duration": 69,
    "start_time": "2022-10-12T04:58:38.516Z"
   },
   {
    "duration": 69,
    "start_time": "2022-10-12T04:59:10.075Z"
   },
   {
    "duration": 128,
    "start_time": "2022-10-12T04:59:34.848Z"
   },
   {
    "duration": 3,
    "start_time": "2022-10-12T05:03:29.488Z"
   },
   {
    "duration": 644,
    "start_time": "2022-10-12T05:03:29.495Z"
   },
   {
    "duration": 13,
    "start_time": "2022-10-12T05:03:30.140Z"
   },
   {
    "duration": 17,
    "start_time": "2022-10-12T05:03:30.154Z"
   },
   {
    "duration": 57,
    "start_time": "2022-10-12T05:03:30.172Z"
   },
   {
    "duration": 12,
    "start_time": "2022-10-12T05:03:30.231Z"
   },
   {
    "duration": 12,
    "start_time": "2022-10-12T05:03:30.244Z"
   },
   {
    "duration": 26,
    "start_time": "2022-10-12T05:03:30.257Z"
   },
   {
    "duration": 521,
    "start_time": "2022-10-12T05:03:30.284Z"
   },
   {
    "duration": 201,
    "start_time": "2022-10-12T05:03:30.808Z"
   },
   {
    "duration": 131,
    "start_time": "2022-10-12T05:03:31.011Z"
   },
   {
    "duration": 191,
    "start_time": "2022-10-12T05:03:31.144Z"
   },
   {
    "duration": 202,
    "start_time": "2022-10-12T05:03:36.896Z"
   },
   {
    "duration": 123,
    "start_time": "2022-10-12T05:03:57.063Z"
   },
   {
    "duration": 117,
    "start_time": "2022-10-12T05:04:25.456Z"
   },
   {
    "duration": 1372,
    "start_time": "2022-10-12T08:51:36.315Z"
   },
   {
    "duration": 2758,
    "start_time": "2022-10-12T08:51:37.689Z"
   },
   {
    "duration": 13,
    "start_time": "2022-10-12T08:51:40.449Z"
   },
   {
    "duration": 17,
    "start_time": "2022-10-12T08:51:40.464Z"
   },
   {
    "duration": 54,
    "start_time": "2022-10-12T08:51:40.482Z"
   },
   {
    "duration": 18,
    "start_time": "2022-10-12T08:51:40.537Z"
   },
   {
    "duration": 5,
    "start_time": "2022-10-12T08:51:40.557Z"
   },
   {
    "duration": 7,
    "start_time": "2022-10-12T08:51:40.564Z"
   },
   {
    "duration": 546,
    "start_time": "2022-10-12T08:51:40.572Z"
   },
   {
    "duration": 193,
    "start_time": "2022-10-12T08:51:41.120Z"
   },
   {
    "duration": 181,
    "start_time": "2022-10-12T08:51:41.314Z"
   },
   {
    "duration": 179,
    "start_time": "2022-10-12T08:51:41.496Z"
   },
   {
    "duration": 119,
    "start_time": "2022-10-12T08:51:41.676Z"
   },
   {
    "duration": 3,
    "start_time": "2022-10-12T08:51:41.797Z"
   },
   {
    "duration": 283,
    "start_time": "2022-10-12T08:51:57.107Z"
   },
   {
    "duration": 4,
    "start_time": "2022-10-12T08:53:28.928Z"
   },
   {
    "duration": 649,
    "start_time": "2022-10-12T08:53:28.937Z"
   },
   {
    "duration": 13,
    "start_time": "2022-10-12T08:53:29.588Z"
   },
   {
    "duration": 12,
    "start_time": "2022-10-12T08:53:29.602Z"
   },
   {
    "duration": 45,
    "start_time": "2022-10-12T08:53:29.622Z"
   },
   {
    "duration": 13,
    "start_time": "2022-10-12T08:53:29.669Z"
   },
   {
    "duration": 5,
    "start_time": "2022-10-12T08:53:29.684Z"
   },
   {
    "duration": 31,
    "start_time": "2022-10-12T08:53:29.691Z"
   },
   {
    "duration": 507,
    "start_time": "2022-10-12T08:53:29.724Z"
   },
   {
    "duration": 277,
    "start_time": "2022-10-12T08:53:30.232Z"
   },
   {
    "duration": 129,
    "start_time": "2022-10-12T08:53:30.511Z"
   },
   {
    "duration": 174,
    "start_time": "2022-10-12T08:53:30.642Z"
   },
   {
    "duration": 120,
    "start_time": "2022-10-12T08:53:30.822Z"
   },
   {
    "duration": 3,
    "start_time": "2022-10-12T08:53:30.944Z"
   },
   {
    "duration": 141,
    "start_time": "2022-10-12T08:53:35.306Z"
   },
   {
    "duration": 156,
    "start_time": "2022-10-12T09:00:03.887Z"
   },
   {
    "duration": 60,
    "start_time": "2022-10-12T09:01:52.155Z"
   },
   {
    "duration": 19,
    "start_time": "2022-10-12T09:02:30.024Z"
   },
   {
    "duration": 23,
    "start_time": "2022-10-12T09:02:38.336Z"
   },
   {
    "duration": 1887,
    "start_time": "2022-10-12T09:03:11.943Z"
   },
   {
    "duration": 15058,
    "start_time": "2022-10-12T09:05:54.804Z"
   },
   {
    "duration": 14947,
    "start_time": "2022-10-12T09:13:01.504Z"
   },
   {
    "duration": 165353,
    "start_time": "2022-10-12T09:16:41.475Z"
   },
   {
    "duration": 237624,
    "start_time": "2022-10-12T09:20:49.976Z"
   },
   {
    "duration": 2,
    "start_time": "2022-10-12T09:27:31.156Z"
   },
   {
    "duration": 45,
    "start_time": "2022-10-12T09:29:32.007Z"
   },
   {
    "duration": 3,
    "start_time": "2022-10-12T09:29:39.138Z"
   },
   {
    "duration": 386,
    "start_time": "2022-10-12T09:32:02.137Z"
   },
   {
    "duration": 408,
    "start_time": "2022-10-12T09:32:20.415Z"
   },
   {
    "duration": 4,
    "start_time": "2022-10-12T09:32:34.355Z"
   },
   {
    "duration": 674,
    "start_time": "2022-10-12T09:32:34.363Z"
   },
   {
    "duration": 12,
    "start_time": "2022-10-12T09:32:35.039Z"
   },
   {
    "duration": 17,
    "start_time": "2022-10-12T09:32:35.052Z"
   },
   {
    "duration": 70,
    "start_time": "2022-10-12T09:32:35.070Z"
   },
   {
    "duration": 17,
    "start_time": "2022-10-12T09:32:35.142Z"
   },
   {
    "duration": 37,
    "start_time": "2022-10-12T09:32:35.160Z"
   },
   {
    "duration": 27,
    "start_time": "2022-10-12T09:32:35.199Z"
   },
   {
    "duration": 549,
    "start_time": "2022-10-12T09:32:35.228Z"
   },
   {
    "duration": 202,
    "start_time": "2022-10-12T09:32:35.779Z"
   },
   {
    "duration": 142,
    "start_time": "2022-10-12T09:32:35.982Z"
   },
   {
    "duration": 181,
    "start_time": "2022-10-12T09:32:36.125Z"
   },
   {
    "duration": 125,
    "start_time": "2022-10-12T09:32:36.308Z"
   },
   {
    "duration": 4,
    "start_time": "2022-10-12T09:32:36.434Z"
   },
   {
    "duration": 163,
    "start_time": "2022-10-12T09:32:36.440Z"
   },
   {
    "duration": 231,
    "start_time": "2022-10-12T09:32:36.604Z"
   },
   {
    "duration": 18,
    "start_time": "2022-10-12T09:32:36.837Z"
   },
   {
    "duration": 47,
    "start_time": "2022-10-12T09:32:36.856Z"
   },
   {
    "duration": 2017,
    "start_time": "2022-10-12T09:32:36.905Z"
   },
   {
    "duration": 166278,
    "start_time": "2022-10-12T09:32:38.924Z"
   },
   {
    "duration": 236301,
    "start_time": "2022-10-12T09:35:25.203Z"
   },
   {
    "duration": 2,
    "start_time": "2022-10-12T09:39:21.506Z"
   },
   {
    "duration": 12,
    "start_time": "2022-10-12T09:39:21.510Z"
   },
   {
    "duration": 387,
    "start_time": "2022-10-12T09:40:35.735Z"
   },
   {
    "duration": 11,
    "start_time": "2022-10-12T09:40:47.488Z"
   },
   {
    "duration": 4,
    "start_time": "2022-10-12T09:43:25.903Z"
   },
   {
    "duration": 645,
    "start_time": "2022-10-12T09:43:25.908Z"
   },
   {
    "duration": 14,
    "start_time": "2022-10-12T09:43:26.554Z"
   },
   {
    "duration": 13,
    "start_time": "2022-10-12T09:43:26.569Z"
   },
   {
    "duration": 57,
    "start_time": "2022-10-12T09:43:26.584Z"
   },
   {
    "duration": 18,
    "start_time": "2022-10-12T09:43:26.643Z"
   },
   {
    "duration": 17,
    "start_time": "2022-10-12T09:43:26.663Z"
   },
   {
    "duration": 7,
    "start_time": "2022-10-12T09:43:26.681Z"
   },
   {
    "duration": 522,
    "start_time": "2022-10-12T09:43:26.689Z"
   },
   {
    "duration": 206,
    "start_time": "2022-10-12T09:43:27.212Z"
   },
   {
    "duration": 140,
    "start_time": "2022-10-12T09:43:27.421Z"
   },
   {
    "duration": 177,
    "start_time": "2022-10-12T09:43:27.563Z"
   },
   {
    "duration": 116,
    "start_time": "2022-10-12T09:49:34.766Z"
   },
   {
    "duration": 23,
    "start_time": "2022-10-12T09:50:36.193Z"
   },
   {
    "duration": 33,
    "start_time": "2022-10-12T10:11:25.464Z"
   },
   {
    "duration": 23,
    "start_time": "2022-10-12T10:20:35.304Z"
   },
   {
    "duration": 9,
    "start_time": "2022-10-12T10:22:09.405Z"
   },
   {
    "duration": 9,
    "start_time": "2022-10-12T10:22:54.410Z"
   },
   {
    "duration": 14,
    "start_time": "2022-10-12T10:23:17.487Z"
   },
   {
    "duration": 10,
    "start_time": "2022-10-12T10:26:50.825Z"
   },
   {
    "duration": 11,
    "start_time": "2022-10-12T10:26:57.487Z"
   },
   {
    "duration": 11,
    "start_time": "2022-10-12T10:29:46.539Z"
   },
   {
    "duration": 11,
    "start_time": "2022-10-12T10:30:01.015Z"
   },
   {
    "duration": 11,
    "start_time": "2022-10-12T10:30:06.787Z"
   },
   {
    "duration": 17,
    "start_time": "2022-10-12T10:30:52.675Z"
   },
   {
    "duration": 17,
    "start_time": "2022-10-12T10:30:55.935Z"
   },
   {
    "duration": 11,
    "start_time": "2022-10-12T10:31:00.735Z"
   },
   {
    "duration": 13,
    "start_time": "2022-10-12T10:31:25.635Z"
   },
   {
    "duration": 12,
    "start_time": "2022-10-12T10:31:39.894Z"
   },
   {
    "duration": 10,
    "start_time": "2022-10-12T10:32:10.868Z"
   },
   {
    "duration": 15,
    "start_time": "2022-10-12T10:32:33.535Z"
   },
   {
    "duration": 11,
    "start_time": "2022-10-12T10:32:45.174Z"
   },
   {
    "duration": 13,
    "start_time": "2022-10-12T10:34:32.415Z"
   },
   {
    "duration": 13,
    "start_time": "2022-10-12T10:35:49.495Z"
   },
   {
    "duration": 17,
    "start_time": "2022-10-12T10:36:21.582Z"
   },
   {
    "duration": 16,
    "start_time": "2022-10-12T10:36:27.617Z"
   },
   {
    "duration": 16,
    "start_time": "2022-10-12T10:36:42.163Z"
   },
   {
    "duration": 3,
    "start_time": "2022-10-12T10:37:26.607Z"
   },
   {
    "duration": 19,
    "start_time": "2022-10-12T10:37:36.638Z"
   },
   {
    "duration": 18,
    "start_time": "2022-10-12T10:37:54.267Z"
   },
   {
    "duration": 12,
    "start_time": "2022-10-12T10:38:22.555Z"
   },
   {
    "duration": 13,
    "start_time": "2022-10-12T10:38:49.982Z"
   },
   {
    "duration": 13,
    "start_time": "2022-10-12T10:38:56.047Z"
   },
   {
    "duration": 12,
    "start_time": "2022-10-12T10:39:03.755Z"
   },
   {
    "duration": 14,
    "start_time": "2022-10-12T10:39:15.347Z"
   },
   {
    "duration": 13,
    "start_time": "2022-10-12T10:47:31.555Z"
   },
   {
    "duration": 13,
    "start_time": "2022-10-12T10:47:56.387Z"
   },
   {
    "duration": 191,
    "start_time": "2022-10-12T10:48:00.327Z"
   },
   {
    "duration": 13,
    "start_time": "2022-10-12T10:50:01.135Z"
   },
   {
    "duration": 13,
    "start_time": "2022-10-12T10:50:19.286Z"
   },
   {
    "duration": 12,
    "start_time": "2022-10-12T10:50:25.567Z"
   },
   {
    "duration": 18,
    "start_time": "2022-10-12T10:50:43.375Z"
   },
   {
    "duration": 19,
    "start_time": "2022-10-12T10:52:54.888Z"
   },
   {
    "duration": 14,
    "start_time": "2022-10-12T10:53:16.396Z"
   },
   {
    "duration": 10,
    "start_time": "2022-10-12T10:56:00.617Z"
   },
   {
    "duration": 4,
    "start_time": "2022-10-12T10:58:14.266Z"
   },
   {
    "duration": 611,
    "start_time": "2022-10-12T10:58:14.274Z"
   },
   {
    "duration": 13,
    "start_time": "2022-10-12T10:58:14.887Z"
   },
   {
    "duration": 14,
    "start_time": "2022-10-12T10:58:14.901Z"
   },
   {
    "duration": 45,
    "start_time": "2022-10-12T10:58:14.922Z"
   },
   {
    "duration": 15,
    "start_time": "2022-10-12T10:58:14.969Z"
   },
   {
    "duration": 6,
    "start_time": "2022-10-12T10:58:14.986Z"
   },
   {
    "duration": 29,
    "start_time": "2022-10-12T10:58:14.993Z"
   },
   {
    "duration": 522,
    "start_time": "2022-10-12T10:58:15.024Z"
   },
   {
    "duration": 206,
    "start_time": "2022-10-12T10:58:15.548Z"
   },
   {
    "duration": 131,
    "start_time": "2022-10-12T10:58:15.755Z"
   },
   {
    "duration": 171,
    "start_time": "2022-10-12T10:58:19.587Z"
   },
   {
    "duration": 19,
    "start_time": "2022-10-12T10:58:52.455Z"
   },
   {
    "duration": 4,
    "start_time": "2022-10-12T10:59:54.287Z"
   },
   {
    "duration": 665,
    "start_time": "2022-10-12T10:59:54.295Z"
   },
   {
    "duration": 12,
    "start_time": "2022-10-12T10:59:54.962Z"
   },
   {
    "duration": 14,
    "start_time": "2022-10-12T10:59:54.975Z"
   },
   {
    "duration": 55,
    "start_time": "2022-10-12T10:59:54.991Z"
   },
   {
    "duration": 16,
    "start_time": "2022-10-12T10:59:55.048Z"
   },
   {
    "duration": 17,
    "start_time": "2022-10-12T10:59:55.066Z"
   },
   {
    "duration": 9,
    "start_time": "2022-10-12T10:59:55.085Z"
   },
   {
    "duration": 516,
    "start_time": "2022-10-12T10:59:55.095Z"
   },
   {
    "duration": 209,
    "start_time": "2022-10-12T10:59:55.613Z"
   },
   {
    "duration": 130,
    "start_time": "2022-10-12T10:59:55.823Z"
   },
   {
    "duration": 197,
    "start_time": "2022-10-12T10:59:58.996Z"
   },
   {
    "duration": 18,
    "start_time": "2022-10-12T11:00:13.228Z"
   },
   {
    "duration": 3,
    "start_time": "2022-10-12T11:01:56.487Z"
   },
   {
    "duration": 162,
    "start_time": "2022-10-12T11:02:41.504Z"
   },
   {
    "duration": 116,
    "start_time": "2022-10-12T11:03:04.664Z"
   },
   {
    "duration": 21,
    "start_time": "2022-10-12T11:03:12.255Z"
   },
   {
    "duration": 1446,
    "start_time": "2022-10-12T11:03:18.184Z"
   },
   {
    "duration": 373,
    "start_time": "2022-10-12T11:04:03.754Z"
   },
   {
    "duration": 11,
    "start_time": "2022-10-12T11:04:14.389Z"
   },
   {
    "duration": 302,
    "start_time": "2022-10-12T11:10:47.127Z"
   },
   {
    "duration": 163845,
    "start_time": "2022-10-12T11:11:28.615Z"
   },
   {
    "duration": 129746,
    "start_time": "2022-10-12T11:17:00.836Z"
   },
   {
    "duration": 87364,
    "start_time": "2022-10-12T11:20:02.114Z"
   },
   {
    "duration": 86763,
    "start_time": "2022-10-12T11:22:11.856Z"
   },
   {
    "duration": 175630,
    "start_time": "2022-10-12T11:33:28.396Z"
   },
   {
    "duration": 4,
    "start_time": "2022-10-12T11:38:09.497Z"
   },
   {
    "duration": 238428,
    "start_time": "2022-10-12T11:38:15.065Z"
   },
   {
    "duration": 3,
    "start_time": "2022-10-12T11:48:06.737Z"
   },
   {
    "duration": 9888,
    "start_time": "2022-10-12T11:54:29.384Z"
   },
   {
    "duration": 51467,
    "start_time": "2022-10-12T12:00:25.270Z"
   },
   {
    "duration": 16276,
    "start_time": "2022-10-12T12:03:09.657Z"
   },
   {
    "duration": 46180,
    "start_time": "2022-10-12T12:04:56.465Z"
   },
   {
    "duration": 442041,
    "start_time": "2022-10-12T12:08:05.819Z"
   },
   {
    "duration": 543008,
    "start_time": "2022-10-12T12:22:58.836Z"
   },
   {
    "duration": 3,
    "start_time": "2022-10-12T12:32:57.676Z"
   },
   {
    "duration": 74,
    "start_time": "2022-10-12T12:39:29.227Z"
   },
   {
    "duration": 4420,
    "start_time": "2022-10-12T12:39:58.826Z"
   },
   {
    "duration": 3,
    "start_time": "2022-10-12T12:40:15.996Z"
   },
   {
    "duration": 27,
    "start_time": "2022-10-12T12:46:21.747Z"
   },
   {
    "duration": 36648,
    "start_time": "2022-10-12T12:47:24.117Z"
   },
   {
    "duration": 4,
    "start_time": "2022-10-12T12:48:50.447Z"
   },
   {
    "duration": 75656,
    "start_time": "2022-10-12T12:51:06.504Z"
   },
   {
    "duration": 3,
    "start_time": "2022-10-12T12:53:29.807Z"
   },
   {
    "duration": 112621,
    "start_time": "2022-10-12T13:02:22.624Z"
   },
   {
    "duration": 2437,
    "start_time": "2022-10-12T19:39:11.383Z"
   },
   {
    "duration": 1285,
    "start_time": "2022-10-12T19:39:13.822Z"
   },
   {
    "duration": 14,
    "start_time": "2022-10-12T19:39:15.109Z"
   },
   {
    "duration": 80,
    "start_time": "2022-10-12T19:39:15.125Z"
   },
   {
    "duration": 113,
    "start_time": "2022-10-12T19:39:15.206Z"
   },
   {
    "duration": 18,
    "start_time": "2022-10-12T19:39:15.323Z"
   },
   {
    "duration": 61,
    "start_time": "2022-10-12T19:39:15.342Z"
   },
   {
    "duration": 9,
    "start_time": "2022-10-12T19:39:15.405Z"
   },
   {
    "duration": 1104,
    "start_time": "2022-10-12T19:39:15.416Z"
   },
   {
    "duration": 396,
    "start_time": "2022-10-12T19:39:16.522Z"
   },
   {
    "duration": 283,
    "start_time": "2022-10-12T19:39:16.919Z"
   },
   {
    "duration": 504,
    "start_time": "2022-10-12T19:39:17.204Z"
   },
   {
    "duration": 19,
    "start_time": "2022-10-12T19:39:17.710Z"
   },
   {
    "duration": 10,
    "start_time": "2022-10-12T19:39:17.731Z"
   },
   {
    "duration": 59,
    "start_time": "2022-10-12T19:39:17.742Z"
   },
   {
    "duration": 305,
    "start_time": "2022-10-12T19:39:17.803Z"
   },
   {
    "duration": 305,
    "start_time": "2022-10-12T19:39:18.110Z"
   },
   {
    "duration": 21,
    "start_time": "2022-10-12T19:39:18.417Z"
   },
   {
    "duration": 80,
    "start_time": "2022-10-12T19:39:18.439Z"
   },
   {
    "duration": 213636,
    "start_time": "2022-10-12T19:39:58.493Z"
   },
   {
    "duration": 5,
    "start_time": "2022-10-12T19:43:43.784Z"
   },
   {
    "duration": 5,
    "start_time": "2022-10-12T19:44:03.749Z"
   },
   {
    "duration": 15,
    "start_time": "2022-10-12T19:44:32.628Z"
   },
   {
    "duration": 15,
    "start_time": "2022-10-12T19:45:02.536Z"
   }
  ],
  "kernelspec": {
   "display_name": "Python 3 (ipykernel)",
   "language": "python",
   "name": "python3"
  },
  "language_info": {
   "codemirror_mode": {
    "name": "ipython",
    "version": 3
   },
   "file_extension": ".py",
   "mimetype": "text/x-python",
   "name": "python",
   "nbconvert_exporter": "python",
   "pygments_lexer": "ipython3",
   "version": "3.9.12"
  },
  "toc": {
   "base_numbering": 1,
   "nav_menu": {},
   "number_sections": true,
   "sideBar": true,
   "skip_h1_title": true,
   "title_cell": "Содержание",
   "title_sidebar": "Contents",
   "toc_cell": true,
   "toc_position": {
    "height": "calc(100% - 180px)",
    "left": "10px",
    "top": "150px",
    "width": "165px"
   },
   "toc_section_display": true,
   "toc_window_display": true
  }
 },
 "nbformat": 4,
 "nbformat_minor": 2
}
