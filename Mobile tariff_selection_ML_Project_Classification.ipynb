{
 "cells": [
  {
   "cell_type": "markdown",
   "metadata": {},
   "source": [
    "## Рекомендация тарифов"
   ]
  },
  {
   "cell_type": "markdown",
   "metadata": {},
   "source": [
    "В вашем распоряжении данные о поведении клиентов, которые уже перешли на эти тарифы. Нужно построить модель для задачи классификации, которая выберет подходящий тариф. \n",
    "\n",
    "Постройте модель с максимально большим значением *accuracy*. Чтобы сдать проект успешно, нужно довести долю правильных ответов по крайней мере до 0.75. Проверьте *accuracy* на тестовой выборке самостоятельно."
   ]
  },
  {
   "cell_type": "markdown",
   "metadata": {},
   "source": [
    "**Введение:** <br>\n",
    "    Оператор мобильной связи «Мегалайн» выяснил: многие клиенты пользуются архивными тарифами. Они хотят построить систему, способную проанализировать поведение клиентов и предложить пользователям новый тариф: «Смарт» или «Ультра».\n",
    "В вашем распоряжении данные о поведении клиентов, которые уже перешли на эти тарифы. Построим модель для задачи классификации, которая выберет подходящий тариф. Качество модели будем оценивать по значению accuracy. "
   ]
  },
  {
   "cell_type": "markdown",
   "metadata": {},
   "source": [
    "## Откроем и изучим файл"
   ]
  },
  {
   "cell_type": "code",
   "execution_count": 1,
   "metadata": {},
   "outputs": [],
   "source": [
    "import pandas as pd\n",
    "import matplotlib.pyplot as plt\n",
    "%matplotlib inline\n",
    "\n",
    "from sklearn.tree import DecisionTreeClassifier\n",
    "from sklearn.ensemble  import RandomForestClassifier\n",
    "from sklearn.linear_model import LogisticRegression\n",
    "from sklearn.metrics import accuracy_score, precision_score, recall_score, f1_score, classification_report\n",
    "from sklearn.model_selection import train_test_split\n",
    "from sklearn.dummy import DummyClassifier\n",
    "from sklearn import tree\n",
    "from sklearn.model_selection import GridSearchCV\n",
    "from tqdm import tqdm"
   ]
  },
  {
   "cell_type": "code",
   "execution_count": 2,
   "metadata": {},
   "outputs": [
    {
     "name": "stdout",
     "output_type": "stream",
     "text": [
      "Структура таблицы\n"
     ]
    },
    {
     "data": {
      "text/html": [
       "<div>\n",
       "<style scoped>\n",
       "    .dataframe tbody tr th:only-of-type {\n",
       "        vertical-align: middle;\n",
       "    }\n",
       "\n",
       "    .dataframe tbody tr th {\n",
       "        vertical-align: top;\n",
       "    }\n",
       "\n",
       "    .dataframe thead th {\n",
       "        text-align: right;\n",
       "    }\n",
       "</style>\n",
       "<table border=\"1\" class=\"dataframe\">\n",
       "  <thead>\n",
       "    <tr style=\"text-align: right;\">\n",
       "      <th></th>\n",
       "      <th>calls</th>\n",
       "      <th>minutes</th>\n",
       "      <th>messages</th>\n",
       "      <th>mb_used</th>\n",
       "      <th>is_ultra</th>\n",
       "    </tr>\n",
       "  </thead>\n",
       "  <tbody>\n",
       "    <tr>\n",
       "      <th>0</th>\n",
       "      <td>40.0</td>\n",
       "      <td>311.90</td>\n",
       "      <td>83.0</td>\n",
       "      <td>19915.42</td>\n",
       "      <td>0</td>\n",
       "    </tr>\n",
       "    <tr>\n",
       "      <th>1</th>\n",
       "      <td>85.0</td>\n",
       "      <td>516.75</td>\n",
       "      <td>56.0</td>\n",
       "      <td>22696.96</td>\n",
       "      <td>0</td>\n",
       "    </tr>\n",
       "    <tr>\n",
       "      <th>2</th>\n",
       "      <td>77.0</td>\n",
       "      <td>467.66</td>\n",
       "      <td>86.0</td>\n",
       "      <td>21060.45</td>\n",
       "      <td>0</td>\n",
       "    </tr>\n",
       "    <tr>\n",
       "      <th>3</th>\n",
       "      <td>106.0</td>\n",
       "      <td>745.53</td>\n",
       "      <td>81.0</td>\n",
       "      <td>8437.39</td>\n",
       "      <td>1</td>\n",
       "    </tr>\n",
       "    <tr>\n",
       "      <th>4</th>\n",
       "      <td>66.0</td>\n",
       "      <td>418.74</td>\n",
       "      <td>1.0</td>\n",
       "      <td>14502.75</td>\n",
       "      <td>0</td>\n",
       "    </tr>\n",
       "  </tbody>\n",
       "</table>\n",
       "</div>"
      ],
      "text/plain": [
       "   calls  minutes  messages   mb_used  is_ultra\n",
       "0   40.0   311.90      83.0  19915.42         0\n",
       "1   85.0   516.75      56.0  22696.96         0\n",
       "2   77.0   467.66      86.0  21060.45         0\n",
       "3  106.0   745.53      81.0   8437.39         1\n",
       "4   66.0   418.74       1.0  14502.75         0"
      ]
     },
     "metadata": {},
     "output_type": "display_data"
    },
    {
     "name": "stdout",
     "output_type": "stream",
     "text": [
      "Количество пользователей тарифа Ultra\n"
     ]
    },
    {
     "data": {
      "text/plain": [
       "0    2229\n",
       "1     985\n",
       "Name: is_ultra, dtype: int64"
      ]
     },
     "metadata": {},
     "output_type": "display_data"
    },
    {
     "name": "stdout",
     "output_type": "stream",
     "text": [
      "Соотношение топ-100 пользователей двух тарифов по количеству потраченных минут\n"
     ]
    },
    {
     "data": {
      "text/plain": [
       "is_ultra\n",
       "0     9\n",
       "1    91\n",
       "Name: minutes, dtype: int64"
      ]
     },
     "metadata": {},
     "output_type": "display_data"
    },
    {
     "name": "stdout",
     "output_type": "stream",
     "text": [
      "Соотношение топ-100 пользователей двух тарифов по количеству потраченных МБ\n"
     ]
    },
    {
     "data": {
      "text/plain": [
       "is_ultra\n",
       "0     8\n",
       "1    92\n",
       "Name: mb_used, dtype: int64"
      ]
     },
     "metadata": {},
     "output_type": "display_data"
    }
   ],
   "source": [
    "df=pd.read_csv('/datasets/users_behavior.csv')\n",
    "# посмотрим структуру таблицы\n",
    "print('Структура таблицы')\n",
    "display(df.head())\n",
    "print('Количество пользователей тарифа Ultra')\n",
    "display(df['is_ultra'].value_counts())\n",
    "print('Соотношение топ-100 пользователей двух тарифов по количеству потраченных минут')\n",
    "display(df.sort_values(by=['minutes'], ascending=False)[0:100].groupby(['is_ultra'])['minutes'].count())\n",
    "print('Соотношение топ-100 пользователей двух тарифов по количеству потраченных МБ')\n",
    "display(df.sort_values(by=['mb_used'], ascending=False)[0:100].groupby(['is_ultra'])['mb_used'].count())"
   ]
  },
  {
   "cell_type": "markdown",
   "metadata": {},
   "source": [
    "Вывод: Данные представляют собой таблицу с информацией о поведении одного пользователя за месяц для тарифа Ультра и Смарт. <br>\n",
    "    Как мы видим пользователей тарифов Ultra меньше более чем в два раза, но они намного активнее пользуются услугами связи. <br>"
   ]
  },
  {
   "cell_type": "markdown",
   "metadata": {},
   "source": [
    "## Разобьем данные на выборки"
   ]
  },
  {
   "cell_type": "code",
   "execution_count": 3,
   "metadata": {},
   "outputs": [
    {
     "name": "stdout",
     "output_type": "stream",
     "text": [
      "Проверка разбиения данных:\n",
      "df (3214, 5)\n",
      "df_train (1928, 5)\n",
      "df_valid (643, 5)\n",
      "df_test (643, 5)\n"
     ]
    }
   ],
   "source": [
    "# отделим сначала 40%, так как у нас будет 60/20/20 %\n",
    "# стратифицируем по 'is_ultra'\n",
    "df_train, df_40 = train_test_split(df, test_size=0.40, \n",
    "                                   random_state=12345, \n",
    "                                   stratify=df['is_ultra']) \n",
    "df_valid, df_test = train_test_split(df_40, test_size=0.50, \n",
    "                                     random_state=12345, \n",
    "                                     stratify=df_40['is_ultra']) # поделим пополам 40%\n",
    "\n",
    "features_train = df_train.drop('is_ultra', axis=1)\n",
    "target_train = df_train['is_ultra']\n",
    "\n",
    "features_valid = df_valid.drop('is_ultra', axis=1)\n",
    "target_valid = df_valid['is_ultra']\n",
    "\n",
    "features_test = df_test.drop('is_ultra', axis=1)\n",
    "target_test = df_test['is_ultra']\n",
    "\n",
    "print('Проверка разбиения данных:')\n",
    "print('df' , df.shape)\n",
    "print('df_train' , df_train.shape)\n",
    "print('df_valid' ,df_valid.shape)\n",
    "print('df_test' ,df_test.shape)\n",
    "\n"
   ]
  },
  {
   "cell_type": "markdown",
   "metadata": {},
   "source": [
    "## Исследуем модели"
   ]
  },
  {
   "cell_type": "markdown",
   "metadata": {},
   "source": [
    "1) исследуем модель DecisionTreeClassifier"
   ]
  },
  {
   "cell_type": "markdown",
   "metadata": {},
   "source": [
    "Найдем при какой depth Accuracy модели DecisionTreeClassifier будет наибольшим."
   ]
  },
  {
   "cell_type": "code",
   "execution_count": 67,
   "metadata": {},
   "outputs": [
    {
     "name": "stdout",
     "output_type": "stream",
     "text": [
      "Accuracy лучшей модели DecisionTreeClassifier: 0.80248833592535 , при depth = 8\n",
      "Посмотрим на другие метрики модели\n",
      "              precision    recall  f1-score   support\n",
      "\n",
      "           0       0.81      0.93      0.87       446\n",
      "           1       0.77      0.51      0.61       197\n",
      "\n",
      "    accuracy                           0.80       643\n",
      "   macro avg       0.79      0.72      0.74       643\n",
      "weighted avg       0.80      0.80      0.79       643\n",
      "\n"
     ]
    }
   ],
   "source": [
    "best_result = 0\n",
    "model = None\n",
    "for depth in range(1,15):\n",
    "    model = DecisionTreeClassifier(random_state=12345, max_depth=depth)\n",
    "    model.fit(features_train, target_train)\n",
    "    predictions = model.predict(features_valid)\n",
    "    result = accuracy_score(target_valid, predictions)\n",
    "    if result > best_result:\n",
    "        best_result = result\n",
    "        best_depth = depth\n",
    "        model_DecisionTreeClassifier_best_accuracy = model # сохраним модель с наивысших Accuracy для дальниейшего анализа\n",
    "        best_predictions = predictions # сохраним predictions для этой модели, чтобы потом также проверить другие метрики\n",
    "        \n",
    "      \n",
    "print(\"Accuracy лучшей модели DecisionTreeClassifier:\", best_result , ', при depth =', best_depth)\n",
    "print('Посмотрим на другие метрики модели')\n",
    "print(classification_report(target_valid, best_predictions))"
   ]
  },
  {
   "cell_type": "markdown",
   "metadata": {},
   "source": [
    "Вывод: модель хорошо себя показывает для определения и охвата пользователей тарифа Смарт, но для тарифа Ультра значения метрик можно попробовать повысить (НИЖЕ). Конечно это также связано с тем, что в выборке(как в генеральной, так и в валидационной) объектов для траифа Ультра более чем в два раза меньше."
   ]
  },
  {
   "cell_type": "code",
   "execution_count": 62,
   "metadata": {},
   "outputs": [
    {
     "name": "stdout",
     "output_type": "stream",
     "text": [
      "Accuracy лучшей модели DecisionTreeClassifier: 0.8040435458786936 , при depth = 8 , при samples_split = 8 , при samples_leaf = 3\n",
      "Посмотрим на другие метрики модели\n",
      "              precision    recall  f1-score   support\n",
      "\n",
      "           0       0.81      0.93      0.87       446\n",
      "           1       0.77      0.52      0.62       197\n",
      "\n",
      "    accuracy                           0.80       643\n",
      "   macro avg       0.79      0.72      0.74       643\n",
      "weighted avg       0.80      0.80      0.79       643\n",
      "\n"
     ]
    }
   ],
   "source": [
    "# поперебираем другие гиперпараметрами, попробуем улучшить нашу модель\n",
    "best_result = 0\n",
    "model = None\n",
    "for depth in range(1,20):\n",
    "    for samples_split in range(2,10): # добавил\n",
    "        for samples_leaf in range(1,10): # добавил\n",
    "            model = DecisionTreeClassifier(random_state=12345, \n",
    "                                           max_depth=depth, \n",
    "                                           min_samples_split=samples_split,\n",
    "                                           min_samples_leaf=samples_leaf)\n",
    "            model.fit(features_train, target_train)\n",
    "            predictions = model.predict(features_valid)\n",
    "            result = accuracy_score(target_valid, predictions)\n",
    "            if result > best_result:\n",
    "                best_result = result\n",
    "                best_depth = depth\n",
    "                best_samples_split = samples_split # добавил\n",
    "                best_samples_leaf = samples_leaf # добавил\n",
    "                model_DecisionTreeClassifier_best_accuracy = model # сохраним модель с наивысших Accuracy для дальниейшего анализа\n",
    "                best_predictions = predictions # сохраним predictions для этой модели, чтобы потом также проверить другие метрики\n",
    "        \n",
    "      \n",
    "print(\"Accuracy лучшей модели DecisionTreeClassifier:\", best_result , \n",
    "      ', при depth =', best_depth,\n",
    "      ', при samples_split =', best_samples_split,\n",
    "      ', при samples_leaf =', best_samples_leaf)\n",
    "print('Посмотрим на другие метрики модели')\n",
    "print(classification_report(target_valid, best_predictions))"
   ]
  },
  {
   "cell_type": "code",
   "execution_count": 61,
   "metadata": {},
   "outputs": [
    {
     "data": {
      "image/png": "[encoded data removed]",
      "text/plain": [
       "<Figure size 1080x576 with 1 Axes>"
      ]
     },
     "metadata": {
      "needs_background": "light"
     },
     "output_type": "display_data"
    }
   ],
   "source": [
    "# Построем графики для наглядности. Посмотрим графически как меняются метрики при увеличении глубины обучения модели\n",
    "best_result = 0\n",
    "model = None\n",
    "plt.figure(figsize=(15, 8))\n",
    "\n",
    "accuracy_list = []\n",
    "precision_list = []\n",
    "recall_list = []\n",
    "f1_list = []\n",
    "\n",
    "for depth in range(1,18):\n",
    "    model = DecisionTreeClassifier(random_state=12345, max_depth=depth)\n",
    "    model.fit(features_train, target_train)\n",
    "    predictions = model.predict(features_valid)\n",
    "    accuracy = accuracy_score(target_valid, predictions)\n",
    "    precision = precision_score(target_valid, predictions)\n",
    "    recall = recall_score(target_valid, predictions)\n",
    "    f1 = f1_score(target_valid, predictions)\n",
    "    \n",
    "    accuracy_list.append(accuracy)\n",
    "    precision_list.append(precision)\n",
    "    recall_list.append(recall)\n",
    "    f1_list.append(f1)\n",
    "      \n",
    "       \n",
    "x = [i for i in range(1,18)] \n",
    "y = accuracy_list\n",
    "plt.plot(x,y, label='result')\n",
    "\n",
    "y = precision_list\n",
    "plt.plot(x,y, label='precision')\n",
    "\n",
    "y = recall_list\n",
    "plt.plot(x,y, label='recall')\n",
    "\n",
    "y = f1_list\n",
    "plt.plot(x,y, label='f1')\n",
    "\n",
    "plt.legend()    \n",
    "plt.title('Метрики качества модели DecisionTreeClassifier в зависимости от depth')    \n",
    "plt.xlabel('depth') \n",
    "plt.ylabel('efficiency') \n",
    "plt.grid() \n"
   ]
  },
  {
   "cell_type": "code",
   "execution_count": 30,
   "metadata": {},
   "outputs": [
    {
     "data": {
      "text/plain": [
       "[Text(393.88235294117646, 489.24, 'minutes <= 748.465\\ngini = 0.425\\nsamples = 643\\nvalue = [446, 197]'),\n",
       " Text(196.94117647058823, 380.52000000000004, 'mb_used <= 27207.59\\ngini = 0.374\\nsamples = 578\\nvalue = [434, 144]'),\n",
       " Text(98.47058823529412, 271.8, 'minutes <= 4.385\\ngini = 0.33\\nsamples = 538\\nvalue = [426, 112]'),\n",
       " Text(49.23529411764706, 163.08000000000004, 'gini = 0.0\\nsamples = 6\\nvalue = [0, 6]'),\n",
       " Text(147.70588235294116, 163.08000000000004, 'messages <= 116.0\\ngini = 0.319\\nsamples = 532\\nvalue = [426, 106]'),\n",
       " Text(98.47058823529412, 54.360000000000014, '\\n  (...)  \\n'),\n",
       " Text(196.94117647058823, 54.360000000000014, '\\n  (...)  \\n'),\n",
       " Text(295.4117647058823, 271.8, 'minutes <= 283.55\\ngini = 0.32\\nsamples = 40\\nvalue = [8, 32]'),\n",
       " Text(246.1764705882353, 163.08000000000004, 'gini = 0.0\\nsamples = 14\\nvalue = [0, 14]'),\n",
       " Text(344.6470588235294, 163.08000000000004, 'messages <= 6.5\\ngini = 0.426\\nsamples = 26\\nvalue = [8, 18]'),\n",
       " Text(295.4117647058823, 54.360000000000014, '\\n  (...)  \\n'),\n",
       " Text(393.88235294117646, 54.360000000000014, '\\n  (...)  \\n'),\n",
       " Text(590.8235294117646, 380.52000000000004, 'calls <= 97.5\\ngini = 0.301\\nsamples = 65\\nvalue = [12, 53]'),\n",
       " Text(541.5882352941177, 271.8, 'gini = 0.0\\nsamples = 2\\nvalue = [2, 0]'),\n",
       " Text(640.0588235294117, 271.8, 'mb_used <= 20595.835\\ngini = 0.267\\nsamples = 63\\nvalue = [10, 53]'),\n",
       " Text(541.5882352941177, 163.08000000000004, 'mb_used <= 13707.675\\ngini = 0.368\\nsamples = 37\\nvalue = [9, 28]'),\n",
       " Text(492.3529411764706, 54.360000000000014, '\\n  (...)  \\n'),\n",
       " Text(590.8235294117646, 54.360000000000014, '\\n  (...)  \\n'),\n",
       " Text(738.5294117647059, 163.08000000000004, 'mb_used <= 37618.555\\ngini = 0.074\\nsamples = 26\\nvalue = [1, 25]'),\n",
       " Text(689.2941176470588, 54.360000000000014, '\\n  (...)  \\n'),\n",
       " Text(787.7647058823529, 54.360000000000014, '\\n  (...)  \\n')]"
      ]
     },
     "execution_count": 30,
     "metadata": {},
     "output_type": "execute_result"
    },
    {
     "data": {
      "image/png": "[encoded data removed]",
      "text/plain": [
       "<Figure size 1080x720 with 1 Axes>"
      ]
     },
     "metadata": {
      "needs_background": "light"
     },
     "output_type": "display_data"
    }
   ],
   "source": [
    "# построим tree_plot, чтобы посмотреть как работает модель\n",
    "clf = tree.DecisionTreeClassifier(random_state=12345, max_depth=8)\n",
    "clf = clf.fit(features_valid, target_valid)\n",
    "plt.figure(figsize=(15,10))\n",
    "tree.plot_tree(clf, max_depth=3, fontsize=9, feature_names=features_valid.columns)"
   ]
  },
  {
   "cell_type": "markdown",
   "metadata": {},
   "source": [
    "Вывод: принцип выбора прослеживается, видим глубину 8"
   ]
  },
  {
   "cell_type": "markdown",
   "metadata": {},
   "source": [
    "2) исследуем модель RandomForestClassifier"
   ]
  },
  {
   "cell_type": "code",
   "execution_count": 15,
   "metadata": {},
   "outputs": [
    {
     "data": {
      "text/html": [
       "<div>\n",
       "<style scoped>\n",
       "    .dataframe tbody tr th:only-of-type {\n",
       "        vertical-align: middle;\n",
       "    }\n",
       "\n",
       "    .dataframe tbody tr th {\n",
       "        vertical-align: top;\n",
       "    }\n",
       "\n",
       "    .dataframe thead th {\n",
       "        text-align: right;\n",
       "    }\n",
       "</style>\n",
       "<table border=\"1\" class=\"dataframe\">\n",
       "  <thead>\n",
       "    <tr style=\"text-align: right;\">\n",
       "      <th></th>\n",
       "      <th>calls</th>\n",
       "      <th>minutes</th>\n",
       "      <th>messages</th>\n",
       "      <th>mb_used</th>\n",
       "    </tr>\n",
       "  </thead>\n",
       "  <tbody>\n",
       "    <tr>\n",
       "      <th>2294</th>\n",
       "      <td>76.0</td>\n",
       "      <td>484.49</td>\n",
       "      <td>11.0</td>\n",
       "      <td>22454.35</td>\n",
       "    </tr>\n",
       "    <tr>\n",
       "      <th>1759</th>\n",
       "      <td>51.0</td>\n",
       "      <td>328.88</td>\n",
       "      <td>24.0</td>\n",
       "      <td>20511.93</td>\n",
       "    </tr>\n",
       "    <tr>\n",
       "      <th>529</th>\n",
       "      <td>105.0</td>\n",
       "      <td>705.05</td>\n",
       "      <td>18.0</td>\n",
       "      <td>22130.74</td>\n",
       "    </tr>\n",
       "    <tr>\n",
       "      <th>1599</th>\n",
       "      <td>19.0</td>\n",
       "      <td>135.52</td>\n",
       "      <td>48.0</td>\n",
       "      <td>13152.50</td>\n",
       "    </tr>\n",
       "    <tr>\n",
       "      <th>1868</th>\n",
       "      <td>28.0</td>\n",
       "      <td>159.55</td>\n",
       "      <td>0.0</td>\n",
       "      <td>14780.00</td>\n",
       "    </tr>\n",
       "    <tr>\n",
       "      <th>...</th>\n",
       "      <td>...</td>\n",
       "      <td>...</td>\n",
       "      <td>...</td>\n",
       "      <td>...</td>\n",
       "    </tr>\n",
       "    <tr>\n",
       "      <th>1967</th>\n",
       "      <td>102.0</td>\n",
       "      <td>654.92</td>\n",
       "      <td>40.0</td>\n",
       "      <td>18362.08</td>\n",
       "    </tr>\n",
       "    <tr>\n",
       "      <th>920</th>\n",
       "      <td>95.0</td>\n",
       "      <td>732.20</td>\n",
       "      <td>44.0</td>\n",
       "      <td>28042.76</td>\n",
       "    </tr>\n",
       "    <tr>\n",
       "      <th>2456</th>\n",
       "      <td>26.0</td>\n",
       "      <td>169.77</td>\n",
       "      <td>16.0</td>\n",
       "      <td>11684.21</td>\n",
       "    </tr>\n",
       "    <tr>\n",
       "      <th>756</th>\n",
       "      <td>51.0</td>\n",
       "      <td>401.45</td>\n",
       "      <td>91.0</td>\n",
       "      <td>19021.56</td>\n",
       "    </tr>\n",
       "    <tr>\n",
       "      <th>2134</th>\n",
       "      <td>48.0</td>\n",
       "      <td>289.40</td>\n",
       "      <td>84.0</td>\n",
       "      <td>15696.86</td>\n",
       "    </tr>\n",
       "  </tbody>\n",
       "</table>\n",
       "<p>1928 rows × 4 columns</p>\n",
       "</div>"
      ],
      "text/plain": [
       "      calls  minutes  messages   mb_used\n",
       "2294   76.0   484.49      11.0  22454.35\n",
       "1759   51.0   328.88      24.0  20511.93\n",
       "529   105.0   705.05      18.0  22130.74\n",
       "1599   19.0   135.52      48.0  13152.50\n",
       "1868   28.0   159.55       0.0  14780.00\n",
       "...     ...      ...       ...       ...\n",
       "1967  102.0   654.92      40.0  18362.08\n",
       "920    95.0   732.20      44.0  28042.76\n",
       "2456   26.0   169.77      16.0  11684.21\n",
       "756    51.0   401.45      91.0  19021.56\n",
       "2134   48.0   289.40      84.0  15696.86\n",
       "\n",
       "[1928 rows x 4 columns]"
      ]
     },
     "execution_count": 15,
     "metadata": {},
     "output_type": "execute_result"
    }
   ],
   "source": [
    "features_train"
   ]
  },
  {
   "cell_type": "code",
   "execution_count": 37,
   "metadata": {},
   "outputs": [
    {
     "name": "stdout",
     "output_type": "stream",
     "text": [
      "Наилучшая Accuracy модели RandomForestClassifier: 0.8195956454121306 , при depth = 11 , при n_estimators = 22 , при samples_split = 12 , при samples_leaf = 1\n",
      "CPU times: user 59.2 s, sys: 391 ms, total: 59.6 s\n",
      "Wall time: 59.7 s\n"
     ]
    }
   ],
   "source": [
    "%%time\n",
    "best_accuracy_result = 0\n",
    "model = None\n",
    "for est in range(22,40,3):\n",
    "    for depth in range(1,32,10): # добавил\n",
    "        for samples_split in range(8,21, 2): # добавил\n",
    "            for samples_leaf in range(1,5): # добавил\n",
    "                model = RandomForestClassifier(random_state=12345, n_estimators=est, \n",
    "                                               max_depth=depth, \n",
    "                                               min_samples_split=samples_split,\n",
    "                                               min_samples_leaf=samples_leaf) \n",
    "                model.fit(features_train, target_train)\n",
    "                predictions = model.predict(features_valid)\n",
    "                accuracy_result = accuracy_score(target_valid, predictions)\n",
    "                if accuracy_result > best_accuracy_result: \n",
    "                    best_accuracy_result = accuracy_result \n",
    "                    best_accuracy_est = est\n",
    "                    best_depth = depth\n",
    "                    best_samples_split = samples_split # добавил\n",
    "                    best_samples_leaf = samples_leaf # добавил\n",
    "                    model_RandomForestClassifier_best_accuracy = model # сохраним модель с best accuracy\n",
    "               \n",
    "        \n",
    "print(\"Наилучшая Accuracy модели RandomForestClassifier:\", best_accuracy_result, \n",
    "      ', при depth =', best_depth, \n",
    "      ', при n_estimators =', best_accuracy_est,\n",
    "      ', при samples_split =', best_samples_split,\n",
    "      ', при samples_leaf =', best_samples_leaf) \n",
    "     "
   ]
  },
  {
   "cell_type": "code",
   "execution_count": 10,
   "metadata": {},
   "outputs": [
    {
     "name": "stdout",
     "output_type": "stream",
     "text": [
      "CPU times: user 5min 9s, sys: 1.62 s, total: 5min 10s\n",
      "Wall time: 5min 11s\n"
     ]
    },
    {
     "data": {
      "text/plain": [
       "0.8090196819160591"
      ]
     },
     "execution_count": 10,
     "metadata": {},
     "output_type": "execute_result"
    }
   ],
   "source": [
    "%%time\n",
    "# посмотрим, что нам выдаст GridSearch\n",
    "# так как GridSearch сам выделяет валидационную выборку, объединим наши выборки train и valid\n",
    "grid_features_train = pd.concat([features_train, features_valid])\n",
    "grid_target_train = pd.concat([target_train, target_valid])\n",
    "\n",
    "\n",
    "clf = RandomForestClassifier()\n",
    "parametrs = { 'n_estimators': range (1, 31, 5),\n",
    "              'max_depth': range (10,30, 2),\n",
    "              'min_samples_leaf': range (1,3),\n",
    "              'min_samples_split': range (5,15) }\n",
    "grid = GridSearchCV(clf, parametrs)\n",
    "\n",
    "grid.fit(grid_features_train, grid_target_train)\n",
    "\n",
    "grid.best_params_\n",
    "grid.best_score_"
   ]
  },
  {
   "cell_type": "code",
   "execution_count": 11,
   "metadata": {},
   "outputs": [
    {
     "data": {
      "text/plain": [
       "{'max_depth': 16,\n",
       " 'min_samples_leaf': 2,\n",
       " 'min_samples_split': 14,\n",
       " 'n_estimators': 26}"
      ]
     },
     "execution_count": 11,
     "metadata": {},
     "output_type": "execute_result"
    }
   ],
   "source": [
    "grid.best_params_"
   ]
  },
  {
   "cell_type": "markdown",
   "metadata": {},
   "source": [
    "Вывод: Выбрали модель RandomForestClassifier с наивысшим Accuracy 0,86 и обозначили ее как model_RandomForestClassifier_best_accuracy. Grid выдал нам модель с меньшей Accuracy"
   ]
  },
  {
   "cell_type": "markdown",
   "metadata": {},
   "source": [
    "3) исследуем модель LogisicRegression"
   ]
  },
  {
   "cell_type": "code",
   "execution_count": 59,
   "metadata": {},
   "outputs": [
    {
     "name": "stdout",
     "output_type": "stream",
     "text": [
      "Accuracy модели LogisticRegresion: 0.7387247278382582\n",
      "Recall модели LogisticRegresion: 0.19289340101522842\n"
     ]
    }
   ],
   "source": [
    "model = LogisticRegression(random_state=12345, solver='lbfgs', max_iter=1000)\n",
    "model.fit(features_train, target_train)\n",
    "predictions = model.predict(features_valid)\n",
    "accuracy = accuracy_score(target_valid, predictions)\n",
    "recall = recall_score(target_valid, predictions)\n",
    "print(\"Accuracy модели LogisticRegresion:\", accuracy)\n",
    "print(\"Recall модели LogisticRegresion:\", recall)\n",
    "model_LogisticRegression = model\n",
    "#dump(model, 'model_9_1.joblib')"
   ]
  },
  {
   "cell_type": "markdown",
   "metadata": {},
   "source": [
    "Вывод: <br>\n",
    "Самое высокое Accuracy, у дерева решений: accuracy = 0,80 при глубине 8 . <br>\n",
    "На втором месте — случайный лес: accuracy = 0,799 при 21 деревьях. <br>\n",
    "Самое низкое качество предсказания у логистической регрессии: 0,74. Но зато самая высокая скорость работы у логистической регрессии: у неё меньше всего параметров.<br>\n",
    "<br>\n",
    "Если будем искать оптимальное решение по recall для тарифа Ультра, то получим: <br>\n",
    "1) Recall = 0.57 для модели RandomForestClassifier, где Accuracy: 0.7947122861 , при n_estimators = 27 <br>\n",
    "2) Recall = 0.56 для модели DecisionTreeClassifier, где Accuracy: 0.7558320373250389 , при depth = 14 <br>\n",
    "3) Recall = 0.19 для модели LogisticRegresion, где Accuracy: 0.0.7387247278382582<br>\n",
    "<br>\n",
    "<br>\n",
    "Как видим модель LogisticRegression значительно отстает от двух других моделей по качеству"
   ]
  },
  {
   "cell_type": "markdown",
   "metadata": {},
   "source": [
    "## Проверим модель на тестовой выборке"
   ]
  },
  {
   "cell_type": "code",
   "execution_count": 31,
   "metadata": {},
   "outputs": [],
   "source": [
    "# перед проверкой на тестовой выборке переобучим нашу модель RFC на train+valid выборке\n",
    "model = RandomForestClassifier(random_state=12345, n_estimators=22, \n",
    "                                               max_depth=11, \n",
    "                                               min_samples_split=12,\n",
    "                                               min_samples_leaf=1)\n",
    "model.fit(pd.concat([features_train, features_valid]), pd.concat([target_train, target_valid]))\n",
    "model_RandomForestClassifier_best_accuracy = model"
   ]
  },
  {
   "cell_type": "code",
   "execution_count": 32,
   "metadata": {},
   "outputs": [
    {
     "name": "stdout",
     "output_type": "stream",
     "text": [
      "Accuracy модели RandomForestClassifier c best-accuracy на тестовой выборке: 0.8304821150855366\n"
     ]
    }
   ],
   "source": [
    "predictions = model_RandomForestClassifier_best_accuracy.predict(features_test)\n",
    "accuracy = accuracy_score(target_test, predictions)\n",
    "print(\"Accuracy модели RandomForestClassifier c best-accuracy на тестовой выборке:\", accuracy)\n"
   ]
  },
  {
   "cell_type": "markdown",
   "metadata": {},
   "source": [
    "Вывод: \n",
    "\n",
    "Точность получается 83%, цель достигнута.\n"
   ]
  },
  {
   "cell_type": "markdown",
   "metadata": {},
   "source": [
    "## Проверим модель на адекватность"
   ]
  },
  {
   "cell_type": "code",
   "execution_count": 14,
   "metadata": {},
   "outputs": [
    {
     "name": "stdout",
     "output_type": "stream",
     "text": [
      "0.6936236391912908\n",
      "              precision    recall  f1-score   support\n",
      "\n",
      "           0       0.69      1.00      0.82       446\n",
      "           1       0.00      0.00      0.00       197\n",
      "\n",
      "    accuracy                           0.69       643\n",
      "   macro avg       0.35      0.50      0.41       643\n",
      "weighted avg       0.48      0.69      0.57       643\n",
      "\n"
     ]
    },
    {
     "name": "stderr",
     "output_type": "stream",
     "text": [
      "/opt/conda/lib/python3.9/site-packages/sklearn/metrics/_classification.py:1245: UndefinedMetricWarning: Precision and F-score are ill-defined and being set to 0.0 in labels with no predicted samples. Use `zero_division` parameter to control this behavior.\n",
      "  _warn_prf(average, modifier, msg_start, len(result))\n",
      "/opt/conda/lib/python3.9/site-packages/sklearn/metrics/_classification.py:1245: UndefinedMetricWarning: Precision and F-score are ill-defined and being set to 0.0 in labels with no predicted samples. Use `zero_division` parameter to control this behavior.\n",
      "  _warn_prf(average, modifier, msg_start, len(result))\n",
      "/opt/conda/lib/python3.9/site-packages/sklearn/metrics/_classification.py:1245: UndefinedMetricWarning: Precision and F-score are ill-defined and being set to 0.0 in labels with no predicted samples. Use `zero_division` parameter to control this behavior.\n",
      "  _warn_prf(average, modifier, msg_start, len(result))\n"
     ]
    }
   ],
   "source": [
    "model = DummyClassifier(strategy=\"most_frequent\")\n",
    "model.fit(features_train,target_train)\n",
    "model.predict(features_test)\n",
    "predictions = model.predict(features_test)\n",
    "accuracy = accuracy_score(target_test, predictions)\n",
    "print(accuracy)\n",
    "\n",
    "print(classification_report(target_test, predictions))"
   ]
  },
  {
   "cell_type": "markdown",
   "metadata": {},
   "source": [
    "Вывод: модель адекватна при точности более 69%. Обученная нами модель выдает 83%, что значительно выше."
   ]
  }
 ],
 "metadata": {
  "ExecuteTimeLog": [
   {
    "duration": 436,
    "start_time": "2022-08-31T12:53:03.062Z"
   },
   {
    "duration": 64,
    "start_time": "2022-08-31T12:53:05.987Z"
   },
   {
    "duration": 699,
    "start_time": "2022-08-31T12:55:19.520Z"
   },
   {
    "duration": 30,
    "start_time": "2022-08-31T12:55:21.387Z"
   },
   {
    "duration": 5,
    "start_time": "2022-08-31T12:55:23.295Z"
   },
   {
    "duration": 135,
    "start_time": "2022-08-31T12:59:14.812Z"
   },
   {
    "duration": 79,
    "start_time": "2022-08-31T13:00:12.080Z"
   },
   {
    "duration": 12,
    "start_time": "2022-08-31T13:00:16.331Z"
   },
   {
    "duration": 32,
    "start_time": "2022-08-31T13:00:19.988Z"
   },
   {
    "duration": 6,
    "start_time": "2022-08-31T13:00:22.514Z"
   },
   {
    "duration": 21,
    "start_time": "2022-08-31T13:08:51.102Z"
   },
   {
    "duration": 4,
    "start_time": "2022-08-31T13:36:42.826Z"
   },
   {
    "duration": 3,
    "start_time": "2022-08-31T13:37:08.291Z"
   },
   {
    "duration": 3,
    "start_time": "2022-08-31T13:39:13.974Z"
   },
   {
    "duration": 1045,
    "start_time": "2022-08-31T20:55:35.069Z"
   },
   {
    "duration": 120,
    "start_time": "2022-08-31T20:55:36.116Z"
   },
   {
    "duration": 5,
    "start_time": "2022-08-31T20:55:36.238Z"
   },
   {
    "duration": 34,
    "start_time": "2022-08-31T20:55:36.245Z"
   },
   {
    "duration": 14,
    "start_time": "2022-08-31T20:55:57.607Z"
   },
   {
    "duration": 95,
    "start_time": "2022-08-31T21:04:02.832Z"
   },
   {
    "duration": 36,
    "start_time": "2022-08-31T21:04:13.336Z"
   },
   {
    "duration": 47,
    "start_time": "2022-08-31T21:04:25.221Z"
   },
   {
    "duration": 74,
    "start_time": "2022-08-31T21:04:39.104Z"
   },
   {
    "duration": 244,
    "start_time": "2022-08-31T21:05:05.702Z"
   },
   {
    "duration": 7,
    "start_time": "2022-08-31T21:09:13.183Z"
   },
   {
    "duration": 10,
    "start_time": "2022-08-31T21:09:49.446Z"
   },
   {
    "duration": 163,
    "start_time": "2022-08-31T21:10:32.390Z"
   },
   {
    "duration": 66,
    "start_time": "2022-08-31T21:10:43.690Z"
   },
   {
    "duration": 10,
    "start_time": "2022-08-31T21:17:29.873Z"
   },
   {
    "duration": 11,
    "start_time": "2022-08-31T21:17:51.170Z"
   },
   {
    "duration": 288,
    "start_time": "2022-08-31T21:18:09.690Z"
   },
   {
    "duration": 887,
    "start_time": "2022-08-31T21:18:18.682Z"
   },
   {
    "duration": 495,
    "start_time": "2022-08-31T21:18:26.473Z"
   },
   {
    "duration": 9,
    "start_time": "2022-08-31T21:22:24.956Z"
   },
   {
    "duration": 115,
    "start_time": "2022-08-31T21:22:39.395Z"
   },
   {
    "duration": 199,
    "start_time": "2022-08-31T21:24:26.613Z"
   },
   {
    "duration": 3,
    "start_time": "2022-08-31T21:24:37.121Z"
   },
   {
    "duration": 221,
    "start_time": "2022-08-31T21:24:41.890Z"
   },
   {
    "duration": 8,
    "start_time": "2022-08-31T21:39:14.431Z"
   },
   {
    "duration": 9,
    "start_time": "2022-08-31T21:39:22.342Z"
   },
   {
    "duration": 55,
    "start_time": "2022-08-31T21:39:26.016Z"
   },
   {
    "duration": 452,
    "start_time": "2022-08-31T21:39:35.715Z"
   },
   {
    "duration": 81,
    "start_time": "2022-08-31T21:39:46.676Z"
   },
   {
    "duration": 9,
    "start_time": "2022-08-31T22:04:54.705Z"
   },
   {
    "duration": 5,
    "start_time": "2022-08-31T22:05:01.969Z"
   },
   {
    "duration": 5,
    "start_time": "2022-08-31T22:05:30.551Z"
   },
   {
    "duration": 5,
    "start_time": "2022-08-31T22:05:33.004Z"
   },
   {
    "duration": 13,
    "start_time": "2022-08-31T22:07:12.729Z"
   },
   {
    "duration": 5,
    "start_time": "2022-08-31T22:07:46.269Z"
   },
   {
    "duration": 14,
    "start_time": "2022-08-31T22:08:19.069Z"
   },
   {
    "duration": 7,
    "start_time": "2022-08-31T22:08:21.547Z"
   },
   {
    "duration": 6,
    "start_time": "2022-08-31T22:08:24.109Z"
   },
   {
    "duration": 6,
    "start_time": "2022-08-31T22:08:26.547Z"
   },
   {
    "duration": 6,
    "start_time": "2022-08-31T22:08:28.585Z"
   },
   {
    "duration": 10,
    "start_time": "2022-08-31T22:08:52.573Z"
   },
   {
    "duration": 10,
    "start_time": "2022-08-31T22:08:58.435Z"
   },
   {
    "duration": 10,
    "start_time": "2022-08-31T22:09:00.403Z"
   },
   {
    "duration": 60,
    "start_time": "2022-08-31T22:09:05.687Z"
   },
   {
    "duration": 426,
    "start_time": "2022-08-31T22:09:08.815Z"
   },
   {
    "duration": 79,
    "start_time": "2022-08-31T22:09:19.455Z"
   },
   {
    "duration": 1158,
    "start_time": "2022-09-01T10:50:33.681Z"
   },
   {
    "duration": 117,
    "start_time": "2022-09-01T10:50:34.842Z"
   },
   {
    "duration": 12,
    "start_time": "2022-09-01T10:50:34.961Z"
   },
   {
    "duration": 11,
    "start_time": "2022-09-01T10:50:34.975Z"
   },
   {
    "duration": 62,
    "start_time": "2022-09-01T10:50:34.987Z"
   },
   {
    "duration": 491,
    "start_time": "2022-09-01T10:50:35.050Z"
   },
   {
    "duration": 96,
    "start_time": "2022-09-01T10:50:35.543Z"
   },
   {
    "duration": 60,
    "start_time": "2022-09-01T10:53:26.156Z"
   },
   {
    "duration": 3,
    "start_time": "2022-09-01T11:00:25.925Z"
   },
   {
    "duration": 34,
    "start_time": "2022-09-01T11:00:25.930Z"
   },
   {
    "duration": 11,
    "start_time": "2022-09-01T11:00:25.966Z"
   },
   {
    "duration": 16,
    "start_time": "2022-09-01T11:00:25.979Z"
   },
   {
    "duration": 62,
    "start_time": "2022-09-01T11:00:25.997Z"
   },
   {
    "duration": 502,
    "start_time": "2022-09-01T11:00:26.061Z"
   },
   {
    "duration": 47,
    "start_time": "2022-09-01T11:00:26.565Z"
   },
   {
    "duration": 115,
    "start_time": "2022-09-01T11:00:30.843Z"
   },
   {
    "duration": 17,
    "start_time": "2022-09-01T11:00:57.378Z"
   },
   {
    "duration": 12,
    "start_time": "2022-09-01T11:12:57.882Z"
   },
   {
    "duration": 3,
    "start_time": "2022-09-01T11:13:24.793Z"
   },
   {
    "duration": 16,
    "start_time": "2022-09-01T11:13:30.914Z"
   },
   {
    "duration": 12,
    "start_time": "2022-09-01T11:14:20.047Z"
   },
   {
    "duration": 4,
    "start_time": "2022-09-01T11:15:05.878Z"
   },
   {
    "duration": 68,
    "start_time": "2022-09-01T11:15:05.884Z"
   },
   {
    "duration": 13,
    "start_time": "2022-09-01T11:15:05.954Z"
   },
   {
    "duration": 22,
    "start_time": "2022-09-01T11:15:05.968Z"
   },
   {
    "duration": 72,
    "start_time": "2022-09-01T11:15:05.992Z"
   },
   {
    "duration": 466,
    "start_time": "2022-09-01T11:15:06.066Z"
   },
   {
    "duration": 37,
    "start_time": "2022-09-01T11:15:06.534Z"
   },
   {
    "duration": 31,
    "start_time": "2022-09-01T11:15:06.573Z"
   },
   {
    "duration": 18,
    "start_time": "2022-09-01T11:15:07.624Z"
   },
   {
    "duration": 3,
    "start_time": "2022-09-01T11:16:39.508Z"
   },
   {
    "duration": 35,
    "start_time": "2022-09-01T11:16:39.513Z"
   },
   {
    "duration": 12,
    "start_time": "2022-09-01T11:16:39.549Z"
   },
   {
    "duration": 10,
    "start_time": "2022-09-01T11:16:39.563Z"
   },
   {
    "duration": 63,
    "start_time": "2022-09-01T11:16:39.575Z"
   },
   {
    "duration": 485,
    "start_time": "2022-09-01T11:16:39.640Z"
   },
   {
    "duration": 38,
    "start_time": "2022-09-01T11:16:40.127Z"
   },
   {
    "duration": 15,
    "start_time": "2022-09-01T11:16:40.167Z"
   },
   {
    "duration": 16,
    "start_time": "2022-09-01T11:16:41.265Z"
   },
   {
    "duration": 4,
    "start_time": "2022-09-01T11:23:28.546Z"
   },
   {
    "duration": 33,
    "start_time": "2022-09-01T11:23:28.552Z"
   },
   {
    "duration": 12,
    "start_time": "2022-09-01T11:23:28.587Z"
   },
   {
    "duration": 14,
    "start_time": "2022-09-01T11:23:28.600Z"
   },
   {
    "duration": 62,
    "start_time": "2022-09-01T11:23:28.616Z"
   },
   {
    "duration": 547,
    "start_time": "2022-09-01T11:23:28.679Z"
   },
   {
    "duration": 39,
    "start_time": "2022-09-01T11:23:29.228Z"
   },
   {
    "duration": 34,
    "start_time": "2022-09-01T11:23:29.268Z"
   },
   {
    "duration": 22,
    "start_time": "2022-09-01T11:23:33.013Z"
   },
   {
    "duration": 30,
    "start_time": "2022-09-01T12:27:10.993Z"
   },
   {
    "duration": 3,
    "start_time": "2022-09-01T12:28:03.583Z"
   },
   {
    "duration": 32,
    "start_time": "2022-09-01T12:30:04.330Z"
   },
   {
    "duration": 34,
    "start_time": "2022-09-01T12:30:12.340Z"
   },
   {
    "duration": 15,
    "start_time": "2022-09-01T12:35:40.951Z"
   },
   {
    "duration": 16,
    "start_time": "2022-09-01T12:36:36.049Z"
   },
   {
    "duration": 14,
    "start_time": "2022-09-01T12:36:44.856Z"
   },
   {
    "duration": 63,
    "start_time": "2022-09-01T12:39:02.779Z"
   },
   {
    "duration": 303,
    "start_time": "2022-09-01T12:43:04.110Z"
   },
   {
    "duration": 139,
    "start_time": "2022-09-01T12:43:32.765Z"
   },
   {
    "duration": 149,
    "start_time": "2022-09-01T12:43:44.889Z"
   },
   {
    "duration": 150,
    "start_time": "2022-09-01T12:43:54.311Z"
   },
   {
    "duration": 40,
    "start_time": "2022-09-01T12:44:45.880Z"
   },
   {
    "duration": 38,
    "start_time": "2022-09-01T12:44:50.958Z"
   },
   {
    "duration": 43,
    "start_time": "2022-09-01T12:44:55.291Z"
   },
   {
    "duration": 68,
    "start_time": "2022-09-01T12:54:19.079Z"
   },
   {
    "duration": 46,
    "start_time": "2022-09-01T12:54:59.784Z"
   },
   {
    "duration": 17,
    "start_time": "2022-09-01T12:56:45.345Z"
   },
   {
    "duration": 40,
    "start_time": "2022-09-01T12:56:52.706Z"
   },
   {
    "duration": 42,
    "start_time": "2022-09-01T12:56:58.541Z"
   },
   {
    "duration": 39,
    "start_time": "2022-09-01T12:57:05.108Z"
   },
   {
    "duration": 40,
    "start_time": "2022-09-01T12:57:08.668Z"
   },
   {
    "duration": 27,
    "start_time": "2022-09-01T13:23:24.911Z"
   },
   {
    "duration": 16,
    "start_time": "2022-09-01T13:23:39.812Z"
   },
   {
    "duration": 65,
    "start_time": "2022-09-01T13:23:45.744Z"
   },
   {
    "duration": 143,
    "start_time": "2022-09-01T13:23:48.604Z"
   },
   {
    "duration": 28,
    "start_time": "2022-09-01T13:24:11.542Z"
   },
   {
    "duration": 3,
    "start_time": "2022-09-01T13:34:19.423Z"
   },
   {
    "duration": 6,
    "start_time": "2022-09-01T13:35:26.857Z"
   },
   {
    "duration": 6,
    "start_time": "2022-09-01T13:35:34.632Z"
   },
   {
    "duration": 5,
    "start_time": "2022-09-01T13:36:02.566Z"
   },
   {
    "duration": 5,
    "start_time": "2022-09-01T13:36:52.845Z"
   },
   {
    "duration": 6,
    "start_time": "2022-09-01T13:55:26.402Z"
   },
   {
    "duration": 72,
    "start_time": "2022-09-01T13:59:58.199Z"
   },
   {
    "duration": 71,
    "start_time": "2022-09-01T14:00:58.083Z"
   },
   {
    "duration": 157,
    "start_time": "2022-09-01T14:01:09.716Z"
   },
   {
    "duration": 364,
    "start_time": "2022-09-01T14:03:02.874Z"
   },
   {
    "duration": 725,
    "start_time": "2022-09-01T14:03:15.068Z"
   },
   {
    "duration": 1057,
    "start_time": "2022-09-01T19:17:15.132Z"
   },
   {
    "duration": 132,
    "start_time": "2022-09-01T19:17:16.198Z"
   },
   {
    "duration": 13,
    "start_time": "2022-09-01T19:17:16.332Z"
   },
   {
    "duration": 14,
    "start_time": "2022-09-01T19:17:16.347Z"
   },
   {
    "duration": 73,
    "start_time": "2022-09-01T19:17:16.363Z"
   },
   {
    "duration": 483,
    "start_time": "2022-09-01T19:17:16.438Z"
   },
   {
    "duration": 36,
    "start_time": "2022-09-01T19:17:16.922Z"
   },
   {
    "duration": 38,
    "start_time": "2022-09-01T19:17:16.959Z"
   },
   {
    "duration": 29,
    "start_time": "2022-09-01T19:17:16.999Z"
   },
   {
    "duration": 12,
    "start_time": "2022-09-01T19:17:17.030Z"
   },
   {
    "duration": 68,
    "start_time": "2022-09-01T19:17:17.044Z"
   },
   {
    "duration": 137,
    "start_time": "2022-09-01T19:17:17.114Z"
   },
   {
    "duration": 5,
    "start_time": "2022-09-01T19:17:24.576Z"
   },
   {
    "duration": 147,
    "start_time": "2022-09-01T19:17:36.102Z"
   },
   {
    "duration": 147,
    "start_time": "2022-09-01T19:22:51.899Z"
   },
   {
    "duration": 246,
    "start_time": "2022-09-01T19:24:42.275Z"
   },
   {
    "duration": 3,
    "start_time": "2022-09-01T19:24:50.250Z"
   },
   {
    "duration": 144,
    "start_time": "2022-09-01T19:24:58.761Z"
   },
   {
    "duration": 411,
    "start_time": "2022-09-01T19:26:42.643Z"
   },
   {
    "duration": 414,
    "start_time": "2022-09-01T19:26:54.878Z"
   },
   {
    "duration": 416,
    "start_time": "2022-09-01T19:29:26.917Z"
   },
   {
    "duration": 428,
    "start_time": "2022-09-01T19:29:32.929Z"
   },
   {
    "duration": 616,
    "start_time": "2022-09-01T19:32:19.741Z"
   },
   {
    "duration": 670,
    "start_time": "2022-09-01T19:33:00.633Z"
   },
   {
    "duration": 632,
    "start_time": "2022-09-01T19:33:37.210Z"
   },
   {
    "duration": 605,
    "start_time": "2022-09-01T19:33:53.022Z"
   },
   {
    "duration": 12,
    "start_time": "2022-09-01T19:34:53.173Z"
   },
   {
    "duration": 61,
    "start_time": "2022-09-01T19:36:06.926Z"
   },
   {
    "duration": 61,
    "start_time": "2022-09-01T19:36:13.618Z"
   },
   {
    "duration": 25,
    "start_time": "2022-09-01T20:40:29.800Z"
   },
   {
    "duration": 12,
    "start_time": "2022-09-01T20:41:03.636Z"
   },
   {
    "duration": 639,
    "start_time": "2022-09-01T20:41:47.445Z"
   },
   {
    "duration": 12,
    "start_time": "2022-09-01T20:42:17.686Z"
   },
   {
    "duration": 10,
    "start_time": "2022-09-01T20:43:00.933Z"
   },
   {
    "duration": 10,
    "start_time": "2022-09-01T20:43:03.448Z"
   },
   {
    "duration": 19,
    "start_time": "2022-09-01T20:43:56.346Z"
   },
   {
    "duration": 62,
    "start_time": "2022-09-01T20:47:30.152Z"
   },
   {
    "duration": 100,
    "start_time": "2022-09-01T20:47:53.132Z"
   },
   {
    "duration": 59,
    "start_time": "2022-09-01T20:47:58.133Z"
   },
   {
    "duration": 18,
    "start_time": "2022-09-01T20:48:28.680Z"
   },
   {
    "duration": 14,
    "start_time": "2022-09-01T20:48:35.528Z"
   },
   {
    "duration": 15,
    "start_time": "2022-09-01T20:48:39.739Z"
   },
   {
    "duration": 12,
    "start_time": "2022-09-01T20:48:43.590Z"
   },
   {
    "duration": 15,
    "start_time": "2022-09-01T20:48:47.147Z"
   },
   {
    "duration": 18,
    "start_time": "2022-09-01T20:48:52.240Z"
   },
   {
    "duration": 244,
    "start_time": "2022-09-01T20:49:00.931Z"
   },
   {
    "duration": 68,
    "start_time": "2022-09-01T20:49:22.794Z"
   },
   {
    "duration": 59,
    "start_time": "2022-09-01T20:49:55.832Z"
   },
   {
    "duration": 99,
    "start_time": "2022-09-01T20:50:00.734Z"
   },
   {
    "duration": 64,
    "start_time": "2022-09-01T20:50:08.905Z"
   },
   {
    "duration": 104,
    "start_time": "2022-09-01T20:50:13.334Z"
   },
   {
    "duration": 10,
    "start_time": "2022-09-01T21:22:03.711Z"
   },
   {
    "duration": 425,
    "start_time": "2022-09-01T21:22:31.785Z"
   },
   {
    "duration": 540,
    "start_time": "2022-09-01T21:22:37.759Z"
   },
   {
    "duration": 594,
    "start_time": "2022-09-01T21:23:32.478Z"
   },
   {
    "duration": 322,
    "start_time": "2022-09-01T21:27:04.395Z"
   },
   {
    "duration": 287,
    "start_time": "2022-09-01T21:27:12.119Z"
   },
   {
    "duration": 265,
    "start_time": "2022-09-01T21:27:35.574Z"
   },
   {
    "duration": 278,
    "start_time": "2022-09-01T21:27:51.853Z"
   },
   {
    "duration": 306,
    "start_time": "2022-09-01T21:28:16.912Z"
   },
   {
    "duration": 291,
    "start_time": "2022-09-01T21:28:30.945Z"
   },
   {
    "duration": 303,
    "start_time": "2022-09-01T21:29:12.649Z"
   },
   {
    "duration": 350,
    "start_time": "2022-09-01T21:29:56.154Z"
   },
   {
    "duration": 311,
    "start_time": "2022-09-01T21:30:12.228Z"
   },
   {
    "duration": 375,
    "start_time": "2022-09-01T21:36:38.336Z"
   },
   {
    "duration": 294,
    "start_time": "2022-09-01T21:37:00.023Z"
   },
   {
    "duration": 279,
    "start_time": "2022-09-01T21:37:22.772Z"
   },
   {
    "duration": 277,
    "start_time": "2022-09-01T21:37:32.315Z"
   },
   {
    "duration": 334,
    "start_time": "2022-09-01T21:37:50.422Z"
   },
   {
    "duration": 342,
    "start_time": "2022-09-01T21:38:46.897Z"
   },
   {
    "duration": 356,
    "start_time": "2022-09-01T21:39:09.208Z"
   },
   {
    "duration": 6,
    "start_time": "2022-09-01T21:44:11.590Z"
   },
   {
    "duration": 409,
    "start_time": "2022-09-01T21:45:51.497Z"
   },
   {
    "duration": 371,
    "start_time": "2022-09-01T21:47:48.717Z"
   },
   {
    "duration": 390,
    "start_time": "2022-09-01T21:48:43.909Z"
   },
   {
    "duration": 431,
    "start_time": "2022-09-01T21:50:18.038Z"
   },
   {
    "duration": 467,
    "start_time": "2022-09-01T21:50:39.230Z"
   },
   {
    "duration": 67,
    "start_time": "2022-09-01T21:51:18.040Z"
   },
   {
    "duration": 368,
    "start_time": "2022-09-01T21:51:32.750Z"
   },
   {
    "duration": 377,
    "start_time": "2022-09-01T21:51:41.587Z"
   },
   {
    "duration": 415,
    "start_time": "2022-09-01T21:52:08.365Z"
   },
   {
    "duration": 436,
    "start_time": "2022-09-01T21:53:13.407Z"
   },
   {
    "duration": 13,
    "start_time": "2022-09-01T21:54:09.339Z"
   },
   {
    "duration": 15,
    "start_time": "2022-09-01T21:57:19.963Z"
   },
   {
    "duration": 4,
    "start_time": "2022-09-01T21:58:11.378Z"
   },
   {
    "duration": 13,
    "start_time": "2022-09-01T21:59:31.851Z"
   },
   {
    "duration": 14,
    "start_time": "2022-09-01T21:59:48.471Z"
   },
   {
    "duration": 16,
    "start_time": "2022-09-01T22:00:07.267Z"
   },
   {
    "duration": 18,
    "start_time": "2022-09-01T22:00:49.599Z"
   },
   {
    "duration": 11,
    "start_time": "2022-09-01T22:01:05.943Z"
   },
   {
    "duration": 6,
    "start_time": "2022-09-01T22:01:27.401Z"
   },
   {
    "duration": 9,
    "start_time": "2022-09-01T22:01:36.664Z"
   },
   {
    "duration": 14,
    "start_time": "2022-09-01T22:04:53.668Z"
   },
   {
    "duration": 19,
    "start_time": "2022-09-01T22:05:00.357Z"
   },
   {
    "duration": 27,
    "start_time": "2022-09-01T22:06:19.097Z"
   },
   {
    "duration": 28,
    "start_time": "2022-09-01T22:07:29.065Z"
   },
   {
    "duration": 22,
    "start_time": "2022-09-01T22:07:38.947Z"
   },
   {
    "duration": 29,
    "start_time": "2022-09-01T22:07:50.060Z"
   },
   {
    "duration": 17,
    "start_time": "2022-09-01T22:07:55.859Z"
   },
   {
    "duration": 26,
    "start_time": "2022-09-01T22:07:59.776Z"
   },
   {
    "duration": 21,
    "start_time": "2022-09-01T22:08:03.929Z"
   },
   {
    "duration": 35,
    "start_time": "2022-09-01T22:08:08.035Z"
   },
   {
    "duration": 1944,
    "start_time": "2022-09-02T07:53:29.406Z"
   },
   {
    "duration": 124,
    "start_time": "2022-09-02T07:53:31.353Z"
   },
   {
    "duration": 37,
    "start_time": "2022-09-02T07:54:46.427Z"
   },
   {
    "duration": 39,
    "start_time": "2022-09-02T07:54:58.050Z"
   },
   {
    "duration": 40,
    "start_time": "2022-09-02T07:55:41.704Z"
   },
   {
    "duration": 38,
    "start_time": "2022-09-02T07:56:04.338Z"
   },
   {
    "duration": 40,
    "start_time": "2022-09-02T07:56:53.584Z"
   },
   {
    "duration": 43,
    "start_time": "2022-09-02T07:57:01.013Z"
   },
   {
    "duration": 41,
    "start_time": "2022-09-02T07:58:05.993Z"
   },
   {
    "duration": 37,
    "start_time": "2022-09-02T07:58:11.785Z"
   },
   {
    "duration": 45,
    "start_time": "2022-09-02T07:58:17.502Z"
   },
   {
    "duration": 45,
    "start_time": "2022-09-02T07:58:23.482Z"
   },
   {
    "duration": 45,
    "start_time": "2022-09-02T07:58:37.592Z"
   },
   {
    "duration": 46,
    "start_time": "2022-09-02T08:00:17.857Z"
   },
   {
    "duration": 43,
    "start_time": "2022-09-02T08:02:09.985Z"
   },
   {
    "duration": 49,
    "start_time": "2022-09-02T08:07:08.388Z"
   },
   {
    "duration": 50,
    "start_time": "2022-09-02T08:07:39.585Z"
   },
   {
    "duration": 12,
    "start_time": "2022-09-02T08:10:39.106Z"
   },
   {
    "duration": 6,
    "start_time": "2022-09-02T08:13:00.638Z"
   },
   {
    "duration": 100,
    "start_time": "2022-09-02T08:13:00.654Z"
   },
   {
    "duration": 12,
    "start_time": "2022-09-02T08:13:00.756Z"
   },
   {
    "duration": 57,
    "start_time": "2022-09-02T08:13:00.770Z"
   },
   {
    "duration": 111,
    "start_time": "2022-09-02T08:13:03.743Z"
   },
   {
    "duration": 469,
    "start_time": "2022-09-02T08:18:15.368Z"
   },
   {
    "duration": 119,
    "start_time": "2022-09-02T08:18:49.515Z"
   },
   {
    "duration": 145,
    "start_time": "2022-09-02T08:22:06.501Z"
   },
   {
    "duration": 432,
    "start_time": "2022-09-02T08:26:43.826Z"
   },
   {
    "duration": 516,
    "start_time": "2022-09-02T08:28:20.386Z"
   },
   {
    "duration": 434,
    "start_time": "2022-09-02T08:29:15.872Z"
   },
   {
    "duration": 27,
    "start_time": "2022-09-02T08:35:04.400Z"
   },
   {
    "duration": 149,
    "start_time": "2022-09-02T08:37:59.499Z"
   },
   {
    "duration": 33,
    "start_time": "2022-09-02T08:38:18.532Z"
   },
   {
    "duration": 30,
    "start_time": "2022-09-02T08:38:59.024Z"
   },
   {
    "duration": 493,
    "start_time": "2022-09-02T08:40:25.219Z"
   },
   {
    "duration": 50,
    "start_time": "2022-09-02T08:40:51.716Z"
   },
   {
    "duration": 63,
    "start_time": "2022-09-02T08:48:28.865Z"
   },
   {
    "duration": 56,
    "start_time": "2022-09-02T08:49:41.202Z"
   },
   {
    "duration": 471,
    "start_time": "2022-09-02T08:49:52.422Z"
   },
   {
    "duration": 463,
    "start_time": "2022-09-02T08:50:09.177Z"
   },
   {
    "duration": 459,
    "start_time": "2022-09-02T08:51:41.829Z"
   },
   {
    "duration": 870,
    "start_time": "2022-09-02T08:51:53.456Z"
   },
   {
    "duration": 292,
    "start_time": "2022-09-02T08:53:23.372Z"
   },
   {
    "duration": 1951,
    "start_time": "2022-09-02T08:53:52.635Z"
   },
   {
    "duration": 55,
    "start_time": "2022-09-02T08:55:32.278Z"
   },
   {
    "duration": 45,
    "start_time": "2022-09-02T08:55:39.830Z"
   },
   {
    "duration": 18,
    "start_time": "2022-09-02T08:55:47.551Z"
   },
   {
    "duration": 56,
    "start_time": "2022-09-02T08:55:50.390Z"
   },
   {
    "duration": 40,
    "start_time": "2022-09-02T08:55:57.149Z"
   },
   {
    "duration": 53,
    "start_time": "2022-09-02T08:56:01.285Z"
   },
   {
    "duration": 39,
    "start_time": "2022-09-02T08:56:25.459Z"
   },
   {
    "duration": 43,
    "start_time": "2022-09-02T08:56:33.429Z"
   },
   {
    "duration": 45,
    "start_time": "2022-09-02T08:56:39.232Z"
   },
   {
    "duration": 43,
    "start_time": "2022-09-02T08:56:43.557Z"
   },
   {
    "duration": 11,
    "start_time": "2022-09-02T08:58:59.273Z"
   },
   {
    "duration": 22,
    "start_time": "2022-09-02T08:59:13.605Z"
   },
   {
    "duration": 7,
    "start_time": "2022-09-02T08:59:41.573Z"
   },
   {
    "duration": 7,
    "start_time": "2022-09-02T09:00:17.154Z"
   },
   {
    "duration": 30,
    "start_time": "2022-09-02T09:06:26.281Z"
   },
   {
    "duration": 2031,
    "start_time": "2022-09-02T09:08:36.995Z"
   },
   {
    "duration": 1911,
    "start_time": "2022-09-02T09:09:33.981Z"
   },
   {
    "duration": 15,
    "start_time": "2022-09-02T09:15:00.587Z"
   },
   {
    "duration": 14,
    "start_time": "2022-09-02T09:15:23.711Z"
   },
   {
    "duration": 140,
    "start_time": "2022-09-02T09:15:58.400Z"
   },
   {
    "duration": 16,
    "start_time": "2022-09-02T09:16:08.129Z"
   },
   {
    "duration": 16,
    "start_time": "2022-09-02T09:16:32.191Z"
   },
   {
    "duration": 1569,
    "start_time": "2022-09-02T13:46:06.942Z"
   },
   {
    "duration": 147,
    "start_time": "2022-09-02T13:46:08.513Z"
   },
   {
    "duration": 15,
    "start_time": "2022-09-02T13:46:08.661Z"
   },
   {
    "duration": 22,
    "start_time": "2022-09-02T13:46:08.679Z"
   },
   {
    "duration": 117,
    "start_time": "2022-09-02T13:46:08.703Z"
   },
   {
    "duration": 466,
    "start_time": "2022-09-02T13:46:08.822Z"
   },
   {
    "duration": 21,
    "start_time": "2022-09-02T13:46:09.289Z"
   },
   {
    "duration": 1789,
    "start_time": "2022-09-02T13:46:09.312Z"
   },
   {
    "duration": 37,
    "start_time": "2022-09-02T13:46:11.103Z"
   },
   {
    "duration": 120,
    "start_time": "2022-09-02T13:46:11.142Z"
   },
   {
    "duration": 80,
    "start_time": "2022-09-02T13:46:11.512Z"
   },
   {
    "duration": 16,
    "start_time": "2022-09-02T13:46:38.269Z"
   },
   {
    "duration": 38,
    "start_time": "2022-09-02T13:47:12.911Z"
   },
   {
    "duration": 36,
    "start_time": "2022-09-02T13:47:36.676Z"
   },
   {
    "duration": 11,
    "start_time": "2022-09-02T13:54:54.125Z"
   },
   {
    "duration": 7,
    "start_time": "2022-09-02T14:05:54.594Z"
   },
   {
    "duration": 54,
    "start_time": "2022-09-02T14:05:54.611Z"
   },
   {
    "duration": 11,
    "start_time": "2022-09-02T14:05:54.667Z"
   },
   {
    "duration": 23,
    "start_time": "2022-09-02T14:05:54.680Z"
   },
   {
    "duration": 113,
    "start_time": "2022-09-02T14:05:54.705Z"
   },
   {
    "duration": 417,
    "start_time": "2022-09-02T14:05:54.820Z"
   },
   {
    "duration": 21,
    "start_time": "2022-09-02T14:05:55.239Z"
   },
   {
    "duration": 1811,
    "start_time": "2022-09-02T14:05:55.261Z"
   },
   {
    "duration": 43,
    "start_time": "2022-09-02T14:05:57.073Z"
   },
   {
    "duration": 37,
    "start_time": "2022-09-02T14:05:57.117Z"
   },
   {
    "duration": 37,
    "start_time": "2022-09-02T14:06:25.334Z"
   },
   {
    "duration": 21,
    "start_time": "2022-09-02T14:07:22.906Z"
   },
   {
    "duration": 12,
    "start_time": "2022-09-02T14:11:28.277Z"
   },
   {
    "duration": 12,
    "start_time": "2022-09-02T14:12:26.071Z"
   },
   {
    "duration": 1732,
    "start_time": "2022-09-02T14:34:48.944Z"
   },
   {
    "duration": 54,
    "start_time": "2022-09-02T14:34:50.678Z"
   },
   {
    "duration": 16,
    "start_time": "2022-09-02T14:34:50.734Z"
   },
   {
    "duration": 113,
    "start_time": "2022-09-02T14:34:50.752Z"
   },
   {
    "duration": 430,
    "start_time": "2022-09-02T14:34:50.866Z"
   },
   {
    "duration": 26,
    "start_time": "2022-09-02T14:34:51.298Z"
   },
   {
    "duration": 2083,
    "start_time": "2022-09-02T14:34:51.327Z"
   },
   {
    "duration": 43,
    "start_time": "2022-09-02T14:34:53.412Z"
   },
   {
    "duration": 57,
    "start_time": "2022-09-02T14:34:53.457Z"
   },
   {
    "duration": 12,
    "start_time": "2022-09-02T14:34:53.516Z"
   },
   {
    "duration": 41,
    "start_time": "2022-09-02T14:34:53.530Z"
   },
   {
    "duration": 5,
    "start_time": "2022-09-02T14:35:21.206Z"
   },
   {
    "duration": 13,
    "start_time": "2022-09-02T14:35:37.070Z"
   },
   {
    "duration": 1825,
    "start_time": "2022-09-02T14:37:31.735Z"
   },
   {
    "duration": 5,
    "start_time": "2022-09-02T14:37:38.133Z"
   },
   {
    "duration": 6,
    "start_time": "2022-09-02T14:39:45.214Z"
   },
   {
    "duration": 6,
    "start_time": "2022-09-02T14:39:54.941Z"
   },
   {
    "duration": 1889,
    "start_time": "2022-09-02T20:46:52.459Z"
   },
   {
    "duration": 5,
    "start_time": "2022-09-02T20:54:54.520Z"
   },
   {
    "duration": 91,
    "start_time": "2022-09-02T20:54:54.529Z"
   },
   {
    "duration": 12,
    "start_time": "2022-09-02T20:54:58.507Z"
   },
   {
    "duration": 11,
    "start_time": "2022-09-02T20:55:20.239Z"
   },
   {
    "duration": 19,
    "start_time": "2022-09-02T20:55:30.878Z"
   },
   {
    "duration": 106,
    "start_time": "2022-09-02T20:55:36.950Z"
   },
   {
    "duration": 13,
    "start_time": "2022-09-02T20:55:40.958Z"
   },
   {
    "duration": 12,
    "start_time": "2022-09-02T20:56:48.121Z"
   },
   {
    "duration": 12,
    "start_time": "2022-09-02T20:57:27.895Z"
   },
   {
    "duration": 12,
    "start_time": "2022-09-02T20:58:06.652Z"
   },
   {
    "duration": 13,
    "start_time": "2022-09-02T20:58:27.933Z"
   },
   {
    "duration": 12,
    "start_time": "2022-09-02T20:58:52.594Z"
   },
   {
    "duration": 33,
    "start_time": "2022-09-02T21:10:12.511Z"
   },
   {
    "duration": 6,
    "start_time": "2022-09-02T21:11:33.273Z"
   },
   {
    "duration": 53,
    "start_time": "2022-09-02T21:11:33.281Z"
   },
   {
    "duration": 12,
    "start_time": "2022-09-02T21:11:33.336Z"
   },
   {
    "duration": 100,
    "start_time": "2022-09-02T21:11:33.349Z"
   },
   {
    "duration": 426,
    "start_time": "2022-09-02T21:11:33.451Z"
   },
   {
    "duration": 485,
    "start_time": "2022-09-02T21:11:35.856Z"
   },
   {
    "duration": 475,
    "start_time": "2022-09-02T21:14:37.049Z"
   },
   {
    "duration": 15,
    "start_time": "2022-09-02T21:15:17.264Z"
   },
   {
    "duration": 8,
    "start_time": "2022-09-02T21:17:51.854Z"
   },
   {
    "duration": 19,
    "start_time": "2022-09-02T21:19:30.154Z"
   },
   {
    "duration": 15,
    "start_time": "2022-09-02T21:20:51.521Z"
   },
   {
    "duration": 7,
    "start_time": "2022-09-02T21:20:58.453Z"
   },
   {
    "duration": 52,
    "start_time": "2022-09-02T21:21:09.704Z"
   },
   {
    "duration": 531,
    "start_time": "2022-09-02T21:23:10.223Z"
   },
   {
    "duration": 79,
    "start_time": "2022-09-02T21:24:06.631Z"
   },
   {
    "duration": 75,
    "start_time": "2022-09-02T21:24:20.327Z"
   },
   {
    "duration": 73,
    "start_time": "2022-09-02T21:24:25.864Z"
   },
   {
    "duration": 83,
    "start_time": "2022-09-02T21:25:17.192Z"
   },
   {
    "duration": 1487,
    "start_time": "2022-09-02T21:25:24.900Z"
   },
   {
    "duration": 21,
    "start_time": "2022-09-02T21:31:18.110Z"
   },
   {
    "duration": 14,
    "start_time": "2022-09-02T21:31:34.542Z"
   },
   {
    "duration": 1432,
    "start_time": "2022-09-02T21:34:10.844Z"
   },
   {
    "duration": 8418,
    "start_time": "2022-09-02T21:35:50.624Z"
   },
   {
    "duration": 11040,
    "start_time": "2022-09-02T21:36:01.515Z"
   },
   {
    "duration": 437,
    "start_time": "2022-09-02T21:38:37.450Z"
   },
   {
    "duration": 600,
    "start_time": "2022-09-02T21:39:05.587Z"
   },
   {
    "duration": 1840,
    "start_time": "2022-09-03T05:35:11.426Z"
   },
   {
    "duration": 6,
    "start_time": "2022-09-03T05:37:19.020Z"
   },
   {
    "duration": 106,
    "start_time": "2022-09-03T05:37:19.028Z"
   },
   {
    "duration": 15,
    "start_time": "2022-09-03T05:37:19.136Z"
   },
   {
    "duration": 163,
    "start_time": "2022-09-03T05:37:19.153Z"
   },
   {
    "duration": 585,
    "start_time": "2022-09-03T05:37:19.318Z"
   },
   {
    "duration": 700,
    "start_time": "2022-09-03T05:37:19.906Z"
   },
   {
    "duration": 24,
    "start_time": "2022-09-03T05:37:20.608Z"
   },
   {
    "duration": 2081,
    "start_time": "2022-09-03T05:37:25.786Z"
   },
   {
    "duration": 7657,
    "start_time": "2022-09-03T05:38:02.148Z"
   },
   {
    "duration": 844,
    "start_time": "2022-09-03T05:42:17.111Z"
   },
   {
    "duration": 13719,
    "start_time": "2022-09-03T05:42:36.420Z"
   },
   {
    "duration": 1416,
    "start_time": "2022-09-03T07:34:54.522Z"
   },
   {
    "duration": 133,
    "start_time": "2022-09-03T07:34:55.940Z"
   },
   {
    "duration": 13,
    "start_time": "2022-09-03T07:34:56.075Z"
   },
   {
    "duration": 145,
    "start_time": "2022-09-03T07:34:56.090Z"
   },
   {
    "duration": 102,
    "start_time": "2022-09-03T07:36:13.111Z"
   },
   {
    "duration": 11,
    "start_time": "2022-09-03T07:37:23.114Z"
   },
   {
    "duration": 11,
    "start_time": "2022-09-03T07:38:25.144Z"
   },
   {
    "duration": 11,
    "start_time": "2022-09-03T07:38:49.646Z"
   },
   {
    "duration": 15,
    "start_time": "2022-09-03T07:39:31.420Z"
   },
   {
    "duration": 14,
    "start_time": "2022-09-03T07:39:40.907Z"
   },
   {
    "duration": 17,
    "start_time": "2022-09-03T07:40:03.522Z"
   },
   {
    "duration": 5,
    "start_time": "2022-09-03T07:50:58.433Z"
   },
   {
    "duration": 45,
    "start_time": "2022-09-03T07:50:58.449Z"
   },
   {
    "duration": 11,
    "start_time": "2022-09-03T07:50:58.495Z"
   },
   {
    "duration": 99,
    "start_time": "2022-09-03T07:50:58.508Z"
   },
   {
    "duration": 309,
    "start_time": "2022-09-03T07:51:01.505Z"
   },
   {
    "duration": 335,
    "start_time": "2022-09-03T07:52:11.914Z"
   },
   {
    "duration": 628,
    "start_time": "2022-09-03T07:52:26.971Z"
   },
   {
    "duration": 606,
    "start_time": "2022-09-03T07:52:48.924Z"
   },
   {
    "duration": 15,
    "start_time": "2022-09-03T07:53:23.986Z"
   },
   {
    "duration": 5,
    "start_time": "2022-09-03T07:53:37.989Z"
   },
   {
    "duration": 52,
    "start_time": "2022-09-03T07:53:38.004Z"
   },
   {
    "duration": 11,
    "start_time": "2022-09-03T07:53:38.058Z"
   },
   {
    "duration": 121,
    "start_time": "2022-09-03T07:53:38.070Z"
   },
   {
    "duration": 591,
    "start_time": "2022-09-03T07:53:38.193Z"
   },
   {
    "duration": 483,
    "start_time": "2022-09-03T07:53:38.786Z"
   },
   {
    "duration": 556,
    "start_time": "2022-09-03T07:53:39.270Z"
   },
   {
    "duration": 21,
    "start_time": "2022-09-03T07:53:39.828Z"
   },
   {
    "duration": 0,
    "start_time": "2022-09-03T07:53:39.851Z"
   },
   {
    "duration": 0,
    "start_time": "2022-09-03T07:53:39.852Z"
   },
   {
    "duration": 0,
    "start_time": "2022-09-03T07:53:39.853Z"
   },
   {
    "duration": 0,
    "start_time": "2022-09-03T07:53:39.855Z"
   },
   {
    "duration": 14,
    "start_time": "2022-09-03T07:53:40.630Z"
   },
   {
    "duration": 586,
    "start_time": "2022-09-03T07:55:11.019Z"
   },
   {
    "duration": 525,
    "start_time": "2022-09-03T07:55:32.376Z"
   },
   {
    "duration": 617,
    "start_time": "2022-09-03T07:57:53.878Z"
   },
   {
    "duration": 4112,
    "start_time": "2022-09-03T07:58:18.318Z"
   },
   {
    "duration": 14989,
    "start_time": "2022-09-03T07:59:18.768Z"
   },
   {
    "duration": 3334,
    "start_time": "2022-09-03T07:59:53.642Z"
   },
   {
    "duration": 1524,
    "start_time": "2022-09-03T08:00:12.774Z"
   },
   {
    "duration": 20,
    "start_time": "2022-09-03T08:02:54.402Z"
   },
   {
    "duration": 1544,
    "start_time": "2022-09-03T08:03:01.767Z"
   },
   {
    "duration": 33941,
    "start_time": "2022-09-03T08:03:13.073Z"
   },
   {
    "duration": 9300,
    "start_time": "2022-09-03T08:04:15.632Z"
   },
   {
    "duration": 66595,
    "start_time": "2022-09-03T08:09:24.185Z"
   },
   {
    "duration": 8,
    "start_time": "2022-09-03T08:15:12.725Z"
   },
   {
    "duration": 0,
    "start_time": "2022-09-03T08:29:00.770Z"
   },
   {
    "duration": 0,
    "start_time": "2022-09-03T08:29:00.771Z"
   },
   {
    "duration": 524,
    "start_time": "2022-09-03T08:29:04.417Z"
   },
   {
    "duration": 555,
    "start_time": "2022-09-03T08:29:25.884Z"
   },
   {
    "duration": 58,
    "start_time": "2022-09-03T08:29:52.953Z"
   },
   {
    "duration": 9539,
    "start_time": "2022-09-03T08:30:26.973Z"
   },
   {
    "duration": 2451,
    "start_time": "2022-09-03T08:31:54.111Z"
   },
   {
    "duration": 4696,
    "start_time": "2022-09-03T08:32:30.953Z"
   },
   {
    "duration": 41559,
    "start_time": "2022-09-03T08:34:56.415Z"
   },
   {
    "duration": 1543,
    "start_time": "2022-09-03T20:01:25.666Z"
   },
   {
    "duration": 178,
    "start_time": "2022-09-03T20:01:27.212Z"
   },
   {
    "duration": 15,
    "start_time": "2022-09-03T20:01:27.392Z"
   },
   {
    "duration": 134,
    "start_time": "2022-09-03T20:01:27.412Z"
   },
   {
    "duration": 9802,
    "start_time": "2022-09-03T20:01:27.548Z"
   },
   {
    "duration": 527,
    "start_time": "2022-09-03T20:01:37.351Z"
   },
   {
    "duration": 4035,
    "start_time": "2022-09-03T20:01:37.880Z"
   },
   {
    "duration": 143,
    "start_time": "2022-09-03T20:04:13.300Z"
   },
   {
    "duration": 1935,
    "start_time": "2022-09-03T20:05:03.756Z"
   },
   {
    "duration": 7,
    "start_time": "2022-09-03T20:08:03.339Z"
   },
   {
    "duration": 46889,
    "start_time": "2022-09-03T20:08:41.772Z"
   },
   {
    "duration": 46686,
    "start_time": "2022-09-03T20:10:36.883Z"
   },
   {
    "duration": 102801,
    "start_time": "2022-09-03T20:14:40.675Z"
   },
   {
    "duration": 24612,
    "start_time": "2022-09-03T20:16:32.231Z"
   },
   {
    "duration": 8,
    "start_time": "2022-09-03T20:18:10.732Z"
   },
   {
    "duration": 4,
    "start_time": "2022-09-03T20:18:17.729Z"
   },
   {
    "duration": 1508,
    "start_time": "2022-09-03T21:39:56.779Z"
   },
   {
    "duration": 145,
    "start_time": "2022-09-03T21:39:58.290Z"
   },
   {
    "duration": 13,
    "start_time": "2022-09-03T21:39:58.437Z"
   },
   {
    "duration": 106,
    "start_time": "2022-09-03T21:39:58.452Z"
   },
   {
    "duration": 9752,
    "start_time": "2022-09-03T21:39:58.560Z"
   },
   {
    "duration": 413,
    "start_time": "2022-09-03T21:40:08.313Z"
   },
   {
    "duration": 3921,
    "start_time": "2022-09-03T21:40:08.728Z"
   },
   {
    "duration": 1790,
    "start_time": "2022-09-03T21:40:12.651Z"
   },
   {
    "duration": 25568,
    "start_time": "2022-09-03T21:40:24.890Z"
   },
   {
    "duration": 3,
    "start_time": "2022-09-03T21:40:53.877Z"
   },
   {
    "duration": 104,
    "start_time": "2022-09-03T21:40:57.005Z"
   },
   {
    "duration": 9,
    "start_time": "2022-09-03T21:41:26.141Z"
   },
   {
    "duration": 12,
    "start_time": "2022-09-03T21:41:34.402Z"
   },
   {
    "duration": 49,
    "start_time": "2022-09-03T21:44:52.722Z"
   },
   {
    "duration": 7,
    "start_time": "2022-09-04T21:32:47.921Z"
   },
   {
    "duration": 3,
    "start_time": "2022-09-04T21:32:54.840Z"
   },
   {
    "duration": 3,
    "start_time": "2022-09-04T21:32:59.890Z"
   },
   {
    "duration": 3,
    "start_time": "2022-09-04T21:33:13.812Z"
   },
   {
    "duration": 1397,
    "start_time": "2022-09-04T21:39:30.864Z"
   },
   {
    "duration": 143,
    "start_time": "2022-09-04T21:39:32.262Z"
   },
   {
    "duration": 12,
    "start_time": "2022-09-04T21:39:32.879Z"
   },
   {
    "duration": 41832,
    "start_time": "2022-09-04T21:39:50.278Z"
   },
   {
    "duration": 12,
    "start_time": "2022-09-04T21:44:08.132Z"
   },
   {
    "duration": 11,
    "start_time": "2022-09-04T21:46:49.443Z"
   },
   {
    "duration": 9,
    "start_time": "2022-09-04T21:47:34.815Z"
   },
   {
    "duration": 10,
    "start_time": "2022-09-04T21:47:49.192Z"
   },
   {
    "duration": 11,
    "start_time": "2022-09-04T21:48:02.597Z"
   },
   {
    "duration": 136401,
    "start_time": "2022-09-04T21:50:27.145Z"
   },
   {
    "duration": 229000,
    "start_time": "2022-09-04T21:52:45.696Z"
   },
   {
    "duration": 3,
    "start_time": "2022-09-04T21:56:54.633Z"
   },
   {
    "duration": 13,
    "start_time": "2022-09-04T22:00:37.647Z"
   },
   {
    "duration": 24,
    "start_time": "2022-09-04T22:04:05.462Z"
   },
   {
    "duration": 111,
    "start_time": "2022-09-04T22:08:31.905Z"
   },
   {
    "duration": 16,
    "start_time": "2022-09-04T22:10:01.814Z"
   },
   {
    "duration": 56592,
    "start_time": "2022-09-04T22:12:15.864Z"
   },
   {
    "duration": 18,
    "start_time": "2022-09-04T22:14:59.978Z"
   },
   {
    "duration": 7,
    "start_time": "2022-09-04T22:17:22.329Z"
   },
   {
    "duration": 2794,
    "start_time": "2022-09-04T22:17:38.616Z"
   },
   {
    "duration": 16,
    "start_time": "2022-09-04T22:18:08.498Z"
   },
   {
    "duration": 51,
    "start_time": "2022-09-05T06:52:32.295Z"
   },
   {
    "duration": 0,
    "start_time": "2022-09-05T06:52:32.349Z"
   },
   {
    "duration": 0,
    "start_time": "2022-09-05T06:52:32.352Z"
   },
   {
    "duration": 0,
    "start_time": "2022-09-05T06:52:32.354Z"
   },
   {
    "duration": 0,
    "start_time": "2022-09-05T06:52:32.356Z"
   },
   {
    "duration": 0,
    "start_time": "2022-09-05T06:52:32.358Z"
   },
   {
    "duration": 0,
    "start_time": "2022-09-05T06:52:32.359Z"
   },
   {
    "duration": 37,
    "start_time": "2022-09-05T06:52:32.362Z"
   },
   {
    "duration": 0,
    "start_time": "2022-09-05T06:52:32.401Z"
   },
   {
    "duration": 0,
    "start_time": "2022-09-05T06:52:32.403Z"
   },
   {
    "duration": 0,
    "start_time": "2022-09-05T06:52:32.404Z"
   },
   {
    "duration": 0,
    "start_time": "2022-09-05T06:52:32.406Z"
   },
   {
    "duration": 0,
    "start_time": "2022-09-05T06:52:32.407Z"
   },
   {
    "duration": 0,
    "start_time": "2022-09-05T06:52:32.409Z"
   },
   {
    "duration": 0,
    "start_time": "2022-09-05T06:52:32.411Z"
   },
   {
    "duration": 9,
    "start_time": "2022-09-05T06:52:32.418Z"
   },
   {
    "duration": 7,
    "start_time": "2022-09-05T06:52:32.441Z"
   },
   {
    "duration": 8,
    "start_time": "2022-09-05T06:52:54.253Z"
   },
   {
    "duration": 1563,
    "start_time": "2022-09-05T06:53:21.421Z"
   },
   {
    "duration": 94,
    "start_time": "2022-09-05T06:53:27.060Z"
   },
   {
    "duration": 14,
    "start_time": "2022-09-05T06:53:33.084Z"
   },
   {
    "duration": 1325528,
    "start_time": "2022-09-05T06:57:40.876Z"
   },
   {
    "duration": 909157,
    "start_time": "2022-09-05T07:19:48.377Z"
   },
   {
    "duration": 15325,
    "start_time": "2022-09-05T07:40:30.857Z"
   },
   {
    "duration": 147234,
    "start_time": "2022-09-05T07:42:48.546Z"
   },
   {
    "duration": 5,
    "start_time": "2022-09-05T07:49:10.213Z"
   },
   {
    "duration": 28,
    "start_time": "2022-09-05T07:49:32.741Z"
   },
   {
    "duration": 115,
    "start_time": "2022-09-05T07:55:06.511Z"
   },
   {
    "duration": 11356,
    "start_time": "2022-09-05T07:55:32.770Z"
   },
   {
    "duration": 11370,
    "start_time": "2022-09-05T07:55:58.679Z"
   },
   {
    "duration": 477,
    "start_time": "2022-09-05T07:56:16.107Z"
   },
   {
    "duration": 4975,
    "start_time": "2022-09-05T07:56:46.675Z"
   },
   {
    "duration": 67134,
    "start_time": "2022-09-05T07:57:00.829Z"
   },
   {
    "duration": 17,
    "start_time": "2022-09-05T08:01:51.403Z"
   },
   {
    "duration": 1847,
    "start_time": "2022-09-05T08:02:24.001Z"
   },
   {
    "duration": 13,
    "start_time": "2022-09-05T08:02:41.618Z"
   },
   {
    "duration": 335,
    "start_time": "2022-09-05T08:03:10.118Z"
   },
   {
    "duration": 14,
    "start_time": "2022-09-05T08:03:20.068Z"
   },
   {
    "duration": 53,
    "start_time": "2022-09-05T08:03:38.986Z"
   },
   {
    "duration": 16,
    "start_time": "2022-09-05T08:03:44.408Z"
   },
   {
    "duration": 90,
    "start_time": "2022-09-05T08:04:10.640Z"
   },
   {
    "duration": 16,
    "start_time": "2022-09-05T08:04:13.140Z"
   },
   {
    "duration": 238,
    "start_time": "2022-09-05T08:04:25.204Z"
   },
   {
    "duration": 18,
    "start_time": "2022-09-05T08:04:30.514Z"
   },
   {
    "duration": 79,
    "start_time": "2022-09-05T08:04:43.754Z"
   },
   {
    "duration": 15,
    "start_time": "2022-09-05T08:04:47.014Z"
   },
   {
    "duration": 201,
    "start_time": "2022-09-05T08:04:59.636Z"
   },
   {
    "duration": 17,
    "start_time": "2022-09-05T08:05:05.114Z"
   },
   {
    "duration": 116,
    "start_time": "2022-09-05T08:05:13.672Z"
   },
   {
    "duration": 17,
    "start_time": "2022-09-05T08:05:17.208Z"
   },
   {
    "duration": 64,
    "start_time": "2022-09-05T08:05:30.983Z"
   },
   {
    "duration": 12,
    "start_time": "2022-09-05T08:05:34.789Z"
   },
   {
    "duration": 190,
    "start_time": "2022-09-05T08:05:45.589Z"
   },
   {
    "duration": 14,
    "start_time": "2022-09-05T08:05:48.819Z"
   },
   {
    "duration": 333,
    "start_time": "2022-09-05T08:06:01.029Z"
   },
   {
    "duration": 13,
    "start_time": "2022-09-05T08:06:03.555Z"
   },
   {
    "duration": 1327,
    "start_time": "2022-09-05T08:06:12.277Z"
   },
   {
    "duration": 15,
    "start_time": "2022-09-05T08:06:17.127Z"
   },
   {
    "duration": 1787,
    "start_time": "2022-09-05T08:06:30.409Z"
   },
   {
    "duration": 21,
    "start_time": "2022-09-05T08:06:34.603Z"
   },
   {
    "duration": 1032,
    "start_time": "2022-09-05T08:06:39.800Z"
   },
   {
    "duration": 23,
    "start_time": "2022-09-05T08:06:43.175Z"
   },
   {
    "duration": 1396,
    "start_time": "2022-09-05T08:06:56.020Z"
   },
   {
    "duration": 20,
    "start_time": "2022-09-05T08:07:00.105Z"
   },
   {
    "duration": 545,
    "start_time": "2022-09-05T08:07:13.166Z"
   },
   {
    "duration": 23,
    "start_time": "2022-09-05T08:07:16.434Z"
   },
   {
    "duration": 13263,
    "start_time": "2022-09-05T08:07:29.257Z"
   },
   {
    "duration": 17,
    "start_time": "2022-09-05T08:07:47.099Z"
   },
   {
    "duration": 119,
    "start_time": "2022-09-05T08:10:34.791Z"
   },
   {
    "duration": 105,
    "start_time": "2022-09-05T08:10:58.329Z"
   },
   {
    "duration": 109,
    "start_time": "2022-09-05T08:11:01.033Z"
   },
   {
    "duration": 25,
    "start_time": "2022-09-05T08:11:20.629Z"
   },
   {
    "duration": 365020,
    "start_time": "2022-09-05T08:15:31.752Z"
   },
   {
    "duration": 4,
    "start_time": "2022-09-05T08:29:12.688Z"
   },
   {
    "duration": 36,
    "start_time": "2022-09-05T08:29:31.668Z"
   },
   {
    "duration": 68111,
    "start_time": "2022-09-05T08:41:18.242Z"
   },
   {
    "duration": 21,
    "start_time": "2022-09-05T08:44:00.885Z"
   },
   {
    "duration": 107,
    "start_time": "2022-09-05T08:44:25.571Z"
   },
   {
    "duration": 11,
    "start_time": "2022-09-05T08:58:34.800Z"
   },
   {
    "duration": 13,
    "start_time": "2022-09-05T08:58:54.440Z"
   },
   {
    "duration": 18,
    "start_time": "2022-09-05T09:06:10.993Z"
   },
   {
    "duration": 1311,
    "start_time": "2022-09-05T17:46:34.815Z"
   },
   {
    "duration": 0,
    "start_time": "2022-09-05T17:46:36.128Z"
   },
   {
    "duration": 0,
    "start_time": "2022-09-05T17:46:36.129Z"
   },
   {
    "duration": 0,
    "start_time": "2022-09-05T17:46:36.137Z"
   },
   {
    "duration": 0,
    "start_time": "2022-09-05T17:46:36.139Z"
   },
   {
    "duration": 0,
    "start_time": "2022-09-05T17:46:36.141Z"
   },
   {
    "duration": 0,
    "start_time": "2022-09-05T17:46:36.142Z"
   },
   {
    "duration": 0,
    "start_time": "2022-09-05T17:46:36.144Z"
   },
   {
    "duration": 0,
    "start_time": "2022-09-05T17:46:36.145Z"
   },
   {
    "duration": 0,
    "start_time": "2022-09-05T17:46:36.147Z"
   },
   {
    "duration": 0,
    "start_time": "2022-09-05T17:46:36.148Z"
   },
   {
    "duration": 0,
    "start_time": "2022-09-05T17:46:36.149Z"
   },
   {
    "duration": 0,
    "start_time": "2022-09-05T17:46:36.150Z"
   },
   {
    "duration": 0,
    "start_time": "2022-09-05T17:46:36.151Z"
   },
   {
    "duration": 1639,
    "start_time": "2022-09-05T17:46:46.439Z"
   },
   {
    "duration": 50,
    "start_time": "2022-09-05T17:46:48.080Z"
   },
   {
    "duration": 11,
    "start_time": "2022-09-05T17:46:48.132Z"
   },
   {
    "duration": 104,
    "start_time": "2022-09-05T17:46:48.144Z"
   },
   {
    "duration": 9466,
    "start_time": "2022-09-05T17:46:48.250Z"
   },
   {
    "duration": 389,
    "start_time": "2022-09-05T17:46:57.718Z"
   },
   {
    "duration": 3915,
    "start_time": "2022-09-05T17:46:58.108Z"
   },
   {
    "duration": 56818,
    "start_time": "2022-09-05T17:47:02.025Z"
   },
   {
    "duration": 128,
    "start_time": "2022-09-05T17:47:58.845Z"
   },
   {
    "duration": 311583,
    "start_time": "2022-09-05T17:47:58.975Z"
   },
   {
    "duration": 4,
    "start_time": "2022-09-05T17:53:10.559Z"
   },
   {
    "duration": 37,
    "start_time": "2022-09-05T17:53:10.564Z"
   },
   {
    "duration": 9,
    "start_time": "2022-09-05T17:53:10.602Z"
   },
   {
    "duration": 28,
    "start_time": "2022-09-05T17:53:10.613Z"
   },
   {
    "duration": 11,
    "start_time": "2022-09-05T17:56:46.362Z"
   },
   {
    "duration": 5,
    "start_time": "2022-09-05T17:58:48.682Z"
   },
   {
    "duration": 4,
    "start_time": "2022-09-05T17:59:15.547Z"
   },
   {
    "duration": 72,
    "start_time": "2022-09-05T18:00:21.028Z"
   },
   {
    "duration": 103,
    "start_time": "2022-09-05T18:00:24.561Z"
   },
   {
    "duration": 5,
    "start_time": "2022-09-05T18:00:29.023Z"
   },
   {
    "duration": 11,
    "start_time": "2022-09-05T18:00:38.091Z"
   },
   {
    "duration": 5,
    "start_time": "2022-09-05T18:00:48.186Z"
   },
   {
    "duration": 11,
    "start_time": "2022-09-05T18:01:02.243Z"
   },
   {
    "duration": 11,
    "start_time": "2022-09-05T18:01:26.715Z"
   },
   {
    "duration": 56911,
    "start_time": "2022-09-05T18:01:42.478Z"
   },
   {
    "duration": 6,
    "start_time": "2022-09-05T18:02:48.882Z"
   },
   {
    "duration": 11,
    "start_time": "2022-09-05T18:02:51.626Z"
   },
   {
    "duration": 11,
    "start_time": "2022-09-05T18:02:57.622Z"
   },
   {
    "duration": 4,
    "start_time": "2022-09-05T18:03:34.230Z"
   },
   {
    "duration": 4,
    "start_time": "2022-09-05T18:03:59.529Z"
   },
   {
    "duration": 11,
    "start_time": "2022-09-05T18:04:18.073Z"
   },
   {
    "duration": 100,
    "start_time": "2022-09-05T18:04:41.585Z"
   },
   {
    "duration": 20,
    "start_time": "2022-09-05T18:04:54.333Z"
   },
   {
    "duration": 12,
    "start_time": "2022-09-05T18:05:13.778Z"
   },
   {
    "duration": 10,
    "start_time": "2022-09-05T18:05:23.521Z"
   },
   {
    "duration": 4,
    "start_time": "2022-09-05T18:05:32.014Z"
   },
   {
    "duration": 59716,
    "start_time": "2022-09-05T18:05:35.880Z"
   },
   {
    "duration": 4,
    "start_time": "2022-09-05T18:06:56.675Z"
   },
   {
    "duration": 13,
    "start_time": "2022-09-05T18:07:00.329Z"
   },
   {
    "duration": 5,
    "start_time": "2022-09-05T18:07:36.888Z"
   },
   {
    "duration": 6,
    "start_time": "2022-09-05T18:07:45.457Z"
   },
   {
    "duration": 12,
    "start_time": "2022-09-05T18:07:49.872Z"
   },
   {
    "duration": 5,
    "start_time": "2022-09-05T18:08:42.255Z"
   },
   {
    "duration": 12,
    "start_time": "2022-09-05T18:08:58.576Z"
   },
   {
    "duration": 12,
    "start_time": "2022-09-05T18:09:04.850Z"
   },
   {
    "duration": 11,
    "start_time": "2022-09-05T18:09:15.350Z"
   },
   {
    "duration": 12,
    "start_time": "2022-09-05T18:09:39.352Z"
   },
   {
    "duration": 5,
    "start_time": "2022-09-05T18:09:48.725Z"
   },
   {
    "duration": 10,
    "start_time": "2022-09-05T18:09:49.385Z"
   },
   {
    "duration": 5,
    "start_time": "2022-09-05T18:09:59.034Z"
   },
   {
    "duration": 13,
    "start_time": "2022-09-05T18:10:29.657Z"
   },
   {
    "duration": 12,
    "start_time": "2022-09-05T18:10:48.551Z"
   },
   {
    "duration": 5,
    "start_time": "2022-09-05T18:12:44.633Z"
   },
   {
    "duration": 4,
    "start_time": "2022-09-05T18:12:50.742Z"
   },
   {
    "duration": 9,
    "start_time": "2022-09-05T18:13:22.434Z"
   },
   {
    "duration": 21,
    "start_time": "2022-09-05T18:13:33.232Z"
   },
   {
    "duration": 13,
    "start_time": "2022-09-05T18:13:54.618Z"
   },
   {
    "duration": 12,
    "start_time": "2022-09-05T18:14:36.736Z"
   },
   {
    "duration": 37,
    "start_time": "2022-09-05T18:14:51.078Z"
   },
   {
    "duration": 6,
    "start_time": "2022-09-05T18:15:11.121Z"
   },
   {
    "duration": 371,
    "start_time": "2022-09-05T18:15:23.126Z"
   },
   {
    "duration": 9798,
    "start_time": "2022-09-05T18:15:45.838Z"
   },
   {
    "duration": 11,
    "start_time": "2022-09-05T18:16:10.313Z"
   },
   {
    "duration": 120,
    "start_time": "2022-09-05T18:16:53.182Z"
   },
   {
    "duration": 5,
    "start_time": "2022-09-05T18:17:25.461Z"
   },
   {
    "duration": 4,
    "start_time": "2022-09-05T18:17:33.269Z"
   },
   {
    "duration": 98,
    "start_time": "2022-09-05T18:17:39.990Z"
   },
   {
    "duration": 7,
    "start_time": "2022-09-05T18:17:53.848Z"
   },
   {
    "duration": 1685,
    "start_time": "2022-09-05T18:26:35.973Z"
   },
   {
    "duration": 183,
    "start_time": "2022-09-05T18:26:37.661Z"
   },
   {
    "duration": 17,
    "start_time": "2022-09-05T18:26:37.848Z"
   },
   {
    "duration": 91,
    "start_time": "2022-09-05T18:32:50.275Z"
   },
   {
    "duration": 148,
    "start_time": "2022-09-05T18:38:09.702Z"
   },
   {
    "duration": 13,
    "start_time": "2022-09-05T18:38:18.475Z"
   },
   {
    "duration": 25,
    "start_time": "2022-09-05T18:38:37.503Z"
   },
   {
    "duration": 29,
    "start_time": "2022-09-05T18:38:59.005Z"
   },
   {
    "duration": 1420,
    "start_time": "2022-09-05T18:39:18.973Z"
   },
   {
    "duration": 1175,
    "start_time": "2022-09-05T18:39:38.846Z"
   },
   {
    "duration": 2981,
    "start_time": "2022-09-05T18:40:19.145Z"
   },
   {
    "duration": 3005,
    "start_time": "2022-09-05T18:40:33.560Z"
   },
   {
    "duration": 17,
    "start_time": "2022-09-05T18:40:49.054Z"
   },
   {
    "duration": 2855,
    "start_time": "2022-09-05T18:41:13.591Z"
   },
   {
    "duration": 617,
    "start_time": "2022-09-05T18:41:59.542Z"
   },
   {
    "duration": 670,
    "start_time": "2022-09-05T18:42:51.998Z"
   },
   {
    "duration": 707,
    "start_time": "2022-09-05T18:42:57.442Z"
   },
   {
    "duration": 604,
    "start_time": "2022-09-05T18:43:04.745Z"
   },
   {
    "duration": 390,
    "start_time": "2022-09-05T18:43:11.058Z"
   },
   {
    "duration": 295,
    "start_time": "2022-09-05T18:43:21.672Z"
   },
   {
    "duration": 382,
    "start_time": "2022-09-05T18:43:30.787Z"
   },
   {
    "duration": 714,
    "start_time": "2022-09-05T18:43:36.582Z"
   },
   {
    "duration": 28,
    "start_time": "2022-09-05T18:43:59.135Z"
   },
   {
    "duration": 21,
    "start_time": "2022-09-05T18:44:06.081Z"
   },
   {
    "duration": 17,
    "start_time": "2022-09-05T18:44:09.353Z"
   },
   {
    "duration": 15,
    "start_time": "2022-09-05T18:44:32.274Z"
   },
   {
    "duration": 1642,
    "start_time": "2022-09-05T18:44:39.603Z"
   },
   {
    "duration": 670,
    "start_time": "2022-09-05T18:44:50.146Z"
   },
   {
    "duration": 867,
    "start_time": "2022-09-05T18:47:06.297Z"
   },
   {
    "duration": 719,
    "start_time": "2022-09-05T18:47:24.549Z"
   },
   {
    "duration": 102,
    "start_time": "2022-09-05T18:52:53.950Z"
   },
   {
    "duration": 12,
    "start_time": "2022-09-05T18:52:57.248Z"
   },
   {
    "duration": 47,
    "start_time": "2022-09-05T18:54:53.935Z"
   }
  ],
  "kernelspec": {
   "display_name": "Python 3 (ipykernel)",
   "language": "python",
   "name": "python3"
  },
  "language_info": {
   "codemirror_mode": {
    "name": "ipython",
    "version": 3
   },
   "file_extension": ".py",
   "mimetype": "text/x-python",
   "name": "python",
   "nbconvert_exporter": "python",
   "pygments_lexer": "ipython3",
   "version": "3.9.12"
  },
  "toc": {
   "base_numbering": 1,
   "nav_menu": {},
   "number_sections": true,
   "sideBar": true,
   "skip_h1_title": true,
   "title_cell": "Table of Contents",
   "title_sidebar": "Contents",
   "toc_cell": false,
   "toc_position": {},
   "toc_section_display": true,
   "toc_window_display": false
  }
 },
 "nbformat": 4,
 "nbformat_minor": 2
}
