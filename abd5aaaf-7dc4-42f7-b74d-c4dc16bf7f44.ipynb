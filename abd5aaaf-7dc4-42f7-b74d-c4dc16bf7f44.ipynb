{
 "cells": [
  {
   "cell_type": "markdown",
   "metadata": {},
   "source": [
    "Привет, Александр! Как дела?) ☺️\n",
    "<br> Меня зовут Дуолан 👋 Буду проверять твой проект. Давай вместе доведем его до идеала 😉\n",
    "<br> Дальнейшее общение будет происходить на «ты», если это не вызывает никаких проблем.\n",
    "<br> Желательно реагировать на каждый мой комментарий («исправил», «не понятно как исправить ошибку», ...)\n",
    "<br> Пожалуйста, не удаляй мои комментарии, они будут необходимы для повторного ревью.\n",
    "\n",
    "Комментарии будут в <font color='green'>зеленой</font>, <font color='blue'>синей</font> или <font color='red'>красной</font> рамках:\n",
    "\n",
    "<div class=\"alert alert-block alert-success\">\n",
    "<b>✔️ Успех:</b> Если все сделано отлично\n",
    "</div>\n",
    "\n",
    "<div class=\"alert alert-block alert-warning\">\n",
    "<b>⚠️ Совет:</b> Если можно немного улучшить\n",
    "</div>\n",
    "\n",
    "<div class=\"alert alert-block alert-danger\">\n",
    "<b>❌ Замечание:</b> Если требуются исправления\n",
    "</div>\n",
    "\n",
    "Работа не может быть принята с красными комментариями.\n",
    "\n",
    "-------------------\n",
    "\n",
    "Будет очень хорошо, если ты будешь помечать свои действия следующим образом:\n",
    "\n",
    "<div class=\"alert alert-block alert-info\">\n",
    "<b>Комментарий студента:</b> ...\n",
    "</div>\n",
    "\n",
    "<div class=\"alert alert-block alert-info\">\n",
    "<b>Изменения:</b> Были внесены следующие изменения ...\n",
    "</div>"
   ]
  },
  {
   "cell_type": "markdown",
   "metadata": {},
   "source": [
    "<div class=\"alert alert-block alert-info\">\n",
    "<b>Комментарий студента: Привет, Дуолан!  Спасибо за комментарии по проекту, очень полезные и информативные! ☺️\n",
    "</div>"
   ]
  },
  {
   "cell_type": "markdown",
   "metadata": {
    "toc": true
   },
   "source": [
    "<h1>Содержание<span class=\"tocSkip\"></span></h1>\n",
    "<div class=\"toc\"><ul class=\"toc-item\"><li><span><a href=\"#Подготовка-данных\" data-toc-modified-id=\"Подготовка-данных-1\"><span class=\"toc-item-num\">1&nbsp;&nbsp;</span>Подготовка данных</a></span></li><li><span><a href=\"#Исследование-задачи\" data-toc-modified-id=\"Исследование-задачи-2\"><span class=\"toc-item-num\">2&nbsp;&nbsp;</span>Исследование задачи</a></span><ul class=\"toc-item\"><li><span><a href=\"#Построим-модель-RandomForestClassifier\" data-toc-modified-id=\"Построим-модель-RandomForestClassifier-2.1\"><span class=\"toc-item-num\">2.1&nbsp;&nbsp;</span>Построим модель RandomForestClassifier</a></span></li><li><span><a href=\"#Построим-модель-LinearRegression\" data-toc-modified-id=\"Построим-модель-LinearRegression-2.2\"><span class=\"toc-item-num\">2.2&nbsp;&nbsp;</span>Построим модель LinearRegression</a></span></li></ul></li><li><span><a href=\"#Борьба-с-дисбалансом\" data-toc-modified-id=\"Борьба-с-дисбалансом-3\"><span class=\"toc-item-num\">3&nbsp;&nbsp;</span>Борьба с дисбалансом</a></span><ul class=\"toc-item\"><li><span><a href=\"#Upsampling.-Преобразуем-выборку-путем-ее-увеличения.-Увеличим-количество-класса-&quot;1&quot;-целевого-признака-в-4-раза.\" data-toc-modified-id=\"Upsampling.-Преобразуем-выборку-путем-ее-увеличения.-Увеличим-количество-класса-&quot;1&quot;-целевого-признака-в-4-раза.-3.1\"><span class=\"toc-item-num\">3.1&nbsp;&nbsp;</span>Upsampling. Преобразуем выборку путем ее увеличения. Увеличим количество класса \"1\" целевого признака в 4 раза.</a></span></li><li><span><a href=\"#Downsampling.-Преобразуем-выборку-путем-ее-уменьшения.-Уменьшим-количество-класса-&quot;1&quot;-целевого-признака-в-4-раза.\" data-toc-modified-id=\"Downsampling.-Преобразуем-выборку-путем-ее-уменьшения.-Уменьшим-количество-класса-&quot;1&quot;-целевого-признака-в-4-раза.-3.2\"><span class=\"toc-item-num\">3.2&nbsp;&nbsp;</span>Downsampling. Преобразуем выборку путем ее уменьшения. Уменьшим количество класса \"1\" целевого признака в 4 раза.</a></span></li></ul></li><li><span><a href=\"#Тестирование-модели\" data-toc-modified-id=\"Тестирование-модели-4\"><span class=\"toc-item-num\">4&nbsp;&nbsp;</span>Тестирование модели</a></span></li></ul></div>"
   ]
  },
  {
   "cell_type": "markdown",
   "metadata": {},
   "source": [
    "# Отток клиентов"
   ]
  },
  {
   "cell_type": "markdown",
   "metadata": {},
   "source": [
    "Из «Бета-Банка» стали уходить клиенты. Каждый месяц. Немного, но заметно. Банковские маркетологи посчитали: сохранять текущих клиентов дешевле, чем привлекать новых.\n",
    "\n",
    "Нужно спрогнозировать, уйдёт клиент из банка в ближайшее время или нет. Вам предоставлены исторические данные о поведении клиентов и расторжении договоров с банком. \n",
    "\n",
    "Постройте модель с предельно большим значением *F1*-меры. Чтобы сдать проект успешно, нужно довести метрику до 0.59. Проверьте *F1*-меру на тестовой выборке самостоятельно.\n",
    "\n",
    "Дополнительно измеряйте *AUC-ROC*, сравнивайте её значение с *F1*-мерой.\n",
    "\n",
    "Источник данных: [https://www.kaggle.com/barelydedicated/bank-customer-churn-modeling](https://www.kaggle.com/barelydedicated/bank-customer-churn-modeling)"
   ]
  },
  {
   "cell_type": "markdown",
   "metadata": {},
   "source": [
    "<div class=\"alert alert-block alert-warning\">\n",
    "<b>⚠️ Совет:</b> \n",
    "\n",
    "Важно чтобы в проектах было подробное описание: когда потенциальные работодатели будут смотреть твой проект в портфолио, им нужно будет понимать задачу, чтобы можно было оценить её решение. Вот что можно добавить:\n",
    "    \n",
    "* Описание целей и задачи проекта\n",
    "* Описание данных\n",
    "* План работы\n",
    "\n",
    "И рекомендую писать введение от первого лица множественного числа. Так работа выглядит более самостоятельной)\n",
    "</div>"
   ]
  },
  {
   "cell_type": "markdown",
   "metadata": {},
   "source": [
    "## Подготовка данных"
   ]
  },
  {
   "cell_type": "code",
   "execution_count": 1,
   "metadata": {},
   "outputs": [],
   "source": [
    "import pandas as pd\n",
    "import matplotlib.pyplot as plt\n",
    "\n",
    "from sklearn.preprocessing import OrdinalEncoder\n",
    "from sklearn.model_selection import train_test_split\n",
    "from sklearn.ensemble import RandomForestClassifier\n",
    "from sklearn.linear_model import LogisticRegression\n",
    "from sklearn.preprocessing import StandardScaler\n",
    "from sklearn.metrics import mean_absolute_error\n",
    "from sklearn.metrics import f1_score\n",
    "from sklearn.metrics import roc_curve\n",
    "from sklearn.metrics import roc_auc_score\n",
    "from sklearn.utils import shuffle"
   ]
  },
  {
   "cell_type": "markdown",
   "metadata": {},
   "source": [
    "<div class=\"alert alert-block alert-success\">\n",
    "<b>✔️ Успех:</b>\n",
    "\n",
    "Импорт выглядит отлично 👍\n",
    "</div>"
   ]
  },
  {
   "cell_type": "code",
   "execution_count": 2,
   "metadata": {},
   "outputs": [
    {
     "data": {
      "text/plain": [
       "'Посмотрим структуру таблицы'"
      ]
     },
     "metadata": {},
     "output_type": "display_data"
    },
    {
     "data": {
      "text/html": [
       "<div>\n",
       "<style scoped>\n",
       "    .dataframe tbody tr th:only-of-type {\n",
       "        vertical-align: middle;\n",
       "    }\n",
       "\n",
       "    .dataframe tbody tr th {\n",
       "        vertical-align: top;\n",
       "    }\n",
       "\n",
       "    .dataframe thead th {\n",
       "        text-align: right;\n",
       "    }\n",
       "</style>\n",
       "<table border=\"1\" class=\"dataframe\">\n",
       "  <thead>\n",
       "    <tr style=\"text-align: right;\">\n",
       "      <th></th>\n",
       "      <th>RowNumber</th>\n",
       "      <th>CustomerId</th>\n",
       "      <th>Surname</th>\n",
       "      <th>CreditScore</th>\n",
       "      <th>Geography</th>\n",
       "      <th>Gender</th>\n",
       "      <th>Age</th>\n",
       "      <th>Tenure</th>\n",
       "      <th>Balance</th>\n",
       "      <th>NumOfProducts</th>\n",
       "      <th>HasCrCard</th>\n",
       "      <th>IsActiveMember</th>\n",
       "      <th>EstimatedSalary</th>\n",
       "      <th>Exited</th>\n",
       "    </tr>\n",
       "  </thead>\n",
       "  <tbody>\n",
       "    <tr>\n",
       "      <th>0</th>\n",
       "      <td>1</td>\n",
       "      <td>15634602</td>\n",
       "      <td>Hargrave</td>\n",
       "      <td>619</td>\n",
       "      <td>France</td>\n",
       "      <td>Female</td>\n",
       "      <td>42</td>\n",
       "      <td>2.0</td>\n",
       "      <td>0.00</td>\n",
       "      <td>1</td>\n",
       "      <td>1</td>\n",
       "      <td>1</td>\n",
       "      <td>101348.88</td>\n",
       "      <td>1</td>\n",
       "    </tr>\n",
       "    <tr>\n",
       "      <th>1</th>\n",
       "      <td>2</td>\n",
       "      <td>15647311</td>\n",
       "      <td>Hill</td>\n",
       "      <td>608</td>\n",
       "      <td>Spain</td>\n",
       "      <td>Female</td>\n",
       "      <td>41</td>\n",
       "      <td>1.0</td>\n",
       "      <td>83807.86</td>\n",
       "      <td>1</td>\n",
       "      <td>0</td>\n",
       "      <td>1</td>\n",
       "      <td>112542.58</td>\n",
       "      <td>0</td>\n",
       "    </tr>\n",
       "    <tr>\n",
       "      <th>2</th>\n",
       "      <td>3</td>\n",
       "      <td>15619304</td>\n",
       "      <td>Onio</td>\n",
       "      <td>502</td>\n",
       "      <td>France</td>\n",
       "      <td>Female</td>\n",
       "      <td>42</td>\n",
       "      <td>8.0</td>\n",
       "      <td>159660.80</td>\n",
       "      <td>3</td>\n",
       "      <td>1</td>\n",
       "      <td>0</td>\n",
       "      <td>113931.57</td>\n",
       "      <td>1</td>\n",
       "    </tr>\n",
       "    <tr>\n",
       "      <th>3</th>\n",
       "      <td>4</td>\n",
       "      <td>15701354</td>\n",
       "      <td>Boni</td>\n",
       "      <td>699</td>\n",
       "      <td>France</td>\n",
       "      <td>Female</td>\n",
       "      <td>39</td>\n",
       "      <td>1.0</td>\n",
       "      <td>0.00</td>\n",
       "      <td>2</td>\n",
       "      <td>0</td>\n",
       "      <td>0</td>\n",
       "      <td>93826.63</td>\n",
       "      <td>0</td>\n",
       "    </tr>\n",
       "    <tr>\n",
       "      <th>4</th>\n",
       "      <td>5</td>\n",
       "      <td>15737888</td>\n",
       "      <td>Mitchell</td>\n",
       "      <td>850</td>\n",
       "      <td>Spain</td>\n",
       "      <td>Female</td>\n",
       "      <td>43</td>\n",
       "      <td>2.0</td>\n",
       "      <td>125510.82</td>\n",
       "      <td>1</td>\n",
       "      <td>1</td>\n",
       "      <td>1</td>\n",
       "      <td>79084.10</td>\n",
       "      <td>0</td>\n",
       "    </tr>\n",
       "  </tbody>\n",
       "</table>\n",
       "</div>"
      ],
      "text/plain": [
       "   RowNumber  CustomerId   Surname  CreditScore Geography  Gender  Age  \\\n",
       "0          1    15634602  Hargrave          619    France  Female   42   \n",
       "1          2    15647311      Hill          608     Spain  Female   41   \n",
       "2          3    15619304      Onio          502    France  Female   42   \n",
       "3          4    15701354      Boni          699    France  Female   39   \n",
       "4          5    15737888  Mitchell          850     Spain  Female   43   \n",
       "\n",
       "   Tenure    Balance  NumOfProducts  HasCrCard  IsActiveMember  \\\n",
       "0     2.0       0.00              1          1               1   \n",
       "1     1.0   83807.86              1          0               1   \n",
       "2     8.0  159660.80              3          1               0   \n",
       "3     1.0       0.00              2          0               0   \n",
       "4     2.0  125510.82              1          1               1   \n",
       "\n",
       "   EstimatedSalary  Exited  \n",
       "0        101348.88       1  \n",
       "1        112542.58       0  \n",
       "2        113931.57       1  \n",
       "3         93826.63       0  \n",
       "4         79084.10       0  "
      ]
     },
     "metadata": {},
     "output_type": "display_data"
    },
    {
     "data": {
      "text/plain": [
       "'Исследуем баланс классов в столбце Exited'"
      ]
     },
     "metadata": {},
     "output_type": "display_data"
    },
    {
     "data": {
      "text/plain": [
       "0    7963\n",
       "1    2037\n",
       "Name: Exited, dtype: int64"
      ]
     },
     "metadata": {},
     "output_type": "display_data"
    },
    {
     "data": {
      "text/plain": [
       "'Посмотрим есть ли пропуски'"
      ]
     },
     "metadata": {},
     "output_type": "display_data"
    },
    {
     "name": "stdout",
     "output_type": "stream",
     "text": [
      "<class 'pandas.core.frame.DataFrame'>\n",
      "RangeIndex: 10000 entries, 0 to 9999\n",
      "Data columns (total 14 columns):\n",
      " #   Column           Non-Null Count  Dtype  \n",
      "---  ------           --------------  -----  \n",
      " 0   RowNumber        10000 non-null  int64  \n",
      " 1   CustomerId       10000 non-null  int64  \n",
      " 2   Surname          10000 non-null  object \n",
      " 3   CreditScore      10000 non-null  int64  \n",
      " 4   Geography        10000 non-null  object \n",
      " 5   Gender           10000 non-null  object \n",
      " 6   Age              10000 non-null  int64  \n",
      " 7   Tenure           9091 non-null   float64\n",
      " 8   Balance          10000 non-null  float64\n",
      " 9   NumOfProducts    10000 non-null  int64  \n",
      " 10  HasCrCard        10000 non-null  int64  \n",
      " 11  IsActiveMember   10000 non-null  int64  \n",
      " 12  EstimatedSalary  10000 non-null  float64\n",
      " 13  Exited           10000 non-null  int64  \n",
      "dtypes: float64(3), int64(8), object(3)\n",
      "memory usage: 1.1+ MB\n"
     ]
    },
    {
     "data": {
      "text/plain": [
       "None"
      ]
     },
     "metadata": {},
     "output_type": "display_data"
    },
    {
     "data": {
      "text/plain": [
       "RowNumber            0\n",
       "CustomerId           0\n",
       "Surname              0\n",
       "CreditScore          0\n",
       "Geography            0\n",
       "Gender               0\n",
       "Age                  0\n",
       "Tenure             909\n",
       "Balance              0\n",
       "NumOfProducts        0\n",
       "HasCrCard            0\n",
       "IsActiveMember       0\n",
       "EstimatedSalary      0\n",
       "Exited               0\n",
       "dtype: int64"
      ]
     },
     "metadata": {},
     "output_type": "display_data"
    },
    {
     "data": {
      "text/plain": [
       "'Исследуем категориальные признаки Geography и NumOfProducts на количество категорий'"
      ]
     },
     "metadata": {},
     "output_type": "display_data"
    },
    {
     "data": {
      "text/html": [
       "<div>\n",
       "<style scoped>\n",
       "    .dataframe tbody tr th:only-of-type {\n",
       "        vertical-align: middle;\n",
       "    }\n",
       "\n",
       "    .dataframe tbody tr th {\n",
       "        vertical-align: top;\n",
       "    }\n",
       "\n",
       "    .dataframe thead th {\n",
       "        text-align: right;\n",
       "    }\n",
       "</style>\n",
       "<table border=\"1\" class=\"dataframe\">\n",
       "  <thead>\n",
       "    <tr style=\"text-align: right;\">\n",
       "      <th></th>\n",
       "      <th>Geography</th>\n",
       "    </tr>\n",
       "  </thead>\n",
       "  <tbody>\n",
       "    <tr>\n",
       "      <th>France</th>\n",
       "      <td>0.5014</td>\n",
       "    </tr>\n",
       "    <tr>\n",
       "      <th>Germany</th>\n",
       "      <td>0.2509</td>\n",
       "    </tr>\n",
       "    <tr>\n",
       "      <th>Spain</th>\n",
       "      <td>0.2477</td>\n",
       "    </tr>\n",
       "  </tbody>\n",
       "</table>\n",
       "</div>"
      ],
      "text/plain": [
       "         Geography\n",
       "France      0.5014\n",
       "Germany     0.2509\n",
       "Spain       0.2477"
      ]
     },
     "metadata": {},
     "output_type": "display_data"
    },
    {
     "data": {
      "text/html": [
       "<div>\n",
       "<style scoped>\n",
       "    .dataframe tbody tr th:only-of-type {\n",
       "        vertical-align: middle;\n",
       "    }\n",
       "\n",
       "    .dataframe tbody tr th {\n",
       "        vertical-align: top;\n",
       "    }\n",
       "\n",
       "    .dataframe thead th {\n",
       "        text-align: right;\n",
       "    }\n",
       "</style>\n",
       "<table border=\"1\" class=\"dataframe\">\n",
       "  <thead>\n",
       "    <tr style=\"text-align: right;\">\n",
       "      <th></th>\n",
       "      <th>NumOfProducts</th>\n",
       "    </tr>\n",
       "  </thead>\n",
       "  <tbody>\n",
       "    <tr>\n",
       "      <th>1</th>\n",
       "      <td>0.5084</td>\n",
       "    </tr>\n",
       "    <tr>\n",
       "      <th>2</th>\n",
       "      <td>0.4590</td>\n",
       "    </tr>\n",
       "    <tr>\n",
       "      <th>3</th>\n",
       "      <td>0.0266</td>\n",
       "    </tr>\n",
       "    <tr>\n",
       "      <th>4</th>\n",
       "      <td>0.0060</td>\n",
       "    </tr>\n",
       "  </tbody>\n",
       "</table>\n",
       "</div>"
      ],
      "text/plain": [
       "   NumOfProducts\n",
       "1         0.5084\n",
       "2         0.4590\n",
       "3         0.0266\n",
       "4         0.0060"
      ]
     },
     "metadata": {},
     "output_type": "display_data"
    }
   ],
   "source": [
    "# загрузим данные и сделаем первоначальную оценку\n",
    "data = pd.read_csv('/datasets/Churn.csv')\n",
    "display('Посмотрим структуру таблицы', data.head())\n",
    "display('Исследуем баланс классов в столбце Exited',data['Exited'].value_counts())\n",
    "display('Посмотрим есть ли пропуски')\n",
    "display(data.info())\n",
    "display(data.isna().sum())\n",
    "data['Tenure'].value_counts()\n",
    "display('Исследуем категориальные признаки Geography и NumOfProducts на количество категорий')\n",
    "display(data['Geography'].value_counts(normalize=True).to_frame())\n",
    "display(data['NumOfProducts'].value_counts(normalize=True).to_frame())\n"
   ]
  },
  {
   "cell_type": "markdown",
   "metadata": {},
   "source": [
    "При первичном анализе данных, можно сделать следующие выводы: <br>\n",
    "1) Количество клиентов, которые остались, в 4 раза больше, чем тех, кто ушли. Для банка это хорошо, но баланс классов для построения модели не соблюдается. <br>\n",
    " <br>\n",
    "2) Видим, что пропуски есть только в столбце Tenure. Можно было бы предположить, что NaN в столбце Tenure обозначает, что клиент является клиентом банка менее года, т.е. 0, но в таблице уже присутствуют клиенты с нулевым Tenure. Скорее всего эти значения не проставлены.  <br>\n",
    "Параметр Tenure важный, удалить полностью его нельзя, но так как около 10% данных остутствует, удалим строки где данные по Tenure отсутствуют. <br>\n",
    " <br>\n",
    "3) Параметры RowNumber, CustomerId, Surname - не несут в себе полезной нам информации о клиенте для построения модели, их тоже удалим.  <br>\n",
    " <br>\n",
    "4) Категориальные признаки Geography и Gender переведем в численные  <br>\n",
    " <br>\n",
    "5) Масштабирование для модель RandomForest не нужно, но так как мы также будем проверять модель LogisticRegression, масштабирование проведем "
   ]
  },
  {
   "cell_type": "markdown",
   "metadata": {},
   "source": [
    "<div class=\"alert alert-block alert-success\">\n",
    "<b>✔️ Успех:</b>\n",
    "\n",
    "Ты хорошо владеешь методами первичного анализа данных 👍 Спасибо за информативный вывод)\n",
    "</div>"
   ]
  },
  {
   "cell_type": "markdown",
   "metadata": {},
   "source": [
    "<div class=\"alert alert-block alert-warning\">\n",
    "<b>⚠️ Совет:</b>\n",
    "\n",
    "Посмотри еще на такие варианты работы с пропусками:\n",
    "\n",
    "1. Распределение по годам использования банка практически ровное, если сейчас заменить 909 пропусков медианой, то мы увеличим в 2 раза значение для 5 лет. Это кажется некорректным. Можно сделать заполнение пропусков случайными числами, тогда мы снизим влияние на наше распределение.\n",
    "\n",
    "2. Так как значений в этом признаке ограниченное количество, можно сделать его категориальным признаком. Пропуски можно считать как за отдельную категорию (заполнить значением -1). Затем заменить тип данных Tenure на object и применить технику OHE.\n",
    "\n",
    "3. Заполнить \"0\", считая, что это новые клиенты.\n",
    "</div>"
   ]
  },
  {
   "cell_type": "code",
   "execution_count": 3,
   "metadata": {},
   "outputs": [
    {
     "data": {
      "text/html": [
       "<div>\n",
       "<style scoped>\n",
       "    .dataframe tbody tr th:only-of-type {\n",
       "        vertical-align: middle;\n",
       "    }\n",
       "\n",
       "    .dataframe tbody tr th {\n",
       "        vertical-align: top;\n",
       "    }\n",
       "\n",
       "    .dataframe thead th {\n",
       "        text-align: right;\n",
       "    }\n",
       "</style>\n",
       "<table border=\"1\" class=\"dataframe\">\n",
       "  <thead>\n",
       "    <tr style=\"text-align: right;\">\n",
       "      <th></th>\n",
       "      <th>CreditScore</th>\n",
       "      <th>Geography</th>\n",
       "      <th>Gender</th>\n",
       "      <th>Age</th>\n",
       "      <th>Tenure</th>\n",
       "      <th>Balance</th>\n",
       "      <th>NumOfProducts</th>\n",
       "      <th>HasCrCard</th>\n",
       "      <th>IsActiveMember</th>\n",
       "      <th>EstimatedSalary</th>\n",
       "      <th>Exited</th>\n",
       "    </tr>\n",
       "  </thead>\n",
       "  <tbody>\n",
       "    <tr>\n",
       "      <th>0</th>\n",
       "      <td>619</td>\n",
       "      <td>France</td>\n",
       "      <td>Female</td>\n",
       "      <td>42</td>\n",
       "      <td>2.0</td>\n",
       "      <td>0.00</td>\n",
       "      <td>1</td>\n",
       "      <td>1</td>\n",
       "      <td>1</td>\n",
       "      <td>101348.88</td>\n",
       "      <td>1</td>\n",
       "    </tr>\n",
       "    <tr>\n",
       "      <th>1</th>\n",
       "      <td>608</td>\n",
       "      <td>Spain</td>\n",
       "      <td>Female</td>\n",
       "      <td>41</td>\n",
       "      <td>1.0</td>\n",
       "      <td>83807.86</td>\n",
       "      <td>1</td>\n",
       "      <td>0</td>\n",
       "      <td>1</td>\n",
       "      <td>112542.58</td>\n",
       "      <td>0</td>\n",
       "    </tr>\n",
       "    <tr>\n",
       "      <th>2</th>\n",
       "      <td>502</td>\n",
       "      <td>France</td>\n",
       "      <td>Female</td>\n",
       "      <td>42</td>\n",
       "      <td>8.0</td>\n",
       "      <td>159660.80</td>\n",
       "      <td>3</td>\n",
       "      <td>1</td>\n",
       "      <td>0</td>\n",
       "      <td>113931.57</td>\n",
       "      <td>1</td>\n",
       "    </tr>\n",
       "    <tr>\n",
       "      <th>3</th>\n",
       "      <td>699</td>\n",
       "      <td>France</td>\n",
       "      <td>Female</td>\n",
       "      <td>39</td>\n",
       "      <td>1.0</td>\n",
       "      <td>0.00</td>\n",
       "      <td>2</td>\n",
       "      <td>0</td>\n",
       "      <td>0</td>\n",
       "      <td>93826.63</td>\n",
       "      <td>0</td>\n",
       "    </tr>\n",
       "    <tr>\n",
       "      <th>4</th>\n",
       "      <td>850</td>\n",
       "      <td>Spain</td>\n",
       "      <td>Female</td>\n",
       "      <td>43</td>\n",
       "      <td>2.0</td>\n",
       "      <td>125510.82</td>\n",
       "      <td>1</td>\n",
       "      <td>1</td>\n",
       "      <td>1</td>\n",
       "      <td>79084.10</td>\n",
       "      <td>0</td>\n",
       "    </tr>\n",
       "    <tr>\n",
       "      <th>...</th>\n",
       "      <td>...</td>\n",
       "      <td>...</td>\n",
       "      <td>...</td>\n",
       "      <td>...</td>\n",
       "      <td>...</td>\n",
       "      <td>...</td>\n",
       "      <td>...</td>\n",
       "      <td>...</td>\n",
       "      <td>...</td>\n",
       "      <td>...</td>\n",
       "      <td>...</td>\n",
       "    </tr>\n",
       "    <tr>\n",
       "      <th>9086</th>\n",
       "      <td>800</td>\n",
       "      <td>France</td>\n",
       "      <td>Female</td>\n",
       "      <td>29</td>\n",
       "      <td>2.0</td>\n",
       "      <td>0.00</td>\n",
       "      <td>2</td>\n",
       "      <td>0</td>\n",
       "      <td>0</td>\n",
       "      <td>167773.55</td>\n",
       "      <td>0</td>\n",
       "    </tr>\n",
       "    <tr>\n",
       "      <th>9087</th>\n",
       "      <td>771</td>\n",
       "      <td>France</td>\n",
       "      <td>Male</td>\n",
       "      <td>39</td>\n",
       "      <td>5.0</td>\n",
       "      <td>0.00</td>\n",
       "      <td>2</td>\n",
       "      <td>1</td>\n",
       "      <td>0</td>\n",
       "      <td>96270.64</td>\n",
       "      <td>0</td>\n",
       "    </tr>\n",
       "    <tr>\n",
       "      <th>9088</th>\n",
       "      <td>516</td>\n",
       "      <td>France</td>\n",
       "      <td>Male</td>\n",
       "      <td>35</td>\n",
       "      <td>10.0</td>\n",
       "      <td>57369.61</td>\n",
       "      <td>1</td>\n",
       "      <td>1</td>\n",
       "      <td>1</td>\n",
       "      <td>101699.77</td>\n",
       "      <td>0</td>\n",
       "    </tr>\n",
       "    <tr>\n",
       "      <th>9089</th>\n",
       "      <td>709</td>\n",
       "      <td>France</td>\n",
       "      <td>Female</td>\n",
       "      <td>36</td>\n",
       "      <td>7.0</td>\n",
       "      <td>0.00</td>\n",
       "      <td>1</td>\n",
       "      <td>0</td>\n",
       "      <td>1</td>\n",
       "      <td>42085.58</td>\n",
       "      <td>1</td>\n",
       "    </tr>\n",
       "    <tr>\n",
       "      <th>9090</th>\n",
       "      <td>772</td>\n",
       "      <td>Germany</td>\n",
       "      <td>Male</td>\n",
       "      <td>42</td>\n",
       "      <td>3.0</td>\n",
       "      <td>75075.31</td>\n",
       "      <td>2</td>\n",
       "      <td>1</td>\n",
       "      <td>0</td>\n",
       "      <td>92888.52</td>\n",
       "      <td>1</td>\n",
       "    </tr>\n",
       "  </tbody>\n",
       "</table>\n",
       "<p>9091 rows × 11 columns</p>\n",
       "</div>"
      ],
      "text/plain": [
       "      CreditScore Geography  Gender  Age  Tenure    Balance  NumOfProducts  \\\n",
       "0             619    France  Female   42     2.0       0.00              1   \n",
       "1             608     Spain  Female   41     1.0   83807.86              1   \n",
       "2             502    France  Female   42     8.0  159660.80              3   \n",
       "3             699    France  Female   39     1.0       0.00              2   \n",
       "4             850     Spain  Female   43     2.0  125510.82              1   \n",
       "...           ...       ...     ...  ...     ...        ...            ...   \n",
       "9086          800    France  Female   29     2.0       0.00              2   \n",
       "9087          771    France    Male   39     5.0       0.00              2   \n",
       "9088          516    France    Male   35    10.0   57369.61              1   \n",
       "9089          709    France  Female   36     7.0       0.00              1   \n",
       "9090          772   Germany    Male   42     3.0   75075.31              2   \n",
       "\n",
       "      HasCrCard  IsActiveMember  EstimatedSalary  Exited  \n",
       "0             1               1        101348.88       1  \n",
       "1             0               1        112542.58       0  \n",
       "2             1               0        113931.57       1  \n",
       "3             0               0         93826.63       0  \n",
       "4             1               1         79084.10       0  \n",
       "...         ...             ...              ...     ...  \n",
       "9086          0               0        167773.55       0  \n",
       "9087          1               0         96270.64       0  \n",
       "9088          1               1        101699.77       0  \n",
       "9089          0               1         42085.58       1  \n",
       "9090          1               0         92888.52       1  \n",
       "\n",
       "[9091 rows x 11 columns]"
      ]
     },
     "execution_count": 3,
     "metadata": {},
     "output_type": "execute_result"
    }
   ],
   "source": [
    "# удалим строки и столбцы согласно выводам 2 и 3 выше\n",
    "data = data.dropna(subset=['Tenure']).reset_index(drop=True)\n",
    "data = data.drop(['RowNumber', 'CustomerId', 'Surname'], axis=1)\n",
    "data"
   ]
  },
  {
   "cell_type": "markdown",
   "metadata": {},
   "source": [
    "<div class=\"alert alert-block alert-success\">\n",
    "<b>✔️ Успех:</b>\n",
    "\n",
    "Удалить неинформативные признаки - хорошее решение 👍\n",
    "</div>"
   ]
  },
  {
   "cell_type": "code",
   "execution_count": 4,
   "metadata": {},
   "outputs": [
    {
     "data": {
      "text/html": [
       "<div>\n",
       "<style scoped>\n",
       "    .dataframe tbody tr th:only-of-type {\n",
       "        vertical-align: middle;\n",
       "    }\n",
       "\n",
       "    .dataframe tbody tr th {\n",
       "        vertical-align: top;\n",
       "    }\n",
       "\n",
       "    .dataframe thead th {\n",
       "        text-align: right;\n",
       "    }\n",
       "</style>\n",
       "<table border=\"1\" class=\"dataframe\">\n",
       "  <thead>\n",
       "    <tr style=\"text-align: right;\">\n",
       "      <th></th>\n",
       "      <th>CreditScore</th>\n",
       "      <th>Geography</th>\n",
       "      <th>Gender</th>\n",
       "      <th>Age</th>\n",
       "      <th>Tenure</th>\n",
       "      <th>Balance</th>\n",
       "      <th>NumOfProducts</th>\n",
       "      <th>HasCrCard</th>\n",
       "      <th>IsActiveMember</th>\n",
       "      <th>EstimatedSalary</th>\n",
       "      <th>Exited</th>\n",
       "    </tr>\n",
       "  </thead>\n",
       "  <tbody>\n",
       "    <tr>\n",
       "      <th>0</th>\n",
       "      <td>619</td>\n",
       "      <td>0.0</td>\n",
       "      <td>0.0</td>\n",
       "      <td>42</td>\n",
       "      <td>2.0</td>\n",
       "      <td>0.00</td>\n",
       "      <td>1</td>\n",
       "      <td>1</td>\n",
       "      <td>1</td>\n",
       "      <td>101348.88</td>\n",
       "      <td>1</td>\n",
       "    </tr>\n",
       "    <tr>\n",
       "      <th>1</th>\n",
       "      <td>608</td>\n",
       "      <td>2.0</td>\n",
       "      <td>0.0</td>\n",
       "      <td>41</td>\n",
       "      <td>1.0</td>\n",
       "      <td>83807.86</td>\n",
       "      <td>1</td>\n",
       "      <td>0</td>\n",
       "      <td>1</td>\n",
       "      <td>112542.58</td>\n",
       "      <td>0</td>\n",
       "    </tr>\n",
       "    <tr>\n",
       "      <th>2</th>\n",
       "      <td>502</td>\n",
       "      <td>0.0</td>\n",
       "      <td>0.0</td>\n",
       "      <td>42</td>\n",
       "      <td>8.0</td>\n",
       "      <td>159660.80</td>\n",
       "      <td>3</td>\n",
       "      <td>1</td>\n",
       "      <td>0</td>\n",
       "      <td>113931.57</td>\n",
       "      <td>1</td>\n",
       "    </tr>\n",
       "    <tr>\n",
       "      <th>3</th>\n",
       "      <td>699</td>\n",
       "      <td>0.0</td>\n",
       "      <td>0.0</td>\n",
       "      <td>39</td>\n",
       "      <td>1.0</td>\n",
       "      <td>0.00</td>\n",
       "      <td>2</td>\n",
       "      <td>0</td>\n",
       "      <td>0</td>\n",
       "      <td>93826.63</td>\n",
       "      <td>0</td>\n",
       "    </tr>\n",
       "    <tr>\n",
       "      <th>4</th>\n",
       "      <td>850</td>\n",
       "      <td>2.0</td>\n",
       "      <td>0.0</td>\n",
       "      <td>43</td>\n",
       "      <td>2.0</td>\n",
       "      <td>125510.82</td>\n",
       "      <td>1</td>\n",
       "      <td>1</td>\n",
       "      <td>1</td>\n",
       "      <td>79084.10</td>\n",
       "      <td>0</td>\n",
       "    </tr>\n",
       "    <tr>\n",
       "      <th>...</th>\n",
       "      <td>...</td>\n",
       "      <td>...</td>\n",
       "      <td>...</td>\n",
       "      <td>...</td>\n",
       "      <td>...</td>\n",
       "      <td>...</td>\n",
       "      <td>...</td>\n",
       "      <td>...</td>\n",
       "      <td>...</td>\n",
       "      <td>...</td>\n",
       "      <td>...</td>\n",
       "    </tr>\n",
       "    <tr>\n",
       "      <th>9086</th>\n",
       "      <td>800</td>\n",
       "      <td>0.0</td>\n",
       "      <td>0.0</td>\n",
       "      <td>29</td>\n",
       "      <td>2.0</td>\n",
       "      <td>0.00</td>\n",
       "      <td>2</td>\n",
       "      <td>0</td>\n",
       "      <td>0</td>\n",
       "      <td>167773.55</td>\n",
       "      <td>0</td>\n",
       "    </tr>\n",
       "    <tr>\n",
       "      <th>9087</th>\n",
       "      <td>771</td>\n",
       "      <td>0.0</td>\n",
       "      <td>1.0</td>\n",
       "      <td>39</td>\n",
       "      <td>5.0</td>\n",
       "      <td>0.00</td>\n",
       "      <td>2</td>\n",
       "      <td>1</td>\n",
       "      <td>0</td>\n",
       "      <td>96270.64</td>\n",
       "      <td>0</td>\n",
       "    </tr>\n",
       "    <tr>\n",
       "      <th>9088</th>\n",
       "      <td>516</td>\n",
       "      <td>0.0</td>\n",
       "      <td>1.0</td>\n",
       "      <td>35</td>\n",
       "      <td>10.0</td>\n",
       "      <td>57369.61</td>\n",
       "      <td>1</td>\n",
       "      <td>1</td>\n",
       "      <td>1</td>\n",
       "      <td>101699.77</td>\n",
       "      <td>0</td>\n",
       "    </tr>\n",
       "    <tr>\n",
       "      <th>9089</th>\n",
       "      <td>709</td>\n",
       "      <td>0.0</td>\n",
       "      <td>0.0</td>\n",
       "      <td>36</td>\n",
       "      <td>7.0</td>\n",
       "      <td>0.00</td>\n",
       "      <td>1</td>\n",
       "      <td>0</td>\n",
       "      <td>1</td>\n",
       "      <td>42085.58</td>\n",
       "      <td>1</td>\n",
       "    </tr>\n",
       "    <tr>\n",
       "      <th>9090</th>\n",
       "      <td>772</td>\n",
       "      <td>1.0</td>\n",
       "      <td>1.0</td>\n",
       "      <td>42</td>\n",
       "      <td>3.0</td>\n",
       "      <td>75075.31</td>\n",
       "      <td>2</td>\n",
       "      <td>1</td>\n",
       "      <td>0</td>\n",
       "      <td>92888.52</td>\n",
       "      <td>1</td>\n",
       "    </tr>\n",
       "  </tbody>\n",
       "</table>\n",
       "<p>9091 rows × 11 columns</p>\n",
       "</div>"
      ],
      "text/plain": [
       "      CreditScore  Geography  Gender  Age  Tenure    Balance  NumOfProducts  \\\n",
       "0             619        0.0     0.0   42     2.0       0.00              1   \n",
       "1             608        2.0     0.0   41     1.0   83807.86              1   \n",
       "2             502        0.0     0.0   42     8.0  159660.80              3   \n",
       "3             699        0.0     0.0   39     1.0       0.00              2   \n",
       "4             850        2.0     0.0   43     2.0  125510.82              1   \n",
       "...           ...        ...     ...  ...     ...        ...            ...   \n",
       "9086          800        0.0     0.0   29     2.0       0.00              2   \n",
       "9087          771        0.0     1.0   39     5.0       0.00              2   \n",
       "9088          516        0.0     1.0   35    10.0   57369.61              1   \n",
       "9089          709        0.0     0.0   36     7.0       0.00              1   \n",
       "9090          772        1.0     1.0   42     3.0   75075.31              2   \n",
       "\n",
       "      HasCrCard  IsActiveMember  EstimatedSalary  Exited  \n",
       "0             1               1        101348.88       1  \n",
       "1             0               1        112542.58       0  \n",
       "2             1               0        113931.57       1  \n",
       "3             0               0         93826.63       0  \n",
       "4             1               1         79084.10       0  \n",
       "...         ...             ...              ...     ...  \n",
       "9086          0               0        167773.55       0  \n",
       "9087          1               0         96270.64       0  \n",
       "9088          1               1        101699.77       0  \n",
       "9089          0               1         42085.58       1  \n",
       "9090          1               0         92888.52       1  \n",
       "\n",
       "[9091 rows x 11 columns]"
      ]
     },
     "execution_count": 4,
     "metadata": {},
     "output_type": "execute_result"
    }
   ],
   "source": [
    "# Категориальные признаки Geography и Gender переведем в численные\n",
    "encoder = OrdinalEncoder()\n",
    "data[['Geography', 'Gender']] = pd.DataFrame(encoder.fit_transform(data[['Geography', 'Gender']]), columns=data[['Geography', 'Gender']].columns)\n",
    "data"
   ]
  },
  {
   "cell_type": "markdown",
   "metadata": {},
   "source": [
    "<div class=\"alert alert-block alert-warning\">\n",
    "<b>⚠️ Совет:</b>\n",
    "\n",
    "Порядковое кодирование отлично подойдет для обучения моделей, основанных на деревьях решений, так как не создает дополнительных признаков. В нашем случае больше подойдет прямое кодирование. Потому что в обучении используется линейная модель и дополнительных признаков добавляется не так уж и много.\n",
    "</div>"
   ]
  },
  {
   "cell_type": "markdown",
   "metadata": {},
   "source": [
    "<div class=\"alert alert-block alert-info\">\n",
    "<b>Комментарий студента: </b> Не знал, взял на заметку. Но здесь оставил порядковое кодирование, так как у нас модель случайного леса идет как основная. С порядковым кодирование приятнее работать почему-то, не создаются дополнительные столбцы\n",
    "</div>"
   ]
  },
  {
   "cell_type": "code",
   "execution_count": 5,
   "metadata": {},
   "outputs": [
    {
     "name": "stdout",
     "output_type": "stream",
     "text": [
      "Проверка разбиения данных:\n",
      "data (9091, 11)\n",
      "features_train (5454, 10)\n",
      "features_valid (1818, 10)\n",
      "features_test (1819, 10)\n"
     ]
    }
   ],
   "source": [
    "# разделим на обучающую, валидационную и тестовую выборку\n",
    "# отделим сначала 40%, так как у нас будет 60/20/20 %\n",
    "# стратифицируем по 'Exited'\n",
    "\n",
    "target = data['Exited']\n",
    "features = data.drop('Exited', axis=1)\n",
    "\n",
    "features_train, features_40p, target_train, target_df_40p = train_test_split(\n",
    "    features, \n",
    "    target, \n",
    "    test_size=0.40,\n",
    "    stratify=target,\n",
    "    random_state=12345) # отделим сначала 40%, обозначим как 40p\n",
    "\n",
    "features_valid, features_test, target_valid, target_test = train_test_split(\n",
    "    features_40p, \n",
    "    target_df_40p, \n",
    "    test_size=0.50, \n",
    "    stratify=target_df_40p,\n",
    "    random_state=12345) # поделим пополам 40%\n",
    "\n",
    "\n",
    "print('Проверка разбиения данных:')\n",
    "print('data' , data.shape)\n",
    "print('features_train' , features_train.shape)\n",
    "print('features_valid' , features_valid.shape)\n",
    "print('features_test' , features_test.shape)"
   ]
  },
  {
   "cell_type": "markdown",
   "metadata": {},
   "source": [
    "<div class=\"alert alert-block alert-success\">\n",
    "<b>✔️ Успех:</b> \n",
    "\n",
    "Данные поделены верно, пропорции выбраны адекватные 👍\n",
    "</div>"
   ]
  },
  {
   "cell_type": "code",
   "execution_count": 15,
   "metadata": {},
   "outputs": [
    {
     "data": {
      "text/html": [
       "<div>\n",
       "<style scoped>\n",
       "    .dataframe tbody tr th:only-of-type {\n",
       "        vertical-align: middle;\n",
       "    }\n",
       "\n",
       "    .dataframe tbody tr th {\n",
       "        vertical-align: top;\n",
       "    }\n",
       "\n",
       "    .dataframe thead th {\n",
       "        text-align: right;\n",
       "    }\n",
       "</style>\n",
       "<table border=\"1\" class=\"dataframe\">\n",
       "  <thead>\n",
       "    <tr style=\"text-align: right;\">\n",
       "      <th></th>\n",
       "      <th>CreditScore</th>\n",
       "      <th>Geography</th>\n",
       "      <th>Gender</th>\n",
       "      <th>Age</th>\n",
       "      <th>Tenure</th>\n",
       "      <th>Balance</th>\n",
       "      <th>NumOfProducts</th>\n",
       "      <th>HasCrCard</th>\n",
       "      <th>IsActiveMember</th>\n",
       "      <th>EstimatedSalary</th>\n",
       "      <th>Exited</th>\n",
       "    </tr>\n",
       "  </thead>\n",
       "  <tbody>\n",
       "    <tr>\n",
       "      <th>0</th>\n",
       "      <td>619</td>\n",
       "      <td>0.0</td>\n",
       "      <td>0.0</td>\n",
       "      <td>42</td>\n",
       "      <td>2.0</td>\n",
       "      <td>0.00</td>\n",
       "      <td>1</td>\n",
       "      <td>1</td>\n",
       "      <td>1</td>\n",
       "      <td>101348.88</td>\n",
       "      <td>1</td>\n",
       "    </tr>\n",
       "    <tr>\n",
       "      <th>1</th>\n",
       "      <td>608</td>\n",
       "      <td>2.0</td>\n",
       "      <td>0.0</td>\n",
       "      <td>41</td>\n",
       "      <td>1.0</td>\n",
       "      <td>83807.86</td>\n",
       "      <td>1</td>\n",
       "      <td>0</td>\n",
       "      <td>1</td>\n",
       "      <td>112542.58</td>\n",
       "      <td>0</td>\n",
       "    </tr>\n",
       "    <tr>\n",
       "      <th>2</th>\n",
       "      <td>502</td>\n",
       "      <td>0.0</td>\n",
       "      <td>0.0</td>\n",
       "      <td>42</td>\n",
       "      <td>8.0</td>\n",
       "      <td>159660.80</td>\n",
       "      <td>3</td>\n",
       "      <td>1</td>\n",
       "      <td>0</td>\n",
       "      <td>113931.57</td>\n",
       "      <td>1</td>\n",
       "    </tr>\n",
       "    <tr>\n",
       "      <th>3</th>\n",
       "      <td>699</td>\n",
       "      <td>0.0</td>\n",
       "      <td>0.0</td>\n",
       "      <td>39</td>\n",
       "      <td>1.0</td>\n",
       "      <td>0.00</td>\n",
       "      <td>2</td>\n",
       "      <td>0</td>\n",
       "      <td>0</td>\n",
       "      <td>93826.63</td>\n",
       "      <td>0</td>\n",
       "    </tr>\n",
       "    <tr>\n",
       "      <th>4</th>\n",
       "      <td>850</td>\n",
       "      <td>2.0</td>\n",
       "      <td>0.0</td>\n",
       "      <td>43</td>\n",
       "      <td>2.0</td>\n",
       "      <td>125510.82</td>\n",
       "      <td>1</td>\n",
       "      <td>1</td>\n",
       "      <td>1</td>\n",
       "      <td>79084.10</td>\n",
       "      <td>0</td>\n",
       "    </tr>\n",
       "  </tbody>\n",
       "</table>\n",
       "</div>"
      ],
      "text/plain": [
       "   CreditScore  Geography  Gender  Age  Tenure    Balance  NumOfProducts  \\\n",
       "0          619        0.0     0.0   42     2.0       0.00              1   \n",
       "1          608        2.0     0.0   41     1.0   83807.86              1   \n",
       "2          502        0.0     0.0   42     8.0  159660.80              3   \n",
       "3          699        0.0     0.0   39     1.0       0.00              2   \n",
       "4          850        2.0     0.0   43     2.0  125510.82              1   \n",
       "\n",
       "   HasCrCard  IsActiveMember  EstimatedSalary  Exited  \n",
       "0          1               1        101348.88       1  \n",
       "1          0               1        112542.58       0  \n",
       "2          1               0        113931.57       1  \n",
       "3          0               0         93826.63       0  \n",
       "4          1               1         79084.10       0  "
      ]
     },
     "execution_count": 15,
     "metadata": {},
     "output_type": "execute_result"
    }
   ],
   "source": [
    "# для модели LinearRegression нужно будет провести масштабирование для \n",
    "# признаков, у которых масштаб значительно превосходит другие признаки.\n",
    "# Найдем эти признаки. \n",
    "data.head()"
   ]
  },
  {
   "cell_type": "markdown",
   "metadata": {},
   "source": [
    "Вывод: необходимо провести масштабирование признаков 'Balance', 'EstimatedSalary'"
   ]
  },
  {
   "cell_type": "code",
   "execution_count": 6,
   "metadata": {},
   "outputs": [
    {
     "name": "stderr",
     "output_type": "stream",
     "text": [
      "/tmp/ipykernel_31/3179593089.py:5: SettingWithCopyWarning: \n",
      "A value is trying to be set on a copy of a slice from a DataFrame.\n",
      "Try using .loc[row_indexer,col_indexer] = value instead\n",
      "\n",
      "See the caveats in the documentation: https://pandas.pydata.org/pandas-docs/stable/user_guide/indexing.html#returning-a-view-versus-a-copy\n",
      "  features_train[numeric] = scaler.transform(features_train[numeric])\n",
      "/opt/conda/lib/python3.9/site-packages/pandas/core/indexing.py:1738: SettingWithCopyWarning: \n",
      "A value is trying to be set on a copy of a slice from a DataFrame.\n",
      "Try using .loc[row_indexer,col_indexer] = value instead\n",
      "\n",
      "See the caveats in the documentation: https://pandas.pydata.org/pandas-docs/stable/user_guide/indexing.html#returning-a-view-versus-a-copy\n",
      "  self._setitem_single_column(loc, value[:, i].tolist(), pi)\n",
      "/tmp/ipykernel_31/3179593089.py:6: SettingWithCopyWarning: \n",
      "A value is trying to be set on a copy of a slice from a DataFrame.\n",
      "Try using .loc[row_indexer,col_indexer] = value instead\n",
      "\n",
      "See the caveats in the documentation: https://pandas.pydata.org/pandas-docs/stable/user_guide/indexing.html#returning-a-view-versus-a-copy\n",
      "  features_valid[numeric] = scaler.transform(features_valid[numeric])\n",
      "/opt/conda/lib/python3.9/site-packages/pandas/core/indexing.py:1738: SettingWithCopyWarning: \n",
      "A value is trying to be set on a copy of a slice from a DataFrame.\n",
      "Try using .loc[row_indexer,col_indexer] = value instead\n",
      "\n",
      "See the caveats in the documentation: https://pandas.pydata.org/pandas-docs/stable/user_guide/indexing.html#returning-a-view-versus-a-copy\n",
      "  self._setitem_single_column(loc, value[:, i].tolist(), pi)\n",
      "/tmp/ipykernel_31/3179593089.py:7: SettingWithCopyWarning: \n",
      "A value is trying to be set on a copy of a slice from a DataFrame.\n",
      "Try using .loc[row_indexer,col_indexer] = value instead\n",
      "\n",
      "See the caveats in the documentation: https://pandas.pydata.org/pandas-docs/stable/user_guide/indexing.html#returning-a-view-versus-a-copy\n",
      "  features_test[numeric] = scaler.transform(features_test[numeric])\n",
      "/opt/conda/lib/python3.9/site-packages/pandas/core/indexing.py:1738: SettingWithCopyWarning: \n",
      "A value is trying to be set on a copy of a slice from a DataFrame.\n",
      "Try using .loc[row_indexer,col_indexer] = value instead\n",
      "\n",
      "See the caveats in the documentation: https://pandas.pydata.org/pandas-docs/stable/user_guide/indexing.html#returning-a-view-versus-a-copy\n",
      "  self._setitem_single_column(loc, value[:, i].tolist(), pi)\n"
     ]
    },
    {
     "data": {
      "text/html": [
       "<div>\n",
       "<style scoped>\n",
       "    .dataframe tbody tr th:only-of-type {\n",
       "        vertical-align: middle;\n",
       "    }\n",
       "\n",
       "    .dataframe tbody tr th {\n",
       "        vertical-align: top;\n",
       "    }\n",
       "\n",
       "    .dataframe thead th {\n",
       "        text-align: right;\n",
       "    }\n",
       "</style>\n",
       "<table border=\"1\" class=\"dataframe\">\n",
       "  <thead>\n",
       "    <tr style=\"text-align: right;\">\n",
       "      <th></th>\n",
       "      <th>CreditScore</th>\n",
       "      <th>Geography</th>\n",
       "      <th>Gender</th>\n",
       "      <th>Age</th>\n",
       "      <th>Tenure</th>\n",
       "      <th>Balance</th>\n",
       "      <th>NumOfProducts</th>\n",
       "      <th>HasCrCard</th>\n",
       "      <th>IsActiveMember</th>\n",
       "      <th>EstimatedSalary</th>\n",
       "    </tr>\n",
       "  </thead>\n",
       "  <tbody>\n",
       "    <tr>\n",
       "      <th>8837</th>\n",
       "      <td>526</td>\n",
       "      <td>0.0</td>\n",
       "      <td>1.0</td>\n",
       "      <td>32</td>\n",
       "      <td>7.0</td>\n",
       "      <td>0.786465</td>\n",
       "      <td>1</td>\n",
       "      <td>0</td>\n",
       "      <td>0</td>\n",
       "      <td>-0.232462</td>\n",
       "    </tr>\n",
       "    <tr>\n",
       "      <th>1090</th>\n",
       "      <td>500</td>\n",
       "      <td>2.0</td>\n",
       "      <td>0.0</td>\n",
       "      <td>47</td>\n",
       "      <td>8.0</td>\n",
       "      <td>0.833734</td>\n",
       "      <td>1</td>\n",
       "      <td>1</td>\n",
       "      <td>0</td>\n",
       "      <td>1.371811</td>\n",
       "    </tr>\n",
       "    <tr>\n",
       "      <th>7609</th>\n",
       "      <td>802</td>\n",
       "      <td>2.0</td>\n",
       "      <td>1.0</td>\n",
       "      <td>40</td>\n",
       "      <td>4.0</td>\n",
       "      <td>-1.227780</td>\n",
       "      <td>2</td>\n",
       "      <td>1</td>\n",
       "      <td>1</td>\n",
       "      <td>-0.317123</td>\n",
       "    </tr>\n",
       "    <tr>\n",
       "      <th>7279</th>\n",
       "      <td>731</td>\n",
       "      <td>2.0</td>\n",
       "      <td>0.0</td>\n",
       "      <td>39</td>\n",
       "      <td>2.0</td>\n",
       "      <td>0.806940</td>\n",
       "      <td>1</td>\n",
       "      <td>1</td>\n",
       "      <td>1</td>\n",
       "      <td>-0.439597</td>\n",
       "    </tr>\n",
       "    <tr>\n",
       "      <th>2245</th>\n",
       "      <td>612</td>\n",
       "      <td>2.0</td>\n",
       "      <td>0.0</td>\n",
       "      <td>26</td>\n",
       "      <td>4.0</td>\n",
       "      <td>-1.227780</td>\n",
       "      <td>2</td>\n",
       "      <td>1</td>\n",
       "      <td>1</td>\n",
       "      <td>1.381418</td>\n",
       "    </tr>\n",
       "  </tbody>\n",
       "</table>\n",
       "</div>"
      ],
      "text/plain": [
       "      CreditScore  Geography  Gender  Age  Tenure   Balance  NumOfProducts  \\\n",
       "8837          526        0.0     1.0   32     7.0  0.786465              1   \n",
       "1090          500        2.0     0.0   47     8.0  0.833734              1   \n",
       "7609          802        2.0     1.0   40     4.0 -1.227780              2   \n",
       "7279          731        2.0     0.0   39     2.0  0.806940              1   \n",
       "2245          612        2.0     0.0   26     4.0 -1.227780              2   \n",
       "\n",
       "      HasCrCard  IsActiveMember  EstimatedSalary  \n",
       "8837          0               0        -0.232462  \n",
       "1090          1               0         1.371811  \n",
       "7609          1               1        -0.317123  \n",
       "7279          1               1        -0.439597  \n",
       "2245          1               1         1.381418  "
      ]
     },
     "metadata": {},
     "output_type": "display_data"
    },
    {
     "data": {
      "text/html": [
       "<div>\n",
       "<style scoped>\n",
       "    .dataframe tbody tr th:only-of-type {\n",
       "        vertical-align: middle;\n",
       "    }\n",
       "\n",
       "    .dataframe tbody tr th {\n",
       "        vertical-align: top;\n",
       "    }\n",
       "\n",
       "    .dataframe thead th {\n",
       "        text-align: right;\n",
       "    }\n",
       "</style>\n",
       "<table border=\"1\" class=\"dataframe\">\n",
       "  <thead>\n",
       "    <tr style=\"text-align: right;\">\n",
       "      <th></th>\n",
       "      <th>CreditScore</th>\n",
       "      <th>Geography</th>\n",
       "      <th>Gender</th>\n",
       "      <th>Age</th>\n",
       "      <th>Tenure</th>\n",
       "      <th>Balance</th>\n",
       "      <th>NumOfProducts</th>\n",
       "      <th>HasCrCard</th>\n",
       "      <th>IsActiveMember</th>\n",
       "      <th>EstimatedSalary</th>\n",
       "    </tr>\n",
       "  </thead>\n",
       "  <tbody>\n",
       "    <tr>\n",
       "      <th>6800</th>\n",
       "      <td>610</td>\n",
       "      <td>2.0</td>\n",
       "      <td>0.0</td>\n",
       "      <td>37</td>\n",
       "      <td>10.0</td>\n",
       "      <td>1.024309</td>\n",
       "      <td>2</td>\n",
       "      <td>1</td>\n",
       "      <td>1</td>\n",
       "      <td>0.509924</td>\n",
       "    </tr>\n",
       "    <tr>\n",
       "      <th>4950</th>\n",
       "      <td>661</td>\n",
       "      <td>1.0</td>\n",
       "      <td>1.0</td>\n",
       "      <td>41</td>\n",
       "      <td>5.0</td>\n",
       "      <td>0.738531</td>\n",
       "      <td>2</td>\n",
       "      <td>0</td>\n",
       "      <td>1</td>\n",
       "      <td>0.355165</td>\n",
       "    </tr>\n",
       "    <tr>\n",
       "      <th>8287</th>\n",
       "      <td>753</td>\n",
       "      <td>2.0</td>\n",
       "      <td>1.0</td>\n",
       "      <td>51</td>\n",
       "      <td>4.0</td>\n",
       "      <td>0.052771</td>\n",
       "      <td>2</td>\n",
       "      <td>0</td>\n",
       "      <td>1</td>\n",
       "      <td>-0.553975</td>\n",
       "    </tr>\n",
       "    <tr>\n",
       "      <th>8912</th>\n",
       "      <td>569</td>\n",
       "      <td>2.0</td>\n",
       "      <td>0.0</td>\n",
       "      <td>30</td>\n",
       "      <td>3.0</td>\n",
       "      <td>1.010901</td>\n",
       "      <td>1</td>\n",
       "      <td>1</td>\n",
       "      <td>1</td>\n",
       "      <td>-1.161906</td>\n",
       "    </tr>\n",
       "    <tr>\n",
       "      <th>8265</th>\n",
       "      <td>597</td>\n",
       "      <td>2.0</td>\n",
       "      <td>1.0</td>\n",
       "      <td>38</td>\n",
       "      <td>6.0</td>\n",
       "      <td>0.628628</td>\n",
       "      <td>2</td>\n",
       "      <td>1</td>\n",
       "      <td>1</td>\n",
       "      <td>-1.303716</td>\n",
       "    </tr>\n",
       "  </tbody>\n",
       "</table>\n",
       "</div>"
      ],
      "text/plain": [
       "      CreditScore  Geography  Gender  Age  Tenure   Balance  NumOfProducts  \\\n",
       "6800          610        2.0     0.0   37    10.0  1.024309              2   \n",
       "4950          661        1.0     1.0   41     5.0  0.738531              2   \n",
       "8287          753        2.0     1.0   51     4.0  0.052771              2   \n",
       "8912          569        2.0     0.0   30     3.0  1.010901              1   \n",
       "8265          597        2.0     1.0   38     6.0  0.628628              2   \n",
       "\n",
       "      HasCrCard  IsActiveMember  EstimatedSalary  \n",
       "6800          1               1         0.509924  \n",
       "4950          0               1         0.355165  \n",
       "8287          0               1        -0.553975  \n",
       "8912          1               1        -1.161906  \n",
       "8265          1               1        -1.303716  "
      ]
     },
     "metadata": {},
     "output_type": "display_data"
    },
    {
     "data": {
      "text/html": [
       "<div>\n",
       "<style scoped>\n",
       "    .dataframe tbody tr th:only-of-type {\n",
       "        vertical-align: middle;\n",
       "    }\n",
       "\n",
       "    .dataframe tbody tr th {\n",
       "        vertical-align: top;\n",
       "    }\n",
       "\n",
       "    .dataframe thead th {\n",
       "        text-align: right;\n",
       "    }\n",
       "</style>\n",
       "<table border=\"1\" class=\"dataframe\">\n",
       "  <thead>\n",
       "    <tr style=\"text-align: right;\">\n",
       "      <th></th>\n",
       "      <th>CreditScore</th>\n",
       "      <th>Geography</th>\n",
       "      <th>Gender</th>\n",
       "      <th>Age</th>\n",
       "      <th>Tenure</th>\n",
       "      <th>Balance</th>\n",
       "      <th>NumOfProducts</th>\n",
       "      <th>HasCrCard</th>\n",
       "      <th>IsActiveMember</th>\n",
       "      <th>EstimatedSalary</th>\n",
       "    </tr>\n",
       "  </thead>\n",
       "  <tbody>\n",
       "    <tr>\n",
       "      <th>3726</th>\n",
       "      <td>675</td>\n",
       "      <td>2.0</td>\n",
       "      <td>1.0</td>\n",
       "      <td>32</td>\n",
       "      <td>10.0</td>\n",
       "      <td>-1.227780</td>\n",
       "      <td>2</td>\n",
       "      <td>1</td>\n",
       "      <td>0</td>\n",
       "      <td>1.585594</td>\n",
       "    </tr>\n",
       "    <tr>\n",
       "      <th>4661</th>\n",
       "      <td>784</td>\n",
       "      <td>1.0</td>\n",
       "      <td>1.0</td>\n",
       "      <td>38</td>\n",
       "      <td>1.0</td>\n",
       "      <td>0.994644</td>\n",
       "      <td>1</td>\n",
       "      <td>1</td>\n",
       "      <td>1</td>\n",
       "      <td>1.242374</td>\n",
       "    </tr>\n",
       "    <tr>\n",
       "      <th>8400</th>\n",
       "      <td>644</td>\n",
       "      <td>2.0</td>\n",
       "      <td>1.0</td>\n",
       "      <td>49</td>\n",
       "      <td>10.0</td>\n",
       "      <td>-1.227780</td>\n",
       "      <td>2</td>\n",
       "      <td>1</td>\n",
       "      <td>1</td>\n",
       "      <td>0.779368</td>\n",
       "    </tr>\n",
       "    <tr>\n",
       "      <th>6135</th>\n",
       "      <td>717</td>\n",
       "      <td>2.0</td>\n",
       "      <td>1.0</td>\n",
       "      <td>36</td>\n",
       "      <td>2.0</td>\n",
       "      <td>0.424655</td>\n",
       "      <td>2</td>\n",
       "      <td>0</td>\n",
       "      <td>1</td>\n",
       "      <td>-0.885009</td>\n",
       "    </tr>\n",
       "    <tr>\n",
       "      <th>8853</th>\n",
       "      <td>677</td>\n",
       "      <td>0.0</td>\n",
       "      <td>0.0</td>\n",
       "      <td>25</td>\n",
       "      <td>3.0</td>\n",
       "      <td>-1.227780</td>\n",
       "      <td>2</td>\n",
       "      <td>1</td>\n",
       "      <td>0</td>\n",
       "      <td>1.378437</td>\n",
       "    </tr>\n",
       "  </tbody>\n",
       "</table>\n",
       "</div>"
      ],
      "text/plain": [
       "      CreditScore  Geography  Gender  Age  Tenure   Balance  NumOfProducts  \\\n",
       "3726          675        2.0     1.0   32    10.0 -1.227780              2   \n",
       "4661          784        1.0     1.0   38     1.0  0.994644              1   \n",
       "8400          644        2.0     1.0   49    10.0 -1.227780              2   \n",
       "6135          717        2.0     1.0   36     2.0  0.424655              2   \n",
       "8853          677        0.0     0.0   25     3.0 -1.227780              2   \n",
       "\n",
       "      HasCrCard  IsActiveMember  EstimatedSalary  \n",
       "3726          1               0         1.585594  \n",
       "4661          1               1         1.242374  \n",
       "8400          1               1         0.779368  \n",
       "6135          0               1        -0.885009  \n",
       "8853          1               0         1.378437  "
      ]
     },
     "metadata": {},
     "output_type": "display_data"
    }
   ],
   "source": [
    "#  проведем масштабирование признаков 'Balance', 'EstimatedSalary'\n",
    "scaler = StandardScaler()\n",
    "numeric = ['Balance', 'EstimatedSalary']\n",
    "scaler.fit(data[numeric])\n",
    "features_train[numeric] = scaler.transform(features_train[numeric])\n",
    "features_valid[numeric] = scaler.transform(features_valid[numeric])\n",
    "features_test[numeric] = scaler.transform(features_test[numeric])\n",
    "# проверим результат\n",
    "display(features_train.head())\n",
    "display(features_valid.head())\n",
    "display(features_test.head())"
   ]
  },
  {
   "cell_type": "markdown",
   "metadata": {},
   "source": [
    "<div class=\"alert alert-block alert-success\">\n",
    "<b>✔️ Успех:</b>\n",
    "\n",
    "Отлично, признаки масштабированы 👍 Не забыли, что fit нужно делать только на train выборке.\n",
    "</div>"
   ]
  },
  {
   "cell_type": "markdown",
   "metadata": {},
   "source": [
    "## Исследование задачи"
   ]
  },
  {
   "cell_type": "markdown",
   "metadata": {},
   "source": [
    "### Построим модель RandomForestClassifier"
   ]
  },
  {
   "cell_type": "code",
   "execution_count": 17,
   "metadata": {},
   "outputs": [
    {
     "name": "stdout",
     "output_type": "stream",
     "text": [
      "Наилучшая F1 метрика модели RandomForestClassifier: (0.5973154362416108,) , при depth = 13\n",
      "CPU times: user 14.9 s, sys: 71 ms, total: 15 s\n",
      "Wall time: 15 s\n"
     ]
    },
    {
     "data": {
      "image/png": "[encoded data removed]",
      "text/plain": [
       "<Figure size 1080x576 with 1 Axes>"
      ]
     },
     "metadata": {
      "needs_background": "light"
     },
     "output_type": "display_data"
    }
   ],
   "source": [
    "%%time\n",
    "# подберем depth при условно-фиксированном количестве деревьев 200 для начала\n",
    "best_f1_score = 0\n",
    "best_RandomForestClassifier_model = None\n",
    "best_depth = 0\n",
    "auc_roc_list=[]\n",
    "f1_score_list=[]\n",
    "\n",
    "for depth in range(1,16):\n",
    "    model = RandomForestClassifier(random_state=12345, n_estimators=200, max_depth=depth)\n",
    "    model.fit(features_train, target_train)\n",
    "    predictions = model.predict(features_valid)\n",
    "    result = f1_score(target_valid, predictions)\n",
    "    f1_score_list.append(result)\n",
    "    \n",
    "    probabilities_valid = model.predict_proba(features_valid) # вычислим AUC-ROC для проверки\n",
    "    probabilities_one_valid = probabilities_valid[:, 1]\n",
    "    auc_roc = roc_auc_score(target_valid, probabilities_one_valid)\n",
    "    auc_roc_list.append(auc_roc)\n",
    "    if result > best_f1_score:\n",
    "        best_f1_score = result,\n",
    "        best_RandomForestClassifier_model = model,\n",
    "        best_depth = depth\n",
    "print(\"Наилучшая F1 метрика модели RandomForestClassifier:\", best_f1_score, \n",
    "      ', при depth =', best_depth)\n",
    "\n",
    "# построим график зависимости метрик AUC-ROC и F1 от max_depth\n",
    "plt.figure(figsize=(15, 8))\n",
    "x = [i for i in range(1,16)] \n",
    "y = f1_score_list\n",
    "plt.plot(x,y, label='f1_score')\n",
    "\n",
    "y = auc_roc_list\n",
    "plt.plot(x,y, label='auc_roc')\n",
    "\n",
    "\n",
    "plt.legend()    \n",
    "plt.title('Метрики качества модели RandomForestClassifier в зависимости от depth')    \n",
    "plt.xlabel('depth') \n",
    "plt.ylabel('efficiency') \n",
    "plt.grid()    \n",
    "        \n",
    "    "
   ]
  },
  {
   "cell_type": "markdown",
   "metadata": {},
   "source": [
    "Вывод: F1 метрика модели RandomForestClassifier = 0.59, что приемлимо для нас согласно задания, при depth = 13. <br>\n",
    "Так же согласно графика исследуемые метрики растут до depth=13, далее рост останавливается."
   ]
  },
  {
   "cell_type": "code",
   "execution_count": 18,
   "metadata": {},
   "outputs": [
    {
     "name": "stdout",
     "output_type": "stream",
     "text": [
      "F1 =  0.585 при количестве деревьев =  50\n",
      "F1 =  0.587 при количестве деревьев =  100\n",
      "F1 =  0.589 при количестве деревьев =  150\n",
      "F1 =  0.597 при количестве деревьев =  200\n",
      "F1 =  0.596 при количестве деревьев =  250\n",
      "F1 =  0.591 при количестве деревьев =  300\n",
      "Наилучшая F1 метрика модели RandomForestClassifier: (0.5973154362416108,) , при est = 200\n",
      "CPU times: user 6.87 s, sys: 15.1 ms, total: 6.89 s\n",
      "Wall time: 6.9 s\n"
     ]
    }
   ],
   "source": [
    "%%time\n",
    "# проверим будет ли влиять изменение количества деревьев при depth=13 на метрику F1\n",
    "best_f1_score = 0\n",
    "#best_RandomForestClassifier_model = None\n",
    "best_est = 0\n",
    "for est in range(50,301,50):\n",
    "    model = RandomForestClassifier(random_state=12345, n_estimators=est, max_depth=13)\n",
    "    model.fit(features_train, target_train)\n",
    "    predictions = model.predict(features_valid)\n",
    "    result = f1_score(target_valid, predictions)\n",
    "    print('F1 = ', round(result, 3), 'при количестве деревьев = ', est)\n",
    "    if result > best_f1_score:\n",
    "        best_f1_score = result,\n",
    "        #best_RandomForestClassifier_model = model,\n",
    "        best_est = est\n",
    "print(\"Наилучшая F1 метрика модели RandomForestClassifier:\", best_f1_score, \n",
    "      ', при est =', best_est)"
   ]
  },
  {
   "cell_type": "markdown",
   "metadata": {},
   "source": [
    "Вывод: выбранное изначально количество деревьев 200 является оптимальным"
   ]
  },
  {
   "cell_type": "code",
   "execution_count": 19,
   "metadata": {},
   "outputs": [
    {
     "data": {
      "image/png": "[encoded data removed]",
      "text/plain": [
       "<Figure size 432x288 with 1 Axes>"
      ]
     },
     "metadata": {
      "needs_background": "light"
     },
     "output_type": "display_data"
    }
   ],
   "source": [
    "# построим ROC-кривую при найденных оптимальных n_estimators=200, max_depth=13\n",
    "model = RandomForestClassifier(random_state=12345, n_estimators=200, max_depth=13)\n",
    "model.fit(features_train, target_train)\n",
    "\n",
    "probabilities_valid = model.predict_proba(features_valid)\n",
    "probabilities_one_valid = probabilities_valid[:, 1]\n",
    "\n",
    "fpr, tpr, thresholds = roc_curve(target_valid, probabilities_one_valid) # < напишите код здесь >\n",
    "\n",
    "plt.figure()\n",
    "plt.plot(fpr, tpr)\n",
    "\n",
    "# ROC-кривая случайной модели (выглядит как прямая)\n",
    "plt.plot([0, 1], [0, 1], linestyle='--')\n",
    "\n",
    "# < примените функции plt.xlim() и plt.ylim(), чтобы\n",
    "#   установить границы осей от 0 до 1 >\n",
    "plt.xlim([0,1])\n",
    "plt.ylim([0,1])\n",
    "\n",
    "# < примените функции plt.xlabel() и plt.ylabel(), чтобы\n",
    "#   подписать оси \"False Positive Rate\" и \"True Positive Rate\" >\n",
    "plt.xlabel('False Positive Rate')\n",
    "plt.ylabel('True Positive Rate')\n",
    "\n",
    "# < добавьте к графику заголовок \"ROC-кривая\" функцией plt.title() >\n",
    "plt.title('ROC-кривая')\n",
    "\n",
    "plt.show()"
   ]
  },
  {
   "cell_type": "markdown",
   "metadata": {},
   "source": [
    "Вывод: ROC-кривая нашей модели значительно выше кривой случайной модели, т.е. наша модель значительно  отличается от случайной"
   ]
  },
  {
   "cell_type": "markdown",
   "metadata": {},
   "source": [
    "### Построим модель LinearRegression"
   ]
  },
  {
   "cell_type": "code",
   "execution_count": 20,
   "metadata": {},
   "outputs": [
    {
     "name": "stderr",
     "output_type": "stream",
     "text": [
      "/opt/conda/lib/python3.9/site-packages/sklearn/linear_model/_logistic.py:763: ConvergenceWarning: lbfgs failed to converge (status=1):\n",
      "STOP: TOTAL NO. of ITERATIONS REACHED LIMIT.\n",
      "\n",
      "Increase the number of iterations (max_iter) or scale the data as shown in:\n",
      "    https://scikit-learn.org/stable/modules/preprocessing.html\n",
      "Please also refer to the documentation for alternative solver options:\n",
      "    https://scikit-learn.org/stable/modules/linear_model.html#logistic-regression\n",
      "  n_iter_i = _check_optimize_result(\n"
     ]
    },
    {
     "data": {
      "text/plain": [
       "0.2652631578947368"
      ]
     },
     "execution_count": 20,
     "metadata": {},
     "output_type": "execute_result"
    }
   ],
   "source": [
    "model = LogisticRegression()\n",
    "model.fit(features_train, target_train)\n",
    "predictions = model.predict(features_valid)\n",
    "f1_score(target_valid, predictions)"
   ]
  },
  {
   "cell_type": "markdown",
   "metadata": {},
   "source": [
    "Вывод: лигистическая регрессия показала низкий F1 = 0,265. Наилучшие параметры у модели RandomForestClassifier c depth = 13 и количеством деревьев 200 с F1=0.59"
   ]
  },
  {
   "cell_type": "markdown",
   "metadata": {},
   "source": [
    "<div class=\"alert alert-block alert-success\">\n",
    "<b>✔️ Успех:</b>\n",
    "\n",
    "Модели обучены корректно 👍\n",
    "</div>"
   ]
  },
  {
   "cell_type": "markdown",
   "metadata": {},
   "source": [
    "## Борьба с дисбалансом"
   ]
  },
  {
   "cell_type": "code",
   "execution_count": 21,
   "metadata": {},
   "outputs": [
    {
     "data": {
      "text/plain": [
       "0    7237\n",
       "1    1854\n",
       "Name: Exited, dtype: int64"
      ]
     },
     "execution_count": 21,
     "metadata": {},
     "output_type": "execute_result"
    }
   ],
   "source": [
    "# При подготовке данных мы обнаружили дисбаланс классов целевого признака\n",
    "data['Exited'].value_counts()"
   ]
  },
  {
   "cell_type": "markdown",
   "metadata": {},
   "source": [
    "<div class=\"alert alert-block alert-success\">\n",
    "<b>✔️ Успех:</b>\n",
    "\n",
    "Виден явный дисбаланс классов в пользу отрицательного класса. Если мы будем всех людей прогнозировать, что они не уйдут из банка, то в 80% случаев мы будем правы.\n",
    "</div>"
   ]
  },
  {
   "cell_type": "markdown",
   "metadata": {},
   "source": [
    "### Upsampling. Преобразуем выборку путем ее увеличения. Увеличим количество класса \"1\" целевого признака в 4 раза."
   ]
  },
  {
   "cell_type": "code",
   "execution_count": 8,
   "metadata": {},
   "outputs": [],
   "source": [
    "features_zeros = features_train[target_train == 0]\n",
    "features_ones = features_train[target_train == 1]\n",
    "target_zeros = target_train[target_train == 0]\n",
    "target_ones = target_train[target_train == 1]\n",
    "\n",
    "features_upsampled = pd.concat([features_zeros] + [features_ones]*4)\n",
    "target_upsampled = pd.concat([target_zeros] + [target_ones] * 4)\n",
    "\n",
    "# перемешаем\n",
    "features_upsampled, target_upsampled = shuffle(\n",
    "        features_upsampled, target_upsampled, random_state=12345)"
   ]
  },
  {
   "cell_type": "markdown",
   "metadata": {},
   "source": [
    "<div class=\"alert alert-block alert-success\">\n",
    "<b>✔️ Успех:</b>\n",
    "\n",
    "Увеличение выборки выполнено верно - классы сбалансированы 👍 \n",
    "</div>"
   ]
  },
  {
   "cell_type": "code",
   "execution_count": 37,
   "metadata": {},
   "outputs": [
    {
     "name": "stdout",
     "output_type": "stream",
     "text": [
      "Наилучшая F1 метрика модели RandomForestClassifier: (0.6380697050938338,) , при depth = 13\n",
      "CPU times: user 20.6 s, sys: 16 ms, total: 20.7 s\n",
      "Wall time: 20.7 s\n"
     ]
    }
   ],
   "source": [
    "%%time\n",
    "# подберем depth при условно-фиксированном количестве деревьев 150 для начала\n",
    "best_f1_score = 0\n",
    "best_RandomForestClassifier_model = None\n",
    "best_depth = 0\n",
    "for depth in range(10,25):\n",
    "    model = RandomForestClassifier(random_state=12345, n_estimators=150, max_depth=depth)\n",
    "    model.fit(features_upsampled, target_upsampled) # обучаем модель на upsampled выборке\n",
    "    predictions = model.predict(features_valid)\n",
    "    result = f1_score(target_valid, predictions)\n",
    "    if result > best_f1_score:\n",
    "        best_f1_score = result,\n",
    "        best_RandomForestClassifier_model = model,\n",
    "        best_depth = depth\n",
    "print(\"Наилучшая F1 метрика модели RandomForestClassifier:\", best_f1_score, \n",
    "      ', при depth =', best_depth)"
   ]
  },
  {
   "cell_type": "code",
   "execution_count": 38,
   "metadata": {},
   "outputs": [
    {
     "name": "stdout",
     "output_type": "stream",
     "text": [
      "F1 =  0.62 при количестве деревьев =  50\n",
      "F1 =  0.638 при количестве деревьев =  100\n",
      "F1 =  0.638 при количестве деревьев =  150\n",
      "F1 =  0.63 при количестве деревьев =  200\n",
      "F1 =  0.634 при количестве деревьев =  250\n",
      "F1 =  0.626 при количестве деревьев =  300\n",
      "Наилучшая F1 метрика модели RandomForestClassifier: (0.6380697050938338,) , при est = 150\n",
      "CPU times: user 9.34 s, sys: 11.9 ms, total: 9.35 s\n",
      "Wall time: 9.36 s\n"
     ]
    }
   ],
   "source": [
    "%%time\n",
    "# проверим будет ли влиять изменение количества деревьев при depth=13 на метрику F1\n",
    "best_f1_score = 0\n",
    "#best_RandomForestClassifier_model = None\n",
    "best_est = 0\n",
    "for est in range(50,301,50):\n",
    "    model = RandomForestClassifier(random_state=12345, n_estimators=est, max_depth=13)\n",
    "    model.fit(features_upsampled, target_upsampled) # обучаем модель на upsampled выборке\n",
    "    predictions = model.predict(features_valid)\n",
    "    result = f1_score(target_valid, predictions)\n",
    "    print('F1 = ', round(result, 3), 'при количестве деревьев = ', est)\n",
    "    if result > best_f1_score:\n",
    "        best_f1_score = result,\n",
    "        #best_RandomForestClassifier_model = model,\n",
    "        best_est = est\n",
    "print(\"Наилучшая F1 метрика модели RandomForestClassifier:\", best_f1_score, \n",
    "      ', при est =', best_est)"
   ]
  },
  {
   "cell_type": "markdown",
   "metadata": {},
   "source": [
    "Вывод: выбранное изначально количество деревьев 150 является оптимальным"
   ]
  },
  {
   "cell_type": "code",
   "execution_count": 49,
   "metadata": {},
   "outputs": [
    {
     "name": "stderr",
     "output_type": "stream",
     "text": [
      "/opt/conda/lib/python3.9/site-packages/sklearn/linear_model/_logistic.py:763: ConvergenceWarning: lbfgs failed to converge (status=1):\n",
      "STOP: TOTAL NO. of ITERATIONS REACHED LIMIT.\n",
      "\n",
      "Increase the number of iterations (max_iter) or scale the data as shown in:\n",
      "    https://scikit-learn.org/stable/modules/preprocessing.html\n",
      "Please also refer to the documentation for alternative solver options:\n",
      "    https://scikit-learn.org/stable/modules/linear_model.html#logistic-regression\n",
      "  n_iter_i = _check_optimize_result(\n"
     ]
    },
    {
     "data": {
      "text/plain": [
       "0.48181818181818176"
      ]
     },
     "execution_count": 49,
     "metadata": {},
     "output_type": "execute_result"
    }
   ],
   "source": [
    "# проверим модель logisticRegression()\n",
    "model = LogisticRegression()\n",
    "model.fit(features_upsampled, target_upsampled)\n",
    "predictions = model.predict(features_valid)\n",
    "f1_score(target_valid, predictions)"
   ]
  },
  {
   "cell_type": "markdown",
   "metadata": {},
   "source": [
    "Вывод: максимальную метрику F1 показала модель RandomForestClassifier при Upsampling, а именно F1_score=0.63 при depth=13 и n_esimators=150"
   ]
  },
  {
   "cell_type": "markdown",
   "metadata": {},
   "source": [
    "### Downsampling. Преобразуем выборку путем ее уменьшения. Уменьшим количество класса \"1\" целевого признака в 4 раза."
   ]
  },
  {
   "cell_type": "code",
   "execution_count": 42,
   "metadata": {},
   "outputs": [],
   "source": [
    "features_zeros = features_train[target_train == 0]\n",
    "features_ones = features_train[target_train == 1]\n",
    "target_zeros = target_train[target_train == 0]\n",
    "target_ones = target_train[target_train == 1]\n",
    "\n",
    "features_downsampled = pd.concat([features_zeros.sample(frac=0.25, random_state=12345)] + [features_ones])\n",
    "target_downsampled = pd.concat([target_zeros.sample(frac=0.25, random_state=12345)] + [target_ones])\n",
    "\n",
    "features_downsampled, target_downsampled = shuffle(\n",
    "        features_upsampled, target_upsampled, random_state=12345)"
   ]
  },
  {
   "cell_type": "markdown",
   "metadata": {},
   "source": [
    "<div class=\"alert alert-block alert-success\">\n",
    "<b>✔️ Успех:</b>\n",
    "\n",
    "Уменьшение выборки тоже выполнено верно 👍 \n",
    "</div>"
   ]
  },
  {
   "cell_type": "code",
   "execution_count": 44,
   "metadata": {},
   "outputs": [
    {
     "name": "stdout",
     "output_type": "stream",
     "text": [
      "Наилучшая F1 метрика модели RandomForestClassifier: (0.6350067842605156,) , при depth = 13\n",
      "CPU times: user 20.7 s, sys: 48 ms, total: 20.7 s\n",
      "Wall time: 20.7 s\n"
     ]
    }
   ],
   "source": [
    "%%time\n",
    "# подберем depth при условно-фиксированном количестве деревьев 150 для начала\n",
    "best_f1_score = 0\n",
    "best_RandomForestClassifier_model = None\n",
    "best_depth = 0\n",
    "for depth in range(10,25):\n",
    "    model = RandomForestClassifier(random_state=12345, n_estimators=150, max_depth=depth)\n",
    "    model.fit(features_downsampled, target_downsampled) # обучаем модель на downsampled выборке\n",
    "    predictions = model.predict(features_valid)\n",
    "    result = f1_score(target_valid, predictions)\n",
    "    if result > best_f1_score:\n",
    "        best_f1_score = result,\n",
    "        best_RandomForestClassifier_model = model,\n",
    "        best_depth = depth\n",
    "print(\"Наилучшая F1 метрика модели RandomForestClassifier:\", best_f1_score, \n",
    "      ', при depth =', best_depth)"
   ]
  },
  {
   "cell_type": "code",
   "execution_count": 46,
   "metadata": {},
   "outputs": [
    {
     "name": "stdout",
     "output_type": "stream",
     "text": [
      "F1 =  0.629 при количестве деревьев =  50\n",
      "F1 =  0.627 при количестве деревьев =  100\n",
      "F1 =  0.635 при количестве деревьев =  150\n",
      "F1 =  0.624 при количестве деревьев =  200\n",
      "F1 =  0.622 при количестве деревьев =  250\n",
      "F1 =  0.618 при количестве деревьев =  300\n",
      "Наилучшая F1 метрика модели RandomForestClassifier: (0.6350067842605156,) , при est = 150\n",
      "CPU times: user 9.4 s, sys: 15.9 ms, total: 9.42 s\n",
      "Wall time: 9.43 s\n"
     ]
    }
   ],
   "source": [
    "%%time\n",
    "# проверим будет ли влиять изменение количества деревьев при depth=13 на метрику F1\n",
    "best_f1_score = 0\n",
    "#best_RandomForestClassifier_model = None\n",
    "best_est = 0\n",
    "for est in range(50,301,50):\n",
    "    model = RandomForestClassifier(random_state=12345, n_estimators=est, max_depth=13)\n",
    "    model.fit(features_downsampled, target_downsampled) # обучаем модель на downsampled выборке\n",
    "    predictions = model.predict(features_valid)\n",
    "    result = f1_score(target_valid, predictions)\n",
    "    print('F1 = ', round(result, 3), 'при количестве деревьев = ', est)\n",
    "    if result > best_f1_score:\n",
    "        best_f1_score = result,\n",
    "        #best_RandomForestClassifier_model = model,\n",
    "        best_est = est\n",
    "print(\"Наилучшая F1 метрика модели RandomForestClassifier:\", best_f1_score, \n",
    "      ', при est =', best_est)"
   ]
  },
  {
   "cell_type": "markdown",
   "metadata": {},
   "source": [
    "Вывод: выбранное изначально количество деревьев 150 является оптимальным"
   ]
  },
  {
   "cell_type": "code",
   "execution_count": 48,
   "metadata": {},
   "outputs": [
    {
     "name": "stderr",
     "output_type": "stream",
     "text": [
      "/opt/conda/lib/python3.9/site-packages/sklearn/linear_model/_logistic.py:763: ConvergenceWarning: lbfgs failed to converge (status=1):\n",
      "STOP: TOTAL NO. of ITERATIONS REACHED LIMIT.\n",
      "\n",
      "Increase the number of iterations (max_iter) or scale the data as shown in:\n",
      "    https://scikit-learn.org/stable/modules/preprocessing.html\n",
      "Please also refer to the documentation for alternative solver options:\n",
      "    https://scikit-learn.org/stable/modules/linear_model.html#logistic-regression\n",
      "  n_iter_i = _check_optimize_result(\n"
     ]
    },
    {
     "data": {
      "text/plain": [
       "0.48673376029277216"
      ]
     },
     "execution_count": 48,
     "metadata": {},
     "output_type": "execute_result"
    }
   ],
   "source": [
    "# проверим модель logisticRegression()\n",
    "model = LogisticRegression()\n",
    "model.fit(features_downsampled, target_downsampled)\n",
    "predictions = model.predict(features_valid)\n",
    "f1_score(target_valid, predictions)"
   ]
  },
  {
   "cell_type": "markdown",
   "metadata": {},
   "source": [
    "Вывод: максимальную метрику F1 показала модель RandomForestClassifier при Upsampling, а именно F1_score=0.63 при depth=13 и n_esimators=150. Модель при Downsampling показала себя немного хуже. \n",
    "Для тестирования будем исмользовать модель при Upsampling"
   ]
  },
  {
   "cell_type": "markdown",
   "metadata": {},
   "source": [
    "<div class=\"alert alert-block alert-success\">\n",
    "<b>✔️ Успех:</b>\n",
    "\n",
    "По модельной части замечаний нет!) Все этапы выполнены отлично 👍\n",
    "</div>"
   ]
  },
  {
   "cell_type": "markdown",
   "metadata": {},
   "source": [
    "## Тестирование модели"
   ]
  },
  {
   "cell_type": "code",
   "execution_count": 10,
   "metadata": {},
   "outputs": [
    {
     "name": "stdout",
     "output_type": "stream",
     "text": [
      "F1 =  0.5941422594142259\n",
      "AUC-ROC =  0.8440045568941639\n"
     ]
    },
    {
     "data": {
      "image/png": "[encoded data removed]",
      "text/plain": [
       "<Figure size 432x288 with 1 Axes>"
      ]
     },
     "metadata": {
      "needs_background": "light"
     },
     "output_type": "display_data"
    }
   ],
   "source": [
    "model = RandomForestClassifier(random_state=12345, n_estimators=150, max_depth=13)\n",
    "model.fit(features_upsampled, target_upsampled) \n",
    "predictions = model.predict(features_test)\n",
    "print('F1 = ', f1_score(target_test, predictions))\n",
    "\n",
    "probabilities_test = model.predict_proba(features_test) # вычислим AUC-ROC для проверки\n",
    "probabilities_one_test = probabilities_test[:, 1]\n",
    "auc_roc = roc_auc_score(target_test, probabilities_one_test)\n",
    "print('AUC-ROC = ', auc_roc)\n",
    "\n",
    "\n",
    "# добавил ниже\n",
    "fpr, tpr, thresholds = roc_curve(target_test, probabilities_one_test) \n",
    "\n",
    "plt.figure()\n",
    "plt.plot(fpr, tpr)\n",
    "\n",
    "# ROC-кривая случайной модели (выглядит как прямая)\n",
    "plt.plot([0, 1], [0, 1], linestyle='--')\n",
    "\n",
    "# < примените функции plt.xlim() и plt.ylim(), чтобы\n",
    "#   установить границы осей от 0 до 1 >\n",
    "plt.xlim([0,1])\n",
    "plt.ylim([0,1])\n",
    "\n",
    "# < примените функции plt.xlabel() и plt.ylabel(), чтобы\n",
    "#   подписать оси \"False Positive Rate\" и \"True Positive Rate\" >\n",
    "plt.xlabel('False Positive Rate')\n",
    "plt.ylabel('True Positive Rate')\n",
    "\n",
    "# < добавьте к графику заголовок \"ROC-кривая\" функцией plt.title() >\n",
    "plt.title('ROC-кривая')\n",
    "\n",
    "plt.show()\n"
   ]
  },
  {
   "cell_type": "markdown",
   "metadata": {},
   "source": [
    "<div class=\"alert alert-block alert-success\">\n",
    "<b>✔️ Успех:</b>\n",
    "\n",
    "Отличный результат 👍 \n",
    "</div>"
   ]
  },
  {
   "cell_type": "markdown",
   "metadata": {},
   "source": [
    "<div class=\"alert alert-block alert-warning\">\n",
    "<b>⚠️ Совет:</b>\n",
    "\n",
    "Здесь можно визуализировать ROC-кривую лучшей модели.\n",
    "</div>"
   ]
  },
  {
   "cell_type": "markdown",
   "metadata": {},
   "source": [
    "<div class=\"alert alert-block alert-info\">\n",
    "<b>Комментарий студента:\n",
    "</div>\n",
    "\n",
    "<div class=\"alert alert-block alert-info\">\n",
    "<b>Изменения: Были внесены следующие изменения: добавлена ROC кривая\n",
    "</div>"
   ]
  },
  {
   "cell_type": "markdown",
   "metadata": {},
   "source": [
    "<div class=\"alert alert-block alert-success\">\n",
    "<b>V2 ✔️ Успешно исправлено</b>\n",
    "</div>"
   ]
  },
  {
   "cell_type": "markdown",
   "metadata": {},
   "source": [
    "Вывод: тестирование модели показало F1-метрику=0,59, что явлюяется достаточным согласно технического задания. Кроме того метрика AUC-ROC достаточно высока, равна 84%, что говорит о высоком качестве модели. ROC-кривая нашей модели значительно выше кривой случайной модели, т.е. наша модель значительно  отличается от случайной <br>\n",
    "В работе были проведены: <br>\n",
    "- подготовка данных, где в результате исследования данные был обнаружен и позже устранен дисбаланс классов. Была проведена работа с пропусками и незначимыми параметрами. Категориальные признаки Geography и Gender перевели в численные. Было проведено масштабирование признаков;\n",
    "- построены модели случайного леса и лигистической регрессии и проведены сравнения качества этих моделей при различных гиперпараметрах;\n",
    "- проведены расчеты при различных методах борьбы с дисбалансом классов;\n",
    "- Протестирована лучшая расчитанная нами модель и достигнуты заданные значения метрик качества."
   ]
  },
  {
   "cell_type": "markdown",
   "metadata": {},
   "source": [
    "<div class=\"alert alert-block alert-danger\">\n",
    "<b>❌ Замечание:</b>\n",
    "\n",
    "К выводу стоит добавить краткий обзор выполненной работы.\n",
    "</div>"
   ]
  },
  {
   "cell_type": "markdown",
   "metadata": {},
   "source": [
    "<div class=\"alert alert-block alert-info\">\n",
    "<b>Комментарий студента:\n",
    "</div>\n",
    "\n",
    "<div class=\"alert alert-block alert-info\">\n",
    "<b>Изменения: Были внесены следующие изменения: вывод дополнен кратким обзором выполненной работы\n",
    "</div>"
   ]
  },
  {
   "cell_type": "markdown",
   "metadata": {},
   "source": [
    "<div class=\"alert alert-block alert-success\">\n",
    "<b>V2 ✔️ Успешно исправлено</b>\n",
    "</div>"
   ]
  },
  {
   "cell_type": "markdown",
   "metadata": {},
   "source": [
    "# <font color='orange'>Общее впечатление</font>\n",
    "* Этот проект выполнен очень хорошо\n",
    "* Видно, что приложено много усилий\n",
    "* Молодец, что структурируешь ноутбук, приятно проверять такие работы\n",
    "* У тебя чистый и лаконичный код\n",
    "* Мне было интересно читать твои промежуточные выводы\n",
    "* Твой уровень подачи материала находится на высоком уровне\n",
    "* Исправь, пожалуйста, мои замечания. Затем отправляй на повторную проверку\n",
    "* Жду новую версию проекта 👋"
   ]
  },
  {
   "cell_type": "markdown",
   "metadata": {},
   "source": [
    "# <font color='orange'>2. Общее впечатление</font>\n",
    "* Спасибо за быстрое внесение правок\n",
    "* Теперь проект выглядит лучше )\n",
    "* Критических замечаний нет\n",
    "* Молодец, отличная работа!\n",
    "* Надеюсь, ревью было полезным\n",
    "* Удачи в дальнейшем обучении 👋"
   ]
  },
  {
   "cell_type": "markdown",
   "metadata": {},
   "source": [
    "# <font color='orange'>Рекомендации 🔥</font>\n",
    "* Анализ данных на python и pandas https://www.youtube.com/watch?v=dd3RcafdOQk&t=82s\n",
    "* Курс \"Введение в машинное обучение\" https://stepik.org/course/4852\n",
    "* Разумные способы кодирования категориальных данных для машинного обучения https://machinelearningmastery.ru/smarter-ways-to-encode-categorical-data-for-machine-learning-part-1-of-3-6dca2f71b159/\n",
    "* Статья про \"непонятную\" метрику ROC-AUC https://dyakonov.org/2017/07/28/auc-roc-площадь-под-кривой-ошибок/\n",
    "* Хочешь подтянуть математику для DS?) https://academy.stepik.org/math-for-data-science\n",
    "* Результаты обучения моделей можно визуализировать 😎 https://www.datatechnotes.com/2019/08/elasticnet-regression-example-in-python.html\n",
    "* В нашем деле нужно быть всегда в курсе всех новинок, новостей и тд, вот тут публикуют новости в области DS: https://www.infoq.com/data-analysis/news/\n",
    "* Всем аналитикам данных рекомендую книгу Даниела Канемана \"Думай медленно, решай быстро\""
   ]
  }
 ],
 "metadata": {
  "ExecuteTimeLog": [
   {
    "duration": 1018,
    "start_time": "2022-09-12T15:39:58.766Z"
   },
   {
    "duration": 1446,
    "start_time": "2022-09-12T15:40:05.005Z"
   },
   {
    "duration": 32,
    "start_time": "2022-09-12T15:40:23.674Z"
   },
   {
    "duration": 66,
    "start_time": "2022-09-12T15:42:49.522Z"
   },
   {
    "duration": 287,
    "start_time": "2022-09-12T15:43:04.526Z"
   },
   {
    "duration": 78,
    "start_time": "2022-09-12T15:47:19.834Z"
   },
   {
    "duration": 25,
    "start_time": "2022-09-12T15:47:23.595Z"
   },
   {
    "duration": 11,
    "start_time": "2022-09-12T15:47:33.926Z"
   },
   {
    "duration": 12,
    "start_time": "2022-09-12T15:47:59.124Z"
   },
   {
    "duration": 45,
    "start_time": "2022-09-12T15:49:03.548Z"
   },
   {
    "duration": 47,
    "start_time": "2022-09-12T15:49:14.031Z"
   },
   {
    "duration": 47,
    "start_time": "2022-09-12T15:49:49.594Z"
   },
   {
    "duration": 51,
    "start_time": "2022-09-12T15:49:59.181Z"
   },
   {
    "duration": 46,
    "start_time": "2022-09-12T15:50:08.934Z"
   },
   {
    "duration": 52,
    "start_time": "2022-09-12T15:50:43.872Z"
   },
   {
    "duration": 52,
    "start_time": "2022-09-12T15:50:48.967Z"
   },
   {
    "duration": 53,
    "start_time": "2022-09-12T15:50:58.683Z"
   },
   {
    "duration": 53,
    "start_time": "2022-09-12T15:51:07.565Z"
   },
   {
    "duration": 50,
    "start_time": "2022-09-12T15:51:13.499Z"
   },
   {
    "duration": 62,
    "start_time": "2022-09-12T15:52:02.427Z"
   },
   {
    "duration": 18,
    "start_time": "2022-09-12T15:52:41.147Z"
   },
   {
    "duration": 8,
    "start_time": "2022-09-12T15:52:49.479Z"
   },
   {
    "duration": 6,
    "start_time": "2022-09-12T15:53:05.528Z"
   },
   {
    "duration": 66,
    "start_time": "2022-09-12T15:53:46.344Z"
   },
   {
    "duration": 7,
    "start_time": "2022-09-12T15:55:18.142Z"
   },
   {
    "duration": 9,
    "start_time": "2022-09-12T15:56:04.174Z"
   },
   {
    "duration": 8,
    "start_time": "2022-09-12T15:56:09.428Z"
   },
   {
    "duration": 11,
    "start_time": "2022-09-12T15:56:27.911Z"
   },
   {
    "duration": 35,
    "start_time": "2022-09-12T15:56:43.544Z"
   },
   {
    "duration": 9,
    "start_time": "2022-09-12T15:56:48.717Z"
   },
   {
    "duration": 55,
    "start_time": "2022-09-12T15:57:37.406Z"
   },
   {
    "duration": 25,
    "start_time": "2022-09-12T15:57:53.704Z"
   },
   {
    "duration": 26,
    "start_time": "2022-09-12T15:59:01.481Z"
   },
   {
    "duration": 16,
    "start_time": "2022-09-12T15:59:10.199Z"
   },
   {
    "duration": 20,
    "start_time": "2022-09-12T15:59:13.078Z"
   },
   {
    "duration": 1357,
    "start_time": "2022-09-12T18:05:14.210Z"
   },
   {
    "duration": 119,
    "start_time": "2022-09-12T18:05:17.014Z"
   },
   {
    "duration": 151,
    "start_time": "2022-09-12T18:06:05.984Z"
   },
   {
    "duration": 67,
    "start_time": "2022-09-12T18:06:16.294Z"
   },
   {
    "duration": 62,
    "start_time": "2022-09-12T18:07:31.832Z"
   },
   {
    "duration": 61,
    "start_time": "2022-09-12T18:08:04.171Z"
   },
   {
    "duration": 6,
    "start_time": "2022-09-12T18:08:41.606Z"
   },
   {
    "duration": 6,
    "start_time": "2022-09-12T18:08:52.767Z"
   },
   {
    "duration": 6,
    "start_time": "2022-09-12T18:08:57.590Z"
   },
   {
    "duration": 70,
    "start_time": "2022-09-12T18:09:36.832Z"
   },
   {
    "duration": 8,
    "start_time": "2022-09-12T18:15:08.035Z"
   },
   {
    "duration": 18,
    "start_time": "2022-09-12T18:15:30.646Z"
   },
   {
    "duration": 20,
    "start_time": "2022-09-12T18:18:41.827Z"
   },
   {
    "duration": 18,
    "start_time": "2022-09-12T18:24:16.623Z"
   },
   {
    "duration": 64,
    "start_time": "2022-09-12T18:24:25.903Z"
   },
   {
    "duration": 17,
    "start_time": "2022-09-12T18:24:30.396Z"
   },
   {
    "duration": 9,
    "start_time": "2022-09-12T18:26:01.186Z"
   },
   {
    "duration": 7,
    "start_time": "2022-09-12T18:28:40.645Z"
   },
   {
    "duration": 6,
    "start_time": "2022-09-12T18:32:38.757Z"
   },
   {
    "duration": 7,
    "start_time": "2022-09-12T18:32:51.191Z"
   },
   {
    "duration": 5,
    "start_time": "2022-09-12T18:33:14.518Z"
   },
   {
    "duration": 6,
    "start_time": "2022-09-12T18:33:29.221Z"
   },
   {
    "duration": 11,
    "start_time": "2022-09-12T18:33:45.848Z"
   },
   {
    "duration": 9,
    "start_time": "2022-09-12T18:33:50.997Z"
   },
   {
    "duration": 14,
    "start_time": "2022-09-12T18:34:30.112Z"
   },
   {
    "duration": 14,
    "start_time": "2022-09-12T18:34:47.060Z"
   },
   {
    "duration": 9,
    "start_time": "2022-09-12T18:35:06.496Z"
   },
   {
    "duration": 9,
    "start_time": "2022-09-12T18:35:24.164Z"
   },
   {
    "duration": 9,
    "start_time": "2022-09-12T18:38:34.542Z"
   },
   {
    "duration": 79,
    "start_time": "2022-09-12T18:41:37.201Z"
   },
   {
    "duration": 71,
    "start_time": "2022-09-12T18:42:13.070Z"
   },
   {
    "duration": 17,
    "start_time": "2022-09-12T18:44:01.735Z"
   },
   {
    "duration": 3,
    "start_time": "2022-09-12T18:57:39.005Z"
   },
   {
    "duration": 22,
    "start_time": "2022-09-12T18:59:09.536Z"
   },
   {
    "duration": 41,
    "start_time": "2022-09-12T19:00:07.504Z"
   },
   {
    "duration": 41,
    "start_time": "2022-09-12T19:00:23.738Z"
   },
   {
    "duration": 22,
    "start_time": "2022-09-12T19:01:25.931Z"
   },
   {
    "duration": 13,
    "start_time": "2022-09-12T19:01:50.598Z"
   },
   {
    "duration": 11,
    "start_time": "2022-09-12T19:03:47.480Z"
   },
   {
    "duration": 12,
    "start_time": "2022-09-12T19:20:36.131Z"
   },
   {
    "duration": 391,
    "start_time": "2022-09-12T19:21:00.629Z"
   },
   {
    "duration": 14,
    "start_time": "2022-09-12T19:22:01.080Z"
   },
   {
    "duration": 411,
    "start_time": "2022-09-12T19:22:07.967Z"
   },
   {
    "duration": 4219,
    "start_time": "2022-09-12T19:22:20.906Z"
   },
   {
    "duration": 402,
    "start_time": "2022-09-12T19:22:37.916Z"
   },
   {
    "duration": 358,
    "start_time": "2022-09-12T19:22:53.402Z"
   },
   {
    "duration": 372,
    "start_time": "2022-09-12T19:24:50.951Z"
   },
   {
    "duration": 15,
    "start_time": "2022-09-12T19:25:04.041Z"
   },
   {
    "duration": 2,
    "start_time": "2022-09-12T19:26:12.958Z"
   },
   {
    "duration": 6,
    "start_time": "2022-09-12T19:26:22.329Z"
   },
   {
    "duration": 7,
    "start_time": "2022-09-12T19:27:00.620Z"
   },
   {
    "duration": 12,
    "start_time": "2022-09-12T19:28:38.339Z"
   },
   {
    "duration": 373,
    "start_time": "2022-09-12T19:28:46.317Z"
   },
   {
    "duration": 410,
    "start_time": "2022-09-12T19:29:58.933Z"
   },
   {
    "duration": 405,
    "start_time": "2022-09-12T19:30:06.828Z"
   },
   {
    "duration": 395,
    "start_time": "2022-09-12T19:30:18.464Z"
   },
   {
    "duration": 358,
    "start_time": "2022-09-12T19:30:26.228Z"
   },
   {
    "duration": 362,
    "start_time": "2022-09-12T19:30:37.148Z"
   },
   {
    "duration": 393,
    "start_time": "2022-09-12T19:30:40.504Z"
   },
   {
    "duration": 376,
    "start_time": "2022-09-12T19:30:53.104Z"
   },
   {
    "duration": 396,
    "start_time": "2022-09-12T19:31:12.959Z"
   },
   {
    "duration": 408,
    "start_time": "2022-09-12T19:31:41.564Z"
   },
   {
    "duration": 13,
    "start_time": "2022-09-12T19:32:28.347Z"
   },
   {
    "duration": 19,
    "start_time": "2022-09-12T19:34:17.359Z"
   },
   {
    "duration": 5,
    "start_time": "2022-09-12T19:35:00.668Z"
   },
   {
    "duration": 6,
    "start_time": "2022-09-12T19:35:09.466Z"
   },
   {
    "duration": 25,
    "start_time": "2022-09-12T19:35:51.712Z"
   },
   {
    "duration": 7,
    "start_time": "2022-09-12T19:35:58.826Z"
   },
   {
    "duration": 1037,
    "start_time": "2022-09-13T08:50:53.799Z"
   },
   {
    "duration": 181,
    "start_time": "2022-09-13T08:50:54.838Z"
   },
   {
    "duration": 18,
    "start_time": "2022-09-13T08:50:55.021Z"
   },
   {
    "duration": 53,
    "start_time": "2022-09-13T08:50:55.041Z"
   },
   {
    "duration": 2,
    "start_time": "2022-09-13T09:29:03.886Z"
   },
   {
    "duration": 109,
    "start_time": "2022-09-13T09:39:37.516Z"
   },
   {
    "duration": 10,
    "start_time": "2022-09-13T09:40:05.664Z"
   },
   {
    "duration": 12493,
    "start_time": "2022-09-13T09:50:24.800Z"
   },
   {
    "duration": 8,
    "start_time": "2022-09-13T09:53:04.765Z"
   },
   {
    "duration": 12411,
    "start_time": "2022-09-13T09:53:39.451Z"
   },
   {
    "duration": 9,
    "start_time": "2022-09-13T09:54:00.126Z"
   },
   {
    "duration": 812,
    "start_time": "2022-09-13T09:55:26.275Z"
   },
   {
    "duration": 24426,
    "start_time": "2022-09-13T09:59:31.450Z"
   },
   {
    "duration": 24428,
    "start_time": "2022-09-13T10:04:38.165Z"
   },
   {
    "duration": 2063,
    "start_time": "2022-09-13T10:05:23.422Z"
   },
   {
    "duration": 4829,
    "start_time": "2022-09-13T10:05:55.697Z"
   },
   {
    "duration": 9061,
    "start_time": "2022-09-13T10:06:04.728Z"
   },
   {
    "duration": 147,
    "start_time": "2022-09-13T10:16:06.989Z"
   },
   {
    "duration": 110629,
    "start_time": "2022-09-13T10:16:21.476Z"
   },
   {
    "duration": 84,
    "start_time": "2022-09-13T10:23:30.256Z"
   },
   {
    "duration": 11,
    "start_time": "2022-09-13T10:23:46.149Z"
   },
   {
    "duration": 29,
    "start_time": "2022-09-13T10:24:22.861Z"
   },
   {
    "duration": 10,
    "start_time": "2022-09-13T10:24:33.653Z"
   },
   {
    "duration": 13,
    "start_time": "2022-09-13T10:24:37.076Z"
   },
   {
    "duration": 23,
    "start_time": "2022-09-13T10:24:43.187Z"
   },
   {
    "duration": 11,
    "start_time": "2022-09-13T10:24:45.553Z"
   },
   {
    "duration": 38,
    "start_time": "2022-09-13T10:24:56.923Z"
   },
   {
    "duration": 27,
    "start_time": "2022-09-13T10:25:28.133Z"
   },
   {
    "duration": 12,
    "start_time": "2022-09-13T10:25:30.911Z"
   },
   {
    "duration": 20,
    "start_time": "2022-09-13T10:25:39.586Z"
   },
   {
    "duration": 11,
    "start_time": "2022-09-13T10:25:43.093Z"
   },
   {
    "duration": 70,
    "start_time": "2022-09-13T10:25:49.488Z"
   },
   {
    "duration": 20,
    "start_time": "2022-09-13T10:26:03.524Z"
   },
   {
    "duration": 10,
    "start_time": "2022-09-13T10:26:06.954Z"
   },
   {
    "duration": 25,
    "start_time": "2022-09-13T10:26:10.495Z"
   },
   {
    "duration": 8,
    "start_time": "2022-09-13T10:26:24.933Z"
   },
   {
    "duration": 10,
    "start_time": "2022-09-13T10:26:38.588Z"
   },
   {
    "duration": 163,
    "start_time": "2022-09-13T10:26:49.286Z"
   },
   {
    "duration": 9,
    "start_time": "2022-09-13T10:27:28.400Z"
   },
   {
    "duration": 5,
    "start_time": "2022-09-13T10:27:42.308Z"
   },
   {
    "duration": 74,
    "start_time": "2022-09-13T10:28:47.506Z"
   },
   {
    "duration": 22,
    "start_time": "2022-09-13T10:28:53.526Z"
   },
   {
    "duration": 14,
    "start_time": "2022-09-13T10:28:57.523Z"
   },
   {
    "duration": 25,
    "start_time": "2022-09-13T10:29:00.795Z"
   },
   {
    "duration": 7,
    "start_time": "2022-09-13T10:29:06.523Z"
   },
   {
    "duration": 1105,
    "start_time": "2022-09-14T07:45:53.506Z"
   },
   {
    "duration": 122,
    "start_time": "2022-09-14T07:45:56.484Z"
   },
   {
    "duration": 6,
    "start_time": "2022-09-14T07:46:59.756Z"
   },
   {
    "duration": 7,
    "start_time": "2022-09-14T07:47:13.562Z"
   },
   {
    "duration": 7,
    "start_time": "2022-09-14T07:48:08.970Z"
   },
   {
    "duration": 9,
    "start_time": "2022-09-14T07:48:55.159Z"
   },
   {
    "duration": 10,
    "start_time": "2022-09-14T07:49:12.131Z"
   },
   {
    "duration": 120,
    "start_time": "2022-09-14T07:49:34.019Z"
   },
   {
    "duration": 13,
    "start_time": "2022-09-14T07:49:47.060Z"
   },
   {
    "duration": 10,
    "start_time": "2022-09-14T07:49:59.284Z"
   },
   {
    "duration": 12,
    "start_time": "2022-09-14T07:50:10.836Z"
   },
   {
    "duration": 10,
    "start_time": "2022-09-14T07:52:34.475Z"
   },
   {
    "duration": 21,
    "start_time": "2022-09-14T07:52:56.647Z"
   },
   {
    "duration": 11,
    "start_time": "2022-09-14T07:53:13.120Z"
   },
   {
    "duration": 7,
    "start_time": "2022-09-14T07:53:41.758Z"
   },
   {
    "duration": 11,
    "start_time": "2022-09-14T07:53:46.571Z"
   },
   {
    "duration": 93,
    "start_time": "2022-09-14T07:53:52.559Z"
   },
   {
    "duration": 32,
    "start_time": "2022-09-14T07:54:15.575Z"
   },
   {
    "duration": 11,
    "start_time": "2022-09-14T07:54:38.243Z"
   },
   {
    "duration": 55,
    "start_time": "2022-09-14T07:54:47.090Z"
   },
   {
    "duration": 10,
    "start_time": "2022-09-14T07:55:25.951Z"
   },
   {
    "duration": 5,
    "start_time": "2022-09-14T07:55:59.324Z"
   },
   {
    "duration": 5,
    "start_time": "2022-09-14T07:56:15.552Z"
   },
   {
    "duration": 5,
    "start_time": "2022-09-14T07:57:59.757Z"
   },
   {
    "duration": 6,
    "start_time": "2022-09-14T07:58:15.283Z"
   },
   {
    "duration": 9,
    "start_time": "2022-09-14T07:58:34.304Z"
   },
   {
    "duration": 7,
    "start_time": "2022-09-14T07:58:55.650Z"
   },
   {
    "duration": 6,
    "start_time": "2022-09-14T07:58:58.955Z"
   },
   {
    "duration": 6,
    "start_time": "2022-09-14T07:59:02.860Z"
   },
   {
    "duration": 73,
    "start_time": "2022-09-14T07:59:20.073Z"
   },
   {
    "duration": 7,
    "start_time": "2022-09-14T07:59:28.304Z"
   },
   {
    "duration": 19,
    "start_time": "2022-09-14T07:59:37.520Z"
   },
   {
    "duration": 6,
    "start_time": "2022-09-14T07:59:43.245Z"
   },
   {
    "duration": 9,
    "start_time": "2022-09-14T08:00:18.298Z"
   },
   {
    "duration": 9,
    "start_time": "2022-09-14T08:00:28.299Z"
   },
   {
    "duration": 7,
    "start_time": "2022-09-14T08:00:54.498Z"
   },
   {
    "duration": 7,
    "start_time": "2022-09-14T08:01:02.054Z"
   },
   {
    "duration": 6,
    "start_time": "2022-09-14T08:01:16.993Z"
   },
   {
    "duration": 24,
    "start_time": "2022-09-14T08:07:08.294Z"
   },
   {
    "duration": 9,
    "start_time": "2022-09-14T08:07:15.148Z"
   },
   {
    "duration": 6,
    "start_time": "2022-09-14T08:07:26.169Z"
   },
   {
    "duration": 179,
    "start_time": "2022-09-14T08:08:13.047Z"
   },
   {
    "duration": 17,
    "start_time": "2022-09-14T08:08:19.052Z"
   },
   {
    "duration": 26,
    "start_time": "2022-09-14T08:08:38.673Z"
   },
   {
    "duration": 2191,
    "start_time": "2022-09-14T08:09:43.203Z"
   },
   {
    "duration": 1764,
    "start_time": "2022-09-14T08:10:05.799Z"
   },
   {
    "duration": 5,
    "start_time": "2022-09-14T08:10:18.490Z"
   },
   {
    "duration": 2077,
    "start_time": "2022-09-14T08:10:26.930Z"
   },
   {
    "duration": 16,
    "start_time": "2022-09-14T08:10:40.723Z"
   },
   {
    "duration": 73,
    "start_time": "2022-09-14T08:11:15.609Z"
   },
   {
    "duration": 27,
    "start_time": "2022-09-14T08:11:42.892Z"
   },
   {
    "duration": 22,
    "start_time": "2022-09-14T08:12:02.636Z"
   },
   {
    "duration": 7,
    "start_time": "2022-09-14T08:12:05.604Z"
   },
   {
    "duration": 16,
    "start_time": "2022-09-14T08:12:10.366Z"
   },
   {
    "duration": 10,
    "start_time": "2022-09-14T08:12:23.651Z"
   },
   {
    "duration": 17,
    "start_time": "2022-09-14T08:12:32.138Z"
   },
   {
    "duration": 78,
    "start_time": "2022-09-14T08:13:37.835Z"
   },
   {
    "duration": 21,
    "start_time": "2022-09-14T08:13:42.444Z"
   },
   {
    "duration": 9,
    "start_time": "2022-09-14T08:13:51.347Z"
   },
   {
    "duration": 6,
    "start_time": "2022-09-14T08:14:09.870Z"
   },
   {
    "duration": 9,
    "start_time": "2022-09-14T08:14:22.187Z"
   },
   {
    "duration": 98,
    "start_time": "2022-09-14T08:14:27.482Z"
   },
   {
    "duration": 24,
    "start_time": "2022-09-14T08:14:45.841Z"
   },
   {
    "duration": 7,
    "start_time": "2022-09-14T08:14:50.726Z"
   },
   {
    "duration": 70,
    "start_time": "2022-09-14T08:15:00.911Z"
   },
   {
    "duration": 20,
    "start_time": "2022-09-14T08:15:08.727Z"
   },
   {
    "duration": 23,
    "start_time": "2022-09-14T08:15:18.422Z"
   },
   {
    "duration": 9,
    "start_time": "2022-09-14T08:15:23.557Z"
   },
   {
    "duration": 5,
    "start_time": "2022-09-14T08:15:33.411Z"
   },
   {
    "duration": 10,
    "start_time": "2022-09-14T08:15:36.947Z"
   },
   {
    "duration": 28634,
    "start_time": "2022-09-14T08:15:43.328Z"
   },
   {
    "duration": 2117,
    "start_time": "2022-09-14T08:18:16.158Z"
   },
   {
    "duration": 129990,
    "start_time": "2022-09-14T08:18:35.800Z"
   },
   {
    "duration": 5,
    "start_time": "2022-09-14T08:25:24.336Z"
   },
   {
    "duration": 5,
    "start_time": "2022-09-14T08:25:41.562Z"
   },
   {
    "duration": 3,
    "start_time": "2022-09-14T08:28:48.036Z"
   },
   {
    "duration": 2163,
    "start_time": "2022-09-14T08:29:00.639Z"
   },
   {
    "duration": 2139,
    "start_time": "2022-09-14T08:30:39.699Z"
   },
   {
    "duration": 2128,
    "start_time": "2022-09-14T08:31:04.651Z"
   },
   {
    "duration": 2100,
    "start_time": "2022-09-14T08:32:58.100Z"
   },
   {
    "duration": 5,
    "start_time": "2022-09-14T08:33:18.888Z"
   },
   {
    "duration": 1157,
    "start_time": "2022-09-14T12:34:49.811Z"
   },
   {
    "duration": 203,
    "start_time": "2022-09-14T12:34:54.123Z"
   },
   {
    "duration": 23,
    "start_time": "2022-09-14T12:34:58.004Z"
   },
   {
    "duration": 25,
    "start_time": "2022-09-14T12:35:01.111Z"
   },
   {
    "duration": 13,
    "start_time": "2022-09-14T12:35:16.162Z"
   },
   {
    "duration": 98,
    "start_time": "2022-09-14T12:39:15.387Z"
   },
   {
    "duration": 13,
    "start_time": "2022-09-14T12:39:35.136Z"
   },
   {
    "duration": 24009,
    "start_time": "2022-09-14T12:39:43.485Z"
   },
   {
    "duration": 1836,
    "start_time": "2022-09-14T12:40:30.758Z"
   },
   {
    "duration": 11,
    "start_time": "2022-09-14T12:44:00.841Z"
   },
   {
    "duration": 14,
    "start_time": "2022-09-14T12:44:11.750Z"
   },
   {
    "duration": 2,
    "start_time": "2022-09-14T12:50:34.641Z"
   },
   {
    "duration": 12593,
    "start_time": "2022-09-14T12:51:18.921Z"
   },
   {
    "duration": 1151,
    "start_time": "2022-09-14T12:52:07.374Z"
   },
   {
    "duration": 12249,
    "start_time": "2022-09-14T12:54:58.555Z"
   },
   {
    "duration": 201,
    "start_time": "2022-09-14T12:57:54.340Z"
   },
   {
    "duration": 5980,
    "start_time": "2022-09-14T12:58:10.975Z"
   },
   {
    "duration": 2384,
    "start_time": "2022-09-14T13:09:53.723Z"
   },
   {
    "duration": 30353,
    "start_time": "2022-09-14T13:10:45.243Z"
   },
   {
    "duration": 578,
    "start_time": "2022-09-14T13:13:35.571Z"
   },
   {
    "duration": 538,
    "start_time": "2022-09-14T13:13:51.814Z"
   },
   {
    "duration": 3,
    "start_time": "2022-09-14T13:22:05.188Z"
   },
   {
    "duration": 408,
    "start_time": "2022-09-14T13:22:52.117Z"
   },
   {
    "duration": 450,
    "start_time": "2022-09-14T13:23:09.172Z"
   },
   {
    "duration": 3,
    "start_time": "2022-09-14T13:30:25.036Z"
   },
   {
    "duration": 16,
    "start_time": "2022-09-14T13:31:16.823Z"
   },
   {
    "duration": 14,
    "start_time": "2022-09-14T13:31:49.014Z"
   },
   {
    "duration": 9,
    "start_time": "2022-09-14T13:32:19.888Z"
   },
   {
    "duration": 11,
    "start_time": "2022-09-14T13:33:17.582Z"
   },
   {
    "duration": 17480,
    "start_time": "2022-09-14T13:34:14.904Z"
   },
   {
    "duration": 7,
    "start_time": "2022-09-14T13:35:42.490Z"
   },
   {
    "duration": 4,
    "start_time": "2022-09-14T13:37:51.184Z"
   },
   {
    "duration": 9,
    "start_time": "2022-09-14T13:42:35.783Z"
   },
   {
    "duration": 17366,
    "start_time": "2022-09-14T13:43:55.874Z"
   },
   {
    "duration": 9,
    "start_time": "2022-09-14T13:44:25.907Z"
   },
   {
    "duration": 83,
    "start_time": "2022-09-14T13:47:13.637Z"
   },
   {
    "duration": 1690,
    "start_time": "2022-09-14T13:47:23.616Z"
   },
   {
    "duration": 1692,
    "start_time": "2022-09-14T13:47:35.712Z"
   },
   {
    "duration": 1648,
    "start_time": "2022-09-14T13:48:34.538Z"
   },
   {
    "duration": 1603,
    "start_time": "2022-09-14T13:49:02.178Z"
   },
   {
    "duration": 99,
    "start_time": "2022-09-14T13:49:54.292Z"
   },
   {
    "duration": 8,
    "start_time": "2022-09-14T13:50:21.413Z"
   },
   {
    "duration": 4,
    "start_time": "2022-09-14T13:51:15.807Z"
   },
   {
    "duration": 601,
    "start_time": "2022-09-14T13:52:03.586Z"
   },
   {
    "duration": 677,
    "start_time": "2022-09-14T13:52:12.669Z"
   },
   {
    "duration": 2,
    "start_time": "2022-09-14T14:44:30.188Z"
   },
   {
    "duration": 68,
    "start_time": "2022-09-14T14:44:32.563Z"
   },
   {
    "duration": 20,
    "start_time": "2022-09-14T14:44:37.042Z"
   },
   {
    "duration": 27,
    "start_time": "2022-09-14T14:44:40.032Z"
   },
   {
    "duration": 11,
    "start_time": "2022-09-14T14:45:04.444Z"
   },
   {
    "duration": 1613,
    "start_time": "2022-09-14T14:45:43.524Z"
   },
   {
    "duration": 94,
    "start_time": "2022-09-14T14:53:56.091Z"
   },
   {
    "duration": 16,
    "start_time": "2022-09-14T14:54:07.426Z"
   },
   {
    "duration": 1583,
    "start_time": "2022-09-14T14:55:06.249Z"
   },
   {
    "duration": 4,
    "start_time": "2022-09-14T16:01:15.264Z"
   },
   {
    "duration": 391,
    "start_time": "2022-09-14T16:02:07.426Z"
   },
   {
    "duration": 74,
    "start_time": "2022-09-14T16:02:42.216Z"
   },
   {
    "duration": 20,
    "start_time": "2022-09-14T16:02:48.822Z"
   },
   {
    "duration": 24,
    "start_time": "2022-09-14T16:02:51.478Z"
   },
   {
    "duration": 14,
    "start_time": "2022-09-14T16:03:10.343Z"
   },
   {
    "duration": 1110,
    "start_time": "2022-09-14T16:04:19.390Z"
   },
   {
    "duration": 1226,
    "start_time": "2022-09-14T16:05:44.220Z"
   },
   {
    "duration": 7915,
    "start_time": "2022-09-14T16:07:36.911Z"
   },
   {
    "duration": 12667,
    "start_time": "2022-09-14T16:08:22.760Z"
   },
   {
    "duration": 4,
    "start_time": "2022-09-14T16:11:26.686Z"
   },
   {
    "duration": 13550,
    "start_time": "2022-09-14T16:16:38.634Z"
   },
   {
    "duration": 14260,
    "start_time": "2022-09-14T16:17:04.295Z"
   },
   {
    "duration": 1520,
    "start_time": "2022-09-14T18:22:57.916Z"
   },
   {
    "duration": 425,
    "start_time": "2022-09-14T18:23:00.166Z"
   },
   {
    "duration": 2263,
    "start_time": "2022-09-15T07:53:23.173Z"
   },
   {
    "duration": 5,
    "start_time": "2022-09-15T07:53:36.214Z"
   },
   {
    "duration": 144,
    "start_time": "2022-09-15T07:53:40.266Z"
   },
   {
    "duration": 3,
    "start_time": "2022-09-15T07:57:20.298Z"
   },
   {
    "duration": 82,
    "start_time": "2022-09-15T07:58:12.598Z"
   },
   {
    "duration": 3,
    "start_time": "2022-09-15T07:58:58.348Z"
   },
   {
    "duration": 27,
    "start_time": "2022-09-15T08:06:03.316Z"
   },
   {
    "duration": 37,
    "start_time": "2022-09-15T08:06:05.832Z"
   },
   {
    "duration": 15,
    "start_time": "2022-09-15T08:06:12.904Z"
   },
   {
    "duration": 33874,
    "start_time": "2022-09-15T08:06:34.503Z"
   },
   {
    "duration": 6893,
    "start_time": "2022-09-15T08:07:19.020Z"
   },
   {
    "duration": 6453,
    "start_time": "2022-09-15T08:09:32.840Z"
   },
   {
    "duration": 6451,
    "start_time": "2022-09-15T08:09:47.116Z"
   },
   {
    "duration": 20,
    "start_time": "2022-09-15T08:17:12.103Z"
   },
   {
    "duration": 117,
    "start_time": "2022-09-15T08:20:20.190Z"
   },
   {
    "duration": 4282,
    "start_time": "2022-09-15T08:23:28.378Z"
   },
   {
    "duration": 16,
    "start_time": "2022-09-15T08:25:29.289Z"
   },
   {
    "duration": 34,
    "start_time": "2022-09-15T08:27:08.651Z"
   },
   {
    "duration": 29,
    "start_time": "2022-09-15T08:27:32.326Z"
   },
   {
    "duration": 31,
    "start_time": "2022-09-15T08:28:26.506Z"
   },
   {
    "duration": 26,
    "start_time": "2022-09-15T08:30:27.357Z"
   },
   {
    "duration": 30,
    "start_time": "2022-09-15T08:30:34.695Z"
   },
   {
    "duration": 20,
    "start_time": "2022-09-15T08:30:53.020Z"
   },
   {
    "duration": 18,
    "start_time": "2022-09-15T08:31:06.150Z"
   },
   {
    "duration": 18,
    "start_time": "2022-09-15T08:31:15.470Z"
   },
   {
    "duration": 39,
    "start_time": "2022-09-15T08:31:34.250Z"
   },
   {
    "duration": 81,
    "start_time": "2022-09-15T08:31:49.176Z"
   },
   {
    "duration": 34,
    "start_time": "2022-09-15T08:31:53.959Z"
   },
   {
    "duration": 27,
    "start_time": "2022-09-15T08:31:57.011Z"
   },
   {
    "duration": 21,
    "start_time": "2022-09-15T08:32:10.289Z"
   },
   {
    "duration": 23,
    "start_time": "2022-09-15T08:32:26.371Z"
   },
   {
    "duration": 29,
    "start_time": "2022-09-15T08:32:30.457Z"
   },
   {
    "duration": 13,
    "start_time": "2022-09-15T08:35:36.501Z"
   },
   {
    "duration": 31,
    "start_time": "2022-09-15T08:36:56.915Z"
   },
   {
    "duration": 1508,
    "start_time": "2022-09-15T08:37:28.944Z"
   },
   {
    "duration": 5,
    "start_time": "2022-09-15T08:41:03.805Z"
   },
   {
    "duration": 15,
    "start_time": "2022-09-15T08:46:02.536Z"
   },
   {
    "duration": 6,
    "start_time": "2022-09-15T08:47:54.232Z"
   },
   {
    "duration": 34,
    "start_time": "2022-09-15T08:48:02.933Z"
   },
   {
    "duration": 19,
    "start_time": "2022-09-15T08:48:32.611Z"
   },
   {
    "duration": 13,
    "start_time": "2022-09-15T08:48:55.082Z"
   },
   {
    "duration": 13,
    "start_time": "2022-09-15T08:48:59.869Z"
   },
   {
    "duration": 26,
    "start_time": "2022-09-15T08:49:09.606Z"
   },
   {
    "duration": 23,
    "start_time": "2022-09-15T08:49:17.781Z"
   },
   {
    "duration": 23,
    "start_time": "2022-09-15T08:49:28.575Z"
   },
   {
    "duration": 29,
    "start_time": "2022-09-15T08:49:31.514Z"
   },
   {
    "duration": 22,
    "start_time": "2022-09-15T08:49:47.000Z"
   },
   {
    "duration": 38,
    "start_time": "2022-09-15T08:49:52.051Z"
   },
   {
    "duration": 14,
    "start_time": "2022-09-15T08:50:06.296Z"
   },
   {
    "duration": 18705,
    "start_time": "2022-09-15T08:50:34.452Z"
   },
   {
    "duration": 23018,
    "start_time": "2022-09-15T08:51:06.322Z"
   },
   {
    "duration": 17621,
    "start_time": "2022-09-15T08:52:48.497Z"
   },
   {
    "duration": 7278,
    "start_time": "2022-09-15T08:56:12.339Z"
   },
   {
    "duration": 465,
    "start_time": "2022-09-15T08:57:47.620Z"
   },
   {
    "duration": 1528,
    "start_time": "2022-09-15T12:10:16.495Z"
   },
   {
    "duration": 124,
    "start_time": "2022-09-15T12:10:19.002Z"
   },
   {
    "duration": 21,
    "start_time": "2022-09-15T12:10:24.791Z"
   },
   {
    "duration": 25,
    "start_time": "2022-09-15T12:10:28.251Z"
   },
   {
    "duration": 13,
    "start_time": "2022-09-15T12:10:31.035Z"
   },
   {
    "duration": 117,
    "start_time": "2022-09-15T12:10:34.090Z"
   },
   {
    "duration": 13,
    "start_time": "2022-09-15T12:13:22.005Z"
   },
   {
    "duration": 11,
    "start_time": "2022-09-15T12:13:24.757Z"
   },
   {
    "duration": 69,
    "start_time": "2022-09-15T12:13:28.081Z"
   },
   {
    "duration": 28,
    "start_time": "2022-09-15T12:13:39.694Z"
   },
   {
    "duration": 77,
    "start_time": "2022-09-15T12:14:35.863Z"
   },
   {
    "duration": 22,
    "start_time": "2022-09-15T12:14:40.326Z"
   },
   {
    "duration": 24,
    "start_time": "2022-09-15T12:14:42.908Z"
   },
   {
    "duration": 14,
    "start_time": "2022-09-15T12:14:47.467Z"
   },
   {
    "duration": 11,
    "start_time": "2022-09-15T12:14:50.165Z"
   },
   {
    "duration": 38,
    "start_time": "2022-09-15T12:14:52.825Z"
   },
   {
    "duration": 15179,
    "start_time": "2022-09-15T12:15:05.522Z"
   },
   {
    "duration": 6899,
    "start_time": "2022-09-15T12:15:49.695Z"
   },
   {
    "duration": 1443,
    "start_time": "2022-09-15T12:16:07.974Z"
   },
   {
    "duration": 710,
    "start_time": "2022-09-15T12:16:45.198Z"
   },
   {
    "duration": 5,
    "start_time": "2022-09-15T12:17:07.124Z"
   },
   {
    "duration": 12,
    "start_time": "2022-09-15T12:17:12.670Z"
   },
   {
    "duration": 18685,
    "start_time": "2022-09-15T12:17:17.502Z"
   },
   {
    "duration": 7215,
    "start_time": "2022-09-15T12:18:11.273Z"
   },
   {
    "duration": 9307,
    "start_time": "2022-09-15T12:18:33.122Z"
   },
   {
    "duration": 13685,
    "start_time": "2022-09-15T12:18:58.152Z"
   },
   {
    "duration": 6798,
    "start_time": "2022-09-15T12:19:26.080Z"
   },
   {
    "duration": 20368,
    "start_time": "2022-09-15T12:20:14.989Z"
   },
   {
    "duration": 27179,
    "start_time": "2022-09-15T12:21:05.294Z"
   },
   {
    "duration": 18204,
    "start_time": "2022-09-15T12:22:09.354Z"
   },
   {
    "duration": 6926,
    "start_time": "2022-09-15T12:22:46.031Z"
   },
   {
    "duration": 13323,
    "start_time": "2022-09-15T12:23:23.129Z"
   },
   {
    "duration": 6788,
    "start_time": "2022-09-15T12:23:50.915Z"
   },
   {
    "duration": 19010,
    "start_time": "2022-09-15T12:28:08.398Z"
   },
   {
    "duration": 10082,
    "start_time": "2022-09-15T12:28:58.465Z"
   },
   {
    "duration": 20674,
    "start_time": "2022-09-15T12:29:21.510Z"
   },
   {
    "duration": 9365,
    "start_time": "2022-09-15T12:29:54.658Z"
   },
   {
    "duration": 494,
    "start_time": "2022-09-15T12:32:08.257Z"
   },
   {
    "duration": 1340,
    "start_time": "2022-09-15T12:32:21.268Z"
   },
   {
    "duration": 15,
    "start_time": "2022-09-15T12:32:35.998Z"
   },
   {
    "duration": 14,
    "start_time": "2022-09-15T12:32:53.737Z"
   },
   {
    "duration": 1923,
    "start_time": "2022-09-15T12:33:01.174Z"
   },
   {
    "duration": 20743,
    "start_time": "2022-09-15T12:35:05.620Z"
   },
   {
    "duration": 57,
    "start_time": "2022-09-15T12:35:59.187Z"
   },
   {
    "duration": 9430,
    "start_time": "2022-09-15T12:36:07.989Z"
   },
   {
    "duration": 9,
    "start_time": "2022-09-15T12:38:43.535Z"
   },
   {
    "duration": 767,
    "start_time": "2022-09-15T12:38:50.250Z"
   },
   {
    "duration": 755,
    "start_time": "2022-09-15T12:39:19.659Z"
   },
   {
    "duration": 1327,
    "start_time": "2022-09-15T12:42:50.689Z"
   },
   {
    "duration": 1382,
    "start_time": "2022-09-15T12:47:17.201Z"
   },
   {
    "duration": 1359,
    "start_time": "2022-09-15T12:47:27.004Z"
   },
   {
    "duration": 1645,
    "start_time": "2022-09-17T07:54:58.823Z"
   },
   {
    "duration": 150,
    "start_time": "2022-09-17T07:55:01.518Z"
   },
   {
    "duration": 31,
    "start_time": "2022-09-17T07:55:08.975Z"
   },
   {
    "duration": 42,
    "start_time": "2022-09-17T07:55:13.149Z"
   },
   {
    "duration": 16,
    "start_time": "2022-09-17T07:55:19.458Z"
   },
   {
    "duration": 46,
    "start_time": "2022-09-17T07:55:37.523Z"
   },
   {
    "duration": 151,
    "start_time": "2022-09-17T07:55:52.972Z"
   },
   {
    "duration": 17,
    "start_time": "2022-09-17T07:56:08.716Z"
   },
   {
    "duration": 1584,
    "start_time": "2022-09-17T07:56:15.020Z"
   },
   {
    "duration": 1553,
    "start_time": "2022-09-17T07:58:50.811Z"
   },
   {
    "duration": 110,
    "start_time": "2022-09-17T08:03:18.775Z"
   },
   {
    "duration": 55,
    "start_time": "2022-09-17T08:17:22.571Z"
   },
   {
    "duration": 6,
    "start_time": "2022-09-17T08:19:44.002Z"
   },
   {
    "duration": 18,
    "start_time": "2022-09-17T08:20:00.749Z"
   },
   {
    "duration": 261,
    "start_time": "2022-09-17T08:29:59.801Z"
   }
  ],
  "kernelspec": {
   "display_name": "Python 3 (ipykernel)",
   "language": "python",
   "name": "python3"
  },
  "language_info": {
   "codemirror_mode": {
    "name": "ipython",
    "version": 3
   },
   "file_extension": ".py",
   "mimetype": "text/x-python",
   "name": "python",
   "nbconvert_exporter": "python",
   "pygments_lexer": "ipython3",
   "version": "3.9.5"
  },
  "toc": {
   "base_numbering": 1,
   "nav_menu": {},
   "number_sections": true,
   "sideBar": true,
   "skip_h1_title": true,
   "title_cell": "Содержание",
   "title_sidebar": "Contents",
   "toc_cell": true,
   "toc_position": {
    "height": "calc(100% - 180px)",
    "left": "10px",
    "top": "150px",
    "width": "165px"
   },
   "toc_section_display": true,
   "toc_window_display": true
  }
 },
 "nbformat": 4,
 "nbformat_minor": 2
}
