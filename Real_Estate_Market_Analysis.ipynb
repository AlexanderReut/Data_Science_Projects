{
 "cells": [
  {
   "cell_type": "markdown",
   "metadata": {},
   "source": [
    "# Исследование объявлений о продаже квартир\n",
    "\n",
    "В вашем распоряжении данные сервиса \"...Недвижимость\" — архив объявлений о продаже квартир в Санкт-Петербурге и соседних населённых пунктов за несколько лет. Нужно научиться определять рыночную стоимость объектов недвижимости. Ваша задача — установить параметры. Это позволит построить автоматизированную систему: она отследит аномалии и мошенническую деятельность. \n",
    "\n",
    "По каждой квартире на продажу доступны два вида данных. Первые вписаны пользователем, вторые — получены автоматически на основе картографических данных. Например, расстояние до центра, аэропорта, ближайшего парка и водоёма. "
   ]
  },
  {
   "cell_type": "markdown",
   "metadata": {},
   "source": [
    "### Содержание\n",
    "\n",
    "* [1. Изучим общую информацию](#chapter1)\n",
    "* [2. Предобработка данных](#chapter2)\n",
    "* [3. Исследовательский анализ данных](#chapter3)\n",
    "* [ Общий вывод](#chapter4)\n",
    "        "
   ]
  },
  {
   "cell_type": "markdown",
   "metadata": {},
   "source": [
    "### 1. Изучим общую информацию <a class=\"anchor\" id=\"chapter1\"></a>"
   ]
  },
  {
   "cell_type": "code",
   "execution_count": 105,
   "metadata": {},
   "outputs": [
    {
     "data": {
      "text/html": [
       "<div>\n",
       "<style scoped>\n",
       "    .dataframe tbody tr th:only-of-type {\n",
       "        vertical-align: middle;\n",
       "    }\n",
       "\n",
       "    .dataframe tbody tr th {\n",
       "        vertical-align: top;\n",
       "    }\n",
       "\n",
       "    .dataframe thead th {\n",
       "        text-align: right;\n",
       "    }\n",
       "</style>\n",
       "<table border=\"1\" class=\"dataframe\">\n",
       "  <thead>\n",
       "    <tr style=\"text-align: right;\">\n",
       "      <th></th>\n",
       "      <th>total_images</th>\n",
       "      <th>last_price</th>\n",
       "      <th>total_area</th>\n",
       "      <th>first_day_exposition</th>\n",
       "      <th>rooms</th>\n",
       "      <th>ceiling_height</th>\n",
       "      <th>floors_total</th>\n",
       "      <th>living_area</th>\n",
       "      <th>floor</th>\n",
       "      <th>is_apartment</th>\n",
       "      <th>...</th>\n",
       "      <th>kitchen_area</th>\n",
       "      <th>balcony</th>\n",
       "      <th>locality_name</th>\n",
       "      <th>airports_nearest</th>\n",
       "      <th>cityCenters_nearest</th>\n",
       "      <th>parks_around3000</th>\n",
       "      <th>parks_nearest</th>\n",
       "      <th>ponds_around3000</th>\n",
       "      <th>ponds_nearest</th>\n",
       "      <th>days_exposition</th>\n",
       "    </tr>\n",
       "  </thead>\n",
       "  <tbody>\n",
       "    <tr>\n",
       "      <th>0</th>\n",
       "      <td>20</td>\n",
       "      <td>13000000.0</td>\n",
       "      <td>108.0</td>\n",
       "      <td>2019-03-07T00:00:00</td>\n",
       "      <td>3</td>\n",
       "      <td>2.70</td>\n",
       "      <td>16.0</td>\n",
       "      <td>51.0</td>\n",
       "      <td>8</td>\n",
       "      <td>NaN</td>\n",
       "      <td>...</td>\n",
       "      <td>25.0</td>\n",
       "      <td>NaN</td>\n",
       "      <td>Санкт-Петербург</td>\n",
       "      <td>18863.0</td>\n",
       "      <td>16028.0</td>\n",
       "      <td>1.0</td>\n",
       "      <td>482.0</td>\n",
       "      <td>2.0</td>\n",
       "      <td>755.0</td>\n",
       "      <td>NaN</td>\n",
       "    </tr>\n",
       "    <tr>\n",
       "      <th>1</th>\n",
       "      <td>7</td>\n",
       "      <td>3350000.0</td>\n",
       "      <td>40.4</td>\n",
       "      <td>2018-12-04T00:00:00</td>\n",
       "      <td>1</td>\n",
       "      <td>NaN</td>\n",
       "      <td>11.0</td>\n",
       "      <td>18.6</td>\n",
       "      <td>1</td>\n",
       "      <td>NaN</td>\n",
       "      <td>...</td>\n",
       "      <td>11.0</td>\n",
       "      <td>2.0</td>\n",
       "      <td>посёлок Шушары</td>\n",
       "      <td>12817.0</td>\n",
       "      <td>18603.0</td>\n",
       "      <td>0.0</td>\n",
       "      <td>NaN</td>\n",
       "      <td>0.0</td>\n",
       "      <td>NaN</td>\n",
       "      <td>81.0</td>\n",
       "    </tr>\n",
       "    <tr>\n",
       "      <th>2</th>\n",
       "      <td>10</td>\n",
       "      <td>5196000.0</td>\n",
       "      <td>56.0</td>\n",
       "      <td>2015-08-20T00:00:00</td>\n",
       "      <td>2</td>\n",
       "      <td>NaN</td>\n",
       "      <td>5.0</td>\n",
       "      <td>34.3</td>\n",
       "      <td>4</td>\n",
       "      <td>NaN</td>\n",
       "      <td>...</td>\n",
       "      <td>8.3</td>\n",
       "      <td>0.0</td>\n",
       "      <td>Санкт-Петербург</td>\n",
       "      <td>21741.0</td>\n",
       "      <td>13933.0</td>\n",
       "      <td>1.0</td>\n",
       "      <td>90.0</td>\n",
       "      <td>2.0</td>\n",
       "      <td>574.0</td>\n",
       "      <td>558.0</td>\n",
       "    </tr>\n",
       "    <tr>\n",
       "      <th>3</th>\n",
       "      <td>0</td>\n",
       "      <td>64900000.0</td>\n",
       "      <td>159.0</td>\n",
       "      <td>2015-07-24T00:00:00</td>\n",
       "      <td>3</td>\n",
       "      <td>NaN</td>\n",
       "      <td>14.0</td>\n",
       "      <td>NaN</td>\n",
       "      <td>9</td>\n",
       "      <td>NaN</td>\n",
       "      <td>...</td>\n",
       "      <td>NaN</td>\n",
       "      <td>0.0</td>\n",
       "      <td>Санкт-Петербург</td>\n",
       "      <td>28098.0</td>\n",
       "      <td>6800.0</td>\n",
       "      <td>2.0</td>\n",
       "      <td>84.0</td>\n",
       "      <td>3.0</td>\n",
       "      <td>234.0</td>\n",
       "      <td>424.0</td>\n",
       "    </tr>\n",
       "    <tr>\n",
       "      <th>4</th>\n",
       "      <td>2</td>\n",
       "      <td>10000000.0</td>\n",
       "      <td>100.0</td>\n",
       "      <td>2018-06-19T00:00:00</td>\n",
       "      <td>2</td>\n",
       "      <td>3.03</td>\n",
       "      <td>14.0</td>\n",
       "      <td>32.0</td>\n",
       "      <td>13</td>\n",
       "      <td>NaN</td>\n",
       "      <td>...</td>\n",
       "      <td>41.0</td>\n",
       "      <td>NaN</td>\n",
       "      <td>Санкт-Петербург</td>\n",
       "      <td>31856.0</td>\n",
       "      <td>8098.0</td>\n",
       "      <td>2.0</td>\n",
       "      <td>112.0</td>\n",
       "      <td>1.0</td>\n",
       "      <td>48.0</td>\n",
       "      <td>121.0</td>\n",
       "    </tr>\n",
       "  </tbody>\n",
       "</table>\n",
       "<p>5 rows × 22 columns</p>\n",
       "</div>"
      ],
      "text/plain": [
       "   total_images  last_price  total_area first_day_exposition  rooms  \\\n",
       "0            20  13000000.0       108.0  2019-03-07T00:00:00      3   \n",
       "1             7   3350000.0        40.4  2018-12-04T00:00:00      1   \n",
       "2            10   5196000.0        56.0  2015-08-20T00:00:00      2   \n",
       "3             0  64900000.0       159.0  2015-07-24T00:00:00      3   \n",
       "4             2  10000000.0       100.0  2018-06-19T00:00:00      2   \n",
       "\n",
       "   ceiling_height  floors_total  living_area  floor is_apartment  ...  \\\n",
       "0            2.70          16.0         51.0      8          NaN  ...   \n",
       "1             NaN          11.0         18.6      1          NaN  ...   \n",
       "2             NaN           5.0         34.3      4          NaN  ...   \n",
       "3             NaN          14.0          NaN      9          NaN  ...   \n",
       "4            3.03          14.0         32.0     13          NaN  ...   \n",
       "\n",
       "   kitchen_area  balcony    locality_name  airports_nearest  \\\n",
       "0          25.0      NaN  Санкт-Петербург           18863.0   \n",
       "1          11.0      2.0   посёлок Шушары           12817.0   \n",
       "2           8.3      0.0  Санкт-Петербург           21741.0   \n",
       "3           NaN      0.0  Санкт-Петербург           28098.0   \n",
       "4          41.0      NaN  Санкт-Петербург           31856.0   \n",
       "\n",
       "  cityCenters_nearest  parks_around3000  parks_nearest  ponds_around3000  \\\n",
       "0             16028.0               1.0          482.0               2.0   \n",
       "1             18603.0               0.0            NaN               0.0   \n",
       "2             13933.0               1.0           90.0               2.0   \n",
       "3              6800.0               2.0           84.0               3.0   \n",
       "4              8098.0               2.0          112.0               1.0   \n",
       "\n",
       "   ponds_nearest  days_exposition  \n",
       "0          755.0              NaN  \n",
       "1            NaN             81.0  \n",
       "2          574.0            558.0  \n",
       "3          234.0            424.0  \n",
       "4           48.0            121.0  \n",
       "\n",
       "[5 rows x 22 columns]"
      ]
     },
     "metadata": {},
     "output_type": "display_data"
    },
    {
     "name": "stdout",
     "output_type": "stream",
     "text": [
      "<class 'pandas.core.frame.DataFrame'>\n",
      "RangeIndex: 23699 entries, 0 to 23698\n",
      "Data columns (total 22 columns):\n",
      " #   Column                Non-Null Count  Dtype  \n",
      "---  ------                --------------  -----  \n",
      " 0   total_images          23699 non-null  int64  \n",
      " 1   last_price            23699 non-null  float64\n",
      " 2   total_area            23699 non-null  float64\n",
      " 3   first_day_exposition  23699 non-null  object \n",
      " 4   rooms                 23699 non-null  int64  \n",
      " 5   ceiling_height        14504 non-null  float64\n",
      " 6   floors_total          23613 non-null  float64\n",
      " 7   living_area           21796 non-null  float64\n",
      " 8   floor                 23699 non-null  int64  \n",
      " 9   is_apartment          2775 non-null   object \n",
      " 10  studio                23699 non-null  bool   \n",
      " 11  open_plan             23699 non-null  bool   \n",
      " 12  kitchen_area          21421 non-null  float64\n",
      " 13  balcony               12180 non-null  float64\n",
      " 14  locality_name         23650 non-null  object \n",
      " 15  airports_nearest      18157 non-null  float64\n",
      " 16  cityCenters_nearest   18180 non-null  float64\n",
      " 17  parks_around3000      18181 non-null  float64\n",
      " 18  parks_nearest         8079 non-null   float64\n",
      " 19  ponds_around3000      18181 non-null  float64\n",
      " 20  ponds_nearest         9110 non-null   float64\n",
      " 21  days_exposition       20518 non-null  float64\n",
      "dtypes: bool(2), float64(14), int64(3), object(3)\n",
      "memory usage: 3.7+ MB\n"
     ]
    },
    {
     "data": {
      "text/plain": [
       "None"
      ]
     },
     "metadata": {},
     "output_type": "display_data"
    },
    {
     "data": {
      "text/plain": [
       "array([[<AxesSubplot:title={'center':'total_images'}>,\n",
       "        <AxesSubplot:title={'center':'last_price'}>,\n",
       "        <AxesSubplot:title={'center':'total_area'}>,\n",
       "        <AxesSubplot:title={'center':'rooms'}>],\n",
       "       [<AxesSubplot:title={'center':'ceiling_height'}>,\n",
       "        <AxesSubplot:title={'center':'floors_total'}>,\n",
       "        <AxesSubplot:title={'center':'living_area'}>,\n",
       "        <AxesSubplot:title={'center':'floor'}>],\n",
       "       [<AxesSubplot:title={'center':'kitchen_area'}>,\n",
       "        <AxesSubplot:title={'center':'balcony'}>,\n",
       "        <AxesSubplot:title={'center':'airports_nearest'}>,\n",
       "        <AxesSubplot:title={'center':'cityCenters_nearest'}>],\n",
       "       [<AxesSubplot:title={'center':'parks_around3000'}>,\n",
       "        <AxesSubplot:title={'center':'parks_nearest'}>,\n",
       "        <AxesSubplot:title={'center':'ponds_around3000'}>,\n",
       "        <AxesSubplot:title={'center':'ponds_nearest'}>],\n",
       "       [<AxesSubplot:title={'center':'days_exposition'}>, <AxesSubplot:>,\n",
       "        <AxesSubplot:>, <AxesSubplot:>]], dtype=object)"
      ]
     },
     "execution_count": 105,
     "metadata": {},
     "output_type": "execute_result"
    },
    {
     "data": {
      "image/png": "[encoded data removed]",
      "text/plain": [
       "<Figure size 1080x1440 with 20 Axes>"
      ]
     },
     "metadata": {
      "needs_background": "light"
     },
     "output_type": "display_data"
    }
   ],
   "source": [
    "import pandas as pd\n",
    "data = pd.read_csv('/datasets/real_estate_data.csv', sep='\\t')\n",
    "display(data.head())\n",
    "display(data.info())\n",
    "data.hist(figsize=(15, 20))"
   ]
  },
  {
   "cell_type": "markdown",
   "metadata": {},
   "source": [
    "### 2. Предобработка данных <a class=\"anchor\" id=\"chapter2\"></a>"
   ]
  },
  {
   "cell_type": "code",
   "execution_count": 106,
   "metadata": {},
   "outputs": [
    {
     "data": {
      "text/plain": [
       "total_images                0\n",
       "last_price                  0\n",
       "total_area                  0\n",
       "first_day_exposition        0\n",
       "rooms                       0\n",
       "ceiling_height           9195\n",
       "floors_total               86\n",
       "living_area              1903\n",
       "floor                       0\n",
       "is_apartment            20924\n",
       "studio                      0\n",
       "open_plan                   0\n",
       "kitchen_area             2278\n",
       "balcony                 11519\n",
       "locality_name              49\n",
       "airports_nearest         5542\n",
       "cityCenters_nearest      5519\n",
       "parks_around3000         5518\n",
       "parks_nearest           15620\n",
       "ponds_around3000         5518\n",
       "ponds_nearest           14589\n",
       "days_exposition          3181\n",
       "dtype: int64"
      ]
     },
     "execution_count": 106,
     "metadata": {},
     "output_type": "execute_result"
    }
   ],
   "source": [
    "# 1) Определим, в каких столбцах есть пропуски.\n",
    "data.isna().sum()"
   ]
  },
  {
   "cell_type": "code",
   "execution_count": 107,
   "metadata": {},
   "outputs": [
    {
     "data": {
      "text/plain": [
       "0"
      ]
     },
     "execution_count": 107,
     "metadata": {},
     "output_type": "execute_result"
    }
   ],
   "source": [
    "# Проверим дубликаты. Их нет \n",
    "data.duplicated().sum()\n"
   ]
  },
  {
   "cell_type": "code",
   "execution_count": 109,
   "metadata": {},
   "outputs": [],
   "source": [
    "# Заполните пропущенные значения там, где это возможно.\n",
    "# Изменим следующие столбцы\n",
    "data['is_apartment'] = data['is_apartment'].fillna(False)\n",
    "data[['balcony', \n",
    "      'parks_around3000', \n",
    "      'ponds_around3000']] = data[['balcony',\n",
    "                                   'parks_around3000',\n",
    "                                   'ponds_around3000']].fillna(0)"
   ]
  },
  {
   "cell_type": "code",
   "execution_count": 110,
   "metadata": {},
   "outputs": [
    {
     "data": {
      "text/plain": [
       "<AxesSubplot:>"
      ]
     },
     "execution_count": 110,
     "metadata": {},
     "output_type": "execute_result"
    },
    {
     "data": {
      "image/png": "[encoded data removed]",
      "text/plain": [
       "<Figure size 432x288 with 1 Axes>"
      ]
     },
     "metadata": {
      "needs_background": "light"
     },
     "output_type": "display_data"
    }
   ],
   "source": [
    "# посмотрим распредление пропущенных days_exposition \n",
    "data[['days_exposition', 'first_day_exposition']]\n",
    "data['first_day_exposition'] = pd.to_datetime(data['first_day_exposition'])\n",
    "data[data['days_exposition'].isna()]['first_day_exposition'].hist()"
   ]
  },
  {
   "cell_type": "markdown",
   "metadata": {},
   "source": [
    "Вывод: <br>\n",
    "По гисторамме выше видно, что большинство days_exposition находятся в последние годы. Можно предположить, что эти квартиры еще весят в объявлениях до сих пор и поэтому days_exposition не посчитаны. <br>\n",
    "    У нас три выхода: <br>\n",
    "    - либо посчитать сколько дней они уже провисели, но это может исказить данные, так как они может еще будут долго висеть, <br>\n",
    "    - либо  удалить эти строки вообще,но потеряем информацию по другим параметрам этих квартир, <br>\n",
    "    - либо заменить значения медианными. Этот вариант кажется предпочтительнее. <br>\n",
    "    <br>\n",
    "    Ниже заполним пропуски медианными значениями согласно названию населенных пунктов"
   ]
  },
  {
   "cell_type": "code",
   "execution_count": 66,
   "metadata": {},
   "outputs": [
    {
     "data": {
      "text/plain": [
       "0"
      ]
     },
     "execution_count": 66,
     "metadata": {},
     "output_type": "execute_result"
    }
   ],
   "source": [
    "# Создадим таблицу с медианными значениями days_exposition по населенным пунктам\n",
    "locality_mean_price = data.pivot_table(index='locality_name', values='days_exposition', aggfunc='median')\n",
    "\n",
    "# Добавим столбец 'days_exposition_replacement' в общую таблицу data. \n",
    "# В этом столбце медианные значения days_exposition расставлены в соотвествии с населенными пунктами\n",
    "data = data.merge(locality_mean_price, on='locality_name', how='left', suffixes=(None, '_replacement'))\n",
    "\n",
    "# заменим пропуски в days_exposition на значения из созданного столбца 'days_exposition_replacement'\n",
    "data['days_exposition'] = data['days_exposition'].fillna(data['days_exposition_replacement'])\n",
    "\n",
    "# удалим столбец 'days_exposition_replacement', больше он нам не понадобится\n",
    "data = data.drop(columns='days_exposition_replacement')\n",
    "\n",
    "# проверим, что не осталось пропусков в days_exposition\n",
    "data['days_exposition'].isna().sum()\n"
   ]
  },
  {
   "cell_type": "markdown",
   "metadata": {},
   "source": [
    "Вывод: <br> \n",
    "Возможные причины пропусков в данных: либо нет информации, либо нет данного объекта рядом(аэропорта, парка и тд) <br>\n",
    "Можем изненить пропуски в следующих столбцах:<br>\n",
    "1) is_apartment - на False - так как если не указано, то значит не аппартаменты <br>\n",
    "2) balcony - на 0 - так как если не указано, то значит 0 балконов<br>\n",
    "3) parks_around3000, ponds_around3000  на 0 - так как если не указано, то значит 0<br>\n",
    "4) days_exposition - выше изменил на медианные значения <br>\n",
    "5) высоту потолков изменим ниже<br>\n",
    "6) пропуски в living_area и kitchen_area заполним ниже"
   ]
  },
  {
   "cell_type": "code",
   "execution_count": 85,
   "metadata": {},
   "outputs": [
    {
     "name": "stdout",
     "output_type": "stream",
     "text": [
      "0\n"
     ]
    }
   ],
   "source": [
    "# заполним пропуски в living_area и kitchen_area согласно total_area с учетом коэффициент отношения выбранной площади ко всей площади\n",
    "# проверим, что в total_area нет пропусков\n",
    "print(data['total_area'].isna().sum())\n",
    "# найдем средний коэфкоэффициент отношения выбранной площади ко всей площади для living_area и kitchen_area соотвественно\n",
    "living_coeff = (data['living_area']/data['total_area']).mean()\n",
    "kitchen_coeff = (data['kitchen_area']/data['total_area']).mean()\n",
    "# заполним пропуски путем умножения total_area на посчитанные коэффициенты\n",
    "data['living_area'] = data['living_area'].fillna((living_coeff * data['total_area']))\n",
    "data['kitchen_area'] = data['living_area'].fillna((kitchen_coeff * data['total_area']))\n"
   ]
  },
  {
   "cell_type": "code",
   "execution_count": 41,
   "metadata": {},
   "outputs": [],
   "source": [
    "# 2) Найдем столбцы, в которых нужно изменить тип данных. Преобразуем тип данных в выбранных столбцах.\n",
    "data['first_day_exposition'] = pd.to_datetime(data['first_day_exposition'])\n",
    "data[['balcony', 'days_exposition']] = data[['balcony', 'days_exposition']].astype('int')\n",
    "data[['parks_around3000', 'ponds_around3000']] = data[['parks_around3000', 'ponds_around3000']].astype('int')"
   ]
  },
  {
   "cell_type": "markdown",
   "metadata": {},
   "source": [
    "Необходимо изненить тип данных следующие столбцах: \n",
    "- is_apartment - с object на bool, так как это bool величина как по условию, так и по логике True/False \n",
    "- balcony - с float на int, так как число балконов целое число \n",
    "- parks_around3000, ponds_around3000 - с float на int, так как количество парков/водоемов - это целое число \n",
    "- first_day_exposition - с object на datetime, так как это дата \n",
    "- days_exposition - с object на int, так как количество дней, и при том целое"
   ]
  },
  {
   "cell_type": "code",
   "execution_count": 91,
   "metadata": {},
   "outputs": [
    {
     "data": {
      "text/plain": [
       "array(['Бокситогорск', 'Волосово', 'Волхов', 'Всеволожск', 'Выборг',\n",
       "       'Высоцк', 'Гатчина', 'Зеленогорск', 'Ивангород', 'Каменногорск',\n",
       "       'Кингисепп', 'Кириши', 'Кировск', 'Колпино', 'Коммунар',\n",
       "       'Красное Село', 'Кронштадт', 'Кудрово', 'Лодейное Поле',\n",
       "       'Ломоносов', 'Луга', 'Любань', 'Мурино', 'Никольское',\n",
       "       'Новая Ладога', 'Отрадное', 'Павловск', 'Петергоф', 'Пикалёво',\n",
       "       'Подпорожье', 'Приморск', 'Приозерск', 'Пушкин', 'Санкт-Петербург',\n",
       "       'Светогорск', 'Сертолово', 'Сестрорецк', 'Сланцы', 'Сосновый Бор',\n",
       "       'Сясьстрой', 'Тихвин', 'Тосно', 'Шлиссельбург',\n",
       "       'деревня Агалатово', 'деревня Аро', 'деревня Батово',\n",
       "       'деревня Бегуницы', 'деревня Белогорка', 'деревня Большая Вруда',\n",
       "       'деревня Большая Пустомержа', 'деревня Большие Колпаны',\n",
       "       'деревня Большое Рейзино', 'деревня Большой Сабск', 'деревня Бор',\n",
       "       'деревня Борисова Грива', 'деревня Ваганово', 'деревня Вартемяги',\n",
       "       'деревня Вахнова Кара', 'деревня Выскатка', 'деревня Гарболово',\n",
       "       'деревня Глинка', 'деревня Горбунки', 'деревня Гостилицы',\n",
       "       'деревня Заклинье', 'деревня Заневка', 'деревня Зимитицы',\n",
       "       'деревня Извара', 'деревня Иссад', 'деревня Калитино',\n",
       "       'деревня Кальтино', 'деревня Камышовка', 'деревня Каськово',\n",
       "       'деревня Келози', 'деревня Кипень', 'деревня Кисельня',\n",
       "       'деревня Колтуши', 'деревня Коркино', 'деревня Котлы',\n",
       "       'деревня Кривко', 'деревня Кудрово', 'деревня Кузьмолово',\n",
       "       'деревня Курковицы', 'деревня Куровицы', 'деревня Куттузи',\n",
       "       'деревня Лаврики', 'деревня Лаголово', 'деревня Лампово',\n",
       "       'деревня Лесколово', 'деревня Лопухинка', 'деревня Лупполово',\n",
       "       'деревня Малая Романовка', 'деревня Малое Верево',\n",
       "       'деревня Малое Карлино', 'деревня Малые Колпаны',\n",
       "       'деревня Мануйлово', 'деревня Меньково', 'деревня Мины',\n",
       "       'деревня Мистолово', 'деревня Ненимяки', 'деревня Нижние Осельки',\n",
       "       'деревня Нижняя', 'деревня Низино', 'деревня Новое Девяткино',\n",
       "       'деревня Новолисино', 'деревня Нурма', 'деревня Оржицы',\n",
       "       'деревня Парицы', 'деревня Пельгора', 'деревня Пеники',\n",
       "       'деревня Пижма', 'деревня Пикколово', 'деревня Пудомяги',\n",
       "       'деревня Пустынка', 'деревня Пчева', 'деревня Рабитицы',\n",
       "       'деревня Разбегаево', 'деревня Раздолье', 'деревня Разметелево',\n",
       "       'деревня Рапполово', 'деревня Реброво', 'деревня Русско',\n",
       "       'деревня Сижно', 'деревня Снегирёвка', 'деревня Старая',\n",
       "       'деревня Старая Пустошь', 'деревня Старое Хинколово',\n",
       "       'деревня Старополье', 'деревня Старосиверская',\n",
       "       'деревня Старые Бегуницы', 'деревня Суоранда',\n",
       "       'деревня Сяськелево', 'деревня Тарасово', 'деревня Терпилицы',\n",
       "       'деревня Тихковицы', 'деревня Тойворово', 'деревня Торосово',\n",
       "       'деревня Торошковичи', 'деревня Трубников Бор',\n",
       "       'деревня Фалилеево', 'деревня Фёдоровское', 'деревня Хапо-Ое',\n",
       "       'деревня Хязельки', 'деревня Чудской Бор', 'деревня Шпаньково',\n",
       "       'деревня Щеглово', 'деревня Юкки', 'деревня Ялгино',\n",
       "       'деревня Яльгелево', 'деревня Ям-Тесово',\n",
       "       'коттеджный поселок Кивеннапа Север', 'коттеджный поселок Лесное',\n",
       "       'коттеджный поселок Счастье', 'поселок Александровская',\n",
       "       'поселок Алексеевка', 'поселок Аннино', 'поселок Барышево',\n",
       "       'поселок Белоостров', 'поселок Большая Ижора', 'поселок Бугры',\n",
       "       'поселок Будогощь', 'поселок Важины', 'поселок Вещево',\n",
       "       'поселок Виллози', 'поселок Вознесенье', 'поселок Возрождение',\n",
       "       'поселок Войсковицы', 'поселок Войскорово', 'поселок Володарское',\n",
       "       'поселок Вырица', 'поселок Высокоключевой', 'поселок Гаврилово',\n",
       "       'поселок Гарболово', 'поселок Гладкое', 'поселок Глажево',\n",
       "       'поселок Глебычево', 'поселок Гончарово', 'поселок Громово',\n",
       "       'поселок Дзержинского', 'поселок Дружная Горка',\n",
       "       'поселок Дружноселье', 'поселок Дубровка', 'поселок Елизаветино',\n",
       "       'поселок Ефимовский', 'поселок Жилгородок', 'поселок Жилпоселок',\n",
       "       'поселок Житково', 'поселок Заводской', 'поселок Запорожское',\n",
       "       'поселок Зимитицы', 'поселок Ильичёво', 'поселок Калитино',\n",
       "       'поселок Каложицы', 'поселок Кикерино', 'поселок Кингисеппский',\n",
       "       'поселок Кирпичное', 'поселок Кобралово', 'поселок Кобринское',\n",
       "       'поселок Коммунары', 'поселок Кондратьево', 'поселок Коробицыно',\n",
       "       'поселок Котельский', 'поселок Красная Долина',\n",
       "       'поселок Красносельское', 'поселок Красный Бор',\n",
       "       'поселок Кузнечное', 'поселок Кузьмоловский', 'поселок Лебяжье',\n",
       "       'поселок Левашово', 'поселок Ленинское', 'поселок Лесное',\n",
       "       'поселок Лесогорский', 'поселок Лисий Нос', 'поселок Лукаши',\n",
       "       'поселок Любань', 'поселок Мга', 'поселок Мельниково',\n",
       "       'поселок Металлострой', 'поселок Мичуринское', 'поселок Молодцово',\n",
       "       'поселок Молодёжное', 'поселок Мурино', 'поселок Мыза-Ивановка',\n",
       "       'поселок Назия', 'поселок Никольский', 'поселок Новогорелово',\n",
       "       'поселок Новоселье', 'поселок Новый Свет', 'поселок Новый Учхоз',\n",
       "       'поселок Оредеж', 'поселок Павлово',\n",
       "       'поселок Пансионат Зелёный Бор', 'поселок Парголово',\n",
       "       'поселок Первомайское', 'поселок Перово', 'поселок Песочный',\n",
       "       'поселок Петро-Славянка', 'поселок Петровское',\n",
       "       'поселок Платформа 69-й километр', 'поселок Плодовое',\n",
       "       'поселок Плоское', 'поселок Победа', 'поселок Поляны',\n",
       "       'поселок Понтонный', 'поселок Почап', 'поселок Починок',\n",
       "       'поселок Приветнинское', 'поселок Пригородный',\n",
       "       'поселок Приладожский', 'поселок Пудость', 'поселок Пушное',\n",
       "       'поселок Пчевжа', 'поселок Рабитицы', 'поселок Рахья',\n",
       "       'поселок Репино', 'поселок Романовка', 'поселок Ромашки',\n",
       "       'поселок Ропша', 'поселок Рощино', 'поселок Рябово',\n",
       "       'поселок Сапёрное', 'поселок Сапёрный', 'поселок Свирьстрой',\n",
       "       'поселок Севастьяново', 'поселок Селезнёво', 'поселок Сельцо',\n",
       "       'поселок Семиозерье', 'поселок Семрино', 'поселок Серебрянский',\n",
       "       'поселок Сиверский', 'поселок Синявино', 'поселок Советский',\n",
       "       'поселок Совхозный', 'поселок Сосново', 'поселок Старая Малукса',\n",
       "       'поселок Стеклянный', 'поселок Стрельна', 'поселок Суйда',\n",
       "       'поселок Сумино', 'поселок Суходолье', 'поселок Тайцы',\n",
       "       'поселок Тельмана', 'поселок Терволово', 'поселок Токсово',\n",
       "       'поселок Торковичи', 'поселок Торфяное', 'поселок Тёсово-4',\n",
       "       'поселок Углово', 'поселок Ульяновка', 'поселок Усть-Ижора',\n",
       "       'поселок Усть-Луга', 'поселок Ушаки', 'поселок Форносово',\n",
       "       'поселок Форт Красная Горка', 'поселок Фёдоровское',\n",
       "       'поселок Цвелодубово', 'поселок Цвылёво', 'поселок Шугозеро',\n",
       "       'поселок Шушары', 'поселок Щеглово', 'поселок Янино-1',\n",
       "       'поселок имени Морозова', 'поселок имени Свердлова',\n",
       "       'поселок станции Вещево', 'поселок станции Громово',\n",
       "       'поселок станции Корнево', 'поселок станции Лужайка',\n",
       "       'поселок станции Приветнинское', 'поселок станции Свирь',\n",
       "       'садоводческое некоммерческое товарищество Лесная Поляна',\n",
       "       'садовое товарищество Новая Ропша',\n",
       "       'садовое товарищество Приладожский', 'садовое товарищество Рахья',\n",
       "       'садовое товарищество Садко', 'село Копорье', 'село Никольское',\n",
       "       'село Павлово', 'село Паша', 'село Путилово', 'село Рождествено',\n",
       "       'село Русско-Высоцкое', 'село Старая Ладога', 'село Шум', nan],\n",
       "      dtype=object)"
      ]
     },
     "execution_count": 91,
     "metadata": {},
     "output_type": "execute_result"
    }
   ],
   "source": [
    "# 3) Изучим уникальные значения в столбце с названиями и устраните неявные дубликаты.\n",
    "data['locality_name'].sort_values().unique()"
   ]
  },
  {
   "cell_type": "code",
   "execution_count": 87,
   "metadata": {},
   "outputs": [
    {
     "data": {
      "text/plain": [
       "array(['Бокситогорск', 'Волосово', 'Волхов', 'Всеволожск', 'Выборг',\n",
       "       'Высоцк', 'Гатчина', 'Зеленогорск', 'Ивангород', 'Каменногорск',\n",
       "       'Кингисепп', 'Кириши', 'Кировск', 'Колпино', 'Коммунар',\n",
       "       'Красное Село', 'Кронштадт', 'Кудрово', 'Лодейное Поле',\n",
       "       'Ломоносов', 'Луга', 'Любань', 'Мурино', 'Никольское',\n",
       "       'Новая Ладога', 'Отрадное', 'Павловск', 'Петергоф', 'Пикалево',\n",
       "       'Подпорожье', 'Приморск', 'Приозерск', 'Пушкин', 'Санкт-Петербург',\n",
       "       'Светогорск', 'Сертолово', 'Сестрорецк', 'Сланцы', 'Сосновый Бор',\n",
       "       'Сясьстрой', 'Тихвин', 'Тосно', 'Шлиссельбург',\n",
       "       'городской поселок Большая Ижора', 'городской поселок Будогощь',\n",
       "       'городской поселок Виллози', 'городской поселок Лесогорский',\n",
       "       'городской поселок Мга', 'городской поселок Назия',\n",
       "       'городской поселок Новоселье', 'городской поселок Павлово',\n",
       "       'городской поселок Рощино', 'городской поселок Свирьстрой',\n",
       "       'городской поселок Советский', 'городской поселок Федоровское',\n",
       "       'городской поселок Янино-1', 'деревня Агалатово', 'деревня Аро',\n",
       "       'деревня Батово', 'деревня Бегуницы', 'деревня Белогорка',\n",
       "       'деревня Большая Вруда', 'деревня Большая Пустомержа',\n",
       "       'деревня Большие Колпаны', 'деревня Большое Рейзино',\n",
       "       'деревня Большой Сабск', 'деревня Бор', 'деревня Борисова Грива',\n",
       "       'деревня Ваганово', 'деревня Вартемяги', 'деревня Вахнова Кара',\n",
       "       'деревня Выскатка', 'деревня Гарболово', 'деревня Глинка',\n",
       "       'деревня Горбунки', 'деревня Гостилицы', 'деревня Заклинье',\n",
       "       'деревня Заневка', 'деревня Зимитицы', 'деревня Извара',\n",
       "       'деревня Иссад', 'деревня Калитино', 'деревня Кальтино',\n",
       "       'деревня Камышовка', 'деревня Каськово', 'деревня Келози',\n",
       "       'деревня Кипень', 'деревня Кисельня', 'деревня Колтуши',\n",
       "       'деревня Коркино', 'деревня Котлы', 'деревня Кривко',\n",
       "       'деревня Кудрово', 'деревня Кузьмолово', 'деревня Курковицы',\n",
       "       'деревня Куровицы', 'деревня Куттузи', 'деревня Лаврики',\n",
       "       'деревня Лаголово', 'деревня Лампово', 'деревня Лесколово',\n",
       "       'деревня Лопухинка', 'деревня Лупполово',\n",
       "       'деревня Малая Романовка', 'деревня Малое Верево',\n",
       "       'деревня Малое Карлино', 'деревня Малые Колпаны',\n",
       "       'деревня Мануйлово', 'деревня Меньково', 'деревня Мины',\n",
       "       'деревня Мистолово', 'деревня Ненимяки', 'деревня Нижние Осельки',\n",
       "       'деревня Нижняя', 'деревня Низино', 'деревня Новое Девяткино',\n",
       "       'деревня Новолисино', 'деревня Нурма', 'деревня Оржицы',\n",
       "       'деревня Парицы', 'деревня Пельгора', 'деревня Пеники',\n",
       "       'деревня Пижма', 'деревня Пикколово', 'деревня Пудомяги',\n",
       "       'деревня Пустынка', 'деревня Пчева', 'деревня Рабитицы',\n",
       "       'деревня Разбегаево', 'деревня Раздолье', 'деревня Разметелево',\n",
       "       'деревня Рапполово', 'деревня Реброво', 'деревня Русско',\n",
       "       'деревня Сижно', 'деревня Снегиревка', 'деревня Старая',\n",
       "       'деревня Старая Пустошь', 'деревня Старое Хинколово',\n",
       "       'деревня Старополье', 'деревня Старосиверская',\n",
       "       'деревня Старые Бегуницы', 'деревня Суоранда',\n",
       "       'деревня Сяськелево', 'деревня Тарасово', 'деревня Терпилицы',\n",
       "       'деревня Тихковицы', 'деревня Тойворово', 'деревня Торосово',\n",
       "       'деревня Торошковичи', 'деревня Трубников Бор',\n",
       "       'деревня Фалилеево', 'деревня Федоровское', 'деревня Хапо-Ое',\n",
       "       'деревня Хязельки', 'деревня Чудской Бор', 'деревня Шпаньково',\n",
       "       'деревня Щеглово', 'деревня Юкки', 'деревня Ялгино',\n",
       "       'деревня Яльгелево', 'деревня Ям-Тесово',\n",
       "       'коттеджный поселок Кивеннапа Север', 'коттеджный поселок Лесное',\n",
       "       'коттеджный поселок Счастье', 'поселок Александровская',\n",
       "       'поселок Алексеевка', 'поселок Аннино', 'поселок Барышево',\n",
       "       'поселок Белоостров', 'поселок Бугры', 'поселок Возрождение',\n",
       "       'поселок Войсковицы', 'поселок Войскорово', 'поселок Володарское',\n",
       "       'поселок Высокоключевой', 'поселок Гаврилово', 'поселок Гарболово',\n",
       "       'поселок Гладкое', 'поселок Глажево', 'поселок Глебычево',\n",
       "       'поселок Гончарово', 'поселок Громово', 'поселок Дзержинского',\n",
       "       'поселок Дружноселье', 'поселок Елизаветино', 'поселок Жилгородок',\n",
       "       'поселок Жилпоселок', 'поселок Житково', 'поселок Заводской',\n",
       "       'поселок Запорожское', 'поселок Зимитицы', 'поселок Ильичево',\n",
       "       'поселок Калитино', 'поселок Каложицы', 'поселок Кикерино',\n",
       "       'поселок Кингисеппский', 'поселок Кирпичное', 'поселок Кобралово',\n",
       "       'поселок Кобринское', 'поселок Коммунары', 'поселок Коробицыно',\n",
       "       'поселок Котельский', 'поселок Красная Долина',\n",
       "       'поселок Красносельское', 'поселок Левашово', 'поселок Ленинское',\n",
       "       'поселок Лесное', 'поселок Лисий Нос', 'поселок Лукаши',\n",
       "       'поселок Любань', 'поселок Мельниково', 'поселок Металлострой',\n",
       "       'поселок Мичуринское', 'поселок Молодежное', 'поселок Молодцово',\n",
       "       'поселок Мурино', 'поселок Мыза-Ивановка', 'поселок Новогорелово',\n",
       "       'поселок Новый Свет', 'поселок Новый Учхоз', 'поселок Оредеж',\n",
       "       'поселок Пансионат Зеленый Бор', 'поселок Парголово',\n",
       "       'поселок Первомайское', 'поселок Перово', 'поселок Песочный',\n",
       "       'поселок Петро-Славянка', 'поселок Петровское',\n",
       "       'поселок Платформа 69-й километр', 'поселок Плодовое',\n",
       "       'поселок Плоское', 'поселок Победа', 'поселок Поляны',\n",
       "       'поселок Понтонный', 'поселок Почап', 'поселок Починок',\n",
       "       'поселок Пригородный', 'поселок Пудость', 'поселок Пушное',\n",
       "       'поселок Пчевжа', 'поселок Рабитицы', 'поселок Репино',\n",
       "       'поселок Романовка', 'поселок Ромашки', 'поселок Ропша',\n",
       "       'поселок Рябово', 'поселок Саперное', 'поселок Саперный',\n",
       "       'поселок Севастьяново', 'поселок Селезнево', 'поселок Сельцо',\n",
       "       'поселок Семиозерье', 'поселок Семрино', 'поселок Серебрянский',\n",
       "       'поселок Совхозный', 'поселок Сосново', 'поселок Старая Малукса',\n",
       "       'поселок Стеклянный', 'поселок Стрельна', 'поселок Суйда',\n",
       "       'поселок Сумино', 'поселок Суходолье', 'поселок Тельмана',\n",
       "       'поселок Терволово', 'поселок Тесово-4', 'поселок Торковичи',\n",
       "       'поселок Торфяное', 'поселок Углово', 'поселок Усть-Ижора',\n",
       "       'поселок Усть-Луга', 'поселок Ушаки', 'поселок Форт Красная Горка',\n",
       "       'поселок Цвелодубово', 'поселок Цвылево', 'поселок Шугозеро',\n",
       "       'поселок Шушары', 'поселок Щеглово',\n",
       "       'поселок городского типа Большая Ижора',\n",
       "       'поселок городского типа Важины',\n",
       "       'поселок городского типа Вознесенье',\n",
       "       'поселок городского типа Вырица',\n",
       "       'поселок городского типа Дружная Горка',\n",
       "       'поселок городского типа Дубровка',\n",
       "       'поселок городского типа Ефимовский',\n",
       "       'поселок городского типа Кондратьево',\n",
       "       'поселок городского типа Красный Бор',\n",
       "       'поселок городского типа Кузнечное',\n",
       "       'поселок городского типа Кузьмоловский',\n",
       "       'поселок городского типа Лебяжье',\n",
       "       'поселок городского типа Лесогорский',\n",
       "       'поселок городского типа Мга', 'поселок городского типа Назия',\n",
       "       'поселок городского типа Никольский',\n",
       "       'поселок городского типа Павлово',\n",
       "       'поселок городского типа Приладожский',\n",
       "       'поселок городского типа Рахья', 'поселок городского типа Рощино',\n",
       "       'поселок городского типа Рябово',\n",
       "       'поселок городского типа Сиверский',\n",
       "       'поселок городского типа Синявино',\n",
       "       'поселок городского типа Советский',\n",
       "       'поселок городского типа Тайцы', 'поселок городского типа Токсово',\n",
       "       'поселок городского типа Ульяновка',\n",
       "       'поселок городского типа Форносово',\n",
       "       'поселок городского типа имени Морозова',\n",
       "       'поселок городского типа имени Свердлова',\n",
       "       'поселок при железнодорожной станции Вещево',\n",
       "       'поселок при железнодорожной станции Приветнинское',\n",
       "       'поселок станции Вещево', 'поселок станции Громово',\n",
       "       'поселок станции Корнево', 'поселок станции Лужайка',\n",
       "       'поселок станции Приветнинское', 'поселок станции Свирь',\n",
       "       'садоводческое некоммерческое товарищество Лесная Поляна',\n",
       "       'садовое товарищество Новая Ропша',\n",
       "       'садовое товарищество Приладожский', 'садовое товарищество Рахья',\n",
       "       'садовое товарищество Садко', 'село Копорье', 'село Никольское',\n",
       "       'село Павлово', 'село Паша', 'село Путилово', 'село Рождествено',\n",
       "       'село Русско-Высоцкое', 'село Старая Ладога', 'село Шум', nan],\n",
       "      dtype=object)"
      ]
     },
     "execution_count": 87,
     "metadata": {},
     "output_type": "execute_result"
    }
   ],
   "source": [
    "# изменим в столбце locality_name все буквы Ё на е\n",
    "data['locality_name'] = data['locality_name'].replace(['ё'],'е', \n",
    "    regex=True # чтобы искал по части названия, а не точному совпадению ячейки \n",
    ")\n",
    "data['locality_name'].sort_values().unique()"
   ]
  },
  {
   "cell_type": "code",
   "execution_count": 88,
   "metadata": {},
   "outputs": [
    {
     "data": {
      "text/plain": [
       "array(['Бокситогорск', 'Волосово', 'Волхов', 'Всеволожск', 'Выборг',\n",
       "       'Высоцк', 'Гатчина', 'Зеленогорск', 'Ивангород', 'Каменногорск',\n",
       "       'Кингисепп', 'Кириши', 'Кировск', 'Колпино', 'Коммунар',\n",
       "       'Красное Село', 'Кронштадт', 'Кудрово', 'Лодейное Поле',\n",
       "       'Ломоносов', 'Луга', 'Любань', 'Мурино', 'Никольское',\n",
       "       'Новая Ладога', 'Отрадное', 'Павловск', 'Петергоф', 'Пикалево',\n",
       "       'Подпорожье', 'Приморск', 'Приозерск', 'Пушкин', 'Санкт-Петербург',\n",
       "       'Светогорск', 'Сертолово', 'Сестрорецк', 'Сланцы', 'Сосновый Бор',\n",
       "       'Сясьстрой', 'Тихвин', 'Тосно', 'Шлиссельбург',\n",
       "       'деревня Агалатово', 'деревня Аро', 'деревня Батово',\n",
       "       'деревня Бегуницы', 'деревня Белогорка', 'деревня Большая Вруда',\n",
       "       'деревня Большая Пустомержа', 'деревня Большие Колпаны',\n",
       "       'деревня Большое Рейзино', 'деревня Большой Сабск', 'деревня Бор',\n",
       "       'деревня Борисова Грива', 'деревня Ваганово', 'деревня Вартемяги',\n",
       "       'деревня Вахнова Кара', 'деревня Выскатка', 'деревня Гарболово',\n",
       "       'деревня Глинка', 'деревня Горбунки', 'деревня Гостилицы',\n",
       "       'деревня Заклинье', 'деревня Заневка', 'деревня Зимитицы',\n",
       "       'деревня Извара', 'деревня Иссад', 'деревня Калитино',\n",
       "       'деревня Кальтино', 'деревня Камышовка', 'деревня Каськово',\n",
       "       'деревня Келози', 'деревня Кипень', 'деревня Кисельня',\n",
       "       'деревня Колтуши', 'деревня Коркино', 'деревня Котлы',\n",
       "       'деревня Кривко', 'деревня Кудрово', 'деревня Кузьмолово',\n",
       "       'деревня Курковицы', 'деревня Куровицы', 'деревня Куттузи',\n",
       "       'деревня Лаврики', 'деревня Лаголово', 'деревня Лампово',\n",
       "       'деревня Лесколово', 'деревня Лопухинка', 'деревня Лупполово',\n",
       "       'деревня Малая Романовка', 'деревня Малое Верево',\n",
       "       'деревня Малое Карлино', 'деревня Малые Колпаны',\n",
       "       'деревня Мануйлово', 'деревня Меньково', 'деревня Мины',\n",
       "       'деревня Мистолово', 'деревня Ненимяки', 'деревня Нижние Осельки',\n",
       "       'деревня Нижняя', 'деревня Низино', 'деревня Новое Девяткино',\n",
       "       'деревня Новолисино', 'деревня Нурма', 'деревня Оржицы',\n",
       "       'деревня Парицы', 'деревня Пельгора', 'деревня Пеники',\n",
       "       'деревня Пижма', 'деревня Пикколово', 'деревня Пудомяги',\n",
       "       'деревня Пустынка', 'деревня Пчева', 'деревня Рабитицы',\n",
       "       'деревня Разбегаево', 'деревня Раздолье', 'деревня Разметелево',\n",
       "       'деревня Рапполово', 'деревня Реброво', 'деревня Русско',\n",
       "       'деревня Сижно', 'деревня Снегиревка', 'деревня Старая',\n",
       "       'деревня Старая Пустошь', 'деревня Старое Хинколово',\n",
       "       'деревня Старополье', 'деревня Старосиверская',\n",
       "       'деревня Старые Бегуницы', 'деревня Суоранда',\n",
       "       'деревня Сяськелево', 'деревня Тарасово', 'деревня Терпилицы',\n",
       "       'деревня Тихковицы', 'деревня Тойворово', 'деревня Торосово',\n",
       "       'деревня Торошковичи', 'деревня Трубников Бор',\n",
       "       'деревня Фалилеево', 'деревня Федоровское', 'деревня Хапо-Ое',\n",
       "       'деревня Хязельки', 'деревня Чудской Бор', 'деревня Шпаньково',\n",
       "       'деревня Щеглово', 'деревня Юкки', 'деревня Ялгино',\n",
       "       'деревня Яльгелево', 'деревня Ям-Тесово',\n",
       "       'коттеджный поселок Кивеннапа Север', 'коттеджный поселок Лесное',\n",
       "       'коттеджный поселок Счастье', 'поселок Александровская',\n",
       "       'поселок Алексеевка', 'поселок Аннино', 'поселок Барышево',\n",
       "       'поселок Белоостров', 'поселок Большая Ижора', 'поселок Бугры',\n",
       "       'поселок Будогощь', 'поселок Важины', 'поселок Виллози',\n",
       "       'поселок Вознесенье', 'поселок Возрождение', 'поселок Войсковицы',\n",
       "       'поселок Войскорово', 'поселок Володарское', 'поселок Вырица',\n",
       "       'поселок Высокоключевой', 'поселок Гаврилово', 'поселок Гарболово',\n",
       "       'поселок Гладкое', 'поселок Глажево', 'поселок Глебычево',\n",
       "       'поселок Гончарово', 'поселок Громово', 'поселок Дзержинского',\n",
       "       'поселок Дружная Горка', 'поселок Дружноселье', 'поселок Дубровка',\n",
       "       'поселок Елизаветино', 'поселок Ефимовский', 'поселок Жилгородок',\n",
       "       'поселок Жилпоселок', 'поселок Житково', 'поселок Заводской',\n",
       "       'поселок Запорожское', 'поселок Зимитицы', 'поселок Ильичево',\n",
       "       'поселок Калитино', 'поселок Каложицы', 'поселок Кикерино',\n",
       "       'поселок Кингисеппский', 'поселок Кирпичное', 'поселок Кобралово',\n",
       "       'поселок Кобринское', 'поселок Коммунары', 'поселок Кондратьево',\n",
       "       'поселок Коробицыно', 'поселок Котельский',\n",
       "       'поселок Красная Долина', 'поселок Красносельское',\n",
       "       'поселок Красный Бор', 'поселок Кузнечное',\n",
       "       'поселок Кузьмоловский', 'поселок Лебяжье', 'поселок Левашово',\n",
       "       'поселок Ленинское', 'поселок Лесное', 'поселок Лесогорский',\n",
       "       'поселок Лисий Нос', 'поселок Лукаши', 'поселок Любань',\n",
       "       'поселок Мга', 'поселок Мельниково', 'поселок Металлострой',\n",
       "       'поселок Мичуринское', 'поселок Молодежное', 'поселок Молодцово',\n",
       "       'поселок Мурино', 'поселок Мыза-Ивановка', 'поселок Назия',\n",
       "       'поселок Никольский', 'поселок Новогорелово', 'поселок Новоселье',\n",
       "       'поселок Новый Свет', 'поселок Новый Учхоз', 'поселок Оредеж',\n",
       "       'поселок Павлово', 'поселок Пансионат Зеленый Бор',\n",
       "       'поселок Парголово', 'поселок Первомайское', 'поселок Перово',\n",
       "       'поселок Песочный', 'поселок Петро-Славянка', 'поселок Петровское',\n",
       "       'поселок Платформа 69-й километр', 'поселок Плодовое',\n",
       "       'поселок Плоское', 'поселок Победа', 'поселок Поляны',\n",
       "       'поселок Понтонный', 'поселок Почап', 'поселок Починок',\n",
       "       'поселок Пригородный', 'поселок Приладожский', 'поселок Пудость',\n",
       "       'поселок Пушное', 'поселок Пчевжа', 'поселок Рабитицы',\n",
       "       'поселок Рахья', 'поселок Репино', 'поселок Романовка',\n",
       "       'поселок Ромашки', 'поселок Ропша', 'поселок Рощино',\n",
       "       'поселок Рябово', 'поселок Саперное', 'поселок Саперный',\n",
       "       'поселок Свирьстрой', 'поселок Севастьяново', 'поселок Селезнево',\n",
       "       'поселок Сельцо', 'поселок Семиозерье', 'поселок Семрино',\n",
       "       'поселок Серебрянский', 'поселок Сиверский', 'поселок Синявино',\n",
       "       'поселок Советский', 'поселок Совхозный', 'поселок Сосново',\n",
       "       'поселок Старая Малукса', 'поселок Стеклянный', 'поселок Стрельна',\n",
       "       'поселок Суйда', 'поселок Сумино', 'поселок Суходолье',\n",
       "       'поселок Тайцы', 'поселок Тельмана', 'поселок Терволово',\n",
       "       'поселок Тесово-4', 'поселок Токсово', 'поселок Торковичи',\n",
       "       'поселок Торфяное', 'поселок Углово', 'поселок Ульяновка',\n",
       "       'поселок Усть-Ижора', 'поселок Усть-Луга', 'поселок Ушаки',\n",
       "       'поселок Федоровское', 'поселок Форносово',\n",
       "       'поселок Форт Красная Горка', 'поселок Цвелодубово',\n",
       "       'поселок Цвылево', 'поселок Шугозеро', 'поселок Шушары',\n",
       "       'поселок Щеглово', 'поселок Янино-1', 'поселок имени Морозова',\n",
       "       'поселок имени Свердлова',\n",
       "       'поселок при железнодорожной станции Вещево',\n",
       "       'поселок при железнодорожной станции Приветнинское',\n",
       "       'поселок станции Вещево', 'поселок станции Громово',\n",
       "       'поселок станции Корнево', 'поселок станции Лужайка',\n",
       "       'поселок станции Приветнинское', 'поселок станции Свирь',\n",
       "       'садоводческое некоммерческое товарищество Лесная Поляна',\n",
       "       'садовое товарищество Новая Ропша',\n",
       "       'садовое товарищество Приладожский', 'садовое товарищество Рахья',\n",
       "       'садовое товарищество Садко', 'село Копорье', 'село Никольское',\n",
       "       'село Павлово', 'село Паша', 'село Путилово', 'село Рождествено',\n",
       "       'село Русско-Высоцкое', 'село Старая Ладога', 'село Шум', nan],\n",
       "      dtype=object)"
      ]
     },
     "execution_count": 88,
     "metadata": {},
     "output_type": "execute_result"
    }
   ],
   "source": [
    "# В столбце с названиями data['locality_name'] приведем к одному виду типы поселений - поселки.\n",
    "# сделаем это двумя способами для практики\n",
    "# 1 способ) с помощью replace и regex\n",
    "data['locality_name'] = data['locality_name'].replace(\n",
    "           ['городской поселок', \n",
    "            'городской посёлок', \n",
    "            'посёлок городского типа',\n",
    "            'поселок городского типа',\n",
    "            'посёлок при железнодорожной станции',\n",
    "            'посёлок'], \n",
    "    'поселок', \n",
    "    regex=True # чтобы искал по части названия, а не точному совпадению ячейки \n",
    ")\n",
    "data['locality_name'].sort_values().unique()"
   ]
  },
  {
   "cell_type": "code",
   "execution_count": 44,
   "metadata": {},
   "outputs": [
    {
     "data": {
      "text/plain": [
       "array(['Бокситогорск', 'Волосово', 'Волхов', 'Всеволожск', 'Выборг',\n",
       "       'Высоцк', 'Гатчина', 'Зеленогорск', 'Ивангород', 'Каменногорск',\n",
       "       'Кингисепп', 'Кириши', 'Кировск', 'Колпино', 'Коммунар',\n",
       "       'Красное Село', 'Кронштадт', 'Кудрово', 'Лодейное Поле',\n",
       "       'Ломоносов', 'Луга', 'Любань', 'Мурино', 'Никольское',\n",
       "       'Новая Ладога', 'Отрадное', 'Павловск', 'Петергоф', 'Пикалёво',\n",
       "       'Подпорожье', 'Приморск', 'Приозерск', 'Пушкин', 'Санкт-Петербург',\n",
       "       'Светогорск', 'Сертолово', 'Сестрорецк', 'Сланцы', 'Сосновый Бор',\n",
       "       'Сясьстрой', 'Тихвин', 'Тосно', 'Шлиссельбург',\n",
       "       'деревня Агалатово', 'деревня Аро', 'деревня Батово',\n",
       "       'деревня Бегуницы', 'деревня Белогорка', 'деревня Большая Вруда',\n",
       "       'деревня Большая Пустомержа', 'деревня Большие Колпаны',\n",
       "       'деревня Большое Рейзино', 'деревня Большой Сабск', 'деревня Бор',\n",
       "       'деревня Борисова Грива', 'деревня Ваганово', 'деревня Вартемяги',\n",
       "       'деревня Вахнова Кара', 'деревня Выскатка', 'деревня Гарболово',\n",
       "       'деревня Глинка', 'деревня Горбунки', 'деревня Гостилицы',\n",
       "       'деревня Заклинье', 'деревня Заневка', 'деревня Зимитицы',\n",
       "       'деревня Извара', 'деревня Иссад', 'деревня Калитино',\n",
       "       'деревня Кальтино', 'деревня Камышовка', 'деревня Каськово',\n",
       "       'деревня Келози', 'деревня Кипень', 'деревня Кисельня',\n",
       "       'деревня Колтуши', 'деревня Коркино', 'деревня Котлы',\n",
       "       'деревня Кривко', 'деревня Кудрово', 'деревня Кузьмолово',\n",
       "       'деревня Курковицы', 'деревня Куровицы', 'деревня Куттузи',\n",
       "       'деревня Лаврики', 'деревня Лаголово', 'деревня Лампово',\n",
       "       'деревня Лесколово', 'деревня Лопухинка', 'деревня Лупполово',\n",
       "       'деревня Малая Романовка', 'деревня Малое Верево',\n",
       "       'деревня Малое Карлино', 'деревня Малые Колпаны',\n",
       "       'деревня Мануйлово', 'деревня Меньково', 'деревня Мины',\n",
       "       'деревня Мистолово', 'деревня Ненимяки', 'деревня Нижние Осельки',\n",
       "       'деревня Нижняя', 'деревня Низино', 'деревня Новое Девяткино',\n",
       "       'деревня Новолисино', 'деревня Нурма', 'деревня Оржицы',\n",
       "       'деревня Парицы', 'деревня Пельгора', 'деревня Пеники',\n",
       "       'деревня Пижма', 'деревня Пикколово', 'деревня Пудомяги',\n",
       "       'деревня Пустынка', 'деревня Пчева', 'деревня Рабитицы',\n",
       "       'деревня Разбегаево', 'деревня Раздолье', 'деревня Разметелево',\n",
       "       'деревня Рапполово', 'деревня Реброво', 'деревня Русско',\n",
       "       'деревня Сижно', 'деревня Снегирёвка', 'деревня Старая',\n",
       "       'деревня Старая Пустошь', 'деревня Старое Хинколово',\n",
       "       'деревня Старополье', 'деревня Старосиверская',\n",
       "       'деревня Старые Бегуницы', 'деревня Суоранда',\n",
       "       'деревня Сяськелево', 'деревня Тарасово', 'деревня Терпилицы',\n",
       "       'деревня Тихковицы', 'деревня Тойворово', 'деревня Торосово',\n",
       "       'деревня Торошковичи', 'деревня Трубников Бор',\n",
       "       'деревня Фалилеево', 'деревня Фёдоровское', 'деревня Хапо-Ое',\n",
       "       'деревня Хязельки', 'деревня Чудской Бор', 'деревня Шпаньково',\n",
       "       'деревня Щеглово', 'деревня Юкки', 'деревня Ялгино',\n",
       "       'деревня Яльгелево', 'деревня Ям-Тесово',\n",
       "       'коттеджный поселок Кивеннапа Север', 'коттеджный поселок Лесное',\n",
       "       'коттеджный поселок Счастье', 'поселок Александровская',\n",
       "       'поселок Алексеевка', 'поселок Аннино', 'поселок Барышево',\n",
       "       'поселок Белоостров', 'поселок Большая Ижора', 'поселок Бугры',\n",
       "       'поселок Будогощь', 'поселок Важины', 'поселок Вещево',\n",
       "       'поселок Виллози', 'поселок Вознесенье', 'поселок Возрождение',\n",
       "       'поселок Войсковицы', 'поселок Войскорово', 'поселок Володарское',\n",
       "       'поселок Вырица', 'поселок Высокоключевой', 'поселок Гаврилово',\n",
       "       'поселок Гарболово', 'поселок Гладкое', 'поселок Глажево',\n",
       "       'поселок Глебычево', 'поселок Гончарово', 'поселок Громово',\n",
       "       'поселок Дзержинского', 'поселок Дружная Горка',\n",
       "       'поселок Дружноселье', 'поселок Дубровка', 'поселок Елизаветино',\n",
       "       'поселок Ефимовский', 'поселок Жилгородок', 'поселок Жилпоселок',\n",
       "       'поселок Житково', 'поселок Заводской', 'поселок Запорожское',\n",
       "       'поселок Зимитицы', 'поселок Ильичёво', 'поселок Калитино',\n",
       "       'поселок Каложицы', 'поселок Кикерино', 'поселок Кингисеппский',\n",
       "       'поселок Кирпичное', 'поселок Кобралово', 'поселок Кобринское',\n",
       "       'поселок Коммунары', 'поселок Кондратьево', 'поселок Коробицыно',\n",
       "       'поселок Котельский', 'поселок Красная Долина',\n",
       "       'поселок Красносельское', 'поселок Красный Бор',\n",
       "       'поселок Кузнечное', 'поселок Кузьмоловский', 'поселок Лебяжье',\n",
       "       'поселок Левашово', 'поселок Ленинское', 'поселок Лесное',\n",
       "       'поселок Лесогорский', 'поселок Лисий Нос', 'поселок Лукаши',\n",
       "       'поселок Любань', 'поселок Мга', 'поселок Мельниково',\n",
       "       'поселок Металлострой', 'поселок Мичуринское', 'поселок Молодцово',\n",
       "       'поселок Молодёжное', 'поселок Мурино', 'поселок Мыза-Ивановка',\n",
       "       'поселок Назия', 'поселок Никольский', 'поселок Новогорелово',\n",
       "       'поселок Новоселье', 'поселок Новый Свет', 'поселок Новый Учхоз',\n",
       "       'поселок Оредеж', 'поселок Павлово',\n",
       "       'поселок Пансионат Зелёный Бор', 'поселок Парголово',\n",
       "       'поселок Первомайское', 'поселок Перово', 'поселок Песочный',\n",
       "       'поселок Петро-Славянка', 'поселок Петровское',\n",
       "       'поселок Платформа 69-й километр', 'поселок Плодовое',\n",
       "       'поселок Плоское', 'поселок Победа', 'поселок Поляны',\n",
       "       'поселок Понтонный', 'поселок Почап', 'поселок Починок',\n",
       "       'поселок Приветнинское', 'поселок Пригородный',\n",
       "       'поселок Приладожский', 'поселок Пудость', 'поселок Пушное',\n",
       "       'поселок Пчевжа', 'поселок Рабитицы', 'поселок Рахья',\n",
       "       'поселок Репино', 'поселок Романовка', 'поселок Ромашки',\n",
       "       'поселок Ропша', 'поселок Рощино', 'поселок Рябово',\n",
       "       'поселок Сапёрное', 'поселок Сапёрный', 'поселок Свирьстрой',\n",
       "       'поселок Севастьяново', 'поселок Селезнёво', 'поселок Сельцо',\n",
       "       'поселок Семиозерье', 'поселок Семрино', 'поселок Серебрянский',\n",
       "       'поселок Сиверский', 'поселок Синявино', 'поселок Советский',\n",
       "       'поселок Совхозный', 'поселок Сосново', 'поселок Старая Малукса',\n",
       "       'поселок Стеклянный', 'поселок Стрельна', 'поселок Суйда',\n",
       "       'поселок Сумино', 'поселок Суходолье', 'поселок Тайцы',\n",
       "       'поселок Тельмана', 'поселок Терволово', 'поселок Токсово',\n",
       "       'поселок Торковичи', 'поселок Торфяное', 'поселок Тёсово-4',\n",
       "       'поселок Углово', 'поселок Ульяновка', 'поселок Усть-Ижора',\n",
       "       'поселок Усть-Луга', 'поселок Ушаки', 'поселок Форносово',\n",
       "       'поселок Форт Красная Горка', 'поселок Фёдоровское',\n",
       "       'поселок Цвелодубово', 'поселок Цвылёво', 'поселок Шугозеро',\n",
       "       'поселок Шушары', 'поселок Щеглово', 'поселок Янино-1',\n",
       "       'поселок имени Морозова', 'поселок имени Свердлова',\n",
       "       'поселок станции Вещево', 'поселок станции Громово',\n",
       "       'поселок станции Корнево', 'поселок станции Лужайка',\n",
       "       'поселок станции Приветнинское', 'поселок станции Свирь',\n",
       "       'садоводческое некоммерческое товарищество Лесная Поляна',\n",
       "       'садовое товарищество Новая Ропша',\n",
       "       'садовое товарищество Приладожский', 'садовое товарищество Рахья',\n",
       "       'садовое товарищество Садко', 'село Копорье', 'село Никольское',\n",
       "       'село Павлово', 'село Паша', 'село Путилово', 'село Рождествено',\n",
       "       'село Русско-Высоцкое', 'село Старая Ладога', 'село Шум', nan],\n",
       "      dtype=object)"
      ]
     },
     "execution_count": 44,
     "metadata": {},
     "output_type": "execute_result"
    }
   ],
   "source": [
    "# 2 способ) Создадим функцию замены для нескольких выражений. \n",
    "# Выражения для замены задаваются в кортеже args. \n",
    "# Если слова из args имеется в объекте х - то,они заменяются на слово replacement\n",
    "def replace_multy(x, *args, replacement):\n",
    "    if x == x:   # проверяем, что не NaN, так как метод replace далее c NaN не сработает. Используем свойство, что (Nan != NaN)\n",
    "        for word in args:\n",
    "            x = x.replace(word, replacement)\n",
    "        return x \n",
    "    return x # если NaN, то так и оставляем\n",
    "\n",
    "\n",
    "# Применим созданную функцию replace_multy для столбца с наименованиями населенных пунктов в data['locality_name']\n",
    "data['locality_name'] = data['locality_name'].apply(\n",
    "    replace_multy,\n",
    "    args = ('городской поселок', \n",
    "            'городской посёлок', \n",
    "            'посёлок городского типа',\n",
    "            'поселок городского типа',\n",
    "            'посёлок при железнодорожной станции',\n",
    "            'посёлок'),\n",
    "    replacement = 'поселок'\n",
    ")\n",
    "\n",
    "\n",
    "data['locality_name'].sort_values().unique()\n"
   ]
  },
  {
   "cell_type": "code",
   "execution_count": 45,
   "metadata": {},
   "outputs": [
    {
     "name": "stdout",
     "output_type": "stream",
     "text": [
      "[  1.     1.2    1.75   2.     2.2    2.25   2.3    2.34   2.4    2.45\n",
      "   2.46   2.47   2.48   2.49   2.5    2.51   2.52   2.53   2.54   2.55\n",
      "   2.56   2.57   2.58   2.59   2.6    2.61   2.62   2.63   2.64   2.65\n",
      "   2.66   2.67   2.68   2.69   2.7    2.71   2.72   2.73   2.74   2.75\n",
      "   2.76   2.77   2.78   2.79   2.8    2.81   2.82   2.83   2.84   2.85\n",
      "   2.86   2.87   2.88   2.89   2.9    2.91   2.92   2.93   2.94   2.95\n",
      "   2.96   2.97   2.98   2.99   3.     3.01   3.02   3.03   3.04   3.05\n",
      "   3.06   3.07   3.08   3.09   3.1    3.11   3.12   3.13   3.14   3.15\n",
      "   3.16   3.17   3.18   3.2    3.21   3.22   3.23   3.24   3.25   3.26\n",
      "   3.27   3.28   3.29   3.3    3.31   3.32   3.33   3.34   3.35   3.36\n",
      "   3.37   3.38   3.39   3.4    3.42   3.43   3.44   3.45   3.46   3.47\n",
      "   3.48   3.49   3.5    3.51   3.52   3.53   3.54   3.55   3.56   3.57\n",
      "   3.58   3.59   3.6    3.62   3.63   3.65   3.66   3.67   3.68   3.69\n",
      "   3.7    3.75   3.76   3.78   3.8    3.82   3.83   3.84   3.85   3.86\n",
      "   3.87   3.88   3.9    3.93   3.95   3.98   4.     4.06   4.1    4.14\n",
      "   4.15   4.19   4.2    4.25   4.3    4.37   4.4    4.45   4.5    4.65\n",
      "   4.7    4.8    4.9    5.     5.2    5.3    5.5    5.6    5.8    6.\n",
      "   8.     8.3   10.3   14.    20.    22.6   24.    25.    26.    27.\n",
      "  27.5   32.   100.      nan]\n"
     ]
    },
    {
     "data": {
      "text/plain": [
       "array([1.  , 1.03, 1.2 , 1.4 , 1.75, 2.  , 2.2 , 2.25, 2.26, 2.3 , 2.34,\n",
       "       2.4 , 2.45, 2.46, 2.47, 2.48, 2.49, 2.5 , 2.51, 2.52, 2.53, 2.54,\n",
       "       2.55, 2.56, 2.57, 2.58, 2.59, 2.6 , 2.61, 2.62, 2.63, 2.64, 2.65,\n",
       "       2.66, 2.67, 2.68, 2.69, 2.7 , 2.71, 2.72, 2.73, 2.74, 2.75, 2.76,\n",
       "       2.77, 2.78, 2.79, 2.8 , 2.81, 2.82, 2.83, 2.84, 2.85, 2.86, 2.87,\n",
       "       2.88, 2.89, 2.9 , 2.91, 2.92, 2.93, 2.94, 2.95, 2.96, 2.97, 2.98,\n",
       "       2.99, 3.  , 3.01, 3.02, 3.03, 3.04, 3.05, 3.06, 3.07, 3.08, 3.09,\n",
       "       3.1 , 3.11, 3.12, 3.13, 3.14, 3.15, 3.16, 3.17, 3.18, 3.2 , 3.21,\n",
       "       3.22, 3.23, 3.24, 3.25, 3.26, 3.27, 3.28, 3.29, 3.3 , 3.31, 3.32,\n",
       "       3.33, 3.34, 3.35, 3.36, 3.37, 3.38, 3.39, 3.4 , 3.42, 3.43, 3.44,\n",
       "       3.45, 3.46, 3.47, 3.48, 3.49, 3.5 , 3.51, 3.52, 3.53, 3.54, 3.55,\n",
       "       3.56, 3.57, 3.58, 3.59, 3.6 , 3.62, 3.63, 3.65, 3.66, 3.67, 3.68,\n",
       "       3.69, 3.7 , 3.75, 3.76, 3.78, 3.8 , 3.82, 3.83, 3.84, 3.85, 3.86,\n",
       "       3.87, 3.88, 3.9 , 3.93, 3.95, 3.98, 4.  , 4.06, 4.1 , 4.14, 4.15,\n",
       "       4.19, 4.2 , 4.25, 4.3 , 4.37, 4.4 , 4.45, 4.5 , 4.65, 4.7 , 4.8 ,\n",
       "       4.9 , 5.  , 5.2 , 5.3 , 5.5 , 5.6 , 5.8 , 6.  , 8.  , 8.3 ,  nan])"
      ]
     },
     "execution_count": 45,
     "metadata": {},
     "output_type": "execute_result"
    }
   ],
   "source": [
    "# 3) Найдем и устраним редкие и выбивающиеся значения.\n",
    "# посмотрим на уникальные значения для ceiling_height\n",
    "print(data['ceiling_height'].sort_values().unique())\n",
    "# в значениях больше 10, значения указаны в других единицих, возможно в сантиметрах. Переведем их в метры\n",
    "data['ceiling_height'] = data['ceiling_height'].apply(lambda x: x/10 if 10<=x<=32 else x)\n",
    "data['ceiling_height'] = data['ceiling_height'].replace(100,1)\n",
    "# Проверим. Все верно заменилось.\n",
    "data['ceiling_height'].sort_values().unique()"
   ]
  },
  {
   "cell_type": "markdown",
   "metadata": {},
   "source": [
    "### Посчитаем параметры и добавим в таблицу новые столбцы"
   ]
  },
  {
   "cell_type": "code",
   "execution_count": 90,
   "metadata": {},
   "outputs": [],
   "source": [
    "# добавим столбец m2_price цена одного квадратного метра. Округлим значения.\n",
    "data['m2_price'] = round(data['last_price'] / data['total_area'])\n",
    "# добавим стобец day_of_week - день недели публикации объявления (0 — понедельник, 1 — вторник и так далее)\n",
    "data['day_of_week'] = pd.DatetimeIndex(data['first_day_exposition']).day_of_week\n",
    "# добавим стобец month - месяц публикации объявления\n",
    "data['month'] = pd.DatetimeIndex(data['first_day_exposition']).month\n",
    "# добавим стобец year -год публикации объявления\n",
    "data['year'] = pd.DatetimeIndex(data['first_day_exposition']).year\n"
   ]
  },
  {
   "cell_type": "code",
   "execution_count": 91,
   "metadata": {},
   "outputs": [],
   "source": [
    "# добавим стобец floor_type - тип этажа квартиры (значения — «‎первый», «последний», «другой»)\n",
    "def floor_type(item):\n",
    "    if item['floor'] == 1:\n",
    "        return 'первый'\n",
    "    if item['floor'] == item['floors_total']:\n",
    "        return 'последний'\n",
    "    return 'другой'\n",
    "\n",
    "data['floor_type'] = data.apply(floor_type, axis=1)   \n",
    "\n",
    "# изменим стобец cityCenters_nearest - расстояние до центра города в километрах (переведите из м в км и округлите до целых значений).\n",
    "data = data.assign(cityCenters_nearest = round(data['cityCenters_nearest']/1000)) "
   ]
  },
  {
   "cell_type": "markdown",
   "metadata": {},
   "source": [
    "### 3. Исследовательский анализ данных <a class=\"anchor\" id=\"chapter3\"></a>"
   ]
  },
  {
   "cell_type": "code",
   "execution_count": 47,
   "metadata": {},
   "outputs": [
    {
     "data": {
      "text/plain": [
       "array([[<AxesSubplot:title={'center':'total_area'}>,\n",
       "        <AxesSubplot:title={'center':'living_area'}>,\n",
       "        <AxesSubplot:title={'center':'kitchen_area'}>,\n",
       "        <AxesSubplot:title={'center':'last_price'}>],\n",
       "       [<AxesSubplot:title={'center':'rooms'}>,\n",
       "        <AxesSubplot:title={'center':'ceiling_height'}>,\n",
       "        <AxesSubplot:title={'center':'floor'}>,\n",
       "        <AxesSubplot:title={'center':'floors_total'}>],\n",
       "       [<AxesSubplot:title={'center':'cityCenters_nearest'}>,\n",
       "        <AxesSubplot:title={'center':'airports_nearest'}>,\n",
       "        <AxesSubplot:title={'center':'parks_nearest'}>,\n",
       "        <AxesSubplot:title={'center':'day_of_week'}>],\n",
       "       [<AxesSubplot:title={'center':'month'}>, <AxesSubplot:>,\n",
       "        <AxesSubplot:>, <AxesSubplot:>]], dtype=object)"
      ]
     },
     "execution_count": 47,
     "metadata": {},
     "output_type": "execute_result"
    },
    {
     "data": {
      "image/png": "[encoded data removed]",
      "text/plain": [
       "<Figure size 1440x1440 with 16 Axes>"
      ]
     },
     "metadata": {
      "needs_background": "light"
     },
     "output_type": "display_data"
    }
   ],
   "source": [
    "# 1) Построим гистограммы для всех значений таблицы\n",
    "data.hist( bins=25,\n",
    "    figsize=(20,20), \n",
    "          column = ['total_area',\n",
    "                    'living_area', \n",
    "                    'kitchen_area', \n",
    "                    'last_price', \n",
    "                    'rooms', \n",
    "                    'ceiling_height', \n",
    "                    'floor',  \n",
    "                    'floor_type', \n",
    "                    'floors_total',\n",
    "                    'cityCenters_nearest', \n",
    "                    'airports_nearest', \n",
    "                    'parks_nearest',\n",
    "                    'day_of_week', \n",
    "                    'month']\n",
    ")"
   ]
  },
  {
   "cell_type": "markdown",
   "metadata": {},
   "source": [
    " Вывод <br> \n",
    " Наблюдения по параметрам гистограмм выше:<br> \n",
    " 1) Гистограммы, кроме day_of_week и month тяготеют к нормальному распреелению. Гистограммы day_of_week и month скорее отражают сезонность. <br> \n",
    " 2)виден явный перекос в сторону квартир \"подешевле\", с меньшей площадью и другими соответсвующими дешевым квартирам параметрам. Таких квартир больше.<br> \n",
    " 3) преобладают малоэтажные дома(до 20 этажей), \"небоскребов\" не там много <br> \n",
    " 4) в будни люди чаще размещают объявления о продаже <br> \n",
    " 5) летом происходит спад на рынке недвижимости, возможно по причине отпусков <br> \n",
    " 6) близость к паркам преобладает над близостью к аэропортам, не все хотят слышал гул самолетов над головой <br> \n",
    " 7) многокомнатные квартиры(более 5 комнат) - \"не в моде\""
   ]
  },
  {
   "cell_type": "code",
   "execution_count": 96,
   "metadata": {},
   "outputs": [
    {
     "name": "stdout",
     "output_type": "stream",
     "text": [
      "В среднем квартира продавалась за  157 дней\n",
      "Медиана равна  74 дня\n"
     ]
    },
    {
     "data": {
      "image/png": "[encoded data removed]",
      "text/plain": [
       "<Figure size 1080x360 with 1 Axes>"
      ]
     },
     "metadata": {
      "needs_background": "light"
     },
     "output_type": "display_data"
    },
    {
     "name": "stdout",
     "output_type": "stream",
     "text": [
      "count    23699.000000\n",
      "mean       156.608844\n",
      "std        213.546873\n",
      "min          0.000000\n",
      "25%         22.000000\n",
      "50%         74.000000\n",
      "75%        199.000000\n",
      "max       1580.000000\n",
      "Name: days_exposition, dtype: float64\n"
     ]
    }
   ],
   "source": [
    "# 2) Изучим, как быстро продавались квартиры (столбец days_exposition) (сколько дней было размещено каждое объявление)\n",
    "\n",
    "print('В среднем квартира продавалась за ', round(data['days_exposition'].mean()), 'дней')\n",
    "print('Медиана равна ', round(data['days_exposition'].median()), 'дня')\n",
    "\n",
    "import matplotlib.pyplot as plt\n",
    "plt.figure(figsize=(15, 5))\n",
    "plt.hist(data['days_exposition'], bins=30, range=(0,100))\n",
    "plt.show()\n",
    "\n",
    "print(data['days_exposition'].describe())\n"
   ]
  },
  {
   "cell_type": "markdown",
   "metadata": {},
   "source": [
    "Вывод: <br> \n",
    "Продажа в среднем занимает 74 дня (медианное значение). <br>\n",
    "Продажи до 22 дней(первый квартиль Q1, первые 25% выборки) можно считать быстрыми, а более 199 дней долгими(третий квартиль Q3, последние 25% выборки)."
   ]
  },
  {
   "cell_type": "code",
   "execution_count": 49,
   "metadata": {},
   "outputs": [
    {
     "name": "stdout",
     "output_type": "stream",
     "text": [
      "Удалим для наглядности значения цены выше 7*10^7, что составляет в процентах 0.32 %\n",
      "Матрица корреляции:\n",
      "               last_price  total_area  living_area  kitchen_area     rooms  \\\n",
      "last_price      1.000000    0.653675     0.566492      0.519869  0.363343   \n",
      "total_area      0.653675    1.000000     0.939537      0.609121  0.758344   \n",
      "living_area     0.566492    0.939537     1.000000      0.428674  0.845977   \n",
      "kitchen_area    0.519869    0.609121     0.428674      1.000000  0.269945   \n",
      "rooms           0.363343    0.758344     0.845977      0.269945  1.000000   \n",
      "floor_type      0.058917    0.064375     0.058319      0.048160  0.026327   \n",
      "day_of_week     0.001550   -0.004695    -0.005605     -0.008480 -0.004134   \n",
      "month           0.002779    0.004920    -0.002483      0.002499 -0.004469   \n",
      "\n",
      "              floor_type  day_of_week     month  \n",
      "last_price      0.058917     0.001550  0.002779  \n",
      "total_area      0.064375    -0.004695  0.004920  \n",
      "living_area     0.058319    -0.005605 -0.002483  \n",
      "kitchen_area    0.048160    -0.008480  0.002499  \n",
      "rooms           0.026327    -0.004134 -0.004469  \n",
      "floor_type      1.000000     0.006040  0.008013  \n",
      "day_of_week     0.006040     1.000000  0.011496  \n",
      "month           0.008013     0.011496  1.000000  \n"
     ]
    },
    {
     "data": {
      "text/plain": [
       "array([[<AxesSubplot:xlabel='last_price', ylabel='last_price'>,\n",
       "        <AxesSubplot:xlabel='total_area', ylabel='last_price'>,\n",
       "        <AxesSubplot:xlabel='living_area', ylabel='last_price'>,\n",
       "        <AxesSubplot:xlabel='kitchen_area', ylabel='last_price'>,\n",
       "        <AxesSubplot:xlabel='rooms', ylabel='last_price'>,\n",
       "        <AxesSubplot:xlabel='floor_type', ylabel='last_price'>,\n",
       "        <AxesSubplot:xlabel='day_of_week', ylabel='last_price'>,\n",
       "        <AxesSubplot:xlabel='month', ylabel='last_price'>],\n",
       "       [<AxesSubplot:xlabel='last_price', ylabel='total_area'>,\n",
       "        <AxesSubplot:xlabel='total_area', ylabel='total_area'>,\n",
       "        <AxesSubplot:xlabel='living_area', ylabel='total_area'>,\n",
       "        <AxesSubplot:xlabel='kitchen_area', ylabel='total_area'>,\n",
       "        <AxesSubplot:xlabel='rooms', ylabel='total_area'>,\n",
       "        <AxesSubplot:xlabel='floor_type', ylabel='total_area'>,\n",
       "        <AxesSubplot:xlabel='day_of_week', ylabel='total_area'>,\n",
       "        <AxesSubplot:xlabel='month', ylabel='total_area'>],\n",
       "       [<AxesSubplot:xlabel='last_price', ylabel='living_area'>,\n",
       "        <AxesSubplot:xlabel='total_area', ylabel='living_area'>,\n",
       "        <AxesSubplot:xlabel='living_area', ylabel='living_area'>,\n",
       "        <AxesSubplot:xlabel='kitchen_area', ylabel='living_area'>,\n",
       "        <AxesSubplot:xlabel='rooms', ylabel='living_area'>,\n",
       "        <AxesSubplot:xlabel='floor_type', ylabel='living_area'>,\n",
       "        <AxesSubplot:xlabel='day_of_week', ylabel='living_area'>,\n",
       "        <AxesSubplot:xlabel='month', ylabel='living_area'>],\n",
       "       [<AxesSubplot:xlabel='last_price', ylabel='kitchen_area'>,\n",
       "        <AxesSubplot:xlabel='total_area', ylabel='kitchen_area'>,\n",
       "        <AxesSubplot:xlabel='living_area', ylabel='kitchen_area'>,\n",
       "        <AxesSubplot:xlabel='kitchen_area', ylabel='kitchen_area'>,\n",
       "        <AxesSubplot:xlabel='rooms', ylabel='kitchen_area'>,\n",
       "        <AxesSubplot:xlabel='floor_type', ylabel='kitchen_area'>,\n",
       "        <AxesSubplot:xlabel='day_of_week', ylabel='kitchen_area'>,\n",
       "        <AxesSubplot:xlabel='month', ylabel='kitchen_area'>],\n",
       "       [<AxesSubplot:xlabel='last_price', ylabel='rooms'>,\n",
       "        <AxesSubplot:xlabel='total_area', ylabel='rooms'>,\n",
       "        <AxesSubplot:xlabel='living_area', ylabel='rooms'>,\n",
       "        <AxesSubplot:xlabel='kitchen_area', ylabel='rooms'>,\n",
       "        <AxesSubplot:xlabel='rooms', ylabel='rooms'>,\n",
       "        <AxesSubplot:xlabel='floor_type', ylabel='rooms'>,\n",
       "        <AxesSubplot:xlabel='day_of_week', ylabel='rooms'>,\n",
       "        <AxesSubplot:xlabel='month', ylabel='rooms'>],\n",
       "       [<AxesSubplot:xlabel='last_price', ylabel='floor_type'>,\n",
       "        <AxesSubplot:xlabel='total_area', ylabel='floor_type'>,\n",
       "        <AxesSubplot:xlabel='living_area', ylabel='floor_type'>,\n",
       "        <AxesSubplot:xlabel='kitchen_area', ylabel='floor_type'>,\n",
       "        <AxesSubplot:xlabel='rooms', ylabel='floor_type'>,\n",
       "        <AxesSubplot:xlabel='floor_type', ylabel='floor_type'>,\n",
       "        <AxesSubplot:xlabel='day_of_week', ylabel='floor_type'>,\n",
       "        <AxesSubplot:xlabel='month', ylabel='floor_type'>],\n",
       "       [<AxesSubplot:xlabel='last_price', ylabel='day_of_week'>,\n",
       "        <AxesSubplot:xlabel='total_area', ylabel='day_of_week'>,\n",
       "        <AxesSubplot:xlabel='living_area', ylabel='day_of_week'>,\n",
       "        <AxesSubplot:xlabel='kitchen_area', ylabel='day_of_week'>,\n",
       "        <AxesSubplot:xlabel='rooms', ylabel='day_of_week'>,\n",
       "        <AxesSubplot:xlabel='floor_type', ylabel='day_of_week'>,\n",
       "        <AxesSubplot:xlabel='day_of_week', ylabel='day_of_week'>,\n",
       "        <AxesSubplot:xlabel='month', ylabel='day_of_week'>],\n",
       "       [<AxesSubplot:xlabel='last_price', ylabel='month'>,\n",
       "        <AxesSubplot:xlabel='total_area', ylabel='month'>,\n",
       "        <AxesSubplot:xlabel='living_area', ylabel='month'>,\n",
       "        <AxesSubplot:xlabel='kitchen_area', ylabel='month'>,\n",
       "        <AxesSubplot:xlabel='rooms', ylabel='month'>,\n",
       "        <AxesSubplot:xlabel='floor_type', ylabel='month'>,\n",
       "        <AxesSubplot:xlabel='day_of_week', ylabel='month'>,\n",
       "        <AxesSubplot:xlabel='month', ylabel='month'>]], dtype=object)"
      ]
     },
     "execution_count": 49,
     "metadata": {},
     "output_type": "execute_result"
    },
    {
     "data": {
      "image/png": "[encoded data removed]",
      "text/plain": [
       "<Figure size 1080x1080 with 64 Axes>"
      ]
     },
     "metadata": {
      "needs_background": "light"
     },
     "output_type": "display_data"
    }
   ],
   "source": [
    "# 3) изучим какие факторы больше всего влияют на общую (полную) стоимость объекта\n",
    "#pd.plotting.scatter_matrix(data[['living_area', 'rooms']], figsize=(9,9))\n",
    "\n",
    "# Построим графики, которые покажут зависимость цены от заданных параметров.\n",
    "# чтобы расчитать корреляцию для типов этажей, переведем их значения в числа 1,2,3\n",
    "data['floor_type'] = data['floor_type'].replace('первый', 1) \n",
    "data['floor_type'] = data['floor_type'].replace('другой', 2) \n",
    "data['floor_type'] = data['floor_type'].replace('последний', 3) \n",
    "\n",
    "# заданные параметры объединим в data_for_corr и удалим для наглядности значения цены выше 7*10^7, что менее 0.5% значений\n",
    "print('Удалим для наглядности значения цены выше 7*10^7, что составляет в процентах', \n",
    "      round(100 - data.query('last_price < 70000000')['last_price'].count() \n",
    "       / data['last_price'].count() * 100,2),'%'\n",
    ")\n",
    "\n",
    "data_for_corr = data[['last_price','total_area', 'living_area', 'kitchen_area', 'rooms', 'floor_type', 'day_of_week', 'month']]\n",
    "\n",
    "print('Матрица корреляции:\\n', data_for_corr.corr()) # расчитаем корреляцию до удаления данных, чтобы не исказить результат\n",
    "\n",
    "data_for_corr = data_for_corr.query('last_price < 70000000') \n",
    "# построим матрицу диаграм рассеивания, верхние графики из матрицы будем использовать для анализа\n",
    "#, так как они изображают зависимость от цены\n",
    "pd.plotting.scatter_matrix(data_for_corr, figsize=(15, 15))\n",
    "\n",
    "\n"
   ]
  },
  {
   "cell_type": "markdown",
   "metadata": {},
   "source": [
    "Как видно из матрици корреляции(верхние графики), величина корреляции цены и\n",
    "- общей площади - средняя корреляция(максимальная из исследуемых),\n",
    "- жилой площади - средняя корреляция,\n",
    "- площади кухни - средняя корреляция,\n",
    "- количества комнат - низкая корреляция,\n",
    "- этажа, на котором расположена квартира (первый, последний, другой) - нет корреляции;\n",
    "- даты размещения (день недели, месяц) - нет корреляции.\n",
    "Вывод: больше всего на стоимость влияют площади квартир и их комнат."
   ]
  },
  {
   "cell_type": "code",
   "execution_count": 53,
   "metadata": {},
   "outputs": [
    {
     "name": "stdout",
     "output_type": "stream",
     "text": [
      "10 населённых пунктах с наибольшим числом объявлений:\n",
      " locality_name\n",
      "Санкт-Петербург      15721\n",
      "поселок Мурино         556\n",
      "поселок Шушары         440\n",
      "Всеволожск             398\n",
      "Пушкин                 369\n",
      "Колпино                338\n",
      "поселок Парголово      327\n",
      "Гатчина                307\n",
      "деревня Кудрово        299\n",
      "Выборг                 237\n",
      "Name: locality_name, dtype: int64\n",
      "Cредняя цена одного квадратного метра в 10 населённых пунктах с наибольшим числом объявлений:\n",
      " locality_name\n",
      "Санкт-Петербург      114849.0\n",
      "поселок Мурино        85682.0\n",
      "поселок Шушары        78677.0\n",
      "Всеволожск            68654.0\n",
      "Пушкин               103126.0\n",
      "Колпино               75425.0\n",
      "поселок Парголово     90176.0\n",
      "Гатчина               68746.0\n",
      "деревня Кудрово       92474.0\n",
      "Выборг                58142.0\n",
      "Name: m2_price, dtype: float64\n",
      "Самая высокая средняя стоимость квадратного метра в  Зеленогорск\n",
      "Самая низкая средняя стоимость квадратного метра в  деревня Старополье\n"
     ]
    }
   ],
   "source": [
    "#Посчитаем среднюю цену одного квадратного метра в 10 населённых пунктах с наибольшим числом объявлений.\n",
    "# Для этого сначала создадим таблицу max_cities с наименованиями населенных пунктов согласно такому условию\n",
    "max_cities = data.groupby('locality_name')['locality_name'].count().sort_values(ascending=False)[:10]\n",
    "print('10 населённых пунктах с наибольшим числом объявлений:\\n', max_cities)\n",
    "# затем создадим таблицу со средними ценами одного квадратного метра\n",
    "cities_m2_price_mean = data.groupby('locality_name')['m2_price'].mean()\n",
    "\n",
    "# затем объединим ее с общей таблицей, чтобы взять значения квадратных метров для этих населенных пунктов\n",
    "max_cities_m2_price_mean = max_cities.to_frame().join(cities_m2_price_mean)['m2_price']\n",
    "print('Cредняя цена одного квадратного метра в 10 населённых пунктах с наибольшим числом объявлений:\\n', round(max_cities_m2_price_mean))\n",
    "\n",
    "#Выделите населённые пункты с самой высокой и низкой средней стоимостью квадратного метра.\n",
    "print('Самая высокая средняя стоимость квадратного метра в ', cities_m2_price_mean.idxmax())\n",
    "print('Самая низкая средняя стоимость квадратного метра в ', cities_m2_price_mean.idxmin())\n",
    "\n"
   ]
  },
  {
   "cell_type": "code",
   "execution_count": 36,
   "metadata": {},
   "outputs": [
    {
     "data": {
      "text/plain": [
       "<AxesSubplot:xlabel='cityCenters_nearest'>"
      ]
     },
     "execution_count": 36,
     "metadata": {},
     "output_type": "execute_result"
    },
    {
     "data": {
      "image/png": "[encoded data removed]",
      "text/plain": [
       "<Figure size 720x360 with 1 Axes>"
      ]
     },
     "metadata": {
      "needs_background": "light"
     },
     "output_type": "display_data"
    }
   ],
   "source": [
    "# вычислим среднюю цену каждого километра до центра в Санкт-Петербурге - новый столбец cityCenters_km_price\n",
    "data = data.query('cityCenters_nearest != 0') # удаляем строки где растояние до центра 0 км\n",
    "data =  data.dropna(subset=['cityCenters_nearest']) # удаляем строки где значение NaN\n",
    "data_spb = data.query('locality_name == \"Санкт-Петербург\"').copy() # создадим таблицу с данными только по Санкт-Петербургу\n",
    "data_spb['cityCenters_km_price'] = data_spb['last_price'] / data_spb['cityCenters_nearest']\n",
    "\n",
    "# построим график зависимости стоимости объектов от расстояния до центра города.\n",
    "data_spb[['cityCenters_nearest','cityCenters_km_price']\n",
    "        ].groupby('cityCenters_nearest').mean().sort_values(by='cityCenters_nearest'\n",
    "                                                           ).plot(figsize=(10,5), grid=True)"
   ]
  },
  {
   "cell_type": "markdown",
   "metadata": {},
   "source": [
    "Вывод: <br> \n",
    "График зависимости стоимости объектов от расстояния до центра города показывает, что стоимость  увеличивается при приближении к центру города, причем это увеличение\n",
    "- умеренное до расстояния в 10 км до центра, \n",
    "- значительное при приближении далее до 5 км до центра,\n",
    "- и далее идет стремительное увеличение этой стоимости. "
   ]
  },
  {
   "cell_type": "markdown",
   "metadata": {},
   "source": [
    "### Общий вывод <a class=\"anchor\" id=\"chapter4\"></a>"
   ]
  },
  {
   "cell_type": "markdown",
   "metadata": {},
   "source": [
    "Данные прошли предобработку, в том числе\n",
    "- заполнены пропущенные значения там, где это возможно,\n",
    "- преобразованы типы данных в столбцах,\n",
    "- устранены неявные дубликаты в названиях населенных пунктов,\n",
    "- найдите и устраните редкие и выбивающиеся значения в высоте потолков.\n",
    "\n",
    "Добавлены в таблицу новые столбцы со следующими параметрами:\n",
    "    цена одного квадратного метра;\n",
    "    день недели публикации объявления (0 — понедельник, 1 — вторник и так далее);\n",
    "    месяц публикации объявления;\n",
    "    год публикации объявления;\n",
    "    тип этажа квартиры (значения — «‎первый», «последний», «другой»);\n",
    "    расстояние до центра города в километрах (переведите из м в км и округлите до целых значений).\n",
    "\n",
    "Исследовательский анализ данных выявил:\n",
    "\n",
    "I) На основе гистограмм:\n",
    "    1) Гистограммы, кроме day_of_week и month тяготеют к нормальному распреелению. Гистограммы day_of_week и month скорее отражают сезонность. \n",
    "    2)виден явный перекос в сторону квартир \"подешевле\", с меньшей площадью и другими соответсвующими дешевым квартирам параметрам. Таких квартир больше. \n",
    "    3) преобладают малоэтажные дома(до 20 этажей), \"небоскребов\" не там много \n",
    "    4) в будни люди чаще размещают объявления о продаже \n",
    "    5) летом происходит спад на рынке недвижимости, возможно по причине отпусков \n",
    "    6) близость к паркам преобладает над близостью к аэропортам, не все хотят слышал гул самолетов над головой \n",
    "    7) многокомнатные квартиры(более 5 комнат) - \"не в моде\"\n",
    "    \n",
    " II) В среднем квартира продавалась за  157 дней, причем медианное значение равно  74 дня   \n",
    " III) Из матрици корреляции обнаружили, что максимальная величина корреляции является между ценой и общей площадью\n",
    " IV) Самая высокая средняя стоимость квадратного метра в  Зеленогорске. Тогда как самая низкая средняя стоимость квадратного метра в  деревне Старополье \n",
    " V) стоимость недвижимости  увеличивается при приближении к центру города, причем стремительно при приближении ближе 5 км до центра\n",
    " \n",
    "    "
   ]
  }
 ],
 "metadata": {
  "ExecuteTimeLog": [
   {
    "duration": 723,
    "start_time": "2022-07-19T11:03:16.515Z"
   },
   {
    "duration": 109,
    "start_time": "2022-07-19T11:04:50.217Z"
   },
   {
    "duration": 2344,
    "start_time": "2022-07-19T11:05:25.193Z"
   },
   {
    "duration": 2019,
    "start_time": "2022-07-19T11:06:28.138Z"
   },
   {
    "duration": 2101,
    "start_time": "2022-07-19T11:09:37.774Z"
   },
   {
    "duration": 2021,
    "start_time": "2022-07-19T11:09:50.374Z"
   },
   {
    "duration": 26,
    "start_time": "2022-07-19T11:11:58.471Z"
   },
   {
    "duration": 10,
    "start_time": "2022-07-19T11:12:12.794Z"
   },
   {
    "duration": 9,
    "start_time": "2022-07-19T11:15:26.127Z"
   },
   {
    "duration": 10,
    "start_time": "2022-07-19T11:15:42.854Z"
   },
   {
    "duration": 10,
    "start_time": "2022-07-19T11:20:04.252Z"
   },
   {
    "duration": 11,
    "start_time": "2022-07-19T11:20:25.888Z"
   },
   {
    "duration": 77,
    "start_time": "2022-07-19T11:20:53.264Z"
   },
   {
    "duration": 14,
    "start_time": "2022-07-19T11:20:58.276Z"
   },
   {
    "duration": 10,
    "start_time": "2022-07-19T11:21:14.838Z"
   },
   {
    "duration": 12,
    "start_time": "2022-07-19T11:21:47.565Z"
   },
   {
    "duration": 11,
    "start_time": "2022-07-19T11:22:08.052Z"
   },
   {
    "duration": 12,
    "start_time": "2022-07-19T11:22:20.125Z"
   },
   {
    "duration": 1319,
    "start_time": "2022-07-19T11:23:16.473Z"
   },
   {
    "duration": 19,
    "start_time": "2022-07-19T11:23:35.843Z"
   },
   {
    "duration": 28,
    "start_time": "2022-07-19T11:23:46.991Z"
   },
   {
    "duration": 25,
    "start_time": "2022-07-19T11:24:11.662Z"
   },
   {
    "duration": 23,
    "start_time": "2022-07-19T11:24:26.928Z"
   },
   {
    "duration": 26,
    "start_time": "2022-07-19T11:24:48.900Z"
   },
   {
    "duration": 27,
    "start_time": "2022-07-19T11:25:06.611Z"
   },
   {
    "duration": 28,
    "start_time": "2022-07-19T11:25:09.474Z"
   },
   {
    "duration": 2010,
    "start_time": "2022-07-19T11:25:36.141Z"
   },
   {
    "duration": 8,
    "start_time": "2022-07-19T11:25:38.153Z"
   },
   {
    "duration": 2118,
    "start_time": "2022-07-19T11:26:01.654Z"
   },
   {
    "duration": 2750,
    "start_time": "2022-07-19T11:27:15.979Z"
   },
   {
    "duration": 8,
    "start_time": "2022-07-19T11:27:18.731Z"
   },
   {
    "duration": 42,
    "start_time": "2022-07-19T11:27:18.741Z"
   },
   {
    "duration": 2545,
    "start_time": "2022-07-19T11:32:48.511Z"
   },
   {
    "duration": 8,
    "start_time": "2022-07-19T11:32:51.059Z"
   },
   {
    "duration": 15,
    "start_time": "2022-07-19T11:32:51.068Z"
   },
   {
    "duration": 2588,
    "start_time": "2022-07-19T11:41:12.648Z"
   },
   {
    "duration": 11,
    "start_time": "2022-07-19T11:41:15.238Z"
   },
   {
    "duration": 27,
    "start_time": "2022-07-19T11:41:15.252Z"
   },
   {
    "duration": 73,
    "start_time": "2022-07-19T11:44:19.719Z"
   },
   {
    "duration": 6,
    "start_time": "2022-07-19T11:49:12.449Z"
   },
   {
    "duration": 8,
    "start_time": "2022-07-19T11:49:24.712Z"
   },
   {
    "duration": 7,
    "start_time": "2022-07-19T11:49:53.854Z"
   },
   {
    "duration": 6,
    "start_time": "2022-07-19T11:50:02.323Z"
   },
   {
    "duration": 8,
    "start_time": "2022-07-19T11:50:31.586Z"
   },
   {
    "duration": 9,
    "start_time": "2022-07-19T11:56:49.630Z"
   },
   {
    "duration": 6,
    "start_time": "2022-07-19T11:57:02.691Z"
   },
   {
    "duration": 6,
    "start_time": "2022-07-19T12:03:44.697Z"
   },
   {
    "duration": 5,
    "start_time": "2022-07-19T12:03:53.828Z"
   },
   {
    "duration": 12,
    "start_time": "2022-07-19T12:04:08.785Z"
   },
   {
    "duration": 2183,
    "start_time": "2022-07-19T12:05:08.938Z"
   },
   {
    "duration": 20,
    "start_time": "2022-07-19T12:05:24.598Z"
   },
   {
    "duration": 6,
    "start_time": "2022-07-19T12:08:58.291Z"
   },
   {
    "duration": 24,
    "start_time": "2022-07-19T12:09:41.031Z"
   },
   {
    "duration": 25,
    "start_time": "2022-07-19T12:10:31.518Z"
   },
   {
    "duration": 5,
    "start_time": "2022-07-19T12:10:59.742Z"
   },
   {
    "duration": 2851,
    "start_time": "2022-07-19T12:54:37.255Z"
   },
   {
    "duration": 14,
    "start_time": "2022-07-19T12:54:40.114Z"
   },
   {
    "duration": 12,
    "start_time": "2022-07-19T12:54:40.130Z"
   },
   {
    "duration": 42,
    "start_time": "2022-07-19T12:54:40.145Z"
   },
   {
    "duration": 6,
    "start_time": "2022-07-19T12:54:40.189Z"
   },
   {
    "duration": 33,
    "start_time": "2022-07-19T12:57:24.995Z"
   },
   {
    "duration": 8,
    "start_time": "2022-07-19T12:59:51.140Z"
   },
   {
    "duration": 7,
    "start_time": "2022-07-19T13:00:39.223Z"
   },
   {
    "duration": 7,
    "start_time": "2022-07-19T13:02:49.143Z"
   },
   {
    "duration": 73,
    "start_time": "2022-07-19T13:04:06.920Z"
   },
   {
    "duration": 9,
    "start_time": "2022-07-19T13:04:10.966Z"
   },
   {
    "duration": 68,
    "start_time": "2022-07-19T13:05:07.794Z"
   },
   {
    "duration": 18,
    "start_time": "2022-07-19T13:05:13.525Z"
   },
   {
    "duration": 44,
    "start_time": "2022-07-19T19:06:42.716Z"
   },
   {
    "duration": 2758,
    "start_time": "2022-07-19T19:06:49.258Z"
   },
   {
    "duration": 9,
    "start_time": "2022-07-19T19:06:52.018Z"
   },
   {
    "duration": 10,
    "start_time": "2022-07-19T19:06:52.028Z"
   },
   {
    "duration": 24,
    "start_time": "2022-07-19T19:06:52.041Z"
   },
   {
    "duration": 21,
    "start_time": "2022-07-19T19:07:00.671Z"
   },
   {
    "duration": 18,
    "start_time": "2022-07-19T19:07:39.665Z"
   },
   {
    "duration": 1387,
    "start_time": "2022-07-19T20:22:05.950Z"
   },
   {
    "duration": 318,
    "start_time": "2022-07-19T20:22:50.480Z"
   },
   {
    "duration": 327,
    "start_time": "2022-07-19T20:23:51.664Z"
   },
   {
    "duration": 93,
    "start_time": "2022-07-19T20:25:10.566Z"
   },
   {
    "duration": 6,
    "start_time": "2022-07-19T20:45:27.105Z"
   },
   {
    "duration": 8,
    "start_time": "2022-07-19T20:46:18.522Z"
   },
   {
    "duration": 5,
    "start_time": "2022-07-19T20:46:37.871Z"
   },
   {
    "duration": 305,
    "start_time": "2022-07-19T20:48:45.759Z"
   },
   {
    "duration": 77,
    "start_time": "2022-07-19T20:50:10.459Z"
   },
   {
    "duration": 290,
    "start_time": "2022-07-19T20:50:26.421Z"
   },
   {
    "duration": 3,
    "start_time": "2022-07-19T20:57:22.196Z"
   },
   {
    "duration": 3,
    "start_time": "2022-07-19T20:57:49.305Z"
   },
   {
    "duration": 33,
    "start_time": "2022-07-19T20:58:00.613Z"
   },
   {
    "duration": 32,
    "start_time": "2022-07-19T20:59:55.497Z"
   },
   {
    "duration": 33,
    "start_time": "2022-07-19T21:00:34.341Z"
   },
   {
    "duration": 94,
    "start_time": "2022-07-19T21:02:52.755Z"
   },
   {
    "duration": 311,
    "start_time": "2022-07-19T21:03:08.630Z"
   },
   {
    "duration": 36,
    "start_time": "2022-07-19T21:03:54.856Z"
   },
   {
    "duration": 2719,
    "start_time": "2022-07-19T21:10:09.097Z"
   },
   {
    "duration": 15,
    "start_time": "2022-07-19T21:10:11.819Z"
   },
   {
    "duration": 10,
    "start_time": "2022-07-19T21:10:11.836Z"
   },
   {
    "duration": 29,
    "start_time": "2022-07-19T21:10:11.848Z"
   },
   {
    "duration": 442,
    "start_time": "2022-07-19T21:10:11.880Z"
   },
   {
    "duration": 309,
    "start_time": "2022-07-19T21:10:28.398Z"
   },
   {
    "duration": 297,
    "start_time": "2022-07-19T21:10:59.067Z"
   },
   {
    "duration": 9,
    "start_time": "2022-07-19T21:13:57.104Z"
   },
   {
    "duration": 16,
    "start_time": "2022-07-19T21:15:17.497Z"
   },
   {
    "duration": 328,
    "start_time": "2022-07-19T21:16:02.299Z"
   },
   {
    "duration": 26,
    "start_time": "2022-07-19T21:17:12.325Z"
   },
   {
    "duration": 30,
    "start_time": "2022-07-19T21:17:54.419Z"
   },
   {
    "duration": 34,
    "start_time": "2022-07-19T21:18:03.817Z"
   },
   {
    "duration": 336,
    "start_time": "2022-07-19T21:18:29.690Z"
   },
   {
    "duration": 23,
    "start_time": "2022-07-19T21:18:41.727Z"
   },
   {
    "duration": 338,
    "start_time": "2022-07-19T21:18:52.141Z"
   },
   {
    "duration": 26,
    "start_time": "2022-07-19T21:19:28.055Z"
   },
   {
    "duration": 24,
    "start_time": "2022-07-19T21:19:34.506Z"
   },
   {
    "duration": 15,
    "start_time": "2022-07-19T21:19:59.588Z"
   },
   {
    "duration": 21,
    "start_time": "2022-07-19T21:21:05.671Z"
   },
   {
    "duration": 402,
    "start_time": "2022-07-19T21:21:47.388Z"
   },
   {
    "duration": 15,
    "start_time": "2022-07-19T21:22:04.565Z"
   },
   {
    "duration": 18,
    "start_time": "2022-07-19T21:22:56.357Z"
   },
   {
    "duration": 28,
    "start_time": "2022-07-19T21:23:03.021Z"
   },
   {
    "duration": 51,
    "start_time": "2022-07-19T21:23:15.098Z"
   },
   {
    "duration": 75,
    "start_time": "2022-07-19T21:23:25.489Z"
   },
   {
    "duration": 37,
    "start_time": "2022-07-19T21:23:38.771Z"
   },
   {
    "duration": 18,
    "start_time": "2022-07-19T21:25:50.213Z"
   },
   {
    "duration": 18,
    "start_time": "2022-07-19T21:25:55.542Z"
   },
   {
    "duration": 14,
    "start_time": "2022-07-19T21:26:09.051Z"
   },
   {
    "duration": 1213,
    "start_time": "2022-07-19T21:26:39.582Z"
   },
   {
    "duration": 22,
    "start_time": "2022-07-19T21:26:45.946Z"
   },
   {
    "duration": 12,
    "start_time": "2022-07-19T21:27:25.156Z"
   },
   {
    "duration": 13,
    "start_time": "2022-07-19T21:27:38.985Z"
   },
   {
    "duration": 7,
    "start_time": "2022-07-19T21:28:33.616Z"
   },
   {
    "duration": 60,
    "start_time": "2022-07-19T21:29:59.250Z"
   },
   {
    "duration": 330,
    "start_time": "2022-07-19T21:31:08.372Z"
   },
   {
    "duration": 2419,
    "start_time": "2022-07-19T21:31:18.709Z"
   },
   {
    "duration": 8,
    "start_time": "2022-07-19T21:31:21.130Z"
   },
   {
    "duration": 22,
    "start_time": "2022-07-19T21:31:21.139Z"
   },
   {
    "duration": 16,
    "start_time": "2022-07-19T21:31:21.163Z"
   },
   {
    "duration": 390,
    "start_time": "2022-07-19T21:31:21.180Z"
   },
   {
    "duration": 0,
    "start_time": "2022-07-19T21:31:21.572Z"
   },
   {
    "duration": 27,
    "start_time": "2022-07-19T21:39:48.366Z"
   },
   {
    "duration": 396,
    "start_time": "2022-07-19T21:40:03.255Z"
   },
   {
    "duration": 533,
    "start_time": "2022-07-19T21:40:14.437Z"
   },
   {
    "duration": 2459,
    "start_time": "2022-07-19T21:40:51.873Z"
   },
   {
    "duration": 8,
    "start_time": "2022-07-19T21:40:54.334Z"
   },
   {
    "duration": 19,
    "start_time": "2022-07-19T21:40:54.344Z"
   },
   {
    "duration": 15,
    "start_time": "2022-07-19T21:40:54.365Z"
   },
   {
    "duration": 43,
    "start_time": "2022-07-19T21:40:54.381Z"
   },
   {
    "duration": 46,
    "start_time": "2022-07-19T21:40:54.425Z"
   },
   {
    "duration": 419,
    "start_time": "2022-07-19T21:41:04.243Z"
   },
   {
    "duration": 2428,
    "start_time": "2022-07-19T21:41:45.224Z"
   },
   {
    "duration": 10,
    "start_time": "2022-07-19T21:41:47.654Z"
   },
   {
    "duration": 10,
    "start_time": "2022-07-19T21:41:47.665Z"
   },
   {
    "duration": 25,
    "start_time": "2022-07-19T21:41:47.677Z"
   },
   {
    "duration": 37,
    "start_time": "2022-07-19T21:41:47.703Z"
   },
   {
    "duration": 65,
    "start_time": "2022-07-19T21:41:47.741Z"
   },
   {
    "duration": 34,
    "start_time": "2022-07-19T21:41:58.603Z"
   },
   {
    "duration": 3024,
    "start_time": "2022-07-20T06:44:07.070Z"
   },
   {
    "duration": 9,
    "start_time": "2022-07-20T06:44:10.096Z"
   },
   {
    "duration": 11,
    "start_time": "2022-07-20T06:44:10.107Z"
   },
   {
    "duration": 26,
    "start_time": "2022-07-20T06:44:10.119Z"
   },
   {
    "duration": 63,
    "start_time": "2022-07-20T06:44:10.148Z"
   },
   {
    "duration": 2,
    "start_time": "2022-07-20T06:44:10.214Z"
   },
   {
    "duration": 1418,
    "start_time": "2022-07-20T06:44:26.741Z"
   },
   {
    "duration": 5,
    "start_time": "2022-07-20T06:46:41.775Z"
   },
   {
    "duration": 4,
    "start_time": "2022-07-20T06:47:11.610Z"
   },
   {
    "duration": 5,
    "start_time": "2022-07-20T06:47:22.027Z"
   },
   {
    "duration": 72,
    "start_time": "2022-07-20T06:49:50.865Z"
   },
   {
    "duration": 12,
    "start_time": "2022-07-20T06:50:11.512Z"
   },
   {
    "duration": 12,
    "start_time": "2022-07-20T06:50:15.490Z"
   },
   {
    "duration": 12,
    "start_time": "2022-07-20T06:50:25.355Z"
   },
   {
    "duration": 2186,
    "start_time": "2022-07-20T06:52:56.444Z"
   },
   {
    "duration": 9,
    "start_time": "2022-07-20T06:52:58.632Z"
   },
   {
    "duration": 27,
    "start_time": "2022-07-20T06:52:58.642Z"
   },
   {
    "duration": 16,
    "start_time": "2022-07-20T06:52:58.671Z"
   },
   {
    "duration": 48,
    "start_time": "2022-07-20T06:52:58.689Z"
   },
   {
    "duration": 2867,
    "start_time": "2022-07-20T06:53:02.907Z"
   },
   {
    "duration": 10,
    "start_time": "2022-07-20T06:53:05.776Z"
   },
   {
    "duration": 11,
    "start_time": "2022-07-20T06:53:05.788Z"
   },
   {
    "duration": 20,
    "start_time": "2022-07-20T06:53:05.801Z"
   },
   {
    "duration": 42,
    "start_time": "2022-07-20T06:53:05.824Z"
   },
   {
    "duration": 78,
    "start_time": "2022-07-20T06:53:05.868Z"
   },
   {
    "duration": 124,
    "start_time": "2022-07-20T06:53:29.487Z"
   },
   {
    "duration": 99,
    "start_time": "2022-07-20T06:55:21.757Z"
   },
   {
    "duration": 72,
    "start_time": "2022-07-20T06:56:12.903Z"
   },
   {
    "duration": 95,
    "start_time": "2022-07-20T06:56:20.684Z"
   },
   {
    "duration": 74,
    "start_time": "2022-07-20T06:56:36.266Z"
   },
   {
    "duration": 103,
    "start_time": "2022-07-20T06:57:21.738Z"
   },
   {
    "duration": 77,
    "start_time": "2022-07-20T06:57:54.593Z"
   },
   {
    "duration": 87,
    "start_time": "2022-07-20T06:58:01.997Z"
   },
   {
    "duration": 76,
    "start_time": "2022-07-20T06:58:08.656Z"
   },
   {
    "duration": 76,
    "start_time": "2022-07-20T06:58:22.038Z"
   },
   {
    "duration": 17,
    "start_time": "2022-07-20T06:58:47.235Z"
   },
   {
    "duration": 177,
    "start_time": "2022-07-20T07:00:02.836Z"
   },
   {
    "duration": 80,
    "start_time": "2022-07-20T07:00:12.863Z"
   },
   {
    "duration": 17,
    "start_time": "2022-07-20T07:01:11.631Z"
   },
   {
    "duration": 21,
    "start_time": "2022-07-20T07:01:24.850Z"
   },
   {
    "duration": 2873,
    "start_time": "2022-07-20T07:01:31.009Z"
   },
   {
    "duration": 9,
    "start_time": "2022-07-20T07:01:33.884Z"
   },
   {
    "duration": 10,
    "start_time": "2022-07-20T07:01:33.895Z"
   },
   {
    "duration": 17,
    "start_time": "2022-07-20T07:01:33.907Z"
   },
   {
    "duration": 43,
    "start_time": "2022-07-20T07:01:33.926Z"
   },
   {
    "duration": 36,
    "start_time": "2022-07-20T07:01:33.971Z"
   },
   {
    "duration": 73,
    "start_time": "2022-07-20T07:02:57.087Z"
   },
   {
    "duration": 18,
    "start_time": "2022-07-20T07:03:48.190Z"
   },
   {
    "duration": 2897,
    "start_time": "2022-07-20T07:03:56.821Z"
   },
   {
    "duration": 11,
    "start_time": "2022-07-20T07:03:59.720Z"
   },
   {
    "duration": 9,
    "start_time": "2022-07-20T07:03:59.733Z"
   },
   {
    "duration": 17,
    "start_time": "2022-07-20T07:03:59.745Z"
   },
   {
    "duration": 61,
    "start_time": "2022-07-20T07:03:59.764Z"
   },
   {
    "duration": 17,
    "start_time": "2022-07-20T07:03:59.827Z"
   },
   {
    "duration": 2995,
    "start_time": "2022-07-20T07:07:15.386Z"
   },
   {
    "duration": 10,
    "start_time": "2022-07-20T07:07:18.384Z"
   },
   {
    "duration": 15,
    "start_time": "2022-07-20T07:07:18.397Z"
   },
   {
    "duration": 22,
    "start_time": "2022-07-20T07:07:18.415Z"
   },
   {
    "duration": 45,
    "start_time": "2022-07-20T07:07:18.439Z"
   },
   {
    "duration": 43,
    "start_time": "2022-07-20T07:07:18.486Z"
   },
   {
    "duration": 2888,
    "start_time": "2022-07-20T07:09:52.189Z"
   },
   {
    "duration": 12,
    "start_time": "2022-07-20T07:09:55.080Z"
   },
   {
    "duration": 17,
    "start_time": "2022-07-20T07:09:55.094Z"
   },
   {
    "duration": 19,
    "start_time": "2022-07-20T07:09:55.114Z"
   },
   {
    "duration": 45,
    "start_time": "2022-07-20T07:09:55.135Z"
   },
   {
    "duration": 30,
    "start_time": "2022-07-20T07:09:55.181Z"
   },
   {
    "duration": 95,
    "start_time": "2022-07-20T07:13:19.590Z"
   },
   {
    "duration": 26,
    "start_time": "2022-07-20T07:13:43.090Z"
   },
   {
    "duration": 2891,
    "start_time": "2022-07-20T07:13:54.802Z"
   },
   {
    "duration": 12,
    "start_time": "2022-07-20T07:13:57.695Z"
   },
   {
    "duration": 20,
    "start_time": "2022-07-20T07:13:57.708Z"
   },
   {
    "duration": 18,
    "start_time": "2022-07-20T07:13:57.730Z"
   },
   {
    "duration": 42,
    "start_time": "2022-07-20T07:13:57.750Z"
   },
   {
    "duration": 37,
    "start_time": "2022-07-20T07:13:57.793Z"
   },
   {
    "duration": 19,
    "start_time": "2022-07-20T07:14:27.587Z"
   },
   {
    "duration": 2922,
    "start_time": "2022-07-20T07:14:34.879Z"
   },
   {
    "duration": 12,
    "start_time": "2022-07-20T07:14:37.804Z"
   },
   {
    "duration": 12,
    "start_time": "2022-07-20T07:14:37.818Z"
   },
   {
    "duration": 20,
    "start_time": "2022-07-20T07:14:37.832Z"
   },
   {
    "duration": 75,
    "start_time": "2022-07-20T07:14:37.854Z"
   },
   {
    "duration": 21,
    "start_time": "2022-07-20T07:14:37.930Z"
   },
   {
    "duration": 104,
    "start_time": "2022-07-20T07:17:07.034Z"
   },
   {
    "duration": 113,
    "start_time": "2022-07-20T07:17:28.083Z"
   },
   {
    "duration": 24,
    "start_time": "2022-07-20T07:21:26.682Z"
   },
   {
    "duration": 28,
    "start_time": "2022-07-20T07:21:34.488Z"
   },
   {
    "duration": 2971,
    "start_time": "2022-07-20T07:21:43.162Z"
   },
   {
    "duration": 12,
    "start_time": "2022-07-20T07:21:46.136Z"
   },
   {
    "duration": 15,
    "start_time": "2022-07-20T07:21:46.150Z"
   },
   {
    "duration": 18,
    "start_time": "2022-07-20T07:21:46.167Z"
   },
   {
    "duration": 48,
    "start_time": "2022-07-20T07:21:46.186Z"
   },
   {
    "duration": 27,
    "start_time": "2022-07-20T07:21:46.236Z"
   },
   {
    "duration": 54,
    "start_time": "2022-07-20T07:37:32.729Z"
   },
   {
    "duration": 10,
    "start_time": "2022-07-20T07:38:06.528Z"
   },
   {
    "duration": 8,
    "start_time": "2022-07-20T07:38:26.971Z"
   },
   {
    "duration": 7,
    "start_time": "2022-07-20T07:49:03.887Z"
   },
   {
    "duration": 7,
    "start_time": "2022-07-20T07:50:05.353Z"
   },
   {
    "duration": 8,
    "start_time": "2022-07-20T07:50:22.044Z"
   },
   {
    "duration": 70,
    "start_time": "2022-07-20T07:51:02.158Z"
   },
   {
    "duration": 7,
    "start_time": "2022-07-20T07:51:34.227Z"
   },
   {
    "duration": 8,
    "start_time": "2022-07-20T07:51:42.372Z"
   },
   {
    "duration": 59,
    "start_time": "2022-07-20T07:51:54.450Z"
   },
   {
    "duration": 17,
    "start_time": "2022-07-20T07:52:18.996Z"
   },
   {
    "duration": 14,
    "start_time": "2022-07-20T07:52:53.332Z"
   },
   {
    "duration": 8,
    "start_time": "2022-07-20T07:53:13.684Z"
   },
   {
    "duration": 7,
    "start_time": "2022-07-20T07:53:39.013Z"
   },
   {
    "duration": 6,
    "start_time": "2022-07-20T07:53:52.216Z"
   },
   {
    "duration": 6,
    "start_time": "2022-07-20T07:54:07.739Z"
   },
   {
    "duration": 15,
    "start_time": "2022-07-20T07:56:57.054Z"
   },
   {
    "duration": 2826,
    "start_time": "2022-07-20T07:57:34.363Z"
   },
   {
    "duration": 9,
    "start_time": "2022-07-20T07:57:37.191Z"
   },
   {
    "duration": 9,
    "start_time": "2022-07-20T07:57:37.201Z"
   },
   {
    "duration": 20,
    "start_time": "2022-07-20T07:57:37.212Z"
   },
   {
    "duration": 43,
    "start_time": "2022-07-20T07:57:37.234Z"
   },
   {
    "duration": 29,
    "start_time": "2022-07-20T07:57:37.279Z"
   },
   {
    "duration": 5,
    "start_time": "2022-07-20T07:57:37.310Z"
   },
   {
    "duration": 17,
    "start_time": "2022-07-20T07:57:37.317Z"
   },
   {
    "duration": 6,
    "start_time": "2022-07-20T07:57:58.763Z"
   },
   {
    "duration": 5,
    "start_time": "2022-07-20T07:58:22.745Z"
   },
   {
    "duration": 7,
    "start_time": "2022-07-20T07:58:54.515Z"
   },
   {
    "duration": 6,
    "start_time": "2022-07-20T07:58:57.980Z"
   },
   {
    "duration": 24,
    "start_time": "2022-07-20T07:59:19.293Z"
   },
   {
    "duration": 51,
    "start_time": "2022-07-20T08:03:02.741Z"
   },
   {
    "duration": 43,
    "start_time": "2022-07-20T08:03:55.209Z"
   },
   {
    "duration": 7,
    "start_time": "2022-07-20T08:06:10.090Z"
   },
   {
    "duration": 90,
    "start_time": "2022-07-20T08:06:16.722Z"
   },
   {
    "duration": 8,
    "start_time": "2022-07-20T08:06:23.956Z"
   },
   {
    "duration": 7,
    "start_time": "2022-07-20T08:07:30.232Z"
   },
   {
    "duration": 11,
    "start_time": "2022-07-20T08:08:17.372Z"
   },
   {
    "duration": 11,
    "start_time": "2022-07-20T08:08:28.324Z"
   },
   {
    "duration": 11,
    "start_time": "2022-07-20T08:08:37.392Z"
   },
   {
    "duration": 11,
    "start_time": "2022-07-20T08:08:40.273Z"
   },
   {
    "duration": 74,
    "start_time": "2022-07-20T08:09:25.355Z"
   },
   {
    "duration": 7,
    "start_time": "2022-07-20T08:09:59.457Z"
   },
   {
    "duration": 2807,
    "start_time": "2022-07-20T08:14:45.058Z"
   },
   {
    "duration": 9,
    "start_time": "2022-07-20T08:14:47.867Z"
   },
   {
    "duration": 9,
    "start_time": "2022-07-20T08:14:47.878Z"
   },
   {
    "duration": 18,
    "start_time": "2022-07-20T08:14:47.889Z"
   },
   {
    "duration": 39,
    "start_time": "2022-07-20T08:14:47.909Z"
   },
   {
    "duration": 18,
    "start_time": "2022-07-20T08:14:47.949Z"
   },
   {
    "duration": 8,
    "start_time": "2022-07-20T08:14:47.968Z"
   },
   {
    "duration": 6,
    "start_time": "2022-07-20T08:25:15.849Z"
   },
   {
    "duration": 6,
    "start_time": "2022-07-20T08:25:21.550Z"
   },
   {
    "duration": 6,
    "start_time": "2022-07-20T08:25:25.392Z"
   },
   {
    "duration": 6,
    "start_time": "2022-07-20T08:25:31.250Z"
   },
   {
    "duration": 5,
    "start_time": "2022-07-20T08:26:14.462Z"
   },
   {
    "duration": 84,
    "start_time": "2022-07-20T08:26:44.445Z"
   },
   {
    "duration": 134,
    "start_time": "2022-07-20T08:27:47.794Z"
   },
   {
    "duration": 11,
    "start_time": "2022-07-20T08:28:32.873Z"
   },
   {
    "duration": 8,
    "start_time": "2022-07-20T08:29:00.447Z"
   },
   {
    "duration": 48,
    "start_time": "2022-07-20T08:29:05.545Z"
   },
   {
    "duration": 42,
    "start_time": "2022-07-20T08:29:39.356Z"
   },
   {
    "duration": 48,
    "start_time": "2022-07-20T08:30:22.649Z"
   },
   {
    "duration": 3265,
    "start_time": "2022-07-20T08:30:39.771Z"
   },
   {
    "duration": 11,
    "start_time": "2022-07-20T08:30:43.039Z"
   },
   {
    "duration": 11,
    "start_time": "2022-07-20T08:30:43.053Z"
   },
   {
    "duration": 22,
    "start_time": "2022-07-20T08:30:43.066Z"
   },
   {
    "duration": 70,
    "start_time": "2022-07-20T08:30:43.090Z"
   },
   {
    "duration": 126,
    "start_time": "2022-07-20T08:30:43.162Z"
   },
   {
    "duration": 109,
    "start_time": "2022-07-20T08:30:43.289Z"
   },
   {
    "duration": 60,
    "start_time": "2022-07-20T13:18:27.464Z"
   },
   {
    "duration": 3368,
    "start_time": "2022-07-20T13:18:39.554Z"
   },
   {
    "duration": 10,
    "start_time": "2022-07-20T13:18:42.925Z"
   },
   {
    "duration": 11,
    "start_time": "2022-07-20T13:18:42.937Z"
   },
   {
    "duration": 17,
    "start_time": "2022-07-20T13:18:42.950Z"
   },
   {
    "duration": 59,
    "start_time": "2022-07-20T13:18:42.969Z"
   },
   {
    "duration": 25,
    "start_time": "2022-07-20T13:18:43.030Z"
   },
   {
    "duration": 59,
    "start_time": "2022-07-20T13:18:48.153Z"
   },
   {
    "duration": 90,
    "start_time": "2022-07-20T13:19:52.352Z"
   },
   {
    "duration": 440,
    "start_time": "2022-07-20T13:24:48.048Z"
   },
   {
    "duration": 31,
    "start_time": "2022-07-20T13:29:34.863Z"
   },
   {
    "duration": 443,
    "start_time": "2022-07-20T13:30:11.361Z"
   },
   {
    "duration": 33,
    "start_time": "2022-07-20T13:34:25.632Z"
   },
   {
    "duration": 40,
    "start_time": "2022-07-20T13:35:42.026Z"
   },
   {
    "duration": 27,
    "start_time": "2022-07-20T13:36:27.563Z"
   },
   {
    "duration": 335,
    "start_time": "2022-07-20T13:36:52.884Z"
   },
   {
    "duration": 410,
    "start_time": "2022-07-20T13:37:04.942Z"
   },
   {
    "duration": 471,
    "start_time": "2022-07-20T13:37:21.876Z"
   },
   {
    "duration": 3270,
    "start_time": "2022-07-20T19:03:18.710Z"
   },
   {
    "duration": 9,
    "start_time": "2022-07-20T19:03:21.983Z"
   },
   {
    "duration": 10,
    "start_time": "2022-07-20T19:03:21.994Z"
   },
   {
    "duration": 18,
    "start_time": "2022-07-20T19:03:26.511Z"
   },
   {
    "duration": 15,
    "start_time": "2022-07-20T19:04:14.385Z"
   },
   {
    "duration": 26,
    "start_time": "2022-07-20T19:05:17.548Z"
   },
   {
    "duration": 74,
    "start_time": "2022-07-20T19:12:29.851Z"
   },
   {
    "duration": 8,
    "start_time": "2022-07-20T19:59:33.481Z"
   },
   {
    "duration": 12,
    "start_time": "2022-07-20T20:00:42.375Z"
   },
   {
    "duration": 8,
    "start_time": "2022-07-20T20:01:17.373Z"
   },
   {
    "duration": 20,
    "start_time": "2022-07-20T20:02:19.235Z"
   },
   {
    "duration": 34,
    "start_time": "2022-07-20T20:02:45.800Z"
   },
   {
    "duration": 2027,
    "start_time": "2022-07-20T21:10:44.005Z"
   },
   {
    "duration": 12,
    "start_time": "2022-07-20T21:10:46.035Z"
   },
   {
    "duration": 12,
    "start_time": "2022-07-20T21:10:46.050Z"
   },
   {
    "duration": 43,
    "start_time": "2022-07-20T21:10:46.064Z"
   },
   {
    "duration": 17,
    "start_time": "2022-07-20T21:10:46.109Z"
   },
   {
    "duration": 33,
    "start_time": "2022-07-20T21:10:46.128Z"
   },
   {
    "duration": 70,
    "start_time": "2022-07-20T21:10:46.162Z"
   },
   {
    "duration": 19,
    "start_time": "2022-07-20T21:10:46.234Z"
   },
   {
    "duration": 340,
    "start_time": "2022-07-20T21:10:54.035Z"
   },
   {
    "duration": 322,
    "start_time": "2022-07-20T21:24:47.121Z"
   },
   {
    "duration": 439,
    "start_time": "2022-07-20T21:25:27.272Z"
   },
   {
    "duration": 52,
    "start_time": "2022-07-20T21:25:55.791Z"
   },
   {
    "duration": 62,
    "start_time": "2022-07-20T21:26:27.424Z"
   },
   {
    "duration": 325,
    "start_time": "2022-07-20T21:27:22.905Z"
   },
   {
    "duration": 326,
    "start_time": "2022-07-20T21:27:47.307Z"
   },
   {
    "duration": 2019,
    "start_time": "2022-07-20T21:27:54.535Z"
   },
   {
    "duration": 10,
    "start_time": "2022-07-20T21:27:56.556Z"
   },
   {
    "duration": 11,
    "start_time": "2022-07-20T21:27:56.567Z"
   },
   {
    "duration": 29,
    "start_time": "2022-07-20T21:27:56.580Z"
   },
   {
    "duration": 16,
    "start_time": "2022-07-20T21:27:56.610Z"
   },
   {
    "duration": 26,
    "start_time": "2022-07-20T21:27:56.627Z"
   },
   {
    "duration": 58,
    "start_time": "2022-07-20T21:27:56.655Z"
   },
   {
    "duration": 17,
    "start_time": "2022-07-20T21:27:56.715Z"
   },
   {
    "duration": 306,
    "start_time": "2022-07-20T21:28:10.260Z"
   },
   {
    "duration": 1797,
    "start_time": "2022-07-20T21:29:55.656Z"
   },
   {
    "duration": 1841,
    "start_time": "2022-07-20T21:33:48.981Z"
   },
   {
    "duration": 2298,
    "start_time": "2022-07-20T21:34:01.003Z"
   },
   {
    "duration": 2662,
    "start_time": "2022-07-20T21:34:17.864Z"
   },
   {
    "duration": 7,
    "start_time": "2022-07-20T21:35:27.851Z"
   },
   {
    "duration": 133,
    "start_time": "2022-07-20T21:35:50.520Z"
   },
   {
    "duration": 134,
    "start_time": "2022-07-20T21:36:07.387Z"
   },
   {
    "duration": 12,
    "start_time": "2022-07-20T21:36:38.823Z"
   },
   {
    "duration": 0,
    "start_time": "2022-07-20T21:38:06.103Z"
   },
   {
    "duration": 127,
    "start_time": "2022-07-20T21:38:07.288Z"
   },
   {
    "duration": 7,
    "start_time": "2022-07-20T21:38:23.579Z"
   },
   {
    "duration": 130,
    "start_time": "2022-07-20T21:41:01.873Z"
   },
   {
    "duration": 149,
    "start_time": "2022-07-20T21:41:08.086Z"
   },
   {
    "duration": 8,
    "start_time": "2022-07-20T21:41:59.656Z"
   },
   {
    "duration": 122,
    "start_time": "2022-07-20T21:42:27.067Z"
   },
   {
    "duration": 9,
    "start_time": "2022-07-20T21:47:23.293Z"
   },
   {
    "duration": 10,
    "start_time": "2022-07-20T21:47:43.325Z"
   },
   {
    "duration": 12,
    "start_time": "2022-07-20T21:50:55.370Z"
   },
   {
    "duration": 9,
    "start_time": "2022-07-20T21:52:15.836Z"
   },
   {
    "duration": 790,
    "start_time": "2022-07-20T21:52:24.923Z"
   },
   {
    "duration": 108,
    "start_time": "2022-07-20T21:53:52.129Z"
   },
   {
    "duration": 327,
    "start_time": "2022-07-20T21:57:39.843Z"
   },
   {
    "duration": 2431,
    "start_time": "2022-07-20T21:58:10.411Z"
   },
   {
    "duration": 1482,
    "start_time": "2022-07-20T22:04:28.219Z"
   },
   {
    "duration": 53,
    "start_time": "2022-07-20T22:05:16.875Z"
   },
   {
    "duration": 166,
    "start_time": "2022-07-20T22:05:25.503Z"
   },
   {
    "duration": 5,
    "start_time": "2022-07-20T22:05:29.755Z"
   },
   {
    "duration": 6,
    "start_time": "2022-07-20T22:05:42.963Z"
   },
   {
    "duration": 3375,
    "start_time": "2022-07-21T07:08:00.833Z"
   },
   {
    "duration": 14,
    "start_time": "2022-07-21T07:08:04.213Z"
   },
   {
    "duration": 13,
    "start_time": "2022-07-21T07:08:04.229Z"
   },
   {
    "duration": 19,
    "start_time": "2022-07-21T07:08:04.244Z"
   },
   {
    "duration": 19,
    "start_time": "2022-07-21T07:08:04.265Z"
   },
   {
    "duration": 36,
    "start_time": "2022-07-21T07:08:04.311Z"
   },
   {
    "duration": 60,
    "start_time": "2022-07-21T07:08:04.349Z"
   },
   {
    "duration": 32,
    "start_time": "2022-07-21T07:08:04.411Z"
   },
   {
    "duration": 356,
    "start_time": "2022-07-21T07:08:04.445Z"
   },
   {
    "duration": 1738,
    "start_time": "2022-07-21T07:08:07.797Z"
   },
   {
    "duration": 1623,
    "start_time": "2022-07-21T07:08:26.717Z"
   },
   {
    "duration": 1823,
    "start_time": "2022-07-21T07:08:47.032Z"
   },
   {
    "duration": 1643,
    "start_time": "2022-07-21T07:09:12.083Z"
   },
   {
    "duration": 1759,
    "start_time": "2022-07-21T07:14:28.819Z"
   },
   {
    "duration": 2050,
    "start_time": "2022-07-21T07:14:45.911Z"
   },
   {
    "duration": 6,
    "start_time": "2022-07-21T07:29:59.173Z"
   },
   {
    "duration": 7,
    "start_time": "2022-07-21T07:30:06.164Z"
   },
   {
    "duration": 156,
    "start_time": "2022-07-21T07:30:15.061Z"
   },
   {
    "duration": 269,
    "start_time": "2022-07-21T07:30:29.152Z"
   },
   {
    "duration": 176,
    "start_time": "2022-07-21T07:30:36.667Z"
   },
   {
    "duration": 185,
    "start_time": "2022-07-21T07:31:21.991Z"
   },
   {
    "duration": 151,
    "start_time": "2022-07-21T07:31:39.755Z"
   },
   {
    "duration": 176,
    "start_time": "2022-07-21T07:31:49.257Z"
   },
   {
    "duration": 183,
    "start_time": "2022-07-21T07:31:58.117Z"
   },
   {
    "duration": 221,
    "start_time": "2022-07-21T07:32:34.503Z"
   },
   {
    "duration": 195,
    "start_time": "2022-07-21T07:32:41.048Z"
   },
   {
    "duration": 203,
    "start_time": "2022-07-21T07:33:42.448Z"
   },
   {
    "duration": 199,
    "start_time": "2022-07-21T07:35:43.577Z"
   },
   {
    "duration": 201,
    "start_time": "2022-07-21T07:35:59.889Z"
   },
   {
    "duration": 216,
    "start_time": "2022-07-21T07:36:07.064Z"
   },
   {
    "duration": 194,
    "start_time": "2022-07-21T07:36:24.323Z"
   },
   {
    "duration": 285,
    "start_time": "2022-07-21T07:36:30.307Z"
   },
   {
    "duration": 59,
    "start_time": "2022-07-21T07:37:39.566Z"
   },
   {
    "duration": 57,
    "start_time": "2022-07-21T07:38:36.623Z"
   },
   {
    "duration": 246,
    "start_time": "2022-07-21T07:39:10.102Z"
   },
   {
    "duration": 183,
    "start_time": "2022-07-21T07:39:42.148Z"
   },
   {
    "duration": 209,
    "start_time": "2022-07-21T07:40:26.130Z"
   },
   {
    "duration": 201,
    "start_time": "2022-07-21T07:40:40.237Z"
   },
   {
    "duration": 71,
    "start_time": "2022-07-21T07:40:50.980Z"
   },
   {
    "duration": 4,
    "start_time": "2022-07-21T07:42:09.800Z"
   },
   {
    "duration": 5,
    "start_time": "2022-07-21T07:42:27.870Z"
   },
   {
    "duration": 61,
    "start_time": "2022-07-21T07:42:39.311Z"
   },
   {
    "duration": 53,
    "start_time": "2022-07-21T07:42:54.066Z"
   },
   {
    "duration": 67,
    "start_time": "2022-07-21T07:43:04.030Z"
   },
   {
    "duration": 479,
    "start_time": "2022-07-21T07:43:44.884Z"
   },
   {
    "duration": 216,
    "start_time": "2022-07-21T07:45:31.322Z"
   },
   {
    "duration": 197,
    "start_time": "2022-07-21T07:46:03.625Z"
   },
   {
    "duration": 247,
    "start_time": "2022-07-21T07:49:10.226Z"
   },
   {
    "duration": 177,
    "start_time": "2022-07-21T07:50:16.834Z"
   },
   {
    "duration": 160,
    "start_time": "2022-07-21T07:52:34.276Z"
   },
   {
    "duration": 175,
    "start_time": "2022-07-21T07:54:56.047Z"
   },
   {
    "duration": 34,
    "start_time": "2022-07-21T08:05:49.281Z"
   },
   {
    "duration": 2074,
    "start_time": "2022-07-21T08:05:56.855Z"
   },
   {
    "duration": 15,
    "start_time": "2022-07-21T08:05:58.932Z"
   },
   {
    "duration": 13,
    "start_time": "2022-07-21T08:05:58.949Z"
   },
   {
    "duration": 31,
    "start_time": "2022-07-21T08:05:58.964Z"
   },
   {
    "duration": 42,
    "start_time": "2022-07-21T08:05:58.997Z"
   },
   {
    "duration": 44,
    "start_time": "2022-07-21T08:06:01.470Z"
   },
   {
    "duration": 36,
    "start_time": "2022-07-21T08:06:31.497Z"
   },
   {
    "duration": 3091,
    "start_time": "2022-07-21T11:01:50.431Z"
   },
   {
    "duration": 14,
    "start_time": "2022-07-21T11:01:53.525Z"
   },
   {
    "duration": 30,
    "start_time": "2022-07-21T11:01:53.545Z"
   },
   {
    "duration": 27,
    "start_time": "2022-07-21T11:01:53.577Z"
   },
   {
    "duration": 64,
    "start_time": "2022-07-21T11:01:53.606Z"
   },
   {
    "duration": 73,
    "start_time": "2022-07-21T11:01:58.488Z"
   },
   {
    "duration": 160,
    "start_time": "2022-07-21T11:05:48.155Z"
   },
   {
    "duration": 61,
    "start_time": "2022-07-21T11:08:37.534Z"
   },
   {
    "duration": 26,
    "start_time": "2022-07-21T11:08:49.886Z"
   },
   {
    "duration": 197,
    "start_time": "2022-07-21T11:09:50.729Z"
   },
   {
    "duration": 241,
    "start_time": "2022-07-21T11:10:34.423Z"
   },
   {
    "duration": 191,
    "start_time": "2022-07-21T11:13:37.232Z"
   },
   {
    "duration": 192,
    "start_time": "2022-07-21T11:14:21.872Z"
   },
   {
    "duration": 172,
    "start_time": "2022-07-21T11:14:59.494Z"
   },
   {
    "duration": 312,
    "start_time": "2022-07-21T11:16:27.882Z"
   },
   {
    "duration": 159,
    "start_time": "2022-07-21T11:17:40.432Z"
   },
   {
    "duration": 165,
    "start_time": "2022-07-21T11:19:53.200Z"
   },
   {
    "duration": 280,
    "start_time": "2022-07-21T11:20:07.048Z"
   },
   {
    "duration": 179,
    "start_time": "2022-07-21T11:22:21.863Z"
   },
   {
    "duration": 274,
    "start_time": "2022-07-21T11:23:20.421Z"
   },
   {
    "duration": 148,
    "start_time": "2022-07-21T11:24:51.402Z"
   },
   {
    "duration": 276,
    "start_time": "2022-07-21T11:25:01.940Z"
   },
   {
    "duration": 367,
    "start_time": "2022-07-21T11:26:26.251Z"
   },
   {
    "duration": 237,
    "start_time": "2022-07-21T11:27:33.748Z"
   },
   {
    "duration": 307,
    "start_time": "2022-07-21T11:27:39.798Z"
   },
   {
    "duration": 288,
    "start_time": "2022-07-21T11:27:49.363Z"
   },
   {
    "duration": 291,
    "start_time": "2022-07-21T11:27:57.028Z"
   },
   {
    "duration": 297,
    "start_time": "2022-07-21T11:28:39.373Z"
   },
   {
    "duration": 174,
    "start_time": "2022-07-21T11:28:56.092Z"
   },
   {
    "duration": 428,
    "start_time": "2022-07-21T11:30:36.043Z"
   },
   {
    "duration": 279,
    "start_time": "2022-07-21T11:30:52.691Z"
   },
   {
    "duration": 277,
    "start_time": "2022-07-21T11:31:49.436Z"
   },
   {
    "duration": 291,
    "start_time": "2022-07-21T11:32:01.367Z"
   },
   {
    "duration": 197,
    "start_time": "2022-07-21T11:32:27.725Z"
   },
   {
    "duration": 2016,
    "start_time": "2022-07-21T13:23:16.958Z"
   },
   {
    "duration": 8,
    "start_time": "2022-07-21T13:23:18.976Z"
   },
   {
    "duration": 25,
    "start_time": "2022-07-21T13:23:18.986Z"
   },
   {
    "duration": 23,
    "start_time": "2022-07-21T13:23:19.018Z"
   },
   {
    "duration": 15,
    "start_time": "2022-07-21T13:23:19.043Z"
   },
   {
    "duration": 128,
    "start_time": "2022-07-21T13:23:19.059Z"
   },
   {
    "duration": 49,
    "start_time": "2022-07-21T13:23:19.189Z"
   },
   {
    "duration": 16,
    "start_time": "2022-07-21T13:23:19.240Z"
   },
   {
    "duration": 353,
    "start_time": "2022-07-21T13:23:19.258Z"
   },
   {
    "duration": 1814,
    "start_time": "2022-07-21T13:23:19.613Z"
   },
   {
    "duration": 182,
    "start_time": "2022-07-21T13:23:21.428Z"
   },
   {
    "duration": 8,
    "start_time": "2022-07-21T13:25:06.390Z"
   },
   {
    "duration": 24812,
    "start_time": "2022-07-21T13:25:16.581Z"
   },
   {
    "duration": 7,
    "start_time": "2022-07-21T13:25:53.888Z"
   },
   {
    "duration": 9,
    "start_time": "2022-07-21T13:25:58.219Z"
   },
   {
    "duration": 24723,
    "start_time": "2022-07-21T13:26:01.888Z"
   },
   {
    "duration": 11,
    "start_time": "2022-07-21T13:28:23.165Z"
   },
   {
    "duration": 1431,
    "start_time": "2022-07-21T13:29:16.793Z"
   },
   {
    "duration": 480,
    "start_time": "2022-07-21T13:29:32.159Z"
   },
   {
    "duration": 8,
    "start_time": "2022-07-21T13:35:20.888Z"
   },
   {
    "duration": 225,
    "start_time": "2022-07-21T13:35:27.968Z"
   },
   {
    "duration": 8,
    "start_time": "2022-07-21T13:35:50.974Z"
   },
   {
    "duration": 169,
    "start_time": "2022-07-21T13:35:55.146Z"
   },
   {
    "duration": 176,
    "start_time": "2022-07-21T13:36:16.973Z"
   },
   {
    "duration": 0,
    "start_time": "2022-07-21T13:41:21.727Z"
   },
   {
    "duration": 1967,
    "start_time": "2022-07-21T13:41:22.632Z"
   },
   {
    "duration": 2059,
    "start_time": "2022-07-21T13:41:33.087Z"
   },
   {
    "duration": 11,
    "start_time": "2022-07-21T13:41:35.149Z"
   },
   {
    "duration": 10,
    "start_time": "2022-07-21T13:41:35.161Z"
   },
   {
    "duration": 42,
    "start_time": "2022-07-21T13:41:35.173Z"
   },
   {
    "duration": 44,
    "start_time": "2022-07-21T13:41:35.216Z"
   },
   {
    "duration": 176,
    "start_time": "2022-07-21T13:41:35.263Z"
   },
   {
    "duration": 55,
    "start_time": "2022-07-21T13:41:35.442Z"
   },
   {
    "duration": 35,
    "start_time": "2022-07-21T13:41:35.499Z"
   },
   {
    "duration": 356,
    "start_time": "2022-07-21T13:41:35.538Z"
   },
   {
    "duration": 2080,
    "start_time": "2022-07-21T13:41:35.896Z"
   },
   {
    "duration": 195,
    "start_time": "2022-07-21T13:41:37.978Z"
   },
   {
    "duration": 166,
    "start_time": "2022-07-21T13:41:53.888Z"
   },
   {
    "duration": 164,
    "start_time": "2022-07-21T13:42:38.632Z"
   },
   {
    "duration": 149,
    "start_time": "2022-07-21T13:43:00.050Z"
   },
   {
    "duration": 107,
    "start_time": "2022-07-21T13:43:33.033Z"
   },
   {
    "duration": 214,
    "start_time": "2022-07-21T13:43:37.636Z"
   },
   {
    "duration": 194,
    "start_time": "2022-07-21T13:44:45.300Z"
   },
   {
    "duration": 188,
    "start_time": "2022-07-21T13:46:13.251Z"
   },
   {
    "duration": 260,
    "start_time": "2022-07-21T13:47:30.881Z"
   },
   {
    "duration": 53,
    "start_time": "2022-07-21T19:03:22.401Z"
   },
   {
    "duration": 8,
    "start_time": "2022-07-21T19:03:33.079Z"
   },
   {
    "duration": 3148,
    "start_time": "2022-07-21T19:03:40.933Z"
   },
   {
    "duration": 11,
    "start_time": "2022-07-21T19:03:44.083Z"
   },
   {
    "duration": 22,
    "start_time": "2022-07-21T19:03:44.096Z"
   },
   {
    "duration": 25,
    "start_time": "2022-07-21T19:03:44.120Z"
   },
   {
    "duration": 23,
    "start_time": "2022-07-21T19:03:44.148Z"
   },
   {
    "duration": 179,
    "start_time": "2022-07-21T19:03:44.174Z"
   },
   {
    "duration": 42,
    "start_time": "2022-07-21T19:03:44.355Z"
   },
   {
    "duration": 40,
    "start_time": "2022-07-21T19:03:44.399Z"
   },
   {
    "duration": 389,
    "start_time": "2022-07-21T19:03:44.441Z"
   },
   {
    "duration": 1918,
    "start_time": "2022-07-21T19:03:44.832Z"
   },
   {
    "duration": 181,
    "start_time": "2022-07-21T19:03:46.753Z"
   },
   {
    "duration": 230,
    "start_time": "2022-07-21T19:03:53.280Z"
   },
   {
    "duration": 1108,
    "start_time": "2022-07-21T19:04:05.051Z"
   },
   {
    "duration": 274,
    "start_time": "2022-07-21T19:10:46.814Z"
   },
   {
    "duration": 980,
    "start_time": "2022-07-21T19:11:53.690Z"
   },
   {
    "duration": 188,
    "start_time": "2022-07-21T19:12:12.049Z"
   },
   {
    "duration": 250,
    "start_time": "2022-07-21T19:14:42.640Z"
   },
   {
    "duration": 202,
    "start_time": "2022-07-21T19:15:01.654Z"
   },
   {
    "duration": 190,
    "start_time": "2022-07-21T19:15:06.089Z"
   },
   {
    "duration": 1194,
    "start_time": "2022-07-21T19:20:44.916Z"
   },
   {
    "duration": 194,
    "start_time": "2022-07-21T19:20:59.970Z"
   },
   {
    "duration": 189,
    "start_time": "2022-07-21T19:22:22.756Z"
   },
   {
    "duration": 195,
    "start_time": "2022-07-21T19:22:46.003Z"
   },
   {
    "duration": 179,
    "start_time": "2022-07-21T19:23:15.652Z"
   },
   {
    "duration": 2064,
    "start_time": "2022-07-21T19:23:51.015Z"
   },
   {
    "duration": 1945,
    "start_time": "2022-07-21T19:24:04.556Z"
   },
   {
    "duration": 3064,
    "start_time": "2022-07-21T19:24:59.720Z"
   },
   {
    "duration": 3268,
    "start_time": "2022-07-21T19:26:02.793Z"
   },
   {
    "duration": 760,
    "start_time": "2022-07-21T19:26:50.135Z"
   },
   {
    "duration": 802,
    "start_time": "2022-07-21T19:26:54.230Z"
   },
   {
    "duration": 9,
    "start_time": "2022-07-21T19:27:06.275Z"
   },
   {
    "duration": 8,
    "start_time": "2022-07-21T19:27:40.865Z"
   },
   {
    "duration": 10,
    "start_time": "2022-07-21T19:28:00.685Z"
   },
   {
    "duration": 12,
    "start_time": "2022-07-21T19:28:47.511Z"
   },
   {
    "duration": 126,
    "start_time": "2022-07-21T19:28:53.739Z"
   },
   {
    "duration": 127,
    "start_time": "2022-07-21T19:28:59.261Z"
   },
   {
    "duration": 12,
    "start_time": "2022-07-21T19:29:25.938Z"
   },
   {
    "duration": 145,
    "start_time": "2022-07-21T19:29:45.736Z"
   },
   {
    "duration": 209,
    "start_time": "2022-07-21T19:30:12.324Z"
   },
   {
    "duration": 313,
    "start_time": "2022-07-21T19:30:21.317Z"
   },
   {
    "duration": 10,
    "start_time": "2022-07-21T19:30:46.651Z"
   },
   {
    "duration": 332,
    "start_time": "2022-07-21T19:31:33.663Z"
   },
   {
    "duration": 400,
    "start_time": "2022-07-21T19:32:56.170Z"
   },
   {
    "duration": 615,
    "start_time": "2022-07-21T19:33:31.461Z"
   },
   {
    "duration": 7,
    "start_time": "2022-07-21T19:34:16.999Z"
   },
   {
    "duration": 8,
    "start_time": "2022-07-21T19:34:25.314Z"
   },
   {
    "duration": 9,
    "start_time": "2022-07-21T19:35:00.759Z"
   },
   {
    "duration": 11,
    "start_time": "2022-07-21T19:35:08.277Z"
   },
   {
    "duration": 14,
    "start_time": "2022-07-21T19:35:17.643Z"
   },
   {
    "duration": 15,
    "start_time": "2022-07-21T19:35:45.497Z"
   },
   {
    "duration": 363,
    "start_time": "2022-07-21T19:36:10.584Z"
   },
   {
    "duration": 1828,
    "start_time": "2022-07-21T19:46:44.443Z"
   },
   {
    "duration": 3033,
    "start_time": "2022-07-21T19:47:55.395Z"
   },
   {
    "duration": 2918,
    "start_time": "2022-07-21T19:50:31.134Z"
   },
   {
    "duration": 3143,
    "start_time": "2022-07-21T20:16:59.543Z"
   },
   {
    "duration": 11,
    "start_time": "2022-07-21T20:26:25.365Z"
   },
   {
    "duration": 2534,
    "start_time": "2022-07-21T20:26:48.165Z"
   },
   {
    "duration": 3333,
    "start_time": "2022-07-21T20:27:10.174Z"
   },
   {
    "duration": 12,
    "start_time": "2022-07-21T20:28:54.202Z"
   },
   {
    "duration": 2965,
    "start_time": "2022-07-21T20:29:20.733Z"
   },
   {
    "duration": 3017,
    "start_time": "2022-07-21T20:32:43.649Z"
   },
   {
    "duration": 3374,
    "start_time": "2022-07-21T20:32:51.205Z"
   },
   {
    "duration": 3085,
    "start_time": "2022-07-21T20:33:17.077Z"
   },
   {
    "duration": 3062,
    "start_time": "2022-07-21T20:34:01.615Z"
   },
   {
    "duration": 3053,
    "start_time": "2022-07-21T20:34:36.311Z"
   },
   {
    "duration": 3376,
    "start_time": "2022-07-21T20:34:49.040Z"
   },
   {
    "duration": 52,
    "start_time": "2022-07-21T20:36:58.914Z"
   },
   {
    "duration": 3014,
    "start_time": "2022-07-21T20:37:54.210Z"
   },
   {
    "duration": 3010,
    "start_time": "2022-07-21T20:38:06.621Z"
   },
   {
    "duration": 3040,
    "start_time": "2022-07-21T20:41:45.720Z"
   },
   {
    "duration": 3421,
    "start_time": "2022-07-21T20:45:41.599Z"
   },
   {
    "duration": 2705,
    "start_time": "2022-07-21T20:59:15.222Z"
   },
   {
    "duration": 2717,
    "start_time": "2022-07-21T21:00:17.157Z"
   },
   {
    "duration": 2743,
    "start_time": "2022-07-21T21:00:33.230Z"
   },
   {
    "duration": 2746,
    "start_time": "2022-07-21T21:01:12.578Z"
   },
   {
    "duration": 2869,
    "start_time": "2022-07-21T21:01:34.802Z"
   },
   {
    "duration": 3685,
    "start_time": "2022-07-21T21:01:54.860Z"
   },
   {
    "duration": 2956,
    "start_time": "2022-07-21T21:02:49.565Z"
   },
   {
    "duration": 2867,
    "start_time": "2022-07-21T21:07:52.142Z"
   },
   {
    "duration": 5128,
    "start_time": "2022-07-21T21:14:33.842Z"
   },
   {
    "duration": 11,
    "start_time": "2022-07-21T21:18:05.337Z"
   },
   {
    "duration": 18,
    "start_time": "2022-07-21T21:23:19.446Z"
   },
   {
    "duration": 7247,
    "start_time": "2022-07-21T21:32:24.025Z"
   },
   {
    "duration": 617,
    "start_time": "2022-07-21T21:39:47.767Z"
   },
   {
    "duration": 6579,
    "start_time": "2022-07-21T21:42:43.056Z"
   },
   {
    "duration": 6620,
    "start_time": "2022-07-21T21:44:48.443Z"
   },
   {
    "duration": 7394,
    "start_time": "2022-07-21T21:49:02.385Z"
   },
   {
    "duration": 6565,
    "start_time": "2022-07-21T21:51:05.314Z"
   },
   {
    "duration": 6535,
    "start_time": "2022-07-21T21:51:40.338Z"
   },
   {
    "duration": 3066,
    "start_time": "2022-07-22T06:59:15.530Z"
   },
   {
    "duration": 18,
    "start_time": "2022-07-22T06:59:18.598Z"
   },
   {
    "duration": 14,
    "start_time": "2022-07-22T06:59:18.618Z"
   },
   {
    "duration": 20,
    "start_time": "2022-07-22T06:59:18.634Z"
   },
   {
    "duration": 16,
    "start_time": "2022-07-22T06:59:18.655Z"
   },
   {
    "duration": 142,
    "start_time": "2022-07-22T06:59:18.672Z"
   },
   {
    "duration": 38,
    "start_time": "2022-07-22T06:59:18.816Z"
   },
   {
    "duration": 18,
    "start_time": "2022-07-22T06:59:18.856Z"
   },
   {
    "duration": 349,
    "start_time": "2022-07-22T06:59:18.876Z"
   },
   {
    "duration": 1920,
    "start_time": "2022-07-22T06:59:19.227Z"
   },
   {
    "duration": 193,
    "start_time": "2022-07-22T06:59:21.149Z"
   },
   {
    "duration": 7229,
    "start_time": "2022-07-22T06:59:21.344Z"
   },
   {
    "duration": 26,
    "start_time": "2022-07-22T07:02:12.709Z"
   },
   {
    "duration": 72,
    "start_time": "2022-07-22T07:04:56.323Z"
   },
   {
    "duration": 12,
    "start_time": "2022-07-22T07:05:09.537Z"
   },
   {
    "duration": 15,
    "start_time": "2022-07-22T07:05:12.576Z"
   },
   {
    "duration": 10,
    "start_time": "2022-07-22T07:07:11.701Z"
   },
   {
    "duration": 12,
    "start_time": "2022-07-22T07:07:35.584Z"
   },
   {
    "duration": 10,
    "start_time": "2022-07-22T07:07:45.689Z"
   },
   {
    "duration": 2175,
    "start_time": "2022-07-22T07:08:14.397Z"
   },
   {
    "duration": 8,
    "start_time": "2022-07-22T07:08:52.903Z"
   },
   {
    "duration": 9,
    "start_time": "2022-07-22T07:09:08.564Z"
   },
   {
    "duration": 12,
    "start_time": "2022-07-22T07:14:09.462Z"
   },
   {
    "duration": 12,
    "start_time": "2022-07-22T07:18:18.745Z"
   },
   {
    "duration": 20,
    "start_time": "2022-07-22T07:20:06.865Z"
   },
   {
    "duration": 17,
    "start_time": "2022-07-22T07:21:00.212Z"
   },
   {
    "duration": 27,
    "start_time": "2022-07-22T07:21:51.454Z"
   },
   {
    "duration": 26,
    "start_time": "2022-07-22T07:22:53.851Z"
   },
   {
    "duration": 23,
    "start_time": "2022-07-22T07:23:58.276Z"
   },
   {
    "duration": 30,
    "start_time": "2022-07-22T07:24:26.738Z"
   },
   {
    "duration": 21,
    "start_time": "2022-07-22T07:24:46.259Z"
   },
   {
    "duration": 14,
    "start_time": "2022-07-22T07:25:01.262Z"
   },
   {
    "duration": 22,
    "start_time": "2022-07-22T07:25:12.673Z"
   },
   {
    "duration": 24,
    "start_time": "2022-07-22T07:25:17.340Z"
   },
   {
    "duration": 15,
    "start_time": "2022-07-22T07:25:45.553Z"
   },
   {
    "duration": 16,
    "start_time": "2022-07-22T07:25:51.995Z"
   },
   {
    "duration": 14,
    "start_time": "2022-07-22T07:26:19.175Z"
   },
   {
    "duration": 81,
    "start_time": "2022-07-22T07:27:11.186Z"
   },
   {
    "duration": 173,
    "start_time": "2022-07-22T07:27:30.257Z"
   },
   {
    "duration": 52,
    "start_time": "2022-07-22T07:27:35.600Z"
   },
   {
    "duration": 13,
    "start_time": "2022-07-22T07:27:40.270Z"
   },
   {
    "duration": 15,
    "start_time": "2022-07-22T07:27:50.555Z"
   },
   {
    "duration": 19,
    "start_time": "2022-07-22T07:28:30.316Z"
   },
   {
    "duration": 16,
    "start_time": "2022-07-22T07:28:42.226Z"
   },
   {
    "duration": 27,
    "start_time": "2022-07-22T07:31:30.380Z"
   },
   {
    "duration": 33,
    "start_time": "2022-07-22T07:32:36.369Z"
   },
   {
    "duration": 40,
    "start_time": "2022-07-22T07:32:41.466Z"
   },
   {
    "duration": 29,
    "start_time": "2022-07-22T07:40:30.370Z"
   },
   {
    "duration": 21,
    "start_time": "2022-07-22T07:42:28.551Z"
   },
   {
    "duration": 23,
    "start_time": "2022-07-22T07:43:07.268Z"
   },
   {
    "duration": 119,
    "start_time": "2022-07-22T07:43:53.620Z"
   },
   {
    "duration": 30,
    "start_time": "2022-07-22T07:44:21.664Z"
   },
   {
    "duration": 18,
    "start_time": "2022-07-22T07:55:41.074Z"
   },
   {
    "duration": 25,
    "start_time": "2022-07-22T07:56:10.860Z"
   },
   {
    "duration": 28,
    "start_time": "2022-07-22T07:57:23.947Z"
   },
   {
    "duration": 35,
    "start_time": "2022-07-22T07:57:38.804Z"
   },
   {
    "duration": 68,
    "start_time": "2022-07-22T07:58:11.392Z"
   },
   {
    "duration": 24,
    "start_time": "2022-07-22T07:58:19.517Z"
   },
   {
    "duration": 29,
    "start_time": "2022-07-22T07:59:17.682Z"
   },
   {
    "duration": 21,
    "start_time": "2022-07-22T07:59:53.715Z"
   },
   {
    "duration": 20,
    "start_time": "2022-07-22T08:01:31.923Z"
   },
   {
    "duration": 50,
    "start_time": "2022-07-22T08:05:17.320Z"
   },
   {
    "duration": 21,
    "start_time": "2022-07-22T08:05:28.387Z"
   },
   {
    "duration": 22,
    "start_time": "2022-07-22T08:05:50.894Z"
   },
   {
    "duration": 22,
    "start_time": "2022-07-22T08:06:19.088Z"
   },
   {
    "duration": 58,
    "start_time": "2022-07-22T08:06:27.798Z"
   },
   {
    "duration": 24,
    "start_time": "2022-07-22T08:06:34.727Z"
   },
   {
    "duration": 26,
    "start_time": "2022-07-22T08:08:12.971Z"
   },
   {
    "duration": 19,
    "start_time": "2022-07-22T08:10:16.665Z"
   },
   {
    "duration": 8,
    "start_time": "2022-07-22T08:10:43.983Z"
   },
   {
    "duration": 23,
    "start_time": "2022-07-22T08:10:48.672Z"
   },
   {
    "duration": 21,
    "start_time": "2022-07-22T08:11:02.037Z"
   },
   {
    "duration": 9,
    "start_time": "2022-07-22T08:19:06.141Z"
   },
   {
    "duration": 9,
    "start_time": "2022-07-22T08:20:27.325Z"
   },
   {
    "duration": 13,
    "start_time": "2022-07-22T08:20:48.014Z"
   },
   {
    "duration": 7,
    "start_time": "2022-07-22T08:20:56.954Z"
   },
   {
    "duration": 10,
    "start_time": "2022-07-22T08:21:01.869Z"
   },
   {
    "duration": 33,
    "start_time": "2022-07-22T08:21:15.326Z"
   },
   {
    "duration": 44,
    "start_time": "2022-07-22T08:21:21.845Z"
   },
   {
    "duration": 42,
    "start_time": "2022-07-22T08:21:36.349Z"
   },
   {
    "duration": 52,
    "start_time": "2022-07-22T08:21:40.664Z"
   },
   {
    "duration": 15,
    "start_time": "2022-07-22T08:21:46.253Z"
   },
   {
    "duration": 1296,
    "start_time": "2022-07-22T08:22:04.896Z"
   },
   {
    "duration": 24,
    "start_time": "2022-07-22T08:22:13.769Z"
   },
   {
    "duration": 17,
    "start_time": "2022-07-22T08:23:12.241Z"
   },
   {
    "duration": 24,
    "start_time": "2022-07-22T08:25:57.056Z"
   },
   {
    "duration": 28,
    "start_time": "2022-07-22T08:28:12.063Z"
   },
   {
    "duration": 14,
    "start_time": "2022-07-22T08:28:19.375Z"
   },
   {
    "duration": 23,
    "start_time": "2022-07-22T08:29:51.254Z"
   },
   {
    "duration": 18,
    "start_time": "2022-07-22T08:31:10.477Z"
   },
   {
    "duration": 28,
    "start_time": "2022-07-22T08:31:21.252Z"
   },
   {
    "duration": 27,
    "start_time": "2022-07-22T08:31:29.622Z"
   },
   {
    "duration": 22,
    "start_time": "2022-07-22T08:31:41.259Z"
   },
   {
    "duration": 20,
    "start_time": "2022-07-22T08:32:48.325Z"
   },
   {
    "duration": 27,
    "start_time": "2022-07-22T08:34:35.526Z"
   },
   {
    "duration": 24,
    "start_time": "2022-07-22T08:34:39.177Z"
   },
   {
    "duration": 18,
    "start_time": "2022-07-22T08:34:58.784Z"
   },
   {
    "duration": 22,
    "start_time": "2022-07-22T08:35:04.149Z"
   },
   {
    "duration": 25,
    "start_time": "2022-07-22T08:35:48.803Z"
   },
   {
    "duration": 17,
    "start_time": "2022-07-22T08:35:58.794Z"
   },
   {
    "duration": 16,
    "start_time": "2022-07-22T08:36:03.842Z"
   },
   {
    "duration": 15,
    "start_time": "2022-07-22T08:36:22.126Z"
   },
   {
    "duration": 11,
    "start_time": "2022-07-22T08:37:34.748Z"
   },
   {
    "duration": 53,
    "start_time": "2022-07-22T08:37:50.483Z"
   },
   {
    "duration": 707,
    "start_time": "2022-07-22T08:37:59.009Z"
   },
   {
    "duration": 1131,
    "start_time": "2022-07-22T08:39:02.896Z"
   },
   {
    "duration": 2284,
    "start_time": "2022-07-22T08:39:08.834Z"
   },
   {
    "duration": 8,
    "start_time": "2022-07-22T08:39:11.121Z"
   },
   {
    "duration": 22,
    "start_time": "2022-07-22T08:39:11.131Z"
   },
   {
    "duration": 19,
    "start_time": "2022-07-22T08:39:11.155Z"
   },
   {
    "duration": 20,
    "start_time": "2022-07-22T08:39:11.176Z"
   },
   {
    "duration": 136,
    "start_time": "2022-07-22T08:39:11.198Z"
   },
   {
    "duration": 40,
    "start_time": "2022-07-22T08:39:11.336Z"
   },
   {
    "duration": 36,
    "start_time": "2022-07-22T08:39:11.378Z"
   },
   {
    "duration": 346,
    "start_time": "2022-07-22T08:39:11.416Z"
   },
   {
    "duration": 1949,
    "start_time": "2022-07-22T08:39:11.764Z"
   },
   {
    "duration": 185,
    "start_time": "2022-07-22T08:39:13.715Z"
   },
   {
    "duration": 6948,
    "start_time": "2022-07-22T08:39:13.903Z"
   },
   {
    "duration": 16,
    "start_time": "2022-07-22T08:39:20.853Z"
   },
   {
    "duration": 5,
    "start_time": "2022-07-22T08:39:43.021Z"
   },
   {
    "duration": 9,
    "start_time": "2022-07-22T08:43:27.298Z"
   },
   {
    "duration": 10,
    "start_time": "2022-07-22T08:44:03.389Z"
   },
   {
    "duration": 15,
    "start_time": "2022-07-22T08:44:08.086Z"
   },
   {
    "duration": 15,
    "start_time": "2022-07-22T08:45:07.090Z"
   },
   {
    "duration": 9,
    "start_time": "2022-07-22T08:46:14.270Z"
   },
   {
    "duration": 17,
    "start_time": "2022-07-22T08:46:53.594Z"
   },
   {
    "duration": 10,
    "start_time": "2022-07-22T08:49:21.412Z"
   },
   {
    "duration": 14,
    "start_time": "2022-07-22T08:49:28.823Z"
   },
   {
    "duration": 15,
    "start_time": "2022-07-22T08:51:39.071Z"
   },
   {
    "duration": 15,
    "start_time": "2022-07-22T08:51:44.046Z"
   },
   {
    "duration": 8,
    "start_time": "2022-07-22T08:54:20.781Z"
   },
   {
    "duration": 15,
    "start_time": "2022-07-22T08:54:43.923Z"
   },
   {
    "duration": 20,
    "start_time": "2022-07-22T08:54:52.226Z"
   },
   {
    "duration": 56,
    "start_time": "2022-07-22T08:55:13.753Z"
   },
   {
    "duration": 19,
    "start_time": "2022-07-22T08:55:39.089Z"
   },
   {
    "duration": 2859,
    "start_time": "2022-07-22T20:13:47.826Z"
   },
   {
    "duration": 10,
    "start_time": "2022-07-22T20:13:50.687Z"
   },
   {
    "duration": 11,
    "start_time": "2022-07-22T20:13:50.698Z"
   },
   {
    "duration": 44,
    "start_time": "2022-07-22T20:13:50.711Z"
   },
   {
    "duration": 16,
    "start_time": "2022-07-22T20:13:50.756Z"
   },
   {
    "duration": 138,
    "start_time": "2022-07-22T20:13:50.774Z"
   },
   {
    "duration": 46,
    "start_time": "2022-07-22T20:13:50.914Z"
   },
   {
    "duration": 17,
    "start_time": "2022-07-22T20:13:50.962Z"
   },
   {
    "duration": 328,
    "start_time": "2022-07-22T20:13:50.980Z"
   },
   {
    "duration": 1851,
    "start_time": "2022-07-22T20:13:51.310Z"
   },
   {
    "duration": 176,
    "start_time": "2022-07-22T20:13:53.163Z"
   },
   {
    "duration": 7077,
    "start_time": "2022-07-22T20:13:53.351Z"
   },
   {
    "duration": 85,
    "start_time": "2022-07-22T20:14:00.429Z"
   },
   {
    "duration": 19,
    "start_time": "2022-07-22T20:18:07.810Z"
   },
   {
    "duration": 20,
    "start_time": "2022-07-22T20:18:11.665Z"
   },
   {
    "duration": 31,
    "start_time": "2022-07-22T20:21:20.583Z"
   },
   {
    "duration": 32,
    "start_time": "2022-07-22T20:25:55.974Z"
   },
   {
    "duration": 41,
    "start_time": "2022-07-22T20:26:59.038Z"
   },
   {
    "duration": 4,
    "start_time": "2022-07-22T20:28:31.900Z"
   },
   {
    "duration": 27,
    "start_time": "2022-07-22T20:28:39.148Z"
   },
   {
    "duration": 29,
    "start_time": "2022-07-22T20:29:09.957Z"
   },
   {
    "duration": 28,
    "start_time": "2022-07-22T20:29:26.426Z"
   },
   {
    "duration": 30,
    "start_time": "2022-07-22T20:35:20.773Z"
   },
   {
    "duration": 29,
    "start_time": "2022-07-22T20:36:07.501Z"
   },
   {
    "duration": 156,
    "start_time": "2022-07-22T20:41:58.449Z"
   },
   {
    "duration": 199,
    "start_time": "2022-07-22T20:42:19.600Z"
   },
   {
    "duration": 142,
    "start_time": "2022-07-22T20:43:03.976Z"
   },
   {
    "duration": 231,
    "start_time": "2022-07-22T20:43:30.653Z"
   },
   {
    "duration": 179,
    "start_time": "2022-07-22T20:43:40.964Z"
   },
   {
    "duration": 150,
    "start_time": "2022-07-22T20:43:47.679Z"
   },
   {
    "duration": 187,
    "start_time": "2022-07-22T20:44:00.510Z"
   },
   {
    "duration": 164,
    "start_time": "2022-07-22T20:44:12.662Z"
   },
   {
    "duration": 337,
    "start_time": "2022-07-22T20:44:24.827Z"
   },
   {
    "duration": 167,
    "start_time": "2022-07-22T20:45:50.047Z"
   },
   {
    "duration": 75,
    "start_time": "2022-07-22T20:48:17.789Z"
   },
   {
    "duration": 198,
    "start_time": "2022-07-22T20:48:26.200Z"
   },
   {
    "duration": 15,
    "start_time": "2022-07-22T20:51:07.255Z"
   },
   {
    "duration": 2083,
    "start_time": "2022-07-22T20:51:30.489Z"
   },
   {
    "duration": 10,
    "start_time": "2022-07-22T20:51:32.574Z"
   },
   {
    "duration": 17,
    "start_time": "2022-07-22T20:51:32.586Z"
   },
   {
    "duration": 31,
    "start_time": "2022-07-22T20:51:32.606Z"
   },
   {
    "duration": 27,
    "start_time": "2022-07-22T20:51:32.639Z"
   },
   {
    "duration": 149,
    "start_time": "2022-07-22T20:51:32.667Z"
   },
   {
    "duration": 52,
    "start_time": "2022-07-22T20:51:32.818Z"
   },
   {
    "duration": 28,
    "start_time": "2022-07-22T20:51:32.872Z"
   },
   {
    "duration": 366,
    "start_time": "2022-07-22T20:51:32.902Z"
   },
   {
    "duration": 2149,
    "start_time": "2022-07-22T20:51:33.271Z"
   },
   {
    "duration": 185,
    "start_time": "2022-07-22T20:51:35.422Z"
   },
   {
    "duration": 6746,
    "start_time": "2022-07-22T20:51:35.609Z"
   },
   {
    "duration": 16,
    "start_time": "2022-07-22T20:53:16.849Z"
   },
   {
    "duration": 17,
    "start_time": "2022-07-22T20:58:00.819Z"
   },
   {
    "duration": 17,
    "start_time": "2022-07-22T20:58:10.361Z"
   },
   {
    "duration": 17,
    "start_time": "2022-07-22T20:58:30.063Z"
   },
   {
    "duration": 9,
    "start_time": "2022-07-22T21:00:23.462Z"
   },
   {
    "duration": 10,
    "start_time": "2022-07-22T21:00:28.044Z"
   },
   {
    "duration": 14,
    "start_time": "2022-07-22T21:01:13.683Z"
   },
   {
    "duration": 12,
    "start_time": "2022-07-22T21:01:21.095Z"
   },
   {
    "duration": 12,
    "start_time": "2022-07-22T21:01:23.455Z"
   },
   {
    "duration": 8,
    "start_time": "2022-07-22T21:01:27.159Z"
   },
   {
    "duration": 8,
    "start_time": "2022-07-22T21:03:54.416Z"
   },
   {
    "duration": 9,
    "start_time": "2022-07-22T21:04:00.047Z"
   },
   {
    "duration": 8,
    "start_time": "2022-07-22T21:04:06.355Z"
   },
   {
    "duration": 9,
    "start_time": "2022-07-22T21:04:30.868Z"
   },
   {
    "duration": 8,
    "start_time": "2022-07-22T21:07:05.249Z"
   },
   {
    "duration": 12,
    "start_time": "2022-07-22T21:07:26.558Z"
   },
   {
    "duration": 14,
    "start_time": "2022-07-22T21:07:35.579Z"
   },
   {
    "duration": 21,
    "start_time": "2022-07-22T21:07:42.726Z"
   },
   {
    "duration": 17,
    "start_time": "2022-07-22T21:07:48.176Z"
   },
   {
    "duration": 14,
    "start_time": "2022-07-22T21:08:06.868Z"
   },
   {
    "duration": 12,
    "start_time": "2022-07-22T21:08:11.727Z"
   },
   {
    "duration": 15,
    "start_time": "2022-07-22T21:09:10.947Z"
   },
   {
    "duration": 96,
    "start_time": "2022-07-22T21:09:23.091Z"
   },
   {
    "duration": 8,
    "start_time": "2022-07-22T21:09:37.362Z"
   },
   {
    "duration": 11,
    "start_time": "2022-07-22T21:09:55.788Z"
   },
   {
    "duration": 13,
    "start_time": "2022-07-22T21:10:00.663Z"
   },
   {
    "duration": 10,
    "start_time": "2022-07-22T21:10:26.804Z"
   },
   {
    "duration": 8,
    "start_time": "2022-07-22T21:10:35.682Z"
   },
   {
    "duration": 14,
    "start_time": "2022-07-22T21:10:50.101Z"
   },
   {
    "duration": 13,
    "start_time": "2022-07-22T21:10:58.811Z"
   },
   {
    "duration": 14,
    "start_time": "2022-07-22T21:11:02.763Z"
   },
   {
    "duration": 13,
    "start_time": "2022-07-22T21:12:51.051Z"
   },
   {
    "duration": 8,
    "start_time": "2022-07-22T21:13:00.971Z"
   },
   {
    "duration": 14,
    "start_time": "2022-07-22T21:13:07.263Z"
   },
   {
    "duration": 8,
    "start_time": "2022-07-22T21:13:30.878Z"
   },
   {
    "duration": 8,
    "start_time": "2022-07-22T21:13:59.198Z"
   },
   {
    "duration": 8,
    "start_time": "2022-07-22T21:14:15.210Z"
   },
   {
    "duration": 8,
    "start_time": "2022-07-22T21:14:38.518Z"
   },
   {
    "duration": 13,
    "start_time": "2022-07-22T21:19:20.749Z"
   },
   {
    "duration": 130,
    "start_time": "2022-07-22T21:22:49.343Z"
   },
   {
    "duration": 135,
    "start_time": "2022-07-22T21:23:07.813Z"
   },
   {
    "duration": 18,
    "start_time": "2022-07-22T21:24:10.002Z"
   },
   {
    "duration": 3048,
    "start_time": "2022-07-23T21:09:52.237Z"
   },
   {
    "duration": 10,
    "start_time": "2022-07-23T21:09:58.684Z"
   },
   {
    "duration": 32,
    "start_time": "2022-07-23T21:10:48.789Z"
   },
   {
    "duration": 11,
    "start_time": "2022-07-23T21:11:13.364Z"
   },
   {
    "duration": 85,
    "start_time": "2022-07-23T21:11:20.291Z"
   },
   {
    "duration": 9,
    "start_time": "2022-07-23T21:11:27.075Z"
   },
   {
    "duration": 22,
    "start_time": "2022-07-23T21:11:31.505Z"
   },
   {
    "duration": 21,
    "start_time": "2022-07-23T21:11:51.779Z"
   },
   {
    "duration": 31,
    "start_time": "2022-07-23T21:12:31.311Z"
   },
   {
    "duration": 28,
    "start_time": "2022-07-23T21:12:40.422Z"
   },
   {
    "duration": 61,
    "start_time": "2022-07-23T21:14:14.811Z"
   },
   {
    "duration": 51,
    "start_time": "2022-07-23T21:14:23.151Z"
   },
   {
    "duration": 6,
    "start_time": "2022-07-23T21:15:52.890Z"
   },
   {
    "duration": 7,
    "start_time": "2022-07-23T21:16:07.357Z"
   },
   {
    "duration": 6,
    "start_time": "2022-07-23T21:16:37.871Z"
   },
   {
    "duration": 1031,
    "start_time": "2022-07-23T21:17:24.608Z"
   },
   {
    "duration": 11,
    "start_time": "2022-07-23T21:17:34.094Z"
   },
   {
    "duration": 9,
    "start_time": "2022-07-23T21:18:46.136Z"
   },
   {
    "duration": 31,
    "start_time": "2022-07-23T21:19:08.042Z"
   },
   {
    "duration": 13,
    "start_time": "2022-07-23T21:19:24.087Z"
   },
   {
    "duration": 22,
    "start_time": "2022-07-23T21:19:43.394Z"
   },
   {
    "duration": 21,
    "start_time": "2022-07-23T21:19:49.463Z"
   },
   {
    "duration": 18,
    "start_time": "2022-07-23T21:19:54.050Z"
   },
   {
    "duration": 28,
    "start_time": "2022-07-23T21:19:56.990Z"
   },
   {
    "duration": 12,
    "start_time": "2022-07-23T21:20:50.066Z"
   },
   {
    "duration": 9,
    "start_time": "2022-07-23T21:21:05.438Z"
   },
   {
    "duration": 36,
    "start_time": "2022-07-23T21:22:21.909Z"
   },
   {
    "duration": 13,
    "start_time": "2022-07-23T21:22:32.952Z"
   },
   {
    "duration": 12,
    "start_time": "2022-07-23T21:23:25.218Z"
   },
   {
    "duration": 10,
    "start_time": "2022-07-23T21:28:59.921Z"
   },
   {
    "duration": 11,
    "start_time": "2022-07-23T21:29:04.929Z"
   },
   {
    "duration": 230,
    "start_time": "2022-07-23T21:29:48.974Z"
   },
   {
    "duration": 18,
    "start_time": "2022-07-23T21:30:56.054Z"
   },
   {
    "duration": 215,
    "start_time": "2022-07-23T21:32:29.584Z"
   },
   {
    "duration": 201,
    "start_time": "2022-07-23T21:32:40.113Z"
   },
   {
    "duration": 477,
    "start_time": "2022-07-23T21:33:04.083Z"
   },
   {
    "duration": 80,
    "start_time": "2022-07-23T21:33:16.231Z"
   },
   {
    "duration": 26,
    "start_time": "2022-07-23T21:37:04.543Z"
   },
   {
    "duration": 24,
    "start_time": "2022-07-23T21:37:14.886Z"
   },
   {
    "duration": 19,
    "start_time": "2022-07-23T21:37:36.414Z"
   },
   {
    "duration": 25,
    "start_time": "2022-07-23T21:38:03.107Z"
   },
   {
    "duration": 20,
    "start_time": "2022-07-23T21:39:27.331Z"
   },
   {
    "duration": 48,
    "start_time": "2022-07-23T21:39:50.777Z"
   },
   {
    "duration": 25,
    "start_time": "2022-07-23T21:40:29.334Z"
   },
   {
    "duration": 21,
    "start_time": "2022-07-23T21:43:50.910Z"
   },
   {
    "duration": 149,
    "start_time": "2022-07-23T21:46:57.678Z"
   },
   {
    "duration": 86,
    "start_time": "2022-07-23T21:47:09.337Z"
   },
   {
    "duration": 260,
    "start_time": "2022-07-23T21:47:21.130Z"
   },
   {
    "duration": 33,
    "start_time": "2022-07-23T21:48:23.879Z"
   },
   {
    "duration": 118,
    "start_time": "2022-07-23T21:49:03.714Z"
   },
   {
    "duration": 21,
    "start_time": "2022-07-23T21:49:34.881Z"
   },
   {
    "duration": 20,
    "start_time": "2022-07-23T21:49:55.511Z"
   },
   {
    "duration": 29,
    "start_time": "2022-07-23T21:50:15.964Z"
   },
   {
    "duration": 3115,
    "start_time": "2022-07-24T07:02:20.950Z"
   },
   {
    "duration": 12,
    "start_time": "2022-07-24T07:02:24.068Z"
   },
   {
    "duration": 33,
    "start_time": "2022-07-24T07:02:24.082Z"
   },
   {
    "duration": 101,
    "start_time": "2022-07-24T07:02:26.872Z"
   },
   {
    "duration": 1306,
    "start_time": "2022-07-24T07:02:59.810Z"
   },
   {
    "duration": 1283,
    "start_time": "2022-07-24T07:03:13.874Z"
   },
   {
    "duration": 25,
    "start_time": "2022-07-24T07:03:35.605Z"
   },
   {
    "duration": 18,
    "start_time": "2022-07-24T07:04:40.308Z"
   },
   {
    "duration": 96,
    "start_time": "2022-07-24T07:04:55.348Z"
   },
   {
    "duration": 321,
    "start_time": "2022-07-24T07:05:36.638Z"
   },
   {
    "duration": 318,
    "start_time": "2022-07-24T07:08:02.616Z"
   },
   {
    "duration": 225,
    "start_time": "2022-07-24T07:08:08.635Z"
   },
   {
    "duration": 75,
    "start_time": "2022-07-24T07:41:43.808Z"
   },
   {
    "duration": 21,
    "start_time": "2022-07-24T07:41:48.329Z"
   },
   {
    "duration": 11,
    "start_time": "2022-07-24T07:42:33.656Z"
   },
   {
    "duration": 21,
    "start_time": "2022-07-24T07:42:46.292Z"
   },
   {
    "duration": 34,
    "start_time": "2022-07-24T07:46:41.206Z"
   },
   {
    "duration": 54,
    "start_time": "2022-07-24T07:48:37.334Z"
   },
   {
    "duration": 59,
    "start_time": "2022-07-24T07:50:43.877Z"
   },
   {
    "duration": 62,
    "start_time": "2022-07-24T07:51:22.604Z"
   },
   {
    "duration": 33,
    "start_time": "2022-07-24T07:51:34.238Z"
   },
   {
    "duration": 35,
    "start_time": "2022-07-24T07:53:10.405Z"
   },
   {
    "duration": 21,
    "start_time": "2022-07-24T08:23:57.643Z"
   },
   {
    "duration": 19,
    "start_time": "2022-07-24T08:25:08.574Z"
   },
   {
    "duration": 20,
    "start_time": "2022-07-24T08:25:39.556Z"
   },
   {
    "duration": 31,
    "start_time": "2022-07-24T08:59:27.959Z"
   },
   {
    "duration": 35,
    "start_time": "2022-07-24T09:01:32.422Z"
   },
   {
    "duration": 78,
    "start_time": "2022-07-24T09:01:38.494Z"
   },
   {
    "duration": 76,
    "start_time": "2022-07-24T09:03:27.473Z"
   },
   {
    "duration": 86,
    "start_time": "2022-07-24T09:03:32.757Z"
   },
   {
    "duration": 76,
    "start_time": "2022-07-24T09:04:22.548Z"
   },
   {
    "duration": 47,
    "start_time": "2022-07-24T09:10:17.968Z"
   },
   {
    "duration": 2299,
    "start_time": "2022-07-24T09:11:25.320Z"
   },
   {
    "duration": 12,
    "start_time": "2022-07-24T09:11:27.622Z"
   },
   {
    "duration": 22,
    "start_time": "2022-07-24T09:11:27.636Z"
   },
   {
    "duration": 266,
    "start_time": "2022-07-24T09:11:27.661Z"
   },
   {
    "duration": 11,
    "start_time": "2022-07-24T09:11:27.929Z"
   },
   {
    "duration": 175,
    "start_time": "2022-07-24T09:11:27.942Z"
   },
   {
    "duration": 38,
    "start_time": "2022-07-24T09:12:44.127Z"
   },
   {
    "duration": 36,
    "start_time": "2022-07-24T09:13:00.330Z"
   },
   {
    "duration": 65,
    "start_time": "2022-07-24T09:13:59.369Z"
   },
   {
    "duration": 32,
    "start_time": "2022-07-24T09:14:31.924Z"
   },
   {
    "duration": 46,
    "start_time": "2022-07-24T09:15:02.022Z"
   },
   {
    "duration": 17,
    "start_time": "2022-07-24T09:16:13.462Z"
   },
   {
    "duration": 101,
    "start_time": "2022-07-24T09:16:28.697Z"
   },
   {
    "duration": 38,
    "start_time": "2022-07-24T09:16:33.391Z"
   },
   {
    "duration": 42,
    "start_time": "2022-07-24T09:20:47.065Z"
   },
   {
    "duration": 31,
    "start_time": "2022-07-24T09:21:22.435Z"
   },
   {
    "duration": 52,
    "start_time": "2022-07-24T09:21:30.942Z"
   },
   {
    "duration": 2349,
    "start_time": "2022-07-24T09:24:28.259Z"
   },
   {
    "duration": 11,
    "start_time": "2022-07-24T09:24:30.610Z"
   },
   {
    "duration": 32,
    "start_time": "2022-07-24T09:24:30.623Z"
   },
   {
    "duration": 250,
    "start_time": "2022-07-24T09:24:30.658Z"
   },
   {
    "duration": 11,
    "start_time": "2022-07-24T09:24:30.910Z"
   },
   {
    "duration": 276,
    "start_time": "2022-07-24T09:24:30.923Z"
   },
   {
    "duration": 25,
    "start_time": "2022-07-24T09:24:38.385Z"
   },
   {
    "duration": 31,
    "start_time": "2022-07-24T09:29:14.890Z"
   },
   {
    "duration": 2249,
    "start_time": "2022-07-24T09:29:22.466Z"
   },
   {
    "duration": 10,
    "start_time": "2022-07-24T09:29:24.717Z"
   },
   {
    "duration": 25,
    "start_time": "2022-07-24T09:29:24.728Z"
   },
   {
    "duration": 259,
    "start_time": "2022-07-24T09:29:24.756Z"
   },
   {
    "duration": 9,
    "start_time": "2022-07-24T09:29:25.017Z"
   },
   {
    "duration": 167,
    "start_time": "2022-07-24T09:29:25.028Z"
   },
   {
    "duration": 26,
    "start_time": "2022-07-24T09:29:28.000Z"
   },
   {
    "duration": 28,
    "start_time": "2022-07-24T10:12:36.251Z"
   },
   {
    "duration": 28,
    "start_time": "2022-07-24T10:12:39.486Z"
   },
   {
    "duration": 74,
    "start_time": "2022-07-24T10:17:33.746Z"
   },
   {
    "duration": 6,
    "start_time": "2022-07-24T10:18:49.346Z"
   },
   {
    "duration": 1180,
    "start_time": "2022-07-24T10:19:36.683Z"
   },
   {
    "duration": 14,
    "start_time": "2022-07-24T10:19:45.047Z"
   },
   {
    "duration": 9,
    "start_time": "2022-07-24T10:20:20.202Z"
   },
   {
    "duration": 197,
    "start_time": "2022-07-24T10:21:52.420Z"
   },
   {
    "duration": 44,
    "start_time": "2022-07-24T10:21:59.760Z"
   },
   {
    "duration": 9,
    "start_time": "2022-07-24T10:24:20.959Z"
   },
   {
    "duration": 7,
    "start_time": "2022-07-24T10:24:37.776Z"
   },
   {
    "duration": 7,
    "start_time": "2022-07-24T10:24:47.371Z"
   },
   {
    "duration": 10,
    "start_time": "2022-07-24T10:26:14.141Z"
   },
   {
    "duration": 9,
    "start_time": "2022-07-24T10:26:29.259Z"
   },
   {
    "duration": 11,
    "start_time": "2022-07-24T10:27:39.160Z"
   },
   {
    "duration": 11,
    "start_time": "2022-07-24T10:28:06.978Z"
   },
   {
    "duration": 11,
    "start_time": "2022-07-24T10:28:10.390Z"
   },
   {
    "duration": 11,
    "start_time": "2022-07-24T10:28:12.785Z"
   },
   {
    "duration": 10,
    "start_time": "2022-07-24T10:28:43.603Z"
   },
   {
    "duration": 15,
    "start_time": "2022-07-24T10:29:42.322Z"
   },
   {
    "duration": 9,
    "start_time": "2022-07-24T10:31:18.407Z"
   },
   {
    "duration": 124,
    "start_time": "2022-07-24T10:32:22.639Z"
   },
   {
    "duration": 56,
    "start_time": "2022-07-24T10:36:47.537Z"
   },
   {
    "duration": 130,
    "start_time": "2022-07-24T10:37:58.957Z"
   },
   {
    "duration": 340,
    "start_time": "2022-07-24T10:39:23.668Z"
   },
   {
    "duration": 15,
    "start_time": "2022-07-24T10:39:30.637Z"
   },
   {
    "duration": 332,
    "start_time": "2022-07-24T10:39:33.183Z"
   },
   {
    "duration": 194,
    "start_time": "2022-07-24T10:42:15.301Z"
   },
   {
    "duration": 201,
    "start_time": "2022-07-24T10:54:31.479Z"
   },
   {
    "duration": 188,
    "start_time": "2022-07-24T10:54:35.983Z"
   },
   {
    "duration": 175,
    "start_time": "2022-07-24T10:54:46.735Z"
   },
   {
    "duration": 212,
    "start_time": "2022-07-24T10:54:51.236Z"
   },
   {
    "duration": 2275,
    "start_time": "2022-07-24T10:58:51.043Z"
   },
   {
    "duration": 11,
    "start_time": "2022-07-24T10:58:53.320Z"
   },
   {
    "duration": 22,
    "start_time": "2022-07-24T10:58:53.332Z"
   },
   {
    "duration": 248,
    "start_time": "2022-07-24T10:58:53.356Z"
   },
   {
    "duration": 9,
    "start_time": "2022-07-24T10:58:53.605Z"
   },
   {
    "duration": 136,
    "start_time": "2022-07-24T10:58:57.272Z"
   },
   {
    "duration": 142,
    "start_time": "2022-07-24T11:01:08.312Z"
   },
   {
    "duration": 135,
    "start_time": "2022-07-24T11:02:19.520Z"
   },
   {
    "duration": 2357,
    "start_time": "2022-07-24T11:02:23.857Z"
   },
   {
    "duration": 11,
    "start_time": "2022-07-24T11:02:26.217Z"
   },
   {
    "duration": 53,
    "start_time": "2022-07-24T11:02:26.229Z"
   },
   {
    "duration": 209,
    "start_time": "2022-07-24T11:02:36.235Z"
   },
   {
    "duration": 10,
    "start_time": "2022-07-24T11:02:41.579Z"
   },
   {
    "duration": 217,
    "start_time": "2022-07-24T11:02:45.876Z"
   }
  ],
  "kernelspec": {
   "display_name": "Python 3 (ipykernel)",
   "language": "python",
   "name": "python3"
  },
  "language_info": {
   "codemirror_mode": {
    "name": "ipython",
    "version": 3
   },
   "file_extension": ".py",
   "mimetype": "text/x-python",
   "name": "python",
   "nbconvert_exporter": "python",
   "pygments_lexer": "ipython3",
   "version": "3.9.12"
  },
  "toc": {
   "base_numbering": 1,
   "nav_menu": {},
   "number_sections": true,
   "sideBar": true,
   "skip_h1_title": true,
   "title_cell": "Table of Contents",
   "title_sidebar": "Contents",
   "toc_cell": false,
   "toc_position": {},
   "toc_section_display": true,
   "toc_window_display": false
  }
 },
 "nbformat": 4,
 "nbformat_minor": 2
}
